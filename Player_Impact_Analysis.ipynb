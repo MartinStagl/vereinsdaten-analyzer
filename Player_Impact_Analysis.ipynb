{
 "cells": [
  {
   "cell_type": "code",
   "execution_count": 4,
   "id": "5c4a5663",
   "metadata": {
    "slideshow": {
     "slide_type": "skip"
    }
   },
   "outputs": [],
   "source": [
    "#!pip install plotly\n",
    "# jupyter nbconvert Coach_Impact_Analysis.ipynb --to slides  --no-input \n",
    "#! .\\getvereinsdb.cmd\n",
    "#!pip install plotly"
   ]
  },
  {
   "cell_type": "code",
   "execution_count": 5,
   "id": "4a1d2acd",
   "metadata": {
    "slideshow": {
     "slide_type": "skip"
    }
   },
   "outputs": [],
   "source": [
    "import sqlite3\n",
    "import pandas as pd\n",
    "import matplotlib.pyplot as plt\n",
    "import matplotlib.colors as mcolors\n",
    "import plotly.express as px\n",
    "\n",
    "def query_database(query,database='verbands.db'):\n",
    "    '''\n",
    "    Load data from database\n",
    "    :param query: Specifies in an SQL Select statement which data to load\n",
    "    :param database: Path to database\n",
    "    :return: Pandas Dataframe of resultset\n",
    "    '''\n",
    "    cnx = sqlite3.connect(database)\n",
    "    df = pd.read_sql_query(query, cnx)\n",
    "    cnx.commit()\n",
    "    cnx.close()\n",
    "    return df"
   ]
  },
  {
   "cell_type": "code",
   "execution_count": 6,
   "id": "14948937",
   "metadata": {
    "slideshow": {
     "slide_type": "skip"
    }
   },
   "outputs": [],
   "source": [
    "## Queries\n",
    "query_leagues = \"\"\"\n",
    "select league,season, count(*) as games, count(distinct(t.name)) as teams\n",
    "from teams t join  (\n",
    "\tselect substr(result,0,instr(result, ':')) as homeresult,\n",
    "\t\tsubstr(result,instr(result, ':') + 1) as awayresult, cast(substr(round,0,instr(round, '.')) as INT) as current_round,\n",
    "\t\tCASE \n",
    "\t\t   WHEN replace(date,'-','') between '20110701' and '20120701' THEN '2011/12'\n",
    "\t\t   WHEN replace(date,'-','') between '20120701' and '20130701' THEN '2012/13'\n",
    "\t\t   WHEN replace(date,'-','') between '20130701' and '20140701' THEN '2013/14'\n",
    "\t\t   WHEN replace(date,'-','') between '20140701' and '20150701' THEN '2014/15'\n",
    "\t\t   WHEN replace(date,'-','') between '20150701' and '20160701' THEN '2015/16'\n",
    "\t\t   WHEN replace(date,'-','') between '20160701' and '20170701' THEN '2016/17'\n",
    "\t\t   WHEN replace(date,'-','') between '20170701' and '20180701' THEN '2017/18'\n",
    "\t\t   WHEN replace(date,'-','') between '20180701' and '20190701' THEN '2018/19'\n",
    "\t\t   WHEN replace(date,'-','') between '20190701' and '20200701' THEN '2019/20'\n",
    "\t\t   WHEN replace(date,'-','') between '20200701' and '20210701' THEN '2020/21'\n",
    "\t\t   WHEN replace(date,'-','') between '20210701' and '20220701' THEN '2021/22'\n",
    "\t\t   WHEN replace(date,'-','') between '20220701' and '20230701' THEN '2022/23'\n",
    "\t\t   ELSE 'undefined'\n",
    "\t\tEND as season ,* from matches where current_round != 0 ) \n",
    "\t\tm on (t.id=m.away_team_id or t.id=m.home_team_id) \n",
    "        where replace(date,'-','') between '{}' and '{}' and league like \"{}\"\n",
    "group by league,season\n",
    "order by league,season desc\n",
    "\"\"\"\n",
    "\n",
    "\n",
    "query_spiele_spieler = \"\"\"\n",
    "Select * from \n",
    "(\n",
    "select substr(result,0,instr(result, ':')) as homeresult,\n",
    "\t\tsubstr(result,instr(result, ':') + 1) as awayresult, cast(substr(round,0,instr(round, '.')) as INT) as current_round,\n",
    "\t\tCASE \n",
    "\t\t   WHEN replace(date,'-','') between '20110701' and '20120701' THEN '2011/12'\n",
    "\t\t   WHEN replace(date,'-','') between '20120701' and '20130701' THEN '2012/13'\n",
    "\t\t   WHEN replace(date,'-','') between '20130701' and '20140701' THEN '2013/14'\n",
    "\t\t   WHEN replace(date,'-','') between '20140701' and '20150701' THEN '2014/15'\n",
    "\t\t   WHEN replace(date,'-','') between '20150701' and '20160701' THEN '2015/16'\n",
    "\t\t   WHEN replace(date,'-','') between '20160701' and '20170701' THEN '2016/17'\n",
    "\t\t   WHEN replace(date,'-','') between '20170701' and '20180701' THEN '2017/18'\n",
    "\t\t   WHEN replace(date,'-','') between '20180701' and '20190701' THEN '2018/19'\n",
    "\t\t   WHEN replace(date,'-','') between '20190701' and '20200701' THEN '2019/20'\n",
    "\t\t   WHEN replace(date,'-','') between '20200701' and '20210701' THEN '2020/21'\n",
    "\t\t   WHEN replace(date,'-','') between '20210701' and '20220701' THEN '2021/22'\n",
    "\t\t   WHEN replace(date,'-','') between '20220701' and '20230701' THEN '2022/23'\n",
    "\t\t   ELSE 'undefined'\n",
    "\t\tEND as season\n",
    "\t\t,* from matches\n",
    "\t\twhere current_round != 0 ) m  \n",
    "\t\tjoin matches_players mp on m.id=mp.match_id \n",
    "\t\tjoin players p on mp.player_id=p.id\n",
    "\t\twhere p.name like 'Thomas Dragschitz' and result not like '%-%'\n",
    "\"\"\"\n",
    "\n",
    "\n",
    "query_team_leagues = \"\"\"\n",
    "Select t.name, m.league, count(distinct(season)) as seasons from \n",
    "(\n",
    "select substr(result,0,instr(result, ':')) as homeresult,\n",
    "\t\tsubstr(result,instr(result, ':') + 1) as awayresult, cast(substr(round,0,instr(round, '.')) as INT) as current_round,\n",
    "\t\tCASE \n",
    "\t\t   WHEN replace(date,'-','') between '20110701' and '20120701' THEN '2011/12'\n",
    "\t\t   WHEN replace(date,'-','') between '20120701' and '20130701' THEN '2012/13'\n",
    "\t\t   WHEN replace(date,'-','') between '20130701' and '20140701' THEN '2013/14'\n",
    "\t\t   WHEN replace(date,'-','') between '20140701' and '20150701' THEN '2014/15'\n",
    "\t\t   WHEN replace(date,'-','') between '20150701' and '20160701' THEN '2015/16'\n",
    "\t\t   WHEN replace(date,'-','') between '20160701' and '20170701' THEN '2016/17'\n",
    "\t\t   WHEN replace(date,'-','') between '20170701' and '20180701' THEN '2017/18'\n",
    "\t\t   WHEN replace(date,'-','') between '20180701' and '20190701' THEN '2018/19'\n",
    "\t\t   WHEN replace(date,'-','') between '20190701' and '20200701' THEN '2019/20'\n",
    "\t\t   WHEN replace(date,'-','') between '20200701' and '20210701' THEN '2020/21'\n",
    "\t\t   WHEN replace(date,'-','') between '20210701' and '20220701' THEN '2021/22'\n",
    "\t\t   WHEN replace(date,'-','') between '20220701' and '20230701' THEN '2022/23'\n",
    "\t\t   ELSE 'undefined'\n",
    "\t\tEND as season\n",
    "\t\t,* from matches\n",
    "\t\twhere current_round != 0 ) m  join teams t on (t.id=m.away_team_id or t.id=m.home_team_id)\n",
    "where m.league not like '%Reserve%'\n",
    "group by t.name, m.league\n",
    "order by t.name, m.league\n",
    "\"\"\""
   ]
  },
  {
   "cell_type": "markdown",
   "id": "3bbe50cc",
   "metadata": {
    "slideshow": {
     "slide_type": "slide"
    }
   },
   "source": [
    "# Spielerprofil"
   ]
  },
  {
   "cell_type": "code",
   "execution_count": 7,
   "id": "88d29ce8",
   "metadata": {
    "slideshow": {
     "slide_type": "skip"
    }
   },
   "outputs": [
    {
     "name": "stdout",
     "output_type": "stream",
     "text": [
      "     id                                                url               name  \\\n",
      "0  3800  https://www.oefb.at/Profile/Spieler/654332?Tho...  Thomas Dragschitz   \n",
      "\n",
      "  nationality birthyear  \n",
      "0        None      None  \n"
     ]
    }
   ],
   "source": [
    "name = 'Thomas Dragschitz'\n",
    "player=query_database(query=\"Select * from players where name like 'Thomas Dragschitz'\")\n",
    "print(player)"
   ]
  },
  {
   "cell_type": "code",
   "execution_count": 8,
   "id": "755e1523",
   "metadata": {},
   "outputs": [
    {
     "data": {
      "text/html": [
       "<div>\n",
       "<style scoped>\n",
       "    .dataframe tbody tr th:only-of-type {\n",
       "        vertical-align: middle;\n",
       "    }\n",
       "\n",
       "    .dataframe tbody tr th {\n",
       "        vertical-align: top;\n",
       "    }\n",
       "\n",
       "    .dataframe thead th {\n",
       "        text-align: right;\n",
       "    }\n",
       "</style>\n",
       "<table border=\"1\" class=\"dataframe\">\n",
       "  <thead>\n",
       "    <tr style=\"text-align: right;\">\n",
       "      <th></th>\n",
       "      <th>name</th>\n",
       "      <th>league</th>\n",
       "      <th>seasons</th>\n",
       "    </tr>\n",
       "  </thead>\n",
       "  <tbody>\n",
       "    <tr>\n",
       "      <th>83</th>\n",
       "      <td>FK Austria Wien</td>\n",
       "      <td>ADMIRAL Bundesliga - Grunddurchgang</td>\n",
       "      <td>1</td>\n",
       "    </tr>\n",
       "    <tr>\n",
       "      <th>84</th>\n",
       "      <td>FK Austria Wien</td>\n",
       "      <td>Coca-Cola Cup Bundesfinale 2016 - Finale</td>\n",
       "      <td>1</td>\n",
       "    </tr>\n",
       "    <tr>\n",
       "      <th>85</th>\n",
       "      <td>FK Austria Wien</td>\n",
       "      <td>Coca-Cola Cup Bundesfinale 2018 - Finale</td>\n",
       "      <td>1</td>\n",
       "    </tr>\n",
       "    <tr>\n",
       "      <th>86</th>\n",
       "      <td>FK Austria Wien</td>\n",
       "      <td>Planet Pure Frauen Bundesliga</td>\n",
       "      <td>1</td>\n",
       "    </tr>\n",
       "    <tr>\n",
       "      <th>87</th>\n",
       "      <td>FK Austria Wien</td>\n",
       "      <td>Tipico Bundesliga - Grunddurchgang</td>\n",
       "      <td>1</td>\n",
       "    </tr>\n",
       "    <tr>\n",
       "      <th>88</th>\n",
       "      <td>FK Austria Wien</td>\n",
       "      <td>tipp3-Bundesliga</td>\n",
       "      <td>1</td>\n",
       "    </tr>\n",
       "    <tr>\n",
       "      <th>89</th>\n",
       "      <td>FK Austria Wien</td>\n",
       "      <td>tipp3-Bundesliga powered by T-Mobile</td>\n",
       "      <td>1</td>\n",
       "    </tr>\n",
       "  </tbody>\n",
       "</table>\n",
       "</div>"
      ],
      "text/plain": [
       "               name                                    league  seasons\n",
       "83  FK Austria Wien       ADMIRAL Bundesliga - Grunddurchgang        1\n",
       "84  FK Austria Wien  Coca-Cola Cup Bundesfinale 2016 - Finale        1\n",
       "85  FK Austria Wien  Coca-Cola Cup Bundesfinale 2018 - Finale        1\n",
       "86  FK Austria Wien             Planet Pure Frauen Bundesliga        1\n",
       "87  FK Austria Wien        Tipico Bundesliga - Grunddurchgang        1\n",
       "88  FK Austria Wien                          tipp3-Bundesliga        1\n",
       "89  FK Austria Wien      tipp3-Bundesliga powered by T-Mobile        1"
      ]
     },
     "execution_count": 8,
     "metadata": {},
     "output_type": "execute_result"
    }
   ],
   "source": [
    "df=query_database(query_team_leagues,database=\"verbands.db\")#.groupby(\"league\").count().reset_index().iloc[:,:2].head(500)\n",
    "df.sort_values(\"seasons\",ascending=False)\n",
    "df.groupby(\"name\").count().reset_index().iloc[:,:2].sort_values(\"league\",ascending=False)\n",
    "#df[df[\"name\"]==\"Leithaprodersdorf\"]\n",
    "df[df[\"name\"]==\"FK Austria Wien\"]"
   ]
  },
  {
   "cell_type": "code",
   "execution_count": 9,
   "id": "37bdbde0",
   "metadata": {},
   "outputs": [
    {
     "data": {
      "text/html": [
       "<div>\n",
       "<style scoped>\n",
       "    .dataframe tbody tr th:only-of-type {\n",
       "        vertical-align: middle;\n",
       "    }\n",
       "\n",
       "    .dataframe tbody tr th {\n",
       "        vertical-align: top;\n",
       "    }\n",
       "\n",
       "    .dataframe thead th {\n",
       "        text-align: right;\n",
       "    }\n",
       "</style>\n",
       "<table border=\"1\" class=\"dataframe\">\n",
       "  <thead>\n",
       "    <tr style=\"text-align: right;\">\n",
       "      <th></th>\n",
       "      <th>id</th>\n",
       "      <th>url</th>\n",
       "      <th>date</th>\n",
       "      <th>starttime</th>\n",
       "      <th>league</th>\n",
       "      <th>round</th>\n",
       "      <th>result</th>\n",
       "      <th>away_team_id</th>\n",
       "      <th>away_team_trainer_id</th>\n",
       "      <th>home_team_id</th>\n",
       "      <th>home_team_trainer_id</th>\n",
       "    </tr>\n",
       "  </thead>\n",
       "  <tbody>\n",
       "    <tr>\n",
       "      <th>0</th>\n",
       "      <td>13131</td>\n",
       "      <td>https://www.oefb.at/bewerbe/Spiel/Aufstellung/...</td>\n",
       "      <td>2021-11-06</td>\n",
       "      <td>12:00</td>\n",
       "      <td>II. Liga Süd Reserve</td>\n",
       "      <td>15. Runde</td>\n",
       "      <td>3:0</td>\n",
       "      <td>180</td>\n",
       "      <td>534</td>\n",
       "      <td>91</td>\n",
       "      <td>262</td>\n",
       "    </tr>\n",
       "  </tbody>\n",
       "</table>\n",
       "</div>"
      ],
      "text/plain": [
       "      id                                                url        date  \\\n",
       "0  13131  https://www.oefb.at/bewerbe/Spiel/Aufstellung/...  2021-11-06   \n",
       "\n",
       "  starttime                league      round result  away_team_id  \\\n",
       "0     12:00  II. Liga Süd Reserve  15. Runde    3:0           180   \n",
       "\n",
       "   away_team_trainer_id  home_team_id  home_team_trainer_id  \n",
       "0                   534            91                   262  "
      ]
     },
     "execution_count": 9,
     "metadata": {},
     "output_type": "execute_result"
    }
   ],
   "source": [
    "query_database(\"Select count(*) from matches\") #10.11.2022 - 11579\n",
    "query_database(\"Select * from matches order by id desc limit 1\") #10.11.2022 - 11309"
   ]
  },
  {
   "cell_type": "code",
   "execution_count": 10,
   "id": "82b46f76",
   "metadata": {
    "slideshow": {
     "slide_type": "subslide"
    }
   },
   "outputs": [
    {
     "data": {
      "text/html": [
       "<div>\n",
       "<style scoped>\n",
       "    .dataframe tbody tr th:only-of-type {\n",
       "        vertical-align: middle;\n",
       "    }\n",
       "\n",
       "    .dataframe tbody tr th {\n",
       "        vertical-align: top;\n",
       "    }\n",
       "\n",
       "    .dataframe thead th {\n",
       "        text-align: right;\n",
       "    }\n",
       "</style>\n",
       "<table border=\"1\" class=\"dataframe\">\n",
       "  <thead>\n",
       "    <tr style=\"text-align: right;\">\n",
       "      <th></th>\n",
       "      <th>league</th>\n",
       "      <th>season</th>\n",
       "      <th>games</th>\n",
       "      <th>teams</th>\n",
       "    </tr>\n",
       "  </thead>\n",
       "  <tbody>\n",
       "    <tr>\n",
       "      <th>0</th>\n",
       "      <td>1. Kl. Mitte Cup - 1. Kl. Cup A</td>\n",
       "      <td>2022/23</td>\n",
       "      <td>2</td>\n",
       "      <td>2</td>\n",
       "    </tr>\n",
       "    <tr>\n",
       "      <th>1</th>\n",
       "      <td>1. Kl. Mitte Cup - 1. Kl. Cup D</td>\n",
       "      <td>2022/23</td>\n",
       "      <td>2</td>\n",
       "      <td>2</td>\n",
       "    </tr>\n",
       "    <tr>\n",
       "      <th>2</th>\n",
       "      <td>1. Klasse Mitte</td>\n",
       "      <td>2022/23</td>\n",
       "      <td>156</td>\n",
       "      <td>13</td>\n",
       "    </tr>\n",
       "    <tr>\n",
       "      <th>3</th>\n",
       "      <td>1. Klasse Mitte</td>\n",
       "      <td>2021/22</td>\n",
       "      <td>366</td>\n",
       "      <td>14</td>\n",
       "    </tr>\n",
       "    <tr>\n",
       "      <th>4</th>\n",
       "      <td>1. Klasse Mitte</td>\n",
       "      <td>2018/19</td>\n",
       "      <td>366</td>\n",
       "      <td>14</td>\n",
       "    </tr>\n",
       "    <tr>\n",
       "      <th>5</th>\n",
       "      <td>1. Klasse Mitte Reserve</td>\n",
       "      <td>2022/23</td>\n",
       "      <td>132</td>\n",
       "      <td>12</td>\n",
       "    </tr>\n",
       "    <tr>\n",
       "      <th>6</th>\n",
       "      <td>1. Klasse Mitte Reserve</td>\n",
       "      <td>2021/22</td>\n",
       "      <td>312</td>\n",
       "      <td>13</td>\n",
       "    </tr>\n",
       "    <tr>\n",
       "      <th>7</th>\n",
       "      <td>1. Klasse Mitte Reserve</td>\n",
       "      <td>2020/21</td>\n",
       "      <td>92</td>\n",
       "      <td>13</td>\n",
       "    </tr>\n",
       "    <tr>\n",
       "      <th>8</th>\n",
       "      <td>1. Klasse Mitte Reserve</td>\n",
       "      <td>2018/19</td>\n",
       "      <td>312</td>\n",
       "      <td>13</td>\n",
       "    </tr>\n",
       "    <tr>\n",
       "      <th>9</th>\n",
       "      <td>1. Klasse Nord</td>\n",
       "      <td>undefined</td>\n",
       "      <td>2</td>\n",
       "      <td>2</td>\n",
       "    </tr>\n",
       "    <tr>\n",
       "      <th>10</th>\n",
       "      <td>1. Klasse Nord</td>\n",
       "      <td>2022/23</td>\n",
       "      <td>182</td>\n",
       "      <td>14</td>\n",
       "    </tr>\n",
       "    <tr>\n",
       "      <th>11</th>\n",
       "      <td>1. Klasse Nord</td>\n",
       "      <td>2019/20</td>\n",
       "      <td>182</td>\n",
       "      <td>14</td>\n",
       "    </tr>\n",
       "    <tr>\n",
       "      <th>12</th>\n",
       "      <td>1. Klasse Nord</td>\n",
       "      <td>2015/16</td>\n",
       "      <td>364</td>\n",
       "      <td>14</td>\n",
       "    </tr>\n",
       "    <tr>\n",
       "      <th>13</th>\n",
       "      <td>1. Klasse Nord</td>\n",
       "      <td>2013/14</td>\n",
       "      <td>366</td>\n",
       "      <td>14</td>\n",
       "    </tr>\n",
       "    <tr>\n",
       "      <th>14</th>\n",
       "      <td>1. Klasse Nord Reserve</td>\n",
       "      <td>2022/23</td>\n",
       "      <td>182</td>\n",
       "      <td>14</td>\n",
       "    </tr>\n",
       "    <tr>\n",
       "      <th>15</th>\n",
       "      <td>1. Klasse Nord Reserve</td>\n",
       "      <td>2021/22</td>\n",
       "      <td>364</td>\n",
       "      <td>14</td>\n",
       "    </tr>\n",
       "    <tr>\n",
       "      <th>16</th>\n",
       "      <td>1. Klasse Nord Reserve</td>\n",
       "      <td>2015/16</td>\n",
       "      <td>364</td>\n",
       "      <td>14</td>\n",
       "    </tr>\n",
       "    <tr>\n",
       "      <th>17</th>\n",
       "      <td>1. Klasse Süd</td>\n",
       "      <td>2022/23</td>\n",
       "      <td>182</td>\n",
       "      <td>14</td>\n",
       "    </tr>\n",
       "    <tr>\n",
       "      <th>18</th>\n",
       "      <td>1. Klasse Süd</td>\n",
       "      <td>2021/22</td>\n",
       "      <td>312</td>\n",
       "      <td>13</td>\n",
       "    </tr>\n",
       "    <tr>\n",
       "      <th>19</th>\n",
       "      <td>1. Klasse Süd</td>\n",
       "      <td>2020/21</td>\n",
       "      <td>2</td>\n",
       "      <td>2</td>\n",
       "    </tr>\n",
       "    <tr>\n",
       "      <th>20</th>\n",
       "      <td>1. Klasse Süd</td>\n",
       "      <td>2019/20</td>\n",
       "      <td>2</td>\n",
       "      <td>2</td>\n",
       "    </tr>\n",
       "    <tr>\n",
       "      <th>21</th>\n",
       "      <td>1. Klasse Süd</td>\n",
       "      <td>2018/19</td>\n",
       "      <td>2</td>\n",
       "      <td>2</td>\n",
       "    </tr>\n",
       "    <tr>\n",
       "      <th>22</th>\n",
       "      <td>1. Klasse Süd</td>\n",
       "      <td>2016/17</td>\n",
       "      <td>2</td>\n",
       "      <td>2</td>\n",
       "    </tr>\n",
       "    <tr>\n",
       "      <th>23</th>\n",
       "      <td>1. Klasse Süd B</td>\n",
       "      <td>undefined</td>\n",
       "      <td>312</td>\n",
       "      <td>13</td>\n",
       "    </tr>\n",
       "    <tr>\n",
       "      <th>24</th>\n",
       "      <td>1. Klasse Süd Reserve</td>\n",
       "      <td>2022/23</td>\n",
       "      <td>182</td>\n",
       "      <td>14</td>\n",
       "    </tr>\n",
       "    <tr>\n",
       "      <th>25</th>\n",
       "      <td>1. Klasse Süd Reserve</td>\n",
       "      <td>2020/21</td>\n",
       "      <td>102</td>\n",
       "      <td>13</td>\n",
       "    </tr>\n",
       "    <tr>\n",
       "      <th>26</th>\n",
       "      <td>2. Kl. Mitte Cup  - 2 Kl. Cup B</td>\n",
       "      <td>2022/23</td>\n",
       "      <td>2</td>\n",
       "      <td>2</td>\n",
       "    </tr>\n",
       "    <tr>\n",
       "      <th>27</th>\n",
       "      <td>2. Kl. Mitte Cup  - 2. Kl. Cup A</td>\n",
       "      <td>2022/23</td>\n",
       "      <td>2</td>\n",
       "      <td>2</td>\n",
       "    </tr>\n",
       "    <tr>\n",
       "      <th>28</th>\n",
       "      <td>2. Kl. Mitte Cup  - 2. Kl. Cup C</td>\n",
       "      <td>2022/23</td>\n",
       "      <td>2</td>\n",
       "      <td>2</td>\n",
       "    </tr>\n",
       "    <tr>\n",
       "      <th>29</th>\n",
       "      <td>2. Kl. Mitte Cup  - 2. Kl. Cup D</td>\n",
       "      <td>2022/23</td>\n",
       "      <td>6</td>\n",
       "      <td>2</td>\n",
       "    </tr>\n",
       "    <tr>\n",
       "      <th>30</th>\n",
       "      <td>2. Klasse Mitte</td>\n",
       "      <td>undefined</td>\n",
       "      <td>312</td>\n",
       "      <td>13</td>\n",
       "    </tr>\n",
       "    <tr>\n",
       "      <th>31</th>\n",
       "      <td>2. Klasse Mitte</td>\n",
       "      <td>2022/23</td>\n",
       "      <td>132</td>\n",
       "      <td>12</td>\n",
       "    </tr>\n",
       "    <tr>\n",
       "      <th>32</th>\n",
       "      <td>2. Klasse Mitte</td>\n",
       "      <td>2021/22</td>\n",
       "      <td>2</td>\n",
       "      <td>2</td>\n",
       "    </tr>\n",
       "    <tr>\n",
       "      <th>33</th>\n",
       "      <td>2. Klasse Mitte</td>\n",
       "      <td>2019/20</td>\n",
       "      <td>180</td>\n",
       "      <td>13</td>\n",
       "    </tr>\n",
       "    <tr>\n",
       "      <th>34</th>\n",
       "      <td>2. Klasse Mitte</td>\n",
       "      <td>2018/19</td>\n",
       "      <td>368</td>\n",
       "      <td>14</td>\n",
       "    </tr>\n",
       "    <tr>\n",
       "      <th>35</th>\n",
       "      <td>2. Klasse Mitte</td>\n",
       "      <td>2017/18</td>\n",
       "      <td>430</td>\n",
       "      <td>15</td>\n",
       "    </tr>\n",
       "    <tr>\n",
       "      <th>36</th>\n",
       "      <td>2. Klasse Mitte</td>\n",
       "      <td>2016/17</td>\n",
       "      <td>424</td>\n",
       "      <td>15</td>\n",
       "    </tr>\n",
       "    <tr>\n",
       "      <th>37</th>\n",
       "      <td>2. Klasse Mitte</td>\n",
       "      <td>2015/16</td>\n",
       "      <td>366</td>\n",
       "      <td>14</td>\n",
       "    </tr>\n",
       "    <tr>\n",
       "      <th>38</th>\n",
       "      <td>2. Klasse Mitte Reserve</td>\n",
       "      <td>2022/23</td>\n",
       "      <td>110</td>\n",
       "      <td>11</td>\n",
       "    </tr>\n",
       "    <tr>\n",
       "      <th>39</th>\n",
       "      <td>2. Klasse Nord</td>\n",
       "      <td>2022/23</td>\n",
       "      <td>156</td>\n",
       "      <td>13</td>\n",
       "    </tr>\n",
       "    <tr>\n",
       "      <th>40</th>\n",
       "      <td>2. Klasse Nord</td>\n",
       "      <td>2021/22</td>\n",
       "      <td>2</td>\n",
       "      <td>2</td>\n",
       "    </tr>\n",
       "    <tr>\n",
       "      <th>41</th>\n",
       "      <td>2. Klasse Nord</td>\n",
       "      <td>2019/20</td>\n",
       "      <td>156</td>\n",
       "      <td>13</td>\n",
       "    </tr>\n",
       "    <tr>\n",
       "      <th>42</th>\n",
       "      <td>2. Klasse Nord</td>\n",
       "      <td>2018/19</td>\n",
       "      <td>2</td>\n",
       "      <td>2</td>\n",
       "    </tr>\n",
       "    <tr>\n",
       "      <th>43</th>\n",
       "      <td>2. Klasse Nord</td>\n",
       "      <td>2017/18</td>\n",
       "      <td>2</td>\n",
       "      <td>2</td>\n",
       "    </tr>\n",
       "    <tr>\n",
       "      <th>44</th>\n",
       "      <td>2. Klasse Nord Reserve</td>\n",
       "      <td>2022/23</td>\n",
       "      <td>130</td>\n",
       "      <td>12</td>\n",
       "    </tr>\n",
       "    <tr>\n",
       "      <th>45</th>\n",
       "      <td>2. Klasse Nord Reserve</td>\n",
       "      <td>2018/19</td>\n",
       "      <td>364</td>\n",
       "      <td>14</td>\n",
       "    </tr>\n",
       "    <tr>\n",
       "      <th>46</th>\n",
       "      <td>2. Klasse Süd A</td>\n",
       "      <td>2022/23</td>\n",
       "      <td>90</td>\n",
       "      <td>7</td>\n",
       "    </tr>\n",
       "    <tr>\n",
       "      <th>47</th>\n",
       "      <td>2. Klasse Süd A</td>\n",
       "      <td>2021/22</td>\n",
       "      <td>112</td>\n",
       "      <td>8</td>\n",
       "    </tr>\n",
       "    <tr>\n",
       "      <th>48</th>\n",
       "      <td>2. Klasse Süd A</td>\n",
       "      <td>2020/21</td>\n",
       "      <td>70</td>\n",
       "      <td>8</td>\n",
       "    </tr>\n",
       "    <tr>\n",
       "      <th>49</th>\n",
       "      <td>2. Klasse Süd A</td>\n",
       "      <td>2019/20</td>\n",
       "      <td>156</td>\n",
       "      <td>13</td>\n",
       "    </tr>\n",
       "    <tr>\n",
       "      <th>50</th>\n",
       "      <td>2. Klasse Süd A Reserve</td>\n",
       "      <td>2022/23</td>\n",
       "      <td>90</td>\n",
       "      <td>7</td>\n",
       "    </tr>\n",
       "    <tr>\n",
       "      <th>51</th>\n",
       "      <td>2. Klasse Süd B</td>\n",
       "      <td>2022/23</td>\n",
       "      <td>90</td>\n",
       "      <td>7</td>\n",
       "    </tr>\n",
       "    <tr>\n",
       "      <th>52</th>\n",
       "      <td>2. Klasse Süd B Reserve</td>\n",
       "      <td>2022/23</td>\n",
       "      <td>90</td>\n",
       "      <td>7</td>\n",
       "    </tr>\n",
       "    <tr>\n",
       "      <th>53</th>\n",
       "      <td>2. Klasse Süd B Reserve</td>\n",
       "      <td>2020/21</td>\n",
       "      <td>66</td>\n",
       "      <td>8</td>\n",
       "    </tr>\n",
       "    <tr>\n",
       "      <th>54</th>\n",
       "      <td>2. Klasse Süd C</td>\n",
       "      <td>2022/23</td>\n",
       "      <td>90</td>\n",
       "      <td>7</td>\n",
       "    </tr>\n",
       "    <tr>\n",
       "      <th>55</th>\n",
       "      <td>2. Klasse Süd C Reserve</td>\n",
       "      <td>2022/23</td>\n",
       "      <td>90</td>\n",
       "      <td>7</td>\n",
       "    </tr>\n",
       "    <tr>\n",
       "      <th>56</th>\n",
       "      <td>ADMIRAL Bundesliga - Grunddurchgang</td>\n",
       "      <td>2022/23</td>\n",
       "      <td>174</td>\n",
       "      <td>12</td>\n",
       "    </tr>\n",
       "    <tr>\n",
       "      <th>57</th>\n",
       "      <td>BVZ Burgenlandliga</td>\n",
       "      <td>undefined</td>\n",
       "      <td>962</td>\n",
       "      <td>21</td>\n",
       "    </tr>\n",
       "    <tr>\n",
       "      <th>58</th>\n",
       "      <td>BVZ Burgenlandliga</td>\n",
       "      <td>2017/18</td>\n",
       "      <td>2</td>\n",
       "      <td>2</td>\n",
       "    </tr>\n",
       "    <tr>\n",
       "      <th>59</th>\n",
       "      <td>BVZ Burgenlandliga</td>\n",
       "      <td>2016/17</td>\n",
       "      <td>4</td>\n",
       "      <td>4</td>\n",
       "    </tr>\n",
       "    <tr>\n",
       "      <th>60</th>\n",
       "      <td>BVZ Burgenlandliga</td>\n",
       "      <td>2015/16</td>\n",
       "      <td>2</td>\n",
       "      <td>2</td>\n",
       "    </tr>\n",
       "    <tr>\n",
       "      <th>61</th>\n",
       "      <td>BVZ Burgenlandliga</td>\n",
       "      <td>2014/15</td>\n",
       "      <td>426</td>\n",
       "      <td>15</td>\n",
       "    </tr>\n",
       "    <tr>\n",
       "      <th>62</th>\n",
       "      <td>BVZ Burgenlandliga</td>\n",
       "      <td>2013/14</td>\n",
       "      <td>480</td>\n",
       "      <td>16</td>\n",
       "    </tr>\n",
       "    <tr>\n",
       "      <th>63</th>\n",
       "      <td>BVZ Burgenlandliga</td>\n",
       "      <td>2012/13</td>\n",
       "      <td>482</td>\n",
       "      <td>16</td>\n",
       "    </tr>\n",
       "    <tr>\n",
       "      <th>64</th>\n",
       "      <td>BVZ Burgenlandliga</td>\n",
       "      <td>2011/12</td>\n",
       "      <td>482</td>\n",
       "      <td>16</td>\n",
       "    </tr>\n",
       "    <tr>\n",
       "      <th>65</th>\n",
       "      <td>Burgenlandliga</td>\n",
       "      <td>2022/23</td>\n",
       "      <td>240</td>\n",
       "      <td>16</td>\n",
       "    </tr>\n",
       "    <tr>\n",
       "      <th>66</th>\n",
       "      <td>Burgenlandliga</td>\n",
       "      <td>2021/22</td>\n",
       "      <td>420</td>\n",
       "      <td>15</td>\n",
       "    </tr>\n",
       "    <tr>\n",
       "      <th>67</th>\n",
       "      <td>Burgenlandliga</td>\n",
       "      <td>2020/21</td>\n",
       "      <td>2</td>\n",
       "      <td>2</td>\n",
       "    </tr>\n",
       "    <tr>\n",
       "      <th>68</th>\n",
       "      <td>Burgenlandliga</td>\n",
       "      <td>2019/20</td>\n",
       "      <td>2</td>\n",
       "      <td>2</td>\n",
       "    </tr>\n",
       "    <tr>\n",
       "      <th>69</th>\n",
       "      <td>Burgenlandliga</td>\n",
       "      <td>2018/19</td>\n",
       "      <td>2</td>\n",
       "      <td>2</td>\n",
       "    </tr>\n",
       "    <tr>\n",
       "      <th>70</th>\n",
       "      <td>Burgenlandliga Reserve</td>\n",
       "      <td>2022/23</td>\n",
       "      <td>240</td>\n",
       "      <td>16</td>\n",
       "    </tr>\n",
       "    <tr>\n",
       "      <th>71</th>\n",
       "      <td>Burgenlandliga Reserve</td>\n",
       "      <td>2021/22</td>\n",
       "      <td>420</td>\n",
       "      <td>15</td>\n",
       "    </tr>\n",
       "    <tr>\n",
       "      <th>72</th>\n",
       "      <td>Coca-Cola Cup Bundesfinale 2015 - Finale</td>\n",
       "      <td>2014/15</td>\n",
       "      <td>2</td>\n",
       "      <td>2</td>\n",
       "    </tr>\n",
       "    <tr>\n",
       "      <th>73</th>\n",
       "      <td>Coca-Cola Cup Bundesfinale 2016 - Finale</td>\n",
       "      <td>2015/16</td>\n",
       "      <td>2</td>\n",
       "      <td>2</td>\n",
       "    </tr>\n",
       "    <tr>\n",
       "      <th>74</th>\n",
       "      <td>Coca-Cola Cup Bundesfinale 2018 - Finale</td>\n",
       "      <td>2017/18</td>\n",
       "      <td>2</td>\n",
       "      <td>2</td>\n",
       "    </tr>\n",
       "    <tr>\n",
       "      <th>75</th>\n",
       "      <td>II. Liga Mitte</td>\n",
       "      <td>undefined</td>\n",
       "      <td>2</td>\n",
       "      <td>2</td>\n",
       "    </tr>\n",
       "    <tr>\n",
       "      <th>76</th>\n",
       "      <td>II. Liga Mitte</td>\n",
       "      <td>2022/23</td>\n",
       "      <td>240</td>\n",
       "      <td>16</td>\n",
       "    </tr>\n",
       "    <tr>\n",
       "      <th>77</th>\n",
       "      <td>II. Liga Mitte</td>\n",
       "      <td>2021/22</td>\n",
       "      <td>2</td>\n",
       "      <td>2</td>\n",
       "    </tr>\n",
       "    <tr>\n",
       "      <th>78</th>\n",
       "      <td>II. Liga Mitte</td>\n",
       "      <td>2018/19</td>\n",
       "      <td>2</td>\n",
       "      <td>2</td>\n",
       "    </tr>\n",
       "    <tr>\n",
       "      <th>79</th>\n",
       "      <td>II. Liga Mitte</td>\n",
       "      <td>2017/18</td>\n",
       "      <td>482</td>\n",
       "      <td>16</td>\n",
       "    </tr>\n",
       "    <tr>\n",
       "      <th>80</th>\n",
       "      <td>II. Liga Mitte Reserve</td>\n",
       "      <td>2022/23</td>\n",
       "      <td>210</td>\n",
       "      <td>15</td>\n",
       "    </tr>\n",
       "    <tr>\n",
       "      <th>81</th>\n",
       "      <td>II. Liga Mitte Reserve</td>\n",
       "      <td>2020/21</td>\n",
       "      <td>124</td>\n",
       "      <td>16</td>\n",
       "    </tr>\n",
       "    <tr>\n",
       "      <th>82</th>\n",
       "      <td>II. Liga Mitte Reserve</td>\n",
       "      <td>2018/19</td>\n",
       "      <td>480</td>\n",
       "      <td>16</td>\n",
       "    </tr>\n",
       "    <tr>\n",
       "      <th>83</th>\n",
       "      <td>II. Liga Mitte Reserve</td>\n",
       "      <td>2016/17</td>\n",
       "      <td>426</td>\n",
       "      <td>15</td>\n",
       "    </tr>\n",
       "    <tr>\n",
       "      <th>84</th>\n",
       "      <td>II. Liga Nord</td>\n",
       "      <td>undefined</td>\n",
       "      <td>486</td>\n",
       "      <td>16</td>\n",
       "    </tr>\n",
       "    <tr>\n",
       "      <th>85</th>\n",
       "      <td>II. Liga Nord</td>\n",
       "      <td>2022/23</td>\n",
       "      <td>182</td>\n",
       "      <td>14</td>\n",
       "    </tr>\n",
       "    <tr>\n",
       "      <th>86</th>\n",
       "      <td>II. Liga Nord</td>\n",
       "      <td>2018/19</td>\n",
       "      <td>364</td>\n",
       "      <td>14</td>\n",
       "    </tr>\n",
       "    <tr>\n",
       "      <th>87</th>\n",
       "      <td>II. Liga Nord</td>\n",
       "      <td>2017/18</td>\n",
       "      <td>364</td>\n",
       "      <td>14</td>\n",
       "    </tr>\n",
       "    <tr>\n",
       "      <th>88</th>\n",
       "      <td>II. Liga Nord Reserve</td>\n",
       "      <td>2022/23</td>\n",
       "      <td>182</td>\n",
       "      <td>14</td>\n",
       "    </tr>\n",
       "    <tr>\n",
       "      <th>89</th>\n",
       "      <td>II. Liga Nord Reserve</td>\n",
       "      <td>2020/21</td>\n",
       "      <td>100</td>\n",
       "      <td>13</td>\n",
       "    </tr>\n",
       "    <tr>\n",
       "      <th>90</th>\n",
       "      <td>II. Liga Süd</td>\n",
       "      <td>undefined</td>\n",
       "      <td>364</td>\n",
       "      <td>14</td>\n",
       "    </tr>\n",
       "    <tr>\n",
       "      <th>91</th>\n",
       "      <td>II. Liga Süd</td>\n",
       "      <td>2022/23</td>\n",
       "      <td>240</td>\n",
       "      <td>16</td>\n",
       "    </tr>\n",
       "    <tr>\n",
       "      <th>92</th>\n",
       "      <td>II. Liga Süd</td>\n",
       "      <td>2021/22</td>\n",
       "      <td>482</td>\n",
       "      <td>16</td>\n",
       "    </tr>\n",
       "    <tr>\n",
       "      <th>93</th>\n",
       "      <td>II. Liga Süd</td>\n",
       "      <td>2018/19</td>\n",
       "      <td>484</td>\n",
       "      <td>16</td>\n",
       "    </tr>\n",
       "    <tr>\n",
       "      <th>94</th>\n",
       "      <td>II. Liga Süd</td>\n",
       "      <td>2016/17</td>\n",
       "      <td>2</td>\n",
       "      <td>2</td>\n",
       "    </tr>\n",
       "    <tr>\n",
       "      <th>95</th>\n",
       "      <td>II. Liga Süd</td>\n",
       "      <td>2013/14</td>\n",
       "      <td>616</td>\n",
       "      <td>18</td>\n",
       "    </tr>\n",
       "    <tr>\n",
       "      <th>96</th>\n",
       "      <td>II. Liga Süd</td>\n",
       "      <td>2012/13</td>\n",
       "      <td>612</td>\n",
       "      <td>18</td>\n",
       "    </tr>\n",
       "    <tr>\n",
       "      <th>97</th>\n",
       "      <td>II. Liga Süd</td>\n",
       "      <td>2011/12</td>\n",
       "      <td>364</td>\n",
       "      <td>14</td>\n",
       "    </tr>\n",
       "    <tr>\n",
       "      <th>98</th>\n",
       "      <td>II. Liga Süd Reserve</td>\n",
       "      <td>2022/23</td>\n",
       "      <td>240</td>\n",
       "      <td>16</td>\n",
       "    </tr>\n",
       "    <tr>\n",
       "      <th>99</th>\n",
       "      <td>II. Liga Süd Reserve</td>\n",
       "      <td>2021/22</td>\n",
       "      <td>308</td>\n",
       "      <td>16</td>\n",
       "    </tr>\n",
       "    <tr>\n",
       "      <th>100</th>\n",
       "      <td>II. Liga Süd Reserve</td>\n",
       "      <td>2020/21</td>\n",
       "      <td>154</td>\n",
       "      <td>16</td>\n",
       "    </tr>\n",
       "    <tr>\n",
       "      <th>101</th>\n",
       "      <td>II. Liga Süd Reserve</td>\n",
       "      <td>2019/20</td>\n",
       "      <td>268</td>\n",
       "      <td>16</td>\n",
       "    </tr>\n",
       "    <tr>\n",
       "      <th>102</th>\n",
       "      <td>II. Liga Süd Reserve</td>\n",
       "      <td>2016/17</td>\n",
       "      <td>480</td>\n",
       "      <td>16</td>\n",
       "    </tr>\n",
       "    <tr>\n",
       "      <th>103</th>\n",
       "      <td>Planet Pure Frauen Bundesliga</td>\n",
       "      <td>2022/23</td>\n",
       "      <td>84</td>\n",
       "      <td>10</td>\n",
       "    </tr>\n",
       "    <tr>\n",
       "      <th>104</th>\n",
       "      <td>RLO Liga Cup 2022/2023</td>\n",
       "      <td>2022/23</td>\n",
       "      <td>14</td>\n",
       "      <td>14</td>\n",
       "    </tr>\n",
       "    <tr>\n",
       "      <th>105</th>\n",
       "      <td>Regionalliga Ost</td>\n",
       "      <td>undefined</td>\n",
       "      <td>486</td>\n",
       "      <td>16</td>\n",
       "    </tr>\n",
       "    <tr>\n",
       "      <th>106</th>\n",
       "      <td>Regionalliga Ost</td>\n",
       "      <td>2022/23</td>\n",
       "      <td>240</td>\n",
       "      <td>16</td>\n",
       "    </tr>\n",
       "    <tr>\n",
       "      <th>107</th>\n",
       "      <td>Regionalliga Ost</td>\n",
       "      <td>2021/22</td>\n",
       "      <td>364</td>\n",
       "      <td>14</td>\n",
       "    </tr>\n",
       "    <tr>\n",
       "      <th>108</th>\n",
       "      <td>Regionalliga Ost</td>\n",
       "      <td>2016/17</td>\n",
       "      <td>420</td>\n",
       "      <td>15</td>\n",
       "    </tr>\n",
       "    <tr>\n",
       "      <th>109</th>\n",
       "      <td>Regionalliga Ost</td>\n",
       "      <td>2014/15</td>\n",
       "      <td>484</td>\n",
       "      <td>16</td>\n",
       "    </tr>\n",
       "    <tr>\n",
       "      <th>110</th>\n",
       "      <td>Regionalliga Ost</td>\n",
       "      <td>2013/14</td>\n",
       "      <td>484</td>\n",
       "      <td>16</td>\n",
       "    </tr>\n",
       "    <tr>\n",
       "      <th>111</th>\n",
       "      <td>Regionalliga Ost</td>\n",
       "      <td>2012/13</td>\n",
       "      <td>480</td>\n",
       "      <td>16</td>\n",
       "    </tr>\n",
       "    <tr>\n",
       "      <th>112</th>\n",
       "      <td>Regionalliga Ost</td>\n",
       "      <td>2011/12</td>\n",
       "      <td>480</td>\n",
       "      <td>16</td>\n",
       "    </tr>\n",
       "    <tr>\n",
       "      <th>113</th>\n",
       "      <td>Regionalliga Salzburg</td>\n",
       "      <td>2022/23</td>\n",
       "      <td>216</td>\n",
       "      <td>12</td>\n",
       "    </tr>\n",
       "    <tr>\n",
       "      <th>114</th>\n",
       "      <td>Regionalliga West</td>\n",
       "      <td>2021/22</td>\n",
       "      <td>2</td>\n",
       "      <td>2</td>\n",
       "    </tr>\n",
       "    <tr>\n",
       "      <th>115</th>\n",
       "      <td>T-Mobile Bundesliga</td>\n",
       "      <td>undefined</td>\n",
       "      <td>2</td>\n",
       "      <td>2</td>\n",
       "    </tr>\n",
       "    <tr>\n",
       "      <th>116</th>\n",
       "      <td>Tipico Bundesliga - Grunddurchgang</td>\n",
       "      <td>2020/21</td>\n",
       "      <td>264</td>\n",
       "      <td>12</td>\n",
       "    </tr>\n",
       "    <tr>\n",
       "      <th>117</th>\n",
       "      <td>U11 Nord A</td>\n",
       "      <td>2022/23</td>\n",
       "      <td>2</td>\n",
       "      <td>2</td>\n",
       "    </tr>\n",
       "    <tr>\n",
       "      <th>118</th>\n",
       "      <td>U12 Nord A</td>\n",
       "      <td>2022/23</td>\n",
       "      <td>2</td>\n",
       "      <td>2</td>\n",
       "    </tr>\n",
       "    <tr>\n",
       "      <th>119</th>\n",
       "      <td>U13 Mädchen Mitte</td>\n",
       "      <td>2022/23</td>\n",
       "      <td>2</td>\n",
       "      <td>2</td>\n",
       "    </tr>\n",
       "    <tr>\n",
       "      <th>120</th>\n",
       "      <td>U13 Nord A</td>\n",
       "      <td>2022/23</td>\n",
       "      <td>54</td>\n",
       "      <td>6</td>\n",
       "    </tr>\n",
       "    <tr>\n",
       "      <th>121</th>\n",
       "      <td>U14 Bundesländernachwuchsmeisterschaft Burschen</td>\n",
       "      <td>2022/23</td>\n",
       "      <td>2</td>\n",
       "      <td>2</td>\n",
       "    </tr>\n",
       "    <tr>\n",
       "      <th>122</th>\n",
       "      <td>U14 Nord</td>\n",
       "      <td>2022/23</td>\n",
       "      <td>52</td>\n",
       "      <td>6</td>\n",
       "    </tr>\n",
       "    <tr>\n",
       "      <th>123</th>\n",
       "      <td>U15 Nord</td>\n",
       "      <td>2022/23</td>\n",
       "      <td>2</td>\n",
       "      <td>2</td>\n",
       "    </tr>\n",
       "    <tr>\n",
       "      <th>124</th>\n",
       "      <td>U16 Nord</td>\n",
       "      <td>2022/23</td>\n",
       "      <td>2</td>\n",
       "      <td>2</td>\n",
       "    </tr>\n",
       "    <tr>\n",
       "      <th>125</th>\n",
       "      <td>UNIQA ÖFB Cup</td>\n",
       "      <td>2022/23</td>\n",
       "      <td>2</td>\n",
       "      <td>2</td>\n",
       "    </tr>\n",
       "    <tr>\n",
       "      <th>126</th>\n",
       "      <td>tipp3-Bundesliga</td>\n",
       "      <td>undefined</td>\n",
       "      <td>362</td>\n",
       "      <td>11</td>\n",
       "    </tr>\n",
       "    <tr>\n",
       "      <th>127</th>\n",
       "      <td>tipp3-Bundesliga powered by T-Mobile</td>\n",
       "      <td>2012/13</td>\n",
       "      <td>2</td>\n",
       "      <td>2</td>\n",
       "    </tr>\n",
       "    <tr>\n",
       "      <th>128</th>\n",
       "      <td>tt.com RL Tirol - GD</td>\n",
       "      <td>2022/23</td>\n",
       "      <td>216</td>\n",
       "      <td>12</td>\n",
       "    </tr>\n",
       "  </tbody>\n",
       "</table>\n",
       "</div>"
      ],
      "text/plain": [
       "                                              league     season  games  teams\n",
       "0                    1. Kl. Mitte Cup - 1. Kl. Cup A    2022/23      2      2\n",
       "1                    1. Kl. Mitte Cup - 1. Kl. Cup D    2022/23      2      2\n",
       "2                                    1. Klasse Mitte    2022/23    156     13\n",
       "3                                    1. Klasse Mitte    2021/22    366     14\n",
       "4                                    1. Klasse Mitte    2018/19    366     14\n",
       "5                            1. Klasse Mitte Reserve    2022/23    132     12\n",
       "6                            1. Klasse Mitte Reserve    2021/22    312     13\n",
       "7                            1. Klasse Mitte Reserve    2020/21     92     13\n",
       "8                            1. Klasse Mitte Reserve    2018/19    312     13\n",
       "9                                     1. Klasse Nord  undefined      2      2\n",
       "10                                    1. Klasse Nord    2022/23    182     14\n",
       "11                                    1. Klasse Nord    2019/20    182     14\n",
       "12                                    1. Klasse Nord    2015/16    364     14\n",
       "13                                    1. Klasse Nord    2013/14    366     14\n",
       "14                            1. Klasse Nord Reserve    2022/23    182     14\n",
       "15                            1. Klasse Nord Reserve    2021/22    364     14\n",
       "16                            1. Klasse Nord Reserve    2015/16    364     14\n",
       "17                                     1. Klasse Süd    2022/23    182     14\n",
       "18                                     1. Klasse Süd    2021/22    312     13\n",
       "19                                     1. Klasse Süd    2020/21      2      2\n",
       "20                                     1. Klasse Süd    2019/20      2      2\n",
       "21                                     1. Klasse Süd    2018/19      2      2\n",
       "22                                     1. Klasse Süd    2016/17      2      2\n",
       "23                                   1. Klasse Süd B  undefined    312     13\n",
       "24                             1. Klasse Süd Reserve    2022/23    182     14\n",
       "25                             1. Klasse Süd Reserve    2020/21    102     13\n",
       "26                   2. Kl. Mitte Cup  - 2 Kl. Cup B    2022/23      2      2\n",
       "27                  2. Kl. Mitte Cup  - 2. Kl. Cup A    2022/23      2      2\n",
       "28                  2. Kl. Mitte Cup  - 2. Kl. Cup C    2022/23      2      2\n",
       "29                  2. Kl. Mitte Cup  - 2. Kl. Cup D    2022/23      6      2\n",
       "30                                   2. Klasse Mitte  undefined    312     13\n",
       "31                                   2. Klasse Mitte    2022/23    132     12\n",
       "32                                   2. Klasse Mitte    2021/22      2      2\n",
       "33                                   2. Klasse Mitte    2019/20    180     13\n",
       "34                                   2. Klasse Mitte    2018/19    368     14\n",
       "35                                   2. Klasse Mitte    2017/18    430     15\n",
       "36                                   2. Klasse Mitte    2016/17    424     15\n",
       "37                                   2. Klasse Mitte    2015/16    366     14\n",
       "38                           2. Klasse Mitte Reserve    2022/23    110     11\n",
       "39                                    2. Klasse Nord    2022/23    156     13\n",
       "40                                    2. Klasse Nord    2021/22      2      2\n",
       "41                                    2. Klasse Nord    2019/20    156     13\n",
       "42                                    2. Klasse Nord    2018/19      2      2\n",
       "43                                    2. Klasse Nord    2017/18      2      2\n",
       "44                            2. Klasse Nord Reserve    2022/23    130     12\n",
       "45                            2. Klasse Nord Reserve    2018/19    364     14\n",
       "46                                   2. Klasse Süd A    2022/23     90      7\n",
       "47                                   2. Klasse Süd A    2021/22    112      8\n",
       "48                                   2. Klasse Süd A    2020/21     70      8\n",
       "49                                   2. Klasse Süd A    2019/20    156     13\n",
       "50                           2. Klasse Süd A Reserve    2022/23     90      7\n",
       "51                                   2. Klasse Süd B    2022/23     90      7\n",
       "52                           2. Klasse Süd B Reserve    2022/23     90      7\n",
       "53                           2. Klasse Süd B Reserve    2020/21     66      8\n",
       "54                                   2. Klasse Süd C    2022/23     90      7\n",
       "55                           2. Klasse Süd C Reserve    2022/23     90      7\n",
       "56               ADMIRAL Bundesliga - Grunddurchgang    2022/23    174     12\n",
       "57                                BVZ Burgenlandliga  undefined    962     21\n",
       "58                                BVZ Burgenlandliga    2017/18      2      2\n",
       "59                                BVZ Burgenlandliga    2016/17      4      4\n",
       "60                                BVZ Burgenlandliga    2015/16      2      2\n",
       "61                                BVZ Burgenlandliga    2014/15    426     15\n",
       "62                                BVZ Burgenlandliga    2013/14    480     16\n",
       "63                                BVZ Burgenlandliga    2012/13    482     16\n",
       "64                                BVZ Burgenlandliga    2011/12    482     16\n",
       "65                                    Burgenlandliga    2022/23    240     16\n",
       "66                                    Burgenlandliga    2021/22    420     15\n",
       "67                                    Burgenlandliga    2020/21      2      2\n",
       "68                                    Burgenlandliga    2019/20      2      2\n",
       "69                                    Burgenlandliga    2018/19      2      2\n",
       "70                            Burgenlandliga Reserve    2022/23    240     16\n",
       "71                            Burgenlandliga Reserve    2021/22    420     15\n",
       "72          Coca-Cola Cup Bundesfinale 2015 - Finale    2014/15      2      2\n",
       "73          Coca-Cola Cup Bundesfinale 2016 - Finale    2015/16      2      2\n",
       "74          Coca-Cola Cup Bundesfinale 2018 - Finale    2017/18      2      2\n",
       "75                                    II. Liga Mitte  undefined      2      2\n",
       "76                                    II. Liga Mitte    2022/23    240     16\n",
       "77                                    II. Liga Mitte    2021/22      2      2\n",
       "78                                    II. Liga Mitte    2018/19      2      2\n",
       "79                                    II. Liga Mitte    2017/18    482     16\n",
       "80                            II. Liga Mitte Reserve    2022/23    210     15\n",
       "81                            II. Liga Mitte Reserve    2020/21    124     16\n",
       "82                            II. Liga Mitte Reserve    2018/19    480     16\n",
       "83                            II. Liga Mitte Reserve    2016/17    426     15\n",
       "84                                     II. Liga Nord  undefined    486     16\n",
       "85                                     II. Liga Nord    2022/23    182     14\n",
       "86                                     II. Liga Nord    2018/19    364     14\n",
       "87                                     II. Liga Nord    2017/18    364     14\n",
       "88                             II. Liga Nord Reserve    2022/23    182     14\n",
       "89                             II. Liga Nord Reserve    2020/21    100     13\n",
       "90                                      II. Liga Süd  undefined    364     14\n",
       "91                                      II. Liga Süd    2022/23    240     16\n",
       "92                                      II. Liga Süd    2021/22    482     16\n",
       "93                                      II. Liga Süd    2018/19    484     16\n",
       "94                                      II. Liga Süd    2016/17      2      2\n",
       "95                                      II. Liga Süd    2013/14    616     18\n",
       "96                                      II. Liga Süd    2012/13    612     18\n",
       "97                                      II. Liga Süd    2011/12    364     14\n",
       "98                              II. Liga Süd Reserve    2022/23    240     16\n",
       "99                              II. Liga Süd Reserve    2021/22    308     16\n",
       "100                             II. Liga Süd Reserve    2020/21    154     16\n",
       "101                             II. Liga Süd Reserve    2019/20    268     16\n",
       "102                             II. Liga Süd Reserve    2016/17    480     16\n",
       "103                    Planet Pure Frauen Bundesliga    2022/23     84     10\n",
       "104                           RLO Liga Cup 2022/2023    2022/23     14     14\n",
       "105                                 Regionalliga Ost  undefined    486     16\n",
       "106                                 Regionalliga Ost    2022/23    240     16\n",
       "107                                 Regionalliga Ost    2021/22    364     14\n",
       "108                                 Regionalliga Ost    2016/17    420     15\n",
       "109                                 Regionalliga Ost    2014/15    484     16\n",
       "110                                 Regionalliga Ost    2013/14    484     16\n",
       "111                                 Regionalliga Ost    2012/13    480     16\n",
       "112                                 Regionalliga Ost    2011/12    480     16\n",
       "113                            Regionalliga Salzburg    2022/23    216     12\n",
       "114                                Regionalliga West    2021/22      2      2\n",
       "115                              T-Mobile Bundesliga  undefined      2      2\n",
       "116               Tipico Bundesliga - Grunddurchgang    2020/21    264     12\n",
       "117                                       U11 Nord A    2022/23      2      2\n",
       "118                                       U12 Nord A    2022/23      2      2\n",
       "119                                U13 Mädchen Mitte    2022/23      2      2\n",
       "120                                       U13 Nord A    2022/23     54      6\n",
       "121  U14 Bundesländernachwuchsmeisterschaft Burschen    2022/23      2      2\n",
       "122                                         U14 Nord    2022/23     52      6\n",
       "123                                         U15 Nord    2022/23      2      2\n",
       "124                                         U16 Nord    2022/23      2      2\n",
       "125                                    UNIQA ÖFB Cup    2022/23      2      2\n",
       "126                                 tipp3-Bundesliga  undefined    362     11\n",
       "127             tipp3-Bundesliga powered by T-Mobile    2012/13      2      2\n",
       "128                             tt.com RL Tirol - GD    2022/23    216     12"
      ]
     },
     "execution_count": 10,
     "metadata": {},
     "output_type": "execute_result"
    }
   ],
   "source": [
    "# Anzahl der Spiele die in der Regionalliga während seiner Trainerzeit\n",
    "from pyparsing import col\n",
    "\n",
    "\n",
    "pd.set_option('display.max_rows', None)\n",
    "query_database(query_leagues.format(0,9999999,\"%\"),database=\"verbands.db\")#.groupby(\"league\").count().reset_index().iloc[:,:2].head(500)"
   ]
  },
  {
   "cell_type": "code",
   "execution_count": 11,
   "id": "a2b01b3c",
   "metadata": {},
   "outputs": [
    {
     "data": {
      "text/html": [
       "<div>\n",
       "<style scoped>\n",
       "    .dataframe tbody tr th:only-of-type {\n",
       "        vertical-align: middle;\n",
       "    }\n",
       "\n",
       "    .dataframe tbody tr th {\n",
       "        vertical-align: top;\n",
       "    }\n",
       "\n",
       "    .dataframe thead th {\n",
       "        text-align: right;\n",
       "    }\n",
       "</style>\n",
       "<table border=\"1\" class=\"dataframe\">\n",
       "  <thead>\n",
       "    <tr style=\"text-align: right;\">\n",
       "      <th></th>\n",
       "      <th>name</th>\n",
       "      <th>league</th>\n",
       "      <th>season</th>\n",
       "      <th>points</th>\n",
       "      <th>url</th>\n",
       "      <th>rank</th>\n",
       "    </tr>\n",
       "  </thead>\n",
       "  <tbody>\n",
       "    <tr>\n",
       "      <th>0</th>\n",
       "      <td>Oberwart</td>\n",
       "      <td>BVZ Burgenlandliga</td>\n",
       "      <td>2011/12</td>\n",
       "      <td>69</td>\n",
       "      <td>https://www.oefb.at/bewerbe/Spiel/Aufstellung/...</td>\n",
       "      <td>1.0</td>\n",
       "    </tr>\n",
       "    <tr>\n",
       "      <th>1</th>\n",
       "      <td>Neuberg</td>\n",
       "      <td>BVZ Burgenlandliga</td>\n",
       "      <td>2011/12</td>\n",
       "      <td>60</td>\n",
       "      <td>https://www.oefb.at/bewerbe/Spiel/Aufstellung/...</td>\n",
       "      <td>2.0</td>\n",
       "    </tr>\n",
       "    <tr>\n",
       "      <th>2</th>\n",
       "      <td>Marz</td>\n",
       "      <td>BVZ Burgenlandliga</td>\n",
       "      <td>2011/12</td>\n",
       "      <td>55</td>\n",
       "      <td>https://www.oefb.at/bewerbe/Spiel/Aufstellung/...</td>\n",
       "      <td>3.0</td>\n",
       "    </tr>\n",
       "    <tr>\n",
       "      <th>3</th>\n",
       "      <td>Draßburg</td>\n",
       "      <td>BVZ Burgenlandliga</td>\n",
       "      <td>2011/12</td>\n",
       "      <td>53</td>\n",
       "      <td>https://www.oefb.at/bewerbe/Spiel/Aufstellung/...</td>\n",
       "      <td>4.0</td>\n",
       "    </tr>\n",
       "    <tr>\n",
       "      <th>4</th>\n",
       "      <td>Baumgarten</td>\n",
       "      <td>BVZ Burgenlandliga</td>\n",
       "      <td>2011/12</td>\n",
       "      <td>53</td>\n",
       "      <td>https://www.oefb.at/bewerbe/Spiel/Aufstellung/...</td>\n",
       "      <td>4.0</td>\n",
       "    </tr>\n",
       "  </tbody>\n",
       "</table>\n",
       "</div>"
      ],
      "text/plain": [
       "         name              league   season  points  \\\n",
       "0    Oberwart  BVZ Burgenlandliga  2011/12      69   \n",
       "1     Neuberg  BVZ Burgenlandliga  2011/12      60   \n",
       "2        Marz  BVZ Burgenlandliga  2011/12      55   \n",
       "3    Draßburg  BVZ Burgenlandliga  2011/12      53   \n",
       "4  Baumgarten  BVZ Burgenlandliga  2011/12      53   \n",
       "\n",
       "                                                 url  rank  \n",
       "0  https://www.oefb.at/bewerbe/Spiel/Aufstellung/...   1.0  \n",
       "1  https://www.oefb.at/bewerbe/Spiel/Aufstellung/...   2.0  \n",
       "2  https://www.oefb.at/bewerbe/Spiel/Aufstellung/...   3.0  \n",
       "3  https://www.oefb.at/bewerbe/Spiel/Aufstellung/...   4.0  \n",
       "4  https://www.oefb.at/bewerbe/Spiel/Aufstellung/...   4.0  "
      ]
     },
     "execution_count": 11,
     "metadata": {},
     "output_type": "execute_result"
    }
   ],
   "source": [
    "query_teams_end_of_season=\"\"\" \n",
    "select name,league,season,points,url\n",
    "from (\n",
    "select \n",
    "sum(\n",
    "\tCASE WHEN homeresult==awayresult THEN 1 WHEN homeresult>awayresult and m.home_team_id==t.id THEN 3 WHEN homeresult<awayresult and m.away_team_id==t.id THEN 3 ELSE 0 END\n",
    "    ) points,\n",
    "\tsum(\n",
    "\tCASE WHEN m.home_team_id==t.id THEN homeresult WHEN  m.away_team_id==t.id THEN awayresult ELSE 0 END\n",
    "\t)  scored,\n",
    "    sum(\n",
    "\tCASE WHEN m.home_team_id==t.id THEN awayresult WHEN  m.away_team_id==t.id THEN homeresult  ELSE 0 END\n",
    "\t)  conceded,\n",
    "\t *\n",
    "from teams t join  (\n",
    "select substr(result,0,instr(result, ':')) as homeresult,\n",
    "\t\tsubstr(result,instr(result, ':') + 1) as awayresult,\n",
    "\t\tCASE \n",
    "\t\t   WHEN replace(date,'-','') between '20110701' and '20120701' THEN '2011/12'\n",
    "\t\t   WHEN replace(date,'-','') between '20120701' and '20130701' THEN '2012/13'\n",
    "\t\t   WHEN replace(date,'-','') between '20130701' and '20140701' THEN '2013/14'\n",
    "\t\t   WHEN replace(date,'-','') between '20140701' and '20150701' THEN '2014/15'\n",
    "\t\t   WHEN replace(date,'-','') between '20150701' and '20160701' THEN '2015/16'\n",
    "\t\t   WHEN replace(date,'-','') between '20160701' and '20170701' THEN '2016/17'\n",
    "\t\t   WHEN replace(date,'-','') between '20170701' and '20180701' THEN '2017/18'\n",
    "\t\t   WHEN replace(date,'-','') between '20180701' and '20190701' THEN '2018/19'\n",
    "\t\t   WHEN replace(date,'-','') between '20190701' and '20200701' THEN '2019/20'\n",
    "\t\t   WHEN replace(date,'-','') between '20200701' and '20210701' THEN '2020/21'\n",
    "\t\t   WHEN replace(date,'-','') between '20210701' and '20220701' THEN '2021/22'\n",
    "\t\t   WHEN replace(date,'-','') between '20220701' and '20230701' THEN '2022/23'\n",
    "\t\t   ELSE 'undefined'\n",
    "\t\tEND as season\n",
    "\t\t,* from matches) m on (t.id=m.away_team_id or t.id=m.home_team_id)\n",
    "\t\twhere league not like '%Reserve%'\n",
    "\t\tgroup by season,league,t.name \n",
    "order by season,league,points desc) m \n",
    "\"\"\"\n",
    "\n",
    "df=query_database(query_teams_end_of_season,database=\"verbands.db\")\n",
    "df[\"rank\"]=df.groupby([\"season\",\"league\"])[\"points\"].rank(method=\"dense\", ascending=False)\n",
    "\n",
    "df.head()"
   ]
  },
  {
   "cell_type": "code",
   "execution_count": 12,
   "id": "209cfac7",
   "metadata": {
    "slideshow": {
     "slide_type": "slide"
    }
   },
   "outputs": [
    {
     "data": {
      "text/html": [
       "\n",
       "        <iframe\n",
       "            width=\"100%\"\n",
       "            height=\"475\"\n",
       "            src=\"http://XPS15:40000/dtale/iframe/1\"\n",
       "            frameborder=\"0\"\n",
       "            allowfullscreen\n",
       "            \n",
       "        ></iframe>\n",
       "        "
      ],
      "text/plain": [
       "<IPython.lib.display.IFrame at 0x253bae39d60>"
      ]
     },
     "metadata": {},
     "output_type": "display_data"
    }
   ],
   "source": [
    "#!pip install dtale\n",
    "import dtale\n",
    "\n",
    "d = dtale.show(df, notebook=True)"
   ]
  },
  {
   "cell_type": "code",
   "execution_count": 13,
   "id": "b2646b1f",
   "metadata": {},
   "outputs": [
    {
     "name": "stdout",
     "output_type": "stream",
     "text": [
      "{'Regionalliga Ost': {'Burgenlandliga', 'BVZ Burgenlandliga'}, 'BVZ Burgenlandliga': {'II. Liga Süd'}, '1. Klasse Mitte': {'2. Klasse Mitte'}, 'II. Liga Mitte': {'1. Klasse Mitte'}, 'II. Liga Süd': {'1. Klasse Süd'}, '2. Kl. Mitte Cup  - 2 Kl. Cup B': {'2. Klasse Mitte'}, 'Burgenlandliga': {'II. Liga Süd'}, 'Planet Pure Frauen Bundesliga': {'Regionalliga Ost'}, 'tt.com RL Tirol - GD': {'Regionalliga West'}, 'Regionalliga West': {'tt.com RL Tirol - GD'}}\n",
      "['tt.com RL Tirol - GD', 'Regionalliga West']\n"
     ]
    },
    {
     "data": {
      "text/plain": [
       "('2. Klasse Mitte',\n",
       " '1. Klasse Süd',\n",
       " 'Regionalliga West',\n",
       " '1. Klasse Mitte',\n",
       " '2. Kl. Mitte Cup  - 2 Kl. Cup B',\n",
       " 'II. Liga Süd',\n",
       " 'tt.com RL Tirol - GD',\n",
       " 'II. Liga Mitte',\n",
       " 'BVZ Burgenlandliga',\n",
       " 'Burgenlandliga',\n",
       " 'Regionalliga Ost',\n",
       " 'Planet Pure Frauen Bundesliga')"
      ]
     },
     "execution_count": 13,
     "metadata": {},
     "output_type": "execute_result"
    }
   ],
   "source": [
    "#Create a DAG from promotions and relegations\n",
    "from graphlib import TopologicalSorter, CycleError\n",
    "\n",
    "graph = {}\n",
    "\n",
    "def promotions(data,graph):\n",
    "    for index,row in data[data[\"rank\"]==1].iterrows():\n",
    "        if row[\"season\"]!=\"undefined\":\n",
    "            new_season=\"/\".join([str(int(row[\"season\"].split(\"/\")[0])+1),str(int(row[\"season\"].split(\"/\")[1])+1)])\n",
    "            #new_season=row[\"season\"].str.split(\"/\")\n",
    "            new_league=data.query('name == @row[\"name\"] and season ==@new_season')[\"league\"]\n",
    "            #new_league=data[(data[\"name\"]==row[\"name\"])&(data[\"season\"]==new_season)][\"league\"]\n",
    "            if len(new_league)>0:\n",
    "                if new_league.iloc[0]!=row[\"league\"]:\n",
    "                    if new_league.iloc[0] not in graph:\n",
    "                        graph[new_league.iloc[0]]={row[\"league\"]}\n",
    "                    else:\n",
    "                        graph[new_league.iloc[0]]=graph[new_league.iloc[0]]|{row[\"league\"]}\n",
    "    return graph\n",
    "\n",
    "def relegations(data,graph):\n",
    "    for index,row in data[data.groupby(\"league\")['rank'].transform(max) == df['rank']].iterrows():\n",
    "        if row[\"season\"]!=\"undefined\":\n",
    "            new_season=\"/\".join([str(int(row[\"season\"].split(\"/\")[0])+1),str(int(row[\"season\"].split(\"/\")[1])+1)])\n",
    "            #new_season=row[\"season\"].str.split(\"/\")\n",
    "            new_league=data.query('name == @row[\"name\"] and season ==@new_season')[\"league\"]\n",
    "            #new_league=data[(data[\"name\"]==row[\"name\"])&(data[\"season\"]==new_season)][\"league\"]\n",
    "            if len(new_league)>0:\n",
    "                if new_league.iloc[0]!=row[\"league\"]:\n",
    "                    if row[\"league\"] not in graph:\n",
    "                        graph[row[\"league\"]]={new_league.iloc[0]}\n",
    "                    else:\n",
    "                        graph[row[\"league\"]]=graph[row[\"league\"]]|{new_league.iloc[0]}\n",
    "    return graph\n",
    "\n",
    "graph.update(promotions(df,graph))\n",
    "graph.update(relegations(df,graph))\n",
    "print(graph)\n",
    "\n",
    "import networkx as nx\n",
    "\n",
    "#edges = [('A', 'B'),('C', 'D'),('D', 'C'),('C', 'D')]\n",
    "\n",
    "G = nx.DiGraph(graph)\n",
    "\n",
    "for cycle in nx.simple_cycles(G):\n",
    "    print(cycle)\n",
    "    del graph[cycle[1]]\n",
    "\n",
    "ts = TopologicalSorter(graph)\n",
    "tuple(ts.static_order())\n"
   ]
  },
  {
   "cell_type": "code",
   "execution_count": 14,
   "id": "d6742cb2",
   "metadata": {},
   "outputs": [
    {
     "name": "stdout",
     "output_type": "stream",
     "text": [
      "                                             league  count(distinct(url))\n",
      "0                   1. Kl. Mitte Cup - 1. Kl. Cup A                     1\n",
      "1                   1. Kl. Mitte Cup - 1. Kl. Cup D                     1\n",
      "2                                   1. Klasse Mitte                   444\n",
      "3                           1. Klasse Mitte Reserve                   424\n",
      "4                                    1. Klasse Nord                   548\n",
      "5                            1. Klasse Nord Reserve                   455\n",
      "6                                     1. Klasse Süd                   251\n",
      "7                                   1. Klasse Süd B                   156\n",
      "8                             1. Klasse Süd Reserve                   142\n",
      "9                   2. Kl. Mitte Cup  - 2 Kl. Cup B                     1\n",
      "10                 2. Kl. Mitte Cup  - 2. Kl. Cup A                     1\n",
      "11                 2. Kl. Mitte Cup  - 2. Kl. Cup C                     1\n",
      "12                 2. Kl. Mitte Cup  - 2. Kl. Cup D                     3\n",
      "13                                  2. Klasse Mitte                  1107\n",
      "14                          2. Klasse Mitte Reserve                    55\n",
      "15                                   2. Klasse Nord                   159\n",
      "16                           2. Klasse Nord Reserve                   247\n",
      "17                                  2. Klasse Süd A                   214\n",
      "18                          2. Klasse Süd A Reserve                    45\n",
      "19                                  2. Klasse Süd B                    45\n",
      "20                          2. Klasse Süd B Reserve                    78\n",
      "21                                  2. Klasse Süd C                    45\n",
      "22                          2. Klasse Süd C Reserve                    45\n",
      "23              ADMIRAL Bundesliga - Grunddurchgang                    87\n",
      "24                               BVZ Burgenlandliga                  1420\n",
      "25                                   Burgenlandliga                   333\n",
      "26                           Burgenlandliga Reserve                   330\n",
      "27         Coca-Cola Cup Bundesfinale 2015 - Finale                     1\n",
      "28         Coca-Cola Cup Bundesfinale 2016 - Finale                     1\n",
      "29         Coca-Cola Cup Bundesfinale 2018 - Finale                     1\n",
      "30                                   II. Liga Mitte                   364\n",
      "31                           II. Liga Mitte Reserve                   620\n",
      "32                                    II. Liga Nord                   698\n",
      "33                            II. Liga Nord Reserve                   141\n",
      "34                                     II. Liga Süd                  1582\n",
      "35                             II. Liga Süd Reserve                   725\n",
      "36                    Planet Pure Frauen Bundesliga                    42\n",
      "37                           RLO Liga Cup 2022/2023                     7\n",
      "38                                 Regionalliga Ost                  1719\n",
      "39                            Regionalliga Salzburg                   108\n",
      "40                                Regionalliga West                     1\n",
      "41                              T-Mobile Bundesliga                     1\n",
      "42               Tipico Bundesliga - Grunddurchgang                   132\n",
      "43                                       U11 Nord A                     1\n",
      "44                                       U12 Nord A                     1\n",
      "45                                U13 Mädchen Mitte                     1\n",
      "46                                       U13 Nord A                    27\n",
      "47  U14 Bundesländernachwuchsmeisterschaft Burschen                     1\n",
      "48                                         U14 Nord                    26\n",
      "49                                         U15 Nord                     1\n",
      "50                                         U16 Nord                     1\n",
      "51                                    UNIQA ÖFB Cup                     1\n",
      "52                                 tipp3-Bundesliga                   181\n",
      "53             tipp3-Bundesliga powered by T-Mobile                     1\n",
      "54                             tt.com RL Tirol - GD                   108\n"
     ]
    }
   ],
   "source": [
    "print(query_database(\"Select league, count(distinct(url)) from matches group by league\"))"
   ]
  },
  {
   "cell_type": "markdown",
   "id": "5a69d085",
   "metadata": {},
   "source": [
    "Aktuell stehen aus 13 Ligen bis zu 13 Saisonen an Spielinformationen zur Verfügung. Die daraus gewonnen Daten werden als Basis für die Analyse verwendet."
   ]
  },
  {
   "cell_type": "code",
   "execution_count": 15,
   "id": "abd22171",
   "metadata": {
    "slideshow": {
     "slide_type": "skip"
    }
   },
   "outputs": [
    {
     "name": "stdout",
     "output_type": "stream",
     "text": [
      "40\n",
      "Index(['homeresult', 'awayresult', 'current_round', 'season', 'id', 'url',\n",
      "       'date', 'starttime', 'league', 'round', 'result', 'away_team_id',\n",
      "       'away_team_trainer_id', 'home_team_id', 'home_team_trainer_id', 'id',\n",
      "       'player_id', 'match_id', 'team_id', 'position', 'goals', 'yellow_cards',\n",
      "       'red_cards', 'starting_minute', 'id', 'url', 'name', 'nationality',\n",
      "       'birthyear'],\n",
      "      dtype='object')\n",
      "  homeresult awayresult  current_round   season   id  \\\n",
      "0          0          5              6  2022/23  513   \n",
      "\n",
      "                                                 url        date starttime  \\\n",
      "0  https://www.oefb.at/bewerbe/Spiel/Aufstellung/...  2022-09-16     18:00   \n",
      "\n",
      "           league     round  ...    position  goals  yellow_cards  red_cards  \\\n",
      "0  2. Klasse Nord  6. Runde  ...  Mittelfeld      1             0          0   \n",
      "\n",
      "   starting_minute    id                                                url  \\\n",
      "0             None  3800  https://www.oefb.at/Profile/Spieler/654332?Tho...   \n",
      "\n",
      "                name  nationality birthyear  \n",
      "0  Thomas Dragschitz         None      None  \n",
      "\n",
      "[1 rows x 29 columns]\n"
     ]
    }
   ],
   "source": [
    "df=query_database(query_spiele_spieler.format(player[\"name\"].str.strip()),database=\"verbands.db\") \n",
    "print(len(df))\n",
    "print(df.columns)\n",
    "print(df.head(1))"
   ]
  },
  {
   "cell_type": "markdown",
   "id": "96f10e0f",
   "metadata": {},
   "source": [
    "Für den Spieler haben wir aktuell 137 Spiele gefunden auf dessen Basis jetzt die einzelnen Statistiken berechnet werden."
   ]
  },
  {
   "cell_type": "markdown",
   "id": "1f831439",
   "metadata": {
    "slideshow": {
     "slide_type": "slide"
    }
   },
   "source": [
    "## Analyse"
   ]
  },
  {
   "cell_type": "markdown",
   "id": "d265cc6a",
   "metadata": {},
   "source": [
    "### Spieler Statistik\n",
    "\n",
    "| Saison | Team | Games | Wins | Draws | Looses | Scored | Conceded | Points/Game | Starting | In | Out | Goals | Yellow Cards | Red Cards |\n",
    "|:-------- | -------- | -------- | -------- | -------- | -------- | -------- | -------- | -------- | -------- | -------- | -------- | -------- | -------- | -------- |\n",
    "| 2022 | | | | | | | | | | | | | |"
   ]
  },
  {
   "cell_type": "code",
   "execution_count": 16,
   "id": "1353efb7",
   "metadata": {},
   "outputs": [],
   "source": [
    "df[\"tore_geschossen_team\"]=df.apply(lambda x: x[\"homeresult\"] if x[\"home_team_id\"]==x[\"team_id\"] else x[\"awayresult\"] ,axis=1).astype(int)\n",
    "df[\"tore_bekommen_team\"]=df.apply(lambda x: x[\"homeresult\"] if x[\"away_team_id\"]==x[\"team_id\"] else x[\"awayresult\"] ,axis=1).astype(int)"
   ]
  },
  {
   "cell_type": "code",
   "execution_count": 17,
   "id": "e13e16ff",
   "metadata": {
    "slideshow": {
     "slide_type": "subslide"
    }
   },
   "outputs": [
    {
     "name": "stderr",
     "output_type": "stream",
     "text": [
      "C:\\Users\\marst\\AppData\\Local\\Temp\\ipykernel_26244\\1216417428.py:1: FutureWarning:\n",
      "\n",
      "this method is deprecated in favour of `Styler.hide(axis=\"index\")`\n",
      "\n",
      "c:\\Users\\marst\\AppData\\Local\\Programs\\Python\\Python39\\lib\\site-packages\\pandas\\io\\formats\\style.py:4151: RuntimeWarning:\n",
      "\n",
      "invalid value encountered in longlong_scalars\n",
      "\n"
     ]
    },
    {
     "data": {
      "text/html": [
       "<style type=\"text/css\">\n",
       "#T_fe434_row0_col1 {\n",
       "  width: 10em;\n",
       "  background: linear-gradient(90deg, darkgreen 9.8%, transparent 9.8%);\n",
       "}\n",
       "#T_fe434_row0_col2 {\n",
       "  width: 10em;\n",
       "  background: linear-gradient(90deg, darkgreen 34.6%, transparent 34.6%);\n",
       "}\n",
       "#T_fe434_row0_col3, #T_fe434_row0_col5, #T_fe434_row1_col5, #T_fe434_row2_col5 {\n",
       "  width: 10em;\n",
       "}\n",
       "#T_fe434_row0_col4 {\n",
       "  width: 10em;\n",
       "  background: linear-gradient(90deg, darkblue 50.0%, transparent 50.0%);\n",
       "}\n",
       "#T_fe434_row1_col1, #T_fe434_row1_col2 {\n",
       "  width: 10em;\n",
       "  background: linear-gradient(90deg, darkgreen 100.0%, transparent 100.0%);\n",
       "}\n",
       "#T_fe434_row1_col3 {\n",
       "  width: 10em;\n",
       "  background: linear-gradient(90deg, darkblue 66.7%, transparent 66.7%);\n",
       "}\n",
       "#T_fe434_row1_col4, #T_fe434_row2_col3, #T_fe434_row2_col4 {\n",
       "  width: 10em;\n",
       "  background: linear-gradient(90deg, darkblue 100.0%, transparent 100.0%);\n",
       "}\n",
       "#T_fe434_row2_col1 {\n",
       "  width: 10em;\n",
       "  background: linear-gradient(90deg, darkgreen 42.6%, transparent 42.6%);\n",
       "}\n",
       "#T_fe434_row2_col2 {\n",
       "  width: 10em;\n",
       "  background: linear-gradient(90deg, darkgreen 57.7%, transparent 57.7%);\n",
       "}\n",
       "</style>\n",
       "<table id=\"T_fe434\">\n",
       "  <thead>\n",
       "    <tr>\n",
       "      <th id=\"T_fe434_level0_col0\" class=\"col_heading level0 col0\" >season</th>\n",
       "      <th id=\"T_fe434_level0_col1\" class=\"col_heading level0 col1\" >tore_geschossen_team</th>\n",
       "      <th id=\"T_fe434_level0_col2\" class=\"col_heading level0 col2\" >tore_bekommen_team</th>\n",
       "      <th id=\"T_fe434_level0_col3\" class=\"col_heading level0 col3\" >goals</th>\n",
       "      <th id=\"T_fe434_level0_col4\" class=\"col_heading level0 col4\" >yellow_cards</th>\n",
       "      <th id=\"T_fe434_level0_col5\" class=\"col_heading level0 col5\" >red_cards</th>\n",
       "    </tr>\n",
       "    <tr>\n",
       "      <th id=\"T_fe434_level1_col0\" class=\"col_heading level1 col0\" ></th>\n",
       "      <th id=\"T_fe434_level1_col1\" class=\"col_heading level1 col1\" >sum</th>\n",
       "      <th id=\"T_fe434_level1_col2\" class=\"col_heading level1 col2\" >sum</th>\n",
       "      <th id=\"T_fe434_level1_col3\" class=\"col_heading level1 col3\" >sum</th>\n",
       "      <th id=\"T_fe434_level1_col4\" class=\"col_heading level1 col4\" >sum</th>\n",
       "      <th id=\"T_fe434_level1_col5\" class=\"col_heading level1 col5\" >sum</th>\n",
       "    </tr>\n",
       "  </thead>\n",
       "  <tbody>\n",
       "    <tr>\n",
       "      <td id=\"T_fe434_row0_col0\" class=\"data row0 col0\" >2014/15</td>\n",
       "      <td id=\"T_fe434_row0_col1\" class=\"data row0 col1\" >6</td>\n",
       "      <td id=\"T_fe434_row0_col2\" class=\"data row0 col2\" >9</td>\n",
       "      <td id=\"T_fe434_row0_col3\" class=\"data row0 col3\" >0</td>\n",
       "      <td id=\"T_fe434_row0_col4\" class=\"data row0 col4\" >2</td>\n",
       "      <td id=\"T_fe434_row0_col5\" class=\"data row0 col5\" >0</td>\n",
       "    </tr>\n",
       "    <tr>\n",
       "      <td id=\"T_fe434_row1_col0\" class=\"data row1 col0\" >2018/19</td>\n",
       "      <td id=\"T_fe434_row1_col1\" class=\"data row1 col1\" >61</td>\n",
       "      <td id=\"T_fe434_row1_col2\" class=\"data row1 col2\" >26</td>\n",
       "      <td id=\"T_fe434_row1_col3\" class=\"data row1 col3\" >4</td>\n",
       "      <td id=\"T_fe434_row1_col4\" class=\"data row1 col4\" >4</td>\n",
       "      <td id=\"T_fe434_row1_col5\" class=\"data row1 col5\" >0</td>\n",
       "    </tr>\n",
       "    <tr>\n",
       "      <td id=\"T_fe434_row2_col0\" class=\"data row2 col0\" >2022/23</td>\n",
       "      <td id=\"T_fe434_row2_col1\" class=\"data row2 col1\" >26</td>\n",
       "      <td id=\"T_fe434_row2_col2\" class=\"data row2 col2\" >15</td>\n",
       "      <td id=\"T_fe434_row2_col3\" class=\"data row2 col3\" >6</td>\n",
       "      <td id=\"T_fe434_row2_col4\" class=\"data row2 col4\" >4</td>\n",
       "      <td id=\"T_fe434_row2_col5\" class=\"data row2 col5\" >0</td>\n",
       "    </tr>\n",
       "  </tbody>\n",
       "</table>\n"
      ],
      "text/plain": [
       "<pandas.io.formats.style.Styler at 0x253ba1c9970>"
      ]
     },
     "execution_count": 17,
     "metadata": {},
     "output_type": "execute_result"
    }
   ],
   "source": [
    "df.groupby([\"season\"]).agg({'tore_geschossen_team':['sum'],'tore_bekommen_team':['sum'],'goals':[\"sum\"],'yellow_cards':['sum'],'red_cards':['sum']}).reset_index().style.hide_index()\\\n",
    "                .bar(subset=[\"tore_geschossen_team\",], color='darkgreen')\\\n",
    "                .bar(subset=[\"tore_bekommen_team\",], color='darkgreen')\\\n",
    "                .bar(subset=[\"goals\",], color='darkblue')\\\n",
    "                .bar(subset=[\"yellow_cards\",], color='darkblue')\\\n",
    "                .bar(subset=[\"red_cards\",], color='darkblue')"
   ]
  },
  {
   "cell_type": "code",
   "execution_count": 18,
   "id": "10fe7815",
   "metadata": {
    "slideshow": {
     "slide_type": "skip"
    }
   },
   "outputs": [
    {
     "data": {
      "text/html": [
       "<div>\n",
       "<style scoped>\n",
       "    .dataframe tbody tr th:only-of-type {\n",
       "        vertical-align: middle;\n",
       "    }\n",
       "\n",
       "    .dataframe tbody tr th {\n",
       "        vertical-align: top;\n",
       "    }\n",
       "\n",
       "    .dataframe thead th {\n",
       "        text-align: right;\n",
       "    }\n",
       "</style>\n",
       "<table border=\"1\" class=\"dataframe\">\n",
       "  <thead>\n",
       "    <tr style=\"text-align: right;\">\n",
       "      <th></th>\n",
       "      <th>difference</th>\n",
       "      <th>running_points</th>\n",
       "      <th>scored</th>\n",
       "      <th>conceded</th>\n",
       "      <th>id</th>\n",
       "      <th>name</th>\n",
       "      <th>year</th>\n",
       "      <th>homeresult</th>\n",
       "      <th>awayresult</th>\n",
       "      <th>current_round</th>\n",
       "      <th>...</th>\n",
       "      <th>url</th>\n",
       "      <th>date</th>\n",
       "      <th>starttime</th>\n",
       "      <th>league</th>\n",
       "      <th>round</th>\n",
       "      <th>result</th>\n",
       "      <th>away_team_id</th>\n",
       "      <th>away_team_trainer_id</th>\n",
       "      <th>home_team_id</th>\n",
       "      <th>home_team_trainer_id</th>\n",
       "    </tr>\n",
       "  </thead>\n",
       "  <tbody>\n",
       "    <tr>\n",
       "      <th>0</th>\n",
       "      <td>2</td>\n",
       "      <td>3</td>\n",
       "      <td>3</td>\n",
       "      <td>1</td>\n",
       "      <td>267</td>\n",
       "      <td>ASK-BSC Bruck / Leitha</td>\n",
       "      <td>None</td>\n",
       "      <td>3</td>\n",
       "      <td>1</td>\n",
       "      <td>1</td>\n",
       "      <td>...</td>\n",
       "      <td>https://www.oefb.at/bewerbe/Spiel/Aufstellung/...</td>\n",
       "      <td>2021-07-30</td>\n",
       "      <td>17:00</td>\n",
       "      <td>Regionalliga Ost</td>\n",
       "      <td>1. Runde</td>\n",
       "      <td>3:1</td>\n",
       "      <td>196</td>\n",
       "      <td>300</td>\n",
       "      <td>267</td>\n",
       "      <td>308</td>\n",
       "    </tr>\n",
       "    <tr>\n",
       "      <th>1</th>\n",
       "      <td>2</td>\n",
       "      <td>3</td>\n",
       "      <td>5</td>\n",
       "      <td>3</td>\n",
       "      <td>197</td>\n",
       "      <td>FCM Traiskirchen</td>\n",
       "      <td>None</td>\n",
       "      <td>5</td>\n",
       "      <td>3</td>\n",
       "      <td>1</td>\n",
       "      <td>...</td>\n",
       "      <td>https://www.oefb.at/bewerbe/Spiel/Aufstellung/...</td>\n",
       "      <td>2021-07-30</td>\n",
       "      <td>17:30</td>\n",
       "      <td>Regionalliga Ost</td>\n",
       "      <td>1. Runde</td>\n",
       "      <td>5:3</td>\n",
       "      <td>200</td>\n",
       "      <td>312</td>\n",
       "      <td>197</td>\n",
       "      <td>309</td>\n",
       "    </tr>\n",
       "    <tr>\n",
       "      <th>2</th>\n",
       "      <td>1</td>\n",
       "      <td>3</td>\n",
       "      <td>1</td>\n",
       "      <td>0</td>\n",
       "      <td>118</td>\n",
       "      <td>TWL Elektra</td>\n",
       "      <td>None</td>\n",
       "      <td>1</td>\n",
       "      <td>0</td>\n",
       "      <td>1</td>\n",
       "      <td>...</td>\n",
       "      <td>https://www.oefb.at/bewerbe/Spiel/Aufstellung/...</td>\n",
       "      <td>2021-07-31</td>\n",
       "      <td>14:00</td>\n",
       "      <td>Regionalliga Ost</td>\n",
       "      <td>1. Runde</td>\n",
       "      <td>1:0</td>\n",
       "      <td>199</td>\n",
       "      <td>306</td>\n",
       "      <td>118</td>\n",
       "      <td>144</td>\n",
       "    </tr>\n",
       "    <tr>\n",
       "      <th>3</th>\n",
       "      <td>1</td>\n",
       "      <td>3</td>\n",
       "      <td>1</td>\n",
       "      <td>0</td>\n",
       "      <td>195</td>\n",
       "      <td>Wiener Sport-Club</td>\n",
       "      <td>None</td>\n",
       "      <td>1</td>\n",
       "      <td>0</td>\n",
       "      <td>1</td>\n",
       "      <td>...</td>\n",
       "      <td>https://www.oefb.at/bewerbe/Spiel/Aufstellung/...</td>\n",
       "      <td>2021-07-30</td>\n",
       "      <td>17:30</td>\n",
       "      <td>Regionalliga Ost</td>\n",
       "      <td>1. Runde</td>\n",
       "      <td>1:0</td>\n",
       "      <td>266</td>\n",
       "      <td>33</td>\n",
       "      <td>195</td>\n",
       "      <td>301</td>\n",
       "    </tr>\n",
       "    <tr>\n",
       "      <th>4</th>\n",
       "      <td>3</td>\n",
       "      <td>3</td>\n",
       "      <td>4</td>\n",
       "      <td>1</td>\n",
       "      <td>29</td>\n",
       "      <td>Wiener Viktoria</td>\n",
       "      <td>None</td>\n",
       "      <td>4</td>\n",
       "      <td>1</td>\n",
       "      <td>1</td>\n",
       "      <td>...</td>\n",
       "      <td>https://www.oefb.at/bewerbe/Spiel/Aufstellung/...</td>\n",
       "      <td>2021-07-31</td>\n",
       "      <td>16:00</td>\n",
       "      <td>Regionalliga Ost</td>\n",
       "      <td>1. Runde</td>\n",
       "      <td>4:1</td>\n",
       "      <td>202</td>\n",
       "      <td>313</td>\n",
       "      <td>29</td>\n",
       "      <td>34</td>\n",
       "    </tr>\n",
       "    <tr>\n",
       "      <th>5</th>\n",
       "      <td>0</td>\n",
       "      <td>1</td>\n",
       "      <td>2</td>\n",
       "      <td>2</td>\n",
       "      <td>24</td>\n",
       "      <td>Draßburg</td>\n",
       "      <td>None</td>\n",
       "      <td>2</td>\n",
       "      <td>2</td>\n",
       "      <td>1</td>\n",
       "      <td>...</td>\n",
       "      <td>https://www.oefb.at/bewerbe/Spiel/Aufstellung/...</td>\n",
       "      <td>2021-07-30</td>\n",
       "      <td>17:30</td>\n",
       "      <td>Regionalliga Ost</td>\n",
       "      <td>1. Runde</td>\n",
       "      <td>2:2</td>\n",
       "      <td>54</td>\n",
       "      <td>250</td>\n",
       "      <td>24</td>\n",
       "      <td>146</td>\n",
       "    </tr>\n",
       "    <tr>\n",
       "      <th>6</th>\n",
       "      <td>0</td>\n",
       "      <td>1</td>\n",
       "      <td>3</td>\n",
       "      <td>3</td>\n",
       "      <td>53</td>\n",
       "      <td>First Vienna FC 1894</td>\n",
       "      <td>None</td>\n",
       "      <td>3</td>\n",
       "      <td>3</td>\n",
       "      <td>1</td>\n",
       "      <td>...</td>\n",
       "      <td>https://www.oefb.at/bewerbe/Spiel/Aufstellung/...</td>\n",
       "      <td>2021-07-30</td>\n",
       "      <td>16:30</td>\n",
       "      <td>Regionalliga Ost</td>\n",
       "      <td>1. Runde</td>\n",
       "      <td>3:3</td>\n",
       "      <td>53</td>\n",
       "      <td>66</td>\n",
       "      <td>119</td>\n",
       "      <td>303</td>\n",
       "    </tr>\n",
       "    <tr>\n",
       "      <th>7</th>\n",
       "      <td>0</td>\n",
       "      <td>1</td>\n",
       "      <td>2</td>\n",
       "      <td>2</td>\n",
       "      <td>54</td>\n",
       "      <td>SC Neusiedl am See 1919</td>\n",
       "      <td>None</td>\n",
       "      <td>2</td>\n",
       "      <td>2</td>\n",
       "      <td>1</td>\n",
       "      <td>...</td>\n",
       "      <td>https://www.oefb.at/bewerbe/Spiel/Aufstellung/...</td>\n",
       "      <td>2021-07-30</td>\n",
       "      <td>17:30</td>\n",
       "      <td>Regionalliga Ost</td>\n",
       "      <td>1. Runde</td>\n",
       "      <td>2:2</td>\n",
       "      <td>54</td>\n",
       "      <td>250</td>\n",
       "      <td>24</td>\n",
       "      <td>146</td>\n",
       "    </tr>\n",
       "    <tr>\n",
       "      <th>8</th>\n",
       "      <td>0</td>\n",
       "      <td>1</td>\n",
       "      <td>3</td>\n",
       "      <td>3</td>\n",
       "      <td>119</td>\n",
       "      <td>Stripfing</td>\n",
       "      <td>None</td>\n",
       "      <td>3</td>\n",
       "      <td>3</td>\n",
       "      <td>1</td>\n",
       "      <td>...</td>\n",
       "      <td>https://www.oefb.at/bewerbe/Spiel/Aufstellung/...</td>\n",
       "      <td>2021-07-30</td>\n",
       "      <td>16:30</td>\n",
       "      <td>Regionalliga Ost</td>\n",
       "      <td>1. Runde</td>\n",
       "      <td>3:3</td>\n",
       "      <td>53</td>\n",
       "      <td>66</td>\n",
       "      <td>119</td>\n",
       "      <td>303</td>\n",
       "    </tr>\n",
       "    <tr>\n",
       "      <th>9</th>\n",
       "      <td>-1</td>\n",
       "      <td>0</td>\n",
       "      <td>0</td>\n",
       "      <td>1</td>\n",
       "      <td>199</td>\n",
       "      <td>Admira Juniors</td>\n",
       "      <td>None</td>\n",
       "      <td>1</td>\n",
       "      <td>0</td>\n",
       "      <td>1</td>\n",
       "      <td>...</td>\n",
       "      <td>https://www.oefb.at/bewerbe/Spiel/Aufstellung/...</td>\n",
       "      <td>2021-07-31</td>\n",
       "      <td>14:00</td>\n",
       "      <td>Regionalliga Ost</td>\n",
       "      <td>1. Runde</td>\n",
       "      <td>1:0</td>\n",
       "      <td>199</td>\n",
       "      <td>306</td>\n",
       "      <td>118</td>\n",
       "      <td>144</td>\n",
       "    </tr>\n",
       "  </tbody>\n",
       "</table>\n",
       "<p>10 rows × 22 columns</p>\n",
       "</div>"
      ],
      "text/plain": [
       "   difference  running_points  scored  conceded   id                     name  \\\n",
       "0           2               3       3         1  267   ASK-BSC Bruck / Leitha   \n",
       "1           2               3       5         3  197         FCM Traiskirchen   \n",
       "2           1               3       1         0  118              TWL Elektra   \n",
       "3           1               3       1         0  195        Wiener Sport-Club   \n",
       "4           3               3       4         1   29          Wiener Viktoria   \n",
       "5           0               1       2         2   24                 Draßburg   \n",
       "6           0               1       3         3   53     First Vienna FC 1894   \n",
       "7           0               1       2         2   54  SC Neusiedl am See 1919   \n",
       "8           0               1       3         3  119                Stripfing   \n",
       "9          -1               0       0         1  199           Admira Juniors   \n",
       "\n",
       "   year homeresult awayresult  current_round  ...  \\\n",
       "0  None          3          1              1  ...   \n",
       "1  None          5          3              1  ...   \n",
       "2  None          1          0              1  ...   \n",
       "3  None          1          0              1  ...   \n",
       "4  None          4          1              1  ...   \n",
       "5  None          2          2              1  ...   \n",
       "6  None          3          3              1  ...   \n",
       "7  None          2          2              1  ...   \n",
       "8  None          3          3              1  ...   \n",
       "9  None          1          0              1  ...   \n",
       "\n",
       "                                                 url        date starttime  \\\n",
       "0  https://www.oefb.at/bewerbe/Spiel/Aufstellung/...  2021-07-30     17:00   \n",
       "1  https://www.oefb.at/bewerbe/Spiel/Aufstellung/...  2021-07-30     17:30   \n",
       "2  https://www.oefb.at/bewerbe/Spiel/Aufstellung/...  2021-07-31     14:00   \n",
       "3  https://www.oefb.at/bewerbe/Spiel/Aufstellung/...  2021-07-30     17:30   \n",
       "4  https://www.oefb.at/bewerbe/Spiel/Aufstellung/...  2021-07-31     16:00   \n",
       "5  https://www.oefb.at/bewerbe/Spiel/Aufstellung/...  2021-07-30     17:30   \n",
       "6  https://www.oefb.at/bewerbe/Spiel/Aufstellung/...  2021-07-30     16:30   \n",
       "7  https://www.oefb.at/bewerbe/Spiel/Aufstellung/...  2021-07-30     17:30   \n",
       "8  https://www.oefb.at/bewerbe/Spiel/Aufstellung/...  2021-07-30     16:30   \n",
       "9  https://www.oefb.at/bewerbe/Spiel/Aufstellung/...  2021-07-31     14:00   \n",
       "\n",
       "             league     round result away_team_id away_team_trainer_id  \\\n",
       "0  Regionalliga Ost  1. Runde    3:1          196                  300   \n",
       "1  Regionalliga Ost  1. Runde    5:3          200                  312   \n",
       "2  Regionalliga Ost  1. Runde    1:0          199                  306   \n",
       "3  Regionalliga Ost  1. Runde    1:0          266                   33   \n",
       "4  Regionalliga Ost  1. Runde    4:1          202                  313   \n",
       "5  Regionalliga Ost  1. Runde    2:2           54                  250   \n",
       "6  Regionalliga Ost  1. Runde    3:3           53                   66   \n",
       "7  Regionalliga Ost  1. Runde    2:2           54                  250   \n",
       "8  Regionalliga Ost  1. Runde    3:3           53                   66   \n",
       "9  Regionalliga Ost  1. Runde    1:0          199                  306   \n",
       "\n",
       "   home_team_id  home_team_trainer_id  \n",
       "0           267                   308  \n",
       "1           197                   309  \n",
       "2           118                   144  \n",
       "3           195                   301  \n",
       "4            29                    34  \n",
       "5            24                   146  \n",
       "6           119                   303  \n",
       "7            24                   146  \n",
       "8           119                   303  \n",
       "9           118                   144  \n",
       "\n",
       "[10 rows x 22 columns]"
      ]
     },
     "execution_count": 18,
     "metadata": {},
     "output_type": "execute_result"
    }
   ],
   "source": [
    "\n",
    "query_points_per_league_season_round_team=\"\"\"\n",
    "select scored-conceded as difference, *\n",
    "from (\n",
    "select \n",
    "sum(\n",
    "\tCASE WHEN homeresult==awayresult THEN 1 WHEN homeresult>awayresult and m.home_team_id==t.id THEN 3 WHEN homeresult<awayresult and m.away_team_id==t.id THEN 3 ELSE 0 END\n",
    "\t) OVER (\n",
    "\t\tPARTITION BY season,league,name\n",
    "        ORDER BY current_round\n",
    "    ) running_points,\n",
    "\tsum(\n",
    "\tCASE WHEN m.home_team_id==t.id THEN homeresult WHEN  m.away_team_id==t.id THEN awayresult ELSE 0 END\n",
    "\t) OVER (\n",
    "\t\tPARTITION BY season,league,name\n",
    "        ORDER BY current_round\n",
    "    ) scored,\n",
    "    sum(\n",
    "\tCASE WHEN m.home_team_id==t.id THEN awayresult WHEN  m.away_team_id==t.id THEN homeresult  ELSE 0 END\n",
    "\t) OVER (\n",
    "\t\tPARTITION BY season,league,name\n",
    "        ORDER BY current_round\n",
    "    ) conceded,\n",
    "\t *\n",
    "from teams t join  (\n",
    "select substr(result,0,instr(result, ':')) as homeresult,\n",
    "\t\tsubstr(result,instr(result, ':') + 1) as awayresult, cast(substr(round,0,instr(round, '.')) as INT) as current_round,\n",
    "\t\tCASE \n",
    "\t\t   WHEN replace(date,'-','') between '20110701' and '20120701' THEN '2011/12'\n",
    "\t\t   WHEN replace(date,'-','') between '20120701' and '20130701' THEN '2012/13'\n",
    "\t\t   WHEN replace(date,'-','') between '20130701' and '20140701' THEN '2013/14'\n",
    "\t\t   WHEN replace(date,'-','') between '20140701' and '20150701' THEN '2014/15'\n",
    "\t\t   WHEN replace(date,'-','') between '20150701' and '20160701' THEN '2015/16'\n",
    "\t\t   WHEN replace(date,'-','') between '20160701' and '20170701' THEN '2016/17'\n",
    "\t\t   WHEN replace(date,'-','') between '20170701' and '20180701' THEN '2017/18'\n",
    "\t\t   WHEN replace(date,'-','') between '20180701' and '20190701' THEN '2018/19'\n",
    "\t\t   WHEN replace(date,'-','') between '20190701' and '20200701' THEN '2019/20'\n",
    "\t\t   WHEN replace(date,'-','') between '20200701' and '20210701' THEN '2020/21'\n",
    "\t\t   WHEN replace(date,'-','') between '20210701' and '20220701' THEN '2021/22'\n",
    "\t\t   WHEN replace(date,'-','') between '20220701' and '20230701' THEN '2022/23'\n",
    "\t\t   ELSE 'undefined'\n",
    "\t\tEND as season\n",
    "\t\t,* from matches\n",
    "\t\twhere current_round != 0 ) m on (t.id=m.away_team_id or t.id=m.home_team_id)\n",
    "order by season,league,current_round asc,running_points desc) m where season='2021/22' and league=\"Regionalliga Ost\"\n",
    "\"\"\"\n",
    "\n",
    "df=query_database(query_points_per_league_season_round_team,database=\"verbands.db\")\n",
    "df.head(10)"
   ]
  },
  {
   "cell_type": "code",
   "execution_count": 19,
   "id": "b79cf3e8",
   "metadata": {
    "slideshow": {
     "slide_type": "subslide"
    }
   },
   "outputs": [
    {
     "ename": "ValueError",
     "evalue": "Mime type rendering requires nbformat>=4.2.0 but it is not installed",
     "output_type": "error",
     "traceback": [
      "\u001b[1;31m---------------------------------------------------------------------------\u001b[0m",
      "\u001b[1;31mValueError\u001b[0m                                Traceback (most recent call last)",
      "Cell \u001b[1;32mIn [19], line 5\u001b[0m\n\u001b[0;32m      3\u001b[0m fig\u001b[39m.\u001b[39mupdate_xaxes(\u001b[39mrange\u001b[39m\u001b[39m=\u001b[39m[\u001b[39m0\u001b[39m, \u001b[39m60\u001b[39m])\n\u001b[0;32m      4\u001b[0m fig\u001b[39m.\u001b[39mupdate_yaxes(\u001b[39mrange\u001b[39m\u001b[39m=\u001b[39m[\u001b[39m-\u001b[39m\u001b[39m50\u001b[39m, \u001b[39m100\u001b[39m])\n\u001b[1;32m----> 5\u001b[0m fig\u001b[39m.\u001b[39;49mshow()\n",
      "File \u001b[1;32mc:\\Users\\marst\\AppData\\Local\\Programs\\Python\\Python39\\lib\\site-packages\\plotly\\basedatatypes.py:3398\u001b[0m, in \u001b[0;36mBaseFigure.show\u001b[1;34m(self, *args, **kwargs)\u001b[0m\n\u001b[0;32m   3365\u001b[0m \u001b[39m\"\"\"\u001b[39;00m\n\u001b[0;32m   3366\u001b[0m \u001b[39mShow a figure using either the default renderer(s) or the renderer(s)\u001b[39;00m\n\u001b[0;32m   3367\u001b[0m \u001b[39mspecified by the renderer argument\u001b[39;00m\n\u001b[1;32m   (...)\u001b[0m\n\u001b[0;32m   3394\u001b[0m \u001b[39mNone\u001b[39;00m\n\u001b[0;32m   3395\u001b[0m \u001b[39m\"\"\"\u001b[39;00m\n\u001b[0;32m   3396\u001b[0m \u001b[39mimport\u001b[39;00m \u001b[39mplotly\u001b[39;00m\u001b[39m.\u001b[39;00m\u001b[39mio\u001b[39;00m \u001b[39mas\u001b[39;00m \u001b[39mpio\u001b[39;00m\n\u001b[1;32m-> 3398\u001b[0m \u001b[39mreturn\u001b[39;00m pio\u001b[39m.\u001b[39mshow(\u001b[39mself\u001b[39m, \u001b[39m*\u001b[39margs, \u001b[39m*\u001b[39m\u001b[39m*\u001b[39mkwargs)\n",
      "File \u001b[1;32mc:\\Users\\marst\\AppData\\Local\\Programs\\Python\\Python39\\lib\\site-packages\\plotly\\io\\_renderers.py:396\u001b[0m, in \u001b[0;36mshow\u001b[1;34m(fig, renderer, validate, **kwargs)\u001b[0m\n\u001b[0;32m    391\u001b[0m         \u001b[39mraise\u001b[39;00m \u001b[39mValueError\u001b[39;00m(\n\u001b[0;32m    392\u001b[0m             \u001b[39m\"\u001b[39m\u001b[39mMime type rendering requires ipython but it is not installed\u001b[39m\u001b[39m\"\u001b[39m\n\u001b[0;32m    393\u001b[0m         )\n\u001b[0;32m    395\u001b[0m     \u001b[39mif\u001b[39;00m \u001b[39mnot\u001b[39;00m nbformat \u001b[39mor\u001b[39;00m LooseVersion(nbformat\u001b[39m.\u001b[39m__version__) \u001b[39m<\u001b[39m LooseVersion(\u001b[39m\"\u001b[39m\u001b[39m4.2.0\u001b[39m\u001b[39m\"\u001b[39m):\n\u001b[1;32m--> 396\u001b[0m         \u001b[39mraise\u001b[39;00m \u001b[39mValueError\u001b[39;00m(\n\u001b[0;32m    397\u001b[0m             \u001b[39m\"\u001b[39m\u001b[39mMime type rendering requires nbformat>=4.2.0 but it is not installed\u001b[39m\u001b[39m\"\u001b[39m\n\u001b[0;32m    398\u001b[0m         )\n\u001b[0;32m    400\u001b[0m     ipython_display\u001b[39m.\u001b[39mdisplay(bundle, raw\u001b[39m=\u001b[39m\u001b[39mTrue\u001b[39;00m)\n\u001b[0;32m    402\u001b[0m \u001b[39m# external renderers\u001b[39;00m\n",
      "\u001b[1;31mValueError\u001b[0m: Mime type rendering requires nbformat>=4.2.0 but it is not installed"
     ]
    }
   ],
   "source": [
    "fig=px.scatter(df, x=\"running_points\", y=\"difference\", animation_frame=\"current_round\", animation_group=\"name\",\n",
    "           color=\"name\", hover_name=\"name\", size_max=55)\n",
    "fig.update_xaxes(range=[0, 60])\n",
    "fig.update_yaxes(range=[-50, 100])\n",
    "fig.show()\n",
    "#fig.write_html(\"./plots/interactive_plotly.html\")"
   ]
  },
  {
   "cell_type": "code",
   "execution_count": null,
   "id": "ae435b80",
   "metadata": {
    "slideshow": {
     "slide_type": "subslide"
    }
   },
   "outputs": [
    {
     "data": {
      "application/vnd.plotly.v1+json": {
       "config": {
        "plotlyServerURL": "https://plot.ly"
       },
       "data": [
        {
         "hovertemplate": "<b>%{hovertext}</b><br><br>name=ASK-BSC Bruck / Leitha<br>current_round=%{x}<br>running_points=%{y}<extra></extra>",
         "hovertext": [
          "ASK-BSC Bruck / Leitha",
          "ASK-BSC Bruck / Leitha",
          "ASK-BSC Bruck / Leitha",
          "ASK-BSC Bruck / Leitha",
          "ASK-BSC Bruck / Leitha",
          "ASK-BSC Bruck / Leitha",
          "ASK-BSC Bruck / Leitha",
          "ASK-BSC Bruck / Leitha",
          "ASK-BSC Bruck / Leitha",
          "ASK-BSC Bruck / Leitha",
          "ASK-BSC Bruck / Leitha",
          "ASK-BSC Bruck / Leitha",
          "ASK-BSC Bruck / Leitha",
          "ASK-BSC Bruck / Leitha",
          "ASK-BSC Bruck / Leitha",
          "ASK-BSC Bruck / Leitha",
          "ASK-BSC Bruck / Leitha",
          "ASK-BSC Bruck / Leitha",
          "ASK-BSC Bruck / Leitha",
          "ASK-BSC Bruck / Leitha",
          "ASK-BSC Bruck / Leitha",
          "ASK-BSC Bruck / Leitha",
          "ASK-BSC Bruck / Leitha",
          "ASK-BSC Bruck / Leitha",
          "ASK-BSC Bruck / Leitha",
          "ASK-BSC Bruck / Leitha"
         ],
         "legendgroup": "ASK-BSC Bruck / Leitha",
         "line": {
          "color": "#636efa",
          "dash": "solid"
         },
         "marker": {
          "symbol": "circle"
         },
         "mode": "lines",
         "name": "ASK-BSC Bruck / Leitha",
         "orientation": "v",
         "showlegend": true,
         "type": "scatter",
         "x": [
          1,
          2,
          3,
          4,
          5,
          6,
          7,
          8,
          9,
          10,
          11,
          12,
          13,
          14,
          15,
          16,
          17,
          18,
          19,
          20,
          21,
          22,
          23,
          24,
          25,
          26
         ],
         "xaxis": "x",
         "y": [
          3,
          3,
          3,
          6,
          6,
          6,
          6,
          7,
          8,
          8,
          8,
          11,
          12,
          12,
          13,
          14,
          15,
          18,
          19,
          22,
          25,
          26,
          26,
          27,
          27,
          27
         ],
         "yaxis": "y"
        },
        {
         "hovertemplate": "<b>%{hovertext}</b><br><br>name=FCM Traiskirchen<br>current_round=%{x}<br>running_points=%{y}<extra></extra>",
         "hovertext": [
          "FCM Traiskirchen",
          "FCM Traiskirchen",
          "FCM Traiskirchen",
          "FCM Traiskirchen",
          "FCM Traiskirchen",
          "FCM Traiskirchen",
          "FCM Traiskirchen",
          "FCM Traiskirchen",
          "FCM Traiskirchen",
          "FCM Traiskirchen",
          "FCM Traiskirchen",
          "FCM Traiskirchen",
          "FCM Traiskirchen",
          "FCM Traiskirchen",
          "FCM Traiskirchen",
          "FCM Traiskirchen",
          "FCM Traiskirchen",
          "FCM Traiskirchen",
          "FCM Traiskirchen",
          "FCM Traiskirchen",
          "FCM Traiskirchen",
          "FCM Traiskirchen",
          "FCM Traiskirchen",
          "FCM Traiskirchen",
          "FCM Traiskirchen",
          "FCM Traiskirchen"
         ],
         "legendgroup": "FCM Traiskirchen",
         "line": {
          "color": "#EF553B",
          "dash": "solid"
         },
         "marker": {
          "symbol": "circle"
         },
         "mode": "lines",
         "name": "FCM Traiskirchen",
         "orientation": "v",
         "showlegend": true,
         "type": "scatter",
         "x": [
          1,
          2,
          3,
          4,
          5,
          6,
          7,
          8,
          9,
          10,
          11,
          12,
          13,
          14,
          15,
          16,
          17,
          18,
          19,
          20,
          21,
          22,
          23,
          24,
          25,
          26
         ],
         "xaxis": "x",
         "y": [
          3,
          6,
          6,
          9,
          9,
          10,
          10,
          11,
          11,
          14,
          14,
          17,
          20,
          23,
          23,
          26,
          29,
          30,
          30,
          31,
          31,
          31,
          31,
          31,
          34,
          35
         ],
         "yaxis": "y"
        },
        {
         "hovertemplate": "<b>%{hovertext}</b><br><br>name=TWL Elektra<br>current_round=%{x}<br>running_points=%{y}<extra></extra>",
         "hovertext": [
          "TWL Elektra",
          "TWL Elektra",
          "TWL Elektra",
          "TWL Elektra",
          "TWL Elektra",
          "TWL Elektra",
          "TWL Elektra",
          "TWL Elektra",
          "TWL Elektra",
          "TWL Elektra",
          "TWL Elektra",
          "TWL Elektra",
          "TWL Elektra",
          "TWL Elektra",
          "TWL Elektra",
          "TWL Elektra",
          "TWL Elektra",
          "TWL Elektra",
          "TWL Elektra",
          "TWL Elektra",
          "TWL Elektra",
          "TWL Elektra",
          "TWL Elektra",
          "TWL Elektra",
          "TWL Elektra",
          "TWL Elektra"
         ],
         "legendgroup": "TWL Elektra",
         "line": {
          "color": "#00cc96",
          "dash": "solid"
         },
         "marker": {
          "symbol": "circle"
         },
         "mode": "lines",
         "name": "TWL Elektra",
         "orientation": "v",
         "showlegend": true,
         "type": "scatter",
         "x": [
          1,
          2,
          3,
          4,
          5,
          6,
          7,
          8,
          9,
          10,
          11,
          12,
          13,
          14,
          15,
          16,
          17,
          18,
          19,
          20,
          21,
          22,
          23,
          24,
          25,
          26
         ],
         "xaxis": "x",
         "y": [
          3,
          6,
          6,
          9,
          9,
          12,
          15,
          18,
          18,
          18,
          21,
          21,
          22,
          25,
          26,
          26,
          29,
          30,
          33,
          34,
          37,
          37,
          37,
          38,
          38,
          41
         ],
         "yaxis": "y"
        },
        {
         "hovertemplate": "<b>%{hovertext}</b><br><br>name=Wiener Sport-Club<br>current_round=%{x}<br>running_points=%{y}<extra></extra>",
         "hovertext": [
          "Wiener Sport-Club",
          "Wiener Sport-Club",
          "Wiener Sport-Club",
          "Wiener Sport-Club",
          "Wiener Sport-Club",
          "Wiener Sport-Club",
          "Wiener Sport-Club",
          "Wiener Sport-Club",
          "Wiener Sport-Club",
          "Wiener Sport-Club",
          "Wiener Sport-Club",
          "Wiener Sport-Club",
          "Wiener Sport-Club",
          "Wiener Sport-Club",
          "Wiener Sport-Club",
          "Wiener Sport-Club",
          "Wiener Sport-Club",
          "Wiener Sport-Club",
          "Wiener Sport-Club",
          "Wiener Sport-Club",
          "Wiener Sport-Club",
          "Wiener Sport-Club",
          "Wiener Sport-Club",
          "Wiener Sport-Club",
          "Wiener Sport-Club",
          "Wiener Sport-Club"
         ],
         "legendgroup": "Wiener Sport-Club",
         "line": {
          "color": "#ab63fa",
          "dash": "solid"
         },
         "marker": {
          "symbol": "circle"
         },
         "mode": "lines",
         "name": "Wiener Sport-Club",
         "orientation": "v",
         "showlegend": true,
         "type": "scatter",
         "x": [
          1,
          2,
          3,
          4,
          5,
          6,
          7,
          8,
          9,
          10,
          11,
          12,
          13,
          14,
          15,
          16,
          17,
          18,
          19,
          20,
          21,
          22,
          23,
          24,
          25,
          26
         ],
         "xaxis": "x",
         "y": [
          3,
          4,
          7,
          7,
          8,
          11,
          12,
          13,
          16,
          19,
          22,
          22,
          25,
          25,
          25,
          28,
          29,
          29,
          32,
          32,
          33,
          36,
          39,
          42,
          43,
          46
         ],
         "yaxis": "y"
        },
        {
         "hovertemplate": "<b>%{hovertext}</b><br><br>name=Wiener Viktoria<br>current_round=%{x}<br>running_points=%{y}<extra></extra>",
         "hovertext": [
          "Wiener Viktoria",
          "Wiener Viktoria",
          "Wiener Viktoria",
          "Wiener Viktoria",
          "Wiener Viktoria",
          "Wiener Viktoria",
          "Wiener Viktoria",
          "Wiener Viktoria",
          "Wiener Viktoria",
          "Wiener Viktoria",
          "Wiener Viktoria",
          "Wiener Viktoria",
          "Wiener Viktoria",
          "Wiener Viktoria",
          "Wiener Viktoria",
          "Wiener Viktoria",
          "Wiener Viktoria",
          "Wiener Viktoria",
          "Wiener Viktoria",
          "Wiener Viktoria",
          "Wiener Viktoria",
          "Wiener Viktoria",
          "Wiener Viktoria",
          "Wiener Viktoria",
          "Wiener Viktoria",
          "Wiener Viktoria"
         ],
         "legendgroup": "Wiener Viktoria",
         "line": {
          "color": "#FFA15A",
          "dash": "solid"
         },
         "marker": {
          "symbol": "circle"
         },
         "mode": "lines",
         "name": "Wiener Viktoria",
         "orientation": "v",
         "showlegend": true,
         "type": "scatter",
         "x": [
          1,
          2,
          3,
          4,
          5,
          6,
          7,
          8,
          9,
          10,
          11,
          12,
          13,
          14,
          15,
          16,
          17,
          18,
          19,
          20,
          21,
          22,
          23,
          24,
          25,
          26
         ],
         "xaxis": "x",
         "y": [
          3,
          6,
          9,
          9,
          12,
          12,
          13,
          16,
          19,
          19,
          19,
          22,
          23,
          26,
          27,
          28,
          28,
          28,
          28,
          28,
          28,
          31,
          34,
          37,
          38,
          38
         ],
         "yaxis": "y"
        },
        {
         "hovertemplate": "<b>%{hovertext}</b><br><br>name=Draßburg<br>current_round=%{x}<br>running_points=%{y}<extra></extra>",
         "hovertext": [
          "Draßburg",
          "Draßburg",
          "Draßburg",
          "Draßburg",
          "Draßburg",
          "Draßburg",
          "Draßburg",
          "Draßburg",
          "Draßburg",
          "Draßburg",
          "Draßburg",
          "Draßburg",
          "Draßburg",
          "Draßburg",
          "Draßburg",
          "Draßburg",
          "Draßburg",
          "Draßburg",
          "Draßburg",
          "Draßburg",
          "Draßburg",
          "Draßburg",
          "Draßburg",
          "Draßburg",
          "Draßburg",
          "Draßburg"
         ],
         "legendgroup": "Draßburg",
         "line": {
          "color": "#19d3f3",
          "dash": "solid"
         },
         "marker": {
          "symbol": "circle"
         },
         "mode": "lines",
         "name": "Draßburg",
         "orientation": "v",
         "showlegend": true,
         "type": "scatter",
         "x": [
          1,
          2,
          3,
          4,
          5,
          6,
          7,
          8,
          9,
          10,
          11,
          12,
          13,
          14,
          15,
          16,
          17,
          18,
          19,
          20,
          21,
          22,
          23,
          24,
          25,
          26
         ],
         "xaxis": "x",
         "y": [
          1,
          1,
          1,
          1,
          1,
          1,
          4,
          5,
          5,
          5,
          8,
          8,
          8,
          11,
          11,
          11,
          12,
          12,
          12,
          12,
          13,
          13,
          13,
          16,
          16,
          16
         ],
         "yaxis": "y"
        },
        {
         "hovertemplate": "<b>%{hovertext}</b><br><br>name=First Vienna FC 1894<br>current_round=%{x}<br>running_points=%{y}<extra></extra>",
         "hovertext": [
          "First Vienna FC 1894",
          "First Vienna FC 1894",
          "First Vienna FC 1894",
          "First Vienna FC 1894",
          "First Vienna FC 1894",
          "First Vienna FC 1894",
          "First Vienna FC 1894",
          "First Vienna FC 1894",
          "First Vienna FC 1894",
          "First Vienna FC 1894",
          "First Vienna FC 1894",
          "First Vienna FC 1894",
          "First Vienna FC 1894",
          "First Vienna FC 1894",
          "First Vienna FC 1894",
          "First Vienna FC 1894",
          "First Vienna FC 1894",
          "First Vienna FC 1894",
          "First Vienna FC 1894",
          "First Vienna FC 1894",
          "First Vienna FC 1894",
          "First Vienna FC 1894",
          "First Vienna FC 1894",
          "First Vienna FC 1894",
          "First Vienna FC 1894",
          "First Vienna FC 1894"
         ],
         "legendgroup": "First Vienna FC 1894",
         "line": {
          "color": "#FF6692",
          "dash": "solid"
         },
         "marker": {
          "symbol": "circle"
         },
         "mode": "lines",
         "name": "First Vienna FC 1894",
         "orientation": "v",
         "showlegend": true,
         "type": "scatter",
         "x": [
          1,
          2,
          3,
          4,
          5,
          6,
          7,
          8,
          9,
          10,
          11,
          12,
          13,
          14,
          15,
          16,
          17,
          18,
          19,
          20,
          21,
          22,
          23,
          24,
          25,
          26
         ],
         "xaxis": "x",
         "y": [
          1,
          4,
          7,
          10,
          13,
          14,
          17,
          18,
          18,
          21,
          24,
          27,
          28,
          29,
          32,
          32,
          35,
          38,
          41,
          44,
          47,
          50,
          53,
          54,
          55,
          58
         ],
         "yaxis": "y"
        },
        {
         "hovertemplate": "<b>%{hovertext}</b><br><br>name=SC Neusiedl am See 1919<br>current_round=%{x}<br>running_points=%{y}<extra></extra>",
         "hovertext": [
          "SC Neusiedl am See 1919",
          "SC Neusiedl am See 1919",
          "SC Neusiedl am See 1919",
          "SC Neusiedl am See 1919",
          "SC Neusiedl am See 1919",
          "SC Neusiedl am See 1919",
          "SC Neusiedl am See 1919",
          "SC Neusiedl am See 1919",
          "SC Neusiedl am See 1919",
          "SC Neusiedl am See 1919",
          "SC Neusiedl am See 1919",
          "SC Neusiedl am See 1919",
          "SC Neusiedl am See 1919",
          "SC Neusiedl am See 1919",
          "SC Neusiedl am See 1919",
          "SC Neusiedl am See 1919",
          "SC Neusiedl am See 1919",
          "SC Neusiedl am See 1919",
          "SC Neusiedl am See 1919",
          "SC Neusiedl am See 1919",
          "SC Neusiedl am See 1919",
          "SC Neusiedl am See 1919",
          "SC Neusiedl am See 1919",
          "SC Neusiedl am See 1919",
          "SC Neusiedl am See 1919",
          "SC Neusiedl am See 1919"
         ],
         "legendgroup": "SC Neusiedl am See 1919",
         "line": {
          "color": "#B6E880",
          "dash": "solid"
         },
         "marker": {
          "symbol": "circle"
         },
         "mode": "lines",
         "name": "SC Neusiedl am See 1919",
         "orientation": "v",
         "showlegend": true,
         "type": "scatter",
         "x": [
          1,
          2,
          3,
          4,
          5,
          6,
          7,
          8,
          9,
          10,
          11,
          12,
          13,
          14,
          15,
          16,
          17,
          18,
          19,
          20,
          21,
          22,
          23,
          24,
          25,
          26
         ],
         "xaxis": "x",
         "y": [
          1,
          1,
          4,
          7,
          7,
          10,
          10,
          13,
          16,
          19,
          19,
          19,
          19,
          19,
          22,
          25,
          28,
          28,
          29,
          32,
          33,
          36,
          39,
          39,
          40,
          41
         ],
         "yaxis": "y"
        },
        {
         "hovertemplate": "<b>%{hovertext}</b><br><br>name=Stripfing<br>current_round=%{x}<br>running_points=%{y}<extra></extra>",
         "hovertext": [
          "Stripfing",
          "Stripfing",
          "Stripfing",
          "Stripfing",
          "Stripfing",
          "Stripfing",
          "Stripfing",
          "Stripfing",
          "Stripfing",
          "Stripfing",
          "Stripfing",
          "Stripfing",
          "Stripfing",
          "Stripfing",
          "Stripfing",
          "Stripfing",
          "Stripfing",
          "Stripfing",
          "Stripfing",
          "Stripfing",
          "Stripfing",
          "Stripfing",
          "Stripfing",
          "Stripfing",
          "Stripfing",
          "Stripfing"
         ],
         "legendgroup": "Stripfing",
         "line": {
          "color": "#FF97FF",
          "dash": "solid"
         },
         "marker": {
          "symbol": "circle"
         },
         "mode": "lines",
         "name": "Stripfing",
         "orientation": "v",
         "showlegend": true,
         "type": "scatter",
         "x": [
          1,
          2,
          3,
          4,
          5,
          6,
          7,
          8,
          9,
          10,
          11,
          12,
          13,
          14,
          15,
          16,
          17,
          18,
          19,
          20,
          21,
          22,
          23,
          24,
          25,
          26
         ],
         "xaxis": "x",
         "y": [
          1,
          4,
          5,
          8,
          11,
          14,
          15,
          15,
          18,
          21,
          24,
          27,
          30,
          31,
          34,
          35,
          36,
          37,
          38,
          41,
          44,
          47,
          50,
          53,
          53,
          54
         ],
         "yaxis": "y"
        },
        {
         "hovertemplate": "<b>%{hovertext}</b><br><br>name=Admira Juniors<br>current_round=%{x}<br>running_points=%{y}<extra></extra>",
         "hovertext": [
          "Admira Juniors",
          "Admira Juniors",
          "Admira Juniors",
          "Admira Juniors",
          "Admira Juniors",
          "Admira Juniors",
          "Admira Juniors",
          "Admira Juniors",
          "Admira Juniors",
          "Admira Juniors",
          "Admira Juniors",
          "Admira Juniors",
          "Admira Juniors",
          "Admira Juniors",
          "Admira Juniors",
          "Admira Juniors",
          "Admira Juniors",
          "Admira Juniors",
          "Admira Juniors",
          "Admira Juniors",
          "Admira Juniors",
          "Admira Juniors",
          "Admira Juniors",
          "Admira Juniors",
          "Admira Juniors",
          "Admira Juniors"
         ],
         "legendgroup": "Admira Juniors",
         "line": {
          "color": "#FECB52",
          "dash": "solid"
         },
         "marker": {
          "symbol": "circle"
         },
         "mode": "lines",
         "name": "Admira Juniors",
         "orientation": "v",
         "showlegend": true,
         "type": "scatter",
         "x": [
          1,
          2,
          3,
          4,
          5,
          6,
          7,
          8,
          9,
          10,
          11,
          12,
          13,
          14,
          15,
          16,
          17,
          18,
          19,
          20,
          21,
          22,
          23,
          24,
          25,
          26
         ],
         "xaxis": "x",
         "y": [
          0,
          3,
          6,
          6,
          7,
          8,
          9,
          10,
          10,
          10,
          10,
          10,
          10,
          10,
          10,
          11,
          11,
          14,
          14,
          17,
          17,
          17,
          18,
          18,
          18,
          19
         ],
         "yaxis": "y"
        },
        {
         "hovertemplate": "<b>%{hovertext}</b><br><br>name=FC Marchfeld  /  Mannsdorf-Große.<br>current_round=%{x}<br>running_points=%{y}<extra></extra>",
         "hovertext": [
          "FC Marchfeld  /  Mannsdorf-Große.",
          "FC Marchfeld  /  Mannsdorf-Große.",
          "FC Marchfeld  /  Mannsdorf-Große.",
          "FC Marchfeld  /  Mannsdorf-Große.",
          "FC Marchfeld  /  Mannsdorf-Große.",
          "FC Marchfeld  /  Mannsdorf-Große.",
          "FC Marchfeld  /  Mannsdorf-Große.",
          "FC Marchfeld  /  Mannsdorf-Große.",
          "FC Marchfeld  /  Mannsdorf-Große.",
          "FC Marchfeld  /  Mannsdorf-Große.",
          "FC Marchfeld  /  Mannsdorf-Große.",
          "FC Marchfeld  /  Mannsdorf-Große.",
          "FC Marchfeld  /  Mannsdorf-Große.",
          "FC Marchfeld  /  Mannsdorf-Große.",
          "FC Marchfeld  /  Mannsdorf-Große.",
          "FC Marchfeld  /  Mannsdorf-Große.",
          "FC Marchfeld  /  Mannsdorf-Große.",
          "FC Marchfeld  /  Mannsdorf-Große.",
          "FC Marchfeld  /  Mannsdorf-Große.",
          "FC Marchfeld  /  Mannsdorf-Große.",
          "FC Marchfeld  /  Mannsdorf-Große.",
          "FC Marchfeld  /  Mannsdorf-Große.",
          "FC Marchfeld  /  Mannsdorf-Große.",
          "FC Marchfeld  /  Mannsdorf-Große.",
          "FC Marchfeld  /  Mannsdorf-Große.",
          "FC Marchfeld  /  Mannsdorf-Große."
         ],
         "legendgroup": "FC Marchfeld  /  Mannsdorf-Große.",
         "line": {
          "color": "#636efa",
          "dash": "solid"
         },
         "marker": {
          "symbol": "circle"
         },
         "mode": "lines",
         "name": "FC Marchfeld  /  Mannsdorf-Große.",
         "orientation": "v",
         "showlegend": true,
         "type": "scatter",
         "x": [
          1,
          2,
          3,
          4,
          5,
          6,
          7,
          8,
          9,
          10,
          11,
          12,
          13,
          14,
          15,
          16,
          17,
          18,
          19,
          20,
          21,
          22,
          23,
          24,
          25,
          26
         ],
         "xaxis": "x",
         "y": [
          0,
          0,
          1,
          4,
          7,
          8,
          11,
          12,
          15,
          18,
          18,
          21,
          22,
          25,
          26,
          27,
          28,
          29,
          30,
          30,
          30,
          33,
          34,
          34,
          37,
          40
         ],
         "yaxis": "y"
        },
        {
         "hovertemplate": "<b>%{hovertext}</b><br><br>name=FC Mauerwerk<br>current_round=%{x}<br>running_points=%{y}<extra></extra>",
         "hovertext": [
          "FC Mauerwerk",
          "FC Mauerwerk",
          "FC Mauerwerk",
          "FC Mauerwerk",
          "FC Mauerwerk",
          "FC Mauerwerk",
          "FC Mauerwerk",
          "FC Mauerwerk",
          "FC Mauerwerk",
          "FC Mauerwerk",
          "FC Mauerwerk",
          "FC Mauerwerk",
          "FC Mauerwerk",
          "FC Mauerwerk",
          "FC Mauerwerk",
          "FC Mauerwerk",
          "FC Mauerwerk",
          "FC Mauerwerk",
          "FC Mauerwerk",
          "FC Mauerwerk",
          "FC Mauerwerk",
          "FC Mauerwerk",
          "FC Mauerwerk",
          "FC Mauerwerk",
          "FC Mauerwerk",
          "FC Mauerwerk"
         ],
         "legendgroup": "FC Mauerwerk",
         "line": {
          "color": "#EF553B",
          "dash": "solid"
         },
         "marker": {
          "symbol": "circle"
         },
         "mode": "lines",
         "name": "FC Mauerwerk",
         "orientation": "v",
         "showlegend": true,
         "type": "scatter",
         "x": [
          1,
          2,
          3,
          4,
          5,
          6,
          7,
          8,
          9,
          10,
          11,
          12,
          13,
          14,
          15,
          16,
          17,
          18,
          19,
          20,
          21,
          22,
          23,
          24,
          25,
          26
         ],
         "xaxis": "x",
         "y": [
          0,
          0,
          0,
          0,
          3,
          4,
          4,
          4,
          5,
          5,
          8,
          8,
          11,
          11,
          14,
          14,
          14,
          15,
          16,
          16,
          16,
          17,
          17,
          17,
          20,
          23
         ],
         "yaxis": "y"
        },
        {
         "hovertemplate": "<b>%{hovertext}</b><br><br>name=SC Wiener Neustadt<br>current_round=%{x}<br>running_points=%{y}<extra></extra>",
         "hovertext": [
          "SC Wiener Neustadt",
          "SC Wiener Neustadt",
          "SC Wiener Neustadt",
          "SC Wiener Neustadt",
          "SC Wiener Neustadt",
          "SC Wiener Neustadt",
          "SC Wiener Neustadt",
          "SC Wiener Neustadt",
          "SC Wiener Neustadt",
          "SC Wiener Neustadt",
          "SC Wiener Neustadt",
          "SC Wiener Neustadt",
          "SC Wiener Neustadt",
          "SC Wiener Neustadt",
          "SC Wiener Neustadt",
          "SC Wiener Neustadt",
          "SC Wiener Neustadt",
          "SC Wiener Neustadt",
          "SC Wiener Neustadt",
          "SC Wiener Neustadt",
          "SC Wiener Neustadt",
          "SC Wiener Neustadt",
          "SC Wiener Neustadt",
          "SC Wiener Neustadt",
          "SC Wiener Neustadt",
          "SC Wiener Neustadt"
         ],
         "legendgroup": "SC Wiener Neustadt",
         "line": {
          "color": "#00cc96",
          "dash": "solid"
         },
         "marker": {
          "symbol": "circle"
         },
         "mode": "lines",
         "name": "SC Wiener Neustadt",
         "orientation": "v",
         "showlegend": true,
         "type": "scatter",
         "x": [
          1,
          2,
          3,
          4,
          5,
          6,
          7,
          8,
          9,
          10,
          11,
          12,
          13,
          14,
          15,
          16,
          17,
          18,
          19,
          20,
          21,
          22,
          23,
          24,
          25,
          26
         ],
         "xaxis": "x",
         "y": [
          0,
          0,
          3,
          3,
          3,
          3,
          3,
          4,
          4,
          4,
          4,
          4,
          4,
          4,
          4,
          7,
          7,
          8,
          9,
          9,
          12,
          12,
          15,
          16,
          19,
          19
         ],
         "yaxis": "y"
        },
        {
         "hovertemplate": "<b>%{hovertext}</b><br><br>name=SV Leobendorf<br>current_round=%{x}<br>running_points=%{y}<extra></extra>",
         "hovertext": [
          "SV Leobendorf",
          "SV Leobendorf",
          "SV Leobendorf",
          "SV Leobendorf",
          "SV Leobendorf",
          "SV Leobendorf",
          "SV Leobendorf",
          "SV Leobendorf",
          "SV Leobendorf",
          "SV Leobendorf",
          "SV Leobendorf",
          "SV Leobendorf",
          "SV Leobendorf",
          "SV Leobendorf",
          "SV Leobendorf",
          "SV Leobendorf",
          "SV Leobendorf",
          "SV Leobendorf",
          "SV Leobendorf",
          "SV Leobendorf",
          "SV Leobendorf",
          "SV Leobendorf",
          "SV Leobendorf",
          "SV Leobendorf",
          "SV Leobendorf",
          "SV Leobendorf"
         ],
         "legendgroup": "SV Leobendorf",
         "line": {
          "color": "#ab63fa",
          "dash": "solid"
         },
         "marker": {
          "symbol": "circle"
         },
         "mode": "lines",
         "name": "SV Leobendorf",
         "orientation": "v",
         "showlegend": true,
         "type": "scatter",
         "x": [
          1,
          2,
          3,
          4,
          5,
          6,
          7,
          8,
          9,
          10,
          11,
          12,
          13,
          14,
          15,
          16,
          17,
          18,
          19,
          20,
          21,
          22,
          23,
          24,
          25,
          26
         ],
         "xaxis": "x",
         "y": [
          0,
          1,
          1,
          1,
          4,
          5,
          8,
          8,
          11,
          14,
          17,
          20,
          21,
          24,
          27,
          28,
          29,
          32,
          35,
          38,
          39,
          39,
          39,
          42,
          45,
          45
         ],
         "yaxis": "y"
        }
       ],
       "layout": {
        "legend": {
         "title": {
          "text": "name"
         },
         "tracegroupgap": 0
        },
        "margin": {
         "t": 60
        },
        "template": {
         "data": {
          "bar": [
           {
            "error_x": {
             "color": "#2a3f5f"
            },
            "error_y": {
             "color": "#2a3f5f"
            },
            "marker": {
             "line": {
              "color": "#E5ECF6",
              "width": 0.5
             },
             "pattern": {
              "fillmode": "overlay",
              "size": 10,
              "solidity": 0.2
             }
            },
            "type": "bar"
           }
          ],
          "barpolar": [
           {
            "marker": {
             "line": {
              "color": "#E5ECF6",
              "width": 0.5
             },
             "pattern": {
              "fillmode": "overlay",
              "size": 10,
              "solidity": 0.2
             }
            },
            "type": "barpolar"
           }
          ],
          "carpet": [
           {
            "aaxis": {
             "endlinecolor": "#2a3f5f",
             "gridcolor": "white",
             "linecolor": "white",
             "minorgridcolor": "white",
             "startlinecolor": "#2a3f5f"
            },
            "baxis": {
             "endlinecolor": "#2a3f5f",
             "gridcolor": "white",
             "linecolor": "white",
             "minorgridcolor": "white",
             "startlinecolor": "#2a3f5f"
            },
            "type": "carpet"
           }
          ],
          "choropleth": [
           {
            "colorbar": {
             "outlinewidth": 0,
             "ticks": ""
            },
            "type": "choropleth"
           }
          ],
          "contour": [
           {
            "colorbar": {
             "outlinewidth": 0,
             "ticks": ""
            },
            "colorscale": [
             [
              0,
              "#0d0887"
             ],
             [
              0.1111111111111111,
              "#46039f"
             ],
             [
              0.2222222222222222,
              "#7201a8"
             ],
             [
              0.3333333333333333,
              "#9c179e"
             ],
             [
              0.4444444444444444,
              "#bd3786"
             ],
             [
              0.5555555555555556,
              "#d8576b"
             ],
             [
              0.6666666666666666,
              "#ed7953"
             ],
             [
              0.7777777777777778,
              "#fb9f3a"
             ],
             [
              0.8888888888888888,
              "#fdca26"
             ],
             [
              1,
              "#f0f921"
             ]
            ],
            "type": "contour"
           }
          ],
          "contourcarpet": [
           {
            "colorbar": {
             "outlinewidth": 0,
             "ticks": ""
            },
            "type": "contourcarpet"
           }
          ],
          "heatmap": [
           {
            "colorbar": {
             "outlinewidth": 0,
             "ticks": ""
            },
            "colorscale": [
             [
              0,
              "#0d0887"
             ],
             [
              0.1111111111111111,
              "#46039f"
             ],
             [
              0.2222222222222222,
              "#7201a8"
             ],
             [
              0.3333333333333333,
              "#9c179e"
             ],
             [
              0.4444444444444444,
              "#bd3786"
             ],
             [
              0.5555555555555556,
              "#d8576b"
             ],
             [
              0.6666666666666666,
              "#ed7953"
             ],
             [
              0.7777777777777778,
              "#fb9f3a"
             ],
             [
              0.8888888888888888,
              "#fdca26"
             ],
             [
              1,
              "#f0f921"
             ]
            ],
            "type": "heatmap"
           }
          ],
          "heatmapgl": [
           {
            "colorbar": {
             "outlinewidth": 0,
             "ticks": ""
            },
            "colorscale": [
             [
              0,
              "#0d0887"
             ],
             [
              0.1111111111111111,
              "#46039f"
             ],
             [
              0.2222222222222222,
              "#7201a8"
             ],
             [
              0.3333333333333333,
              "#9c179e"
             ],
             [
              0.4444444444444444,
              "#bd3786"
             ],
             [
              0.5555555555555556,
              "#d8576b"
             ],
             [
              0.6666666666666666,
              "#ed7953"
             ],
             [
              0.7777777777777778,
              "#fb9f3a"
             ],
             [
              0.8888888888888888,
              "#fdca26"
             ],
             [
              1,
              "#f0f921"
             ]
            ],
            "type": "heatmapgl"
           }
          ],
          "histogram": [
           {
            "marker": {
             "pattern": {
              "fillmode": "overlay",
              "size": 10,
              "solidity": 0.2
             }
            },
            "type": "histogram"
           }
          ],
          "histogram2d": [
           {
            "colorbar": {
             "outlinewidth": 0,
             "ticks": ""
            },
            "colorscale": [
             [
              0,
              "#0d0887"
             ],
             [
              0.1111111111111111,
              "#46039f"
             ],
             [
              0.2222222222222222,
              "#7201a8"
             ],
             [
              0.3333333333333333,
              "#9c179e"
             ],
             [
              0.4444444444444444,
              "#bd3786"
             ],
             [
              0.5555555555555556,
              "#d8576b"
             ],
             [
              0.6666666666666666,
              "#ed7953"
             ],
             [
              0.7777777777777778,
              "#fb9f3a"
             ],
             [
              0.8888888888888888,
              "#fdca26"
             ],
             [
              1,
              "#f0f921"
             ]
            ],
            "type": "histogram2d"
           }
          ],
          "histogram2dcontour": [
           {
            "colorbar": {
             "outlinewidth": 0,
             "ticks": ""
            },
            "colorscale": [
             [
              0,
              "#0d0887"
             ],
             [
              0.1111111111111111,
              "#46039f"
             ],
             [
              0.2222222222222222,
              "#7201a8"
             ],
             [
              0.3333333333333333,
              "#9c179e"
             ],
             [
              0.4444444444444444,
              "#bd3786"
             ],
             [
              0.5555555555555556,
              "#d8576b"
             ],
             [
              0.6666666666666666,
              "#ed7953"
             ],
             [
              0.7777777777777778,
              "#fb9f3a"
             ],
             [
              0.8888888888888888,
              "#fdca26"
             ],
             [
              1,
              "#f0f921"
             ]
            ],
            "type": "histogram2dcontour"
           }
          ],
          "mesh3d": [
           {
            "colorbar": {
             "outlinewidth": 0,
             "ticks": ""
            },
            "type": "mesh3d"
           }
          ],
          "parcoords": [
           {
            "line": {
             "colorbar": {
              "outlinewidth": 0,
              "ticks": ""
             }
            },
            "type": "parcoords"
           }
          ],
          "pie": [
           {
            "automargin": true,
            "type": "pie"
           }
          ],
          "scatter": [
           {
            "fillpattern": {
             "fillmode": "overlay",
             "size": 10,
             "solidity": 0.2
            },
            "type": "scatter"
           }
          ],
          "scatter3d": [
           {
            "line": {
             "colorbar": {
              "outlinewidth": 0,
              "ticks": ""
             }
            },
            "marker": {
             "colorbar": {
              "outlinewidth": 0,
              "ticks": ""
             }
            },
            "type": "scatter3d"
           }
          ],
          "scattercarpet": [
           {
            "marker": {
             "colorbar": {
              "outlinewidth": 0,
              "ticks": ""
             }
            },
            "type": "scattercarpet"
           }
          ],
          "scattergeo": [
           {
            "marker": {
             "colorbar": {
              "outlinewidth": 0,
              "ticks": ""
             }
            },
            "type": "scattergeo"
           }
          ],
          "scattergl": [
           {
            "marker": {
             "colorbar": {
              "outlinewidth": 0,
              "ticks": ""
             }
            },
            "type": "scattergl"
           }
          ],
          "scattermapbox": [
           {
            "marker": {
             "colorbar": {
              "outlinewidth": 0,
              "ticks": ""
             }
            },
            "type": "scattermapbox"
           }
          ],
          "scatterpolar": [
           {
            "marker": {
             "colorbar": {
              "outlinewidth": 0,
              "ticks": ""
             }
            },
            "type": "scatterpolar"
           }
          ],
          "scatterpolargl": [
           {
            "marker": {
             "colorbar": {
              "outlinewidth": 0,
              "ticks": ""
             }
            },
            "type": "scatterpolargl"
           }
          ],
          "scatterternary": [
           {
            "marker": {
             "colorbar": {
              "outlinewidth": 0,
              "ticks": ""
             }
            },
            "type": "scatterternary"
           }
          ],
          "surface": [
           {
            "colorbar": {
             "outlinewidth": 0,
             "ticks": ""
            },
            "colorscale": [
             [
              0,
              "#0d0887"
             ],
             [
              0.1111111111111111,
              "#46039f"
             ],
             [
              0.2222222222222222,
              "#7201a8"
             ],
             [
              0.3333333333333333,
              "#9c179e"
             ],
             [
              0.4444444444444444,
              "#bd3786"
             ],
             [
              0.5555555555555556,
              "#d8576b"
             ],
             [
              0.6666666666666666,
              "#ed7953"
             ],
             [
              0.7777777777777778,
              "#fb9f3a"
             ],
             [
              0.8888888888888888,
              "#fdca26"
             ],
             [
              1,
              "#f0f921"
             ]
            ],
            "type": "surface"
           }
          ],
          "table": [
           {
            "cells": {
             "fill": {
              "color": "#EBF0F8"
             },
             "line": {
              "color": "white"
             }
            },
            "header": {
             "fill": {
              "color": "#C8D4E3"
             },
             "line": {
              "color": "white"
             }
            },
            "type": "table"
           }
          ]
         },
         "layout": {
          "annotationdefaults": {
           "arrowcolor": "#2a3f5f",
           "arrowhead": 0,
           "arrowwidth": 1
          },
          "autotypenumbers": "strict",
          "coloraxis": {
           "colorbar": {
            "outlinewidth": 0,
            "ticks": ""
           }
          },
          "colorscale": {
           "diverging": [
            [
             0,
             "#8e0152"
            ],
            [
             0.1,
             "#c51b7d"
            ],
            [
             0.2,
             "#de77ae"
            ],
            [
             0.3,
             "#f1b6da"
            ],
            [
             0.4,
             "#fde0ef"
            ],
            [
             0.5,
             "#f7f7f7"
            ],
            [
             0.6,
             "#e6f5d0"
            ],
            [
             0.7,
             "#b8e186"
            ],
            [
             0.8,
             "#7fbc41"
            ],
            [
             0.9,
             "#4d9221"
            ],
            [
             1,
             "#276419"
            ]
           ],
           "sequential": [
            [
             0,
             "#0d0887"
            ],
            [
             0.1111111111111111,
             "#46039f"
            ],
            [
             0.2222222222222222,
             "#7201a8"
            ],
            [
             0.3333333333333333,
             "#9c179e"
            ],
            [
             0.4444444444444444,
             "#bd3786"
            ],
            [
             0.5555555555555556,
             "#d8576b"
            ],
            [
             0.6666666666666666,
             "#ed7953"
            ],
            [
             0.7777777777777778,
             "#fb9f3a"
            ],
            [
             0.8888888888888888,
             "#fdca26"
            ],
            [
             1,
             "#f0f921"
            ]
           ],
           "sequentialminus": [
            [
             0,
             "#0d0887"
            ],
            [
             0.1111111111111111,
             "#46039f"
            ],
            [
             0.2222222222222222,
             "#7201a8"
            ],
            [
             0.3333333333333333,
             "#9c179e"
            ],
            [
             0.4444444444444444,
             "#bd3786"
            ],
            [
             0.5555555555555556,
             "#d8576b"
            ],
            [
             0.6666666666666666,
             "#ed7953"
            ],
            [
             0.7777777777777778,
             "#fb9f3a"
            ],
            [
             0.8888888888888888,
             "#fdca26"
            ],
            [
             1,
             "#f0f921"
            ]
           ]
          },
          "colorway": [
           "#636efa",
           "#EF553B",
           "#00cc96",
           "#ab63fa",
           "#FFA15A",
           "#19d3f3",
           "#FF6692",
           "#B6E880",
           "#FF97FF",
           "#FECB52"
          ],
          "font": {
           "color": "#2a3f5f"
          },
          "geo": {
           "bgcolor": "white",
           "lakecolor": "white",
           "landcolor": "#E5ECF6",
           "showlakes": true,
           "showland": true,
           "subunitcolor": "white"
          },
          "hoverlabel": {
           "align": "left"
          },
          "hovermode": "closest",
          "mapbox": {
           "style": "light"
          },
          "paper_bgcolor": "white",
          "plot_bgcolor": "#E5ECF6",
          "polar": {
           "angularaxis": {
            "gridcolor": "white",
            "linecolor": "white",
            "ticks": ""
           },
           "bgcolor": "#E5ECF6",
           "radialaxis": {
            "gridcolor": "white",
            "linecolor": "white",
            "ticks": ""
           }
          },
          "scene": {
           "xaxis": {
            "backgroundcolor": "#E5ECF6",
            "gridcolor": "white",
            "gridwidth": 2,
            "linecolor": "white",
            "showbackground": true,
            "ticks": "",
            "zerolinecolor": "white"
           },
           "yaxis": {
            "backgroundcolor": "#E5ECF6",
            "gridcolor": "white",
            "gridwidth": 2,
            "linecolor": "white",
            "showbackground": true,
            "ticks": "",
            "zerolinecolor": "white"
           },
           "zaxis": {
            "backgroundcolor": "#E5ECF6",
            "gridcolor": "white",
            "gridwidth": 2,
            "linecolor": "white",
            "showbackground": true,
            "ticks": "",
            "zerolinecolor": "white"
           }
          },
          "shapedefaults": {
           "line": {
            "color": "#2a3f5f"
           }
          },
          "ternary": {
           "aaxis": {
            "gridcolor": "white",
            "linecolor": "white",
            "ticks": ""
           },
           "baxis": {
            "gridcolor": "white",
            "linecolor": "white",
            "ticks": ""
           },
           "bgcolor": "#E5ECF6",
           "caxis": {
            "gridcolor": "white",
            "linecolor": "white",
            "ticks": ""
           }
          },
          "title": {
           "x": 0.05
          },
          "xaxis": {
           "automargin": true,
           "gridcolor": "white",
           "linecolor": "white",
           "ticks": "",
           "title": {
            "standoff": 15
           },
           "zerolinecolor": "white",
           "zerolinewidth": 2
          },
          "yaxis": {
           "automargin": true,
           "gridcolor": "white",
           "linecolor": "white",
           "ticks": "",
           "title": {
            "standoff": 15
           },
           "zerolinecolor": "white",
           "zerolinewidth": 2
          }
         }
        },
        "xaxis": {
         "anchor": "y",
         "domain": [
          0,
          1
         ],
         "title": {
          "text": "current_round"
         }
        },
        "yaxis": {
         "anchor": "x",
         "domain": [
          0,
          1
         ],
         "title": {
          "text": "running_points"
         }
        }
       }
      }
     },
     "metadata": {},
     "output_type": "display_data"
    }
   ],
   "source": [
    "df=query_database(query_points_per_league_season_round_team,database=\"verbands.db\")\n",
    "\n",
    "fig=px.line(df, x=\"current_round\", y=\"running_points\",\n",
    "           color=\"name\", hover_name=\"name\")\n",
    "#fig.update_xaxes(range=[0, 60])\n",
    "#fig.update_yaxes(range=[-50, 100])\n",
    "fig.show()\n",
    "#fig.write_html(\"./plots/interactive_plotly.html\")"
   ]
  },
  {
   "cell_type": "code",
   "execution_count": null,
   "id": "b7f900c0",
   "metadata": {
    "slideshow": {
     "slide_type": "skip"
    }
   },
   "outputs": [
    {
     "data": {
      "text/html": [
       "<style>\n",
       "table {float:center}\n",
       "</style>\n"
      ],
      "text/plain": [
       "<IPython.core.display.HTML object>"
      ]
     },
     "metadata": {},
     "output_type": "display_data"
    }
   ],
   "source": [
    "%%html\n",
    "<style>\n",
    "table {float:center}\n",
    "</style>"
   ]
  },
  {
   "cell_type": "markdown",
   "id": "736add0f",
   "metadata": {
    "slideshow": {
     "slide_type": "slide"
    }
   },
   "source": [
    "## Einfach Statistiken\n",
    "\n",
    "\n",
    "### Trainer bei Draßburg Saison 2021/22\n",
    "\n",
    "|Statistiken: | Trainer Mandl | Anderer Trainer \n",
    "|:-------- | -------- | -------- \n",
    "|Durchschnittliche Punkte pro Spiel | 0.8 |  0.571\n",
    "|Durchschnittliche Tore pro Spiel Geschossen/Bekommen | 1.2 / 1.8 | 0.76 / 2.19\n",
    "|Durchschnittliche Karten pro Spiel | 1.6 / 0.2 |  2.24 / 0.1\n",
    "|Anzahl verwendeter Spieler| 23 | 35\n"
   ]
  },
  {
   "cell_type": "code",
   "execution_count": null,
   "id": "8b61bb86",
   "metadata": {
    "slideshow": {
     "slide_type": "skip"
    }
   },
   "outputs": [],
   "source": [
    "# GET TABLE\n",
    "query_table_averag_points_mandl=(\"\"\"\n",
    "Select m.league,t.name, \n",
    "sum(\n",
    "CASE WHEN homeresult==awayresult THEN 1 WHEN homeresult>awayresult and m.home_team_id==t.id THEN 3 WHEN homeresult<awayresult and m.away_team_id==t.id THEN 3 ELSE 0 END\n",
    ") as 'Points' ,\n",
    "count(*) as 'Games', \n",
    "avg(\n",
    "CASE WHEN homeresult==awayresult THEN 1 WHEN homeresult>awayresult and m.home_team_id==t.id THEN 3 WHEN homeresult<awayresult and m.away_team_id==t.id THEN 3 ELSE 0 END\n",
    ") as 'Average Points',\n",
    "sum(\n",
    "\tCASE WHEN m.home_team_id==t.id THEN homeresult WHEN  m.away_team_id==t.id THEN awayresult ELSE 0 END\n",
    "\t) as scored,\n",
    "sum(\n",
    "\tCASE WHEN m.home_team_id==t.id THEN awayresult WHEN  m.away_team_id==t.id THEN homeresult  ELSE 0 END\n",
    "\t) as conceded\n",
    "from teams t join \n",
    "\t(select substr(result,0,instr(result, ':')) as homeresult,\n",
    "\tsubstr(result,instr(result, ':') + 1) as awayresult,cast(substr(round,0,instr(round, '.')) as INT) as current_round,* from matches) m \n",
    "on (t.id=m.away_team_id or t.id=m.home_team_id) \n",
    "--join trainers c on (m.home_team_trainer_id=c.id or m.away_team_trainer_id=m.id)\n",
    "where replace(date,'-','') between '{}' and '{}' \n",
    "         and league=\"Regionalliga Ost\"\n",
    "         -- and ((t.name like '%{}%' and t.id=m.home_team_id and c.id=m.home_team_trainer_id) or (t.name like '%{}%' and t.id=m.away_team_id and c.id=m.away_team_trainer_id)) \n",
    "group by m.league,t.name \n",
    "order by points desc\"\"\")"
   ]
  },
  {
   "cell_type": "code",
   "execution_count": null,
   "id": "993935a6",
   "metadata": {
    "slideshow": {
     "slide_type": "slide"
    }
   },
   "outputs": [
    {
     "ename": "NameError",
     "evalue": "name 'trainer_zeit' is not defined",
     "output_type": "error",
     "traceback": [
      "\u001b[1;31m---------------------------------------------------------------------------\u001b[0m",
      "\u001b[1;31mNameError\u001b[0m                                 Traceback (most recent call last)",
      "\u001b[1;32m<ipython-input-18-cd3be63b175e>\u001b[0m in \u001b[0;36m<module>\u001b[1;34m\u001b[0m\n\u001b[1;32m----> 1\u001b[1;33m \u001b[0mdf\u001b[0m\u001b[1;33m=\u001b[0m\u001b[0mquery_database\u001b[0m\u001b[1;33m(\u001b[0m\u001b[0mquery_table_averag_points_mandl\u001b[0m\u001b[1;33m.\u001b[0m\u001b[0mformat\u001b[0m\u001b[1;33m(\u001b[0m\u001b[0mtrainer_zeit\u001b[0m\u001b[1;33m[\u001b[0m\u001b[1;36m0\u001b[0m\u001b[1;33m]\u001b[0m\u001b[1;33m,\u001b[0m\u001b[0mtrainer_zeit\u001b[0m\u001b[1;33m[\u001b[0m\u001b[1;36m1\u001b[0m\u001b[1;33m]\u001b[0m\u001b[1;33m,\u001b[0m\u001b[0mtrainer_zeit\u001b[0m\u001b[1;33m[\u001b[0m\u001b[1;36m0\u001b[0m\u001b[1;33m]\u001b[0m\u001b[1;33m,\u001b[0m\u001b[0mtrainer_zeit\u001b[0m\u001b[1;33m[\u001b[0m\u001b[1;36m1\u001b[0m\u001b[1;33m]\u001b[0m\u001b[1;33m,\u001b[0m\u001b[0mtrainer_zeit\u001b[0m\u001b[1;33m[\u001b[0m\u001b[1;36m0\u001b[0m\u001b[1;33m]\u001b[0m\u001b[1;33m,\u001b[0m\u001b[0mtrainer_zeit\u001b[0m\u001b[1;33m[\u001b[0m\u001b[1;36m1\u001b[0m\u001b[1;33m]\u001b[0m\u001b[1;33m,\u001b[0m\u001b[0mvereine\u001b[0m\u001b[1;33m[\u001b[0m\u001b[1;36m0\u001b[0m\u001b[1;33m]\u001b[0m\u001b[1;33m,\u001b[0m\u001b[0mvereine\u001b[0m\u001b[1;33m[\u001b[0m\u001b[1;36m0\u001b[0m\u001b[1;33m]\u001b[0m\u001b[1;33m)\u001b[0m\u001b[1;33m,\u001b[0m\u001b[0mdatabase\u001b[0m\u001b[1;33m=\u001b[0m\u001b[1;34m\"verbands.db\"\u001b[0m\u001b[1;33m)\u001b[0m\u001b[1;33m\u001b[0m\u001b[1;33m\u001b[0m\u001b[0m\n\u001b[0m\u001b[0;32m      2\u001b[0m \u001b[0mdf\u001b[0m\u001b[1;33m[\u001b[0m\u001b[1;34m\"Difference\"\u001b[0m\u001b[1;33m]\u001b[0m\u001b[1;33m=\u001b[0m\u001b[0mdf\u001b[0m\u001b[1;33m[\u001b[0m\u001b[1;34m\"scored\"\u001b[0m\u001b[1;33m]\u001b[0m\u001b[1;33m-\u001b[0m\u001b[0mdf\u001b[0m\u001b[1;33m[\u001b[0m\u001b[1;34m\"conceded\"\u001b[0m\u001b[1;33m]\u001b[0m\u001b[1;33m\u001b[0m\u001b[1;33m\u001b[0m\u001b[0m\n\u001b[0;32m      3\u001b[0m \u001b[0mdf\u001b[0m\u001b[1;33m.\u001b[0m\u001b[0mhead\u001b[0m\u001b[1;33m(\u001b[0m\u001b[1;36m50\u001b[0m\u001b[1;33m)\u001b[0m\u001b[1;33m.\u001b[0m\u001b[0mstyle\u001b[0m\u001b[1;33m.\u001b[0m\u001b[0mhide_index\u001b[0m\u001b[1;33m(\u001b[0m\u001b[1;33m)\u001b[0m\u001b[0;31m\\\u001b[0m\u001b[1;33m\u001b[0m\u001b[1;33m\u001b[0m\u001b[0m\n\u001b[0;32m      4\u001b[0m                  \u001b[1;33m.\u001b[0m\u001b[0mbar\u001b[0m\u001b[1;33m(\u001b[0m\u001b[0msubset\u001b[0m\u001b[1;33m=\u001b[0m\u001b[1;33m[\u001b[0m\u001b[1;34m\"Points\"\u001b[0m\u001b[1;33m,\u001b[0m\u001b[1;33m]\u001b[0m\u001b[1;33m,\u001b[0m \u001b[0mcolor\u001b[0m\u001b[1;33m=\u001b[0m\u001b[1;34m'lightgreen'\u001b[0m\u001b[1;33m)\u001b[0m\u001b[0;31m\\\u001b[0m\u001b[1;33m\u001b[0m\u001b[1;33m\u001b[0m\u001b[0m\n\u001b[0;32m      5\u001b[0m                  \u001b[1;33m.\u001b[0m\u001b[0mbar\u001b[0m\u001b[1;33m(\u001b[0m\u001b[0msubset\u001b[0m\u001b[1;33m=\u001b[0m\u001b[1;33m[\u001b[0m\u001b[1;34m\"Average Points\"\u001b[0m\u001b[1;33m]\u001b[0m\u001b[1;33m,\u001b[0m \u001b[0mcolor\u001b[0m\u001b[1;33m=\u001b[0m\u001b[1;34m'#FFA07A'\u001b[0m\u001b[1;33m)\u001b[0m\u001b[0;31m\\\u001b[0m\u001b[1;33m\u001b[0m\u001b[1;33m\u001b[0m\u001b[0m\n",
      "\u001b[1;31mNameError\u001b[0m: name 'trainer_zeit' is not defined"
     ]
    }
   ],
   "source": [
    "df=query_database(query_table_averag_points_mandl.format(trainer_zeit[0],trainer_zeit[1],trainer_zeit[0],trainer_zeit[1],trainer_zeit[0],trainer_zeit[1],vereine[0],vereine[0]),database=\"verbands.db\")\n",
    "df[\"Difference\"]=df[\"scored\"]-df[\"conceded\"]\n",
    "df.head(50).style.hide_index()\\\n",
    "                 .bar(subset=[\"Points\",], color='lightgreen')\\\n",
    "                 .bar(subset=[\"Average Points\"], color='#FFA07A')\\\n",
    "                .bar(subset=[\"Difference\"], color='lightblue')"
   ]
  },
  {
   "cell_type": "code",
   "execution_count": null,
   "id": "f34017fa",
   "metadata": {
    "slideshow": {
     "slide_type": "slide"
    }
   },
   "outputs": [
    {
     "data": {
      "text/html": [
       "<style type=\"text/css\">\n",
       "#T_78b54_row0_col2 {\n",
       "  width: 10em;\n",
       "  height: 80%;\n",
       "  background: linear-gradient(90deg,lightgreen 100.0%, transparent 100.0%);\n",
       "}\n",
       "#T_78b54_row0_col4 {\n",
       "  width: 10em;\n",
       "  height: 80%;\n",
       "  background: linear-gradient(90deg,#FFA07A 100.0%, transparent 100.0%);\n",
       "}\n",
       "#T_78b54_row0_col7 {\n",
       "  width: 10em;\n",
       "  height: 80%;\n",
       "  background: linear-gradient(90deg,lightblue 93.5%, transparent 93.5%);\n",
       "}\n",
       "#T_78b54_row1_col2 {\n",
       "  width: 10em;\n",
       "  height: 80%;\n",
       "  background: linear-gradient(90deg,lightgreen 86.8%, transparent 86.8%);\n",
       "}\n",
       "#T_78b54_row1_col4 {\n",
       "  width: 10em;\n",
       "  height: 80%;\n",
       "  background: linear-gradient(90deg,#FFA07A 86.8%, transparent 86.8%);\n",
       "}\n",
       "#T_78b54_row1_col7 {\n",
       "  width: 10em;\n",
       "  height: 80%;\n",
       "  background: linear-gradient(90deg,lightblue 100.0%, transparent 100.0%);\n",
       "}\n",
       "#T_78b54_row2_col2 {\n",
       "  width: 10em;\n",
       "  height: 80%;\n",
       "  background: linear-gradient(90deg,lightgreen 76.3%, transparent 76.3%);\n",
       "}\n",
       "#T_78b54_row2_col4 {\n",
       "  width: 10em;\n",
       "  height: 80%;\n",
       "  background: linear-gradient(90deg,#FFA07A 76.3%, transparent 76.3%);\n",
       "}\n",
       "#T_78b54_row2_col7 {\n",
       "  width: 10em;\n",
       "  height: 80%;\n",
       "  background: linear-gradient(90deg,lightblue 64.5%, transparent 64.5%);\n",
       "}\n",
       "#T_78b54_row3_col2 {\n",
       "  width: 10em;\n",
       "  height: 80%;\n",
       "  background: linear-gradient(90deg,lightgreen 73.7%, transparent 73.7%);\n",
       "}\n",
       "#T_78b54_row3_col4 {\n",
       "  width: 10em;\n",
       "  height: 80%;\n",
       "  background: linear-gradient(90deg,#FFA07A 73.7%, transparent 73.7%);\n",
       "}\n",
       "#T_78b54_row3_col7, #T_78b54_row5_col7, #T_78b54_row6_col7 {\n",
       "  width: 10em;\n",
       "  height: 80%;\n",
       "  background: linear-gradient(90deg,lightblue 56.5%, transparent 56.5%);\n",
       "}\n",
       "#T_78b54_row4_col2 {\n",
       "  width: 10em;\n",
       "  height: 80%;\n",
       "  background: linear-gradient(90deg,lightgreen 68.4%, transparent 68.4%);\n",
       "}\n",
       "#T_78b54_row4_col4 {\n",
       "  width: 10em;\n",
       "  height: 80%;\n",
       "  background: linear-gradient(90deg,#FFA07A 68.4%, transparent 68.4%);\n",
       "}\n",
       "#T_78b54_row4_col7 {\n",
       "  width: 10em;\n",
       "  height: 80%;\n",
       "  background: linear-gradient(90deg,lightblue 69.4%, transparent 69.4%);\n",
       "}\n",
       "#T_78b54_row5_col2 {\n",
       "  width: 10em;\n",
       "  height: 80%;\n",
       "  background: linear-gradient(90deg,lightgreen 63.2%, transparent 63.2%);\n",
       "}\n",
       "#T_78b54_row5_col4 {\n",
       "  width: 10em;\n",
       "  height: 80%;\n",
       "  background: linear-gradient(90deg,#FFA07A 63.2%, transparent 63.2%);\n",
       "}\n",
       "#T_78b54_row6_col2 {\n",
       "  width: 10em;\n",
       "  height: 80%;\n",
       "  background: linear-gradient(90deg,lightgreen 60.5%, transparent 60.5%);\n",
       "}\n",
       "#T_78b54_row6_col4 {\n",
       "  width: 10em;\n",
       "  height: 80%;\n",
       "  background: linear-gradient(90deg,#FFA07A 64.7%, transparent 64.7%);\n",
       "}\n",
       "#T_78b54_row7_col2 {\n",
       "  width: 10em;\n",
       "  height: 80%;\n",
       "  background: linear-gradient(90deg,lightgreen 55.3%, transparent 55.3%);\n",
       "}\n",
       "#T_78b54_row7_col4 {\n",
       "  width: 10em;\n",
       "  height: 80%;\n",
       "  background: linear-gradient(90deg,#FFA07A 59.2%, transparent 59.2%);\n",
       "}\n",
       "#T_78b54_row7_col7, #T_78b54_row8_col7 {\n",
       "  width: 10em;\n",
       "  height: 80%;\n",
       "  background: linear-gradient(90deg,lightblue 46.8%, transparent 46.8%);\n",
       "}\n",
       "#T_78b54_row8_col2 {\n",
       "  width: 10em;\n",
       "  height: 80%;\n",
       "  background: linear-gradient(90deg,lightgreen 50.0%, transparent 50.0%);\n",
       "}\n",
       "#T_78b54_row8_col4 {\n",
       "  width: 10em;\n",
       "  height: 80%;\n",
       "  background: linear-gradient(90deg,#FFA07A 50.0%, transparent 50.0%);\n",
       "}\n",
       "#T_78b54_row9_col2 {\n",
       "  width: 10em;\n",
       "  height: 80%;\n",
       "  background: linear-gradient(90deg,lightgreen 34.2%, transparent 34.2%);\n",
       "}\n",
       "#T_78b54_row9_col4 {\n",
       "  width: 10em;\n",
       "  height: 80%;\n",
       "  background: linear-gradient(90deg,#FFA07A 34.2%, transparent 34.2%);\n",
       "}\n",
       "#T_78b54_row9_col7 {\n",
       "  width: 10em;\n",
       "  height: 80%;\n",
       "  background: linear-gradient(90deg,lightblue 50.0%, transparent 50.0%);\n",
       "}\n",
       "#T_78b54_row10_col2 {\n",
       "  width: 10em;\n",
       "  height: 80%;\n",
       "  background: linear-gradient(90deg,lightgreen 26.3%, transparent 26.3%);\n",
       "}\n",
       "#T_78b54_row10_col4 {\n",
       "  width: 10em;\n",
       "  height: 80%;\n",
       "  background: linear-gradient(90deg,#FFA07A 26.3%, transparent 26.3%);\n",
       "}\n",
       "#T_78b54_row10_col7 {\n",
       "  width: 10em;\n",
       "  height: 80%;\n",
       "  background: linear-gradient(90deg,lightblue 9.7%, transparent 9.7%);\n",
       "}\n",
       "#T_78b54_row11_col2 {\n",
       "  width: 10em;\n",
       "  height: 80%;\n",
       "  background: linear-gradient(90deg,lightgreen 23.7%, transparent 23.7%);\n",
       "}\n",
       "#T_78b54_row11_col4 {\n",
       "  width: 10em;\n",
       "  height: 80%;\n",
       "  background: linear-gradient(90deg,#FFA07A 23.7%, transparent 23.7%);\n",
       "}\n",
       "#T_78b54_row11_col7 {\n",
       "  width: 10em;\n",
       "  height: 80%;\n",
       "  background: linear-gradient(90deg,lightblue 27.4%, transparent 27.4%);\n",
       "}\n",
       "#T_78b54_row12_col2 {\n",
       "  width: 10em;\n",
       "  height: 80%;\n",
       "  background: linear-gradient(90deg,lightgreen 7.9%, transparent 7.9%);\n",
       "}\n",
       "#T_78b54_row12_col4 {\n",
       "  width: 10em;\n",
       "  height: 80%;\n",
       "  background: linear-gradient(90deg,#FFA07A 7.9%, transparent 7.9%);\n",
       "}\n",
       "#T_78b54_row12_col7, #T_78b54_row13_col2, #T_78b54_row13_col4, #T_78b54_row13_col7 {\n",
       "  width: 10em;\n",
       "  height: 80%;\n",
       "}\n",
       "</style>\n",
       "<table id=\"T_78b54_\">\n",
       "  <thead>\n",
       "    <tr>\n",
       "      <th class=\"col_heading level0 col0\" >league</th>\n",
       "      <th class=\"col_heading level0 col1\" >name</th>\n",
       "      <th class=\"col_heading level0 col2\" >Points</th>\n",
       "      <th class=\"col_heading level0 col3\" >Games</th>\n",
       "      <th class=\"col_heading level0 col4\" >Average Points</th>\n",
       "      <th class=\"col_heading level0 col5\" >scored</th>\n",
       "      <th class=\"col_heading level0 col6\" >conceded</th>\n",
       "      <th class=\"col_heading level0 col7\" >Difference</th>\n",
       "    </tr>\n",
       "  </thead>\n",
       "  <tbody>\n",
       "    <tr>\n",
       "      <td id=\"T_78b54_row0_col0\" class=\"data row0 col0\" >Regionalliga Ost</td>\n",
       "      <td id=\"T_78b54_row0_col1\" class=\"data row0 col1\" >First Vienna FC 1894</td>\n",
       "      <td id=\"T_78b54_row0_col2\" class=\"data row0 col2\" >47</td>\n",
       "      <td id=\"T_78b54_row0_col3\" class=\"data row0 col3\" >21</td>\n",
       "      <td id=\"T_78b54_row0_col4\" class=\"data row0 col4\" >2.238095</td>\n",
       "      <td id=\"T_78b54_row0_col5\" class=\"data row0 col5\" >43</td>\n",
       "      <td id=\"T_78b54_row0_col6\" class=\"data row0 col6\" >15</td>\n",
       "      <td id=\"T_78b54_row0_col7\" class=\"data row0 col7\" >28</td>\n",
       "    </tr>\n",
       "    <tr>\n",
       "      <td id=\"T_78b54_row1_col0\" class=\"data row1 col0\" >Regionalliga Ost</td>\n",
       "      <td id=\"T_78b54_row1_col1\" class=\"data row1 col1\" >Stripfing</td>\n",
       "      <td id=\"T_78b54_row1_col2\" class=\"data row1 col2\" >42</td>\n",
       "      <td id=\"T_78b54_row1_col3\" class=\"data row1 col3\" >21</td>\n",
       "      <td id=\"T_78b54_row1_col4\" class=\"data row1 col4\" >2.000000</td>\n",
       "      <td id=\"T_78b54_row1_col5\" class=\"data row1 col5\" >47</td>\n",
       "      <td id=\"T_78b54_row1_col6\" class=\"data row1 col6\" >15</td>\n",
       "      <td id=\"T_78b54_row1_col7\" class=\"data row1 col7\" >32</td>\n",
       "    </tr>\n",
       "    <tr>\n",
       "      <td id=\"T_78b54_row2_col0\" class=\"data row2 col0\" >Regionalliga Ost</td>\n",
       "      <td id=\"T_78b54_row2_col1\" class=\"data row2 col1\" >SV Leobendorf</td>\n",
       "      <td id=\"T_78b54_row2_col2\" class=\"data row2 col2\" >38</td>\n",
       "      <td id=\"T_78b54_row2_col3\" class=\"data row2 col3\" >21</td>\n",
       "      <td id=\"T_78b54_row2_col4\" class=\"data row2 col4\" >1.809524</td>\n",
       "      <td id=\"T_78b54_row2_col5\" class=\"data row2 col5\" >38</td>\n",
       "      <td id=\"T_78b54_row2_col6\" class=\"data row2 col6\" >28</td>\n",
       "      <td id=\"T_78b54_row2_col7\" class=\"data row2 col7\" >10</td>\n",
       "    </tr>\n",
       "    <tr>\n",
       "      <td id=\"T_78b54_row3_col0\" class=\"data row3 col0\" >Regionalliga Ost</td>\n",
       "      <td id=\"T_78b54_row3_col1\" class=\"data row3 col1\" >TWL Elektra</td>\n",
       "      <td id=\"T_78b54_row3_col2\" class=\"data row3 col2\" >37</td>\n",
       "      <td id=\"T_78b54_row3_col3\" class=\"data row3 col3\" >21</td>\n",
       "      <td id=\"T_78b54_row3_col4\" class=\"data row3 col4\" >1.761905</td>\n",
       "      <td id=\"T_78b54_row3_col5\" class=\"data row3 col5\" >29</td>\n",
       "      <td id=\"T_78b54_row3_col6\" class=\"data row3 col6\" >24</td>\n",
       "      <td id=\"T_78b54_row3_col7\" class=\"data row3 col7\" >5</td>\n",
       "    </tr>\n",
       "    <tr>\n",
       "      <td id=\"T_78b54_row4_col0\" class=\"data row4 col0\" >Regionalliga Ost</td>\n",
       "      <td id=\"T_78b54_row4_col1\" class=\"data row4 col1\" >Wiener Sport-Club</td>\n",
       "      <td id=\"T_78b54_row4_col2\" class=\"data row4 col2\" >35</td>\n",
       "      <td id=\"T_78b54_row4_col3\" class=\"data row4 col3\" >21</td>\n",
       "      <td id=\"T_78b54_row4_col4\" class=\"data row4 col4\" >1.666667</td>\n",
       "      <td id=\"T_78b54_row4_col5\" class=\"data row4 col5\" >40</td>\n",
       "      <td id=\"T_78b54_row4_col6\" class=\"data row4 col6\" >27</td>\n",
       "      <td id=\"T_78b54_row4_col7\" class=\"data row4 col7\" >13</td>\n",
       "    </tr>\n",
       "    <tr>\n",
       "      <td id=\"T_78b54_row5_col0\" class=\"data row5 col0\" >Regionalliga Ost</td>\n",
       "      <td id=\"T_78b54_row5_col1\" class=\"data row5 col1\" >FC Marchfeld / Mannsdorf-Große.</td>\n",
       "      <td id=\"T_78b54_row5_col2\" class=\"data row5 col2\" >33</td>\n",
       "      <td id=\"T_78b54_row5_col3\" class=\"data row5 col3\" >21</td>\n",
       "      <td id=\"T_78b54_row5_col4\" class=\"data row5 col4\" >1.571429</td>\n",
       "      <td id=\"T_78b54_row5_col5\" class=\"data row5 col5\" >36</td>\n",
       "      <td id=\"T_78b54_row5_col6\" class=\"data row5 col6\" >31</td>\n",
       "      <td id=\"T_78b54_row5_col7\" class=\"data row5 col7\" >5</td>\n",
       "    </tr>\n",
       "    <tr>\n",
       "      <td id=\"T_78b54_row6_col0\" class=\"data row6 col0\" >Regionalliga Ost</td>\n",
       "      <td id=\"T_78b54_row6_col1\" class=\"data row6 col1\" >FCM Traiskirchen</td>\n",
       "      <td id=\"T_78b54_row6_col2\" class=\"data row6 col2\" >32</td>\n",
       "      <td id=\"T_78b54_row6_col3\" class=\"data row6 col3\" >20</td>\n",
       "      <td id=\"T_78b54_row6_col4\" class=\"data row6 col4\" >1.600000</td>\n",
       "      <td id=\"T_78b54_row6_col5\" class=\"data row6 col5\" >36</td>\n",
       "      <td id=\"T_78b54_row6_col6\" class=\"data row6 col6\" >31</td>\n",
       "      <td id=\"T_78b54_row6_col7\" class=\"data row6 col7\" >5</td>\n",
       "    </tr>\n",
       "    <tr>\n",
       "      <td id=\"T_78b54_row7_col0\" class=\"data row7 col0\" >Regionalliga Ost</td>\n",
       "      <td id=\"T_78b54_row7_col1\" class=\"data row7 col1\" >SC Neusiedl am See 1919</td>\n",
       "      <td id=\"T_78b54_row7_col2\" class=\"data row7 col2\" >30</td>\n",
       "      <td id=\"T_78b54_row7_col3\" class=\"data row7 col3\" >20</td>\n",
       "      <td id=\"T_78b54_row7_col4\" class=\"data row7 col4\" >1.500000</td>\n",
       "      <td id=\"T_78b54_row7_col5\" class=\"data row7 col5\" >29</td>\n",
       "      <td id=\"T_78b54_row7_col6\" class=\"data row7 col6\" >30</td>\n",
       "      <td id=\"T_78b54_row7_col7\" class=\"data row7 col7\" >-1</td>\n",
       "    </tr>\n",
       "    <tr>\n",
       "      <td id=\"T_78b54_row8_col0\" class=\"data row8 col0\" >Regionalliga Ost</td>\n",
       "      <td id=\"T_78b54_row8_col1\" class=\"data row8 col1\" >Wiener Viktoria</td>\n",
       "      <td id=\"T_78b54_row8_col2\" class=\"data row8 col2\" >28</td>\n",
       "      <td id=\"T_78b54_row8_col3\" class=\"data row8 col3\" >21</td>\n",
       "      <td id=\"T_78b54_row8_col4\" class=\"data row8 col4\" >1.333333</td>\n",
       "      <td id=\"T_78b54_row8_col5\" class=\"data row8 col5\" >31</td>\n",
       "      <td id=\"T_78b54_row8_col6\" class=\"data row8 col6\" >32</td>\n",
       "      <td id=\"T_78b54_row8_col7\" class=\"data row8 col7\" >-1</td>\n",
       "    </tr>\n",
       "    <tr>\n",
       "      <td id=\"T_78b54_row9_col0\" class=\"data row9 col0\" >Regionalliga Ost</td>\n",
       "      <td id=\"T_78b54_row9_col1\" class=\"data row9 col1\" >ASK-BSC Bruck/Leitha</td>\n",
       "      <td id=\"T_78b54_row9_col2\" class=\"data row9 col2\" >22</td>\n",
       "      <td id=\"T_78b54_row9_col3\" class=\"data row9 col3\" >21</td>\n",
       "      <td id=\"T_78b54_row9_col4\" class=\"data row9 col4\" >1.047619</td>\n",
       "      <td id=\"T_78b54_row9_col5\" class=\"data row9 col5\" >36</td>\n",
       "      <td id=\"T_78b54_row9_col6\" class=\"data row9 col6\" >35</td>\n",
       "      <td id=\"T_78b54_row9_col7\" class=\"data row9 col7\" >1</td>\n",
       "    </tr>\n",
       "    <tr>\n",
       "      <td id=\"T_78b54_row10_col0\" class=\"data row10 col0\" >Regionalliga Ost</td>\n",
       "      <td id=\"T_78b54_row10_col1\" class=\"data row10 col1\" >FC Mauerwerk</td>\n",
       "      <td id=\"T_78b54_row10_col2\" class=\"data row10 col2\" >19</td>\n",
       "      <td id=\"T_78b54_row10_col3\" class=\"data row10 col3\" >21</td>\n",
       "      <td id=\"T_78b54_row10_col4\" class=\"data row10 col4\" >0.904762</td>\n",
       "      <td id=\"T_78b54_row10_col5\" class=\"data row10 col5\" >24</td>\n",
       "      <td id=\"T_78b54_row10_col6\" class=\"data row10 col6\" >48</td>\n",
       "      <td id=\"T_78b54_row10_col7\" class=\"data row10 col7\" >-24</td>\n",
       "    </tr>\n",
       "    <tr>\n",
       "      <td id=\"T_78b54_row11_col0\" class=\"data row11 col0\" >Regionalliga Ost</td>\n",
       "      <td id=\"T_78b54_row11_col1\" class=\"data row11 col1\" >Admira Juniors</td>\n",
       "      <td id=\"T_78b54_row11_col2\" class=\"data row11 col2\" >18</td>\n",
       "      <td id=\"T_78b54_row11_col3\" class=\"data row11 col3\" >21</td>\n",
       "      <td id=\"T_78b54_row11_col4\" class=\"data row11 col4\" >0.857143</td>\n",
       "      <td id=\"T_78b54_row11_col5\" class=\"data row11 col5\" >26</td>\n",
       "      <td id=\"T_78b54_row11_col6\" class=\"data row11 col6\" >39</td>\n",
       "      <td id=\"T_78b54_row11_col7\" class=\"data row11 col7\" >-13</td>\n",
       "    </tr>\n",
       "    <tr>\n",
       "      <td id=\"T_78b54_row12_col0\" class=\"data row12 col0\" >Regionalliga Ost</td>\n",
       "      <td id=\"T_78b54_row12_col1\" class=\"data row12 col1\" >Draßburg</td>\n",
       "      <td id=\"T_78b54_row12_col2\" class=\"data row12 col2\" >12</td>\n",
       "      <td id=\"T_78b54_row12_col3\" class=\"data row12 col3\" >21</td>\n",
       "      <td id=\"T_78b54_row12_col4\" class=\"data row12 col4\" >0.571429</td>\n",
       "      <td id=\"T_78b54_row12_col5\" class=\"data row12 col5\" >16</td>\n",
       "      <td id=\"T_78b54_row12_col6\" class=\"data row12 col6\" >46</td>\n",
       "      <td id=\"T_78b54_row12_col7\" class=\"data row12 col7\" >-30</td>\n",
       "    </tr>\n",
       "    <tr>\n",
       "      <td id=\"T_78b54_row13_col0\" class=\"data row13 col0\" >Regionalliga Ost</td>\n",
       "      <td id=\"T_78b54_row13_col1\" class=\"data row13 col1\" >SC Wiener Neustadt</td>\n",
       "      <td id=\"T_78b54_row13_col2\" class=\"data row13 col2\" >9</td>\n",
       "      <td id=\"T_78b54_row13_col3\" class=\"data row13 col3\" >21</td>\n",
       "      <td id=\"T_78b54_row13_col4\" class=\"data row13 col4\" >0.428571</td>\n",
       "      <td id=\"T_78b54_row13_col5\" class=\"data row13 col5\" >19</td>\n",
       "      <td id=\"T_78b54_row13_col6\" class=\"data row13 col6\" >49</td>\n",
       "      <td id=\"T_78b54_row13_col7\" class=\"data row13 col7\" >-30</td>\n",
       "    </tr>\n",
       "  </tbody>\n",
       "</table>\n"
      ],
      "text/plain": [
       "<pandas.io.formats.style.Styler at 0x2a7f8c93848>"
      ]
     },
     "execution_count": 13,
     "metadata": {},
     "output_type": "execute_result"
    }
   ],
   "source": [
    "# GET TABLE\n",
    "query_table=(\"\"\"\n",
    "Select m.league,t.name, \n",
    "sum(\n",
    "CASE WHEN homeresult==awayresult THEN 1 WHEN homeresult>awayresult and m.home_team_id==t.id THEN 3 WHEN homeresult<awayresult and m.away_team_id==t.id THEN 3 ELSE 0 END\n",
    ") as 'Points' ,\n",
    "count(*) as 'Games', \n",
    "avg(\n",
    "CASE WHEN homeresult==awayresult THEN 1 WHEN homeresult>awayresult and m.home_team_id==t.id THEN 3 WHEN homeresult<awayresult and m.away_team_id==t.id THEN 3 ELSE 0 END\n",
    ") as 'Average Points',\n",
    "sum(\n",
    "\tCASE WHEN m.home_team_id==t.id THEN homeresult WHEN  m.away_team_id==t.id THEN awayresult ELSE 0 END\n",
    "\t) as scored,\n",
    "sum(\n",
    "\tCASE WHEN m.home_team_id==t.id THEN awayresult WHEN  m.away_team_id==t.id THEN homeresult  ELSE 0 END\n",
    "\t) as conceded\n",
    "from teams t join \n",
    "\t(select substr(result,0,instr(result, ':')) as homeresult,\n",
    "\tsubstr(result,instr(result, ':') + 1) as awayresult,cast(substr(round,0,instr(round, '.')) as INT) as current_round,* from matches) m \n",
    "on (t.id=m.away_team_id or t.id=m.home_team_id) \n",
    "--join trainers c on (m.home_team_trainer_id=c.id or m.away_team_trainer_id=m.id)\n",
    "where replace(date,'-','') between '{}' and '{}' \n",
    "         and league=\"Regionalliga Ost\"\n",
    "         -- and ((t.name like '%{}%' and t.id=m.home_team_id and c.id=m.home_team_trainer_id) or (t.name like '%{}%' and t.id=m.away_team_id and c.id=m.away_team_trainer_id)) \n",
    "\n",
    "group by m.league,t.name \n",
    "order by points desc\"\"\")\n",
    "\n",
    "df=query_database(query_table.format(\"20210701\",\"20220426\",vereine[0],vereine[0]),database=\"verbands.db\")\n",
    "df[\"Difference\"]=df[\"scored\"]-df[\"conceded\"]\n",
    "df.head(50).style.hide_index()\\\n",
    "                 .bar(subset=[\"Points\",], color='lightgreen')\\\n",
    "                 .bar(subset=[\"Average Points\",], color='#FFA07A')\\\n",
    "                .bar(subset=[\"Difference\",], color='lightblue')\n"
   ]
  },
  {
   "cell_type": "code",
   "execution_count": null,
   "id": "62cce62b",
   "metadata": {
    "slideshow": {
     "slide_type": "skip"
    }
   },
   "outputs": [],
   "source": [
    "query_table_cards_gotten=(\"\"\"\n",
    "Select m.league,t.name, \n",
    "sum(\n",
    "CASE WHEN homeresult==awayresult THEN 1 WHEN homeresult>awayresult and m.home_team_id==t.id THEN 3 WHEN homeresult<awayresult and m.away_team_id==t.id THEN 3 ELSE 0 END\n",
    ") as 'Points' ,\n",
    "count(*) as 'Games', \n",
    "avg(\n",
    "CASE WHEN homeresult==awayresult THEN 1 WHEN homeresult>awayresult and m.home_team_id==t.id THEN 3 WHEN homeresult<awayresult and m.away_team_id==t.id THEN 3 ELSE 0 END\n",
    ") as 'Average Points',\n",
    "sum(\n",
    "\tCASE WHEN m.home_team_id==t.id THEN homeresult WHEN  m.away_team_id==t.id THEN awayresult ELSE 0 END\n",
    "\t) as scored,\n",
    "sum(\n",
    "\tCASE WHEN m.home_team_id==t.id THEN awayresult WHEN  m.away_team_id==t.id THEN homeresult  ELSE 0 END\n",
    "\t) as conceded,\n",
    "sum(\t\n",
    "\tCASE WHEN m.home_team_id==t.id THEN p.yellow_cards  ELSE 0 END\n",
    ") as yellow_cards_gotten,\n",
    "sum(\t\n",
    "\tCASE WHEN m.home_team_id==t.id THEN p.red_cards  ELSE 0 END\n",
    ") as red_cards_gotten\n",
    "from teams t join \n",
    "\t(select substr(result,0,instr(result, ':')) as homeresult,\n",
    "\tsubstr(result,instr(result, ':') + 1) as awayresult,cast(substr(round,0,instr(round, '.')) as INT) as current_round,* from matches) m \n",
    "on (t.id=m.away_team_id or t.id=m.home_team_id) join \n",
    "(select m.id as id, sum(p.yellow_cards) as yellow_cards, sum(p.red_cards) as red_cards \n",
    "from (select distinct player_id,match_id,red_cards,yellow_cards from matches_players) p join matches m on p.match_id=m.id \n",
    "where (p.yellow_cards>0 or p.red_cards>0) and league=\"Regionalliga Ost\" \n",
    "group by m.id) p on p.id=m.id\n",
    "where replace(date,'-','') between '{}' and '{}'\n",
    "         and league=\"Regionalliga Ost\"\n",
    "group by m.league,t.name\n",
    "order by \"Points\" DESC\"\"\")"
   ]
  },
  {
   "cell_type": "code",
   "execution_count": null,
   "id": "20c1a661",
   "metadata": {
    "slideshow": {
     "slide_type": "subslide"
    }
   },
   "outputs": [
    {
     "data": {
      "text/html": [
       "<style type=\"text/css\">\n",
       "#T_6d405_row0_col2 {\n",
       "  width: 10em;\n",
       "  height: 80%;\n",
       "  background: linear-gradient(90deg,lightgreen 100.0%, transparent 100.0%);\n",
       "}\n",
       "#T_6d405_row0_col7 {\n",
       "  width: 10em;\n",
       "  height: 80%;\n",
       "  background: linear-gradient(90deg,#FFA07A 8.3%, transparent 8.3%);\n",
       "}\n",
       "#T_6d405_row0_col8, #T_6d405_row1_col8, #T_6d405_row3_col8, #T_6d405_row5_col7, #T_6d405_row5_col8, #T_6d405_row6_col8, #T_6d405_row7_col8, #T_6d405_row8_col8, #T_6d405_row12_col8, #T_6d405_row13_col2, #T_6d405_row13_col8 {\n",
       "  width: 10em;\n",
       "  height: 80%;\n",
       "}\n",
       "#T_6d405_row1_col2, #T_6d405_row2_col2, #T_6d405_row3_col2 {\n",
       "  width: 10em;\n",
       "  height: 80%;\n",
       "  background: linear-gradient(90deg,lightgreen 90.9%, transparent 90.9%);\n",
       "}\n",
       "#T_6d405_row1_col7, #T_6d405_row2_col7, #T_6d405_row13_col7 {\n",
       "  width: 10em;\n",
       "  height: 80%;\n",
       "  background: linear-gradient(90deg,#FFA07A 58.3%, transparent 58.3%);\n",
       "}\n",
       "#T_6d405_row2_col8, #T_6d405_row4_col8, #T_6d405_row9_col8, #T_6d405_row10_col8, #T_6d405_row11_col8 {\n",
       "  width: 10em;\n",
       "  height: 80%;\n",
       "  background: linear-gradient(90deg,lightblue 100.0%, transparent 100.0%);\n",
       "}\n",
       "#T_6d405_row3_col7, #T_6d405_row9_col7 {\n",
       "  width: 10em;\n",
       "  height: 80%;\n",
       "  background: linear-gradient(90deg,#FFA07A 25.0%, transparent 25.0%);\n",
       "}\n",
       "#T_6d405_row4_col2, #T_6d405_row5_col2 {\n",
       "  width: 10em;\n",
       "  height: 80%;\n",
       "  background: linear-gradient(90deg,lightgreen 81.8%, transparent 81.8%);\n",
       "}\n",
       "#T_6d405_row4_col7 {\n",
       "  width: 10em;\n",
       "  height: 80%;\n",
       "  background: linear-gradient(90deg,#FFA07A 100.0%, transparent 100.0%);\n",
       "}\n",
       "#T_6d405_row6_col2, #T_6d405_row7_col2 {\n",
       "  width: 10em;\n",
       "  height: 80%;\n",
       "  background: linear-gradient(90deg,lightgreen 54.5%, transparent 54.5%);\n",
       "}\n",
       "#T_6d405_row6_col7, #T_6d405_row10_col7 {\n",
       "  width: 10em;\n",
       "  height: 80%;\n",
       "  background: linear-gradient(90deg,#FFA07A 66.7%, transparent 66.7%);\n",
       "}\n",
       "#T_6d405_row7_col7, #T_6d405_row8_col7 {\n",
       "  width: 10em;\n",
       "  height: 80%;\n",
       "  background: linear-gradient(90deg,#FFA07A 75.0%, transparent 75.0%);\n",
       "}\n",
       "#T_6d405_row8_col2 {\n",
       "  width: 10em;\n",
       "  height: 80%;\n",
       "  background: linear-gradient(90deg,lightgreen 36.4%, transparent 36.4%);\n",
       "}\n",
       "#T_6d405_row9_col2, #T_6d405_row10_col2, #T_6d405_row11_col2 {\n",
       "  width: 10em;\n",
       "  height: 80%;\n",
       "  background: linear-gradient(90deg,lightgreen 27.3%, transparent 27.3%);\n",
       "}\n",
       "#T_6d405_row11_col7 {\n",
       "  width: 10em;\n",
       "  height: 80%;\n",
       "  background: linear-gradient(90deg,#FFA07A 33.3%, transparent 33.3%);\n",
       "}\n",
       "#T_6d405_row12_col2 {\n",
       "  width: 10em;\n",
       "  height: 80%;\n",
       "  background: linear-gradient(90deg,lightgreen 18.2%, transparent 18.2%);\n",
       "}\n",
       "#T_6d405_row12_col7 {\n",
       "  width: 10em;\n",
       "  height: 80%;\n",
       "  background: linear-gradient(90deg,#FFA07A 83.3%, transparent 83.3%);\n",
       "}\n",
       "</style>\n",
       "<table id=\"T_6d405_\">\n",
       "  <thead>\n",
       "    <tr>\n",
       "      <th class=\"col_heading level0 col0\" >league</th>\n",
       "      <th class=\"col_heading level0 col1\" >name</th>\n",
       "      <th class=\"col_heading level0 col2\" >Points</th>\n",
       "      <th class=\"col_heading level0 col3\" >Games</th>\n",
       "      <th class=\"col_heading level0 col4\" >Average Points</th>\n",
       "      <th class=\"col_heading level0 col5\" >scored</th>\n",
       "      <th class=\"col_heading level0 col6\" >conceded</th>\n",
       "      <th class=\"col_heading level0 col7\" >yellow_cards_gotten</th>\n",
       "      <th class=\"col_heading level0 col8\" >red_cards_gotten</th>\n",
       "      <th class=\"col_heading level0 col9\" >Difference</th>\n",
       "    </tr>\n",
       "  </thead>\n",
       "  <tbody>\n",
       "    <tr>\n",
       "      <td id=\"T_6d405_row0_col0\" class=\"data row0 col0\" >Regionalliga Ost</td>\n",
       "      <td id=\"T_6d405_row0_col1\" class=\"data row0 col1\" >Stripfing</td>\n",
       "      <td id=\"T_6d405_row0_col2\" class=\"data row0 col2\" >12</td>\n",
       "      <td id=\"T_6d405_row0_col3\" class=\"data row0 col3\" >5</td>\n",
       "      <td id=\"T_6d405_row0_col4\" class=\"data row0 col4\" >2.400000</td>\n",
       "      <td id=\"T_6d405_row0_col5\" class=\"data row0 col5\" >13</td>\n",
       "      <td id=\"T_6d405_row0_col6\" class=\"data row0 col6\" >4</td>\n",
       "      <td id=\"T_6d405_row0_col7\" class=\"data row0 col7\" >6</td>\n",
       "      <td id=\"T_6d405_row0_col8\" class=\"data row0 col8\" >0</td>\n",
       "      <td id=\"T_6d405_row0_col9\" class=\"data row0 col9\" >9</td>\n",
       "    </tr>\n",
       "    <tr>\n",
       "      <td id=\"T_6d405_row1_col0\" class=\"data row1 col0\" >Regionalliga Ost</td>\n",
       "      <td id=\"T_6d405_row1_col1\" class=\"data row1 col1\" >First Vienna FC 1894</td>\n",
       "      <td id=\"T_6d405_row1_col2\" class=\"data row1 col2\" >11</td>\n",
       "      <td id=\"T_6d405_row1_col3\" class=\"data row1 col3\" >5</td>\n",
       "      <td id=\"T_6d405_row1_col4\" class=\"data row1 col4\" >2.200000</td>\n",
       "      <td id=\"T_6d405_row1_col5\" class=\"data row1 col5\" >9</td>\n",
       "      <td id=\"T_6d405_row1_col6\" class=\"data row1 col6\" >3</td>\n",
       "      <td id=\"T_6d405_row1_col7\" class=\"data row1 col7\" >12</td>\n",
       "      <td id=\"T_6d405_row1_col8\" class=\"data row1 col8\" >0</td>\n",
       "      <td id=\"T_6d405_row1_col9\" class=\"data row1 col9\" >6</td>\n",
       "    </tr>\n",
       "    <tr>\n",
       "      <td id=\"T_6d405_row2_col0\" class=\"data row2 col0\" >Regionalliga Ost</td>\n",
       "      <td id=\"T_6d405_row2_col1\" class=\"data row2 col1\" >SC Neusiedl am See 1919</td>\n",
       "      <td id=\"T_6d405_row2_col2\" class=\"data row2 col2\" >11</td>\n",
       "      <td id=\"T_6d405_row2_col3\" class=\"data row2 col3\" >6</td>\n",
       "      <td id=\"T_6d405_row2_col4\" class=\"data row2 col4\" >1.833333</td>\n",
       "      <td id=\"T_6d405_row2_col5\" class=\"data row2 col5\" >10</td>\n",
       "      <td id=\"T_6d405_row2_col6\" class=\"data row2 col6\" >7</td>\n",
       "      <td id=\"T_6d405_row2_col7\" class=\"data row2 col7\" >12</td>\n",
       "      <td id=\"T_6d405_row2_col8\" class=\"data row2 col8\" >1</td>\n",
       "      <td id=\"T_6d405_row2_col9\" class=\"data row2 col9\" >3</td>\n",
       "    </tr>\n",
       "    <tr>\n",
       "      <td id=\"T_6d405_row3_col0\" class=\"data row3 col0\" >Regionalliga Ost</td>\n",
       "      <td id=\"T_6d405_row3_col1\" class=\"data row3 col1\" >Wiener Sport-Club</td>\n",
       "      <td id=\"T_6d405_row3_col2\" class=\"data row3 col2\" >11</td>\n",
       "      <td id=\"T_6d405_row3_col3\" class=\"data row3 col3\" >5</td>\n",
       "      <td id=\"T_6d405_row3_col4\" class=\"data row3 col4\" >2.200000</td>\n",
       "      <td id=\"T_6d405_row3_col5\" class=\"data row3 col5\" >8</td>\n",
       "      <td id=\"T_6d405_row3_col6\" class=\"data row3 col6\" >5</td>\n",
       "      <td id=\"T_6d405_row3_col7\" class=\"data row3 col7\" >8</td>\n",
       "      <td id=\"T_6d405_row3_col8\" class=\"data row3 col8\" >0</td>\n",
       "      <td id=\"T_6d405_row3_col9\" class=\"data row3 col9\" >3</td>\n",
       "    </tr>\n",
       "    <tr>\n",
       "      <td id=\"T_6d405_row4_col0\" class=\"data row4 col0\" >Regionalliga Ost</td>\n",
       "      <td id=\"T_6d405_row4_col1\" class=\"data row4 col1\" >SC Wiener Neustadt</td>\n",
       "      <td id=\"T_6d405_row4_col2\" class=\"data row4 col2\" >10</td>\n",
       "      <td id=\"T_6d405_row4_col3\" class=\"data row4 col3\" >5</td>\n",
       "      <td id=\"T_6d405_row4_col4\" class=\"data row4 col4\" >2.000000</td>\n",
       "      <td id=\"T_6d405_row4_col5\" class=\"data row4 col5\" >12</td>\n",
       "      <td id=\"T_6d405_row4_col6\" class=\"data row4 col6\" >6</td>\n",
       "      <td id=\"T_6d405_row4_col7\" class=\"data row4 col7\" >17</td>\n",
       "      <td id=\"T_6d405_row4_col8\" class=\"data row4 col8\" >1</td>\n",
       "      <td id=\"T_6d405_row4_col9\" class=\"data row4 col9\" >6</td>\n",
       "    </tr>\n",
       "    <tr>\n",
       "      <td id=\"T_6d405_row5_col0\" class=\"data row5 col0\" >Regionalliga Ost</td>\n",
       "      <td id=\"T_6d405_row5_col1\" class=\"data row5 col1\" >Wiener Viktoria</td>\n",
       "      <td id=\"T_6d405_row5_col2\" class=\"data row5 col2\" >10</td>\n",
       "      <td id=\"T_6d405_row5_col3\" class=\"data row5 col3\" >5</td>\n",
       "      <td id=\"T_6d405_row5_col4\" class=\"data row5 col4\" >2.000000</td>\n",
       "      <td id=\"T_6d405_row5_col5\" class=\"data row5 col5\" >5</td>\n",
       "      <td id=\"T_6d405_row5_col6\" class=\"data row5 col6\" >4</td>\n",
       "      <td id=\"T_6d405_row5_col7\" class=\"data row5 col7\" >5</td>\n",
       "      <td id=\"T_6d405_row5_col8\" class=\"data row5 col8\" >0</td>\n",
       "      <td id=\"T_6d405_row5_col9\" class=\"data row5 col9\" >1</td>\n",
       "    </tr>\n",
       "    <tr>\n",
       "      <td id=\"T_6d405_row6_col0\" class=\"data row6 col0\" >Regionalliga Ost</td>\n",
       "      <td id=\"T_6d405_row6_col1\" class=\"data row6 col1\" >FC Marchfeld / Mannsdorf-Große.</td>\n",
       "      <td id=\"T_6d405_row6_col2\" class=\"data row6 col2\" >7</td>\n",
       "      <td id=\"T_6d405_row6_col3\" class=\"data row6 col3\" >5</td>\n",
       "      <td id=\"T_6d405_row6_col4\" class=\"data row6 col4\" >1.400000</td>\n",
       "      <td id=\"T_6d405_row6_col5\" class=\"data row6 col5\" >8</td>\n",
       "      <td id=\"T_6d405_row6_col6\" class=\"data row6 col6\" >10</td>\n",
       "      <td id=\"T_6d405_row6_col7\" class=\"data row6 col7\" >13</td>\n",
       "      <td id=\"T_6d405_row6_col8\" class=\"data row6 col8\" >0</td>\n",
       "      <td id=\"T_6d405_row6_col9\" class=\"data row6 col9\" >-2</td>\n",
       "    </tr>\n",
       "    <tr>\n",
       "      <td id=\"T_6d405_row7_col0\" class=\"data row7 col0\" >Regionalliga Ost</td>\n",
       "      <td id=\"T_6d405_row7_col1\" class=\"data row7 col1\" >SV Leobendorf</td>\n",
       "      <td id=\"T_6d405_row7_col2\" class=\"data row7 col2\" >7</td>\n",
       "      <td id=\"T_6d405_row7_col3\" class=\"data row7 col3\" >5</td>\n",
       "      <td id=\"T_6d405_row7_col4\" class=\"data row7 col4\" >1.400000</td>\n",
       "      <td id=\"T_6d405_row7_col5\" class=\"data row7 col5\" >7</td>\n",
       "      <td id=\"T_6d405_row7_col6\" class=\"data row7 col6\" >9</td>\n",
       "      <td id=\"T_6d405_row7_col7\" class=\"data row7 col7\" >14</td>\n",
       "      <td id=\"T_6d405_row7_col8\" class=\"data row7 col8\" >0</td>\n",
       "      <td id=\"T_6d405_row7_col9\" class=\"data row7 col9\" >-2</td>\n",
       "    </tr>\n",
       "    <tr>\n",
       "      <td id=\"T_6d405_row8_col0\" class=\"data row8 col0\" >Regionalliga Ost</td>\n",
       "      <td id=\"T_6d405_row8_col1\" class=\"data row8 col1\" >ASK-BSC Bruck/Leitha</td>\n",
       "      <td id=\"T_6d405_row8_col2\" class=\"data row8 col2\" >5</td>\n",
       "      <td id=\"T_6d405_row8_col3\" class=\"data row8 col3\" >5</td>\n",
       "      <td id=\"T_6d405_row8_col4\" class=\"data row8 col4\" >1.000000</td>\n",
       "      <td id=\"T_6d405_row8_col5\" class=\"data row8 col5\" >7</td>\n",
       "      <td id=\"T_6d405_row8_col6\" class=\"data row8 col6\" >9</td>\n",
       "      <td id=\"T_6d405_row8_col7\" class=\"data row8 col7\" >14</td>\n",
       "      <td id=\"T_6d405_row8_col8\" class=\"data row8 col8\" >0</td>\n",
       "      <td id=\"T_6d405_row8_col9\" class=\"data row8 col9\" >-2</td>\n",
       "    </tr>\n",
       "    <tr>\n",
       "      <td id=\"T_6d405_row9_col0\" class=\"data row9 col0\" >Regionalliga Ost</td>\n",
       "      <td id=\"T_6d405_row9_col1\" class=\"data row9 col1\" >Draßburg</td>\n",
       "      <td id=\"T_6d405_row9_col2\" class=\"data row9 col2\" >4</td>\n",
       "      <td id=\"T_6d405_row9_col3\" class=\"data row9 col3\" >5</td>\n",
       "      <td id=\"T_6d405_row9_col4\" class=\"data row9 col4\" >0.800000</td>\n",
       "      <td id=\"T_6d405_row9_col5\" class=\"data row9 col5\" >6</td>\n",
       "      <td id=\"T_6d405_row9_col6\" class=\"data row9 col6\" >9</td>\n",
       "      <td id=\"T_6d405_row9_col7\" class=\"data row9 col7\" >8</td>\n",
       "      <td id=\"T_6d405_row9_col8\" class=\"data row9 col8\" >1</td>\n",
       "      <td id=\"T_6d405_row9_col9\" class=\"data row9 col9\" >-3</td>\n",
       "    </tr>\n",
       "    <tr>\n",
       "      <td id=\"T_6d405_row10_col0\" class=\"data row10 col0\" >Regionalliga Ost</td>\n",
       "      <td id=\"T_6d405_row10_col1\" class=\"data row10 col1\" >FC Mauerwerk</td>\n",
       "      <td id=\"T_6d405_row10_col2\" class=\"data row10 col2\" >4</td>\n",
       "      <td id=\"T_6d405_row10_col3\" class=\"data row10 col3\" >5</td>\n",
       "      <td id=\"T_6d405_row10_col4\" class=\"data row10 col4\" >0.800000</td>\n",
       "      <td id=\"T_6d405_row10_col5\" class=\"data row10 col5\" >5</td>\n",
       "      <td id=\"T_6d405_row10_col6\" class=\"data row10 col6\" >8</td>\n",
       "      <td id=\"T_6d405_row10_col7\" class=\"data row10 col7\" >13</td>\n",
       "      <td id=\"T_6d405_row10_col8\" class=\"data row10 col8\" >1</td>\n",
       "      <td id=\"T_6d405_row10_col9\" class=\"data row10 col9\" >-3</td>\n",
       "    </tr>\n",
       "    <tr>\n",
       "      <td id=\"T_6d405_row11_col0\" class=\"data row11 col0\" >Regionalliga Ost</td>\n",
       "      <td id=\"T_6d405_row11_col1\" class=\"data row11 col1\" >TWL Elektra</td>\n",
       "      <td id=\"T_6d405_row11_col2\" class=\"data row11 col2\" >4</td>\n",
       "      <td id=\"T_6d405_row11_col3\" class=\"data row11 col3\" >5</td>\n",
       "      <td id=\"T_6d405_row11_col4\" class=\"data row11 col4\" >0.800000</td>\n",
       "      <td id=\"T_6d405_row11_col5\" class=\"data row11 col5\" >4</td>\n",
       "      <td id=\"T_6d405_row11_col6\" class=\"data row11 col6\" >7</td>\n",
       "      <td id=\"T_6d405_row11_col7\" class=\"data row11 col7\" >9</td>\n",
       "      <td id=\"T_6d405_row11_col8\" class=\"data row11 col8\" >1</td>\n",
       "      <td id=\"T_6d405_row11_col9\" class=\"data row11 col9\" >-3</td>\n",
       "    </tr>\n",
       "    <tr>\n",
       "      <td id=\"T_6d405_row12_col0\" class=\"data row12 col0\" >Regionalliga Ost</td>\n",
       "      <td id=\"T_6d405_row12_col1\" class=\"data row12 col1\" >FCM Traiskirchen</td>\n",
       "      <td id=\"T_6d405_row12_col2\" class=\"data row12 col2\" >3</td>\n",
       "      <td id=\"T_6d405_row12_col3\" class=\"data row12 col3\" >6</td>\n",
       "      <td id=\"T_6d405_row12_col4\" class=\"data row12 col4\" >0.500000</td>\n",
       "      <td id=\"T_6d405_row12_col5\" class=\"data row12 col5\" >5</td>\n",
       "      <td id=\"T_6d405_row12_col6\" class=\"data row12 col6\" >11</td>\n",
       "      <td id=\"T_6d405_row12_col7\" class=\"data row12 col7\" >15</td>\n",
       "      <td id=\"T_6d405_row12_col8\" class=\"data row12 col8\" >0</td>\n",
       "      <td id=\"T_6d405_row12_col9\" class=\"data row12 col9\" >-6</td>\n",
       "    </tr>\n",
       "    <tr>\n",
       "      <td id=\"T_6d405_row13_col0\" class=\"data row13 col0\" >Regionalliga Ost</td>\n",
       "      <td id=\"T_6d405_row13_col1\" class=\"data row13 col1\" >Admira Juniors</td>\n",
       "      <td id=\"T_6d405_row13_col2\" class=\"data row13 col2\" >1</td>\n",
       "      <td id=\"T_6d405_row13_col3\" class=\"data row13 col3\" >5</td>\n",
       "      <td id=\"T_6d405_row13_col4\" class=\"data row13 col4\" >0.200000</td>\n",
       "      <td id=\"T_6d405_row13_col5\" class=\"data row13 col5\" >7</td>\n",
       "      <td id=\"T_6d405_row13_col6\" class=\"data row13 col6\" >14</td>\n",
       "      <td id=\"T_6d405_row13_col7\" class=\"data row13 col7\" >12</td>\n",
       "      <td id=\"T_6d405_row13_col8\" class=\"data row13 col8\" >0</td>\n",
       "      <td id=\"T_6d405_row13_col9\" class=\"data row13 col9\" >-7</td>\n",
       "    </tr>\n",
       "  </tbody>\n",
       "</table>\n"
      ],
      "text/plain": [
       "<pandas.io.formats.style.Styler at 0x2a7f8cab2c8>"
      ]
     },
     "execution_count": 15,
     "metadata": {},
     "output_type": "execute_result"
    }
   ],
   "source": [
    "df=query_database(query_table_cards_gotten.format(trainer_zeit[0],trainer_zeit[1]),database=\"verbands.db\")\n",
    "df[\"Difference\"]=df[\"scored\"]-df[\"conceded\"]\n",
    "df.head(50).style.hide_index()\\\n",
    "                 .bar(subset=[\"Points\",], color='lightgreen')\\\n",
    "                 .bar(subset=[\"yellow_cards_gotten\"], color='#FFA07A')\\\n",
    "                .bar(subset=[\"red_cards_gotten\"], color='lightblue')\n"
   ]
  },
  {
   "cell_type": "code",
   "execution_count": null,
   "id": "2d33889e",
   "metadata": {
    "slideshow": {
     "slide_type": "subslide"
    }
   },
   "outputs": [
    {
     "data": {
      "text/html": [
       "<style type=\"text/css\">\n",
       "#T_da42d_row0_col2 {\n",
       "  width: 10em;\n",
       "  height: 80%;\n",
       "  background: linear-gradient(90deg,lightgreen 100.0%, transparent 100.0%);\n",
       "}\n",
       "#T_da42d_row0_col7, #T_da42d_row13_col7 {\n",
       "  width: 10em;\n",
       "  height: 80%;\n",
       "  background: linear-gradient(90deg,#FFA07A 42.3%, transparent 42.3%);\n",
       "}\n",
       "#T_da42d_row0_col8, #T_da42d_row5_col8, #T_da42d_row6_col8, #T_da42d_row8_col8, #T_da42d_row9_col8 {\n",
       "  width: 10em;\n",
       "  height: 80%;\n",
       "  background: linear-gradient(90deg,lightblue 50.0%, transparent 50.0%);\n",
       "}\n",
       "#T_da42d_row1_col2 {\n",
       "  width: 10em;\n",
       "  height: 80%;\n",
       "  background: linear-gradient(90deg,lightgreen 86.8%, transparent 86.8%);\n",
       "}\n",
       "#T_da42d_row1_col7, #T_da42d_row3_col7 {\n",
       "  width: 10em;\n",
       "  height: 80%;\n",
       "  background: linear-gradient(90deg,#FFA07A 50.0%, transparent 50.0%);\n",
       "}\n",
       "#T_da42d_row1_col8, #T_da42d_row4_col8, #T_da42d_row12_col8 {\n",
       "  width: 10em;\n",
       "  height: 80%;\n",
       "  background: linear-gradient(90deg,lightblue 100.0%, transparent 100.0%);\n",
       "}\n",
       "#T_da42d_row2_col2 {\n",
       "  width: 10em;\n",
       "  height: 80%;\n",
       "  background: linear-gradient(90deg,lightgreen 76.3%, transparent 76.3%);\n",
       "}\n",
       "#T_da42d_row2_col7, #T_da42d_row8_col7 {\n",
       "  width: 10em;\n",
       "  height: 80%;\n",
       "  background: linear-gradient(90deg,#FFA07A 76.9%, transparent 76.9%);\n",
       "}\n",
       "#T_da42d_row2_col8, #T_da42d_row3_col8, #T_da42d_row7_col8, #T_da42d_row10_col8, #T_da42d_row11_col7, #T_da42d_row11_col8, #T_da42d_row13_col2, #T_da42d_row13_col8 {\n",
       "  width: 10em;\n",
       "  height: 80%;\n",
       "}\n",
       "#T_da42d_row3_col2 {\n",
       "  width: 10em;\n",
       "  height: 80%;\n",
       "  background: linear-gradient(90deg,lightgreen 73.7%, transparent 73.7%);\n",
       "}\n",
       "#T_da42d_row4_col2 {\n",
       "  width: 10em;\n",
       "  height: 80%;\n",
       "  background: linear-gradient(90deg,lightgreen 68.4%, transparent 68.4%);\n",
       "}\n",
       "#T_da42d_row4_col7 {\n",
       "  width: 10em;\n",
       "  height: 80%;\n",
       "  background: linear-gradient(90deg,#FFA07A 92.3%, transparent 92.3%);\n",
       "}\n",
       "#T_da42d_row5_col2 {\n",
       "  width: 10em;\n",
       "  height: 80%;\n",
       "  background: linear-gradient(90deg,lightgreen 60.5%, transparent 60.5%);\n",
       "}\n",
       "#T_da42d_row5_col7, #T_da42d_row10_col7 {\n",
       "  width: 10em;\n",
       "  height: 80%;\n",
       "  background: linear-gradient(90deg,#FFA07A 34.6%, transparent 34.6%);\n",
       "}\n",
       "#T_da42d_row6_col2, #T_da42d_row7_col2 {\n",
       "  width: 10em;\n",
       "  height: 80%;\n",
       "  background: linear-gradient(90deg,lightgreen 55.3%, transparent 55.3%);\n",
       "}\n",
       "#T_da42d_row6_col7 {\n",
       "  width: 10em;\n",
       "  height: 80%;\n",
       "  background: linear-gradient(90deg,#FFA07A 46.2%, transparent 46.2%);\n",
       "}\n",
       "#T_da42d_row7_col7 {\n",
       "  width: 10em;\n",
       "  height: 80%;\n",
       "  background: linear-gradient(90deg,#FFA07A 38.5%, transparent 38.5%);\n",
       "}\n",
       "#T_da42d_row8_col2 {\n",
       "  width: 10em;\n",
       "  height: 80%;\n",
       "  background: linear-gradient(90deg,lightgreen 42.1%, transparent 42.1%);\n",
       "}\n",
       "#T_da42d_row9_col2 {\n",
       "  width: 10em;\n",
       "  height: 80%;\n",
       "  background: linear-gradient(90deg,lightgreen 34.2%, transparent 34.2%);\n",
       "}\n",
       "#T_da42d_row9_col7 {\n",
       "  width: 10em;\n",
       "  height: 80%;\n",
       "  background: linear-gradient(90deg,#FFA07A 100.0%, transparent 100.0%);\n",
       "}\n",
       "#T_da42d_row10_col2 {\n",
       "  width: 10em;\n",
       "  height: 80%;\n",
       "  background: linear-gradient(90deg,lightgreen 26.3%, transparent 26.3%);\n",
       "}\n",
       "#T_da42d_row11_col2 {\n",
       "  width: 10em;\n",
       "  height: 80%;\n",
       "  background: linear-gradient(90deg,lightgreen 23.7%, transparent 23.7%);\n",
       "}\n",
       "#T_da42d_row12_col2 {\n",
       "  width: 10em;\n",
       "  height: 80%;\n",
       "  background: linear-gradient(90deg,lightgreen 7.9%, transparent 7.9%);\n",
       "}\n",
       "#T_da42d_row12_col7 {\n",
       "  width: 10em;\n",
       "  height: 80%;\n",
       "  background: linear-gradient(90deg,#FFA07A 73.1%, transparent 73.1%);\n",
       "}\n",
       "</style>\n",
       "<table id=\"T_da42d_\">\n",
       "  <thead>\n",
       "    <tr>\n",
       "      <th class=\"col_heading level0 col0\" >league</th>\n",
       "      <th class=\"col_heading level0 col1\" >name</th>\n",
       "      <th class=\"col_heading level0 col2\" >Points</th>\n",
       "      <th class=\"col_heading level0 col3\" >Games</th>\n",
       "      <th class=\"col_heading level0 col4\" >Average Points</th>\n",
       "      <th class=\"col_heading level0 col5\" >scored</th>\n",
       "      <th class=\"col_heading level0 col6\" >conceded</th>\n",
       "      <th class=\"col_heading level0 col7\" >yellow_cards_gotten</th>\n",
       "      <th class=\"col_heading level0 col8\" >red_cards_gotten</th>\n",
       "      <th class=\"col_heading level0 col9\" >Difference</th>\n",
       "    </tr>\n",
       "  </thead>\n",
       "  <tbody>\n",
       "    <tr>\n",
       "      <td id=\"T_da42d_row0_col0\" class=\"data row0 col0\" >Regionalliga Ost</td>\n",
       "      <td id=\"T_da42d_row0_col1\" class=\"data row0 col1\" >First Vienna FC 1894</td>\n",
       "      <td id=\"T_da42d_row0_col2\" class=\"data row0 col2\" >47</td>\n",
       "      <td id=\"T_da42d_row0_col3\" class=\"data row0 col3\" >21</td>\n",
       "      <td id=\"T_da42d_row0_col4\" class=\"data row0 col4\" >2.238095</td>\n",
       "      <td id=\"T_da42d_row0_col5\" class=\"data row0 col5\" >43</td>\n",
       "      <td id=\"T_da42d_row0_col6\" class=\"data row0 col6\" >15</td>\n",
       "      <td id=\"T_da42d_row0_col7\" class=\"data row0 col7\" >39</td>\n",
       "      <td id=\"T_da42d_row0_col8\" class=\"data row0 col8\" >1</td>\n",
       "      <td id=\"T_da42d_row0_col9\" class=\"data row0 col9\" >28</td>\n",
       "    </tr>\n",
       "    <tr>\n",
       "      <td id=\"T_da42d_row1_col0\" class=\"data row1 col0\" >Regionalliga Ost</td>\n",
       "      <td id=\"T_da42d_row1_col1\" class=\"data row1 col1\" >Stripfing</td>\n",
       "      <td id=\"T_da42d_row1_col2\" class=\"data row1 col2\" >42</td>\n",
       "      <td id=\"T_da42d_row1_col3\" class=\"data row1 col3\" >21</td>\n",
       "      <td id=\"T_da42d_row1_col4\" class=\"data row1 col4\" >2.000000</td>\n",
       "      <td id=\"T_da42d_row1_col5\" class=\"data row1 col5\" >47</td>\n",
       "      <td id=\"T_da42d_row1_col6\" class=\"data row1 col6\" >15</td>\n",
       "      <td id=\"T_da42d_row1_col7\" class=\"data row1 col7\" >41</td>\n",
       "      <td id=\"T_da42d_row1_col8\" class=\"data row1 col8\" >2</td>\n",
       "      <td id=\"T_da42d_row1_col9\" class=\"data row1 col9\" >32</td>\n",
       "    </tr>\n",
       "    <tr>\n",
       "      <td id=\"T_da42d_row2_col0\" class=\"data row2 col0\" >Regionalliga Ost</td>\n",
       "      <td id=\"T_da42d_row2_col1\" class=\"data row2 col1\" >SV Leobendorf</td>\n",
       "      <td id=\"T_da42d_row2_col2\" class=\"data row2 col2\" >38</td>\n",
       "      <td id=\"T_da42d_row2_col3\" class=\"data row2 col3\" >21</td>\n",
       "      <td id=\"T_da42d_row2_col4\" class=\"data row2 col4\" >1.809524</td>\n",
       "      <td id=\"T_da42d_row2_col5\" class=\"data row2 col5\" >38</td>\n",
       "      <td id=\"T_da42d_row2_col6\" class=\"data row2 col6\" >28</td>\n",
       "      <td id=\"T_da42d_row2_col7\" class=\"data row2 col7\" >48</td>\n",
       "      <td id=\"T_da42d_row2_col8\" class=\"data row2 col8\" >0</td>\n",
       "      <td id=\"T_da42d_row2_col9\" class=\"data row2 col9\" >10</td>\n",
       "    </tr>\n",
       "    <tr>\n",
       "      <td id=\"T_da42d_row3_col0\" class=\"data row3 col0\" >Regionalliga Ost</td>\n",
       "      <td id=\"T_da42d_row3_col1\" class=\"data row3 col1\" >TWL Elektra</td>\n",
       "      <td id=\"T_da42d_row3_col2\" class=\"data row3 col2\" >37</td>\n",
       "      <td id=\"T_da42d_row3_col3\" class=\"data row3 col3\" >21</td>\n",
       "      <td id=\"T_da42d_row3_col4\" class=\"data row3 col4\" >1.761905</td>\n",
       "      <td id=\"T_da42d_row3_col5\" class=\"data row3 col5\" >29</td>\n",
       "      <td id=\"T_da42d_row3_col6\" class=\"data row3 col6\" >24</td>\n",
       "      <td id=\"T_da42d_row3_col7\" class=\"data row3 col7\" >41</td>\n",
       "      <td id=\"T_da42d_row3_col8\" class=\"data row3 col8\" >0</td>\n",
       "      <td id=\"T_da42d_row3_col9\" class=\"data row3 col9\" >5</td>\n",
       "    </tr>\n",
       "    <tr>\n",
       "      <td id=\"T_da42d_row4_col0\" class=\"data row4 col0\" >Regionalliga Ost</td>\n",
       "      <td id=\"T_da42d_row4_col1\" class=\"data row4 col1\" >Wiener Sport-Club</td>\n",
       "      <td id=\"T_da42d_row4_col2\" class=\"data row4 col2\" >35</td>\n",
       "      <td id=\"T_da42d_row4_col3\" class=\"data row4 col3\" >21</td>\n",
       "      <td id=\"T_da42d_row4_col4\" class=\"data row4 col4\" >1.666667</td>\n",
       "      <td id=\"T_da42d_row4_col5\" class=\"data row4 col5\" >40</td>\n",
       "      <td id=\"T_da42d_row4_col6\" class=\"data row4 col6\" >27</td>\n",
       "      <td id=\"T_da42d_row4_col7\" class=\"data row4 col7\" >52</td>\n",
       "      <td id=\"T_da42d_row4_col8\" class=\"data row4 col8\" >2</td>\n",
       "      <td id=\"T_da42d_row4_col9\" class=\"data row4 col9\" >13</td>\n",
       "    </tr>\n",
       "    <tr>\n",
       "      <td id=\"T_da42d_row5_col0\" class=\"data row5 col0\" >Regionalliga Ost</td>\n",
       "      <td id=\"T_da42d_row5_col1\" class=\"data row5 col1\" >FCM Traiskirchen</td>\n",
       "      <td id=\"T_da42d_row5_col2\" class=\"data row5 col2\" >32</td>\n",
       "      <td id=\"T_da42d_row5_col3\" class=\"data row5 col3\" >20</td>\n",
       "      <td id=\"T_da42d_row5_col4\" class=\"data row5 col4\" >1.600000</td>\n",
       "      <td id=\"T_da42d_row5_col5\" class=\"data row5 col5\" >36</td>\n",
       "      <td id=\"T_da42d_row5_col6\" class=\"data row5 col6\" >31</td>\n",
       "      <td id=\"T_da42d_row5_col7\" class=\"data row5 col7\" >37</td>\n",
       "      <td id=\"T_da42d_row5_col8\" class=\"data row5 col8\" >1</td>\n",
       "      <td id=\"T_da42d_row5_col9\" class=\"data row5 col9\" >5</td>\n",
       "    </tr>\n",
       "    <tr>\n",
       "      <td id=\"T_da42d_row6_col0\" class=\"data row6 col0\" >Regionalliga Ost</td>\n",
       "      <td id=\"T_da42d_row6_col1\" class=\"data row6 col1\" >FC Marchfeld / Mannsdorf-Große.</td>\n",
       "      <td id=\"T_da42d_row6_col2\" class=\"data row6 col2\" >30</td>\n",
       "      <td id=\"T_da42d_row6_col3\" class=\"data row6 col3\" >20</td>\n",
       "      <td id=\"T_da42d_row6_col4\" class=\"data row6 col4\" >1.500000</td>\n",
       "      <td id=\"T_da42d_row6_col5\" class=\"data row6 col5\" >34</td>\n",
       "      <td id=\"T_da42d_row6_col6\" class=\"data row6 col6\" >31</td>\n",
       "      <td id=\"T_da42d_row6_col7\" class=\"data row6 col7\" >40</td>\n",
       "      <td id=\"T_da42d_row6_col8\" class=\"data row6 col8\" >1</td>\n",
       "      <td id=\"T_da42d_row6_col9\" class=\"data row6 col9\" >3</td>\n",
       "    </tr>\n",
       "    <tr>\n",
       "      <td id=\"T_da42d_row7_col0\" class=\"data row7 col0\" >Regionalliga Ost</td>\n",
       "      <td id=\"T_da42d_row7_col1\" class=\"data row7 col1\" >SC Neusiedl am See 1919</td>\n",
       "      <td id=\"T_da42d_row7_col2\" class=\"data row7 col2\" >30</td>\n",
       "      <td id=\"T_da42d_row7_col3\" class=\"data row7 col3\" >19</td>\n",
       "      <td id=\"T_da42d_row7_col4\" class=\"data row7 col4\" >1.578947</td>\n",
       "      <td id=\"T_da42d_row7_col5\" class=\"data row7 col5\" >29</td>\n",
       "      <td id=\"T_da42d_row7_col6\" class=\"data row7 col6\" >26</td>\n",
       "      <td id=\"T_da42d_row7_col7\" class=\"data row7 col7\" >38</td>\n",
       "      <td id=\"T_da42d_row7_col8\" class=\"data row7 col8\" >0</td>\n",
       "      <td id=\"T_da42d_row7_col9\" class=\"data row7 col9\" >3</td>\n",
       "    </tr>\n",
       "    <tr>\n",
       "      <td id=\"T_da42d_row8_col0\" class=\"data row8 col0\" >Regionalliga Ost</td>\n",
       "      <td id=\"T_da42d_row8_col1\" class=\"data row8 col1\" >Wiener Viktoria</td>\n",
       "      <td id=\"T_da42d_row8_col2\" class=\"data row8 col2\" >25</td>\n",
       "      <td id=\"T_da42d_row8_col3\" class=\"data row8 col3\" >20</td>\n",
       "      <td id=\"T_da42d_row8_col4\" class=\"data row8 col4\" >1.250000</td>\n",
       "      <td id=\"T_da42d_row8_col5\" class=\"data row8 col5\" >27</td>\n",
       "      <td id=\"T_da42d_row8_col6\" class=\"data row8 col6\" >32</td>\n",
       "      <td id=\"T_da42d_row8_col7\" class=\"data row8 col7\" >48</td>\n",
       "      <td id=\"T_da42d_row8_col8\" class=\"data row8 col8\" >1</td>\n",
       "      <td id=\"T_da42d_row8_col9\" class=\"data row8 col9\" >-5</td>\n",
       "    </tr>\n",
       "    <tr>\n",
       "      <td id=\"T_da42d_row9_col0\" class=\"data row9 col0\" >Regionalliga Ost</td>\n",
       "      <td id=\"T_da42d_row9_col1\" class=\"data row9 col1\" >ASK-BSC Bruck/Leitha</td>\n",
       "      <td id=\"T_da42d_row9_col2\" class=\"data row9 col2\" >22</td>\n",
       "      <td id=\"T_da42d_row9_col3\" class=\"data row9 col3\" >21</td>\n",
       "      <td id=\"T_da42d_row9_col4\" class=\"data row9 col4\" >1.047619</td>\n",
       "      <td id=\"T_da42d_row9_col5\" class=\"data row9 col5\" >36</td>\n",
       "      <td id=\"T_da42d_row9_col6\" class=\"data row9 col6\" >35</td>\n",
       "      <td id=\"T_da42d_row9_col7\" class=\"data row9 col7\" >54</td>\n",
       "      <td id=\"T_da42d_row9_col8\" class=\"data row9 col8\" >1</td>\n",
       "      <td id=\"T_da42d_row9_col9\" class=\"data row9 col9\" >1</td>\n",
       "    </tr>\n",
       "    <tr>\n",
       "      <td id=\"T_da42d_row10_col0\" class=\"data row10 col0\" >Regionalliga Ost</td>\n",
       "      <td id=\"T_da42d_row10_col1\" class=\"data row10 col1\" >FC Mauerwerk</td>\n",
       "      <td id=\"T_da42d_row10_col2\" class=\"data row10 col2\" >19</td>\n",
       "      <td id=\"T_da42d_row10_col3\" class=\"data row10 col3\" >21</td>\n",
       "      <td id=\"T_da42d_row10_col4\" class=\"data row10 col4\" >0.904762</td>\n",
       "      <td id=\"T_da42d_row10_col5\" class=\"data row10 col5\" >24</td>\n",
       "      <td id=\"T_da42d_row10_col6\" class=\"data row10 col6\" >48</td>\n",
       "      <td id=\"T_da42d_row10_col7\" class=\"data row10 col7\" >37</td>\n",
       "      <td id=\"T_da42d_row10_col8\" class=\"data row10 col8\" >0</td>\n",
       "      <td id=\"T_da42d_row10_col9\" class=\"data row10 col9\" >-24</td>\n",
       "    </tr>\n",
       "    <tr>\n",
       "      <td id=\"T_da42d_row11_col0\" class=\"data row11 col0\" >Regionalliga Ost</td>\n",
       "      <td id=\"T_da42d_row11_col1\" class=\"data row11 col1\" >Admira Juniors</td>\n",
       "      <td id=\"T_da42d_row11_col2\" class=\"data row11 col2\" >18</td>\n",
       "      <td id=\"T_da42d_row11_col3\" class=\"data row11 col3\" >20</td>\n",
       "      <td id=\"T_da42d_row11_col4\" class=\"data row11 col4\" >0.900000</td>\n",
       "      <td id=\"T_da42d_row11_col5\" class=\"data row11 col5\" >26</td>\n",
       "      <td id=\"T_da42d_row11_col6\" class=\"data row11 col6\" >37</td>\n",
       "      <td id=\"T_da42d_row11_col7\" class=\"data row11 col7\" >28</td>\n",
       "      <td id=\"T_da42d_row11_col8\" class=\"data row11 col8\" >0</td>\n",
       "      <td id=\"T_da42d_row11_col9\" class=\"data row11 col9\" >-11</td>\n",
       "    </tr>\n",
       "    <tr>\n",
       "      <td id=\"T_da42d_row12_col0\" class=\"data row12 col0\" >Regionalliga Ost</td>\n",
       "      <td id=\"T_da42d_row12_col1\" class=\"data row12 col1\" >Draßburg</td>\n",
       "      <td id=\"T_da42d_row12_col2\" class=\"data row12 col2\" >12</td>\n",
       "      <td id=\"T_da42d_row12_col3\" class=\"data row12 col3\" >21</td>\n",
       "      <td id=\"T_da42d_row12_col4\" class=\"data row12 col4\" >0.571429</td>\n",
       "      <td id=\"T_da42d_row12_col5\" class=\"data row12 col5\" >16</td>\n",
       "      <td id=\"T_da42d_row12_col6\" class=\"data row12 col6\" >46</td>\n",
       "      <td id=\"T_da42d_row12_col7\" class=\"data row12 col7\" >47</td>\n",
       "      <td id=\"T_da42d_row12_col8\" class=\"data row12 col8\" >2</td>\n",
       "      <td id=\"T_da42d_row12_col9\" class=\"data row12 col9\" >-30</td>\n",
       "    </tr>\n",
       "    <tr>\n",
       "      <td id=\"T_da42d_row13_col0\" class=\"data row13 col0\" >Regionalliga Ost</td>\n",
       "      <td id=\"T_da42d_row13_col1\" class=\"data row13 col1\" >SC Wiener Neustadt</td>\n",
       "      <td id=\"T_da42d_row13_col2\" class=\"data row13 col2\" >9</td>\n",
       "      <td id=\"T_da42d_row13_col3\" class=\"data row13 col3\" >21</td>\n",
       "      <td id=\"T_da42d_row13_col4\" class=\"data row13 col4\" >0.428571</td>\n",
       "      <td id=\"T_da42d_row13_col5\" class=\"data row13 col5\" >19</td>\n",
       "      <td id=\"T_da42d_row13_col6\" class=\"data row13 col6\" >49</td>\n",
       "      <td id=\"T_da42d_row13_col7\" class=\"data row13 col7\" >39</td>\n",
       "      <td id=\"T_da42d_row13_col8\" class=\"data row13 col8\" >0</td>\n",
       "      <td id=\"T_da42d_row13_col9\" class=\"data row13 col9\" >-30</td>\n",
       "    </tr>\n",
       "  </tbody>\n",
       "</table>\n"
      ],
      "text/plain": [
       "<pandas.io.formats.style.Styler at 0x2a7f8c80ec8>"
      ]
     },
     "execution_count": 16,
     "metadata": {},
     "output_type": "execute_result"
    }
   ],
   "source": [
    "df=query_database(query_table_cards_gotten.format(\"20210701\",\"20220426\",vereine[0],vereine[0]),database=\"verbands.db\")\n",
    "df[\"Difference\"]=df[\"scored\"]-df[\"conceded\"]\n",
    "df.head(50).style.hide_index()\\\n",
    "                 .bar(subset=[\"Points\",], color='lightgreen')\\\n",
    "                 .bar(subset=[\"yellow_cards_gotten\"], color='#FFA07A')\\\n",
    "                .bar(subset=[\"red_cards_gotten\"], color='lightblue')\n"
   ]
  },
  {
   "cell_type": "code",
   "execution_count": null,
   "id": "5a66e68b",
   "metadata": {
    "slideshow": {
     "slide_type": "skip"
    }
   },
   "outputs": [],
   "source": [
    "# GET TABLE\n",
    "query_table=(\"\"\"\n",
    "select  m.league,t.name, count(DISTINCT(player_id)) as \"Unterschiedliche_Spieler\"\n",
    "from \n",
    "\t(select substr(result,0,instr(result, ':')) as homeresult,\n",
    "\tsubstr(result,instr(result, ':') + 1) as awayresult,\n",
    "\tcast(substr(round,0,instr(round, '.')) as INT) as current_round,* from matches) m \n",
    "join matches_players p on p.match_id=m.id join teams t on (t.id=p.team_id)\n",
    "where replace(date,'-','') between '{}' and '{}' \n",
    "         and league=\"Regionalliga Ost\"\n",
    "group by m.league,t.name\n",
    "order by Unterschiedliche_Spieler desc\"\"\")"
   ]
  },
  {
   "cell_type": "code",
   "execution_count": null,
   "id": "df87e1fe",
   "metadata": {
    "slideshow": {
     "slide_type": "subslide"
    }
   },
   "outputs": [
    {
     "data": {
      "text/html": [
       "<style type=\"text/css\">\n",
       "#T_71da6_row0_col2 {\n",
       "  width: 10em;\n",
       "  height: 80%;\n",
       "  background: linear-gradient(90deg,lightblue 100.0%, transparent 100.0%);\n",
       "}\n",
       "#T_71da6_row1_col2, #T_71da6_row2_col2, #T_71da6_row3_col2 {\n",
       "  width: 10em;\n",
       "  height: 80%;\n",
       "  background: linear-gradient(90deg,lightblue 50.0%, transparent 50.0%);\n",
       "}\n",
       "#T_71da6_row4_col2, #T_71da6_row5_col2 {\n",
       "  width: 10em;\n",
       "  height: 80%;\n",
       "  background: linear-gradient(90deg,lightblue 41.7%, transparent 41.7%);\n",
       "}\n",
       "#T_71da6_row6_col2, #T_71da6_row7_col2 {\n",
       "  width: 10em;\n",
       "  height: 80%;\n",
       "  background: linear-gradient(90deg,lightblue 25.0%, transparent 25.0%);\n",
       "}\n",
       "#T_71da6_row8_col2, #T_71da6_row9_col2, #T_71da6_row10_col2 {\n",
       "  width: 10em;\n",
       "  height: 80%;\n",
       "  background: linear-gradient(90deg,lightblue 16.7%, transparent 16.7%);\n",
       "}\n",
       "#T_71da6_row11_col2, #T_71da6_row12_col2 {\n",
       "  width: 10em;\n",
       "  height: 80%;\n",
       "  background: linear-gradient(90deg,lightblue 8.3%, transparent 8.3%);\n",
       "}\n",
       "#T_71da6_row13_col2 {\n",
       "  width: 10em;\n",
       "  height: 80%;\n",
       "}\n",
       "</style>\n",
       "<table id=\"T_71da6_\">\n",
       "  <thead>\n",
       "    <tr>\n",
       "      <th class=\"col_heading level0 col0\" >league</th>\n",
       "      <th class=\"col_heading level0 col1\" >name</th>\n",
       "      <th class=\"col_heading level0 col2\" >Unterschiedliche_Spieler</th>\n",
       "    </tr>\n",
       "  </thead>\n",
       "  <tbody>\n",
       "    <tr>\n",
       "      <td id=\"T_71da6_row0_col0\" class=\"data row0 col0\" >Regionalliga Ost</td>\n",
       "      <td id=\"T_71da6_row0_col1\" class=\"data row0 col1\" >Admira Juniors</td>\n",
       "      <td id=\"T_71da6_row0_col2\" class=\"data row0 col2\" >30</td>\n",
       "    </tr>\n",
       "    <tr>\n",
       "      <td id=\"T_71da6_row1_col0\" class=\"data row1 col0\" >Regionalliga Ost</td>\n",
       "      <td id=\"T_71da6_row1_col1\" class=\"data row1 col1\" >FC Mauerwerk</td>\n",
       "      <td id=\"T_71da6_row1_col2\" class=\"data row1 col2\" >24</td>\n",
       "    </tr>\n",
       "    <tr>\n",
       "      <td id=\"T_71da6_row2_col0\" class=\"data row2 col0\" >Regionalliga Ost</td>\n",
       "      <td id=\"T_71da6_row2_col1\" class=\"data row2 col1\" >SC Neusiedl am See 1919</td>\n",
       "      <td id=\"T_71da6_row2_col2\" class=\"data row2 col2\" >24</td>\n",
       "    </tr>\n",
       "    <tr>\n",
       "      <td id=\"T_71da6_row3_col0\" class=\"data row3 col0\" >Regionalliga Ost</td>\n",
       "      <td id=\"T_71da6_row3_col1\" class=\"data row3 col1\" >Stripfing</td>\n",
       "      <td id=\"T_71da6_row3_col2\" class=\"data row3 col2\" >24</td>\n",
       "    </tr>\n",
       "    <tr>\n",
       "      <td id=\"T_71da6_row4_col0\" class=\"data row4 col0\" >Regionalliga Ost</td>\n",
       "      <td id=\"T_71da6_row4_col1\" class=\"data row4 col1\" >Draßburg</td>\n",
       "      <td id=\"T_71da6_row4_col2\" class=\"data row4 col2\" >23</td>\n",
       "    </tr>\n",
       "    <tr>\n",
       "      <td id=\"T_71da6_row5_col0\" class=\"data row5 col0\" >Regionalliga Ost</td>\n",
       "      <td id=\"T_71da6_row5_col1\" class=\"data row5 col1\" >TWL Elektra</td>\n",
       "      <td id=\"T_71da6_row5_col2\" class=\"data row5 col2\" >23</td>\n",
       "    </tr>\n",
       "    <tr>\n",
       "      <td id=\"T_71da6_row6_col0\" class=\"data row6 col0\" >Regionalliga Ost</td>\n",
       "      <td id=\"T_71da6_row6_col1\" class=\"data row6 col1\" >SC Wiener Neustadt</td>\n",
       "      <td id=\"T_71da6_row6_col2\" class=\"data row6 col2\" >21</td>\n",
       "    </tr>\n",
       "    <tr>\n",
       "      <td id=\"T_71da6_row7_col0\" class=\"data row7 col0\" >Regionalliga Ost</td>\n",
       "      <td id=\"T_71da6_row7_col1\" class=\"data row7 col1\" >Wiener Sport-Club</td>\n",
       "      <td id=\"T_71da6_row7_col2\" class=\"data row7 col2\" >21</td>\n",
       "    </tr>\n",
       "    <tr>\n",
       "      <td id=\"T_71da6_row8_col0\" class=\"data row8 col0\" >Regionalliga Ost</td>\n",
       "      <td id=\"T_71da6_row8_col1\" class=\"data row8 col1\" >FCM Traiskirchen</td>\n",
       "      <td id=\"T_71da6_row8_col2\" class=\"data row8 col2\" >20</td>\n",
       "    </tr>\n",
       "    <tr>\n",
       "      <td id=\"T_71da6_row9_col0\" class=\"data row9 col0\" >Regionalliga Ost</td>\n",
       "      <td id=\"T_71da6_row9_col1\" class=\"data row9 col1\" >First Vienna FC 1894</td>\n",
       "      <td id=\"T_71da6_row9_col2\" class=\"data row9 col2\" >20</td>\n",
       "    </tr>\n",
       "    <tr>\n",
       "      <td id=\"T_71da6_row10_col0\" class=\"data row10 col0\" >Regionalliga Ost</td>\n",
       "      <td id=\"T_71da6_row10_col1\" class=\"data row10 col1\" >SV Leobendorf</td>\n",
       "      <td id=\"T_71da6_row10_col2\" class=\"data row10 col2\" >20</td>\n",
       "    </tr>\n",
       "    <tr>\n",
       "      <td id=\"T_71da6_row11_col0\" class=\"data row11 col0\" >Regionalliga Ost</td>\n",
       "      <td id=\"T_71da6_row11_col1\" class=\"data row11 col1\" >ASK-BSC Bruck/Leitha</td>\n",
       "      <td id=\"T_71da6_row11_col2\" class=\"data row11 col2\" >19</td>\n",
       "    </tr>\n",
       "    <tr>\n",
       "      <td id=\"T_71da6_row12_col0\" class=\"data row12 col0\" >Regionalliga Ost</td>\n",
       "      <td id=\"T_71da6_row12_col1\" class=\"data row12 col1\" >FC Marchfeld / Mannsdorf-Große.</td>\n",
       "      <td id=\"T_71da6_row12_col2\" class=\"data row12 col2\" >19</td>\n",
       "    </tr>\n",
       "    <tr>\n",
       "      <td id=\"T_71da6_row13_col0\" class=\"data row13 col0\" >Regionalliga Ost</td>\n",
       "      <td id=\"T_71da6_row13_col1\" class=\"data row13 col1\" >Wiener Viktoria</td>\n",
       "      <td id=\"T_71da6_row13_col2\" class=\"data row13 col2\" >18</td>\n",
       "    </tr>\n",
       "  </tbody>\n",
       "</table>\n"
      ],
      "text/plain": [
       "<pandas.io.formats.style.Styler at 0x2a7f77a6608>"
      ]
     },
     "execution_count": 18,
     "metadata": {},
     "output_type": "execute_result"
    }
   ],
   "source": [
    "df=query_database(query_table.format(trainer_zeit[0],trainer_zeit[1],vereine[0],vereine[0]),database=\"verbands.db\")\n",
    "df.head(50).style.hide_index()\\\n",
    "                .bar(subset=[\"Unterschiedliche_Spieler\"], color='lightblue')"
   ]
  },
  {
   "cell_type": "code",
   "execution_count": null,
   "id": "fd920ddf",
   "metadata": {
    "slideshow": {
     "slide_type": "subslide"
    }
   },
   "outputs": [
    {
     "data": {
      "text/html": [
       "<style type=\"text/css\">\n",
       "#T_07682_row0_col2 {\n",
       "  width: 10em;\n",
       "  height: 80%;\n",
       "  background: linear-gradient(90deg,lightblue 100.0%, transparent 100.0%);\n",
       "}\n",
       "#T_07682_row1_col2 {\n",
       "  width: 10em;\n",
       "  height: 80%;\n",
       "  background: linear-gradient(90deg,lightblue 83.3%, transparent 83.3%);\n",
       "}\n",
       "#T_07682_row2_col2 {\n",
       "  width: 10em;\n",
       "  height: 80%;\n",
       "  background: linear-gradient(90deg,lightblue 50.0%, transparent 50.0%);\n",
       "}\n",
       "#T_07682_row3_col2 {\n",
       "  width: 10em;\n",
       "  height: 80%;\n",
       "  background: linear-gradient(90deg,lightblue 44.4%, transparent 44.4%);\n",
       "}\n",
       "#T_07682_row4_col2 {\n",
       "  width: 10em;\n",
       "  height: 80%;\n",
       "  background: linear-gradient(90deg,lightblue 38.9%, transparent 38.9%);\n",
       "}\n",
       "#T_07682_row5_col2 {\n",
       "  width: 10em;\n",
       "  height: 80%;\n",
       "  background: linear-gradient(90deg,lightblue 33.3%, transparent 33.3%);\n",
       "}\n",
       "#T_07682_row6_col2 {\n",
       "  width: 10em;\n",
       "  height: 80%;\n",
       "  background: linear-gradient(90deg,lightblue 22.2%, transparent 22.2%);\n",
       "}\n",
       "#T_07682_row7_col2 {\n",
       "  width: 10em;\n",
       "  height: 80%;\n",
       "  background: linear-gradient(90deg,lightblue 16.7%, transparent 16.7%);\n",
       "}\n",
       "#T_07682_row8_col2 {\n",
       "  width: 10em;\n",
       "  height: 80%;\n",
       "  background: linear-gradient(90deg,lightblue 11.1%, transparent 11.1%);\n",
       "}\n",
       "#T_07682_row9_col2, #T_07682_row10_col2, #T_07682_row11_col2 {\n",
       "  width: 10em;\n",
       "  height: 80%;\n",
       "  background: linear-gradient(90deg,lightblue 5.6%, transparent 5.6%);\n",
       "}\n",
       "#T_07682_row12_col2, #T_07682_row13_col2 {\n",
       "  width: 10em;\n",
       "  height: 80%;\n",
       "}\n",
       "</style>\n",
       "<table id=\"T_07682_\">\n",
       "  <thead>\n",
       "    <tr>\n",
       "      <th class=\"col_heading level0 col0\" >league</th>\n",
       "      <th class=\"col_heading level0 col1\" >name</th>\n",
       "      <th class=\"col_heading level0 col2\" >Unterschiedliche_Spieler</th>\n",
       "    </tr>\n",
       "  </thead>\n",
       "  <tbody>\n",
       "    <tr>\n",
       "      <td id=\"T_07682_row0_col0\" class=\"data row0 col0\" >Regionalliga Ost</td>\n",
       "      <td id=\"T_07682_row0_col1\" class=\"data row0 col1\" >Admira Juniors</td>\n",
       "      <td id=\"T_07682_row0_col2\" class=\"data row0 col2\" >44</td>\n",
       "    </tr>\n",
       "    <tr>\n",
       "      <td id=\"T_07682_row1_col0\" class=\"data row1 col0\" >Regionalliga Ost</td>\n",
       "      <td id=\"T_07682_row1_col1\" class=\"data row1 col1\" >FC Mauerwerk</td>\n",
       "      <td id=\"T_07682_row1_col2\" class=\"data row1 col2\" >41</td>\n",
       "    </tr>\n",
       "    <tr>\n",
       "      <td id=\"T_07682_row2_col0\" class=\"data row2 col0\" >Regionalliga Ost</td>\n",
       "      <td id=\"T_07682_row2_col1\" class=\"data row2 col1\" >Draßburg</td>\n",
       "      <td id=\"T_07682_row2_col2\" class=\"data row2 col2\" >35</td>\n",
       "    </tr>\n",
       "    <tr>\n",
       "      <td id=\"T_07682_row3_col0\" class=\"data row3 col0\" >Regionalliga Ost</td>\n",
       "      <td id=\"T_07682_row3_col1\" class=\"data row3 col1\" >SC Wiener Neustadt</td>\n",
       "      <td id=\"T_07682_row3_col2\" class=\"data row3 col2\" >34</td>\n",
       "    </tr>\n",
       "    <tr>\n",
       "      <td id=\"T_07682_row4_col0\" class=\"data row4 col0\" >Regionalliga Ost</td>\n",
       "      <td id=\"T_07682_row4_col1\" class=\"data row4 col1\" >SC Neusiedl am See 1919</td>\n",
       "      <td id=\"T_07682_row4_col2\" class=\"data row4 col2\" >33</td>\n",
       "    </tr>\n",
       "    <tr>\n",
       "      <td id=\"T_07682_row5_col0\" class=\"data row5 col0\" >Regionalliga Ost</td>\n",
       "      <td id=\"T_07682_row5_col1\" class=\"data row5 col1\" >Stripfing</td>\n",
       "      <td id=\"T_07682_row5_col2\" class=\"data row5 col2\" >32</td>\n",
       "    </tr>\n",
       "    <tr>\n",
       "      <td id=\"T_07682_row6_col0\" class=\"data row6 col0\" >Regionalliga Ost</td>\n",
       "      <td id=\"T_07682_row6_col1\" class=\"data row6 col1\" >Wiener Viktoria</td>\n",
       "      <td id=\"T_07682_row6_col2\" class=\"data row6 col2\" >30</td>\n",
       "    </tr>\n",
       "    <tr>\n",
       "      <td id=\"T_07682_row7_col0\" class=\"data row7 col0\" >Regionalliga Ost</td>\n",
       "      <td id=\"T_07682_row7_col1\" class=\"data row7 col1\" >FCM Traiskirchen</td>\n",
       "      <td id=\"T_07682_row7_col2\" class=\"data row7 col2\" >29</td>\n",
       "    </tr>\n",
       "    <tr>\n",
       "      <td id=\"T_07682_row8_col0\" class=\"data row8 col0\" >Regionalliga Ost</td>\n",
       "      <td id=\"T_07682_row8_col1\" class=\"data row8 col1\" >FC Marchfeld / Mannsdorf-Große.</td>\n",
       "      <td id=\"T_07682_row8_col2\" class=\"data row8 col2\" >28</td>\n",
       "    </tr>\n",
       "    <tr>\n",
       "      <td id=\"T_07682_row9_col0\" class=\"data row9 col0\" >Regionalliga Ost</td>\n",
       "      <td id=\"T_07682_row9_col1\" class=\"data row9 col1\" >First Vienna FC 1894</td>\n",
       "      <td id=\"T_07682_row9_col2\" class=\"data row9 col2\" >27</td>\n",
       "    </tr>\n",
       "    <tr>\n",
       "      <td id=\"T_07682_row10_col0\" class=\"data row10 col0\" >Regionalliga Ost</td>\n",
       "      <td id=\"T_07682_row10_col1\" class=\"data row10 col1\" >SV Leobendorf</td>\n",
       "      <td id=\"T_07682_row10_col2\" class=\"data row10 col2\" >27</td>\n",
       "    </tr>\n",
       "    <tr>\n",
       "      <td id=\"T_07682_row11_col0\" class=\"data row11 col0\" >Regionalliga Ost</td>\n",
       "      <td id=\"T_07682_row11_col1\" class=\"data row11 col1\" >Wiener Sport-Club</td>\n",
       "      <td id=\"T_07682_row11_col2\" class=\"data row11 col2\" >27</td>\n",
       "    </tr>\n",
       "    <tr>\n",
       "      <td id=\"T_07682_row12_col0\" class=\"data row12 col0\" >Regionalliga Ost</td>\n",
       "      <td id=\"T_07682_row12_col1\" class=\"data row12 col1\" >ASK-BSC Bruck/Leitha</td>\n",
       "      <td id=\"T_07682_row12_col2\" class=\"data row12 col2\" >26</td>\n",
       "    </tr>\n",
       "    <tr>\n",
       "      <td id=\"T_07682_row13_col0\" class=\"data row13 col0\" >Regionalliga Ost</td>\n",
       "      <td id=\"T_07682_row13_col1\" class=\"data row13 col1\" >TWL Elektra</td>\n",
       "      <td id=\"T_07682_row13_col2\" class=\"data row13 col2\" >26</td>\n",
       "    </tr>\n",
       "  </tbody>\n",
       "</table>\n"
      ],
      "text/plain": [
       "<pandas.io.formats.style.Styler at 0x2a7f8d31888>"
      ]
     },
     "execution_count": 19,
     "metadata": {},
     "output_type": "execute_result"
    }
   ],
   "source": [
    "df=query_database(query_table.format(\"20210701\",\"20220426\",vereine[0],vereine[0]),database=\"verbands.db\")\n",
    "df.head(50).style.hide_index()\\\n",
    "                .bar(subset=[\"Unterschiedliche_Spieler\"], color='lightblue')"
   ]
  },
  {
   "cell_type": "markdown",
   "id": "392b6a8a",
   "metadata": {
    "slideshow": {
     "slide_type": "slide"
    }
   },
   "source": [
    "## Fitness: Wann wurden Tor geschossen/bekommen"
   ]
  },
  {
   "cell_type": "code",
   "execution_count": null,
   "id": "81cd80f3",
   "metadata": {
    "slideshow": {
     "slide_type": "skip"
    }
   },
   "outputs": [],
   "source": [
    "# When Goals Scored (Fitness)\n",
    "# GET TABLE\n",
    "query_table_goals_scored=(\"\"\"\n",
    "select  m.league,t.name,minute, count(*) as \"Goals_per_min\"\n",
    "from \n",
    "(select substr(result,0,instr(result, ':')) as homeresult,\n",
    "\tsubstr(result,instr(result, ':') + 1) as awayresult,\n",
    "\tcast(substr(round,0,instr(round, '.')) as INT) as current_round,* from matches) m \n",
    "join (select DISTINCT match_id,minute,type,team_id from matches_activity) p on p.match_id=m.id \n",
    "join teams t on (t.id=p.team_id)\n",
    "where replace(date,'-','') between '{}' and '{}' \n",
    "         and league=\"Regionalliga Ost\" and type=\"goal\"\n",
    "group by m.league,t.name, minute\n",
    "order by m.league,t.name asc\n",
    "\"\"\")\n",
    "\n",
    "\n",
    "# GET TABLE\n",
    "query_table_goals_conceeded=(\"\"\"\n",
    "select  m.league,t.name,minute, count(*) as \"Goals_per_min_conceeded\"\n",
    "from \n",
    "(select substr(result,0,instr(result, ':')) as homeresult,\n",
    "\tsubstr(result,instr(result, ':') + 1) as awayresult,\n",
    "\tcast(substr(round,0,instr(round, '.')) as INT) as current_round,* from matches) m \n",
    "join   (select DISTINCT match_id,minute,type,team_id from matches_activity) a on a.match_id=m.id \n",
    "join teams t on (a.team_id<>t.id and (t.id=m.away_team_id or t.id=m.home_team_id))\n",
    "where replace(date,'-','') between '{}' and '{}' \n",
    "         and league=\"Regionalliga Ost\" and type=\"goal\"\n",
    "group by m.league,t.name, minute\n",
    "order by t.name,minute\n",
    "\"\"\")"
   ]
  },
  {
   "cell_type": "code",
   "execution_count": null,
   "id": "7687ca94",
   "metadata": {
    "slideshow": {
     "slide_type": "slide"
    }
   },
   "outputs": [
    {
     "data": {
      "application/vnd.plotly.v1+json": {
       "config": {
        "plotlyServerURL": "https://plot.ly"
       },
       "data": [
        {
         "alignmentgroup": "True",
         "bingroup": "x",
         "histfunc": "sum",
         "hovertemplate": "name=ASK-BSC Bruck/Leitha<br>minute=%{x}<br>sum of Goals_per_min=%{y}<extra></extra>",
         "legendgroup": "ASK-BSC Bruck/Leitha",
         "marker": {
          "color": "#636efa",
          "pattern": {
           "shape": ""
          }
         },
         "name": "ASK-BSC Bruck/Leitha",
         "nbinsx": 6,
         "offsetgroup": "ASK-BSC Bruck/Leitha",
         "orientation": "v",
         "showlegend": true,
         "type": "histogram",
         "x": [
          15,
          30,
          36,
          41,
          49,
          55,
          85
         ],
         "xaxis": "x",
         "xbins": {
          "end": 90,
          "size": 15,
          "start": 0
         },
         "y": [
          1,
          1,
          1,
          1,
          1,
          1,
          1
         ],
         "yaxis": "y"
        },
        {
         "alignmentgroup": "True",
         "bingroup": "x",
         "histfunc": "sum",
         "hovertemplate": "name=Admira Juniors<br>minute=%{x}<br>sum of Goals_per_min=%{y}<extra></extra>",
         "legendgroup": "Admira Juniors",
         "marker": {
          "color": "#EF553B",
          "pattern": {
           "shape": ""
          }
         },
         "name": "Admira Juniors",
         "nbinsx": 6,
         "offsetgroup": "Admira Juniors",
         "orientation": "v",
         "showlegend": true,
         "type": "histogram",
         "x": [
          8,
          16,
          23,
          37,
          56,
          69,
          88
         ],
         "xaxis": "x",
         "xbins": {
          "end": 90,
          "size": 15,
          "start": 0
         },
         "y": [
          1,
          1,
          1,
          1,
          1,
          1,
          1
         ],
         "yaxis": "y"
        },
        {
         "alignmentgroup": "True",
         "bingroup": "x",
         "histfunc": "sum",
         "hovertemplate": "name=Draßburg<br>minute=%{x}<br>sum of Goals_per_min=%{y}<extra></extra>",
         "legendgroup": "Draßburg",
         "marker": {
          "color": "#00cc96",
          "pattern": {
           "shape": ""
          }
         },
         "name": "Draßburg",
         "nbinsx": 6,
         "offsetgroup": "Draßburg",
         "orientation": "v",
         "showlegend": true,
         "type": "histogram",
         "x": [
          10,
          17,
          39,
          48,
          61,
          89
         ],
         "xaxis": "x",
         "xbins": {
          "end": 90,
          "size": 15,
          "start": 0
         },
         "y": [
          1,
          1,
          1,
          1,
          1,
          1
         ],
         "yaxis": "y"
        },
        {
         "alignmentgroup": "True",
         "bingroup": "x",
         "histfunc": "sum",
         "hovertemplate": "name=FC Marchfeld / Mannsdorf-Große.<br>minute=%{x}<br>sum of Goals_per_min=%{y}<extra></extra>",
         "legendgroup": "FC Marchfeld / Mannsdorf-Große.",
         "marker": {
          "color": "#ab63fa",
          "pattern": {
           "shape": ""
          }
         },
         "name": "FC Marchfeld / Mannsdorf-Große.",
         "nbinsx": 6,
         "offsetgroup": "FC Marchfeld / Mannsdorf-Große.",
         "orientation": "v",
         "showlegend": true,
         "type": "histogram",
         "x": [
          5,
          29,
          30,
          34,
          40,
          44,
          68,
          80,
          "90+4"
         ],
         "xaxis": "x",
         "xbins": {
          "end": 90,
          "size": 15,
          "start": 0
         },
         "y": [
          1,
          1,
          1,
          1,
          1,
          1,
          1,
          1,
          1
         ],
         "yaxis": "y"
        },
        {
         "alignmentgroup": "True",
         "bingroup": "x",
         "histfunc": "sum",
         "hovertemplate": "name=FC Mauerwerk<br>minute=%{x}<br>sum of Goals_per_min=%{y}<extra></extra>",
         "legendgroup": "FC Mauerwerk",
         "marker": {
          "color": "#FFA15A",
          "pattern": {
           "shape": ""
          }
         },
         "name": "FC Mauerwerk",
         "nbinsx": 6,
         "offsetgroup": "FC Mauerwerk",
         "orientation": "v",
         "showlegend": true,
         "type": "histogram",
         "x": [
          13,
          26,
          35,
          39,
          84
         ],
         "xaxis": "x",
         "xbins": {
          "end": 90,
          "size": 15,
          "start": 0
         },
         "y": [
          1,
          1,
          1,
          1,
          1
         ],
         "yaxis": "y"
        },
        {
         "alignmentgroup": "True",
         "bingroup": "x",
         "histfunc": "sum",
         "hovertemplate": "name=FCM Traiskirchen<br>minute=%{x}<br>sum of Goals_per_min=%{y}<extra></extra>",
         "legendgroup": "FCM Traiskirchen",
         "marker": {
          "color": "#19d3f3",
          "pattern": {
           "shape": ""
          }
         },
         "name": "FCM Traiskirchen",
         "nbinsx": 6,
         "offsetgroup": "FCM Traiskirchen",
         "orientation": "v",
         "showlegend": true,
         "type": "histogram",
         "x": [
          19,
          31,
          64,
          69,
          81
         ],
         "xaxis": "x",
         "xbins": {
          "end": 90,
          "size": 15,
          "start": 0
         },
         "y": [
          1,
          1,
          1,
          1,
          1
         ],
         "yaxis": "y"
        },
        {
         "alignmentgroup": "True",
         "bingroup": "x",
         "histfunc": "sum",
         "hovertemplate": "name=First Vienna FC 1894<br>minute=%{x}<br>sum of Goals_per_min=%{y}<extra></extra>",
         "legendgroup": "First Vienna FC 1894",
         "marker": {
          "color": "#FF6692",
          "pattern": {
           "shape": ""
          }
         },
         "name": "First Vienna FC 1894",
         "nbinsx": 6,
         "offsetgroup": "First Vienna FC 1894",
         "orientation": "v",
         "showlegend": true,
         "type": "histogram",
         "x": [
          6,
          12,
          23,
          25,
          28,
          50,
          56,
          78,
          "90+2"
         ],
         "xaxis": "x",
         "xbins": {
          "end": 90,
          "size": 15,
          "start": 0
         },
         "y": [
          1,
          1,
          1,
          1,
          1,
          1,
          1,
          1,
          1
         ],
         "yaxis": "y"
        },
        {
         "alignmentgroup": "True",
         "bingroup": "x",
         "histfunc": "sum",
         "hovertemplate": "name=SC Neusiedl am See 1919<br>minute=%{x}<br>sum of Goals_per_min=%{y}<extra></extra>",
         "legendgroup": "SC Neusiedl am See 1919",
         "marker": {
          "color": "#B6E880",
          "pattern": {
           "shape": ""
          }
         },
         "name": "SC Neusiedl am See 1919",
         "nbinsx": 6,
         "offsetgroup": "SC Neusiedl am See 1919",
         "orientation": "v",
         "showlegend": true,
         "type": "histogram",
         "x": [
          5,
          7,
          9,
          21,
          25,
          29,
          33,
          56,
          66,
          87
         ],
         "xaxis": "x",
         "xbins": {
          "end": 90,
          "size": 15,
          "start": 0
         },
         "y": [
          1,
          1,
          1,
          1,
          1,
          1,
          1,
          1,
          1,
          1
         ],
         "yaxis": "y"
        },
        {
         "alignmentgroup": "True",
         "bingroup": "x",
         "histfunc": "sum",
         "hovertemplate": "name=SC Wiener Neustadt<br>minute=%{x}<br>sum of Goals_per_min=%{y}<extra></extra>",
         "legendgroup": "SC Wiener Neustadt",
         "marker": {
          "color": "#FF97FF",
          "pattern": {
           "shape": ""
          }
         },
         "name": "SC Wiener Neustadt",
         "nbinsx": 6,
         "offsetgroup": "SC Wiener Neustadt",
         "orientation": "v",
         "showlegend": true,
         "type": "histogram",
         "x": [
          3,
          9,
          15,
          47,
          51,
          59,
          75,
          88,
          "90+4"
         ],
         "xaxis": "x",
         "xbins": {
          "end": 90,
          "size": 15,
          "start": 0
         },
         "y": [
          1,
          1,
          2,
          1,
          1,
          1,
          1,
          2,
          1
         ],
         "yaxis": "y"
        },
        {
         "alignmentgroup": "True",
         "bingroup": "x",
         "histfunc": "sum",
         "hovertemplate": "name=SV Leobendorf<br>minute=%{x}<br>sum of Goals_per_min=%{y}<extra></extra>",
         "legendgroup": "SV Leobendorf",
         "marker": {
          "color": "#FECB52",
          "pattern": {
           "shape": ""
          }
         },
         "name": "SV Leobendorf",
         "nbinsx": 6,
         "offsetgroup": "SV Leobendorf",
         "orientation": "v",
         "showlegend": true,
         "type": "histogram",
         "x": [
          43,
          50,
          56,
          62,
          68,
          80
         ],
         "xaxis": "x",
         "xbins": {
          "end": 90,
          "size": 15,
          "start": 0
         },
         "y": [
          1,
          1,
          1,
          1,
          2,
          1
         ],
         "yaxis": "y"
        },
        {
         "alignmentgroup": "True",
         "bingroup": "x",
         "histfunc": "sum",
         "hovertemplate": "name=Stripfing<br>minute=%{x}<br>sum of Goals_per_min=%{y}<extra></extra>",
         "legendgroup": "Stripfing",
         "marker": {
          "color": "#636efa",
          "pattern": {
           "shape": ""
          }
         },
         "name": "Stripfing",
         "nbinsx": 6,
         "offsetgroup": "Stripfing",
         "orientation": "v",
         "showlegend": true,
         "type": "histogram",
         "x": [
          2,
          16,
          17,
          19,
          25,
          30,
          46,
          53,
          66,
          69,
          70,
          76,
          86
         ],
         "xaxis": "x",
         "xbins": {
          "end": 90,
          "size": 15,
          "start": 0
         },
         "y": [
          1,
          1,
          1,
          1,
          1,
          1,
          1,
          1,
          1,
          1,
          1,
          1,
          1
         ],
         "yaxis": "y"
        },
        {
         "alignmentgroup": "True",
         "bingroup": "x",
         "histfunc": "sum",
         "hovertemplate": "name=TWL Elektra<br>minute=%{x}<br>sum of Goals_per_min=%{y}<extra></extra>",
         "legendgroup": "TWL Elektra",
         "marker": {
          "color": "#EF553B",
          "pattern": {
           "shape": ""
          }
         },
         "name": "TWL Elektra",
         "nbinsx": 6,
         "offsetgroup": "TWL Elektra",
         "orientation": "v",
         "showlegend": true,
         "type": "histogram",
         "x": [
          18,
          42,
          43,
          83
         ],
         "xaxis": "x",
         "xbins": {
          "end": 90,
          "size": 15,
          "start": 0
         },
         "y": [
          1,
          1,
          1,
          1
         ],
         "yaxis": "y"
        },
        {
         "alignmentgroup": "True",
         "bingroup": "x",
         "histfunc": "sum",
         "hovertemplate": "name=Wiener Sport-Club<br>minute=%{x}<br>sum of Goals_per_min=%{y}<extra></extra>",
         "legendgroup": "Wiener Sport-Club",
         "marker": {
          "color": "#00cc96",
          "pattern": {
           "shape": ""
          }
         },
         "name": "Wiener Sport-Club",
         "nbinsx": 6,
         "offsetgroup": "Wiener Sport-Club",
         "orientation": "v",
         "showlegend": true,
         "type": "histogram",
         "x": [
          21,
          34,
          39,
          51,
          63,
          66,
          87,
          90
         ],
         "xaxis": "x",
         "xbins": {
          "end": 90,
          "size": 15,
          "start": 0
         },
         "y": [
          1,
          1,
          1,
          1,
          1,
          1,
          1,
          1
         ],
         "yaxis": "y"
        },
        {
         "alignmentgroup": "True",
         "bingroup": "x",
         "histfunc": "sum",
         "hovertemplate": "name=Wiener Viktoria<br>minute=%{x}<br>sum of Goals_per_min=%{y}<extra></extra>",
         "legendgroup": "Wiener Viktoria",
         "marker": {
          "color": "#ab63fa",
          "pattern": {
           "shape": ""
          }
         },
         "name": "Wiener Viktoria",
         "nbinsx": 6,
         "offsetgroup": "Wiener Viktoria",
         "orientation": "v",
         "showlegend": true,
         "type": "histogram",
         "x": [
          15,
          22,
          35,
          68,
          73
         ],
         "xaxis": "x",
         "xbins": {
          "end": 90,
          "size": 15,
          "start": 0
         },
         "y": [
          1,
          1,
          1,
          1,
          1
         ],
         "yaxis": "y"
        }
       ],
       "layout": {
        "barmode": "overlay",
        "legend": {
         "title": {
          "text": "name"
         },
         "tracegroupgap": 0
        },
        "template": {
         "data": {
          "bar": [
           {
            "error_x": {
             "color": "#2a3f5f"
            },
            "error_y": {
             "color": "#2a3f5f"
            },
            "marker": {
             "line": {
              "color": "#E5ECF6",
              "width": 0.5
             },
             "pattern": {
              "fillmode": "overlay",
              "size": 10,
              "solidity": 0.2
             }
            },
            "type": "bar"
           }
          ],
          "barpolar": [
           {
            "marker": {
             "line": {
              "color": "#E5ECF6",
              "width": 0.5
             },
             "pattern": {
              "fillmode": "overlay",
              "size": 10,
              "solidity": 0.2
             }
            },
            "type": "barpolar"
           }
          ],
          "carpet": [
           {
            "aaxis": {
             "endlinecolor": "#2a3f5f",
             "gridcolor": "white",
             "linecolor": "white",
             "minorgridcolor": "white",
             "startlinecolor": "#2a3f5f"
            },
            "baxis": {
             "endlinecolor": "#2a3f5f",
             "gridcolor": "white",
             "linecolor": "white",
             "minorgridcolor": "white",
             "startlinecolor": "#2a3f5f"
            },
            "type": "carpet"
           }
          ],
          "choropleth": [
           {
            "colorbar": {
             "outlinewidth": 0,
             "ticks": ""
            },
            "type": "choropleth"
           }
          ],
          "contour": [
           {
            "colorbar": {
             "outlinewidth": 0,
             "ticks": ""
            },
            "colorscale": [
             [
              0,
              "#0d0887"
             ],
             [
              0.1111111111111111,
              "#46039f"
             ],
             [
              0.2222222222222222,
              "#7201a8"
             ],
             [
              0.3333333333333333,
              "#9c179e"
             ],
             [
              0.4444444444444444,
              "#bd3786"
             ],
             [
              0.5555555555555556,
              "#d8576b"
             ],
             [
              0.6666666666666666,
              "#ed7953"
             ],
             [
              0.7777777777777778,
              "#fb9f3a"
             ],
             [
              0.8888888888888888,
              "#fdca26"
             ],
             [
              1,
              "#f0f921"
             ]
            ],
            "type": "contour"
           }
          ],
          "contourcarpet": [
           {
            "colorbar": {
             "outlinewidth": 0,
             "ticks": ""
            },
            "type": "contourcarpet"
           }
          ],
          "heatmap": [
           {
            "colorbar": {
             "outlinewidth": 0,
             "ticks": ""
            },
            "colorscale": [
             [
              0,
              "#0d0887"
             ],
             [
              0.1111111111111111,
              "#46039f"
             ],
             [
              0.2222222222222222,
              "#7201a8"
             ],
             [
              0.3333333333333333,
              "#9c179e"
             ],
             [
              0.4444444444444444,
              "#bd3786"
             ],
             [
              0.5555555555555556,
              "#d8576b"
             ],
             [
              0.6666666666666666,
              "#ed7953"
             ],
             [
              0.7777777777777778,
              "#fb9f3a"
             ],
             [
              0.8888888888888888,
              "#fdca26"
             ],
             [
              1,
              "#f0f921"
             ]
            ],
            "type": "heatmap"
           }
          ],
          "heatmapgl": [
           {
            "colorbar": {
             "outlinewidth": 0,
             "ticks": ""
            },
            "colorscale": [
             [
              0,
              "#0d0887"
             ],
             [
              0.1111111111111111,
              "#46039f"
             ],
             [
              0.2222222222222222,
              "#7201a8"
             ],
             [
              0.3333333333333333,
              "#9c179e"
             ],
             [
              0.4444444444444444,
              "#bd3786"
             ],
             [
              0.5555555555555556,
              "#d8576b"
             ],
             [
              0.6666666666666666,
              "#ed7953"
             ],
             [
              0.7777777777777778,
              "#fb9f3a"
             ],
             [
              0.8888888888888888,
              "#fdca26"
             ],
             [
              1,
              "#f0f921"
             ]
            ],
            "type": "heatmapgl"
           }
          ],
          "histogram": [
           {
            "marker": {
             "pattern": {
              "fillmode": "overlay",
              "size": 10,
              "solidity": 0.2
             }
            },
            "type": "histogram"
           }
          ],
          "histogram2d": [
           {
            "colorbar": {
             "outlinewidth": 0,
             "ticks": ""
            },
            "colorscale": [
             [
              0,
              "#0d0887"
             ],
             [
              0.1111111111111111,
              "#46039f"
             ],
             [
              0.2222222222222222,
              "#7201a8"
             ],
             [
              0.3333333333333333,
              "#9c179e"
             ],
             [
              0.4444444444444444,
              "#bd3786"
             ],
             [
              0.5555555555555556,
              "#d8576b"
             ],
             [
              0.6666666666666666,
              "#ed7953"
             ],
             [
              0.7777777777777778,
              "#fb9f3a"
             ],
             [
              0.8888888888888888,
              "#fdca26"
             ],
             [
              1,
              "#f0f921"
             ]
            ],
            "type": "histogram2d"
           }
          ],
          "histogram2dcontour": [
           {
            "colorbar": {
             "outlinewidth": 0,
             "ticks": ""
            },
            "colorscale": [
             [
              0,
              "#0d0887"
             ],
             [
              0.1111111111111111,
              "#46039f"
             ],
             [
              0.2222222222222222,
              "#7201a8"
             ],
             [
              0.3333333333333333,
              "#9c179e"
             ],
             [
              0.4444444444444444,
              "#bd3786"
             ],
             [
              0.5555555555555556,
              "#d8576b"
             ],
             [
              0.6666666666666666,
              "#ed7953"
             ],
             [
              0.7777777777777778,
              "#fb9f3a"
             ],
             [
              0.8888888888888888,
              "#fdca26"
             ],
             [
              1,
              "#f0f921"
             ]
            ],
            "type": "histogram2dcontour"
           }
          ],
          "mesh3d": [
           {
            "colorbar": {
             "outlinewidth": 0,
             "ticks": ""
            },
            "type": "mesh3d"
           }
          ],
          "parcoords": [
           {
            "line": {
             "colorbar": {
              "outlinewidth": 0,
              "ticks": ""
             }
            },
            "type": "parcoords"
           }
          ],
          "pie": [
           {
            "automargin": true,
            "type": "pie"
           }
          ],
          "scatter": [
           {
            "fillpattern": {
             "fillmode": "overlay",
             "size": 10,
             "solidity": 0.2
            },
            "type": "scatter"
           }
          ],
          "scatter3d": [
           {
            "line": {
             "colorbar": {
              "outlinewidth": 0,
              "ticks": ""
             }
            },
            "marker": {
             "colorbar": {
              "outlinewidth": 0,
              "ticks": ""
             }
            },
            "type": "scatter3d"
           }
          ],
          "scattercarpet": [
           {
            "marker": {
             "colorbar": {
              "outlinewidth": 0,
              "ticks": ""
             }
            },
            "type": "scattercarpet"
           }
          ],
          "scattergeo": [
           {
            "marker": {
             "colorbar": {
              "outlinewidth": 0,
              "ticks": ""
             }
            },
            "type": "scattergeo"
           }
          ],
          "scattergl": [
           {
            "marker": {
             "colorbar": {
              "outlinewidth": 0,
              "ticks": ""
             }
            },
            "type": "scattergl"
           }
          ],
          "scattermapbox": [
           {
            "marker": {
             "colorbar": {
              "outlinewidth": 0,
              "ticks": ""
             }
            },
            "type": "scattermapbox"
           }
          ],
          "scatterpolar": [
           {
            "marker": {
             "colorbar": {
              "outlinewidth": 0,
              "ticks": ""
             }
            },
            "type": "scatterpolar"
           }
          ],
          "scatterpolargl": [
           {
            "marker": {
             "colorbar": {
              "outlinewidth": 0,
              "ticks": ""
             }
            },
            "type": "scatterpolargl"
           }
          ],
          "scatterternary": [
           {
            "marker": {
             "colorbar": {
              "outlinewidth": 0,
              "ticks": ""
             }
            },
            "type": "scatterternary"
           }
          ],
          "surface": [
           {
            "colorbar": {
             "outlinewidth": 0,
             "ticks": ""
            },
            "colorscale": [
             [
              0,
              "#0d0887"
             ],
             [
              0.1111111111111111,
              "#46039f"
             ],
             [
              0.2222222222222222,
              "#7201a8"
             ],
             [
              0.3333333333333333,
              "#9c179e"
             ],
             [
              0.4444444444444444,
              "#bd3786"
             ],
             [
              0.5555555555555556,
              "#d8576b"
             ],
             [
              0.6666666666666666,
              "#ed7953"
             ],
             [
              0.7777777777777778,
              "#fb9f3a"
             ],
             [
              0.8888888888888888,
              "#fdca26"
             ],
             [
              1,
              "#f0f921"
             ]
            ],
            "type": "surface"
           }
          ],
          "table": [
           {
            "cells": {
             "fill": {
              "color": "#EBF0F8"
             },
             "line": {
              "color": "white"
             }
            },
            "header": {
             "fill": {
              "color": "#C8D4E3"
             },
             "line": {
              "color": "white"
             }
            },
            "type": "table"
           }
          ]
         },
         "layout": {
          "annotationdefaults": {
           "arrowcolor": "#2a3f5f",
           "arrowhead": 0,
           "arrowwidth": 1
          },
          "autotypenumbers": "strict",
          "coloraxis": {
           "colorbar": {
            "outlinewidth": 0,
            "ticks": ""
           }
          },
          "colorscale": {
           "diverging": [
            [
             0,
             "#8e0152"
            ],
            [
             0.1,
             "#c51b7d"
            ],
            [
             0.2,
             "#de77ae"
            ],
            [
             0.3,
             "#f1b6da"
            ],
            [
             0.4,
             "#fde0ef"
            ],
            [
             0.5,
             "#f7f7f7"
            ],
            [
             0.6,
             "#e6f5d0"
            ],
            [
             0.7,
             "#b8e186"
            ],
            [
             0.8,
             "#7fbc41"
            ],
            [
             0.9,
             "#4d9221"
            ],
            [
             1,
             "#276419"
            ]
           ],
           "sequential": [
            [
             0,
             "#0d0887"
            ],
            [
             0.1111111111111111,
             "#46039f"
            ],
            [
             0.2222222222222222,
             "#7201a8"
            ],
            [
             0.3333333333333333,
             "#9c179e"
            ],
            [
             0.4444444444444444,
             "#bd3786"
            ],
            [
             0.5555555555555556,
             "#d8576b"
            ],
            [
             0.6666666666666666,
             "#ed7953"
            ],
            [
             0.7777777777777778,
             "#fb9f3a"
            ],
            [
             0.8888888888888888,
             "#fdca26"
            ],
            [
             1,
             "#f0f921"
            ]
           ],
           "sequentialminus": [
            [
             0,
             "#0d0887"
            ],
            [
             0.1111111111111111,
             "#46039f"
            ],
            [
             0.2222222222222222,
             "#7201a8"
            ],
            [
             0.3333333333333333,
             "#9c179e"
            ],
            [
             0.4444444444444444,
             "#bd3786"
            ],
            [
             0.5555555555555556,
             "#d8576b"
            ],
            [
             0.6666666666666666,
             "#ed7953"
            ],
            [
             0.7777777777777778,
             "#fb9f3a"
            ],
            [
             0.8888888888888888,
             "#fdca26"
            ],
            [
             1,
             "#f0f921"
            ]
           ]
          },
          "colorway": [
           "#636efa",
           "#EF553B",
           "#00cc96",
           "#ab63fa",
           "#FFA15A",
           "#19d3f3",
           "#FF6692",
           "#B6E880",
           "#FF97FF",
           "#FECB52"
          ],
          "font": {
           "color": "#2a3f5f"
          },
          "geo": {
           "bgcolor": "white",
           "lakecolor": "white",
           "landcolor": "#E5ECF6",
           "showlakes": true,
           "showland": true,
           "subunitcolor": "white"
          },
          "hoverlabel": {
           "align": "left"
          },
          "hovermode": "closest",
          "mapbox": {
           "style": "light"
          },
          "paper_bgcolor": "white",
          "plot_bgcolor": "#E5ECF6",
          "polar": {
           "angularaxis": {
            "gridcolor": "white",
            "linecolor": "white",
            "ticks": ""
           },
           "bgcolor": "#E5ECF6",
           "radialaxis": {
            "gridcolor": "white",
            "linecolor": "white",
            "ticks": ""
           }
          },
          "scene": {
           "xaxis": {
            "backgroundcolor": "#E5ECF6",
            "gridcolor": "white",
            "gridwidth": 2,
            "linecolor": "white",
            "showbackground": true,
            "ticks": "",
            "zerolinecolor": "white"
           },
           "yaxis": {
            "backgroundcolor": "#E5ECF6",
            "gridcolor": "white",
            "gridwidth": 2,
            "linecolor": "white",
            "showbackground": true,
            "ticks": "",
            "zerolinecolor": "white"
           },
           "zaxis": {
            "backgroundcolor": "#E5ECF6",
            "gridcolor": "white",
            "gridwidth": 2,
            "linecolor": "white",
            "showbackground": true,
            "ticks": "",
            "zerolinecolor": "white"
           }
          },
          "shapedefaults": {
           "line": {
            "color": "#2a3f5f"
           }
          },
          "ternary": {
           "aaxis": {
            "gridcolor": "white",
            "linecolor": "white",
            "ticks": ""
           },
           "baxis": {
            "gridcolor": "white",
            "linecolor": "white",
            "ticks": ""
           },
           "bgcolor": "#E5ECF6",
           "caxis": {
            "gridcolor": "white",
            "linecolor": "white",
            "ticks": ""
           }
          },
          "title": {
           "x": 0.05
          },
          "xaxis": {
           "automargin": true,
           "gridcolor": "white",
           "linecolor": "white",
           "ticks": "",
           "title": {
            "standoff": 15
           },
           "zerolinecolor": "white",
           "zerolinewidth": 2
          },
          "yaxis": {
           "automargin": true,
           "gridcolor": "white",
           "linecolor": "white",
           "ticks": "",
           "title": {
            "standoff": 15
           },
           "zerolinecolor": "white",
           "zerolinewidth": 2
          }
         }
        },
        "title": {
         "text": "Tore geschossen mit Mandl"
        },
        "xaxis": {
         "anchor": "y",
         "domain": [
          0,
          1
         ],
         "title": {
          "text": "minute"
         }
        },
        "yaxis": {
         "anchor": "x",
         "domain": [
          0,
          1
         ],
         "title": {
          "text": "sum of Goals_per_min"
         }
        }
       }
      },
      "text/html": [
       "<div>                            <div id=\"582b318a-a5f8-4890-a0f1-0b27028255b2\" class=\"plotly-graph-div\" style=\"height:525px; width:100%;\"></div>            <script type=\"text/javascript\">                require([\"plotly\"], function(Plotly) {                    window.PLOTLYENV=window.PLOTLYENV || {};                                    if (document.getElementById(\"582b318a-a5f8-4890-a0f1-0b27028255b2\")) {                    Plotly.newPlot(                        \"582b318a-a5f8-4890-a0f1-0b27028255b2\",                        [{\"alignmentgroup\":\"True\",\"bingroup\":\"x\",\"histfunc\":\"sum\",\"hovertemplate\":\"name=ASK-BSC Bruck/Leitha<br>minute=%{x}<br>sum of Goals_per_min=%{y}<extra></extra>\",\"legendgroup\":\"ASK-BSC Bruck/Leitha\",\"marker\":{\"color\":\"#636efa\",\"pattern\":{\"shape\":\"\"}},\"name\":\"ASK-BSC Bruck/Leitha\",\"nbinsx\":6,\"offsetgroup\":\"ASK-BSC Bruck/Leitha\",\"orientation\":\"v\",\"showlegend\":true,\"x\":[15,30,36,41,49,55,85],\"xaxis\":\"x\",\"y\":[1,1,1,1,1,1,1],\"yaxis\":\"y\",\"type\":\"histogram\",\"xbins\":{\"end\":90.0,\"size\":15,\"start\":0.0}},{\"alignmentgroup\":\"True\",\"bingroup\":\"x\",\"histfunc\":\"sum\",\"hovertemplate\":\"name=Admira Juniors<br>minute=%{x}<br>sum of Goals_per_min=%{y}<extra></extra>\",\"legendgroup\":\"Admira Juniors\",\"marker\":{\"color\":\"#EF553B\",\"pattern\":{\"shape\":\"\"}},\"name\":\"Admira Juniors\",\"nbinsx\":6,\"offsetgroup\":\"Admira Juniors\",\"orientation\":\"v\",\"showlegend\":true,\"x\":[8,16,23,37,56,69,88],\"xaxis\":\"x\",\"y\":[1,1,1,1,1,1,1],\"yaxis\":\"y\",\"type\":\"histogram\",\"xbins\":{\"end\":90.0,\"size\":15,\"start\":0.0}},{\"alignmentgroup\":\"True\",\"bingroup\":\"x\",\"histfunc\":\"sum\",\"hovertemplate\":\"name=Dra\\u00dfburg<br>minute=%{x}<br>sum of Goals_per_min=%{y}<extra></extra>\",\"legendgroup\":\"Dra\\u00dfburg\",\"marker\":{\"color\":\"#00cc96\",\"pattern\":{\"shape\":\"\"}},\"name\":\"Dra\\u00dfburg\",\"nbinsx\":6,\"offsetgroup\":\"Dra\\u00dfburg\",\"orientation\":\"v\",\"showlegend\":true,\"x\":[10,17,39,48,61,89],\"xaxis\":\"x\",\"y\":[1,1,1,1,1,1],\"yaxis\":\"y\",\"type\":\"histogram\",\"xbins\":{\"end\":90.0,\"size\":15,\"start\":0.0}},{\"alignmentgroup\":\"True\",\"bingroup\":\"x\",\"histfunc\":\"sum\",\"hovertemplate\":\"name=FC Marchfeld / Mannsdorf-Gro\\u00dfe.<br>minute=%{x}<br>sum of Goals_per_min=%{y}<extra></extra>\",\"legendgroup\":\"FC Marchfeld / Mannsdorf-Gro\\u00dfe.\",\"marker\":{\"color\":\"#ab63fa\",\"pattern\":{\"shape\":\"\"}},\"name\":\"FC Marchfeld / Mannsdorf-Gro\\u00dfe.\",\"nbinsx\":6,\"offsetgroup\":\"FC Marchfeld / Mannsdorf-Gro\\u00dfe.\",\"orientation\":\"v\",\"showlegend\":true,\"x\":[5,29,30,34,40,44,68,80,\"90+4\"],\"xaxis\":\"x\",\"y\":[1,1,1,1,1,1,1,1,1],\"yaxis\":\"y\",\"type\":\"histogram\",\"xbins\":{\"end\":90.0,\"size\":15,\"start\":0.0}},{\"alignmentgroup\":\"True\",\"bingroup\":\"x\",\"histfunc\":\"sum\",\"hovertemplate\":\"name=FC Mauerwerk<br>minute=%{x}<br>sum of Goals_per_min=%{y}<extra></extra>\",\"legendgroup\":\"FC Mauerwerk\",\"marker\":{\"color\":\"#FFA15A\",\"pattern\":{\"shape\":\"\"}},\"name\":\"FC Mauerwerk\",\"nbinsx\":6,\"offsetgroup\":\"FC Mauerwerk\",\"orientation\":\"v\",\"showlegend\":true,\"x\":[13,26,35,39,84],\"xaxis\":\"x\",\"y\":[1,1,1,1,1],\"yaxis\":\"y\",\"type\":\"histogram\",\"xbins\":{\"end\":90.0,\"size\":15,\"start\":0.0}},{\"alignmentgroup\":\"True\",\"bingroup\":\"x\",\"histfunc\":\"sum\",\"hovertemplate\":\"name=FCM Traiskirchen<br>minute=%{x}<br>sum of Goals_per_min=%{y}<extra></extra>\",\"legendgroup\":\"FCM Traiskirchen\",\"marker\":{\"color\":\"#19d3f3\",\"pattern\":{\"shape\":\"\"}},\"name\":\"FCM Traiskirchen\",\"nbinsx\":6,\"offsetgroup\":\"FCM Traiskirchen\",\"orientation\":\"v\",\"showlegend\":true,\"x\":[19,31,64,69,81],\"xaxis\":\"x\",\"y\":[1,1,1,1,1],\"yaxis\":\"y\",\"type\":\"histogram\",\"xbins\":{\"end\":90.0,\"size\":15,\"start\":0.0}},{\"alignmentgroup\":\"True\",\"bingroup\":\"x\",\"histfunc\":\"sum\",\"hovertemplate\":\"name=First Vienna FC 1894<br>minute=%{x}<br>sum of Goals_per_min=%{y}<extra></extra>\",\"legendgroup\":\"First Vienna FC 1894\",\"marker\":{\"color\":\"#FF6692\",\"pattern\":{\"shape\":\"\"}},\"name\":\"First Vienna FC 1894\",\"nbinsx\":6,\"offsetgroup\":\"First Vienna FC 1894\",\"orientation\":\"v\",\"showlegend\":true,\"x\":[6,12,23,25,28,50,56,78,\"90+2\"],\"xaxis\":\"x\",\"y\":[1,1,1,1,1,1,1,1,1],\"yaxis\":\"y\",\"type\":\"histogram\",\"xbins\":{\"end\":90.0,\"size\":15,\"start\":0.0}},{\"alignmentgroup\":\"True\",\"bingroup\":\"x\",\"histfunc\":\"sum\",\"hovertemplate\":\"name=SC Neusiedl am See 1919<br>minute=%{x}<br>sum of Goals_per_min=%{y}<extra></extra>\",\"legendgroup\":\"SC Neusiedl am See 1919\",\"marker\":{\"color\":\"#B6E880\",\"pattern\":{\"shape\":\"\"}},\"name\":\"SC Neusiedl am See 1919\",\"nbinsx\":6,\"offsetgroup\":\"SC Neusiedl am See 1919\",\"orientation\":\"v\",\"showlegend\":true,\"x\":[5,7,9,21,25,29,33,56,66,87],\"xaxis\":\"x\",\"y\":[1,1,1,1,1,1,1,1,1,1],\"yaxis\":\"y\",\"type\":\"histogram\",\"xbins\":{\"end\":90.0,\"size\":15,\"start\":0.0}},{\"alignmentgroup\":\"True\",\"bingroup\":\"x\",\"histfunc\":\"sum\",\"hovertemplate\":\"name=SC Wiener Neustadt<br>minute=%{x}<br>sum of Goals_per_min=%{y}<extra></extra>\",\"legendgroup\":\"SC Wiener Neustadt\",\"marker\":{\"color\":\"#FF97FF\",\"pattern\":{\"shape\":\"\"}},\"name\":\"SC Wiener Neustadt\",\"nbinsx\":6,\"offsetgroup\":\"SC Wiener Neustadt\",\"orientation\":\"v\",\"showlegend\":true,\"x\":[3,9,15,47,51,59,75,88,\"90+4\"],\"xaxis\":\"x\",\"y\":[1,1,2,1,1,1,1,2,1],\"yaxis\":\"y\",\"type\":\"histogram\",\"xbins\":{\"end\":90.0,\"size\":15,\"start\":0.0}},{\"alignmentgroup\":\"True\",\"bingroup\":\"x\",\"histfunc\":\"sum\",\"hovertemplate\":\"name=SV Leobendorf<br>minute=%{x}<br>sum of Goals_per_min=%{y}<extra></extra>\",\"legendgroup\":\"SV Leobendorf\",\"marker\":{\"color\":\"#FECB52\",\"pattern\":{\"shape\":\"\"}},\"name\":\"SV Leobendorf\",\"nbinsx\":6,\"offsetgroup\":\"SV Leobendorf\",\"orientation\":\"v\",\"showlegend\":true,\"x\":[43,50,56,62,68,80],\"xaxis\":\"x\",\"y\":[1,1,1,1,2,1],\"yaxis\":\"y\",\"type\":\"histogram\",\"xbins\":{\"end\":90.0,\"size\":15,\"start\":0.0}},{\"alignmentgroup\":\"True\",\"bingroup\":\"x\",\"histfunc\":\"sum\",\"hovertemplate\":\"name=Stripfing<br>minute=%{x}<br>sum of Goals_per_min=%{y}<extra></extra>\",\"legendgroup\":\"Stripfing\",\"marker\":{\"color\":\"#636efa\",\"pattern\":{\"shape\":\"\"}},\"name\":\"Stripfing\",\"nbinsx\":6,\"offsetgroup\":\"Stripfing\",\"orientation\":\"v\",\"showlegend\":true,\"x\":[2,16,17,19,25,30,46,53,66,69,70,76,86],\"xaxis\":\"x\",\"y\":[1,1,1,1,1,1,1,1,1,1,1,1,1],\"yaxis\":\"y\",\"type\":\"histogram\",\"xbins\":{\"end\":90.0,\"size\":15,\"start\":0.0}},{\"alignmentgroup\":\"True\",\"bingroup\":\"x\",\"histfunc\":\"sum\",\"hovertemplate\":\"name=TWL Elektra<br>minute=%{x}<br>sum of Goals_per_min=%{y}<extra></extra>\",\"legendgroup\":\"TWL Elektra\",\"marker\":{\"color\":\"#EF553B\",\"pattern\":{\"shape\":\"\"}},\"name\":\"TWL Elektra\",\"nbinsx\":6,\"offsetgroup\":\"TWL Elektra\",\"orientation\":\"v\",\"showlegend\":true,\"x\":[18,42,43,83],\"xaxis\":\"x\",\"y\":[1,1,1,1],\"yaxis\":\"y\",\"type\":\"histogram\",\"xbins\":{\"end\":90.0,\"size\":15,\"start\":0.0}},{\"alignmentgroup\":\"True\",\"bingroup\":\"x\",\"histfunc\":\"sum\",\"hovertemplate\":\"name=Wiener Sport-Club<br>minute=%{x}<br>sum of Goals_per_min=%{y}<extra></extra>\",\"legendgroup\":\"Wiener Sport-Club\",\"marker\":{\"color\":\"#00cc96\",\"pattern\":{\"shape\":\"\"}},\"name\":\"Wiener Sport-Club\",\"nbinsx\":6,\"offsetgroup\":\"Wiener Sport-Club\",\"orientation\":\"v\",\"showlegend\":true,\"x\":[21,34,39,51,63,66,87,90],\"xaxis\":\"x\",\"y\":[1,1,1,1,1,1,1,1],\"yaxis\":\"y\",\"type\":\"histogram\",\"xbins\":{\"end\":90.0,\"size\":15,\"start\":0.0}},{\"alignmentgroup\":\"True\",\"bingroup\":\"x\",\"histfunc\":\"sum\",\"hovertemplate\":\"name=Wiener Viktoria<br>minute=%{x}<br>sum of Goals_per_min=%{y}<extra></extra>\",\"legendgroup\":\"Wiener Viktoria\",\"marker\":{\"color\":\"#ab63fa\",\"pattern\":{\"shape\":\"\"}},\"name\":\"Wiener Viktoria\",\"nbinsx\":6,\"offsetgroup\":\"Wiener Viktoria\",\"orientation\":\"v\",\"showlegend\":true,\"x\":[15,22,35,68,73],\"xaxis\":\"x\",\"y\":[1,1,1,1,1],\"yaxis\":\"y\",\"type\":\"histogram\",\"xbins\":{\"end\":90.0,\"size\":15,\"start\":0.0}}],                        {\"template\":{\"data\":{\"histogram2dcontour\":[{\"type\":\"histogram2dcontour\",\"colorbar\":{\"outlinewidth\":0,\"ticks\":\"\"},\"colorscale\":[[0.0,\"#0d0887\"],[0.1111111111111111,\"#46039f\"],[0.2222222222222222,\"#7201a8\"],[0.3333333333333333,\"#9c179e\"],[0.4444444444444444,\"#bd3786\"],[0.5555555555555556,\"#d8576b\"],[0.6666666666666666,\"#ed7953\"],[0.7777777777777778,\"#fb9f3a\"],[0.8888888888888888,\"#fdca26\"],[1.0,\"#f0f921\"]]}],\"choropleth\":[{\"type\":\"choropleth\",\"colorbar\":{\"outlinewidth\":0,\"ticks\":\"\"}}],\"histogram2d\":[{\"type\":\"histogram2d\",\"colorbar\":{\"outlinewidth\":0,\"ticks\":\"\"},\"colorscale\":[[0.0,\"#0d0887\"],[0.1111111111111111,\"#46039f\"],[0.2222222222222222,\"#7201a8\"],[0.3333333333333333,\"#9c179e\"],[0.4444444444444444,\"#bd3786\"],[0.5555555555555556,\"#d8576b\"],[0.6666666666666666,\"#ed7953\"],[0.7777777777777778,\"#fb9f3a\"],[0.8888888888888888,\"#fdca26\"],[1.0,\"#f0f921\"]]}],\"heatmap\":[{\"type\":\"heatmap\",\"colorbar\":{\"outlinewidth\":0,\"ticks\":\"\"},\"colorscale\":[[0.0,\"#0d0887\"],[0.1111111111111111,\"#46039f\"],[0.2222222222222222,\"#7201a8\"],[0.3333333333333333,\"#9c179e\"],[0.4444444444444444,\"#bd3786\"],[0.5555555555555556,\"#d8576b\"],[0.6666666666666666,\"#ed7953\"],[0.7777777777777778,\"#fb9f3a\"],[0.8888888888888888,\"#fdca26\"],[1.0,\"#f0f921\"]]}],\"heatmapgl\":[{\"type\":\"heatmapgl\",\"colorbar\":{\"outlinewidth\":0,\"ticks\":\"\"},\"colorscale\":[[0.0,\"#0d0887\"],[0.1111111111111111,\"#46039f\"],[0.2222222222222222,\"#7201a8\"],[0.3333333333333333,\"#9c179e\"],[0.4444444444444444,\"#bd3786\"],[0.5555555555555556,\"#d8576b\"],[0.6666666666666666,\"#ed7953\"],[0.7777777777777778,\"#fb9f3a\"],[0.8888888888888888,\"#fdca26\"],[1.0,\"#f0f921\"]]}],\"contourcarpet\":[{\"type\":\"contourcarpet\",\"colorbar\":{\"outlinewidth\":0,\"ticks\":\"\"}}],\"contour\":[{\"type\":\"contour\",\"colorbar\":{\"outlinewidth\":0,\"ticks\":\"\"},\"colorscale\":[[0.0,\"#0d0887\"],[0.1111111111111111,\"#46039f\"],[0.2222222222222222,\"#7201a8\"],[0.3333333333333333,\"#9c179e\"],[0.4444444444444444,\"#bd3786\"],[0.5555555555555556,\"#d8576b\"],[0.6666666666666666,\"#ed7953\"],[0.7777777777777778,\"#fb9f3a\"],[0.8888888888888888,\"#fdca26\"],[1.0,\"#f0f921\"]]}],\"surface\":[{\"type\":\"surface\",\"colorbar\":{\"outlinewidth\":0,\"ticks\":\"\"},\"colorscale\":[[0.0,\"#0d0887\"],[0.1111111111111111,\"#46039f\"],[0.2222222222222222,\"#7201a8\"],[0.3333333333333333,\"#9c179e\"],[0.4444444444444444,\"#bd3786\"],[0.5555555555555556,\"#d8576b\"],[0.6666666666666666,\"#ed7953\"],[0.7777777777777778,\"#fb9f3a\"],[0.8888888888888888,\"#fdca26\"],[1.0,\"#f0f921\"]]}],\"mesh3d\":[{\"type\":\"mesh3d\",\"colorbar\":{\"outlinewidth\":0,\"ticks\":\"\"}}],\"scatter\":[{\"fillpattern\":{\"fillmode\":\"overlay\",\"size\":10,\"solidity\":0.2},\"type\":\"scatter\"}],\"parcoords\":[{\"type\":\"parcoords\",\"line\":{\"colorbar\":{\"outlinewidth\":0,\"ticks\":\"\"}}}],\"scatterpolargl\":[{\"type\":\"scatterpolargl\",\"marker\":{\"colorbar\":{\"outlinewidth\":0,\"ticks\":\"\"}}}],\"bar\":[{\"error_x\":{\"color\":\"#2a3f5f\"},\"error_y\":{\"color\":\"#2a3f5f\"},\"marker\":{\"line\":{\"color\":\"#E5ECF6\",\"width\":0.5},\"pattern\":{\"fillmode\":\"overlay\",\"size\":10,\"solidity\":0.2}},\"type\":\"bar\"}],\"scattergeo\":[{\"type\":\"scattergeo\",\"marker\":{\"colorbar\":{\"outlinewidth\":0,\"ticks\":\"\"}}}],\"scatterpolar\":[{\"type\":\"scatterpolar\",\"marker\":{\"colorbar\":{\"outlinewidth\":0,\"ticks\":\"\"}}}],\"histogram\":[{\"marker\":{\"pattern\":{\"fillmode\":\"overlay\",\"size\":10,\"solidity\":0.2}},\"type\":\"histogram\"}],\"scattergl\":[{\"type\":\"scattergl\",\"marker\":{\"colorbar\":{\"outlinewidth\":0,\"ticks\":\"\"}}}],\"scatter3d\":[{\"type\":\"scatter3d\",\"line\":{\"colorbar\":{\"outlinewidth\":0,\"ticks\":\"\"}},\"marker\":{\"colorbar\":{\"outlinewidth\":0,\"ticks\":\"\"}}}],\"scattermapbox\":[{\"type\":\"scattermapbox\",\"marker\":{\"colorbar\":{\"outlinewidth\":0,\"ticks\":\"\"}}}],\"scatterternary\":[{\"type\":\"scatterternary\",\"marker\":{\"colorbar\":{\"outlinewidth\":0,\"ticks\":\"\"}}}],\"scattercarpet\":[{\"type\":\"scattercarpet\",\"marker\":{\"colorbar\":{\"outlinewidth\":0,\"ticks\":\"\"}}}],\"carpet\":[{\"aaxis\":{\"endlinecolor\":\"#2a3f5f\",\"gridcolor\":\"white\",\"linecolor\":\"white\",\"minorgridcolor\":\"white\",\"startlinecolor\":\"#2a3f5f\"},\"baxis\":{\"endlinecolor\":\"#2a3f5f\",\"gridcolor\":\"white\",\"linecolor\":\"white\",\"minorgridcolor\":\"white\",\"startlinecolor\":\"#2a3f5f\"},\"type\":\"carpet\"}],\"table\":[{\"cells\":{\"fill\":{\"color\":\"#EBF0F8\"},\"line\":{\"color\":\"white\"}},\"header\":{\"fill\":{\"color\":\"#C8D4E3\"},\"line\":{\"color\":\"white\"}},\"type\":\"table\"}],\"barpolar\":[{\"marker\":{\"line\":{\"color\":\"#E5ECF6\",\"width\":0.5},\"pattern\":{\"fillmode\":\"overlay\",\"size\":10,\"solidity\":0.2}},\"type\":\"barpolar\"}],\"pie\":[{\"automargin\":true,\"type\":\"pie\"}]},\"layout\":{\"autotypenumbers\":\"strict\",\"colorway\":[\"#636efa\",\"#EF553B\",\"#00cc96\",\"#ab63fa\",\"#FFA15A\",\"#19d3f3\",\"#FF6692\",\"#B6E880\",\"#FF97FF\",\"#FECB52\"],\"font\":{\"color\":\"#2a3f5f\"},\"hovermode\":\"closest\",\"hoverlabel\":{\"align\":\"left\"},\"paper_bgcolor\":\"white\",\"plot_bgcolor\":\"#E5ECF6\",\"polar\":{\"bgcolor\":\"#E5ECF6\",\"angularaxis\":{\"gridcolor\":\"white\",\"linecolor\":\"white\",\"ticks\":\"\"},\"radialaxis\":{\"gridcolor\":\"white\",\"linecolor\":\"white\",\"ticks\":\"\"}},\"ternary\":{\"bgcolor\":\"#E5ECF6\",\"aaxis\":{\"gridcolor\":\"white\",\"linecolor\":\"white\",\"ticks\":\"\"},\"baxis\":{\"gridcolor\":\"white\",\"linecolor\":\"white\",\"ticks\":\"\"},\"caxis\":{\"gridcolor\":\"white\",\"linecolor\":\"white\",\"ticks\":\"\"}},\"coloraxis\":{\"colorbar\":{\"outlinewidth\":0,\"ticks\":\"\"}},\"colorscale\":{\"sequential\":[[0.0,\"#0d0887\"],[0.1111111111111111,\"#46039f\"],[0.2222222222222222,\"#7201a8\"],[0.3333333333333333,\"#9c179e\"],[0.4444444444444444,\"#bd3786\"],[0.5555555555555556,\"#d8576b\"],[0.6666666666666666,\"#ed7953\"],[0.7777777777777778,\"#fb9f3a\"],[0.8888888888888888,\"#fdca26\"],[1.0,\"#f0f921\"]],\"sequentialminus\":[[0.0,\"#0d0887\"],[0.1111111111111111,\"#46039f\"],[0.2222222222222222,\"#7201a8\"],[0.3333333333333333,\"#9c179e\"],[0.4444444444444444,\"#bd3786\"],[0.5555555555555556,\"#d8576b\"],[0.6666666666666666,\"#ed7953\"],[0.7777777777777778,\"#fb9f3a\"],[0.8888888888888888,\"#fdca26\"],[1.0,\"#f0f921\"]],\"diverging\":[[0,\"#8e0152\"],[0.1,\"#c51b7d\"],[0.2,\"#de77ae\"],[0.3,\"#f1b6da\"],[0.4,\"#fde0ef\"],[0.5,\"#f7f7f7\"],[0.6,\"#e6f5d0\"],[0.7,\"#b8e186\"],[0.8,\"#7fbc41\"],[0.9,\"#4d9221\"],[1,\"#276419\"]]},\"xaxis\":{\"gridcolor\":\"white\",\"linecolor\":\"white\",\"ticks\":\"\",\"title\":{\"standoff\":15},\"zerolinecolor\":\"white\",\"automargin\":true,\"zerolinewidth\":2},\"yaxis\":{\"gridcolor\":\"white\",\"linecolor\":\"white\",\"ticks\":\"\",\"title\":{\"standoff\":15},\"zerolinecolor\":\"white\",\"automargin\":true,\"zerolinewidth\":2},\"scene\":{\"xaxis\":{\"backgroundcolor\":\"#E5ECF6\",\"gridcolor\":\"white\",\"linecolor\":\"white\",\"showbackground\":true,\"ticks\":\"\",\"zerolinecolor\":\"white\",\"gridwidth\":2},\"yaxis\":{\"backgroundcolor\":\"#E5ECF6\",\"gridcolor\":\"white\",\"linecolor\":\"white\",\"showbackground\":true,\"ticks\":\"\",\"zerolinecolor\":\"white\",\"gridwidth\":2},\"zaxis\":{\"backgroundcolor\":\"#E5ECF6\",\"gridcolor\":\"white\",\"linecolor\":\"white\",\"showbackground\":true,\"ticks\":\"\",\"zerolinecolor\":\"white\",\"gridwidth\":2}},\"shapedefaults\":{\"line\":{\"color\":\"#2a3f5f\"}},\"annotationdefaults\":{\"arrowcolor\":\"#2a3f5f\",\"arrowhead\":0,\"arrowwidth\":1},\"geo\":{\"bgcolor\":\"white\",\"landcolor\":\"#E5ECF6\",\"subunitcolor\":\"white\",\"showland\":true,\"showlakes\":true,\"lakecolor\":\"white\"},\"title\":{\"x\":0.05},\"mapbox\":{\"style\":\"light\"}}},\"xaxis\":{\"anchor\":\"y\",\"domain\":[0.0,1.0],\"title\":{\"text\":\"minute\"}},\"yaxis\":{\"anchor\":\"x\",\"domain\":[0.0,1.0],\"title\":{\"text\":\"sum of Goals_per_min\"}},\"legend\":{\"title\":{\"text\":\"name\"},\"tracegroupgap\":0},\"title\":{\"text\":\"Tore geschossen mit Mandl\"},\"barmode\":\"overlay\"},                        {\"responsive\": true}                    ).then(function(){\n",
       "                            \n",
       "var gd = document.getElementById('582b318a-a5f8-4890-a0f1-0b27028255b2');\n",
       "var x = new MutationObserver(function (mutations, observer) {{\n",
       "        var display = window.getComputedStyle(gd).display;\n",
       "        if (!display || display === 'none') {{\n",
       "            console.log([gd, 'removed!']);\n",
       "            Plotly.purge(gd);\n",
       "            observer.disconnect();\n",
       "        }}\n",
       "}});\n",
       "\n",
       "// Listen for the removal of the full notebook cells\n",
       "var notebookContainer = gd.closest('#notebook-container');\n",
       "if (notebookContainer) {{\n",
       "    x.observe(notebookContainer, {childList: true});\n",
       "}}\n",
       "\n",
       "// Listen for the clearing of the current output cell\n",
       "var outputEl = gd.closest('.output');\n",
       "if (outputEl) {{\n",
       "    x.observe(outputEl, {childList: true});\n",
       "}}\n",
       "\n",
       "                        })                };                });            </script>        </div>"
      ]
     },
     "metadata": {},
     "output_type": "display_data"
    }
   ],
   "source": [
    "df=query_database(query_table_goals_scored.format(trainer_zeit[0],trainer_zeit[1],vereine[0],vereine[0]),database=\"verbands.db\")\n",
    "fig=px.histogram(df, x=\"minute\",y='Goals_per_min' ,color=\"name\",nbins=6,title=\"Wann Tore geschossen mit Mandl\")\n",
    "fig.update_layout(barmode='overlay')\n",
    "fig.update_traces(xbins=dict( # bins used for histogram\n",
    "        start=0.0,\n",
    "        end=90.0,\n",
    "        size=15\n",
    "    ))\n",
    "fig.show()"
   ]
  },
  {
   "cell_type": "code",
   "execution_count": null,
   "id": "940e7875",
   "metadata": {
    "slideshow": {
     "slide_type": "subslide"
    }
   },
   "outputs": [
    {
     "data": {
      "application/vnd.plotly.v1+json": {
       "config": {
        "plotlyServerURL": "https://plot.ly"
       },
       "data": [
        {
         "alignmentgroup": "True",
         "bingroup": "x",
         "histfunc": "sum",
         "hovertemplate": "name=ASK-BSC Bruck/Leitha<br>minute=%{x}<br>sum of Goals_per_min=%{y}<extra></extra>",
         "legendgroup": "ASK-BSC Bruck/Leitha",
         "marker": {
          "color": "#636efa",
          "pattern": {
           "shape": ""
          }
         },
         "name": "ASK-BSC Bruck/Leitha",
         "nbinsx": 6,
         "offsetgroup": "ASK-BSC Bruck/Leitha",
         "orientation": "v",
         "showlegend": true,
         "type": "histogram",
         "x": [
          7,
          10,
          11,
          21,
          22,
          25,
          31,
          32,
          34,
          38,
          41,
          43,
          47,
          52,
          55,
          56,
          61,
          66,
          67,
          70,
          71,
          74,
          80,
          82,
          83,
          85,
          86,
          87,
          90,
          "45+1",
          "90+3",
          "90+4"
         ],
         "xaxis": "x",
         "xbins": {
          "end": 90,
          "size": 15,
          "start": 0
         },
         "y": [
          1,
          2,
          1,
          1,
          1,
          1,
          1,
          1,
          1,
          2,
          1,
          1,
          1,
          1,
          1,
          1,
          1,
          1,
          1,
          1,
          1,
          3,
          1,
          1,
          1,
          1,
          1,
          1,
          1,
          1,
          1,
          1
         ],
         "yaxis": "y"
        },
        {
         "alignmentgroup": "True",
         "bingroup": "x",
         "histfunc": "sum",
         "hovertemplate": "name=Admira Juniors<br>minute=%{x}<br>sum of Goals_per_min=%{y}<extra></extra>",
         "legendgroup": "Admira Juniors",
         "marker": {
          "color": "#EF553B",
          "pattern": {
           "shape": ""
          }
         },
         "name": "Admira Juniors",
         "nbinsx": 6,
         "offsetgroup": "Admira Juniors",
         "orientation": "v",
         "showlegend": true,
         "type": "histogram",
         "x": [
          8,
          18,
          19,
          20,
          23,
          26,
          30,
          39,
          40,
          42,
          43,
          56,
          65,
          66,
          69,
          70,
          71,
          73,
          76,
          81,
          82,
          83,
          87,
          93,
          "90+1",
          "90+3"
         ],
         "xaxis": "x",
         "xbins": {
          "end": 90,
          "size": 15,
          "start": 0
         },
         "y": [
          2,
          1,
          1,
          1,
          1,
          1,
          1,
          1,
          1,
          1,
          1,
          1,
          1,
          1,
          1,
          1,
          1,
          1,
          1,
          1,
          1,
          1,
          1,
          1,
          1,
          1
         ],
         "yaxis": "y"
        },
        {
         "alignmentgroup": "True",
         "bingroup": "x",
         "histfunc": "sum",
         "hovertemplate": "name=Draßburg<br>minute=%{x}<br>sum of Goals_per_min=%{y}<extra></extra>",
         "legendgroup": "Draßburg",
         "marker": {
          "color": "#00cc96",
          "pattern": {
           "shape": ""
          }
         },
         "name": "Draßburg",
         "nbinsx": 6,
         "offsetgroup": "Draßburg",
         "orientation": "v",
         "showlegend": true,
         "type": "histogram",
         "x": [
          6,
          8,
          22,
          23,
          24,
          27,
          37,
          51,
          64,
          70,
          83,
          87,
          90,
          "90+1"
         ],
         "xaxis": "x",
         "xbins": {
          "end": 90,
          "size": 15,
          "start": 0
         },
         "y": [
          2,
          1,
          1,
          1,
          1,
          1,
          1,
          1,
          1,
          1,
          1,
          1,
          1,
          1
         ],
         "yaxis": "y"
        },
        {
         "alignmentgroup": "True",
         "bingroup": "x",
         "histfunc": "sum",
         "hovertemplate": "name=FC Marchfeld / Mannsdorf-Große.<br>minute=%{x}<br>sum of Goals_per_min=%{y}<extra></extra>",
         "legendgroup": "FC Marchfeld / Mannsdorf-Große.",
         "marker": {
          "color": "#ab63fa",
          "pattern": {
           "shape": ""
          }
         },
         "name": "FC Marchfeld / Mannsdorf-Große.",
         "nbinsx": 6,
         "offsetgroup": "FC Marchfeld / Mannsdorf-Große.",
         "orientation": "v",
         "showlegend": true,
         "type": "histogram",
         "x": [
          13,
          15,
          34,
          40,
          41,
          42,
          43,
          44,
          47,
          56,
          59,
          65,
          68,
          71,
          73,
          75,
          76,
          77,
          78,
          79,
          81,
          83,
          84,
          85,
          86,
          88,
          "45+3"
         ],
         "xaxis": "x",
         "xbins": {
          "end": 90,
          "size": 15,
          "start": 0
         },
         "y": [
          1,
          1,
          1,
          1,
          1,
          2,
          1,
          1,
          1,
          1,
          1,
          2,
          2,
          1,
          1,
          2,
          1,
          1,
          1,
          1,
          1,
          2,
          2,
          1,
          1,
          2,
          1
         ],
         "yaxis": "y"
        },
        {
         "alignmentgroup": "True",
         "bingroup": "x",
         "histfunc": "sum",
         "hovertemplate": "name=FC Mauerwerk<br>minute=%{x}<br>sum of Goals_per_min=%{y}<extra></extra>",
         "legendgroup": "FC Mauerwerk",
         "marker": {
          "color": "#FFA15A",
          "pattern": {
           "shape": ""
          }
         },
         "name": "FC Mauerwerk",
         "nbinsx": 6,
         "offsetgroup": "FC Mauerwerk",
         "orientation": "v",
         "showlegend": true,
         "type": "histogram",
         "x": [
          10,
          12,
          21,
          29,
          32,
          41,
          43,
          48,
          50,
          51,
          52,
          58,
          61,
          63,
          64,
          75,
          78,
          83,
          90,
          "45+1",
          "45+2"
         ],
         "xaxis": "x",
         "xbins": {
          "end": 90,
          "size": 15,
          "start": 0
         },
         "y": [
          2,
          1,
          1,
          1,
          1,
          1,
          1,
          1,
          1,
          1,
          1,
          1,
          2,
          1,
          1,
          1,
          1,
          1,
          1,
          1,
          1
         ],
         "yaxis": "y"
        },
        {
         "alignmentgroup": "True",
         "bingroup": "x",
         "histfunc": "sum",
         "hovertemplate": "name=FCM Traiskirchen<br>minute=%{x}<br>sum of Goals_per_min=%{y}<extra></extra>",
         "legendgroup": "FCM Traiskirchen",
         "marker": {
          "color": "#19d3f3",
          "pattern": {
           "shape": ""
          }
         },
         "name": "FCM Traiskirchen",
         "nbinsx": 6,
         "offsetgroup": "FCM Traiskirchen",
         "orientation": "v",
         "showlegend": true,
         "type": "histogram",
         "x": [
          3,
          9,
          12,
          14,
          19,
          20,
          24,
          26,
          28,
          31,
          32,
          34,
          36,
          40,
          44,
          54,
          57,
          62,
          63,
          64,
          69,
          70,
          75,
          76,
          78,
          81,
          89,
          "90+1",
          "90+3",
          "90+4"
         ],
         "xaxis": "x",
         "xbins": {
          "end": 90,
          "size": 15,
          "start": 0
         },
         "y": [
          1,
          1,
          1,
          2,
          1,
          1,
          1,
          2,
          1,
          1,
          1,
          1,
          1,
          1,
          1,
          1,
          1,
          1,
          1,
          1,
          2,
          1,
          1,
          1,
          1,
          1,
          2,
          2,
          1,
          1
         ],
         "yaxis": "y"
        },
        {
         "alignmentgroup": "True",
         "bingroup": "x",
         "histfunc": "sum",
         "hovertemplate": "name=First Vienna FC 1894<br>minute=%{x}<br>sum of Goals_per_min=%{y}<extra></extra>",
         "legendgroup": "First Vienna FC 1894",
         "marker": {
          "color": "#FF6692",
          "pattern": {
           "shape": ""
          }
         },
         "name": "First Vienna FC 1894",
         "nbinsx": 6,
         "offsetgroup": "First Vienna FC 1894",
         "orientation": "v",
         "showlegend": true,
         "type": "histogram",
         "x": [
          2,
          3,
          17,
          18,
          20,
          23,
          24,
          30,
          33,
          43,
          44,
          45,
          47,
          48,
          50,
          57,
          60,
          61,
          69,
          70,
          74,
          75,
          80,
          81,
          85,
          86,
          87,
          88,
          93,
          "45+2",
          "90+3"
         ],
         "xaxis": "x",
         "xbins": {
          "end": 90,
          "size": 15,
          "start": 0
         },
         "y": [
          2,
          1,
          1,
          1,
          1,
          1,
          2,
          1,
          1,
          1,
          1,
          1,
          1,
          2,
          1,
          1,
          2,
          2,
          1,
          2,
          1,
          1,
          2,
          2,
          1,
          3,
          1,
          1,
          1,
          1,
          1
         ],
         "yaxis": "y"
        },
        {
         "alignmentgroup": "True",
         "bingroup": "x",
         "histfunc": "sum",
         "hovertemplate": "name=SC Neusiedl am See 1919<br>minute=%{x}<br>sum of Goals_per_min=%{y}<extra></extra>",
         "legendgroup": "SC Neusiedl am See 1919",
         "marker": {
          "color": "#B6E880",
          "pattern": {
           "shape": ""
          }
         },
         "name": "SC Neusiedl am See 1919",
         "nbinsx": 6,
         "offsetgroup": "SC Neusiedl am See 1919",
         "orientation": "v",
         "showlegend": true,
         "type": "histogram",
         "x": [
          1,
          3,
          7,
          9,
          17,
          18,
          23,
          29,
          36,
          44,
          45,
          46,
          51,
          57,
          59,
          65,
          67,
          73,
          77,
          80,
          83,
          85,
          89,
          "90+9"
         ],
         "xaxis": "x",
         "xbins": {
          "end": 90,
          "size": 15,
          "start": 0
         },
         "y": [
          1,
          1,
          1,
          1,
          1,
          1,
          1,
          1,
          1,
          1,
          1,
          2,
          1,
          1,
          3,
          1,
          1,
          2,
          1,
          2,
          1,
          1,
          2,
          1
         ],
         "yaxis": "y"
        },
        {
         "alignmentgroup": "True",
         "bingroup": "x",
         "histfunc": "sum",
         "hovertemplate": "name=SC Wiener Neustadt<br>minute=%{x}<br>sum of Goals_per_min=%{y}<extra></extra>",
         "legendgroup": "SC Wiener Neustadt",
         "marker": {
          "color": "#FF97FF",
          "pattern": {
           "shape": ""
          }
         },
         "name": "SC Wiener Neustadt",
         "nbinsx": 6,
         "offsetgroup": "SC Wiener Neustadt",
         "orientation": "v",
         "showlegend": true,
         "type": "histogram",
         "x": [
          2,
          14,
          21,
          26,
          31,
          32,
          39,
          45,
          55,
          63,
          73,
          74,
          83,
          90,
          92,
          "90+3",
          "90+5"
         ],
         "xaxis": "x",
         "xbins": {
          "end": 90,
          "size": 15,
          "start": 0
         },
         "y": [
          1,
          1,
          2,
          1,
          1,
          2,
          1,
          2,
          1,
          1,
          1,
          1,
          1,
          1,
          1,
          1,
          1
         ],
         "yaxis": "y"
        },
        {
         "alignmentgroup": "True",
         "bingroup": "x",
         "histfunc": "sum",
         "hovertemplate": "name=SV Leobendorf<br>minute=%{x}<br>sum of Goals_per_min=%{y}<extra></extra>",
         "legendgroup": "SV Leobendorf",
         "marker": {
          "color": "#FECB52",
          "pattern": {
           "shape": ""
          }
         },
         "name": "SV Leobendorf",
         "nbinsx": 6,
         "offsetgroup": "SV Leobendorf",
         "orientation": "v",
         "showlegend": true,
         "type": "histogram",
         "x": [
          3,
          7,
          11,
          14,
          17,
          22,
          24,
          28,
          33,
          38,
          39,
          40,
          42,
          48,
          52,
          53,
          55,
          59,
          61,
          64,
          66,
          67,
          68,
          69,
          71,
          73,
          77,
          78,
          86,
          90,
          "90+1",
          "90+2",
          "90+5"
         ],
         "xaxis": "x",
         "xbins": {
          "end": 90,
          "size": 15,
          "start": 0
         },
         "y": [
          1,
          1,
          1,
          1,
          2,
          1,
          1,
          1,
          1,
          1,
          1,
          3,
          1,
          1,
          1,
          2,
          1,
          1,
          1,
          1,
          1,
          1,
          1,
          1,
          1,
          1,
          1,
          1,
          1,
          1,
          2,
          1,
          1
         ],
         "yaxis": "y"
        },
        {
         "alignmentgroup": "True",
         "bingroup": "x",
         "histfunc": "sum",
         "hovertemplate": "name=Stripfing<br>minute=%{x}<br>sum of Goals_per_min=%{y}<extra></extra>",
         "legendgroup": "Stripfing",
         "marker": {
          "color": "#636efa",
          "pattern": {
           "shape": ""
          }
         },
         "name": "Stripfing",
         "nbinsx": 6,
         "offsetgroup": "Stripfing",
         "orientation": "v",
         "showlegend": true,
         "type": "histogram",
         "x": [
          2,
          3,
          6,
          8,
          9,
          19,
          25,
          26,
          33,
          38,
          39,
          41,
          47,
          51,
          52,
          54,
          56,
          57,
          63,
          66,
          68,
          70,
          71,
          73,
          74,
          76,
          85,
          86,
          87,
          89,
          90,
          94,
          "90+1",
          "90+3",
          "90+4"
         ],
         "xaxis": "x",
         "xbins": {
          "end": 90,
          "size": 15,
          "start": 0
         },
         "y": [
          2,
          1,
          1,
          1,
          1,
          2,
          1,
          1,
          1,
          1,
          2,
          2,
          1,
          2,
          3,
          1,
          1,
          1,
          1,
          2,
          2,
          1,
          1,
          1,
          1,
          1,
          1,
          1,
          1,
          1,
          4,
          1,
          1,
          1,
          1
         ],
         "yaxis": "y"
        },
        {
         "alignmentgroup": "True",
         "bingroup": "x",
         "histfunc": "sum",
         "hovertemplate": "name=TWL Elektra<br>minute=%{x}<br>sum of Goals_per_min=%{y}<extra></extra>",
         "legendgroup": "TWL Elektra",
         "marker": {
          "color": "#EF553B",
          "pattern": {
           "shape": ""
          }
         },
         "name": "TWL Elektra",
         "nbinsx": 6,
         "offsetgroup": "TWL Elektra",
         "orientation": "v",
         "showlegend": true,
         "type": "histogram",
         "x": [
          1,
          9,
          15,
          18,
          19,
          21,
          22,
          26,
          27,
          32,
          40,
          45,
          52,
          53,
          59,
          62,
          64,
          68,
          76,
          77,
          85,
          86,
          88,
          89,
          "90+1",
          "90+3"
         ],
         "xaxis": "x",
         "xbins": {
          "end": 90,
          "size": 15,
          "start": 0
         },
         "y": [
          1,
          2,
          1,
          2,
          1,
          1,
          1,
          1,
          1,
          1,
          1,
          1,
          1,
          1,
          2,
          1,
          1,
          1,
          1,
          2,
          1,
          1,
          2,
          1,
          1,
          1
         ],
         "yaxis": "y"
        },
        {
         "alignmentgroup": "True",
         "bingroup": "x",
         "histfunc": "sum",
         "hovertemplate": "name=Wiener Sport-Club<br>minute=%{x}<br>sum of Goals_per_min=%{y}<extra></extra>",
         "legendgroup": "Wiener Sport-Club",
         "marker": {
          "color": "#00cc96",
          "pattern": {
           "shape": ""
          }
         },
         "name": "Wiener Sport-Club",
         "nbinsx": 6,
         "offsetgroup": "Wiener Sport-Club",
         "orientation": "v",
         "showlegend": true,
         "type": "histogram",
         "x": [
          6,
          7,
          13,
          15,
          18,
          20,
          23,
          30,
          32,
          38,
          45,
          46,
          47,
          50,
          52,
          53,
          56,
          57,
          58,
          61,
          62,
          63,
          66,
          68,
          70,
          72,
          75,
          81,
          87,
          "90+1",
          "90+3",
          "90+4"
         ],
         "xaxis": "x",
         "xbins": {
          "end": 90,
          "size": 15,
          "start": 0
         },
         "y": [
          1,
          1,
          1,
          2,
          2,
          1,
          1,
          4,
          1,
          1,
          1,
          1,
          1,
          3,
          1,
          1,
          1,
          1,
          1,
          1,
          1,
          1,
          1,
          1,
          1,
          2,
          1,
          1,
          1,
          2,
          1,
          1
         ],
         "yaxis": "y"
        },
        {
         "alignmentgroup": "True",
         "bingroup": "x",
         "histfunc": "sum",
         "hovertemplate": "name=Wiener Viktoria<br>minute=%{x}<br>sum of Goals_per_min=%{y}<extra></extra>",
         "legendgroup": "Wiener Viktoria",
         "marker": {
          "color": "#ab63fa",
          "pattern": {
           "shape": ""
          }
         },
         "name": "Wiener Viktoria",
         "nbinsx": 6,
         "offsetgroup": "Wiener Viktoria",
         "orientation": "v",
         "showlegend": true,
         "type": "histogram",
         "x": [
          4,
          6,
          8,
          11,
          14,
          26,
          28,
          38,
          43,
          48,
          55,
          57,
          58,
          60,
          61,
          62,
          63,
          66,
          69,
          70,
          71,
          75,
          77,
          83,
          84,
          86,
          87,
          "90+1",
          "90+4"
         ],
         "xaxis": "x",
         "xbins": {
          "end": 90,
          "size": 15,
          "start": 0
         },
         "y": [
          1,
          1,
          1,
          1,
          1,
          1,
          1,
          2,
          1,
          1,
          1,
          1,
          1,
          1,
          1,
          1,
          1,
          1,
          1,
          1,
          1,
          1,
          1,
          1,
          1,
          1,
          1,
          1,
          1
         ],
         "yaxis": "y"
        }
       ],
       "layout": {
        "barmode": "overlay",
        "legend": {
         "title": {
          "text": "name"
         },
         "tracegroupgap": 0
        },
        "template": {
         "data": {
          "bar": [
           {
            "error_x": {
             "color": "#2a3f5f"
            },
            "error_y": {
             "color": "#2a3f5f"
            },
            "marker": {
             "line": {
              "color": "#E5ECF6",
              "width": 0.5
             },
             "pattern": {
              "fillmode": "overlay",
              "size": 10,
              "solidity": 0.2
             }
            },
            "type": "bar"
           }
          ],
          "barpolar": [
           {
            "marker": {
             "line": {
              "color": "#E5ECF6",
              "width": 0.5
             },
             "pattern": {
              "fillmode": "overlay",
              "size": 10,
              "solidity": 0.2
             }
            },
            "type": "barpolar"
           }
          ],
          "carpet": [
           {
            "aaxis": {
             "endlinecolor": "#2a3f5f",
             "gridcolor": "white",
             "linecolor": "white",
             "minorgridcolor": "white",
             "startlinecolor": "#2a3f5f"
            },
            "baxis": {
             "endlinecolor": "#2a3f5f",
             "gridcolor": "white",
             "linecolor": "white",
             "minorgridcolor": "white",
             "startlinecolor": "#2a3f5f"
            },
            "type": "carpet"
           }
          ],
          "choropleth": [
           {
            "colorbar": {
             "outlinewidth": 0,
             "ticks": ""
            },
            "type": "choropleth"
           }
          ],
          "contour": [
           {
            "colorbar": {
             "outlinewidth": 0,
             "ticks": ""
            },
            "colorscale": [
             [
              0,
              "#0d0887"
             ],
             [
              0.1111111111111111,
              "#46039f"
             ],
             [
              0.2222222222222222,
              "#7201a8"
             ],
             [
              0.3333333333333333,
              "#9c179e"
             ],
             [
              0.4444444444444444,
              "#bd3786"
             ],
             [
              0.5555555555555556,
              "#d8576b"
             ],
             [
              0.6666666666666666,
              "#ed7953"
             ],
             [
              0.7777777777777778,
              "#fb9f3a"
             ],
             [
              0.8888888888888888,
              "#fdca26"
             ],
             [
              1,
              "#f0f921"
             ]
            ],
            "type": "contour"
           }
          ],
          "contourcarpet": [
           {
            "colorbar": {
             "outlinewidth": 0,
             "ticks": ""
            },
            "type": "contourcarpet"
           }
          ],
          "heatmap": [
           {
            "colorbar": {
             "outlinewidth": 0,
             "ticks": ""
            },
            "colorscale": [
             [
              0,
              "#0d0887"
             ],
             [
              0.1111111111111111,
              "#46039f"
             ],
             [
              0.2222222222222222,
              "#7201a8"
             ],
             [
              0.3333333333333333,
              "#9c179e"
             ],
             [
              0.4444444444444444,
              "#bd3786"
             ],
             [
              0.5555555555555556,
              "#d8576b"
             ],
             [
              0.6666666666666666,
              "#ed7953"
             ],
             [
              0.7777777777777778,
              "#fb9f3a"
             ],
             [
              0.8888888888888888,
              "#fdca26"
             ],
             [
              1,
              "#f0f921"
             ]
            ],
            "type": "heatmap"
           }
          ],
          "heatmapgl": [
           {
            "colorbar": {
             "outlinewidth": 0,
             "ticks": ""
            },
            "colorscale": [
             [
              0,
              "#0d0887"
             ],
             [
              0.1111111111111111,
              "#46039f"
             ],
             [
              0.2222222222222222,
              "#7201a8"
             ],
             [
              0.3333333333333333,
              "#9c179e"
             ],
             [
              0.4444444444444444,
              "#bd3786"
             ],
             [
              0.5555555555555556,
              "#d8576b"
             ],
             [
              0.6666666666666666,
              "#ed7953"
             ],
             [
              0.7777777777777778,
              "#fb9f3a"
             ],
             [
              0.8888888888888888,
              "#fdca26"
             ],
             [
              1,
              "#f0f921"
             ]
            ],
            "type": "heatmapgl"
           }
          ],
          "histogram": [
           {
            "marker": {
             "pattern": {
              "fillmode": "overlay",
              "size": 10,
              "solidity": 0.2
             }
            },
            "type": "histogram"
           }
          ],
          "histogram2d": [
           {
            "colorbar": {
             "outlinewidth": 0,
             "ticks": ""
            },
            "colorscale": [
             [
              0,
              "#0d0887"
             ],
             [
              0.1111111111111111,
              "#46039f"
             ],
             [
              0.2222222222222222,
              "#7201a8"
             ],
             [
              0.3333333333333333,
              "#9c179e"
             ],
             [
              0.4444444444444444,
              "#bd3786"
             ],
             [
              0.5555555555555556,
              "#d8576b"
             ],
             [
              0.6666666666666666,
              "#ed7953"
             ],
             [
              0.7777777777777778,
              "#fb9f3a"
             ],
             [
              0.8888888888888888,
              "#fdca26"
             ],
             [
              1,
              "#f0f921"
             ]
            ],
            "type": "histogram2d"
           }
          ],
          "histogram2dcontour": [
           {
            "colorbar": {
             "outlinewidth": 0,
             "ticks": ""
            },
            "colorscale": [
             [
              0,
              "#0d0887"
             ],
             [
              0.1111111111111111,
              "#46039f"
             ],
             [
              0.2222222222222222,
              "#7201a8"
             ],
             [
              0.3333333333333333,
              "#9c179e"
             ],
             [
              0.4444444444444444,
              "#bd3786"
             ],
             [
              0.5555555555555556,
              "#d8576b"
             ],
             [
              0.6666666666666666,
              "#ed7953"
             ],
             [
              0.7777777777777778,
              "#fb9f3a"
             ],
             [
              0.8888888888888888,
              "#fdca26"
             ],
             [
              1,
              "#f0f921"
             ]
            ],
            "type": "histogram2dcontour"
           }
          ],
          "mesh3d": [
           {
            "colorbar": {
             "outlinewidth": 0,
             "ticks": ""
            },
            "type": "mesh3d"
           }
          ],
          "parcoords": [
           {
            "line": {
             "colorbar": {
              "outlinewidth": 0,
              "ticks": ""
             }
            },
            "type": "parcoords"
           }
          ],
          "pie": [
           {
            "automargin": true,
            "type": "pie"
           }
          ],
          "scatter": [
           {
            "fillpattern": {
             "fillmode": "overlay",
             "size": 10,
             "solidity": 0.2
            },
            "type": "scatter"
           }
          ],
          "scatter3d": [
           {
            "line": {
             "colorbar": {
              "outlinewidth": 0,
              "ticks": ""
             }
            },
            "marker": {
             "colorbar": {
              "outlinewidth": 0,
              "ticks": ""
             }
            },
            "type": "scatter3d"
           }
          ],
          "scattercarpet": [
           {
            "marker": {
             "colorbar": {
              "outlinewidth": 0,
              "ticks": ""
             }
            },
            "type": "scattercarpet"
           }
          ],
          "scattergeo": [
           {
            "marker": {
             "colorbar": {
              "outlinewidth": 0,
              "ticks": ""
             }
            },
            "type": "scattergeo"
           }
          ],
          "scattergl": [
           {
            "marker": {
             "colorbar": {
              "outlinewidth": 0,
              "ticks": ""
             }
            },
            "type": "scattergl"
           }
          ],
          "scattermapbox": [
           {
            "marker": {
             "colorbar": {
              "outlinewidth": 0,
              "ticks": ""
             }
            },
            "type": "scattermapbox"
           }
          ],
          "scatterpolar": [
           {
            "marker": {
             "colorbar": {
              "outlinewidth": 0,
              "ticks": ""
             }
            },
            "type": "scatterpolar"
           }
          ],
          "scatterpolargl": [
           {
            "marker": {
             "colorbar": {
              "outlinewidth": 0,
              "ticks": ""
             }
            },
            "type": "scatterpolargl"
           }
          ],
          "scatterternary": [
           {
            "marker": {
             "colorbar": {
              "outlinewidth": 0,
              "ticks": ""
             }
            },
            "type": "scatterternary"
           }
          ],
          "surface": [
           {
            "colorbar": {
             "outlinewidth": 0,
             "ticks": ""
            },
            "colorscale": [
             [
              0,
              "#0d0887"
             ],
             [
              0.1111111111111111,
              "#46039f"
             ],
             [
              0.2222222222222222,
              "#7201a8"
             ],
             [
              0.3333333333333333,
              "#9c179e"
             ],
             [
              0.4444444444444444,
              "#bd3786"
             ],
             [
              0.5555555555555556,
              "#d8576b"
             ],
             [
              0.6666666666666666,
              "#ed7953"
             ],
             [
              0.7777777777777778,
              "#fb9f3a"
             ],
             [
              0.8888888888888888,
              "#fdca26"
             ],
             [
              1,
              "#f0f921"
             ]
            ],
            "type": "surface"
           }
          ],
          "table": [
           {
            "cells": {
             "fill": {
              "color": "#EBF0F8"
             },
             "line": {
              "color": "white"
             }
            },
            "header": {
             "fill": {
              "color": "#C8D4E3"
             },
             "line": {
              "color": "white"
             }
            },
            "type": "table"
           }
          ]
         },
         "layout": {
          "annotationdefaults": {
           "arrowcolor": "#2a3f5f",
           "arrowhead": 0,
           "arrowwidth": 1
          },
          "autotypenumbers": "strict",
          "coloraxis": {
           "colorbar": {
            "outlinewidth": 0,
            "ticks": ""
           }
          },
          "colorscale": {
           "diverging": [
            [
             0,
             "#8e0152"
            ],
            [
             0.1,
             "#c51b7d"
            ],
            [
             0.2,
             "#de77ae"
            ],
            [
             0.3,
             "#f1b6da"
            ],
            [
             0.4,
             "#fde0ef"
            ],
            [
             0.5,
             "#f7f7f7"
            ],
            [
             0.6,
             "#e6f5d0"
            ],
            [
             0.7,
             "#b8e186"
            ],
            [
             0.8,
             "#7fbc41"
            ],
            [
             0.9,
             "#4d9221"
            ],
            [
             1,
             "#276419"
            ]
           ],
           "sequential": [
            [
             0,
             "#0d0887"
            ],
            [
             0.1111111111111111,
             "#46039f"
            ],
            [
             0.2222222222222222,
             "#7201a8"
            ],
            [
             0.3333333333333333,
             "#9c179e"
            ],
            [
             0.4444444444444444,
             "#bd3786"
            ],
            [
             0.5555555555555556,
             "#d8576b"
            ],
            [
             0.6666666666666666,
             "#ed7953"
            ],
            [
             0.7777777777777778,
             "#fb9f3a"
            ],
            [
             0.8888888888888888,
             "#fdca26"
            ],
            [
             1,
             "#f0f921"
            ]
           ],
           "sequentialminus": [
            [
             0,
             "#0d0887"
            ],
            [
             0.1111111111111111,
             "#46039f"
            ],
            [
             0.2222222222222222,
             "#7201a8"
            ],
            [
             0.3333333333333333,
             "#9c179e"
            ],
            [
             0.4444444444444444,
             "#bd3786"
            ],
            [
             0.5555555555555556,
             "#d8576b"
            ],
            [
             0.6666666666666666,
             "#ed7953"
            ],
            [
             0.7777777777777778,
             "#fb9f3a"
            ],
            [
             0.8888888888888888,
             "#fdca26"
            ],
            [
             1,
             "#f0f921"
            ]
           ]
          },
          "colorway": [
           "#636efa",
           "#EF553B",
           "#00cc96",
           "#ab63fa",
           "#FFA15A",
           "#19d3f3",
           "#FF6692",
           "#B6E880",
           "#FF97FF",
           "#FECB52"
          ],
          "font": {
           "color": "#2a3f5f"
          },
          "geo": {
           "bgcolor": "white",
           "lakecolor": "white",
           "landcolor": "#E5ECF6",
           "showlakes": true,
           "showland": true,
           "subunitcolor": "white"
          },
          "hoverlabel": {
           "align": "left"
          },
          "hovermode": "closest",
          "mapbox": {
           "style": "light"
          },
          "paper_bgcolor": "white",
          "plot_bgcolor": "#E5ECF6",
          "polar": {
           "angularaxis": {
            "gridcolor": "white",
            "linecolor": "white",
            "ticks": ""
           },
           "bgcolor": "#E5ECF6",
           "radialaxis": {
            "gridcolor": "white",
            "linecolor": "white",
            "ticks": ""
           }
          },
          "scene": {
           "xaxis": {
            "backgroundcolor": "#E5ECF6",
            "gridcolor": "white",
            "gridwidth": 2,
            "linecolor": "white",
            "showbackground": true,
            "ticks": "",
            "zerolinecolor": "white"
           },
           "yaxis": {
            "backgroundcolor": "#E5ECF6",
            "gridcolor": "white",
            "gridwidth": 2,
            "linecolor": "white",
            "showbackground": true,
            "ticks": "",
            "zerolinecolor": "white"
           },
           "zaxis": {
            "backgroundcolor": "#E5ECF6",
            "gridcolor": "white",
            "gridwidth": 2,
            "linecolor": "white",
            "showbackground": true,
            "ticks": "",
            "zerolinecolor": "white"
           }
          },
          "shapedefaults": {
           "line": {
            "color": "#2a3f5f"
           }
          },
          "ternary": {
           "aaxis": {
            "gridcolor": "white",
            "linecolor": "white",
            "ticks": ""
           },
           "baxis": {
            "gridcolor": "white",
            "linecolor": "white",
            "ticks": ""
           },
           "bgcolor": "#E5ECF6",
           "caxis": {
            "gridcolor": "white",
            "linecolor": "white",
            "ticks": ""
           }
          },
          "title": {
           "x": 0.05
          },
          "xaxis": {
           "automargin": true,
           "gridcolor": "white",
           "linecolor": "white",
           "ticks": "",
           "title": {
            "standoff": 15
           },
           "zerolinecolor": "white",
           "zerolinewidth": 2
          },
          "yaxis": {
           "automargin": true,
           "gridcolor": "white",
           "linecolor": "white",
           "ticks": "",
           "title": {
            "standoff": 15
           },
           "zerolinecolor": "white",
           "zerolinewidth": 2
          }
         }
        },
        "title": {
         "text": "Tore geschossen vor Mandl"
        },
        "xaxis": {
         "anchor": "y",
         "domain": [
          0,
          1
         ],
         "title": {
          "text": "minute"
         }
        },
        "yaxis": {
         "anchor": "x",
         "domain": [
          0,
          1
         ],
         "title": {
          "text": "sum of Goals_per_min"
         }
        }
       }
      },
      "text/html": [
       "<div>                            <div id=\"ffeeb212-ee3c-41b4-8f1a-c722337dc170\" class=\"plotly-graph-div\" style=\"height:525px; width:100%;\"></div>            <script type=\"text/javascript\">                require([\"plotly\"], function(Plotly) {                    window.PLOTLYENV=window.PLOTLYENV || {};                                    if (document.getElementById(\"ffeeb212-ee3c-41b4-8f1a-c722337dc170\")) {                    Plotly.newPlot(                        \"ffeeb212-ee3c-41b4-8f1a-c722337dc170\",                        [{\"alignmentgroup\":\"True\",\"bingroup\":\"x\",\"histfunc\":\"sum\",\"hovertemplate\":\"name=ASK-BSC Bruck/Leitha<br>minute=%{x}<br>sum of Goals_per_min=%{y}<extra></extra>\",\"legendgroup\":\"ASK-BSC Bruck/Leitha\",\"marker\":{\"color\":\"#636efa\",\"pattern\":{\"shape\":\"\"}},\"name\":\"ASK-BSC Bruck/Leitha\",\"nbinsx\":6,\"offsetgroup\":\"ASK-BSC Bruck/Leitha\",\"orientation\":\"v\",\"showlegend\":true,\"x\":[7,10,11,21,22,25,31,32,34,38,41,43,47,52,55,56,61,66,67,70,71,74,80,82,83,85,86,87,90,\"45+1\",\"90+3\",\"90+4\"],\"xaxis\":\"x\",\"y\":[1,2,1,1,1,1,1,1,1,2,1,1,1,1,1,1,1,1,1,1,1,3,1,1,1,1,1,1,1,1,1,1],\"yaxis\":\"y\",\"type\":\"histogram\",\"xbins\":{\"end\":90.0,\"size\":15,\"start\":0.0}},{\"alignmentgroup\":\"True\",\"bingroup\":\"x\",\"histfunc\":\"sum\",\"hovertemplate\":\"name=Admira Juniors<br>minute=%{x}<br>sum of Goals_per_min=%{y}<extra></extra>\",\"legendgroup\":\"Admira Juniors\",\"marker\":{\"color\":\"#EF553B\",\"pattern\":{\"shape\":\"\"}},\"name\":\"Admira Juniors\",\"nbinsx\":6,\"offsetgroup\":\"Admira Juniors\",\"orientation\":\"v\",\"showlegend\":true,\"x\":[8,18,19,20,23,26,30,39,40,42,43,56,65,66,69,70,71,73,76,81,82,83,87,93,\"90+1\",\"90+3\"],\"xaxis\":\"x\",\"y\":[2,1,1,1,1,1,1,1,1,1,1,1,1,1,1,1,1,1,1,1,1,1,1,1,1,1],\"yaxis\":\"y\",\"type\":\"histogram\",\"xbins\":{\"end\":90.0,\"size\":15,\"start\":0.0}},{\"alignmentgroup\":\"True\",\"bingroup\":\"x\",\"histfunc\":\"sum\",\"hovertemplate\":\"name=Dra\\u00dfburg<br>minute=%{x}<br>sum of Goals_per_min=%{y}<extra></extra>\",\"legendgroup\":\"Dra\\u00dfburg\",\"marker\":{\"color\":\"#00cc96\",\"pattern\":{\"shape\":\"\"}},\"name\":\"Dra\\u00dfburg\",\"nbinsx\":6,\"offsetgroup\":\"Dra\\u00dfburg\",\"orientation\":\"v\",\"showlegend\":true,\"x\":[6,8,22,23,24,27,37,51,64,70,83,87,90,\"90+1\"],\"xaxis\":\"x\",\"y\":[2,1,1,1,1,1,1,1,1,1,1,1,1,1],\"yaxis\":\"y\",\"type\":\"histogram\",\"xbins\":{\"end\":90.0,\"size\":15,\"start\":0.0}},{\"alignmentgroup\":\"True\",\"bingroup\":\"x\",\"histfunc\":\"sum\",\"hovertemplate\":\"name=FC Marchfeld / Mannsdorf-Gro\\u00dfe.<br>minute=%{x}<br>sum of Goals_per_min=%{y}<extra></extra>\",\"legendgroup\":\"FC Marchfeld / Mannsdorf-Gro\\u00dfe.\",\"marker\":{\"color\":\"#ab63fa\",\"pattern\":{\"shape\":\"\"}},\"name\":\"FC Marchfeld / Mannsdorf-Gro\\u00dfe.\",\"nbinsx\":6,\"offsetgroup\":\"FC Marchfeld / Mannsdorf-Gro\\u00dfe.\",\"orientation\":\"v\",\"showlegend\":true,\"x\":[13,15,34,40,41,42,43,44,47,56,59,65,68,71,73,75,76,77,78,79,81,83,84,85,86,88,\"45+3\"],\"xaxis\":\"x\",\"y\":[1,1,1,1,1,2,1,1,1,1,1,2,2,1,1,2,1,1,1,1,1,2,2,1,1,2,1],\"yaxis\":\"y\",\"type\":\"histogram\",\"xbins\":{\"end\":90.0,\"size\":15,\"start\":0.0}},{\"alignmentgroup\":\"True\",\"bingroup\":\"x\",\"histfunc\":\"sum\",\"hovertemplate\":\"name=FC Mauerwerk<br>minute=%{x}<br>sum of Goals_per_min=%{y}<extra></extra>\",\"legendgroup\":\"FC Mauerwerk\",\"marker\":{\"color\":\"#FFA15A\",\"pattern\":{\"shape\":\"\"}},\"name\":\"FC Mauerwerk\",\"nbinsx\":6,\"offsetgroup\":\"FC Mauerwerk\",\"orientation\":\"v\",\"showlegend\":true,\"x\":[10,12,21,29,32,41,43,48,50,51,52,58,61,63,64,75,78,83,90,\"45+1\",\"45+2\"],\"xaxis\":\"x\",\"y\":[2,1,1,1,1,1,1,1,1,1,1,1,2,1,1,1,1,1,1,1,1],\"yaxis\":\"y\",\"type\":\"histogram\",\"xbins\":{\"end\":90.0,\"size\":15,\"start\":0.0}},{\"alignmentgroup\":\"True\",\"bingroup\":\"x\",\"histfunc\":\"sum\",\"hovertemplate\":\"name=FCM Traiskirchen<br>minute=%{x}<br>sum of Goals_per_min=%{y}<extra></extra>\",\"legendgroup\":\"FCM Traiskirchen\",\"marker\":{\"color\":\"#19d3f3\",\"pattern\":{\"shape\":\"\"}},\"name\":\"FCM Traiskirchen\",\"nbinsx\":6,\"offsetgroup\":\"FCM Traiskirchen\",\"orientation\":\"v\",\"showlegend\":true,\"x\":[3,9,12,14,19,20,24,26,28,31,32,34,36,40,44,54,57,62,63,64,69,70,75,76,78,81,89,\"90+1\",\"90+3\",\"90+4\"],\"xaxis\":\"x\",\"y\":[1,1,1,2,1,1,1,2,1,1,1,1,1,1,1,1,1,1,1,1,2,1,1,1,1,1,2,2,1,1],\"yaxis\":\"y\",\"type\":\"histogram\",\"xbins\":{\"end\":90.0,\"size\":15,\"start\":0.0}},{\"alignmentgroup\":\"True\",\"bingroup\":\"x\",\"histfunc\":\"sum\",\"hovertemplate\":\"name=First Vienna FC 1894<br>minute=%{x}<br>sum of Goals_per_min=%{y}<extra></extra>\",\"legendgroup\":\"First Vienna FC 1894\",\"marker\":{\"color\":\"#FF6692\",\"pattern\":{\"shape\":\"\"}},\"name\":\"First Vienna FC 1894\",\"nbinsx\":6,\"offsetgroup\":\"First Vienna FC 1894\",\"orientation\":\"v\",\"showlegend\":true,\"x\":[2,3,17,18,20,23,24,30,33,43,44,45,47,48,50,57,60,61,69,70,74,75,80,81,85,86,87,88,93,\"45+2\",\"90+3\"],\"xaxis\":\"x\",\"y\":[2,1,1,1,1,1,2,1,1,1,1,1,1,2,1,1,2,2,1,2,1,1,2,2,1,3,1,1,1,1,1],\"yaxis\":\"y\",\"type\":\"histogram\",\"xbins\":{\"end\":90.0,\"size\":15,\"start\":0.0}},{\"alignmentgroup\":\"True\",\"bingroup\":\"x\",\"histfunc\":\"sum\",\"hovertemplate\":\"name=SC Neusiedl am See 1919<br>minute=%{x}<br>sum of Goals_per_min=%{y}<extra></extra>\",\"legendgroup\":\"SC Neusiedl am See 1919\",\"marker\":{\"color\":\"#B6E880\",\"pattern\":{\"shape\":\"\"}},\"name\":\"SC Neusiedl am See 1919\",\"nbinsx\":6,\"offsetgroup\":\"SC Neusiedl am See 1919\",\"orientation\":\"v\",\"showlegend\":true,\"x\":[1,3,7,9,17,18,23,29,36,44,45,46,51,57,59,65,67,73,77,80,83,85,89,\"90+9\"],\"xaxis\":\"x\",\"y\":[1,1,1,1,1,1,1,1,1,1,1,2,1,1,3,1,1,2,1,2,1,1,2,1],\"yaxis\":\"y\",\"type\":\"histogram\",\"xbins\":{\"end\":90.0,\"size\":15,\"start\":0.0}},{\"alignmentgroup\":\"True\",\"bingroup\":\"x\",\"histfunc\":\"sum\",\"hovertemplate\":\"name=SC Wiener Neustadt<br>minute=%{x}<br>sum of Goals_per_min=%{y}<extra></extra>\",\"legendgroup\":\"SC Wiener Neustadt\",\"marker\":{\"color\":\"#FF97FF\",\"pattern\":{\"shape\":\"\"}},\"name\":\"SC Wiener Neustadt\",\"nbinsx\":6,\"offsetgroup\":\"SC Wiener Neustadt\",\"orientation\":\"v\",\"showlegend\":true,\"x\":[2,14,21,26,31,32,39,45,55,63,73,74,83,90,92,\"90+3\",\"90+5\"],\"xaxis\":\"x\",\"y\":[1,1,2,1,1,2,1,2,1,1,1,1,1,1,1,1,1],\"yaxis\":\"y\",\"type\":\"histogram\",\"xbins\":{\"end\":90.0,\"size\":15,\"start\":0.0}},{\"alignmentgroup\":\"True\",\"bingroup\":\"x\",\"histfunc\":\"sum\",\"hovertemplate\":\"name=SV Leobendorf<br>minute=%{x}<br>sum of Goals_per_min=%{y}<extra></extra>\",\"legendgroup\":\"SV Leobendorf\",\"marker\":{\"color\":\"#FECB52\",\"pattern\":{\"shape\":\"\"}},\"name\":\"SV Leobendorf\",\"nbinsx\":6,\"offsetgroup\":\"SV Leobendorf\",\"orientation\":\"v\",\"showlegend\":true,\"x\":[3,7,11,14,17,22,24,28,33,38,39,40,42,48,52,53,55,59,61,64,66,67,68,69,71,73,77,78,86,90,\"90+1\",\"90+2\",\"90+5\"],\"xaxis\":\"x\",\"y\":[1,1,1,1,2,1,1,1,1,1,1,3,1,1,1,2,1,1,1,1,1,1,1,1,1,1,1,1,1,1,2,1,1],\"yaxis\":\"y\",\"type\":\"histogram\",\"xbins\":{\"end\":90.0,\"size\":15,\"start\":0.0}},{\"alignmentgroup\":\"True\",\"bingroup\":\"x\",\"histfunc\":\"sum\",\"hovertemplate\":\"name=Stripfing<br>minute=%{x}<br>sum of Goals_per_min=%{y}<extra></extra>\",\"legendgroup\":\"Stripfing\",\"marker\":{\"color\":\"#636efa\",\"pattern\":{\"shape\":\"\"}},\"name\":\"Stripfing\",\"nbinsx\":6,\"offsetgroup\":\"Stripfing\",\"orientation\":\"v\",\"showlegend\":true,\"x\":[2,3,6,8,9,19,25,26,33,38,39,41,47,51,52,54,56,57,63,66,68,70,71,73,74,76,85,86,87,89,90,94,\"90+1\",\"90+3\",\"90+4\"],\"xaxis\":\"x\",\"y\":[2,1,1,1,1,2,1,1,1,1,2,2,1,2,3,1,1,1,1,2,2,1,1,1,1,1,1,1,1,1,4,1,1,1,1],\"yaxis\":\"y\",\"type\":\"histogram\",\"xbins\":{\"end\":90.0,\"size\":15,\"start\":0.0}},{\"alignmentgroup\":\"True\",\"bingroup\":\"x\",\"histfunc\":\"sum\",\"hovertemplate\":\"name=TWL Elektra<br>minute=%{x}<br>sum of Goals_per_min=%{y}<extra></extra>\",\"legendgroup\":\"TWL Elektra\",\"marker\":{\"color\":\"#EF553B\",\"pattern\":{\"shape\":\"\"}},\"name\":\"TWL Elektra\",\"nbinsx\":6,\"offsetgroup\":\"TWL Elektra\",\"orientation\":\"v\",\"showlegend\":true,\"x\":[1,9,15,18,19,21,22,26,27,32,40,45,52,53,59,62,64,68,76,77,85,86,88,89,\"90+1\",\"90+3\"],\"xaxis\":\"x\",\"y\":[1,2,1,2,1,1,1,1,1,1,1,1,1,1,2,1,1,1,1,2,1,1,2,1,1,1],\"yaxis\":\"y\",\"type\":\"histogram\",\"xbins\":{\"end\":90.0,\"size\":15,\"start\":0.0}},{\"alignmentgroup\":\"True\",\"bingroup\":\"x\",\"histfunc\":\"sum\",\"hovertemplate\":\"name=Wiener Sport-Club<br>minute=%{x}<br>sum of Goals_per_min=%{y}<extra></extra>\",\"legendgroup\":\"Wiener Sport-Club\",\"marker\":{\"color\":\"#00cc96\",\"pattern\":{\"shape\":\"\"}},\"name\":\"Wiener Sport-Club\",\"nbinsx\":6,\"offsetgroup\":\"Wiener Sport-Club\",\"orientation\":\"v\",\"showlegend\":true,\"x\":[6,7,13,15,18,20,23,30,32,38,45,46,47,50,52,53,56,57,58,61,62,63,66,68,70,72,75,81,87,\"90+1\",\"90+3\",\"90+4\"],\"xaxis\":\"x\",\"y\":[1,1,1,2,2,1,1,4,1,1,1,1,1,3,1,1,1,1,1,1,1,1,1,1,1,2,1,1,1,2,1,1],\"yaxis\":\"y\",\"type\":\"histogram\",\"xbins\":{\"end\":90.0,\"size\":15,\"start\":0.0}},{\"alignmentgroup\":\"True\",\"bingroup\":\"x\",\"histfunc\":\"sum\",\"hovertemplate\":\"name=Wiener Viktoria<br>minute=%{x}<br>sum of Goals_per_min=%{y}<extra></extra>\",\"legendgroup\":\"Wiener Viktoria\",\"marker\":{\"color\":\"#ab63fa\",\"pattern\":{\"shape\":\"\"}},\"name\":\"Wiener Viktoria\",\"nbinsx\":6,\"offsetgroup\":\"Wiener Viktoria\",\"orientation\":\"v\",\"showlegend\":true,\"x\":[4,6,8,11,14,26,28,38,43,48,55,57,58,60,61,62,63,66,69,70,71,75,77,83,84,86,87,\"90+1\",\"90+4\"],\"xaxis\":\"x\",\"y\":[1,1,1,1,1,1,1,2,1,1,1,1,1,1,1,1,1,1,1,1,1,1,1,1,1,1,1,1,1],\"yaxis\":\"y\",\"type\":\"histogram\",\"xbins\":{\"end\":90.0,\"size\":15,\"start\":0.0}}],                        {\"template\":{\"data\":{\"histogram2dcontour\":[{\"type\":\"histogram2dcontour\",\"colorbar\":{\"outlinewidth\":0,\"ticks\":\"\"},\"colorscale\":[[0.0,\"#0d0887\"],[0.1111111111111111,\"#46039f\"],[0.2222222222222222,\"#7201a8\"],[0.3333333333333333,\"#9c179e\"],[0.4444444444444444,\"#bd3786\"],[0.5555555555555556,\"#d8576b\"],[0.6666666666666666,\"#ed7953\"],[0.7777777777777778,\"#fb9f3a\"],[0.8888888888888888,\"#fdca26\"],[1.0,\"#f0f921\"]]}],\"choropleth\":[{\"type\":\"choropleth\",\"colorbar\":{\"outlinewidth\":0,\"ticks\":\"\"}}],\"histogram2d\":[{\"type\":\"histogram2d\",\"colorbar\":{\"outlinewidth\":0,\"ticks\":\"\"},\"colorscale\":[[0.0,\"#0d0887\"],[0.1111111111111111,\"#46039f\"],[0.2222222222222222,\"#7201a8\"],[0.3333333333333333,\"#9c179e\"],[0.4444444444444444,\"#bd3786\"],[0.5555555555555556,\"#d8576b\"],[0.6666666666666666,\"#ed7953\"],[0.7777777777777778,\"#fb9f3a\"],[0.8888888888888888,\"#fdca26\"],[1.0,\"#f0f921\"]]}],\"heatmap\":[{\"type\":\"heatmap\",\"colorbar\":{\"outlinewidth\":0,\"ticks\":\"\"},\"colorscale\":[[0.0,\"#0d0887\"],[0.1111111111111111,\"#46039f\"],[0.2222222222222222,\"#7201a8\"],[0.3333333333333333,\"#9c179e\"],[0.4444444444444444,\"#bd3786\"],[0.5555555555555556,\"#d8576b\"],[0.6666666666666666,\"#ed7953\"],[0.7777777777777778,\"#fb9f3a\"],[0.8888888888888888,\"#fdca26\"],[1.0,\"#f0f921\"]]}],\"heatmapgl\":[{\"type\":\"heatmapgl\",\"colorbar\":{\"outlinewidth\":0,\"ticks\":\"\"},\"colorscale\":[[0.0,\"#0d0887\"],[0.1111111111111111,\"#46039f\"],[0.2222222222222222,\"#7201a8\"],[0.3333333333333333,\"#9c179e\"],[0.4444444444444444,\"#bd3786\"],[0.5555555555555556,\"#d8576b\"],[0.6666666666666666,\"#ed7953\"],[0.7777777777777778,\"#fb9f3a\"],[0.8888888888888888,\"#fdca26\"],[1.0,\"#f0f921\"]]}],\"contourcarpet\":[{\"type\":\"contourcarpet\",\"colorbar\":{\"outlinewidth\":0,\"ticks\":\"\"}}],\"contour\":[{\"type\":\"contour\",\"colorbar\":{\"outlinewidth\":0,\"ticks\":\"\"},\"colorscale\":[[0.0,\"#0d0887\"],[0.1111111111111111,\"#46039f\"],[0.2222222222222222,\"#7201a8\"],[0.3333333333333333,\"#9c179e\"],[0.4444444444444444,\"#bd3786\"],[0.5555555555555556,\"#d8576b\"],[0.6666666666666666,\"#ed7953\"],[0.7777777777777778,\"#fb9f3a\"],[0.8888888888888888,\"#fdca26\"],[1.0,\"#f0f921\"]]}],\"surface\":[{\"type\":\"surface\",\"colorbar\":{\"outlinewidth\":0,\"ticks\":\"\"},\"colorscale\":[[0.0,\"#0d0887\"],[0.1111111111111111,\"#46039f\"],[0.2222222222222222,\"#7201a8\"],[0.3333333333333333,\"#9c179e\"],[0.4444444444444444,\"#bd3786\"],[0.5555555555555556,\"#d8576b\"],[0.6666666666666666,\"#ed7953\"],[0.7777777777777778,\"#fb9f3a\"],[0.8888888888888888,\"#fdca26\"],[1.0,\"#f0f921\"]]}],\"mesh3d\":[{\"type\":\"mesh3d\",\"colorbar\":{\"outlinewidth\":0,\"ticks\":\"\"}}],\"scatter\":[{\"fillpattern\":{\"fillmode\":\"overlay\",\"size\":10,\"solidity\":0.2},\"type\":\"scatter\"}],\"parcoords\":[{\"type\":\"parcoords\",\"line\":{\"colorbar\":{\"outlinewidth\":0,\"ticks\":\"\"}}}],\"scatterpolargl\":[{\"type\":\"scatterpolargl\",\"marker\":{\"colorbar\":{\"outlinewidth\":0,\"ticks\":\"\"}}}],\"bar\":[{\"error_x\":{\"color\":\"#2a3f5f\"},\"error_y\":{\"color\":\"#2a3f5f\"},\"marker\":{\"line\":{\"color\":\"#E5ECF6\",\"width\":0.5},\"pattern\":{\"fillmode\":\"overlay\",\"size\":10,\"solidity\":0.2}},\"type\":\"bar\"}],\"scattergeo\":[{\"type\":\"scattergeo\",\"marker\":{\"colorbar\":{\"outlinewidth\":0,\"ticks\":\"\"}}}],\"scatterpolar\":[{\"type\":\"scatterpolar\",\"marker\":{\"colorbar\":{\"outlinewidth\":0,\"ticks\":\"\"}}}],\"histogram\":[{\"marker\":{\"pattern\":{\"fillmode\":\"overlay\",\"size\":10,\"solidity\":0.2}},\"type\":\"histogram\"}],\"scattergl\":[{\"type\":\"scattergl\",\"marker\":{\"colorbar\":{\"outlinewidth\":0,\"ticks\":\"\"}}}],\"scatter3d\":[{\"type\":\"scatter3d\",\"line\":{\"colorbar\":{\"outlinewidth\":0,\"ticks\":\"\"}},\"marker\":{\"colorbar\":{\"outlinewidth\":0,\"ticks\":\"\"}}}],\"scattermapbox\":[{\"type\":\"scattermapbox\",\"marker\":{\"colorbar\":{\"outlinewidth\":0,\"ticks\":\"\"}}}],\"scatterternary\":[{\"type\":\"scatterternary\",\"marker\":{\"colorbar\":{\"outlinewidth\":0,\"ticks\":\"\"}}}],\"scattercarpet\":[{\"type\":\"scattercarpet\",\"marker\":{\"colorbar\":{\"outlinewidth\":0,\"ticks\":\"\"}}}],\"carpet\":[{\"aaxis\":{\"endlinecolor\":\"#2a3f5f\",\"gridcolor\":\"white\",\"linecolor\":\"white\",\"minorgridcolor\":\"white\",\"startlinecolor\":\"#2a3f5f\"},\"baxis\":{\"endlinecolor\":\"#2a3f5f\",\"gridcolor\":\"white\",\"linecolor\":\"white\",\"minorgridcolor\":\"white\",\"startlinecolor\":\"#2a3f5f\"},\"type\":\"carpet\"}],\"table\":[{\"cells\":{\"fill\":{\"color\":\"#EBF0F8\"},\"line\":{\"color\":\"white\"}},\"header\":{\"fill\":{\"color\":\"#C8D4E3\"},\"line\":{\"color\":\"white\"}},\"type\":\"table\"}],\"barpolar\":[{\"marker\":{\"line\":{\"color\":\"#E5ECF6\",\"width\":0.5},\"pattern\":{\"fillmode\":\"overlay\",\"size\":10,\"solidity\":0.2}},\"type\":\"barpolar\"}],\"pie\":[{\"automargin\":true,\"type\":\"pie\"}]},\"layout\":{\"autotypenumbers\":\"strict\",\"colorway\":[\"#636efa\",\"#EF553B\",\"#00cc96\",\"#ab63fa\",\"#FFA15A\",\"#19d3f3\",\"#FF6692\",\"#B6E880\",\"#FF97FF\",\"#FECB52\"],\"font\":{\"color\":\"#2a3f5f\"},\"hovermode\":\"closest\",\"hoverlabel\":{\"align\":\"left\"},\"paper_bgcolor\":\"white\",\"plot_bgcolor\":\"#E5ECF6\",\"polar\":{\"bgcolor\":\"#E5ECF6\",\"angularaxis\":{\"gridcolor\":\"white\",\"linecolor\":\"white\",\"ticks\":\"\"},\"radialaxis\":{\"gridcolor\":\"white\",\"linecolor\":\"white\",\"ticks\":\"\"}},\"ternary\":{\"bgcolor\":\"#E5ECF6\",\"aaxis\":{\"gridcolor\":\"white\",\"linecolor\":\"white\",\"ticks\":\"\"},\"baxis\":{\"gridcolor\":\"white\",\"linecolor\":\"white\",\"ticks\":\"\"},\"caxis\":{\"gridcolor\":\"white\",\"linecolor\":\"white\",\"ticks\":\"\"}},\"coloraxis\":{\"colorbar\":{\"outlinewidth\":0,\"ticks\":\"\"}},\"colorscale\":{\"sequential\":[[0.0,\"#0d0887\"],[0.1111111111111111,\"#46039f\"],[0.2222222222222222,\"#7201a8\"],[0.3333333333333333,\"#9c179e\"],[0.4444444444444444,\"#bd3786\"],[0.5555555555555556,\"#d8576b\"],[0.6666666666666666,\"#ed7953\"],[0.7777777777777778,\"#fb9f3a\"],[0.8888888888888888,\"#fdca26\"],[1.0,\"#f0f921\"]],\"sequentialminus\":[[0.0,\"#0d0887\"],[0.1111111111111111,\"#46039f\"],[0.2222222222222222,\"#7201a8\"],[0.3333333333333333,\"#9c179e\"],[0.4444444444444444,\"#bd3786\"],[0.5555555555555556,\"#d8576b\"],[0.6666666666666666,\"#ed7953\"],[0.7777777777777778,\"#fb9f3a\"],[0.8888888888888888,\"#fdca26\"],[1.0,\"#f0f921\"]],\"diverging\":[[0,\"#8e0152\"],[0.1,\"#c51b7d\"],[0.2,\"#de77ae\"],[0.3,\"#f1b6da\"],[0.4,\"#fde0ef\"],[0.5,\"#f7f7f7\"],[0.6,\"#e6f5d0\"],[0.7,\"#b8e186\"],[0.8,\"#7fbc41\"],[0.9,\"#4d9221\"],[1,\"#276419\"]]},\"xaxis\":{\"gridcolor\":\"white\",\"linecolor\":\"white\",\"ticks\":\"\",\"title\":{\"standoff\":15},\"zerolinecolor\":\"white\",\"automargin\":true,\"zerolinewidth\":2},\"yaxis\":{\"gridcolor\":\"white\",\"linecolor\":\"white\",\"ticks\":\"\",\"title\":{\"standoff\":15},\"zerolinecolor\":\"white\",\"automargin\":true,\"zerolinewidth\":2},\"scene\":{\"xaxis\":{\"backgroundcolor\":\"#E5ECF6\",\"gridcolor\":\"white\",\"linecolor\":\"white\",\"showbackground\":true,\"ticks\":\"\",\"zerolinecolor\":\"white\",\"gridwidth\":2},\"yaxis\":{\"backgroundcolor\":\"#E5ECF6\",\"gridcolor\":\"white\",\"linecolor\":\"white\",\"showbackground\":true,\"ticks\":\"\",\"zerolinecolor\":\"white\",\"gridwidth\":2},\"zaxis\":{\"backgroundcolor\":\"#E5ECF6\",\"gridcolor\":\"white\",\"linecolor\":\"white\",\"showbackground\":true,\"ticks\":\"\",\"zerolinecolor\":\"white\",\"gridwidth\":2}},\"shapedefaults\":{\"line\":{\"color\":\"#2a3f5f\"}},\"annotationdefaults\":{\"arrowcolor\":\"#2a3f5f\",\"arrowhead\":0,\"arrowwidth\":1},\"geo\":{\"bgcolor\":\"white\",\"landcolor\":\"#E5ECF6\",\"subunitcolor\":\"white\",\"showland\":true,\"showlakes\":true,\"lakecolor\":\"white\"},\"title\":{\"x\":0.05},\"mapbox\":{\"style\":\"light\"}}},\"xaxis\":{\"anchor\":\"y\",\"domain\":[0.0,1.0],\"title\":{\"text\":\"minute\"}},\"yaxis\":{\"anchor\":\"x\",\"domain\":[0.0,1.0],\"title\":{\"text\":\"sum of Goals_per_min\"}},\"legend\":{\"title\":{\"text\":\"name\"},\"tracegroupgap\":0},\"title\":{\"text\":\"Tore geschossen vor Mandl\"},\"barmode\":\"overlay\"},                        {\"responsive\": true}                    ).then(function(){\n",
       "                            \n",
       "var gd = document.getElementById('ffeeb212-ee3c-41b4-8f1a-c722337dc170');\n",
       "var x = new MutationObserver(function (mutations, observer) {{\n",
       "        var display = window.getComputedStyle(gd).display;\n",
       "        if (!display || display === 'none') {{\n",
       "            console.log([gd, 'removed!']);\n",
       "            Plotly.purge(gd);\n",
       "            observer.disconnect();\n",
       "        }}\n",
       "}});\n",
       "\n",
       "// Listen for the removal of the full notebook cells\n",
       "var notebookContainer = gd.closest('#notebook-container');\n",
       "if (notebookContainer) {{\n",
       "    x.observe(notebookContainer, {childList: true});\n",
       "}}\n",
       "\n",
       "// Listen for the clearing of the current output cell\n",
       "var outputEl = gd.closest('.output');\n",
       "if (outputEl) {{\n",
       "    x.observe(outputEl, {childList: true});\n",
       "}}\n",
       "\n",
       "                        })                };                });            </script>        </div>"
      ]
     },
     "metadata": {},
     "output_type": "display_data"
    }
   ],
   "source": [
    "df=query_database(query_table_goals_scored.format(\"20210701\",\"20220426\",vereine[0],vereine[0]),database=\"verbands.db\")\n",
    "fig=px.histogram(df, x=\"minute\",y='Goals_per_min' ,color=\"name\",nbins=6,title=\"Wann Tore geschossen vor Mandl\")\n",
    "fig.update_layout(barmode='overlay')\n",
    "fig.update_traces(xbins=dict( # bins used for histogram\n",
    "        start=0.0,\n",
    "        end=90.0,\n",
    "        size=15\n",
    "    ))\n",
    "fig.show()"
   ]
  },
  {
   "cell_type": "code",
   "execution_count": null,
   "id": "5ed0fcc6",
   "metadata": {
    "slideshow": {
     "slide_type": "slide"
    }
   },
   "outputs": [
    {
     "data": {
      "application/vnd.plotly.v1+json": {
       "config": {
        "plotlyServerURL": "https://plot.ly"
       },
       "data": [
        {
         "alignmentgroup": "True",
         "bingroup": "x",
         "histfunc": "sum",
         "hovertemplate": "name=ASK-BSC Bruck/Leitha<br>minute=%{x}<br>sum of Goals_per_min_conceeded=%{y}<extra></extra>",
         "legendgroup": "ASK-BSC Bruck/Leitha",
         "marker": {
          "color": "#636efa",
          "pattern": {
           "shape": ""
          }
         },
         "name": "ASK-BSC Bruck/Leitha",
         "offsetgroup": "ASK-BSC Bruck/Leitha",
         "orientation": "v",
         "showlegend": true,
         "type": "histogram",
         "x": [
          7,
          9,
          13,
          26,
          29,
          59,
          64,
          66,
          88
         ],
         "xaxis": "x",
         "xbins": {
          "end": 90,
          "size": 10,
          "start": 0
         },
         "y": [
          1,
          1,
          1,
          1,
          1,
          1,
          1,
          1,
          1
         ],
         "yaxis": "y"
        },
        {
         "alignmentgroup": "True",
         "bingroup": "x",
         "histfunc": "sum",
         "hovertemplate": "name=Admira Juniors<br>minute=%{x}<br>sum of Goals_per_min_conceeded=%{y}<extra></extra>",
         "legendgroup": "Admira Juniors",
         "marker": {
          "color": "#EF553B",
          "pattern": {
           "shape": ""
          }
         },
         "name": "Admira Juniors",
         "offsetgroup": "Admira Juniors",
         "orientation": "v",
         "showlegend": true,
         "type": "histogram",
         "x": [
          3,
          9,
          10,
          15,
          17,
          25,
          30,
          39,
          44,
          48,
          56,
          66,
          68,
          "90+4"
         ],
         "xaxis": "x",
         "xbins": {
          "end": 90,
          "size": 10,
          "start": 0
         },
         "y": [
          1,
          1,
          1,
          1,
          1,
          1,
          1,
          1,
          1,
          1,
          1,
          1,
          1,
          1
         ],
         "yaxis": "y"
        },
        {
         "alignmentgroup": "True",
         "bingroup": "x",
         "histfunc": "sum",
         "hovertemplate": "name=Draßburg<br>minute=%{x}<br>sum of Goals_per_min_conceeded=%{y}<extra></extra>",
         "legendgroup": "Draßburg",
         "marker": {
          "color": "#00cc96",
          "pattern": {
           "shape": ""
          }
         },
         "name": "Draßburg",
         "offsetgroup": "Draßburg",
         "orientation": "v",
         "showlegend": true,
         "type": "histogram",
         "x": [
          8,
          19,
          22,
          31,
          51,
          56,
          68,
          69
         ],
         "xaxis": "x",
         "xbins": {
          "end": 90,
          "size": 10,
          "start": 0
         },
         "y": [
          1,
          1,
          1,
          1,
          1,
          1,
          1,
          2
         ],
         "yaxis": "y"
        },
        {
         "alignmentgroup": "True",
         "bingroup": "x",
         "histfunc": "sum",
         "hovertemplate": "name=FC Marchfeld / Mannsdorf-Große.<br>minute=%{x}<br>sum of Goals_per_min_conceeded=%{y}<extra></extra>",
         "legendgroup": "FC Marchfeld / Mannsdorf-Große.",
         "marker": {
          "color": "#ab63fa",
          "pattern": {
           "shape": ""
          }
         },
         "name": "FC Marchfeld / Mannsdorf-Große.",
         "offsetgroup": "FC Marchfeld / Mannsdorf-Große.",
         "orientation": "v",
         "showlegend": true,
         "type": "histogram",
         "x": [
          16,
          25,
          28,
          47,
          50,
          62,
          83,
          88
         ],
         "xaxis": "x",
         "xbins": {
          "end": 90,
          "size": 10,
          "start": 0
         },
         "y": [
          1,
          1,
          1,
          1,
          1,
          1,
          1,
          2
         ],
         "yaxis": "y"
        },
        {
         "alignmentgroup": "True",
         "bingroup": "x",
         "histfunc": "sum",
         "hovertemplate": "name=FC Mauerwerk<br>minute=%{x}<br>sum of Goals_per_min_conceeded=%{y}<extra></extra>",
         "legendgroup": "FC Mauerwerk",
         "marker": {
          "color": "#FFA15A",
          "pattern": {
           "shape": ""
          }
         },
         "name": "FC Mauerwerk",
         "offsetgroup": "FC Mauerwerk",
         "orientation": "v",
         "showlegend": true,
         "type": "histogram",
         "x": [
          15,
          16,
          18,
          35,
          36,
          43,
          49,
          63
         ],
         "xaxis": "x",
         "xbins": {
          "end": 90,
          "size": 10,
          "start": 0
         },
         "y": [
          1,
          1,
          1,
          1,
          1,
          1,
          1,
          1
         ],
         "yaxis": "y"
        },
        {
         "alignmentgroup": "True",
         "bingroup": "x",
         "histfunc": "sum",
         "hovertemplate": "name=FCM Traiskirchen<br>minute=%{x}<br>sum of Goals_per_min_conceeded=%{y}<extra></extra>",
         "legendgroup": "FCM Traiskirchen",
         "marker": {
          "color": "#19d3f3",
          "pattern": {
           "shape": ""
          }
         },
         "name": "FCM Traiskirchen",
         "offsetgroup": "FCM Traiskirchen",
         "orientation": "v",
         "showlegend": true,
         "type": "histogram",
         "x": [
          15,
          25,
          33,
          34,
          53,
          55,
          70,
          73,
          85,
          86,
          90
         ],
         "xaxis": "x",
         "xbins": {
          "end": 90,
          "size": 10,
          "start": 0
         },
         "y": [
          1,
          1,
          1,
          1,
          1,
          1,
          1,
          1,
          1,
          1,
          1
         ],
         "yaxis": "y"
        },
        {
         "alignmentgroup": "True",
         "bingroup": "x",
         "histfunc": "sum",
         "hovertemplate": "name=First Vienna FC 1894<br>minute=%{x}<br>sum of Goals_per_min_conceeded=%{y}<extra></extra>",
         "legendgroup": "First Vienna FC 1894",
         "marker": {
          "color": "#FF6692",
          "pattern": {
           "shape": ""
          }
         },
         "name": "First Vienna FC 1894",
         "offsetgroup": "First Vienna FC 1894",
         "orientation": "v",
         "showlegend": true,
         "type": "histogram",
         "x": [
          21,
          80,
          87
         ],
         "xaxis": "x",
         "xbins": {
          "end": 90,
          "size": 10,
          "start": 0
         },
         "y": [
          1,
          1,
          1
         ],
         "yaxis": "y"
        },
        {
         "alignmentgroup": "True",
         "bingroup": "x",
         "histfunc": "sum",
         "hovertemplate": "name=SC Neusiedl am See 1919<br>minute=%{x}<br>sum of Goals_per_min_conceeded=%{y}<extra></extra>",
         "legendgroup": "SC Neusiedl am See 1919",
         "marker": {
          "color": "#B6E880",
          "pattern": {
           "shape": ""
          }
         },
         "name": "SC Neusiedl am See 1919",
         "offsetgroup": "SC Neusiedl am See 1919",
         "orientation": "v",
         "showlegend": true,
         "type": "histogram",
         "x": [
          30,
          39,
          41,
          43,
          66,
          68,
          69
         ],
         "xaxis": "x",
         "xbins": {
          "end": 90,
          "size": 10,
          "start": 0
         },
         "y": [
          1,
          1,
          1,
          1,
          1,
          1,
          1
         ],
         "yaxis": "y"
        },
        {
         "alignmentgroup": "True",
         "bingroup": "x",
         "histfunc": "sum",
         "hovertemplate": "name=SC Wiener Neustadt<br>minute=%{x}<br>sum of Goals_per_min_conceeded=%{y}<extra></extra>",
         "legendgroup": "SC Wiener Neustadt",
         "marker": {
          "color": "#FF97FF",
          "pattern": {
           "shape": ""
          }
         },
         "name": "SC Wiener Neustadt",
         "offsetgroup": "SC Wiener Neustadt",
         "orientation": "v",
         "showlegend": true,
         "type": "histogram",
         "x": [
          5,
          23,
          29,
          30,
          34,
          40,
          42
         ],
         "xaxis": "x",
         "xbins": {
          "end": 90,
          "size": 10,
          "start": 0
         },
         "y": [
          1,
          1,
          1,
          1,
          1,
          1,
          1
         ],
         "yaxis": "y"
        },
        {
         "alignmentgroup": "True",
         "bingroup": "x",
         "histfunc": "sum",
         "hovertemplate": "name=SV Leobendorf<br>minute=%{x}<br>sum of Goals_per_min_conceeded=%{y}<extra></extra>",
         "legendgroup": "SV Leobendorf",
         "marker": {
          "color": "#FECB52",
          "pattern": {
           "shape": ""
          }
         },
         "name": "SV Leobendorf",
         "offsetgroup": "SV Leobendorf",
         "orientation": "v",
         "showlegend": true,
         "type": "histogram",
         "x": [
          6,
          12,
          15,
          21,
          37,
          50,
          56,
          75,
          "90+4"
         ],
         "xaxis": "x",
         "xbins": {
          "end": 90,
          "size": 10,
          "start": 0
         },
         "y": [
          1,
          1,
          1,
          1,
          1,
          1,
          1,
          1,
          1
         ],
         "yaxis": "y"
        },
        {
         "alignmentgroup": "True",
         "bingroup": "x",
         "histfunc": "sum",
         "hovertemplate": "name=Stripfing<br>minute=%{x}<br>sum of Goals_per_min_conceeded=%{y}<extra></extra>",
         "legendgroup": "Stripfing",
         "marker": {
          "color": "#636efa",
          "pattern": {
           "shape": ""
          }
         },
         "name": "Stripfing",
         "offsetgroup": "Stripfing",
         "orientation": "v",
         "showlegend": true,
         "type": "histogram",
         "x": [
          35,
          39,
          61,
          81
         ],
         "xaxis": "x",
         "xbins": {
          "end": 90,
          "size": 10,
          "start": 0
         },
         "y": [
          1,
          1,
          1,
          1
         ],
         "yaxis": "y"
        },
        {
         "alignmentgroup": "True",
         "bingroup": "x",
         "histfunc": "sum",
         "hovertemplate": "name=TWL Elektra<br>minute=%{x}<br>sum of Goals_per_min_conceeded=%{y}<extra></extra>",
         "legendgroup": "TWL Elektra",
         "marker": {
          "color": "#EF553B",
          "pattern": {
           "shape": ""
          }
         },
         "name": "TWL Elektra",
         "offsetgroup": "TWL Elektra",
         "orientation": "v",
         "showlegend": true,
         "type": "histogram",
         "x": [
          51,
          68,
          78,
          80,
          84,
          87,
          "90+2"
         ],
         "xaxis": "x",
         "xbins": {
          "end": 90,
          "size": 10,
          "start": 0
         },
         "y": [
          1,
          1,
          1,
          1,
          1,
          1,
          1
         ],
         "yaxis": "y"
        },
        {
         "alignmentgroup": "True",
         "bingroup": "x",
         "histfunc": "sum",
         "hovertemplate": "name=Wiener Sport-Club<br>minute=%{x}<br>sum of Goals_per_min_conceeded=%{y}<extra></extra>",
         "legendgroup": "Wiener Sport-Club",
         "marker": {
          "color": "#00cc96",
          "pattern": {
           "shape": ""
          }
         },
         "name": "Wiener Sport-Club",
         "offsetgroup": "Wiener Sport-Club",
         "orientation": "v",
         "showlegend": true,
         "type": "histogram",
         "x": [
          5,
          19,
          23,
          56,
          89
         ],
         "xaxis": "x",
         "xbins": {
          "end": 90,
          "size": 10,
          "start": 0
         },
         "y": [
          1,
          1,
          1,
          1,
          1
         ],
         "yaxis": "y"
        },
        {
         "alignmentgroup": "True",
         "bingroup": "x",
         "histfunc": "sum",
         "hovertemplate": "name=Wiener Viktoria<br>minute=%{x}<br>sum of Goals_per_min_conceeded=%{y}<extra></extra>",
         "legendgroup": "Wiener Viktoria",
         "marker": {
          "color": "#ab63fa",
          "pattern": {
           "shape": ""
          }
         },
         "name": "Wiener Viktoria",
         "offsetgroup": "Wiener Viktoria",
         "orientation": "v",
         "showlegend": true,
         "type": "histogram",
         "x": [
          2,
          17,
          46,
          76
         ],
         "xaxis": "x",
         "xbins": {
          "end": 90,
          "size": 10,
          "start": 0
         },
         "y": [
          1,
          1,
          1,
          1
         ],
         "yaxis": "y"
        }
       ],
       "layout": {
        "barmode": "overlay",
        "legend": {
         "title": {
          "text": "name"
         },
         "tracegroupgap": 0
        },
        "template": {
         "data": {
          "bar": [
           {
            "error_x": {
             "color": "#2a3f5f"
            },
            "error_y": {
             "color": "#2a3f5f"
            },
            "marker": {
             "line": {
              "color": "#E5ECF6",
              "width": 0.5
             },
             "pattern": {
              "fillmode": "overlay",
              "size": 10,
              "solidity": 0.2
             }
            },
            "type": "bar"
           }
          ],
          "barpolar": [
           {
            "marker": {
             "line": {
              "color": "#E5ECF6",
              "width": 0.5
             },
             "pattern": {
              "fillmode": "overlay",
              "size": 10,
              "solidity": 0.2
             }
            },
            "type": "barpolar"
           }
          ],
          "carpet": [
           {
            "aaxis": {
             "endlinecolor": "#2a3f5f",
             "gridcolor": "white",
             "linecolor": "white",
             "minorgridcolor": "white",
             "startlinecolor": "#2a3f5f"
            },
            "baxis": {
             "endlinecolor": "#2a3f5f",
             "gridcolor": "white",
             "linecolor": "white",
             "minorgridcolor": "white",
             "startlinecolor": "#2a3f5f"
            },
            "type": "carpet"
           }
          ],
          "choropleth": [
           {
            "colorbar": {
             "outlinewidth": 0,
             "ticks": ""
            },
            "type": "choropleth"
           }
          ],
          "contour": [
           {
            "colorbar": {
             "outlinewidth": 0,
             "ticks": ""
            },
            "colorscale": [
             [
              0,
              "#0d0887"
             ],
             [
              0.1111111111111111,
              "#46039f"
             ],
             [
              0.2222222222222222,
              "#7201a8"
             ],
             [
              0.3333333333333333,
              "#9c179e"
             ],
             [
              0.4444444444444444,
              "#bd3786"
             ],
             [
              0.5555555555555556,
              "#d8576b"
             ],
             [
              0.6666666666666666,
              "#ed7953"
             ],
             [
              0.7777777777777778,
              "#fb9f3a"
             ],
             [
              0.8888888888888888,
              "#fdca26"
             ],
             [
              1,
              "#f0f921"
             ]
            ],
            "type": "contour"
           }
          ],
          "contourcarpet": [
           {
            "colorbar": {
             "outlinewidth": 0,
             "ticks": ""
            },
            "type": "contourcarpet"
           }
          ],
          "heatmap": [
           {
            "colorbar": {
             "outlinewidth": 0,
             "ticks": ""
            },
            "colorscale": [
             [
              0,
              "#0d0887"
             ],
             [
              0.1111111111111111,
              "#46039f"
             ],
             [
              0.2222222222222222,
              "#7201a8"
             ],
             [
              0.3333333333333333,
              "#9c179e"
             ],
             [
              0.4444444444444444,
              "#bd3786"
             ],
             [
              0.5555555555555556,
              "#d8576b"
             ],
             [
              0.6666666666666666,
              "#ed7953"
             ],
             [
              0.7777777777777778,
              "#fb9f3a"
             ],
             [
              0.8888888888888888,
              "#fdca26"
             ],
             [
              1,
              "#f0f921"
             ]
            ],
            "type": "heatmap"
           }
          ],
          "heatmapgl": [
           {
            "colorbar": {
             "outlinewidth": 0,
             "ticks": ""
            },
            "colorscale": [
             [
              0,
              "#0d0887"
             ],
             [
              0.1111111111111111,
              "#46039f"
             ],
             [
              0.2222222222222222,
              "#7201a8"
             ],
             [
              0.3333333333333333,
              "#9c179e"
             ],
             [
              0.4444444444444444,
              "#bd3786"
             ],
             [
              0.5555555555555556,
              "#d8576b"
             ],
             [
              0.6666666666666666,
              "#ed7953"
             ],
             [
              0.7777777777777778,
              "#fb9f3a"
             ],
             [
              0.8888888888888888,
              "#fdca26"
             ],
             [
              1,
              "#f0f921"
             ]
            ],
            "type": "heatmapgl"
           }
          ],
          "histogram": [
           {
            "marker": {
             "pattern": {
              "fillmode": "overlay",
              "size": 10,
              "solidity": 0.2
             }
            },
            "type": "histogram"
           }
          ],
          "histogram2d": [
           {
            "colorbar": {
             "outlinewidth": 0,
             "ticks": ""
            },
            "colorscale": [
             [
              0,
              "#0d0887"
             ],
             [
              0.1111111111111111,
              "#46039f"
             ],
             [
              0.2222222222222222,
              "#7201a8"
             ],
             [
              0.3333333333333333,
              "#9c179e"
             ],
             [
              0.4444444444444444,
              "#bd3786"
             ],
             [
              0.5555555555555556,
              "#d8576b"
             ],
             [
              0.6666666666666666,
              "#ed7953"
             ],
             [
              0.7777777777777778,
              "#fb9f3a"
             ],
             [
              0.8888888888888888,
              "#fdca26"
             ],
             [
              1,
              "#f0f921"
             ]
            ],
            "type": "histogram2d"
           }
          ],
          "histogram2dcontour": [
           {
            "colorbar": {
             "outlinewidth": 0,
             "ticks": ""
            },
            "colorscale": [
             [
              0,
              "#0d0887"
             ],
             [
              0.1111111111111111,
              "#46039f"
             ],
             [
              0.2222222222222222,
              "#7201a8"
             ],
             [
              0.3333333333333333,
              "#9c179e"
             ],
             [
              0.4444444444444444,
              "#bd3786"
             ],
             [
              0.5555555555555556,
              "#d8576b"
             ],
             [
              0.6666666666666666,
              "#ed7953"
             ],
             [
              0.7777777777777778,
              "#fb9f3a"
             ],
             [
              0.8888888888888888,
              "#fdca26"
             ],
             [
              1,
              "#f0f921"
             ]
            ],
            "type": "histogram2dcontour"
           }
          ],
          "mesh3d": [
           {
            "colorbar": {
             "outlinewidth": 0,
             "ticks": ""
            },
            "type": "mesh3d"
           }
          ],
          "parcoords": [
           {
            "line": {
             "colorbar": {
              "outlinewidth": 0,
              "ticks": ""
             }
            },
            "type": "parcoords"
           }
          ],
          "pie": [
           {
            "automargin": true,
            "type": "pie"
           }
          ],
          "scatter": [
           {
            "fillpattern": {
             "fillmode": "overlay",
             "size": 10,
             "solidity": 0.2
            },
            "type": "scatter"
           }
          ],
          "scatter3d": [
           {
            "line": {
             "colorbar": {
              "outlinewidth": 0,
              "ticks": ""
             }
            },
            "marker": {
             "colorbar": {
              "outlinewidth": 0,
              "ticks": ""
             }
            },
            "type": "scatter3d"
           }
          ],
          "scattercarpet": [
           {
            "marker": {
             "colorbar": {
              "outlinewidth": 0,
              "ticks": ""
             }
            },
            "type": "scattercarpet"
           }
          ],
          "scattergeo": [
           {
            "marker": {
             "colorbar": {
              "outlinewidth": 0,
              "ticks": ""
             }
            },
            "type": "scattergeo"
           }
          ],
          "scattergl": [
           {
            "marker": {
             "colorbar": {
              "outlinewidth": 0,
              "ticks": ""
             }
            },
            "type": "scattergl"
           }
          ],
          "scattermapbox": [
           {
            "marker": {
             "colorbar": {
              "outlinewidth": 0,
              "ticks": ""
             }
            },
            "type": "scattermapbox"
           }
          ],
          "scatterpolar": [
           {
            "marker": {
             "colorbar": {
              "outlinewidth": 0,
              "ticks": ""
             }
            },
            "type": "scatterpolar"
           }
          ],
          "scatterpolargl": [
           {
            "marker": {
             "colorbar": {
              "outlinewidth": 0,
              "ticks": ""
             }
            },
            "type": "scatterpolargl"
           }
          ],
          "scatterternary": [
           {
            "marker": {
             "colorbar": {
              "outlinewidth": 0,
              "ticks": ""
             }
            },
            "type": "scatterternary"
           }
          ],
          "surface": [
           {
            "colorbar": {
             "outlinewidth": 0,
             "ticks": ""
            },
            "colorscale": [
             [
              0,
              "#0d0887"
             ],
             [
              0.1111111111111111,
              "#46039f"
             ],
             [
              0.2222222222222222,
              "#7201a8"
             ],
             [
              0.3333333333333333,
              "#9c179e"
             ],
             [
              0.4444444444444444,
              "#bd3786"
             ],
             [
              0.5555555555555556,
              "#d8576b"
             ],
             [
              0.6666666666666666,
              "#ed7953"
             ],
             [
              0.7777777777777778,
              "#fb9f3a"
             ],
             [
              0.8888888888888888,
              "#fdca26"
             ],
             [
              1,
              "#f0f921"
             ]
            ],
            "type": "surface"
           }
          ],
          "table": [
           {
            "cells": {
             "fill": {
              "color": "#EBF0F8"
             },
             "line": {
              "color": "white"
             }
            },
            "header": {
             "fill": {
              "color": "#C8D4E3"
             },
             "line": {
              "color": "white"
             }
            },
            "type": "table"
           }
          ]
         },
         "layout": {
          "annotationdefaults": {
           "arrowcolor": "#2a3f5f",
           "arrowhead": 0,
           "arrowwidth": 1
          },
          "autotypenumbers": "strict",
          "coloraxis": {
           "colorbar": {
            "outlinewidth": 0,
            "ticks": ""
           }
          },
          "colorscale": {
           "diverging": [
            [
             0,
             "#8e0152"
            ],
            [
             0.1,
             "#c51b7d"
            ],
            [
             0.2,
             "#de77ae"
            ],
            [
             0.3,
             "#f1b6da"
            ],
            [
             0.4,
             "#fde0ef"
            ],
            [
             0.5,
             "#f7f7f7"
            ],
            [
             0.6,
             "#e6f5d0"
            ],
            [
             0.7,
             "#b8e186"
            ],
            [
             0.8,
             "#7fbc41"
            ],
            [
             0.9,
             "#4d9221"
            ],
            [
             1,
             "#276419"
            ]
           ],
           "sequential": [
            [
             0,
             "#0d0887"
            ],
            [
             0.1111111111111111,
             "#46039f"
            ],
            [
             0.2222222222222222,
             "#7201a8"
            ],
            [
             0.3333333333333333,
             "#9c179e"
            ],
            [
             0.4444444444444444,
             "#bd3786"
            ],
            [
             0.5555555555555556,
             "#d8576b"
            ],
            [
             0.6666666666666666,
             "#ed7953"
            ],
            [
             0.7777777777777778,
             "#fb9f3a"
            ],
            [
             0.8888888888888888,
             "#fdca26"
            ],
            [
             1,
             "#f0f921"
            ]
           ],
           "sequentialminus": [
            [
             0,
             "#0d0887"
            ],
            [
             0.1111111111111111,
             "#46039f"
            ],
            [
             0.2222222222222222,
             "#7201a8"
            ],
            [
             0.3333333333333333,
             "#9c179e"
            ],
            [
             0.4444444444444444,
             "#bd3786"
            ],
            [
             0.5555555555555556,
             "#d8576b"
            ],
            [
             0.6666666666666666,
             "#ed7953"
            ],
            [
             0.7777777777777778,
             "#fb9f3a"
            ],
            [
             0.8888888888888888,
             "#fdca26"
            ],
            [
             1,
             "#f0f921"
            ]
           ]
          },
          "colorway": [
           "#636efa",
           "#EF553B",
           "#00cc96",
           "#ab63fa",
           "#FFA15A",
           "#19d3f3",
           "#FF6692",
           "#B6E880",
           "#FF97FF",
           "#FECB52"
          ],
          "font": {
           "color": "#2a3f5f"
          },
          "geo": {
           "bgcolor": "white",
           "lakecolor": "white",
           "landcolor": "#E5ECF6",
           "showlakes": true,
           "showland": true,
           "subunitcolor": "white"
          },
          "hoverlabel": {
           "align": "left"
          },
          "hovermode": "closest",
          "mapbox": {
           "style": "light"
          },
          "paper_bgcolor": "white",
          "plot_bgcolor": "#E5ECF6",
          "polar": {
           "angularaxis": {
            "gridcolor": "white",
            "linecolor": "white",
            "ticks": ""
           },
           "bgcolor": "#E5ECF6",
           "radialaxis": {
            "gridcolor": "white",
            "linecolor": "white",
            "ticks": ""
           }
          },
          "scene": {
           "xaxis": {
            "backgroundcolor": "#E5ECF6",
            "gridcolor": "white",
            "gridwidth": 2,
            "linecolor": "white",
            "showbackground": true,
            "ticks": "",
            "zerolinecolor": "white"
           },
           "yaxis": {
            "backgroundcolor": "#E5ECF6",
            "gridcolor": "white",
            "gridwidth": 2,
            "linecolor": "white",
            "showbackground": true,
            "ticks": "",
            "zerolinecolor": "white"
           },
           "zaxis": {
            "backgroundcolor": "#E5ECF6",
            "gridcolor": "white",
            "gridwidth": 2,
            "linecolor": "white",
            "showbackground": true,
            "ticks": "",
            "zerolinecolor": "white"
           }
          },
          "shapedefaults": {
           "line": {
            "color": "#2a3f5f"
           }
          },
          "ternary": {
           "aaxis": {
            "gridcolor": "white",
            "linecolor": "white",
            "ticks": ""
           },
           "baxis": {
            "gridcolor": "white",
            "linecolor": "white",
            "ticks": ""
           },
           "bgcolor": "#E5ECF6",
           "caxis": {
            "gridcolor": "white",
            "linecolor": "white",
            "ticks": ""
           }
          },
          "title": {
           "x": 0.05
          },
          "xaxis": {
           "automargin": true,
           "gridcolor": "white",
           "linecolor": "white",
           "ticks": "",
           "title": {
            "standoff": 15
           },
           "zerolinecolor": "white",
           "zerolinewidth": 2
          },
          "yaxis": {
           "automargin": true,
           "gridcolor": "white",
           "linecolor": "white",
           "ticks": "",
           "title": {
            "standoff": 15
           },
           "zerolinecolor": "white",
           "zerolinewidth": 2
          }
         }
        },
        "title": {
         "text": "Tor bekommen mit Mandl"
        },
        "xaxis": {
         "anchor": "y",
         "domain": [
          0,
          1
         ],
         "title": {
          "text": "minute"
         }
        },
        "yaxis": {
         "anchor": "x",
         "domain": [
          0,
          1
         ],
         "title": {
          "text": "sum of Goals_per_min_conceeded"
         }
        }
       }
      },
      "text/html": [
       "<div>                            <div id=\"34224764-ac55-4792-bddb-53034f0fd133\" class=\"plotly-graph-div\" style=\"height:525px; width:100%;\"></div>            <script type=\"text/javascript\">                require([\"plotly\"], function(Plotly) {                    window.PLOTLYENV=window.PLOTLYENV || {};                                    if (document.getElementById(\"34224764-ac55-4792-bddb-53034f0fd133\")) {                    Plotly.newPlot(                        \"34224764-ac55-4792-bddb-53034f0fd133\",                        [{\"alignmentgroup\":\"True\",\"bingroup\":\"x\",\"histfunc\":\"sum\",\"hovertemplate\":\"name=ASK-BSC Bruck/Leitha<br>minute=%{x}<br>sum of Goals_per_min_conceeded=%{y}<extra></extra>\",\"legendgroup\":\"ASK-BSC Bruck/Leitha\",\"marker\":{\"color\":\"#636efa\",\"pattern\":{\"shape\":\"\"}},\"name\":\"ASK-BSC Bruck/Leitha\",\"offsetgroup\":\"ASK-BSC Bruck/Leitha\",\"orientation\":\"v\",\"showlegend\":true,\"x\":[7,9,13,26,29,59,64,66,88],\"xaxis\":\"x\",\"y\":[1,1,1,1,1,1,1,1,1],\"yaxis\":\"y\",\"type\":\"histogram\",\"xbins\":{\"end\":90.0,\"size\":10,\"start\":0.0}},{\"alignmentgroup\":\"True\",\"bingroup\":\"x\",\"histfunc\":\"sum\",\"hovertemplate\":\"name=Admira Juniors<br>minute=%{x}<br>sum of Goals_per_min_conceeded=%{y}<extra></extra>\",\"legendgroup\":\"Admira Juniors\",\"marker\":{\"color\":\"#EF553B\",\"pattern\":{\"shape\":\"\"}},\"name\":\"Admira Juniors\",\"offsetgroup\":\"Admira Juniors\",\"orientation\":\"v\",\"showlegend\":true,\"x\":[3,9,10,15,17,25,30,39,44,48,56,66,68,\"90+4\"],\"xaxis\":\"x\",\"y\":[1,1,1,1,1,1,1,1,1,1,1,1,1,1],\"yaxis\":\"y\",\"type\":\"histogram\",\"xbins\":{\"end\":90.0,\"size\":10,\"start\":0.0}},{\"alignmentgroup\":\"True\",\"bingroup\":\"x\",\"histfunc\":\"sum\",\"hovertemplate\":\"name=Dra\\u00dfburg<br>minute=%{x}<br>sum of Goals_per_min_conceeded=%{y}<extra></extra>\",\"legendgroup\":\"Dra\\u00dfburg\",\"marker\":{\"color\":\"#00cc96\",\"pattern\":{\"shape\":\"\"}},\"name\":\"Dra\\u00dfburg\",\"offsetgroup\":\"Dra\\u00dfburg\",\"orientation\":\"v\",\"showlegend\":true,\"x\":[8,19,22,31,51,56,68,69],\"xaxis\":\"x\",\"y\":[1,1,1,1,1,1,1,2],\"yaxis\":\"y\",\"type\":\"histogram\",\"xbins\":{\"end\":90.0,\"size\":10,\"start\":0.0}},{\"alignmentgroup\":\"True\",\"bingroup\":\"x\",\"histfunc\":\"sum\",\"hovertemplate\":\"name=FC Marchfeld / Mannsdorf-Gro\\u00dfe.<br>minute=%{x}<br>sum of Goals_per_min_conceeded=%{y}<extra></extra>\",\"legendgroup\":\"FC Marchfeld / Mannsdorf-Gro\\u00dfe.\",\"marker\":{\"color\":\"#ab63fa\",\"pattern\":{\"shape\":\"\"}},\"name\":\"FC Marchfeld / Mannsdorf-Gro\\u00dfe.\",\"offsetgroup\":\"FC Marchfeld / Mannsdorf-Gro\\u00dfe.\",\"orientation\":\"v\",\"showlegend\":true,\"x\":[16,25,28,47,50,62,83,88],\"xaxis\":\"x\",\"y\":[1,1,1,1,1,1,1,2],\"yaxis\":\"y\",\"type\":\"histogram\",\"xbins\":{\"end\":90.0,\"size\":10,\"start\":0.0}},{\"alignmentgroup\":\"True\",\"bingroup\":\"x\",\"histfunc\":\"sum\",\"hovertemplate\":\"name=FC Mauerwerk<br>minute=%{x}<br>sum of Goals_per_min_conceeded=%{y}<extra></extra>\",\"legendgroup\":\"FC Mauerwerk\",\"marker\":{\"color\":\"#FFA15A\",\"pattern\":{\"shape\":\"\"}},\"name\":\"FC Mauerwerk\",\"offsetgroup\":\"FC Mauerwerk\",\"orientation\":\"v\",\"showlegend\":true,\"x\":[15,16,18,35,36,43,49,63],\"xaxis\":\"x\",\"y\":[1,1,1,1,1,1,1,1],\"yaxis\":\"y\",\"type\":\"histogram\",\"xbins\":{\"end\":90.0,\"size\":10,\"start\":0.0}},{\"alignmentgroup\":\"True\",\"bingroup\":\"x\",\"histfunc\":\"sum\",\"hovertemplate\":\"name=FCM Traiskirchen<br>minute=%{x}<br>sum of Goals_per_min_conceeded=%{y}<extra></extra>\",\"legendgroup\":\"FCM Traiskirchen\",\"marker\":{\"color\":\"#19d3f3\",\"pattern\":{\"shape\":\"\"}},\"name\":\"FCM Traiskirchen\",\"offsetgroup\":\"FCM Traiskirchen\",\"orientation\":\"v\",\"showlegend\":true,\"x\":[15,25,33,34,53,55,70,73,85,86,90],\"xaxis\":\"x\",\"y\":[1,1,1,1,1,1,1,1,1,1,1],\"yaxis\":\"y\",\"type\":\"histogram\",\"xbins\":{\"end\":90.0,\"size\":10,\"start\":0.0}},{\"alignmentgroup\":\"True\",\"bingroup\":\"x\",\"histfunc\":\"sum\",\"hovertemplate\":\"name=First Vienna FC 1894<br>minute=%{x}<br>sum of Goals_per_min_conceeded=%{y}<extra></extra>\",\"legendgroup\":\"First Vienna FC 1894\",\"marker\":{\"color\":\"#FF6692\",\"pattern\":{\"shape\":\"\"}},\"name\":\"First Vienna FC 1894\",\"offsetgroup\":\"First Vienna FC 1894\",\"orientation\":\"v\",\"showlegend\":true,\"x\":[21,80,87],\"xaxis\":\"x\",\"y\":[1,1,1],\"yaxis\":\"y\",\"type\":\"histogram\",\"xbins\":{\"end\":90.0,\"size\":10,\"start\":0.0}},{\"alignmentgroup\":\"True\",\"bingroup\":\"x\",\"histfunc\":\"sum\",\"hovertemplate\":\"name=SC Neusiedl am See 1919<br>minute=%{x}<br>sum of Goals_per_min_conceeded=%{y}<extra></extra>\",\"legendgroup\":\"SC Neusiedl am See 1919\",\"marker\":{\"color\":\"#B6E880\",\"pattern\":{\"shape\":\"\"}},\"name\":\"SC Neusiedl am See 1919\",\"offsetgroup\":\"SC Neusiedl am See 1919\",\"orientation\":\"v\",\"showlegend\":true,\"x\":[30,39,41,43,66,68,69],\"xaxis\":\"x\",\"y\":[1,1,1,1,1,1,1],\"yaxis\":\"y\",\"type\":\"histogram\",\"xbins\":{\"end\":90.0,\"size\":10,\"start\":0.0}},{\"alignmentgroup\":\"True\",\"bingroup\":\"x\",\"histfunc\":\"sum\",\"hovertemplate\":\"name=SC Wiener Neustadt<br>minute=%{x}<br>sum of Goals_per_min_conceeded=%{y}<extra></extra>\",\"legendgroup\":\"SC Wiener Neustadt\",\"marker\":{\"color\":\"#FF97FF\",\"pattern\":{\"shape\":\"\"}},\"name\":\"SC Wiener Neustadt\",\"offsetgroup\":\"SC Wiener Neustadt\",\"orientation\":\"v\",\"showlegend\":true,\"x\":[5,23,29,30,34,40,42],\"xaxis\":\"x\",\"y\":[1,1,1,1,1,1,1],\"yaxis\":\"y\",\"type\":\"histogram\",\"xbins\":{\"end\":90.0,\"size\":10,\"start\":0.0}},{\"alignmentgroup\":\"True\",\"bingroup\":\"x\",\"histfunc\":\"sum\",\"hovertemplate\":\"name=SV Leobendorf<br>minute=%{x}<br>sum of Goals_per_min_conceeded=%{y}<extra></extra>\",\"legendgroup\":\"SV Leobendorf\",\"marker\":{\"color\":\"#FECB52\",\"pattern\":{\"shape\":\"\"}},\"name\":\"SV Leobendorf\",\"offsetgroup\":\"SV Leobendorf\",\"orientation\":\"v\",\"showlegend\":true,\"x\":[6,12,15,21,37,50,56,75,\"90+4\"],\"xaxis\":\"x\",\"y\":[1,1,1,1,1,1,1,1,1],\"yaxis\":\"y\",\"type\":\"histogram\",\"xbins\":{\"end\":90.0,\"size\":10,\"start\":0.0}},{\"alignmentgroup\":\"True\",\"bingroup\":\"x\",\"histfunc\":\"sum\",\"hovertemplate\":\"name=Stripfing<br>minute=%{x}<br>sum of Goals_per_min_conceeded=%{y}<extra></extra>\",\"legendgroup\":\"Stripfing\",\"marker\":{\"color\":\"#636efa\",\"pattern\":{\"shape\":\"\"}},\"name\":\"Stripfing\",\"offsetgroup\":\"Stripfing\",\"orientation\":\"v\",\"showlegend\":true,\"x\":[35,39,61,81],\"xaxis\":\"x\",\"y\":[1,1,1,1],\"yaxis\":\"y\",\"type\":\"histogram\",\"xbins\":{\"end\":90.0,\"size\":10,\"start\":0.0}},{\"alignmentgroup\":\"True\",\"bingroup\":\"x\",\"histfunc\":\"sum\",\"hovertemplate\":\"name=TWL Elektra<br>minute=%{x}<br>sum of Goals_per_min_conceeded=%{y}<extra></extra>\",\"legendgroup\":\"TWL Elektra\",\"marker\":{\"color\":\"#EF553B\",\"pattern\":{\"shape\":\"\"}},\"name\":\"TWL Elektra\",\"offsetgroup\":\"TWL Elektra\",\"orientation\":\"v\",\"showlegend\":true,\"x\":[51,68,78,80,84,87,\"90+2\"],\"xaxis\":\"x\",\"y\":[1,1,1,1,1,1,1],\"yaxis\":\"y\",\"type\":\"histogram\",\"xbins\":{\"end\":90.0,\"size\":10,\"start\":0.0}},{\"alignmentgroup\":\"True\",\"bingroup\":\"x\",\"histfunc\":\"sum\",\"hovertemplate\":\"name=Wiener Sport-Club<br>minute=%{x}<br>sum of Goals_per_min_conceeded=%{y}<extra></extra>\",\"legendgroup\":\"Wiener Sport-Club\",\"marker\":{\"color\":\"#00cc96\",\"pattern\":{\"shape\":\"\"}},\"name\":\"Wiener Sport-Club\",\"offsetgroup\":\"Wiener Sport-Club\",\"orientation\":\"v\",\"showlegend\":true,\"x\":[5,19,23,56,89],\"xaxis\":\"x\",\"y\":[1,1,1,1,1],\"yaxis\":\"y\",\"type\":\"histogram\",\"xbins\":{\"end\":90.0,\"size\":10,\"start\":0.0}},{\"alignmentgroup\":\"True\",\"bingroup\":\"x\",\"histfunc\":\"sum\",\"hovertemplate\":\"name=Wiener Viktoria<br>minute=%{x}<br>sum of Goals_per_min_conceeded=%{y}<extra></extra>\",\"legendgroup\":\"Wiener Viktoria\",\"marker\":{\"color\":\"#ab63fa\",\"pattern\":{\"shape\":\"\"}},\"name\":\"Wiener Viktoria\",\"offsetgroup\":\"Wiener Viktoria\",\"orientation\":\"v\",\"showlegend\":true,\"x\":[2,17,46,76],\"xaxis\":\"x\",\"y\":[1,1,1,1],\"yaxis\":\"y\",\"type\":\"histogram\",\"xbins\":{\"end\":90.0,\"size\":10,\"start\":0.0}}],                        {\"template\":{\"data\":{\"histogram2dcontour\":[{\"type\":\"histogram2dcontour\",\"colorbar\":{\"outlinewidth\":0,\"ticks\":\"\"},\"colorscale\":[[0.0,\"#0d0887\"],[0.1111111111111111,\"#46039f\"],[0.2222222222222222,\"#7201a8\"],[0.3333333333333333,\"#9c179e\"],[0.4444444444444444,\"#bd3786\"],[0.5555555555555556,\"#d8576b\"],[0.6666666666666666,\"#ed7953\"],[0.7777777777777778,\"#fb9f3a\"],[0.8888888888888888,\"#fdca26\"],[1.0,\"#f0f921\"]]}],\"choropleth\":[{\"type\":\"choropleth\",\"colorbar\":{\"outlinewidth\":0,\"ticks\":\"\"}}],\"histogram2d\":[{\"type\":\"histogram2d\",\"colorbar\":{\"outlinewidth\":0,\"ticks\":\"\"},\"colorscale\":[[0.0,\"#0d0887\"],[0.1111111111111111,\"#46039f\"],[0.2222222222222222,\"#7201a8\"],[0.3333333333333333,\"#9c179e\"],[0.4444444444444444,\"#bd3786\"],[0.5555555555555556,\"#d8576b\"],[0.6666666666666666,\"#ed7953\"],[0.7777777777777778,\"#fb9f3a\"],[0.8888888888888888,\"#fdca26\"],[1.0,\"#f0f921\"]]}],\"heatmap\":[{\"type\":\"heatmap\",\"colorbar\":{\"outlinewidth\":0,\"ticks\":\"\"},\"colorscale\":[[0.0,\"#0d0887\"],[0.1111111111111111,\"#46039f\"],[0.2222222222222222,\"#7201a8\"],[0.3333333333333333,\"#9c179e\"],[0.4444444444444444,\"#bd3786\"],[0.5555555555555556,\"#d8576b\"],[0.6666666666666666,\"#ed7953\"],[0.7777777777777778,\"#fb9f3a\"],[0.8888888888888888,\"#fdca26\"],[1.0,\"#f0f921\"]]}],\"heatmapgl\":[{\"type\":\"heatmapgl\",\"colorbar\":{\"outlinewidth\":0,\"ticks\":\"\"},\"colorscale\":[[0.0,\"#0d0887\"],[0.1111111111111111,\"#46039f\"],[0.2222222222222222,\"#7201a8\"],[0.3333333333333333,\"#9c179e\"],[0.4444444444444444,\"#bd3786\"],[0.5555555555555556,\"#d8576b\"],[0.6666666666666666,\"#ed7953\"],[0.7777777777777778,\"#fb9f3a\"],[0.8888888888888888,\"#fdca26\"],[1.0,\"#f0f921\"]]}],\"contourcarpet\":[{\"type\":\"contourcarpet\",\"colorbar\":{\"outlinewidth\":0,\"ticks\":\"\"}}],\"contour\":[{\"type\":\"contour\",\"colorbar\":{\"outlinewidth\":0,\"ticks\":\"\"},\"colorscale\":[[0.0,\"#0d0887\"],[0.1111111111111111,\"#46039f\"],[0.2222222222222222,\"#7201a8\"],[0.3333333333333333,\"#9c179e\"],[0.4444444444444444,\"#bd3786\"],[0.5555555555555556,\"#d8576b\"],[0.6666666666666666,\"#ed7953\"],[0.7777777777777778,\"#fb9f3a\"],[0.8888888888888888,\"#fdca26\"],[1.0,\"#f0f921\"]]}],\"surface\":[{\"type\":\"surface\",\"colorbar\":{\"outlinewidth\":0,\"ticks\":\"\"},\"colorscale\":[[0.0,\"#0d0887\"],[0.1111111111111111,\"#46039f\"],[0.2222222222222222,\"#7201a8\"],[0.3333333333333333,\"#9c179e\"],[0.4444444444444444,\"#bd3786\"],[0.5555555555555556,\"#d8576b\"],[0.6666666666666666,\"#ed7953\"],[0.7777777777777778,\"#fb9f3a\"],[0.8888888888888888,\"#fdca26\"],[1.0,\"#f0f921\"]]}],\"mesh3d\":[{\"type\":\"mesh3d\",\"colorbar\":{\"outlinewidth\":0,\"ticks\":\"\"}}],\"scatter\":[{\"fillpattern\":{\"fillmode\":\"overlay\",\"size\":10,\"solidity\":0.2},\"type\":\"scatter\"}],\"parcoords\":[{\"type\":\"parcoords\",\"line\":{\"colorbar\":{\"outlinewidth\":0,\"ticks\":\"\"}}}],\"scatterpolargl\":[{\"type\":\"scatterpolargl\",\"marker\":{\"colorbar\":{\"outlinewidth\":0,\"ticks\":\"\"}}}],\"bar\":[{\"error_x\":{\"color\":\"#2a3f5f\"},\"error_y\":{\"color\":\"#2a3f5f\"},\"marker\":{\"line\":{\"color\":\"#E5ECF6\",\"width\":0.5},\"pattern\":{\"fillmode\":\"overlay\",\"size\":10,\"solidity\":0.2}},\"type\":\"bar\"}],\"scattergeo\":[{\"type\":\"scattergeo\",\"marker\":{\"colorbar\":{\"outlinewidth\":0,\"ticks\":\"\"}}}],\"scatterpolar\":[{\"type\":\"scatterpolar\",\"marker\":{\"colorbar\":{\"outlinewidth\":0,\"ticks\":\"\"}}}],\"histogram\":[{\"marker\":{\"pattern\":{\"fillmode\":\"overlay\",\"size\":10,\"solidity\":0.2}},\"type\":\"histogram\"}],\"scattergl\":[{\"type\":\"scattergl\",\"marker\":{\"colorbar\":{\"outlinewidth\":0,\"ticks\":\"\"}}}],\"scatter3d\":[{\"type\":\"scatter3d\",\"line\":{\"colorbar\":{\"outlinewidth\":0,\"ticks\":\"\"}},\"marker\":{\"colorbar\":{\"outlinewidth\":0,\"ticks\":\"\"}}}],\"scattermapbox\":[{\"type\":\"scattermapbox\",\"marker\":{\"colorbar\":{\"outlinewidth\":0,\"ticks\":\"\"}}}],\"scatterternary\":[{\"type\":\"scatterternary\",\"marker\":{\"colorbar\":{\"outlinewidth\":0,\"ticks\":\"\"}}}],\"scattercarpet\":[{\"type\":\"scattercarpet\",\"marker\":{\"colorbar\":{\"outlinewidth\":0,\"ticks\":\"\"}}}],\"carpet\":[{\"aaxis\":{\"endlinecolor\":\"#2a3f5f\",\"gridcolor\":\"white\",\"linecolor\":\"white\",\"minorgridcolor\":\"white\",\"startlinecolor\":\"#2a3f5f\"},\"baxis\":{\"endlinecolor\":\"#2a3f5f\",\"gridcolor\":\"white\",\"linecolor\":\"white\",\"minorgridcolor\":\"white\",\"startlinecolor\":\"#2a3f5f\"},\"type\":\"carpet\"}],\"table\":[{\"cells\":{\"fill\":{\"color\":\"#EBF0F8\"},\"line\":{\"color\":\"white\"}},\"header\":{\"fill\":{\"color\":\"#C8D4E3\"},\"line\":{\"color\":\"white\"}},\"type\":\"table\"}],\"barpolar\":[{\"marker\":{\"line\":{\"color\":\"#E5ECF6\",\"width\":0.5},\"pattern\":{\"fillmode\":\"overlay\",\"size\":10,\"solidity\":0.2}},\"type\":\"barpolar\"}],\"pie\":[{\"automargin\":true,\"type\":\"pie\"}]},\"layout\":{\"autotypenumbers\":\"strict\",\"colorway\":[\"#636efa\",\"#EF553B\",\"#00cc96\",\"#ab63fa\",\"#FFA15A\",\"#19d3f3\",\"#FF6692\",\"#B6E880\",\"#FF97FF\",\"#FECB52\"],\"font\":{\"color\":\"#2a3f5f\"},\"hovermode\":\"closest\",\"hoverlabel\":{\"align\":\"left\"},\"paper_bgcolor\":\"white\",\"plot_bgcolor\":\"#E5ECF6\",\"polar\":{\"bgcolor\":\"#E5ECF6\",\"angularaxis\":{\"gridcolor\":\"white\",\"linecolor\":\"white\",\"ticks\":\"\"},\"radialaxis\":{\"gridcolor\":\"white\",\"linecolor\":\"white\",\"ticks\":\"\"}},\"ternary\":{\"bgcolor\":\"#E5ECF6\",\"aaxis\":{\"gridcolor\":\"white\",\"linecolor\":\"white\",\"ticks\":\"\"},\"baxis\":{\"gridcolor\":\"white\",\"linecolor\":\"white\",\"ticks\":\"\"},\"caxis\":{\"gridcolor\":\"white\",\"linecolor\":\"white\",\"ticks\":\"\"}},\"coloraxis\":{\"colorbar\":{\"outlinewidth\":0,\"ticks\":\"\"}},\"colorscale\":{\"sequential\":[[0.0,\"#0d0887\"],[0.1111111111111111,\"#46039f\"],[0.2222222222222222,\"#7201a8\"],[0.3333333333333333,\"#9c179e\"],[0.4444444444444444,\"#bd3786\"],[0.5555555555555556,\"#d8576b\"],[0.6666666666666666,\"#ed7953\"],[0.7777777777777778,\"#fb9f3a\"],[0.8888888888888888,\"#fdca26\"],[1.0,\"#f0f921\"]],\"sequentialminus\":[[0.0,\"#0d0887\"],[0.1111111111111111,\"#46039f\"],[0.2222222222222222,\"#7201a8\"],[0.3333333333333333,\"#9c179e\"],[0.4444444444444444,\"#bd3786\"],[0.5555555555555556,\"#d8576b\"],[0.6666666666666666,\"#ed7953\"],[0.7777777777777778,\"#fb9f3a\"],[0.8888888888888888,\"#fdca26\"],[1.0,\"#f0f921\"]],\"diverging\":[[0,\"#8e0152\"],[0.1,\"#c51b7d\"],[0.2,\"#de77ae\"],[0.3,\"#f1b6da\"],[0.4,\"#fde0ef\"],[0.5,\"#f7f7f7\"],[0.6,\"#e6f5d0\"],[0.7,\"#b8e186\"],[0.8,\"#7fbc41\"],[0.9,\"#4d9221\"],[1,\"#276419\"]]},\"xaxis\":{\"gridcolor\":\"white\",\"linecolor\":\"white\",\"ticks\":\"\",\"title\":{\"standoff\":15},\"zerolinecolor\":\"white\",\"automargin\":true,\"zerolinewidth\":2},\"yaxis\":{\"gridcolor\":\"white\",\"linecolor\":\"white\",\"ticks\":\"\",\"title\":{\"standoff\":15},\"zerolinecolor\":\"white\",\"automargin\":true,\"zerolinewidth\":2},\"scene\":{\"xaxis\":{\"backgroundcolor\":\"#E5ECF6\",\"gridcolor\":\"white\",\"linecolor\":\"white\",\"showbackground\":true,\"ticks\":\"\",\"zerolinecolor\":\"white\",\"gridwidth\":2},\"yaxis\":{\"backgroundcolor\":\"#E5ECF6\",\"gridcolor\":\"white\",\"linecolor\":\"white\",\"showbackground\":true,\"ticks\":\"\",\"zerolinecolor\":\"white\",\"gridwidth\":2},\"zaxis\":{\"backgroundcolor\":\"#E5ECF6\",\"gridcolor\":\"white\",\"linecolor\":\"white\",\"showbackground\":true,\"ticks\":\"\",\"zerolinecolor\":\"white\",\"gridwidth\":2}},\"shapedefaults\":{\"line\":{\"color\":\"#2a3f5f\"}},\"annotationdefaults\":{\"arrowcolor\":\"#2a3f5f\",\"arrowhead\":0,\"arrowwidth\":1},\"geo\":{\"bgcolor\":\"white\",\"landcolor\":\"#E5ECF6\",\"subunitcolor\":\"white\",\"showland\":true,\"showlakes\":true,\"lakecolor\":\"white\"},\"title\":{\"x\":0.05},\"mapbox\":{\"style\":\"light\"}}},\"xaxis\":{\"anchor\":\"y\",\"domain\":[0.0,1.0],\"title\":{\"text\":\"minute\"}},\"yaxis\":{\"anchor\":\"x\",\"domain\":[0.0,1.0],\"title\":{\"text\":\"sum of Goals_per_min_conceeded\"}},\"legend\":{\"title\":{\"text\":\"name\"},\"tracegroupgap\":0},\"title\":{\"text\":\"Tor bekommen mit Mandl\"},\"barmode\":\"overlay\"},                        {\"responsive\": true}                    ).then(function(){\n",
       "                            \n",
       "var gd = document.getElementById('34224764-ac55-4792-bddb-53034f0fd133');\n",
       "var x = new MutationObserver(function (mutations, observer) {{\n",
       "        var display = window.getComputedStyle(gd).display;\n",
       "        if (!display || display === 'none') {{\n",
       "            console.log([gd, 'removed!']);\n",
       "            Plotly.purge(gd);\n",
       "            observer.disconnect();\n",
       "        }}\n",
       "}});\n",
       "\n",
       "// Listen for the removal of the full notebook cells\n",
       "var notebookContainer = gd.closest('#notebook-container');\n",
       "if (notebookContainer) {{\n",
       "    x.observe(notebookContainer, {childList: true});\n",
       "}}\n",
       "\n",
       "// Listen for the clearing of the current output cell\n",
       "var outputEl = gd.closest('.output');\n",
       "if (outputEl) {{\n",
       "    x.observe(outputEl, {childList: true});\n",
       "}}\n",
       "\n",
       "                        })                };                });            </script>        </div>"
      ]
     },
     "metadata": {},
     "output_type": "display_data"
    }
   ],
   "source": [
    "df=query_database(query_table_goals_conceeded.format(trainer_zeit[0],trainer_zeit[1],vereine[0],vereine[0]),database=\"verbands.db\")\n",
    "fig=px.histogram(df, x=\"minute\",y='Goals_per_min_conceeded' ,color=\"name\",title=\"Wann Tore bekommen mit Mandl\")\n",
    "fig.update_layout(barmode='overlay')\n",
    "fig.update_traces(xbins=dict( # bins used for histogram\n",
    "        start=0.0,\n",
    "        end=90.0,\n",
    "        size=10\n",
    "    ))\n",
    "fig.show()"
   ]
  },
  {
   "cell_type": "code",
   "execution_count": null,
   "id": "fb42d01e",
   "metadata": {
    "slideshow": {
     "slide_type": "subslide"
    }
   },
   "outputs": [
    {
     "data": {
      "application/vnd.plotly.v1+json": {
       "config": {
        "plotlyServerURL": "https://plot.ly"
       },
       "data": [
        {
         "alignmentgroup": "True",
         "bingroup": "x",
         "histfunc": "sum",
         "hovertemplate": "name=ASK-BSC Bruck/Leitha<br>minute=%{x}<br>sum of Goals_per_min_conceeded=%{y}<extra></extra>",
         "legendgroup": "ASK-BSC Bruck/Leitha",
         "marker": {
          "color": "#636efa",
          "pattern": {
           "shape": ""
          }
         },
         "name": "ASK-BSC Bruck/Leitha",
         "offsetgroup": "ASK-BSC Bruck/Leitha",
         "orientation": "v",
         "showlegend": true,
         "type": "histogram",
         "x": [
          8,
          20,
          22,
          26,
          27,
          29,
          40,
          41,
          42,
          44,
          45,
          47,
          50,
          53,
          61,
          62,
          64,
          67,
          68,
          70,
          71,
          73,
          77,
          81,
          83,
          85,
          87,
          88,
          92,
          "90+1"
         ],
         "xaxis": "x",
         "xbins": {
          "end": 90,
          "size": 10,
          "start": 0
         },
         "y": [
          1,
          1,
          1,
          1,
          1,
          1,
          1,
          1,
          1,
          1,
          1,
          2,
          1,
          1,
          1,
          1,
          1,
          1,
          2,
          1,
          2,
          1,
          1,
          1,
          2,
          1,
          1,
          1,
          1,
          2
         ],
         "yaxis": "y"
        },
        {
         "alignmentgroup": "True",
         "bingroup": "x",
         "histfunc": "sum",
         "hovertemplate": "name=Admira Juniors<br>minute=%{x}<br>sum of Goals_per_min_conceeded=%{y}<extra></extra>",
         "legendgroup": "Admira Juniors",
         "marker": {
          "color": "#EF553B",
          "pattern": {
           "shape": ""
          }
         },
         "name": "Admira Juniors",
         "offsetgroup": "Admira Juniors",
         "orientation": "v",
         "showlegend": true,
         "type": "histogram",
         "x": [
          1,
          6,
          14,
          19,
          20,
          23,
          28,
          30,
          38,
          40,
          44,
          45,
          46,
          47,
          51,
          52,
          54,
          55,
          59,
          64,
          65,
          67,
          76,
          78,
          83,
          84,
          85,
          87,
          89,
          "90+1",
          "90+3",
          "90+4"
         ],
         "xaxis": "x",
         "xbins": {
          "end": 90,
          "size": 10,
          "start": 0
         },
         "y": [
          1,
          1,
          1,
          1,
          1,
          1,
          1,
          1,
          2,
          1,
          1,
          2,
          2,
          1,
          1,
          1,
          1,
          1,
          1,
          1,
          2,
          1,
          1,
          2,
          1,
          1,
          1,
          1,
          1,
          1,
          2,
          1
         ],
         "yaxis": "y"
        },
        {
         "alignmentgroup": "True",
         "bingroup": "x",
         "histfunc": "sum",
         "hovertemplate": "name=Draßburg<br>minute=%{x}<br>sum of Goals_per_min_conceeded=%{y}<extra></extra>",
         "legendgroup": "Draßburg",
         "marker": {
          "color": "#00cc96",
          "pattern": {
           "shape": ""
          }
         },
         "name": "Draßburg",
         "offsetgroup": "Draßburg",
         "orientation": "v",
         "showlegend": true,
         "type": "histogram",
         "x": [
          2,
          3,
          11,
          17,
          19,
          21,
          29,
          32,
          33,
          36,
          38,
          39,
          40,
          43,
          45,
          48,
          51,
          52,
          55,
          59,
          60,
          61,
          63,
          68,
          69,
          73,
          74,
          80,
          88,
          90,
          "45+3",
          "90+1",
          "90+3",
          "90+4",
          "90+5"
         ],
         "xaxis": "x",
         "xbins": {
          "end": 90,
          "size": 10,
          "start": 0
         },
         "y": [
          1,
          1,
          1,
          1,
          1,
          1,
          1,
          1,
          1,
          2,
          1,
          2,
          2,
          1,
          2,
          1,
          1,
          1,
          2,
          1,
          1,
          3,
          1,
          1,
          1,
          1,
          1,
          1,
          2,
          2,
          1,
          3,
          1,
          1,
          2
         ],
         "yaxis": "y"
        },
        {
         "alignmentgroup": "True",
         "bingroup": "x",
         "histfunc": "sum",
         "hovertemplate": "name=FC Marchfeld / Mannsdorf-Große.<br>minute=%{x}<br>sum of Goals_per_min_conceeded=%{y}<extra></extra>",
         "legendgroup": "FC Marchfeld / Mannsdorf-Große.",
         "marker": {
          "color": "#ab63fa",
          "pattern": {
           "shape": ""
          }
         },
         "name": "FC Marchfeld / Mannsdorf-Große.",
         "offsetgroup": "FC Marchfeld / Mannsdorf-Große.",
         "orientation": "v",
         "showlegend": true,
         "type": "histogram",
         "x": [
          10,
          11,
          21,
          22,
          24,
          28,
          30,
          38,
          48,
          52,
          58,
          59,
          61,
          63,
          64,
          66,
          70,
          71,
          74,
          77,
          80,
          82,
          83,
          84,
          86,
          "90+3"
         ],
         "xaxis": "x",
         "xbins": {
          "end": 90,
          "size": 10,
          "start": 0
         },
         "y": [
          1,
          1,
          2,
          1,
          2,
          1,
          1,
          3,
          1,
          1,
          2,
          1,
          2,
          1,
          1,
          1,
          1,
          1,
          1,
          1,
          1,
          1,
          1,
          1,
          1,
          1
         ],
         "yaxis": "y"
        },
        {
         "alignmentgroup": "True",
         "bingroup": "x",
         "histfunc": "sum",
         "hovertemplate": "name=FC Mauerwerk<br>minute=%{x}<br>sum of Goals_per_min_conceeded=%{y}<extra></extra>",
         "legendgroup": "FC Mauerwerk",
         "marker": {
          "color": "#FFA15A",
          "pattern": {
           "shape": ""
          }
         },
         "name": "FC Mauerwerk",
         "offsetgroup": "FC Mauerwerk",
         "orientation": "v",
         "showlegend": true,
         "type": "histogram",
         "x": [
          1,
          2,
          6,
          8,
          11,
          12,
          15,
          17,
          18,
          20,
          26,
          30,
          34,
          43,
          48,
          51,
          57,
          59,
          61,
          63,
          65,
          69,
          73,
          74,
          75,
          76,
          77,
          78,
          80,
          81,
          86,
          88,
          89,
          90,
          93,
          "90+3"
         ],
         "xaxis": "x",
         "xbins": {
          "end": 90,
          "size": 10,
          "start": 0
         },
         "y": [
          1,
          1,
          1,
          1,
          1,
          1,
          1,
          2,
          4,
          1,
          2,
          1,
          1,
          1,
          1,
          1,
          3,
          1,
          1,
          1,
          1,
          1,
          2,
          1,
          1,
          1,
          2,
          1,
          1,
          3,
          1,
          1,
          2,
          1,
          1,
          1
         ],
         "yaxis": "y"
        },
        {
         "alignmentgroup": "True",
         "bingroup": "x",
         "histfunc": "sum",
         "hovertemplate": "name=FCM Traiskirchen<br>minute=%{x}<br>sum of Goals_per_min_conceeded=%{y}<extra></extra>",
         "legendgroup": "FCM Traiskirchen",
         "marker": {
          "color": "#19d3f3",
          "pattern": {
           "shape": ""
          }
         },
         "name": "FCM Traiskirchen",
         "offsetgroup": "FCM Traiskirchen",
         "orientation": "v",
         "showlegend": true,
         "type": "histogram",
         "x": [
          3,
          7,
          9,
          10,
          14,
          15,
          17,
          18,
          19,
          26,
          32,
          33,
          42,
          52,
          56,
          58,
          59,
          64,
          68,
          69,
          74,
          75,
          84,
          86,
          87,
          88,
          "90+4"
         ],
         "xaxis": "x",
         "xbins": {
          "end": 90,
          "size": 10,
          "start": 0
         },
         "y": [
          1,
          1,
          1,
          1,
          1,
          1,
          1,
          1,
          1,
          1,
          1,
          1,
          1,
          1,
          3,
          1,
          1,
          1,
          2,
          1,
          1,
          1,
          1,
          1,
          2,
          1,
          1
         ],
         "yaxis": "y"
        },
        {
         "alignmentgroup": "True",
         "bingroup": "x",
         "histfunc": "sum",
         "hovertemplate": "name=First Vienna FC 1894<br>minute=%{x}<br>sum of Goals_per_min_conceeded=%{y}<extra></extra>",
         "legendgroup": "First Vienna FC 1894",
         "marker": {
          "color": "#FF6692",
          "pattern": {
           "shape": ""
          }
         },
         "name": "First Vienna FC 1894",
         "offsetgroup": "First Vienna FC 1894",
         "orientation": "v",
         "showlegend": true,
         "type": "histogram",
         "x": [
          7,
          14,
          19,
          24,
          31,
          37,
          39,
          66,
          70,
          73,
          83,
          85,
          94
         ],
         "xaxis": "x",
         "xbins": {
          "end": 90,
          "size": 10,
          "start": 0
         },
         "y": [
          1,
          1,
          1,
          1,
          1,
          1,
          2,
          1,
          3,
          1,
          2,
          1,
          1
         ],
         "yaxis": "y"
        },
        {
         "alignmentgroup": "True",
         "bingroup": "x",
         "histfunc": "sum",
         "hovertemplate": "name=SC Neusiedl am See 1919<br>minute=%{x}<br>sum of Goals_per_min_conceeded=%{y}<extra></extra>",
         "legendgroup": "SC Neusiedl am See 1919",
         "marker": {
          "color": "#B6E880",
          "pattern": {
           "shape": ""
          }
         },
         "name": "SC Neusiedl am See 1919",
         "offsetgroup": "SC Neusiedl am See 1919",
         "orientation": "v",
         "showlegend": true,
         "type": "histogram",
         "x": [
          2,
          6,
          22,
          24,
          26,
          27,
          32,
          42,
          48,
          50,
          51,
          53,
          62,
          63,
          70,
          74,
          75,
          80,
          83,
          90,
          "45+1",
          "45+2",
          "90+1",
          "90+3"
         ],
         "xaxis": "x",
         "xbins": {
          "end": 90,
          "size": 10,
          "start": 0
         },
         "y": [
          2,
          2,
          1,
          2,
          1,
          1,
          1,
          1,
          1,
          1,
          1,
          1,
          1,
          2,
          1,
          1,
          1,
          1,
          1,
          2,
          1,
          1,
          1,
          1
         ],
         "yaxis": "y"
        },
        {
         "alignmentgroup": "True",
         "bingroup": "x",
         "histfunc": "sum",
         "hovertemplate": "name=SC Wiener Neustadt<br>minute=%{x}<br>sum of Goals_per_min_conceeded=%{y}<extra></extra>",
         "legendgroup": "SC Wiener Neustadt",
         "marker": {
          "color": "#FF97FF",
          "pattern": {
           "shape": ""
          }
         },
         "name": "SC Wiener Neustadt",
         "offsetgroup": "SC Wiener Neustadt",
         "orientation": "v",
         "showlegend": true,
         "type": "histogram",
         "x": [
          3,
          4,
          9,
          15,
          18,
          22,
          23,
          26,
          28,
          30,
          31,
          32,
          34,
          41,
          43,
          44,
          46,
          47,
          48,
          50,
          51,
          52,
          54,
          60,
          66,
          69,
          70,
          71,
          72,
          73,
          75,
          76,
          85,
          86,
          89,
          "90+1",
          "90+2"
         ],
         "xaxis": "x",
         "xbins": {
          "end": 90,
          "size": 10,
          "start": 0
         },
         "y": [
          1,
          1,
          2,
          2,
          2,
          1,
          2,
          2,
          1,
          1,
          1,
          1,
          1,
          1,
          1,
          1,
          1,
          1,
          1,
          2,
          1,
          2,
          1,
          1,
          1,
          1,
          2,
          1,
          1,
          1,
          1,
          1,
          1,
          3,
          1,
          1,
          1
         ],
         "yaxis": "y"
        },
        {
         "alignmentgroup": "True",
         "bingroup": "x",
         "histfunc": "sum",
         "hovertemplate": "name=SV Leobendorf<br>minute=%{x}<br>sum of Goals_per_min_conceeded=%{y}<extra></extra>",
         "legendgroup": "SV Leobendorf",
         "marker": {
          "color": "#FECB52",
          "pattern": {
           "shape": ""
          }
         },
         "name": "SV Leobendorf",
         "offsetgroup": "SV Leobendorf",
         "orientation": "v",
         "showlegend": true,
         "type": "histogram",
         "x": [
          6,
          8,
          9,
          12,
          14,
          21,
          23,
          32,
          38,
          39,
          41,
          56,
          59,
          62,
          66,
          68,
          69,
          73,
          77,
          80,
          85,
          87,
          89,
          "90+1",
          "90+3",
          "90+4"
         ],
         "xaxis": "x",
         "xbins": {
          "end": 90,
          "size": 10,
          "start": 0
         },
         "y": [
          1,
          1,
          1,
          1,
          1,
          1,
          1,
          1,
          1,
          1,
          1,
          1,
          1,
          1,
          1,
          1,
          2,
          1,
          1,
          1,
          1,
          1,
          1,
          2,
          1,
          1
         ],
         "yaxis": "y"
        },
        {
         "alignmentgroup": "True",
         "bingroup": "x",
         "histfunc": "sum",
         "hovertemplate": "name=Stripfing<br>minute=%{x}<br>sum of Goals_per_min_conceeded=%{y}<extra></extra>",
         "legendgroup": "Stripfing",
         "marker": {
          "color": "#636efa",
          "pattern": {
           "shape": ""
          }
         },
         "name": "Stripfing",
         "offsetgroup": "Stripfing",
         "orientation": "v",
         "showlegend": true,
         "type": "histogram",
         "x": [
          32,
          41,
          43,
          50,
          57,
          59,
          62,
          66,
          79,
          86,
          89,
          90,
          "45+2",
          "90+1"
         ],
         "xaxis": "x",
         "xbins": {
          "end": 90,
          "size": 10,
          "start": 0
         },
         "y": [
          1,
          1,
          1,
          1,
          2,
          1,
          1,
          1,
          1,
          1,
          1,
          1,
          1,
          1
         ],
         "yaxis": "y"
        },
        {
         "alignmentgroup": "True",
         "bingroup": "x",
         "histfunc": "sum",
         "hovertemplate": "name=TWL Elektra<br>minute=%{x}<br>sum of Goals_per_min_conceeded=%{y}<extra></extra>",
         "legendgroup": "TWL Elektra",
         "marker": {
          "color": "#EF553B",
          "pattern": {
           "shape": ""
          }
         },
         "name": "TWL Elektra",
         "offsetgroup": "TWL Elektra",
         "orientation": "v",
         "showlegend": true,
         "type": "histogram",
         "x": [
          7,
          8,
          9,
          14,
          19,
          23,
          25,
          30,
          34,
          44,
          45,
          52,
          53,
          72,
          75,
          83,
          85,
          86,
          87,
          90,
          "90+3",
          "90+9"
         ],
         "xaxis": "x",
         "xbins": {
          "end": 90,
          "size": 10,
          "start": 0
         },
         "y": [
          1,
          1,
          1,
          1,
          1,
          1,
          1,
          1,
          1,
          1,
          1,
          1,
          1,
          1,
          1,
          1,
          1,
          1,
          1,
          1,
          1,
          1
         ],
         "yaxis": "y"
        },
        {
         "alignmentgroup": "True",
         "bingroup": "x",
         "histfunc": "sum",
         "hovertemplate": "name=Wiener Sport-Club<br>minute=%{x}<br>sum of Goals_per_min_conceeded=%{y}<extra></extra>",
         "legendgroup": "Wiener Sport-Club",
         "marker": {
          "color": "#00cc96",
          "pattern": {
           "shape": ""
          }
         },
         "name": "Wiener Sport-Club",
         "offsetgroup": "Wiener Sport-Club",
         "orientation": "v",
         "showlegend": true,
         "type": "histogram",
         "x": [
          2,
          3,
          8,
          10,
          13,
          25,
          32,
          40,
          41,
          42,
          43,
          55,
          61,
          64,
          65,
          68,
          71,
          74,
          75,
          76,
          78,
          81,
          87,
          90,
          "90+4"
         ],
         "xaxis": "x",
         "xbins": {
          "end": 90,
          "size": 10,
          "start": 0
         },
         "y": [
          1,
          1,
          1,
          1,
          1,
          1,
          1,
          1,
          1,
          1,
          1,
          1,
          1,
          1,
          1,
          1,
          1,
          1,
          1,
          1,
          1,
          1,
          1,
          2,
          1
         ],
         "yaxis": "y"
        },
        {
         "alignmentgroup": "True",
         "bingroup": "x",
         "histfunc": "sum",
         "hovertemplate": "name=Wiener Viktoria<br>minute=%{x}<br>sum of Goals_per_min_conceeded=%{y}<extra></extra>",
         "legendgroup": "Wiener Viktoria",
         "marker": {
          "color": "#ab63fa",
          "pattern": {
           "shape": ""
          }
         },
         "name": "Wiener Viktoria",
         "offsetgroup": "Wiener Viktoria",
         "orientation": "v",
         "showlegend": true,
         "type": "histogram",
         "x": [
          3,
          7,
          10,
          13,
          20,
          21,
          30,
          31,
          33,
          40,
          43,
          47,
          52,
          53,
          56,
          57,
          60,
          63,
          66,
          67,
          70,
          71,
          75,
          76,
          77,
          81,
          82,
          83,
          86,
          93,
          "45+1"
         ],
         "xaxis": "x",
         "xbins": {
          "end": 90,
          "size": 10,
          "start": 0
         },
         "y": [
          1,
          1,
          1,
          1,
          1,
          1,
          1,
          1,
          1,
          2,
          1,
          1,
          1,
          1,
          1,
          1,
          1,
          1,
          2,
          1,
          1,
          1,
          1,
          1,
          1,
          1,
          1,
          1,
          1,
          1,
          1
         ],
         "yaxis": "y"
        }
       ],
       "layout": {
        "barmode": "overlay",
        "legend": {
         "title": {
          "text": "name"
         },
         "tracegroupgap": 0
        },
        "template": {
         "data": {
          "bar": [
           {
            "error_x": {
             "color": "#2a3f5f"
            },
            "error_y": {
             "color": "#2a3f5f"
            },
            "marker": {
             "line": {
              "color": "#E5ECF6",
              "width": 0.5
             },
             "pattern": {
              "fillmode": "overlay",
              "size": 10,
              "solidity": 0.2
             }
            },
            "type": "bar"
           }
          ],
          "barpolar": [
           {
            "marker": {
             "line": {
              "color": "#E5ECF6",
              "width": 0.5
             },
             "pattern": {
              "fillmode": "overlay",
              "size": 10,
              "solidity": 0.2
             }
            },
            "type": "barpolar"
           }
          ],
          "carpet": [
           {
            "aaxis": {
             "endlinecolor": "#2a3f5f",
             "gridcolor": "white",
             "linecolor": "white",
             "minorgridcolor": "white",
             "startlinecolor": "#2a3f5f"
            },
            "baxis": {
             "endlinecolor": "#2a3f5f",
             "gridcolor": "white",
             "linecolor": "white",
             "minorgridcolor": "white",
             "startlinecolor": "#2a3f5f"
            },
            "type": "carpet"
           }
          ],
          "choropleth": [
           {
            "colorbar": {
             "outlinewidth": 0,
             "ticks": ""
            },
            "type": "choropleth"
           }
          ],
          "contour": [
           {
            "colorbar": {
             "outlinewidth": 0,
             "ticks": ""
            },
            "colorscale": [
             [
              0,
              "#0d0887"
             ],
             [
              0.1111111111111111,
              "#46039f"
             ],
             [
              0.2222222222222222,
              "#7201a8"
             ],
             [
              0.3333333333333333,
              "#9c179e"
             ],
             [
              0.4444444444444444,
              "#bd3786"
             ],
             [
              0.5555555555555556,
              "#d8576b"
             ],
             [
              0.6666666666666666,
              "#ed7953"
             ],
             [
              0.7777777777777778,
              "#fb9f3a"
             ],
             [
              0.8888888888888888,
              "#fdca26"
             ],
             [
              1,
              "#f0f921"
             ]
            ],
            "type": "contour"
           }
          ],
          "contourcarpet": [
           {
            "colorbar": {
             "outlinewidth": 0,
             "ticks": ""
            },
            "type": "contourcarpet"
           }
          ],
          "heatmap": [
           {
            "colorbar": {
             "outlinewidth": 0,
             "ticks": ""
            },
            "colorscale": [
             [
              0,
              "#0d0887"
             ],
             [
              0.1111111111111111,
              "#46039f"
             ],
             [
              0.2222222222222222,
              "#7201a8"
             ],
             [
              0.3333333333333333,
              "#9c179e"
             ],
             [
              0.4444444444444444,
              "#bd3786"
             ],
             [
              0.5555555555555556,
              "#d8576b"
             ],
             [
              0.6666666666666666,
              "#ed7953"
             ],
             [
              0.7777777777777778,
              "#fb9f3a"
             ],
             [
              0.8888888888888888,
              "#fdca26"
             ],
             [
              1,
              "#f0f921"
             ]
            ],
            "type": "heatmap"
           }
          ],
          "heatmapgl": [
           {
            "colorbar": {
             "outlinewidth": 0,
             "ticks": ""
            },
            "colorscale": [
             [
              0,
              "#0d0887"
             ],
             [
              0.1111111111111111,
              "#46039f"
             ],
             [
              0.2222222222222222,
              "#7201a8"
             ],
             [
              0.3333333333333333,
              "#9c179e"
             ],
             [
              0.4444444444444444,
              "#bd3786"
             ],
             [
              0.5555555555555556,
              "#d8576b"
             ],
             [
              0.6666666666666666,
              "#ed7953"
             ],
             [
              0.7777777777777778,
              "#fb9f3a"
             ],
             [
              0.8888888888888888,
              "#fdca26"
             ],
             [
              1,
              "#f0f921"
             ]
            ],
            "type": "heatmapgl"
           }
          ],
          "histogram": [
           {
            "marker": {
             "pattern": {
              "fillmode": "overlay",
              "size": 10,
              "solidity": 0.2
             }
            },
            "type": "histogram"
           }
          ],
          "histogram2d": [
           {
            "colorbar": {
             "outlinewidth": 0,
             "ticks": ""
            },
            "colorscale": [
             [
              0,
              "#0d0887"
             ],
             [
              0.1111111111111111,
              "#46039f"
             ],
             [
              0.2222222222222222,
              "#7201a8"
             ],
             [
              0.3333333333333333,
              "#9c179e"
             ],
             [
              0.4444444444444444,
              "#bd3786"
             ],
             [
              0.5555555555555556,
              "#d8576b"
             ],
             [
              0.6666666666666666,
              "#ed7953"
             ],
             [
              0.7777777777777778,
              "#fb9f3a"
             ],
             [
              0.8888888888888888,
              "#fdca26"
             ],
             [
              1,
              "#f0f921"
             ]
            ],
            "type": "histogram2d"
           }
          ],
          "histogram2dcontour": [
           {
            "colorbar": {
             "outlinewidth": 0,
             "ticks": ""
            },
            "colorscale": [
             [
              0,
              "#0d0887"
             ],
             [
              0.1111111111111111,
              "#46039f"
             ],
             [
              0.2222222222222222,
              "#7201a8"
             ],
             [
              0.3333333333333333,
              "#9c179e"
             ],
             [
              0.4444444444444444,
              "#bd3786"
             ],
             [
              0.5555555555555556,
              "#d8576b"
             ],
             [
              0.6666666666666666,
              "#ed7953"
             ],
             [
              0.7777777777777778,
              "#fb9f3a"
             ],
             [
              0.8888888888888888,
              "#fdca26"
             ],
             [
              1,
              "#f0f921"
             ]
            ],
            "type": "histogram2dcontour"
           }
          ],
          "mesh3d": [
           {
            "colorbar": {
             "outlinewidth": 0,
             "ticks": ""
            },
            "type": "mesh3d"
           }
          ],
          "parcoords": [
           {
            "line": {
             "colorbar": {
              "outlinewidth": 0,
              "ticks": ""
             }
            },
            "type": "parcoords"
           }
          ],
          "pie": [
           {
            "automargin": true,
            "type": "pie"
           }
          ],
          "scatter": [
           {
            "fillpattern": {
             "fillmode": "overlay",
             "size": 10,
             "solidity": 0.2
            },
            "type": "scatter"
           }
          ],
          "scatter3d": [
           {
            "line": {
             "colorbar": {
              "outlinewidth": 0,
              "ticks": ""
             }
            },
            "marker": {
             "colorbar": {
              "outlinewidth": 0,
              "ticks": ""
             }
            },
            "type": "scatter3d"
           }
          ],
          "scattercarpet": [
           {
            "marker": {
             "colorbar": {
              "outlinewidth": 0,
              "ticks": ""
             }
            },
            "type": "scattercarpet"
           }
          ],
          "scattergeo": [
           {
            "marker": {
             "colorbar": {
              "outlinewidth": 0,
              "ticks": ""
             }
            },
            "type": "scattergeo"
           }
          ],
          "scattergl": [
           {
            "marker": {
             "colorbar": {
              "outlinewidth": 0,
              "ticks": ""
             }
            },
            "type": "scattergl"
           }
          ],
          "scattermapbox": [
           {
            "marker": {
             "colorbar": {
              "outlinewidth": 0,
              "ticks": ""
             }
            },
            "type": "scattermapbox"
           }
          ],
          "scatterpolar": [
           {
            "marker": {
             "colorbar": {
              "outlinewidth": 0,
              "ticks": ""
             }
            },
            "type": "scatterpolar"
           }
          ],
          "scatterpolargl": [
           {
            "marker": {
             "colorbar": {
              "outlinewidth": 0,
              "ticks": ""
             }
            },
            "type": "scatterpolargl"
           }
          ],
          "scatterternary": [
           {
            "marker": {
             "colorbar": {
              "outlinewidth": 0,
              "ticks": ""
             }
            },
            "type": "scatterternary"
           }
          ],
          "surface": [
           {
            "colorbar": {
             "outlinewidth": 0,
             "ticks": ""
            },
            "colorscale": [
             [
              0,
              "#0d0887"
             ],
             [
              0.1111111111111111,
              "#46039f"
             ],
             [
              0.2222222222222222,
              "#7201a8"
             ],
             [
              0.3333333333333333,
              "#9c179e"
             ],
             [
              0.4444444444444444,
              "#bd3786"
             ],
             [
              0.5555555555555556,
              "#d8576b"
             ],
             [
              0.6666666666666666,
              "#ed7953"
             ],
             [
              0.7777777777777778,
              "#fb9f3a"
             ],
             [
              0.8888888888888888,
              "#fdca26"
             ],
             [
              1,
              "#f0f921"
             ]
            ],
            "type": "surface"
           }
          ],
          "table": [
           {
            "cells": {
             "fill": {
              "color": "#EBF0F8"
             },
             "line": {
              "color": "white"
             }
            },
            "header": {
             "fill": {
              "color": "#C8D4E3"
             },
             "line": {
              "color": "white"
             }
            },
            "type": "table"
           }
          ]
         },
         "layout": {
          "annotationdefaults": {
           "arrowcolor": "#2a3f5f",
           "arrowhead": 0,
           "arrowwidth": 1
          },
          "autotypenumbers": "strict",
          "coloraxis": {
           "colorbar": {
            "outlinewidth": 0,
            "ticks": ""
           }
          },
          "colorscale": {
           "diverging": [
            [
             0,
             "#8e0152"
            ],
            [
             0.1,
             "#c51b7d"
            ],
            [
             0.2,
             "#de77ae"
            ],
            [
             0.3,
             "#f1b6da"
            ],
            [
             0.4,
             "#fde0ef"
            ],
            [
             0.5,
             "#f7f7f7"
            ],
            [
             0.6,
             "#e6f5d0"
            ],
            [
             0.7,
             "#b8e186"
            ],
            [
             0.8,
             "#7fbc41"
            ],
            [
             0.9,
             "#4d9221"
            ],
            [
             1,
             "#276419"
            ]
           ],
           "sequential": [
            [
             0,
             "#0d0887"
            ],
            [
             0.1111111111111111,
             "#46039f"
            ],
            [
             0.2222222222222222,
             "#7201a8"
            ],
            [
             0.3333333333333333,
             "#9c179e"
            ],
            [
             0.4444444444444444,
             "#bd3786"
            ],
            [
             0.5555555555555556,
             "#d8576b"
            ],
            [
             0.6666666666666666,
             "#ed7953"
            ],
            [
             0.7777777777777778,
             "#fb9f3a"
            ],
            [
             0.8888888888888888,
             "#fdca26"
            ],
            [
             1,
             "#f0f921"
            ]
           ],
           "sequentialminus": [
            [
             0,
             "#0d0887"
            ],
            [
             0.1111111111111111,
             "#46039f"
            ],
            [
             0.2222222222222222,
             "#7201a8"
            ],
            [
             0.3333333333333333,
             "#9c179e"
            ],
            [
             0.4444444444444444,
             "#bd3786"
            ],
            [
             0.5555555555555556,
             "#d8576b"
            ],
            [
             0.6666666666666666,
             "#ed7953"
            ],
            [
             0.7777777777777778,
             "#fb9f3a"
            ],
            [
             0.8888888888888888,
             "#fdca26"
            ],
            [
             1,
             "#f0f921"
            ]
           ]
          },
          "colorway": [
           "#636efa",
           "#EF553B",
           "#00cc96",
           "#ab63fa",
           "#FFA15A",
           "#19d3f3",
           "#FF6692",
           "#B6E880",
           "#FF97FF",
           "#FECB52"
          ],
          "font": {
           "color": "#2a3f5f"
          },
          "geo": {
           "bgcolor": "white",
           "lakecolor": "white",
           "landcolor": "#E5ECF6",
           "showlakes": true,
           "showland": true,
           "subunitcolor": "white"
          },
          "hoverlabel": {
           "align": "left"
          },
          "hovermode": "closest",
          "mapbox": {
           "style": "light"
          },
          "paper_bgcolor": "white",
          "plot_bgcolor": "#E5ECF6",
          "polar": {
           "angularaxis": {
            "gridcolor": "white",
            "linecolor": "white",
            "ticks": ""
           },
           "bgcolor": "#E5ECF6",
           "radialaxis": {
            "gridcolor": "white",
            "linecolor": "white",
            "ticks": ""
           }
          },
          "scene": {
           "xaxis": {
            "backgroundcolor": "#E5ECF6",
            "gridcolor": "white",
            "gridwidth": 2,
            "linecolor": "white",
            "showbackground": true,
            "ticks": "",
            "zerolinecolor": "white"
           },
           "yaxis": {
            "backgroundcolor": "#E5ECF6",
            "gridcolor": "white",
            "gridwidth": 2,
            "linecolor": "white",
            "showbackground": true,
            "ticks": "",
            "zerolinecolor": "white"
           },
           "zaxis": {
            "backgroundcolor": "#E5ECF6",
            "gridcolor": "white",
            "gridwidth": 2,
            "linecolor": "white",
            "showbackground": true,
            "ticks": "",
            "zerolinecolor": "white"
           }
          },
          "shapedefaults": {
           "line": {
            "color": "#2a3f5f"
           }
          },
          "ternary": {
           "aaxis": {
            "gridcolor": "white",
            "linecolor": "white",
            "ticks": ""
           },
           "baxis": {
            "gridcolor": "white",
            "linecolor": "white",
            "ticks": ""
           },
           "bgcolor": "#E5ECF6",
           "caxis": {
            "gridcolor": "white",
            "linecolor": "white",
            "ticks": ""
           }
          },
          "title": {
           "x": 0.05
          },
          "xaxis": {
           "automargin": true,
           "gridcolor": "white",
           "linecolor": "white",
           "ticks": "",
           "title": {
            "standoff": 15
           },
           "zerolinecolor": "white",
           "zerolinewidth": 2
          },
          "yaxis": {
           "automargin": true,
           "gridcolor": "white",
           "linecolor": "white",
           "ticks": "",
           "title": {
            "standoff": 15
           },
           "zerolinecolor": "white",
           "zerolinewidth": 2
          }
         }
        },
        "title": {
         "text": "Tor bekommen vor Mandl"
        },
        "xaxis": {
         "anchor": "y",
         "domain": [
          0,
          1
         ],
         "title": {
          "text": "minute"
         }
        },
        "yaxis": {
         "anchor": "x",
         "domain": [
          0,
          1
         ],
         "title": {
          "text": "sum of Goals_per_min_conceeded"
         }
        }
       }
      },
      "text/html": [
       "<div>                            <div id=\"780e50e9-9730-4b7a-afc0-0e2e14daf3f9\" class=\"plotly-graph-div\" style=\"height:525px; width:100%;\"></div>            <script type=\"text/javascript\">                require([\"plotly\"], function(Plotly) {                    window.PLOTLYENV=window.PLOTLYENV || {};                                    if (document.getElementById(\"780e50e9-9730-4b7a-afc0-0e2e14daf3f9\")) {                    Plotly.newPlot(                        \"780e50e9-9730-4b7a-afc0-0e2e14daf3f9\",                        [{\"alignmentgroup\":\"True\",\"bingroup\":\"x\",\"histfunc\":\"sum\",\"hovertemplate\":\"name=ASK-BSC Bruck/Leitha<br>minute=%{x}<br>sum of Goals_per_min_conceeded=%{y}<extra></extra>\",\"legendgroup\":\"ASK-BSC Bruck/Leitha\",\"marker\":{\"color\":\"#636efa\",\"pattern\":{\"shape\":\"\"}},\"name\":\"ASK-BSC Bruck/Leitha\",\"offsetgroup\":\"ASK-BSC Bruck/Leitha\",\"orientation\":\"v\",\"showlegend\":true,\"x\":[8,20,22,26,27,29,40,41,42,44,45,47,50,53,61,62,64,67,68,70,71,73,77,81,83,85,87,88,92,\"90+1\"],\"xaxis\":\"x\",\"y\":[1,1,1,1,1,1,1,1,1,1,1,2,1,1,1,1,1,1,2,1,2,1,1,1,2,1,1,1,1,2],\"yaxis\":\"y\",\"type\":\"histogram\",\"xbins\":{\"end\":90.0,\"size\":10,\"start\":0.0}},{\"alignmentgroup\":\"True\",\"bingroup\":\"x\",\"histfunc\":\"sum\",\"hovertemplate\":\"name=Admira Juniors<br>minute=%{x}<br>sum of Goals_per_min_conceeded=%{y}<extra></extra>\",\"legendgroup\":\"Admira Juniors\",\"marker\":{\"color\":\"#EF553B\",\"pattern\":{\"shape\":\"\"}},\"name\":\"Admira Juniors\",\"offsetgroup\":\"Admira Juniors\",\"orientation\":\"v\",\"showlegend\":true,\"x\":[1,6,14,19,20,23,28,30,38,40,44,45,46,47,51,52,54,55,59,64,65,67,76,78,83,84,85,87,89,\"90+1\",\"90+3\",\"90+4\"],\"xaxis\":\"x\",\"y\":[1,1,1,1,1,1,1,1,2,1,1,2,2,1,1,1,1,1,1,1,2,1,1,2,1,1,1,1,1,1,2,1],\"yaxis\":\"y\",\"type\":\"histogram\",\"xbins\":{\"end\":90.0,\"size\":10,\"start\":0.0}},{\"alignmentgroup\":\"True\",\"bingroup\":\"x\",\"histfunc\":\"sum\",\"hovertemplate\":\"name=Dra\\u00dfburg<br>minute=%{x}<br>sum of Goals_per_min_conceeded=%{y}<extra></extra>\",\"legendgroup\":\"Dra\\u00dfburg\",\"marker\":{\"color\":\"#00cc96\",\"pattern\":{\"shape\":\"\"}},\"name\":\"Dra\\u00dfburg\",\"offsetgroup\":\"Dra\\u00dfburg\",\"orientation\":\"v\",\"showlegend\":true,\"x\":[2,3,11,17,19,21,29,32,33,36,38,39,40,43,45,48,51,52,55,59,60,61,63,68,69,73,74,80,88,90,\"45+3\",\"90+1\",\"90+3\",\"90+4\",\"90+5\"],\"xaxis\":\"x\",\"y\":[1,1,1,1,1,1,1,1,1,2,1,2,2,1,2,1,1,1,2,1,1,3,1,1,1,1,1,1,2,2,1,3,1,1,2],\"yaxis\":\"y\",\"type\":\"histogram\",\"xbins\":{\"end\":90.0,\"size\":10,\"start\":0.0}},{\"alignmentgroup\":\"True\",\"bingroup\":\"x\",\"histfunc\":\"sum\",\"hovertemplate\":\"name=FC Marchfeld / Mannsdorf-Gro\\u00dfe.<br>minute=%{x}<br>sum of Goals_per_min_conceeded=%{y}<extra></extra>\",\"legendgroup\":\"FC Marchfeld / Mannsdorf-Gro\\u00dfe.\",\"marker\":{\"color\":\"#ab63fa\",\"pattern\":{\"shape\":\"\"}},\"name\":\"FC Marchfeld / Mannsdorf-Gro\\u00dfe.\",\"offsetgroup\":\"FC Marchfeld / Mannsdorf-Gro\\u00dfe.\",\"orientation\":\"v\",\"showlegend\":true,\"x\":[10,11,21,22,24,28,30,38,48,52,58,59,61,63,64,66,70,71,74,77,80,82,83,84,86,\"90+3\"],\"xaxis\":\"x\",\"y\":[1,1,2,1,2,1,1,3,1,1,2,1,2,1,1,1,1,1,1,1,1,1,1,1,1,1],\"yaxis\":\"y\",\"type\":\"histogram\",\"xbins\":{\"end\":90.0,\"size\":10,\"start\":0.0}},{\"alignmentgroup\":\"True\",\"bingroup\":\"x\",\"histfunc\":\"sum\",\"hovertemplate\":\"name=FC Mauerwerk<br>minute=%{x}<br>sum of Goals_per_min_conceeded=%{y}<extra></extra>\",\"legendgroup\":\"FC Mauerwerk\",\"marker\":{\"color\":\"#FFA15A\",\"pattern\":{\"shape\":\"\"}},\"name\":\"FC Mauerwerk\",\"offsetgroup\":\"FC Mauerwerk\",\"orientation\":\"v\",\"showlegend\":true,\"x\":[1,2,6,8,11,12,15,17,18,20,26,30,34,43,48,51,57,59,61,63,65,69,73,74,75,76,77,78,80,81,86,88,89,90,93,\"90+3\"],\"xaxis\":\"x\",\"y\":[1,1,1,1,1,1,1,2,4,1,2,1,1,1,1,1,3,1,1,1,1,1,2,1,1,1,2,1,1,3,1,1,2,1,1,1],\"yaxis\":\"y\",\"type\":\"histogram\",\"xbins\":{\"end\":90.0,\"size\":10,\"start\":0.0}},{\"alignmentgroup\":\"True\",\"bingroup\":\"x\",\"histfunc\":\"sum\",\"hovertemplate\":\"name=FCM Traiskirchen<br>minute=%{x}<br>sum of Goals_per_min_conceeded=%{y}<extra></extra>\",\"legendgroup\":\"FCM Traiskirchen\",\"marker\":{\"color\":\"#19d3f3\",\"pattern\":{\"shape\":\"\"}},\"name\":\"FCM Traiskirchen\",\"offsetgroup\":\"FCM Traiskirchen\",\"orientation\":\"v\",\"showlegend\":true,\"x\":[3,7,9,10,14,15,17,18,19,26,32,33,42,52,56,58,59,64,68,69,74,75,84,86,87,88,\"90+4\"],\"xaxis\":\"x\",\"y\":[1,1,1,1,1,1,1,1,1,1,1,1,1,1,3,1,1,1,2,1,1,1,1,1,2,1,1],\"yaxis\":\"y\",\"type\":\"histogram\",\"xbins\":{\"end\":90.0,\"size\":10,\"start\":0.0}},{\"alignmentgroup\":\"True\",\"bingroup\":\"x\",\"histfunc\":\"sum\",\"hovertemplate\":\"name=First Vienna FC 1894<br>minute=%{x}<br>sum of Goals_per_min_conceeded=%{y}<extra></extra>\",\"legendgroup\":\"First Vienna FC 1894\",\"marker\":{\"color\":\"#FF6692\",\"pattern\":{\"shape\":\"\"}},\"name\":\"First Vienna FC 1894\",\"offsetgroup\":\"First Vienna FC 1894\",\"orientation\":\"v\",\"showlegend\":true,\"x\":[7,14,19,24,31,37,39,66,70,73,83,85,94],\"xaxis\":\"x\",\"y\":[1,1,1,1,1,1,2,1,3,1,2,1,1],\"yaxis\":\"y\",\"type\":\"histogram\",\"xbins\":{\"end\":90.0,\"size\":10,\"start\":0.0}},{\"alignmentgroup\":\"True\",\"bingroup\":\"x\",\"histfunc\":\"sum\",\"hovertemplate\":\"name=SC Neusiedl am See 1919<br>minute=%{x}<br>sum of Goals_per_min_conceeded=%{y}<extra></extra>\",\"legendgroup\":\"SC Neusiedl am See 1919\",\"marker\":{\"color\":\"#B6E880\",\"pattern\":{\"shape\":\"\"}},\"name\":\"SC Neusiedl am See 1919\",\"offsetgroup\":\"SC Neusiedl am See 1919\",\"orientation\":\"v\",\"showlegend\":true,\"x\":[2,6,22,24,26,27,32,42,48,50,51,53,62,63,70,74,75,80,83,90,\"45+1\",\"45+2\",\"90+1\",\"90+3\"],\"xaxis\":\"x\",\"y\":[2,2,1,2,1,1,1,1,1,1,1,1,1,2,1,1,1,1,1,2,1,1,1,1],\"yaxis\":\"y\",\"type\":\"histogram\",\"xbins\":{\"end\":90.0,\"size\":10,\"start\":0.0}},{\"alignmentgroup\":\"True\",\"bingroup\":\"x\",\"histfunc\":\"sum\",\"hovertemplate\":\"name=SC Wiener Neustadt<br>minute=%{x}<br>sum of Goals_per_min_conceeded=%{y}<extra></extra>\",\"legendgroup\":\"SC Wiener Neustadt\",\"marker\":{\"color\":\"#FF97FF\",\"pattern\":{\"shape\":\"\"}},\"name\":\"SC Wiener Neustadt\",\"offsetgroup\":\"SC Wiener Neustadt\",\"orientation\":\"v\",\"showlegend\":true,\"x\":[3,4,9,15,18,22,23,26,28,30,31,32,34,41,43,44,46,47,48,50,51,52,54,60,66,69,70,71,72,73,75,76,85,86,89,\"90+1\",\"90+2\"],\"xaxis\":\"x\",\"y\":[1,1,2,2,2,1,2,2,1,1,1,1,1,1,1,1,1,1,1,2,1,2,1,1,1,1,2,1,1,1,1,1,1,3,1,1,1],\"yaxis\":\"y\",\"type\":\"histogram\",\"xbins\":{\"end\":90.0,\"size\":10,\"start\":0.0}},{\"alignmentgroup\":\"True\",\"bingroup\":\"x\",\"histfunc\":\"sum\",\"hovertemplate\":\"name=SV Leobendorf<br>minute=%{x}<br>sum of Goals_per_min_conceeded=%{y}<extra></extra>\",\"legendgroup\":\"SV Leobendorf\",\"marker\":{\"color\":\"#FECB52\",\"pattern\":{\"shape\":\"\"}},\"name\":\"SV Leobendorf\",\"offsetgroup\":\"SV Leobendorf\",\"orientation\":\"v\",\"showlegend\":true,\"x\":[6,8,9,12,14,21,23,32,38,39,41,56,59,62,66,68,69,73,77,80,85,87,89,\"90+1\",\"90+3\",\"90+4\"],\"xaxis\":\"x\",\"y\":[1,1,1,1,1,1,1,1,1,1,1,1,1,1,1,1,2,1,1,1,1,1,1,2,1,1],\"yaxis\":\"y\",\"type\":\"histogram\",\"xbins\":{\"end\":90.0,\"size\":10,\"start\":0.0}},{\"alignmentgroup\":\"True\",\"bingroup\":\"x\",\"histfunc\":\"sum\",\"hovertemplate\":\"name=Stripfing<br>minute=%{x}<br>sum of Goals_per_min_conceeded=%{y}<extra></extra>\",\"legendgroup\":\"Stripfing\",\"marker\":{\"color\":\"#636efa\",\"pattern\":{\"shape\":\"\"}},\"name\":\"Stripfing\",\"offsetgroup\":\"Stripfing\",\"orientation\":\"v\",\"showlegend\":true,\"x\":[32,41,43,50,57,59,62,66,79,86,89,90,\"45+2\",\"90+1\"],\"xaxis\":\"x\",\"y\":[1,1,1,1,2,1,1,1,1,1,1,1,1,1],\"yaxis\":\"y\",\"type\":\"histogram\",\"xbins\":{\"end\":90.0,\"size\":10,\"start\":0.0}},{\"alignmentgroup\":\"True\",\"bingroup\":\"x\",\"histfunc\":\"sum\",\"hovertemplate\":\"name=TWL Elektra<br>minute=%{x}<br>sum of Goals_per_min_conceeded=%{y}<extra></extra>\",\"legendgroup\":\"TWL Elektra\",\"marker\":{\"color\":\"#EF553B\",\"pattern\":{\"shape\":\"\"}},\"name\":\"TWL Elektra\",\"offsetgroup\":\"TWL Elektra\",\"orientation\":\"v\",\"showlegend\":true,\"x\":[7,8,9,14,19,23,25,30,34,44,45,52,53,72,75,83,85,86,87,90,\"90+3\",\"90+9\"],\"xaxis\":\"x\",\"y\":[1,1,1,1,1,1,1,1,1,1,1,1,1,1,1,1,1,1,1,1,1,1],\"yaxis\":\"y\",\"type\":\"histogram\",\"xbins\":{\"end\":90.0,\"size\":10,\"start\":0.0}},{\"alignmentgroup\":\"True\",\"bingroup\":\"x\",\"histfunc\":\"sum\",\"hovertemplate\":\"name=Wiener Sport-Club<br>minute=%{x}<br>sum of Goals_per_min_conceeded=%{y}<extra></extra>\",\"legendgroup\":\"Wiener Sport-Club\",\"marker\":{\"color\":\"#00cc96\",\"pattern\":{\"shape\":\"\"}},\"name\":\"Wiener Sport-Club\",\"offsetgroup\":\"Wiener Sport-Club\",\"orientation\":\"v\",\"showlegend\":true,\"x\":[2,3,8,10,13,25,32,40,41,42,43,55,61,64,65,68,71,74,75,76,78,81,87,90,\"90+4\"],\"xaxis\":\"x\",\"y\":[1,1,1,1,1,1,1,1,1,1,1,1,1,1,1,1,1,1,1,1,1,1,1,2,1],\"yaxis\":\"y\",\"type\":\"histogram\",\"xbins\":{\"end\":90.0,\"size\":10,\"start\":0.0}},{\"alignmentgroup\":\"True\",\"bingroup\":\"x\",\"histfunc\":\"sum\",\"hovertemplate\":\"name=Wiener Viktoria<br>minute=%{x}<br>sum of Goals_per_min_conceeded=%{y}<extra></extra>\",\"legendgroup\":\"Wiener Viktoria\",\"marker\":{\"color\":\"#ab63fa\",\"pattern\":{\"shape\":\"\"}},\"name\":\"Wiener Viktoria\",\"offsetgroup\":\"Wiener Viktoria\",\"orientation\":\"v\",\"showlegend\":true,\"x\":[3,7,10,13,20,21,30,31,33,40,43,47,52,53,56,57,60,63,66,67,70,71,75,76,77,81,82,83,86,93,\"45+1\"],\"xaxis\":\"x\",\"y\":[1,1,1,1,1,1,1,1,1,2,1,1,1,1,1,1,1,1,2,1,1,1,1,1,1,1,1,1,1,1,1],\"yaxis\":\"y\",\"type\":\"histogram\",\"xbins\":{\"end\":90.0,\"size\":10,\"start\":0.0}}],                        {\"template\":{\"data\":{\"histogram2dcontour\":[{\"type\":\"histogram2dcontour\",\"colorbar\":{\"outlinewidth\":0,\"ticks\":\"\"},\"colorscale\":[[0.0,\"#0d0887\"],[0.1111111111111111,\"#46039f\"],[0.2222222222222222,\"#7201a8\"],[0.3333333333333333,\"#9c179e\"],[0.4444444444444444,\"#bd3786\"],[0.5555555555555556,\"#d8576b\"],[0.6666666666666666,\"#ed7953\"],[0.7777777777777778,\"#fb9f3a\"],[0.8888888888888888,\"#fdca26\"],[1.0,\"#f0f921\"]]}],\"choropleth\":[{\"type\":\"choropleth\",\"colorbar\":{\"outlinewidth\":0,\"ticks\":\"\"}}],\"histogram2d\":[{\"type\":\"histogram2d\",\"colorbar\":{\"outlinewidth\":0,\"ticks\":\"\"},\"colorscale\":[[0.0,\"#0d0887\"],[0.1111111111111111,\"#46039f\"],[0.2222222222222222,\"#7201a8\"],[0.3333333333333333,\"#9c179e\"],[0.4444444444444444,\"#bd3786\"],[0.5555555555555556,\"#d8576b\"],[0.6666666666666666,\"#ed7953\"],[0.7777777777777778,\"#fb9f3a\"],[0.8888888888888888,\"#fdca26\"],[1.0,\"#f0f921\"]]}],\"heatmap\":[{\"type\":\"heatmap\",\"colorbar\":{\"outlinewidth\":0,\"ticks\":\"\"},\"colorscale\":[[0.0,\"#0d0887\"],[0.1111111111111111,\"#46039f\"],[0.2222222222222222,\"#7201a8\"],[0.3333333333333333,\"#9c179e\"],[0.4444444444444444,\"#bd3786\"],[0.5555555555555556,\"#d8576b\"],[0.6666666666666666,\"#ed7953\"],[0.7777777777777778,\"#fb9f3a\"],[0.8888888888888888,\"#fdca26\"],[1.0,\"#f0f921\"]]}],\"heatmapgl\":[{\"type\":\"heatmapgl\",\"colorbar\":{\"outlinewidth\":0,\"ticks\":\"\"},\"colorscale\":[[0.0,\"#0d0887\"],[0.1111111111111111,\"#46039f\"],[0.2222222222222222,\"#7201a8\"],[0.3333333333333333,\"#9c179e\"],[0.4444444444444444,\"#bd3786\"],[0.5555555555555556,\"#d8576b\"],[0.6666666666666666,\"#ed7953\"],[0.7777777777777778,\"#fb9f3a\"],[0.8888888888888888,\"#fdca26\"],[1.0,\"#f0f921\"]]}],\"contourcarpet\":[{\"type\":\"contourcarpet\",\"colorbar\":{\"outlinewidth\":0,\"ticks\":\"\"}}],\"contour\":[{\"type\":\"contour\",\"colorbar\":{\"outlinewidth\":0,\"ticks\":\"\"},\"colorscale\":[[0.0,\"#0d0887\"],[0.1111111111111111,\"#46039f\"],[0.2222222222222222,\"#7201a8\"],[0.3333333333333333,\"#9c179e\"],[0.4444444444444444,\"#bd3786\"],[0.5555555555555556,\"#d8576b\"],[0.6666666666666666,\"#ed7953\"],[0.7777777777777778,\"#fb9f3a\"],[0.8888888888888888,\"#fdca26\"],[1.0,\"#f0f921\"]]}],\"surface\":[{\"type\":\"surface\",\"colorbar\":{\"outlinewidth\":0,\"ticks\":\"\"},\"colorscale\":[[0.0,\"#0d0887\"],[0.1111111111111111,\"#46039f\"],[0.2222222222222222,\"#7201a8\"],[0.3333333333333333,\"#9c179e\"],[0.4444444444444444,\"#bd3786\"],[0.5555555555555556,\"#d8576b\"],[0.6666666666666666,\"#ed7953\"],[0.7777777777777778,\"#fb9f3a\"],[0.8888888888888888,\"#fdca26\"],[1.0,\"#f0f921\"]]}],\"mesh3d\":[{\"type\":\"mesh3d\",\"colorbar\":{\"outlinewidth\":0,\"ticks\":\"\"}}],\"scatter\":[{\"fillpattern\":{\"fillmode\":\"overlay\",\"size\":10,\"solidity\":0.2},\"type\":\"scatter\"}],\"parcoords\":[{\"type\":\"parcoords\",\"line\":{\"colorbar\":{\"outlinewidth\":0,\"ticks\":\"\"}}}],\"scatterpolargl\":[{\"type\":\"scatterpolargl\",\"marker\":{\"colorbar\":{\"outlinewidth\":0,\"ticks\":\"\"}}}],\"bar\":[{\"error_x\":{\"color\":\"#2a3f5f\"},\"error_y\":{\"color\":\"#2a3f5f\"},\"marker\":{\"line\":{\"color\":\"#E5ECF6\",\"width\":0.5},\"pattern\":{\"fillmode\":\"overlay\",\"size\":10,\"solidity\":0.2}},\"type\":\"bar\"}],\"scattergeo\":[{\"type\":\"scattergeo\",\"marker\":{\"colorbar\":{\"outlinewidth\":0,\"ticks\":\"\"}}}],\"scatterpolar\":[{\"type\":\"scatterpolar\",\"marker\":{\"colorbar\":{\"outlinewidth\":0,\"ticks\":\"\"}}}],\"histogram\":[{\"marker\":{\"pattern\":{\"fillmode\":\"overlay\",\"size\":10,\"solidity\":0.2}},\"type\":\"histogram\"}],\"scattergl\":[{\"type\":\"scattergl\",\"marker\":{\"colorbar\":{\"outlinewidth\":0,\"ticks\":\"\"}}}],\"scatter3d\":[{\"type\":\"scatter3d\",\"line\":{\"colorbar\":{\"outlinewidth\":0,\"ticks\":\"\"}},\"marker\":{\"colorbar\":{\"outlinewidth\":0,\"ticks\":\"\"}}}],\"scattermapbox\":[{\"type\":\"scattermapbox\",\"marker\":{\"colorbar\":{\"outlinewidth\":0,\"ticks\":\"\"}}}],\"scatterternary\":[{\"type\":\"scatterternary\",\"marker\":{\"colorbar\":{\"outlinewidth\":0,\"ticks\":\"\"}}}],\"scattercarpet\":[{\"type\":\"scattercarpet\",\"marker\":{\"colorbar\":{\"outlinewidth\":0,\"ticks\":\"\"}}}],\"carpet\":[{\"aaxis\":{\"endlinecolor\":\"#2a3f5f\",\"gridcolor\":\"white\",\"linecolor\":\"white\",\"minorgridcolor\":\"white\",\"startlinecolor\":\"#2a3f5f\"},\"baxis\":{\"endlinecolor\":\"#2a3f5f\",\"gridcolor\":\"white\",\"linecolor\":\"white\",\"minorgridcolor\":\"white\",\"startlinecolor\":\"#2a3f5f\"},\"type\":\"carpet\"}],\"table\":[{\"cells\":{\"fill\":{\"color\":\"#EBF0F8\"},\"line\":{\"color\":\"white\"}},\"header\":{\"fill\":{\"color\":\"#C8D4E3\"},\"line\":{\"color\":\"white\"}},\"type\":\"table\"}],\"barpolar\":[{\"marker\":{\"line\":{\"color\":\"#E5ECF6\",\"width\":0.5},\"pattern\":{\"fillmode\":\"overlay\",\"size\":10,\"solidity\":0.2}},\"type\":\"barpolar\"}],\"pie\":[{\"automargin\":true,\"type\":\"pie\"}]},\"layout\":{\"autotypenumbers\":\"strict\",\"colorway\":[\"#636efa\",\"#EF553B\",\"#00cc96\",\"#ab63fa\",\"#FFA15A\",\"#19d3f3\",\"#FF6692\",\"#B6E880\",\"#FF97FF\",\"#FECB52\"],\"font\":{\"color\":\"#2a3f5f\"},\"hovermode\":\"closest\",\"hoverlabel\":{\"align\":\"left\"},\"paper_bgcolor\":\"white\",\"plot_bgcolor\":\"#E5ECF6\",\"polar\":{\"bgcolor\":\"#E5ECF6\",\"angularaxis\":{\"gridcolor\":\"white\",\"linecolor\":\"white\",\"ticks\":\"\"},\"radialaxis\":{\"gridcolor\":\"white\",\"linecolor\":\"white\",\"ticks\":\"\"}},\"ternary\":{\"bgcolor\":\"#E5ECF6\",\"aaxis\":{\"gridcolor\":\"white\",\"linecolor\":\"white\",\"ticks\":\"\"},\"baxis\":{\"gridcolor\":\"white\",\"linecolor\":\"white\",\"ticks\":\"\"},\"caxis\":{\"gridcolor\":\"white\",\"linecolor\":\"white\",\"ticks\":\"\"}},\"coloraxis\":{\"colorbar\":{\"outlinewidth\":0,\"ticks\":\"\"}},\"colorscale\":{\"sequential\":[[0.0,\"#0d0887\"],[0.1111111111111111,\"#46039f\"],[0.2222222222222222,\"#7201a8\"],[0.3333333333333333,\"#9c179e\"],[0.4444444444444444,\"#bd3786\"],[0.5555555555555556,\"#d8576b\"],[0.6666666666666666,\"#ed7953\"],[0.7777777777777778,\"#fb9f3a\"],[0.8888888888888888,\"#fdca26\"],[1.0,\"#f0f921\"]],\"sequentialminus\":[[0.0,\"#0d0887\"],[0.1111111111111111,\"#46039f\"],[0.2222222222222222,\"#7201a8\"],[0.3333333333333333,\"#9c179e\"],[0.4444444444444444,\"#bd3786\"],[0.5555555555555556,\"#d8576b\"],[0.6666666666666666,\"#ed7953\"],[0.7777777777777778,\"#fb9f3a\"],[0.8888888888888888,\"#fdca26\"],[1.0,\"#f0f921\"]],\"diverging\":[[0,\"#8e0152\"],[0.1,\"#c51b7d\"],[0.2,\"#de77ae\"],[0.3,\"#f1b6da\"],[0.4,\"#fde0ef\"],[0.5,\"#f7f7f7\"],[0.6,\"#e6f5d0\"],[0.7,\"#b8e186\"],[0.8,\"#7fbc41\"],[0.9,\"#4d9221\"],[1,\"#276419\"]]},\"xaxis\":{\"gridcolor\":\"white\",\"linecolor\":\"white\",\"ticks\":\"\",\"title\":{\"standoff\":15},\"zerolinecolor\":\"white\",\"automargin\":true,\"zerolinewidth\":2},\"yaxis\":{\"gridcolor\":\"white\",\"linecolor\":\"white\",\"ticks\":\"\",\"title\":{\"standoff\":15},\"zerolinecolor\":\"white\",\"automargin\":true,\"zerolinewidth\":2},\"scene\":{\"xaxis\":{\"backgroundcolor\":\"#E5ECF6\",\"gridcolor\":\"white\",\"linecolor\":\"white\",\"showbackground\":true,\"ticks\":\"\",\"zerolinecolor\":\"white\",\"gridwidth\":2},\"yaxis\":{\"backgroundcolor\":\"#E5ECF6\",\"gridcolor\":\"white\",\"linecolor\":\"white\",\"showbackground\":true,\"ticks\":\"\",\"zerolinecolor\":\"white\",\"gridwidth\":2},\"zaxis\":{\"backgroundcolor\":\"#E5ECF6\",\"gridcolor\":\"white\",\"linecolor\":\"white\",\"showbackground\":true,\"ticks\":\"\",\"zerolinecolor\":\"white\",\"gridwidth\":2}},\"shapedefaults\":{\"line\":{\"color\":\"#2a3f5f\"}},\"annotationdefaults\":{\"arrowcolor\":\"#2a3f5f\",\"arrowhead\":0,\"arrowwidth\":1},\"geo\":{\"bgcolor\":\"white\",\"landcolor\":\"#E5ECF6\",\"subunitcolor\":\"white\",\"showland\":true,\"showlakes\":true,\"lakecolor\":\"white\"},\"title\":{\"x\":0.05},\"mapbox\":{\"style\":\"light\"}}},\"xaxis\":{\"anchor\":\"y\",\"domain\":[0.0,1.0],\"title\":{\"text\":\"minute\"}},\"yaxis\":{\"anchor\":\"x\",\"domain\":[0.0,1.0],\"title\":{\"text\":\"sum of Goals_per_min_conceeded\"}},\"legend\":{\"title\":{\"text\":\"name\"},\"tracegroupgap\":0},\"title\":{\"text\":\"Tor bekommen vor Mandl\"},\"barmode\":\"overlay\"},                        {\"responsive\": true}                    ).then(function(){\n",
       "                            \n",
       "var gd = document.getElementById('780e50e9-9730-4b7a-afc0-0e2e14daf3f9');\n",
       "var x = new MutationObserver(function (mutations, observer) {{\n",
       "        var display = window.getComputedStyle(gd).display;\n",
       "        if (!display || display === 'none') {{\n",
       "            console.log([gd, 'removed!']);\n",
       "            Plotly.purge(gd);\n",
       "            observer.disconnect();\n",
       "        }}\n",
       "}});\n",
       "\n",
       "// Listen for the removal of the full notebook cells\n",
       "var notebookContainer = gd.closest('#notebook-container');\n",
       "if (notebookContainer) {{\n",
       "    x.observe(notebookContainer, {childList: true});\n",
       "}}\n",
       "\n",
       "// Listen for the clearing of the current output cell\n",
       "var outputEl = gd.closest('.output');\n",
       "if (outputEl) {{\n",
       "    x.observe(outputEl, {childList: true});\n",
       "}}\n",
       "\n",
       "                        })                };                });            </script>        </div>"
      ]
     },
     "metadata": {},
     "output_type": "display_data"
    }
   ],
   "source": [
    "df=query_database(query_table_goals_conceeded.format(\"20210701\",\"20220426\",vereine[0],vereine[0]),database=\"verbands.db\")\n",
    "fig=px.histogram(df, x=\"minute\",y='Goals_per_min_conceeded' ,color=\"name\",title=\"Wann Tore bekommen vor Mandl\")\n",
    "fig.update_layout(barmode='overlay')\n",
    "fig.update_traces(xbins=dict( # bins used for histogram\n",
    "        start=0.0,\n",
    "        end=90.0,\n",
    "        size=10\n",
    "    ))\n",
    "fig.show()"
   ]
  },
  {
   "cell_type": "markdown",
   "id": "f5062bca",
   "metadata": {
    "slideshow": {
     "slide_type": "slide"
    }
   },
   "source": [
    "## Wie wurden die Tore geschossen"
   ]
  },
  {
   "cell_type": "code",
   "execution_count": null,
   "id": "97dc94ec",
   "metadata": {
    "slideshow": {
     "slide_type": "skip"
    }
   },
   "outputs": [],
   "source": [
    "def goal_type(y:str):\n",
    "    x=y.lower()\n",
    "    #print(x)\n",
    "    if \"strafstoß\" in x:\n",
    "        return \"strafstoß\"\n",
    "    elif \"freistoß\" in x:\n",
    "        return \"freistoß\"\n",
    "    elif \"eigentor\" in x:\n",
    "        return \"eigentor\"\n",
    "    return \"in_game\"\n",
    "# GET TABLE\n",
    "query_table=(\"\"\"\n",
    "select  *--count(*) as \"Goals_per_min_scired\"\n",
    "from  (select DISTINCT match_id,minute,type,team_id,text from matches_activity) a \n",
    "join matches m on m.id=a.match_id\n",
    "join  teams t on a.team_id==t.id \n",
    "where type=\"goal\" and replace(date,'-','') between '{}' and '{}' \n",
    "         and league=\"Regionalliga Ost\" and type=\"goal\"\n",
    "--group by m.league,t.name, minute\n",
    "order by minute,name\n",
    "\"\"\")"
   ]
  },
  {
   "cell_type": "code",
   "execution_count": null,
   "id": "7e37e351",
   "metadata": {
    "slideshow": {
     "slide_type": "slide"
    }
   },
   "outputs": [
    {
     "data": {
      "application/vnd.plotly.v1+json": {
       "config": {
        "plotlyServerURL": "https://plot.ly"
       },
       "data": [
        {
         "alignmentgroup": "True",
         "bingroup": "x",
         "hovertemplate": "name=Stripfing<br>goal_type=%{x}<br>count=%{y}<extra></extra>",
         "legendgroup": "Stripfing",
         "marker": {
          "color": "#636efa",
          "pattern": {
           "shape": ""
          }
         },
         "name": "Stripfing",
         "offsetgroup": "Stripfing",
         "orientation": "v",
         "showlegend": true,
         "type": "histogram",
         "x": [
          "in_game",
          "in_game",
          "in_game",
          "in_game",
          "in_game",
          "in_game",
          "in_game",
          "in_game",
          "in_game",
          "in_game",
          "in_game",
          "in_game",
          "in_game"
         ],
         "xaxis": "x",
         "yaxis": "y"
        },
        {
         "alignmentgroup": "True",
         "bingroup": "x",
         "hovertemplate": "name=SC Wiener Neustadt<br>goal_type=%{x}<br>count=%{y}<extra></extra>",
         "legendgroup": "SC Wiener Neustadt",
         "marker": {
          "color": "#EF553B",
          "pattern": {
           "shape": ""
          }
         },
         "name": "SC Wiener Neustadt",
         "offsetgroup": "SC Wiener Neustadt",
         "orientation": "v",
         "showlegend": true,
         "type": "histogram",
         "x": [
          "in_game",
          "in_game",
          "in_game",
          "in_game",
          "in_game",
          "in_game",
          "in_game",
          "in_game",
          "in_game",
          "in_game",
          "in_game"
         ],
         "xaxis": "x",
         "yaxis": "y"
        },
        {
         "alignmentgroup": "True",
         "bingroup": "x",
         "hovertemplate": "name=FC Marchfeld / Mannsdorf-Große.<br>goal_type=%{x}<br>count=%{y}<extra></extra>",
         "legendgroup": "FC Marchfeld / Mannsdorf-Große.",
         "marker": {
          "color": "#00cc96",
          "pattern": {
           "shape": ""
          }
         },
         "name": "FC Marchfeld / Mannsdorf-Große.",
         "offsetgroup": "FC Marchfeld / Mannsdorf-Große.",
         "orientation": "v",
         "showlegend": true,
         "type": "histogram",
         "x": [
          "in_game",
          "in_game",
          "eigentor",
          "in_game",
          "in_game",
          "in_game",
          "in_game",
          "in_game",
          "in_game"
         ],
         "xaxis": "x",
         "yaxis": "y"
        },
        {
         "alignmentgroup": "True",
         "bingroup": "x",
         "hovertemplate": "name=SC Neusiedl am See 1919<br>goal_type=%{x}<br>count=%{y}<extra></extra>",
         "legendgroup": "SC Neusiedl am See 1919",
         "marker": {
          "color": "#ab63fa",
          "pattern": {
           "shape": ""
          }
         },
         "name": "SC Neusiedl am See 1919",
         "offsetgroup": "SC Neusiedl am See 1919",
         "orientation": "v",
         "showlegend": true,
         "type": "histogram",
         "x": [
          "in_game",
          "in_game",
          "freistoß",
          "in_game",
          "in_game",
          "in_game",
          "in_game",
          "strafstoß",
          "in_game",
          "in_game"
         ],
         "xaxis": "x",
         "yaxis": "y"
        },
        {
         "alignmentgroup": "True",
         "bingroup": "x",
         "hovertemplate": "name=First Vienna FC 1894<br>goal_type=%{x}<br>count=%{y}<extra></extra>",
         "legendgroup": "First Vienna FC 1894",
         "marker": {
          "color": "#FFA15A",
          "pattern": {
           "shape": ""
          }
         },
         "name": "First Vienna FC 1894",
         "offsetgroup": "First Vienna FC 1894",
         "orientation": "v",
         "showlegend": true,
         "type": "histogram",
         "x": [
          "in_game",
          "in_game",
          "in_game",
          "in_game",
          "in_game",
          "in_game",
          "in_game",
          "in_game",
          "in_game"
         ],
         "xaxis": "x",
         "yaxis": "y"
        },
        {
         "alignmentgroup": "True",
         "bingroup": "x",
         "hovertemplate": "name=Admira Juniors<br>goal_type=%{x}<br>count=%{y}<extra></extra>",
         "legendgroup": "Admira Juniors",
         "marker": {
          "color": "#19d3f3",
          "pattern": {
           "shape": ""
          }
         },
         "name": "Admira Juniors",
         "offsetgroup": "Admira Juniors",
         "orientation": "v",
         "showlegend": true,
         "type": "histogram",
         "x": [
          "in_game",
          "in_game",
          "in_game",
          "in_game",
          "in_game",
          "in_game",
          "in_game"
         ],
         "xaxis": "x",
         "yaxis": "y"
        },
        {
         "alignmentgroup": "True",
         "bingroup": "x",
         "hovertemplate": "name=Draßburg<br>goal_type=%{x}<br>count=%{y}<extra></extra>",
         "legendgroup": "Draßburg",
         "marker": {
          "color": "#FF6692",
          "pattern": {
           "shape": ""
          }
         },
         "name": "Draßburg",
         "offsetgroup": "Draßburg",
         "orientation": "v",
         "showlegend": true,
         "type": "histogram",
         "x": [
          "in_game",
          "in_game",
          "in_game",
          "in_game",
          "in_game",
          "in_game"
         ],
         "xaxis": "x",
         "yaxis": "y"
        },
        {
         "alignmentgroup": "True",
         "bingroup": "x",
         "hovertemplate": "name=FC Mauerwerk<br>goal_type=%{x}<br>count=%{y}<extra></extra>",
         "legendgroup": "FC Mauerwerk",
         "marker": {
          "color": "#B6E880",
          "pattern": {
           "shape": ""
          }
         },
         "name": "FC Mauerwerk",
         "offsetgroup": "FC Mauerwerk",
         "orientation": "v",
         "showlegend": true,
         "type": "histogram",
         "x": [
          "in_game",
          "in_game",
          "in_game",
          "in_game",
          "in_game"
         ],
         "xaxis": "x",
         "yaxis": "y"
        },
        {
         "alignmentgroup": "True",
         "bingroup": "x",
         "hovertemplate": "name=ASK-BSC Bruck/Leitha<br>goal_type=%{x}<br>count=%{y}<extra></extra>",
         "legendgroup": "ASK-BSC Bruck/Leitha",
         "marker": {
          "color": "#FF97FF",
          "pattern": {
           "shape": ""
          }
         },
         "name": "ASK-BSC Bruck/Leitha",
         "offsetgroup": "ASK-BSC Bruck/Leitha",
         "orientation": "v",
         "showlegend": true,
         "type": "histogram",
         "x": [
          "in_game",
          "in_game",
          "in_game",
          "in_game",
          "strafstoß",
          "in_game",
          "in_game"
         ],
         "xaxis": "x",
         "yaxis": "y"
        },
        {
         "alignmentgroup": "True",
         "bingroup": "x",
         "hovertemplate": "name=Wiener Viktoria<br>goal_type=%{x}<br>count=%{y}<extra></extra>",
         "legendgroup": "Wiener Viktoria",
         "marker": {
          "color": "#FECB52",
          "pattern": {
           "shape": ""
          }
         },
         "name": "Wiener Viktoria",
         "offsetgroup": "Wiener Viktoria",
         "orientation": "v",
         "showlegend": true,
         "type": "histogram",
         "x": [
          "in_game",
          "in_game",
          "in_game",
          "in_game",
          "in_game"
         ],
         "xaxis": "x",
         "yaxis": "y"
        },
        {
         "alignmentgroup": "True",
         "bingroup": "x",
         "hovertemplate": "name=TWL Elektra<br>goal_type=%{x}<br>count=%{y}<extra></extra>",
         "legendgroup": "TWL Elektra",
         "marker": {
          "color": "#636efa",
          "pattern": {
           "shape": ""
          }
         },
         "name": "TWL Elektra",
         "offsetgroup": "TWL Elektra",
         "orientation": "v",
         "showlegend": true,
         "type": "histogram",
         "x": [
          "in_game",
          "strafstoß",
          "in_game",
          "in_game"
         ],
         "xaxis": "x",
         "yaxis": "y"
        },
        {
         "alignmentgroup": "True",
         "bingroup": "x",
         "hovertemplate": "name=FCM Traiskirchen<br>goal_type=%{x}<br>count=%{y}<extra></extra>",
         "legendgroup": "FCM Traiskirchen",
         "marker": {
          "color": "#EF553B",
          "pattern": {
           "shape": ""
          }
         },
         "name": "FCM Traiskirchen",
         "offsetgroup": "FCM Traiskirchen",
         "orientation": "v",
         "showlegend": true,
         "type": "histogram",
         "x": [
          "in_game",
          "strafstoß",
          "strafstoß",
          "in_game",
          "in_game"
         ],
         "xaxis": "x",
         "yaxis": "y"
        },
        {
         "alignmentgroup": "True",
         "bingroup": "x",
         "hovertemplate": "name=Wiener Sport-Club<br>goal_type=%{x}<br>count=%{y}<extra></extra>",
         "legendgroup": "Wiener Sport-Club",
         "marker": {
          "color": "#00cc96",
          "pattern": {
           "shape": ""
          }
         },
         "name": "Wiener Sport-Club",
         "offsetgroup": "Wiener Sport-Club",
         "orientation": "v",
         "showlegend": true,
         "type": "histogram",
         "x": [
          "in_game",
          "in_game",
          "in_game",
          "in_game",
          "in_game",
          "in_game",
          "in_game",
          "in_game"
         ],
         "xaxis": "x",
         "yaxis": "y"
        },
        {
         "alignmentgroup": "True",
         "bingroup": "x",
         "hovertemplate": "name=SV Leobendorf<br>goal_type=%{x}<br>count=%{y}<extra></extra>",
         "legendgroup": "SV Leobendorf",
         "marker": {
          "color": "#ab63fa",
          "pattern": {
           "shape": ""
          }
         },
         "name": "SV Leobendorf",
         "offsetgroup": "SV Leobendorf",
         "orientation": "v",
         "showlegend": true,
         "type": "histogram",
         "x": [
          "in_game",
          "in_game",
          "in_game",
          "in_game",
          "strafstoß",
          "in_game",
          "in_game"
         ],
         "xaxis": "x",
         "yaxis": "y"
        }
       ],
       "layout": {
        "barmode": "stack",
        "legend": {
         "title": {
          "text": "name"
         },
         "tracegroupgap": 0
        },
        "template": {
         "data": {
          "bar": [
           {
            "error_x": {
             "color": "#2a3f5f"
            },
            "error_y": {
             "color": "#2a3f5f"
            },
            "marker": {
             "line": {
              "color": "#E5ECF6",
              "width": 0.5
             },
             "pattern": {
              "fillmode": "overlay",
              "size": 10,
              "solidity": 0.2
             }
            },
            "type": "bar"
           }
          ],
          "barpolar": [
           {
            "marker": {
             "line": {
              "color": "#E5ECF6",
              "width": 0.5
             },
             "pattern": {
              "fillmode": "overlay",
              "size": 10,
              "solidity": 0.2
             }
            },
            "type": "barpolar"
           }
          ],
          "carpet": [
           {
            "aaxis": {
             "endlinecolor": "#2a3f5f",
             "gridcolor": "white",
             "linecolor": "white",
             "minorgridcolor": "white",
             "startlinecolor": "#2a3f5f"
            },
            "baxis": {
             "endlinecolor": "#2a3f5f",
             "gridcolor": "white",
             "linecolor": "white",
             "minorgridcolor": "white",
             "startlinecolor": "#2a3f5f"
            },
            "type": "carpet"
           }
          ],
          "choropleth": [
           {
            "colorbar": {
             "outlinewidth": 0,
             "ticks": ""
            },
            "type": "choropleth"
           }
          ],
          "contour": [
           {
            "colorbar": {
             "outlinewidth": 0,
             "ticks": ""
            },
            "colorscale": [
             [
              0,
              "#0d0887"
             ],
             [
              0.1111111111111111,
              "#46039f"
             ],
             [
              0.2222222222222222,
              "#7201a8"
             ],
             [
              0.3333333333333333,
              "#9c179e"
             ],
             [
              0.4444444444444444,
              "#bd3786"
             ],
             [
              0.5555555555555556,
              "#d8576b"
             ],
             [
              0.6666666666666666,
              "#ed7953"
             ],
             [
              0.7777777777777778,
              "#fb9f3a"
             ],
             [
              0.8888888888888888,
              "#fdca26"
             ],
             [
              1,
              "#f0f921"
             ]
            ],
            "type": "contour"
           }
          ],
          "contourcarpet": [
           {
            "colorbar": {
             "outlinewidth": 0,
             "ticks": ""
            },
            "type": "contourcarpet"
           }
          ],
          "heatmap": [
           {
            "colorbar": {
             "outlinewidth": 0,
             "ticks": ""
            },
            "colorscale": [
             [
              0,
              "#0d0887"
             ],
             [
              0.1111111111111111,
              "#46039f"
             ],
             [
              0.2222222222222222,
              "#7201a8"
             ],
             [
              0.3333333333333333,
              "#9c179e"
             ],
             [
              0.4444444444444444,
              "#bd3786"
             ],
             [
              0.5555555555555556,
              "#d8576b"
             ],
             [
              0.6666666666666666,
              "#ed7953"
             ],
             [
              0.7777777777777778,
              "#fb9f3a"
             ],
             [
              0.8888888888888888,
              "#fdca26"
             ],
             [
              1,
              "#f0f921"
             ]
            ],
            "type": "heatmap"
           }
          ],
          "heatmapgl": [
           {
            "colorbar": {
             "outlinewidth": 0,
             "ticks": ""
            },
            "colorscale": [
             [
              0,
              "#0d0887"
             ],
             [
              0.1111111111111111,
              "#46039f"
             ],
             [
              0.2222222222222222,
              "#7201a8"
             ],
             [
              0.3333333333333333,
              "#9c179e"
             ],
             [
              0.4444444444444444,
              "#bd3786"
             ],
             [
              0.5555555555555556,
              "#d8576b"
             ],
             [
              0.6666666666666666,
              "#ed7953"
             ],
             [
              0.7777777777777778,
              "#fb9f3a"
             ],
             [
              0.8888888888888888,
              "#fdca26"
             ],
             [
              1,
              "#f0f921"
             ]
            ],
            "type": "heatmapgl"
           }
          ],
          "histogram": [
           {
            "marker": {
             "pattern": {
              "fillmode": "overlay",
              "size": 10,
              "solidity": 0.2
             }
            },
            "type": "histogram"
           }
          ],
          "histogram2d": [
           {
            "colorbar": {
             "outlinewidth": 0,
             "ticks": ""
            },
            "colorscale": [
             [
              0,
              "#0d0887"
             ],
             [
              0.1111111111111111,
              "#46039f"
             ],
             [
              0.2222222222222222,
              "#7201a8"
             ],
             [
              0.3333333333333333,
              "#9c179e"
             ],
             [
              0.4444444444444444,
              "#bd3786"
             ],
             [
              0.5555555555555556,
              "#d8576b"
             ],
             [
              0.6666666666666666,
              "#ed7953"
             ],
             [
              0.7777777777777778,
              "#fb9f3a"
             ],
             [
              0.8888888888888888,
              "#fdca26"
             ],
             [
              1,
              "#f0f921"
             ]
            ],
            "type": "histogram2d"
           }
          ],
          "histogram2dcontour": [
           {
            "colorbar": {
             "outlinewidth": 0,
             "ticks": ""
            },
            "colorscale": [
             [
              0,
              "#0d0887"
             ],
             [
              0.1111111111111111,
              "#46039f"
             ],
             [
              0.2222222222222222,
              "#7201a8"
             ],
             [
              0.3333333333333333,
              "#9c179e"
             ],
             [
              0.4444444444444444,
              "#bd3786"
             ],
             [
              0.5555555555555556,
              "#d8576b"
             ],
             [
              0.6666666666666666,
              "#ed7953"
             ],
             [
              0.7777777777777778,
              "#fb9f3a"
             ],
             [
              0.8888888888888888,
              "#fdca26"
             ],
             [
              1,
              "#f0f921"
             ]
            ],
            "type": "histogram2dcontour"
           }
          ],
          "mesh3d": [
           {
            "colorbar": {
             "outlinewidth": 0,
             "ticks": ""
            },
            "type": "mesh3d"
           }
          ],
          "parcoords": [
           {
            "line": {
             "colorbar": {
              "outlinewidth": 0,
              "ticks": ""
             }
            },
            "type": "parcoords"
           }
          ],
          "pie": [
           {
            "automargin": true,
            "type": "pie"
           }
          ],
          "scatter": [
           {
            "fillpattern": {
             "fillmode": "overlay",
             "size": 10,
             "solidity": 0.2
            },
            "type": "scatter"
           }
          ],
          "scatter3d": [
           {
            "line": {
             "colorbar": {
              "outlinewidth": 0,
              "ticks": ""
             }
            },
            "marker": {
             "colorbar": {
              "outlinewidth": 0,
              "ticks": ""
             }
            },
            "type": "scatter3d"
           }
          ],
          "scattercarpet": [
           {
            "marker": {
             "colorbar": {
              "outlinewidth": 0,
              "ticks": ""
             }
            },
            "type": "scattercarpet"
           }
          ],
          "scattergeo": [
           {
            "marker": {
             "colorbar": {
              "outlinewidth": 0,
              "ticks": ""
             }
            },
            "type": "scattergeo"
           }
          ],
          "scattergl": [
           {
            "marker": {
             "colorbar": {
              "outlinewidth": 0,
              "ticks": ""
             }
            },
            "type": "scattergl"
           }
          ],
          "scattermapbox": [
           {
            "marker": {
             "colorbar": {
              "outlinewidth": 0,
              "ticks": ""
             }
            },
            "type": "scattermapbox"
           }
          ],
          "scatterpolar": [
           {
            "marker": {
             "colorbar": {
              "outlinewidth": 0,
              "ticks": ""
             }
            },
            "type": "scatterpolar"
           }
          ],
          "scatterpolargl": [
           {
            "marker": {
             "colorbar": {
              "outlinewidth": 0,
              "ticks": ""
             }
            },
            "type": "scatterpolargl"
           }
          ],
          "scatterternary": [
           {
            "marker": {
             "colorbar": {
              "outlinewidth": 0,
              "ticks": ""
             }
            },
            "type": "scatterternary"
           }
          ],
          "surface": [
           {
            "colorbar": {
             "outlinewidth": 0,
             "ticks": ""
            },
            "colorscale": [
             [
              0,
              "#0d0887"
             ],
             [
              0.1111111111111111,
              "#46039f"
             ],
             [
              0.2222222222222222,
              "#7201a8"
             ],
             [
              0.3333333333333333,
              "#9c179e"
             ],
             [
              0.4444444444444444,
              "#bd3786"
             ],
             [
              0.5555555555555556,
              "#d8576b"
             ],
             [
              0.6666666666666666,
              "#ed7953"
             ],
             [
              0.7777777777777778,
              "#fb9f3a"
             ],
             [
              0.8888888888888888,
              "#fdca26"
             ],
             [
              1,
              "#f0f921"
             ]
            ],
            "type": "surface"
           }
          ],
          "table": [
           {
            "cells": {
             "fill": {
              "color": "#EBF0F8"
             },
             "line": {
              "color": "white"
             }
            },
            "header": {
             "fill": {
              "color": "#C8D4E3"
             },
             "line": {
              "color": "white"
             }
            },
            "type": "table"
           }
          ]
         },
         "layout": {
          "annotationdefaults": {
           "arrowcolor": "#2a3f5f",
           "arrowhead": 0,
           "arrowwidth": 1
          },
          "autotypenumbers": "strict",
          "coloraxis": {
           "colorbar": {
            "outlinewidth": 0,
            "ticks": ""
           }
          },
          "colorscale": {
           "diverging": [
            [
             0,
             "#8e0152"
            ],
            [
             0.1,
             "#c51b7d"
            ],
            [
             0.2,
             "#de77ae"
            ],
            [
             0.3,
             "#f1b6da"
            ],
            [
             0.4,
             "#fde0ef"
            ],
            [
             0.5,
             "#f7f7f7"
            ],
            [
             0.6,
             "#e6f5d0"
            ],
            [
             0.7,
             "#b8e186"
            ],
            [
             0.8,
             "#7fbc41"
            ],
            [
             0.9,
             "#4d9221"
            ],
            [
             1,
             "#276419"
            ]
           ],
           "sequential": [
            [
             0,
             "#0d0887"
            ],
            [
             0.1111111111111111,
             "#46039f"
            ],
            [
             0.2222222222222222,
             "#7201a8"
            ],
            [
             0.3333333333333333,
             "#9c179e"
            ],
            [
             0.4444444444444444,
             "#bd3786"
            ],
            [
             0.5555555555555556,
             "#d8576b"
            ],
            [
             0.6666666666666666,
             "#ed7953"
            ],
            [
             0.7777777777777778,
             "#fb9f3a"
            ],
            [
             0.8888888888888888,
             "#fdca26"
            ],
            [
             1,
             "#f0f921"
            ]
           ],
           "sequentialminus": [
            [
             0,
             "#0d0887"
            ],
            [
             0.1111111111111111,
             "#46039f"
            ],
            [
             0.2222222222222222,
             "#7201a8"
            ],
            [
             0.3333333333333333,
             "#9c179e"
            ],
            [
             0.4444444444444444,
             "#bd3786"
            ],
            [
             0.5555555555555556,
             "#d8576b"
            ],
            [
             0.6666666666666666,
             "#ed7953"
            ],
            [
             0.7777777777777778,
             "#fb9f3a"
            ],
            [
             0.8888888888888888,
             "#fdca26"
            ],
            [
             1,
             "#f0f921"
            ]
           ]
          },
          "colorway": [
           "#636efa",
           "#EF553B",
           "#00cc96",
           "#ab63fa",
           "#FFA15A",
           "#19d3f3",
           "#FF6692",
           "#B6E880",
           "#FF97FF",
           "#FECB52"
          ],
          "font": {
           "color": "#2a3f5f"
          },
          "geo": {
           "bgcolor": "white",
           "lakecolor": "white",
           "landcolor": "#E5ECF6",
           "showlakes": true,
           "showland": true,
           "subunitcolor": "white"
          },
          "hoverlabel": {
           "align": "left"
          },
          "hovermode": "closest",
          "mapbox": {
           "style": "light"
          },
          "paper_bgcolor": "white",
          "plot_bgcolor": "#E5ECF6",
          "polar": {
           "angularaxis": {
            "gridcolor": "white",
            "linecolor": "white",
            "ticks": ""
           },
           "bgcolor": "#E5ECF6",
           "radialaxis": {
            "gridcolor": "white",
            "linecolor": "white",
            "ticks": ""
           }
          },
          "scene": {
           "xaxis": {
            "backgroundcolor": "#E5ECF6",
            "gridcolor": "white",
            "gridwidth": 2,
            "linecolor": "white",
            "showbackground": true,
            "ticks": "",
            "zerolinecolor": "white"
           },
           "yaxis": {
            "backgroundcolor": "#E5ECF6",
            "gridcolor": "white",
            "gridwidth": 2,
            "linecolor": "white",
            "showbackground": true,
            "ticks": "",
            "zerolinecolor": "white"
           },
           "zaxis": {
            "backgroundcolor": "#E5ECF6",
            "gridcolor": "white",
            "gridwidth": 2,
            "linecolor": "white",
            "showbackground": true,
            "ticks": "",
            "zerolinecolor": "white"
           }
          },
          "shapedefaults": {
           "line": {
            "color": "#2a3f5f"
           }
          },
          "ternary": {
           "aaxis": {
            "gridcolor": "white",
            "linecolor": "white",
            "ticks": ""
           },
           "baxis": {
            "gridcolor": "white",
            "linecolor": "white",
            "ticks": ""
           },
           "bgcolor": "#E5ECF6",
           "caxis": {
            "gridcolor": "white",
            "linecolor": "white",
            "ticks": ""
           }
          },
          "title": {
           "x": 0.05
          },
          "xaxis": {
           "automargin": true,
           "gridcolor": "white",
           "linecolor": "white",
           "ticks": "",
           "title": {
            "standoff": 15
           },
           "zerolinecolor": "white",
           "zerolinewidth": 2
          },
          "yaxis": {
           "automargin": true,
           "gridcolor": "white",
           "linecolor": "white",
           "ticks": "",
           "title": {
            "standoff": 15
           },
           "zerolinecolor": "white",
           "zerolinewidth": 2
          }
         }
        },
        "title": {
         "text": "Wie wurden Tore geschossen mit Mandl"
        },
        "xaxis": {
         "anchor": "y",
         "domain": [
          0,
          1
         ],
         "title": {
          "text": "goal_type"
         }
        },
        "yaxis": {
         "anchor": "x",
         "domain": [
          0,
          1
         ],
         "title": {
          "text": "count"
         }
        }
       }
      },
      "text/html": [
       "<div>                            <div id=\"1c7a7779-a6a1-42b6-b3dc-9ba60ef55e9e\" class=\"plotly-graph-div\" style=\"height:525px; width:100%;\"></div>            <script type=\"text/javascript\">                require([\"plotly\"], function(Plotly) {                    window.PLOTLYENV=window.PLOTLYENV || {};                                    if (document.getElementById(\"1c7a7779-a6a1-42b6-b3dc-9ba60ef55e9e\")) {                    Plotly.newPlot(                        \"1c7a7779-a6a1-42b6-b3dc-9ba60ef55e9e\",                        [{\"alignmentgroup\":\"True\",\"bingroup\":\"x\",\"hovertemplate\":\"name=Stripfing<br>goal_type=%{x}<br>count=%{y}<extra></extra>\",\"legendgroup\":\"Stripfing\",\"marker\":{\"color\":\"#636efa\",\"pattern\":{\"shape\":\"\"}},\"name\":\"Stripfing\",\"offsetgroup\":\"Stripfing\",\"orientation\":\"v\",\"showlegend\":true,\"x\":[\"in_game\",\"in_game\",\"in_game\",\"in_game\",\"in_game\",\"in_game\",\"in_game\",\"in_game\",\"in_game\",\"in_game\",\"in_game\",\"in_game\",\"in_game\"],\"xaxis\":\"x\",\"yaxis\":\"y\",\"type\":\"histogram\"},{\"alignmentgroup\":\"True\",\"bingroup\":\"x\",\"hovertemplate\":\"name=SC Wiener Neustadt<br>goal_type=%{x}<br>count=%{y}<extra></extra>\",\"legendgroup\":\"SC Wiener Neustadt\",\"marker\":{\"color\":\"#EF553B\",\"pattern\":{\"shape\":\"\"}},\"name\":\"SC Wiener Neustadt\",\"offsetgroup\":\"SC Wiener Neustadt\",\"orientation\":\"v\",\"showlegend\":true,\"x\":[\"in_game\",\"in_game\",\"in_game\",\"in_game\",\"in_game\",\"in_game\",\"in_game\",\"in_game\",\"in_game\",\"in_game\",\"in_game\"],\"xaxis\":\"x\",\"yaxis\":\"y\",\"type\":\"histogram\"},{\"alignmentgroup\":\"True\",\"bingroup\":\"x\",\"hovertemplate\":\"name=FC Marchfeld / Mannsdorf-Gro\\u00dfe.<br>goal_type=%{x}<br>count=%{y}<extra></extra>\",\"legendgroup\":\"FC Marchfeld / Mannsdorf-Gro\\u00dfe.\",\"marker\":{\"color\":\"#00cc96\",\"pattern\":{\"shape\":\"\"}},\"name\":\"FC Marchfeld / Mannsdorf-Gro\\u00dfe.\",\"offsetgroup\":\"FC Marchfeld / Mannsdorf-Gro\\u00dfe.\",\"orientation\":\"v\",\"showlegend\":true,\"x\":[\"in_game\",\"in_game\",\"eigentor\",\"in_game\",\"in_game\",\"in_game\",\"in_game\",\"in_game\",\"in_game\"],\"xaxis\":\"x\",\"yaxis\":\"y\",\"type\":\"histogram\"},{\"alignmentgroup\":\"True\",\"bingroup\":\"x\",\"hovertemplate\":\"name=SC Neusiedl am See 1919<br>goal_type=%{x}<br>count=%{y}<extra></extra>\",\"legendgroup\":\"SC Neusiedl am See 1919\",\"marker\":{\"color\":\"#ab63fa\",\"pattern\":{\"shape\":\"\"}},\"name\":\"SC Neusiedl am See 1919\",\"offsetgroup\":\"SC Neusiedl am See 1919\",\"orientation\":\"v\",\"showlegend\":true,\"x\":[\"in_game\",\"in_game\",\"freisto\\u00df\",\"in_game\",\"in_game\",\"in_game\",\"in_game\",\"strafsto\\u00df\",\"in_game\",\"in_game\"],\"xaxis\":\"x\",\"yaxis\":\"y\",\"type\":\"histogram\"},{\"alignmentgroup\":\"True\",\"bingroup\":\"x\",\"hovertemplate\":\"name=First Vienna FC 1894<br>goal_type=%{x}<br>count=%{y}<extra></extra>\",\"legendgroup\":\"First Vienna FC 1894\",\"marker\":{\"color\":\"#FFA15A\",\"pattern\":{\"shape\":\"\"}},\"name\":\"First Vienna FC 1894\",\"offsetgroup\":\"First Vienna FC 1894\",\"orientation\":\"v\",\"showlegend\":true,\"x\":[\"in_game\",\"in_game\",\"in_game\",\"in_game\",\"in_game\",\"in_game\",\"in_game\",\"in_game\",\"in_game\"],\"xaxis\":\"x\",\"yaxis\":\"y\",\"type\":\"histogram\"},{\"alignmentgroup\":\"True\",\"bingroup\":\"x\",\"hovertemplate\":\"name=Admira Juniors<br>goal_type=%{x}<br>count=%{y}<extra></extra>\",\"legendgroup\":\"Admira Juniors\",\"marker\":{\"color\":\"#19d3f3\",\"pattern\":{\"shape\":\"\"}},\"name\":\"Admira Juniors\",\"offsetgroup\":\"Admira Juniors\",\"orientation\":\"v\",\"showlegend\":true,\"x\":[\"in_game\",\"in_game\",\"in_game\",\"in_game\",\"in_game\",\"in_game\",\"in_game\"],\"xaxis\":\"x\",\"yaxis\":\"y\",\"type\":\"histogram\"},{\"alignmentgroup\":\"True\",\"bingroup\":\"x\",\"hovertemplate\":\"name=Dra\\u00dfburg<br>goal_type=%{x}<br>count=%{y}<extra></extra>\",\"legendgroup\":\"Dra\\u00dfburg\",\"marker\":{\"color\":\"#FF6692\",\"pattern\":{\"shape\":\"\"}},\"name\":\"Dra\\u00dfburg\",\"offsetgroup\":\"Dra\\u00dfburg\",\"orientation\":\"v\",\"showlegend\":true,\"x\":[\"in_game\",\"in_game\",\"in_game\",\"in_game\",\"in_game\",\"in_game\"],\"xaxis\":\"x\",\"yaxis\":\"y\",\"type\":\"histogram\"},{\"alignmentgroup\":\"True\",\"bingroup\":\"x\",\"hovertemplate\":\"name=FC Mauerwerk<br>goal_type=%{x}<br>count=%{y}<extra></extra>\",\"legendgroup\":\"FC Mauerwerk\",\"marker\":{\"color\":\"#B6E880\",\"pattern\":{\"shape\":\"\"}},\"name\":\"FC Mauerwerk\",\"offsetgroup\":\"FC Mauerwerk\",\"orientation\":\"v\",\"showlegend\":true,\"x\":[\"in_game\",\"in_game\",\"in_game\",\"in_game\",\"in_game\"],\"xaxis\":\"x\",\"yaxis\":\"y\",\"type\":\"histogram\"},{\"alignmentgroup\":\"True\",\"bingroup\":\"x\",\"hovertemplate\":\"name=ASK-BSC Bruck/Leitha<br>goal_type=%{x}<br>count=%{y}<extra></extra>\",\"legendgroup\":\"ASK-BSC Bruck/Leitha\",\"marker\":{\"color\":\"#FF97FF\",\"pattern\":{\"shape\":\"\"}},\"name\":\"ASK-BSC Bruck/Leitha\",\"offsetgroup\":\"ASK-BSC Bruck/Leitha\",\"orientation\":\"v\",\"showlegend\":true,\"x\":[\"in_game\",\"in_game\",\"in_game\",\"in_game\",\"strafsto\\u00df\",\"in_game\",\"in_game\"],\"xaxis\":\"x\",\"yaxis\":\"y\",\"type\":\"histogram\"},{\"alignmentgroup\":\"True\",\"bingroup\":\"x\",\"hovertemplate\":\"name=Wiener Viktoria<br>goal_type=%{x}<br>count=%{y}<extra></extra>\",\"legendgroup\":\"Wiener Viktoria\",\"marker\":{\"color\":\"#FECB52\",\"pattern\":{\"shape\":\"\"}},\"name\":\"Wiener Viktoria\",\"offsetgroup\":\"Wiener Viktoria\",\"orientation\":\"v\",\"showlegend\":true,\"x\":[\"in_game\",\"in_game\",\"in_game\",\"in_game\",\"in_game\"],\"xaxis\":\"x\",\"yaxis\":\"y\",\"type\":\"histogram\"},{\"alignmentgroup\":\"True\",\"bingroup\":\"x\",\"hovertemplate\":\"name=TWL Elektra<br>goal_type=%{x}<br>count=%{y}<extra></extra>\",\"legendgroup\":\"TWL Elektra\",\"marker\":{\"color\":\"#636efa\",\"pattern\":{\"shape\":\"\"}},\"name\":\"TWL Elektra\",\"offsetgroup\":\"TWL Elektra\",\"orientation\":\"v\",\"showlegend\":true,\"x\":[\"in_game\",\"strafsto\\u00df\",\"in_game\",\"in_game\"],\"xaxis\":\"x\",\"yaxis\":\"y\",\"type\":\"histogram\"},{\"alignmentgroup\":\"True\",\"bingroup\":\"x\",\"hovertemplate\":\"name=FCM Traiskirchen<br>goal_type=%{x}<br>count=%{y}<extra></extra>\",\"legendgroup\":\"FCM Traiskirchen\",\"marker\":{\"color\":\"#EF553B\",\"pattern\":{\"shape\":\"\"}},\"name\":\"FCM Traiskirchen\",\"offsetgroup\":\"FCM Traiskirchen\",\"orientation\":\"v\",\"showlegend\":true,\"x\":[\"in_game\",\"strafsto\\u00df\",\"strafsto\\u00df\",\"in_game\",\"in_game\"],\"xaxis\":\"x\",\"yaxis\":\"y\",\"type\":\"histogram\"},{\"alignmentgroup\":\"True\",\"bingroup\":\"x\",\"hovertemplate\":\"name=Wiener Sport-Club<br>goal_type=%{x}<br>count=%{y}<extra></extra>\",\"legendgroup\":\"Wiener Sport-Club\",\"marker\":{\"color\":\"#00cc96\",\"pattern\":{\"shape\":\"\"}},\"name\":\"Wiener Sport-Club\",\"offsetgroup\":\"Wiener Sport-Club\",\"orientation\":\"v\",\"showlegend\":true,\"x\":[\"in_game\",\"in_game\",\"in_game\",\"in_game\",\"in_game\",\"in_game\",\"in_game\",\"in_game\"],\"xaxis\":\"x\",\"yaxis\":\"y\",\"type\":\"histogram\"},{\"alignmentgroup\":\"True\",\"bingroup\":\"x\",\"hovertemplate\":\"name=SV Leobendorf<br>goal_type=%{x}<br>count=%{y}<extra></extra>\",\"legendgroup\":\"SV Leobendorf\",\"marker\":{\"color\":\"#ab63fa\",\"pattern\":{\"shape\":\"\"}},\"name\":\"SV Leobendorf\",\"offsetgroup\":\"SV Leobendorf\",\"orientation\":\"v\",\"showlegend\":true,\"x\":[\"in_game\",\"in_game\",\"in_game\",\"in_game\",\"strafsto\\u00df\",\"in_game\",\"in_game\"],\"xaxis\":\"x\",\"yaxis\":\"y\",\"type\":\"histogram\"}],                        {\"template\":{\"data\":{\"histogram2dcontour\":[{\"type\":\"histogram2dcontour\",\"colorbar\":{\"outlinewidth\":0,\"ticks\":\"\"},\"colorscale\":[[0.0,\"#0d0887\"],[0.1111111111111111,\"#46039f\"],[0.2222222222222222,\"#7201a8\"],[0.3333333333333333,\"#9c179e\"],[0.4444444444444444,\"#bd3786\"],[0.5555555555555556,\"#d8576b\"],[0.6666666666666666,\"#ed7953\"],[0.7777777777777778,\"#fb9f3a\"],[0.8888888888888888,\"#fdca26\"],[1.0,\"#f0f921\"]]}],\"choropleth\":[{\"type\":\"choropleth\",\"colorbar\":{\"outlinewidth\":0,\"ticks\":\"\"}}],\"histogram2d\":[{\"type\":\"histogram2d\",\"colorbar\":{\"outlinewidth\":0,\"ticks\":\"\"},\"colorscale\":[[0.0,\"#0d0887\"],[0.1111111111111111,\"#46039f\"],[0.2222222222222222,\"#7201a8\"],[0.3333333333333333,\"#9c179e\"],[0.4444444444444444,\"#bd3786\"],[0.5555555555555556,\"#d8576b\"],[0.6666666666666666,\"#ed7953\"],[0.7777777777777778,\"#fb9f3a\"],[0.8888888888888888,\"#fdca26\"],[1.0,\"#f0f921\"]]}],\"heatmap\":[{\"type\":\"heatmap\",\"colorbar\":{\"outlinewidth\":0,\"ticks\":\"\"},\"colorscale\":[[0.0,\"#0d0887\"],[0.1111111111111111,\"#46039f\"],[0.2222222222222222,\"#7201a8\"],[0.3333333333333333,\"#9c179e\"],[0.4444444444444444,\"#bd3786\"],[0.5555555555555556,\"#d8576b\"],[0.6666666666666666,\"#ed7953\"],[0.7777777777777778,\"#fb9f3a\"],[0.8888888888888888,\"#fdca26\"],[1.0,\"#f0f921\"]]}],\"heatmapgl\":[{\"type\":\"heatmapgl\",\"colorbar\":{\"outlinewidth\":0,\"ticks\":\"\"},\"colorscale\":[[0.0,\"#0d0887\"],[0.1111111111111111,\"#46039f\"],[0.2222222222222222,\"#7201a8\"],[0.3333333333333333,\"#9c179e\"],[0.4444444444444444,\"#bd3786\"],[0.5555555555555556,\"#d8576b\"],[0.6666666666666666,\"#ed7953\"],[0.7777777777777778,\"#fb9f3a\"],[0.8888888888888888,\"#fdca26\"],[1.0,\"#f0f921\"]]}],\"contourcarpet\":[{\"type\":\"contourcarpet\",\"colorbar\":{\"outlinewidth\":0,\"ticks\":\"\"}}],\"contour\":[{\"type\":\"contour\",\"colorbar\":{\"outlinewidth\":0,\"ticks\":\"\"},\"colorscale\":[[0.0,\"#0d0887\"],[0.1111111111111111,\"#46039f\"],[0.2222222222222222,\"#7201a8\"],[0.3333333333333333,\"#9c179e\"],[0.4444444444444444,\"#bd3786\"],[0.5555555555555556,\"#d8576b\"],[0.6666666666666666,\"#ed7953\"],[0.7777777777777778,\"#fb9f3a\"],[0.8888888888888888,\"#fdca26\"],[1.0,\"#f0f921\"]]}],\"surface\":[{\"type\":\"surface\",\"colorbar\":{\"outlinewidth\":0,\"ticks\":\"\"},\"colorscale\":[[0.0,\"#0d0887\"],[0.1111111111111111,\"#46039f\"],[0.2222222222222222,\"#7201a8\"],[0.3333333333333333,\"#9c179e\"],[0.4444444444444444,\"#bd3786\"],[0.5555555555555556,\"#d8576b\"],[0.6666666666666666,\"#ed7953\"],[0.7777777777777778,\"#fb9f3a\"],[0.8888888888888888,\"#fdca26\"],[1.0,\"#f0f921\"]]}],\"mesh3d\":[{\"type\":\"mesh3d\",\"colorbar\":{\"outlinewidth\":0,\"ticks\":\"\"}}],\"scatter\":[{\"fillpattern\":{\"fillmode\":\"overlay\",\"size\":10,\"solidity\":0.2},\"type\":\"scatter\"}],\"parcoords\":[{\"type\":\"parcoords\",\"line\":{\"colorbar\":{\"outlinewidth\":0,\"ticks\":\"\"}}}],\"scatterpolargl\":[{\"type\":\"scatterpolargl\",\"marker\":{\"colorbar\":{\"outlinewidth\":0,\"ticks\":\"\"}}}],\"bar\":[{\"error_x\":{\"color\":\"#2a3f5f\"},\"error_y\":{\"color\":\"#2a3f5f\"},\"marker\":{\"line\":{\"color\":\"#E5ECF6\",\"width\":0.5},\"pattern\":{\"fillmode\":\"overlay\",\"size\":10,\"solidity\":0.2}},\"type\":\"bar\"}],\"scattergeo\":[{\"type\":\"scattergeo\",\"marker\":{\"colorbar\":{\"outlinewidth\":0,\"ticks\":\"\"}}}],\"scatterpolar\":[{\"type\":\"scatterpolar\",\"marker\":{\"colorbar\":{\"outlinewidth\":0,\"ticks\":\"\"}}}],\"histogram\":[{\"marker\":{\"pattern\":{\"fillmode\":\"overlay\",\"size\":10,\"solidity\":0.2}},\"type\":\"histogram\"}],\"scattergl\":[{\"type\":\"scattergl\",\"marker\":{\"colorbar\":{\"outlinewidth\":0,\"ticks\":\"\"}}}],\"scatter3d\":[{\"type\":\"scatter3d\",\"line\":{\"colorbar\":{\"outlinewidth\":0,\"ticks\":\"\"}},\"marker\":{\"colorbar\":{\"outlinewidth\":0,\"ticks\":\"\"}}}],\"scattermapbox\":[{\"type\":\"scattermapbox\",\"marker\":{\"colorbar\":{\"outlinewidth\":0,\"ticks\":\"\"}}}],\"scatterternary\":[{\"type\":\"scatterternary\",\"marker\":{\"colorbar\":{\"outlinewidth\":0,\"ticks\":\"\"}}}],\"scattercarpet\":[{\"type\":\"scattercarpet\",\"marker\":{\"colorbar\":{\"outlinewidth\":0,\"ticks\":\"\"}}}],\"carpet\":[{\"aaxis\":{\"endlinecolor\":\"#2a3f5f\",\"gridcolor\":\"white\",\"linecolor\":\"white\",\"minorgridcolor\":\"white\",\"startlinecolor\":\"#2a3f5f\"},\"baxis\":{\"endlinecolor\":\"#2a3f5f\",\"gridcolor\":\"white\",\"linecolor\":\"white\",\"minorgridcolor\":\"white\",\"startlinecolor\":\"#2a3f5f\"},\"type\":\"carpet\"}],\"table\":[{\"cells\":{\"fill\":{\"color\":\"#EBF0F8\"},\"line\":{\"color\":\"white\"}},\"header\":{\"fill\":{\"color\":\"#C8D4E3\"},\"line\":{\"color\":\"white\"}},\"type\":\"table\"}],\"barpolar\":[{\"marker\":{\"line\":{\"color\":\"#E5ECF6\",\"width\":0.5},\"pattern\":{\"fillmode\":\"overlay\",\"size\":10,\"solidity\":0.2}},\"type\":\"barpolar\"}],\"pie\":[{\"automargin\":true,\"type\":\"pie\"}]},\"layout\":{\"autotypenumbers\":\"strict\",\"colorway\":[\"#636efa\",\"#EF553B\",\"#00cc96\",\"#ab63fa\",\"#FFA15A\",\"#19d3f3\",\"#FF6692\",\"#B6E880\",\"#FF97FF\",\"#FECB52\"],\"font\":{\"color\":\"#2a3f5f\"},\"hovermode\":\"closest\",\"hoverlabel\":{\"align\":\"left\"},\"paper_bgcolor\":\"white\",\"plot_bgcolor\":\"#E5ECF6\",\"polar\":{\"bgcolor\":\"#E5ECF6\",\"angularaxis\":{\"gridcolor\":\"white\",\"linecolor\":\"white\",\"ticks\":\"\"},\"radialaxis\":{\"gridcolor\":\"white\",\"linecolor\":\"white\",\"ticks\":\"\"}},\"ternary\":{\"bgcolor\":\"#E5ECF6\",\"aaxis\":{\"gridcolor\":\"white\",\"linecolor\":\"white\",\"ticks\":\"\"},\"baxis\":{\"gridcolor\":\"white\",\"linecolor\":\"white\",\"ticks\":\"\"},\"caxis\":{\"gridcolor\":\"white\",\"linecolor\":\"white\",\"ticks\":\"\"}},\"coloraxis\":{\"colorbar\":{\"outlinewidth\":0,\"ticks\":\"\"}},\"colorscale\":{\"sequential\":[[0.0,\"#0d0887\"],[0.1111111111111111,\"#46039f\"],[0.2222222222222222,\"#7201a8\"],[0.3333333333333333,\"#9c179e\"],[0.4444444444444444,\"#bd3786\"],[0.5555555555555556,\"#d8576b\"],[0.6666666666666666,\"#ed7953\"],[0.7777777777777778,\"#fb9f3a\"],[0.8888888888888888,\"#fdca26\"],[1.0,\"#f0f921\"]],\"sequentialminus\":[[0.0,\"#0d0887\"],[0.1111111111111111,\"#46039f\"],[0.2222222222222222,\"#7201a8\"],[0.3333333333333333,\"#9c179e\"],[0.4444444444444444,\"#bd3786\"],[0.5555555555555556,\"#d8576b\"],[0.6666666666666666,\"#ed7953\"],[0.7777777777777778,\"#fb9f3a\"],[0.8888888888888888,\"#fdca26\"],[1.0,\"#f0f921\"]],\"diverging\":[[0,\"#8e0152\"],[0.1,\"#c51b7d\"],[0.2,\"#de77ae\"],[0.3,\"#f1b6da\"],[0.4,\"#fde0ef\"],[0.5,\"#f7f7f7\"],[0.6,\"#e6f5d0\"],[0.7,\"#b8e186\"],[0.8,\"#7fbc41\"],[0.9,\"#4d9221\"],[1,\"#276419\"]]},\"xaxis\":{\"gridcolor\":\"white\",\"linecolor\":\"white\",\"ticks\":\"\",\"title\":{\"standoff\":15},\"zerolinecolor\":\"white\",\"automargin\":true,\"zerolinewidth\":2},\"yaxis\":{\"gridcolor\":\"white\",\"linecolor\":\"white\",\"ticks\":\"\",\"title\":{\"standoff\":15},\"zerolinecolor\":\"white\",\"automargin\":true,\"zerolinewidth\":2},\"scene\":{\"xaxis\":{\"backgroundcolor\":\"#E5ECF6\",\"gridcolor\":\"white\",\"linecolor\":\"white\",\"showbackground\":true,\"ticks\":\"\",\"zerolinecolor\":\"white\",\"gridwidth\":2},\"yaxis\":{\"backgroundcolor\":\"#E5ECF6\",\"gridcolor\":\"white\",\"linecolor\":\"white\",\"showbackground\":true,\"ticks\":\"\",\"zerolinecolor\":\"white\",\"gridwidth\":2},\"zaxis\":{\"backgroundcolor\":\"#E5ECF6\",\"gridcolor\":\"white\",\"linecolor\":\"white\",\"showbackground\":true,\"ticks\":\"\",\"zerolinecolor\":\"white\",\"gridwidth\":2}},\"shapedefaults\":{\"line\":{\"color\":\"#2a3f5f\"}},\"annotationdefaults\":{\"arrowcolor\":\"#2a3f5f\",\"arrowhead\":0,\"arrowwidth\":1},\"geo\":{\"bgcolor\":\"white\",\"landcolor\":\"#E5ECF6\",\"subunitcolor\":\"white\",\"showland\":true,\"showlakes\":true,\"lakecolor\":\"white\"},\"title\":{\"x\":0.05},\"mapbox\":{\"style\":\"light\"}}},\"xaxis\":{\"anchor\":\"y\",\"domain\":[0.0,1.0],\"title\":{\"text\":\"goal_type\"}},\"yaxis\":{\"anchor\":\"x\",\"domain\":[0.0,1.0],\"title\":{\"text\":\"count\"}},\"legend\":{\"title\":{\"text\":\"name\"},\"tracegroupgap\":0},\"title\":{\"text\":\"Wie wurden Tore geschossen mit Mandl\"},\"barmode\":\"stack\"},                        {\"responsive\": true}                    ).then(function(){\n",
       "                            \n",
       "var gd = document.getElementById('1c7a7779-a6a1-42b6-b3dc-9ba60ef55e9e');\n",
       "var x = new MutationObserver(function (mutations, observer) {{\n",
       "        var display = window.getComputedStyle(gd).display;\n",
       "        if (!display || display === 'none') {{\n",
       "            console.log([gd, 'removed!']);\n",
       "            Plotly.purge(gd);\n",
       "            observer.disconnect();\n",
       "        }}\n",
       "}});\n",
       "\n",
       "// Listen for the removal of the full notebook cells\n",
       "var notebookContainer = gd.closest('#notebook-container');\n",
       "if (notebookContainer) {{\n",
       "    x.observe(notebookContainer, {childList: true});\n",
       "}}\n",
       "\n",
       "// Listen for the clearing of the current output cell\n",
       "var outputEl = gd.closest('.output');\n",
       "if (outputEl) {{\n",
       "    x.observe(outputEl, {childList: true});\n",
       "}}\n",
       "\n",
       "                        })                };                });            </script>        </div>"
      ]
     },
     "metadata": {},
     "output_type": "display_data"
    }
   ],
   "source": [
    "df=query_database(query_table.format(trainer_zeit[0],trainer_zeit[1],vereine[0],vereine[0]),database=\"verbands.db\")\n",
    "df[\"goal_type\"]=df[\"text\"].apply(lambda x: goal_type(x))\n",
    "fig=px.histogram(df, x=\"goal_type\" ,color=\"name\",title=\"Wie wurden Tore geschossen mit Mandl\")\n",
    "fig.update_layout(barmode='stack') #\"stack\", \"relative\", \"group\"\n",
    "fig.show()"
   ]
  },
  {
   "cell_type": "code",
   "execution_count": null,
   "id": "6c6caa22",
   "metadata": {
    "slideshow": {
     "slide_type": "subslide"
    }
   },
   "outputs": [
    {
     "data": {
      "text/html": [
       "<style type=\"text/css\">\n",
       "</style>\n",
       "<table id=\"T_df622_\">\n",
       "  <thead>\n",
       "    <tr>\n",
       "      <th class=\"col_heading level0 col0\" >name</th>\n",
       "      <th class=\"col_heading level0 col1\" >goal_type</th>\n",
       "      <th class=\"col_heading level0 col2\" >count</th>\n",
       "    </tr>\n",
       "  </thead>\n",
       "  <tbody>\n",
       "    <tr>\n",
       "      <td id=\"T_df622_row0_col0\" class=\"data row0 col0\" >ASK-BSC Bruck/Leitha</td>\n",
       "      <td id=\"T_df622_row0_col1\" class=\"data row0 col1\" >in_game</td>\n",
       "      <td id=\"T_df622_row0_col2\" class=\"data row0 col2\" >6</td>\n",
       "    </tr>\n",
       "    <tr>\n",
       "      <td id=\"T_df622_row1_col0\" class=\"data row1 col0\" >ASK-BSC Bruck/Leitha</td>\n",
       "      <td id=\"T_df622_row1_col1\" class=\"data row1 col1\" >strafstoß</td>\n",
       "      <td id=\"T_df622_row1_col2\" class=\"data row1 col2\" >1</td>\n",
       "    </tr>\n",
       "    <tr>\n",
       "      <td id=\"T_df622_row2_col0\" class=\"data row2 col0\" >Admira Juniors</td>\n",
       "      <td id=\"T_df622_row2_col1\" class=\"data row2 col1\" >in_game</td>\n",
       "      <td id=\"T_df622_row2_col2\" class=\"data row2 col2\" >7</td>\n",
       "    </tr>\n",
       "    <tr>\n",
       "      <td id=\"T_df622_row3_col0\" class=\"data row3 col0\" >Draßburg</td>\n",
       "      <td id=\"T_df622_row3_col1\" class=\"data row3 col1\" >in_game</td>\n",
       "      <td id=\"T_df622_row3_col2\" class=\"data row3 col2\" >6</td>\n",
       "    </tr>\n",
       "    <tr>\n",
       "      <td id=\"T_df622_row4_col0\" class=\"data row4 col0\" >FC Marchfeld / Mannsdorf-Große.</td>\n",
       "      <td id=\"T_df622_row4_col1\" class=\"data row4 col1\" >eigentor</td>\n",
       "      <td id=\"T_df622_row4_col2\" class=\"data row4 col2\" >1</td>\n",
       "    </tr>\n",
       "    <tr>\n",
       "      <td id=\"T_df622_row5_col0\" class=\"data row5 col0\" >FC Marchfeld / Mannsdorf-Große.</td>\n",
       "      <td id=\"T_df622_row5_col1\" class=\"data row5 col1\" >in_game</td>\n",
       "      <td id=\"T_df622_row5_col2\" class=\"data row5 col2\" >8</td>\n",
       "    </tr>\n",
       "    <tr>\n",
       "      <td id=\"T_df622_row6_col0\" class=\"data row6 col0\" >FC Mauerwerk</td>\n",
       "      <td id=\"T_df622_row6_col1\" class=\"data row6 col1\" >in_game</td>\n",
       "      <td id=\"T_df622_row6_col2\" class=\"data row6 col2\" >5</td>\n",
       "    </tr>\n",
       "    <tr>\n",
       "      <td id=\"T_df622_row7_col0\" class=\"data row7 col0\" >FCM Traiskirchen</td>\n",
       "      <td id=\"T_df622_row7_col1\" class=\"data row7 col1\" >in_game</td>\n",
       "      <td id=\"T_df622_row7_col2\" class=\"data row7 col2\" >3</td>\n",
       "    </tr>\n",
       "    <tr>\n",
       "      <td id=\"T_df622_row8_col0\" class=\"data row8 col0\" >FCM Traiskirchen</td>\n",
       "      <td id=\"T_df622_row8_col1\" class=\"data row8 col1\" >strafstoß</td>\n",
       "      <td id=\"T_df622_row8_col2\" class=\"data row8 col2\" >2</td>\n",
       "    </tr>\n",
       "    <tr>\n",
       "      <td id=\"T_df622_row9_col0\" class=\"data row9 col0\" >First Vienna FC 1894</td>\n",
       "      <td id=\"T_df622_row9_col1\" class=\"data row9 col1\" >in_game</td>\n",
       "      <td id=\"T_df622_row9_col2\" class=\"data row9 col2\" >9</td>\n",
       "    </tr>\n",
       "    <tr>\n",
       "      <td id=\"T_df622_row10_col0\" class=\"data row10 col0\" >SC Neusiedl am See 1919</td>\n",
       "      <td id=\"T_df622_row10_col1\" class=\"data row10 col1\" >freistoß</td>\n",
       "      <td id=\"T_df622_row10_col2\" class=\"data row10 col2\" >1</td>\n",
       "    </tr>\n",
       "    <tr>\n",
       "      <td id=\"T_df622_row11_col0\" class=\"data row11 col0\" >SC Neusiedl am See 1919</td>\n",
       "      <td id=\"T_df622_row11_col1\" class=\"data row11 col1\" >in_game</td>\n",
       "      <td id=\"T_df622_row11_col2\" class=\"data row11 col2\" >8</td>\n",
       "    </tr>\n",
       "    <tr>\n",
       "      <td id=\"T_df622_row12_col0\" class=\"data row12 col0\" >SC Neusiedl am See 1919</td>\n",
       "      <td id=\"T_df622_row12_col1\" class=\"data row12 col1\" >strafstoß</td>\n",
       "      <td id=\"T_df622_row12_col2\" class=\"data row12 col2\" >1</td>\n",
       "    </tr>\n",
       "    <tr>\n",
       "      <td id=\"T_df622_row13_col0\" class=\"data row13 col0\" >SC Wiener Neustadt</td>\n",
       "      <td id=\"T_df622_row13_col1\" class=\"data row13 col1\" >in_game</td>\n",
       "      <td id=\"T_df622_row13_col2\" class=\"data row13 col2\" >11</td>\n",
       "    </tr>\n",
       "    <tr>\n",
       "      <td id=\"T_df622_row14_col0\" class=\"data row14 col0\" >SV Leobendorf</td>\n",
       "      <td id=\"T_df622_row14_col1\" class=\"data row14 col1\" >in_game</td>\n",
       "      <td id=\"T_df622_row14_col2\" class=\"data row14 col2\" >6</td>\n",
       "    </tr>\n",
       "    <tr>\n",
       "      <td id=\"T_df622_row15_col0\" class=\"data row15 col0\" >SV Leobendorf</td>\n",
       "      <td id=\"T_df622_row15_col1\" class=\"data row15 col1\" >strafstoß</td>\n",
       "      <td id=\"T_df622_row15_col2\" class=\"data row15 col2\" >1</td>\n",
       "    </tr>\n",
       "    <tr>\n",
       "      <td id=\"T_df622_row16_col0\" class=\"data row16 col0\" >Stripfing</td>\n",
       "      <td id=\"T_df622_row16_col1\" class=\"data row16 col1\" >in_game</td>\n",
       "      <td id=\"T_df622_row16_col2\" class=\"data row16 col2\" >13</td>\n",
       "    </tr>\n",
       "    <tr>\n",
       "      <td id=\"T_df622_row17_col0\" class=\"data row17 col0\" >TWL Elektra</td>\n",
       "      <td id=\"T_df622_row17_col1\" class=\"data row17 col1\" >in_game</td>\n",
       "      <td id=\"T_df622_row17_col2\" class=\"data row17 col2\" >3</td>\n",
       "    </tr>\n",
       "    <tr>\n",
       "      <td id=\"T_df622_row18_col0\" class=\"data row18 col0\" >TWL Elektra</td>\n",
       "      <td id=\"T_df622_row18_col1\" class=\"data row18 col1\" >strafstoß</td>\n",
       "      <td id=\"T_df622_row18_col2\" class=\"data row18 col2\" >1</td>\n",
       "    </tr>\n",
       "    <tr>\n",
       "      <td id=\"T_df622_row19_col0\" class=\"data row19 col0\" >Wiener Sport-Club</td>\n",
       "      <td id=\"T_df622_row19_col1\" class=\"data row19 col1\" >in_game</td>\n",
       "      <td id=\"T_df622_row19_col2\" class=\"data row19 col2\" >8</td>\n",
       "    </tr>\n",
       "    <tr>\n",
       "      <td id=\"T_df622_row20_col0\" class=\"data row20 col0\" >Wiener Viktoria</td>\n",
       "      <td id=\"T_df622_row20_col1\" class=\"data row20 col1\" >in_game</td>\n",
       "      <td id=\"T_df622_row20_col2\" class=\"data row20 col2\" >5</td>\n",
       "    </tr>\n",
       "  </tbody>\n",
       "</table>\n"
      ],
      "text/plain": [
       "<pandas.io.formats.style.Styler at 0x2a7f8a21a48>"
      ]
     },
     "execution_count": 27,
     "metadata": {},
     "output_type": "execute_result"
    }
   ],
   "source": [
    "df.groupby([\"name\",\"goal_type\"])[\"goal_type\"].count().reset_index(name='count').style.hide_index()"
   ]
  },
  {
   "cell_type": "code",
   "execution_count": null,
   "id": "c58768d7",
   "metadata": {
    "slideshow": {
     "slide_type": "subslide"
    }
   },
   "outputs": [
    {
     "data": {
      "application/vnd.plotly.v1+json": {
       "config": {
        "plotlyServerURL": "https://plot.ly"
       },
       "data": [
        {
         "alignmentgroup": "True",
         "bingroup": "x",
         "hovertemplate": "name=SC Neusiedl am See 1919<br>goal_type=%{x}<br>count=%{y}<extra></extra>",
         "legendgroup": "SC Neusiedl am See 1919",
         "marker": {
          "color": "#636efa",
          "pattern": {
           "shape": ""
          }
         },
         "name": "SC Neusiedl am See 1919",
         "offsetgroup": "SC Neusiedl am See 1919",
         "orientation": "v",
         "showlegend": true,
         "type": "histogram",
         "x": [
          "in_game",
          "in_game",
          "in_game",
          "in_game",
          "in_game",
          "in_game",
          "in_game",
          "in_game",
          "in_game",
          "in_game",
          "in_game",
          "in_game",
          "in_game",
          "in_game",
          "in_game",
          "in_game",
          "in_game",
          "in_game",
          "in_game",
          "in_game",
          "in_game",
          "in_game",
          "in_game",
          "strafstoß",
          "in_game",
          "eigentor",
          "in_game",
          "in_game",
          "in_game",
          "in_game"
         ],
         "xaxis": "x",
         "yaxis": "y"
        },
        {
         "alignmentgroup": "True",
         "bingroup": "x",
         "hovertemplate": "name=TWL Elektra<br>goal_type=%{x}<br>count=%{y}<extra></extra>",
         "legendgroup": "TWL Elektra",
         "marker": {
          "color": "#EF553B",
          "pattern": {
           "shape": ""
          }
         },
         "name": "TWL Elektra",
         "offsetgroup": "TWL Elektra",
         "orientation": "v",
         "showlegend": true,
         "type": "histogram",
         "x": [
          "in_game",
          "in_game",
          "in_game",
          "in_game",
          "in_game",
          "in_game",
          "in_game",
          "in_game",
          "in_game",
          "in_game",
          "in_game",
          "in_game",
          "in_game",
          "in_game",
          "in_game",
          "in_game",
          "in_game",
          "in_game",
          "in_game",
          "in_game",
          "in_game",
          "in_game",
          "in_game",
          "strafstoß",
          "eigentor",
          "in_game",
          "in_game",
          "in_game",
          "in_game",
          "in_game",
          "in_game"
         ],
         "xaxis": "x",
         "yaxis": "y"
        },
        {
         "alignmentgroup": "True",
         "bingroup": "x",
         "hovertemplate": "name=First Vienna FC 1894<br>goal_type=%{x}<br>count=%{y}<extra></extra>",
         "legendgroup": "First Vienna FC 1894",
         "marker": {
          "color": "#00cc96",
          "pattern": {
           "shape": ""
          }
         },
         "name": "First Vienna FC 1894",
         "offsetgroup": "First Vienna FC 1894",
         "orientation": "v",
         "showlegend": true,
         "type": "histogram",
         "x": [
          "in_game",
          "in_game",
          "in_game",
          "in_game",
          "in_game",
          "in_game",
          "in_game",
          "in_game",
          "in_game",
          "in_game",
          "in_game",
          "in_game",
          "in_game",
          "in_game",
          "in_game",
          "in_game",
          "in_game",
          "in_game",
          "in_game",
          "in_game",
          "in_game",
          "in_game",
          "in_game",
          "in_game",
          "in_game",
          "in_game",
          "in_game",
          "in_game",
          "in_game",
          "in_game",
          "in_game",
          "in_game",
          "in_game",
          "in_game",
          "in_game",
          "in_game",
          "in_game",
          "in_game",
          "in_game",
          "in_game",
          "in_game"
         ],
         "xaxis": "x",
         "yaxis": "y"
        },
        {
         "alignmentgroup": "True",
         "bingroup": "x",
         "hovertemplate": "name=SC Wiener Neustadt<br>goal_type=%{x}<br>count=%{y}<extra></extra>",
         "legendgroup": "SC Wiener Neustadt",
         "marker": {
          "color": "#ab63fa",
          "pattern": {
           "shape": ""
          }
         },
         "name": "SC Wiener Neustadt",
         "offsetgroup": "SC Wiener Neustadt",
         "orientation": "v",
         "showlegend": true,
         "type": "histogram",
         "x": [
          "in_game",
          "in_game",
          "eigentor",
          "in_game",
          "in_game",
          "in_game",
          "in_game",
          "in_game",
          "in_game",
          "in_game",
          "in_game",
          "in_game",
          "in_game",
          "in_game",
          "in_game",
          "in_game",
          "in_game",
          "in_game",
          "in_game",
          "in_game"
         ],
         "xaxis": "x",
         "yaxis": "y"
        },
        {
         "alignmentgroup": "True",
         "bingroup": "x",
         "hovertemplate": "name=Stripfing<br>goal_type=%{x}<br>count=%{y}<extra></extra>",
         "legendgroup": "Stripfing",
         "marker": {
          "color": "#FFA15A",
          "pattern": {
           "shape": ""
          }
         },
         "name": "Stripfing",
         "offsetgroup": "Stripfing",
         "orientation": "v",
         "showlegend": true,
         "type": "histogram",
         "x": [
          "in_game",
          "in_game",
          "in_game",
          "in_game",
          "in_game",
          "in_game",
          "in_game",
          "in_game",
          "in_game",
          "in_game",
          "in_game",
          "in_game",
          "in_game",
          "in_game",
          "in_game",
          "in_game",
          "in_game",
          "strafstoß",
          "in_game",
          "in_game",
          "in_game",
          "in_game",
          "strafstoß",
          "in_game",
          "in_game",
          "in_game",
          "strafstoß",
          "in_game",
          "in_game",
          "in_game",
          "in_game",
          "in_game",
          "in_game",
          "in_game",
          "in_game",
          "in_game",
          "in_game",
          "in_game",
          "in_game",
          "in_game",
          "in_game",
          "in_game",
          "in_game",
          "in_game",
          "in_game",
          "in_game",
          "in_game"
         ],
         "xaxis": "x",
         "yaxis": "y"
        },
        {
         "alignmentgroup": "True",
         "bingroup": "x",
         "hovertemplate": "name=FCM Traiskirchen<br>goal_type=%{x}<br>count=%{y}<extra></extra>",
         "legendgroup": "FCM Traiskirchen",
         "marker": {
          "color": "#19d3f3",
          "pattern": {
           "shape": ""
          }
         },
         "name": "FCM Traiskirchen",
         "offsetgroup": "FCM Traiskirchen",
         "orientation": "v",
         "showlegend": true,
         "type": "histogram",
         "x": [
          "in_game",
          "in_game",
          "strafstoß",
          "in_game",
          "in_game",
          "in_game",
          "in_game",
          "in_game",
          "in_game",
          "in_game",
          "freistoß",
          "in_game",
          "in_game",
          "in_game",
          "in_game",
          "in_game",
          "strafstoß",
          "in_game",
          "in_game",
          "in_game",
          "in_game",
          "in_game",
          "in_game",
          "in_game",
          "in_game",
          "in_game",
          "in_game",
          "in_game",
          "in_game",
          "in_game",
          "in_game",
          "in_game",
          "in_game",
          "in_game",
          "in_game",
          "in_game"
         ],
         "xaxis": "x",
         "yaxis": "y"
        },
        {
         "alignmentgroup": "True",
         "bingroup": "x",
         "hovertemplate": "name=SV Leobendorf<br>goal_type=%{x}<br>count=%{y}<extra></extra>",
         "legendgroup": "SV Leobendorf",
         "marker": {
          "color": "#FF6692",
          "pattern": {
           "shape": ""
          }
         },
         "name": "SV Leobendorf",
         "offsetgroup": "SV Leobendorf",
         "orientation": "v",
         "showlegend": true,
         "type": "histogram",
         "x": [
          "in_game",
          "in_game",
          "in_game",
          "in_game",
          "in_game",
          "in_game",
          "in_game",
          "in_game",
          "in_game",
          "in_game",
          "in_game",
          "in_game",
          "in_game",
          "in_game",
          "in_game",
          "in_game",
          "in_game",
          "in_game",
          "in_game",
          "in_game",
          "in_game",
          "in_game",
          "in_game",
          "in_game",
          "in_game",
          "in_game",
          "in_game",
          "strafstoß",
          "in_game",
          "in_game",
          "in_game",
          "in_game",
          "in_game",
          "in_game",
          "in_game",
          "in_game",
          "in_game",
          "in_game"
         ],
         "xaxis": "x",
         "yaxis": "y"
        },
        {
         "alignmentgroup": "True",
         "bingroup": "x",
         "hovertemplate": "name=Wiener Viktoria<br>goal_type=%{x}<br>count=%{y}<extra></extra>",
         "legendgroup": "Wiener Viktoria",
         "marker": {
          "color": "#B6E880",
          "pattern": {
           "shape": ""
          }
         },
         "name": "Wiener Viktoria",
         "offsetgroup": "Wiener Viktoria",
         "orientation": "v",
         "showlegend": true,
         "type": "histogram",
         "x": [
          "in_game",
          "in_game",
          "in_game",
          "in_game",
          "in_game",
          "in_game",
          "in_game",
          "in_game",
          "in_game",
          "in_game",
          "in_game",
          "in_game",
          "strafstoß",
          "in_game",
          "in_game",
          "in_game",
          "in_game",
          "strafstoß",
          "in_game",
          "in_game",
          "in_game",
          "in_game",
          "in_game",
          "in_game",
          "in_game",
          "in_game",
          "in_game",
          "in_game",
          "in_game",
          "in_game"
         ],
         "xaxis": "x",
         "yaxis": "y"
        },
        {
         "alignmentgroup": "True",
         "bingroup": "x",
         "hovertemplate": "name=Draßburg<br>goal_type=%{x}<br>count=%{y}<extra></extra>",
         "legendgroup": "Draßburg",
         "marker": {
          "color": "#FF97FF",
          "pattern": {
           "shape": ""
          }
         },
         "name": "Draßburg",
         "offsetgroup": "Draßburg",
         "orientation": "v",
         "showlegend": true,
         "type": "histogram",
         "x": [
          "in_game",
          "in_game",
          "in_game",
          "in_game",
          "in_game",
          "in_game",
          "in_game",
          "in_game",
          "in_game",
          "in_game",
          "in_game",
          "in_game",
          "in_game",
          "in_game",
          "in_game"
         ],
         "xaxis": "x",
         "yaxis": "y"
        },
        {
         "alignmentgroup": "True",
         "bingroup": "x",
         "hovertemplate": "name=Wiener Sport-Club<br>goal_type=%{x}<br>count=%{y}<extra></extra>",
         "legendgroup": "Wiener Sport-Club",
         "marker": {
          "color": "#FECB52",
          "pattern": {
           "shape": ""
          }
         },
         "name": "Wiener Sport-Club",
         "offsetgroup": "Wiener Sport-Club",
         "orientation": "v",
         "showlegend": true,
         "type": "histogram",
         "x": [
          "in_game",
          "in_game",
          "in_game",
          "in_game",
          "in_game",
          "in_game",
          "in_game",
          "in_game",
          "in_game",
          "in_game",
          "in_game",
          "in_game",
          "in_game",
          "in_game",
          "in_game",
          "in_game",
          "in_game",
          "in_game",
          "in_game",
          "in_game",
          "in_game",
          "in_game",
          "in_game",
          "freistoß",
          "in_game",
          "in_game",
          "in_game",
          "in_game",
          "in_game",
          "in_game",
          "strafstoß",
          "in_game",
          "in_game",
          "in_game",
          "in_game",
          "in_game",
          "in_game",
          "eigentor",
          "in_game",
          "in_game",
          "in_game"
         ],
         "xaxis": "x",
         "yaxis": "y"
        },
        {
         "alignmentgroup": "True",
         "bingroup": "x",
         "hovertemplate": "name=ASK-BSC Bruck/Leitha<br>goal_type=%{x}<br>count=%{y}<extra></extra>",
         "legendgroup": "ASK-BSC Bruck/Leitha",
         "marker": {
          "color": "#636efa",
          "pattern": {
           "shape": ""
          }
         },
         "name": "ASK-BSC Bruck/Leitha",
         "offsetgroup": "ASK-BSC Bruck/Leitha",
         "orientation": "v",
         "showlegend": true,
         "type": "histogram",
         "x": [
          "strafstoß",
          "in_game",
          "in_game",
          "in_game",
          "in_game",
          "in_game",
          "in_game",
          "in_game",
          "in_game",
          "in_game",
          "in_game",
          "in_game",
          "in_game",
          "in_game",
          "in_game",
          "in_game",
          "in_game",
          "in_game",
          "in_game",
          "in_game",
          "in_game",
          "in_game",
          "in_game",
          "in_game",
          "in_game",
          "in_game",
          "in_game",
          "in_game",
          "in_game",
          "in_game",
          "in_game",
          "freistoß",
          "strafstoß",
          "in_game",
          "in_game",
          "in_game"
         ],
         "xaxis": "x",
         "yaxis": "y"
        },
        {
         "alignmentgroup": "True",
         "bingroup": "x",
         "hovertemplate": "name=Admira Juniors<br>goal_type=%{x}<br>count=%{y}<extra></extra>",
         "legendgroup": "Admira Juniors",
         "marker": {
          "color": "#EF553B",
          "pattern": {
           "shape": ""
          }
         },
         "name": "Admira Juniors",
         "offsetgroup": "Admira Juniors",
         "orientation": "v",
         "showlegend": true,
         "type": "histogram",
         "x": [
          "eigentor",
          "in_game",
          "in_game",
          "in_game",
          "in_game",
          "in_game",
          "in_game",
          "in_game",
          "in_game",
          "in_game",
          "in_game",
          "in_game",
          "in_game",
          "in_game",
          "in_game",
          "in_game",
          "in_game",
          "in_game",
          "in_game",
          "in_game",
          "in_game",
          "in_game",
          "in_game",
          "in_game",
          "strafstoß",
          "in_game",
          "in_game"
         ],
         "xaxis": "x",
         "yaxis": "y"
        },
        {
         "alignmentgroup": "True",
         "bingroup": "x",
         "hovertemplate": "name=FC Mauerwerk<br>goal_type=%{x}<br>count=%{y}<extra></extra>",
         "legendgroup": "FC Mauerwerk",
         "marker": {
          "color": "#00cc96",
          "pattern": {
           "shape": ""
          }
         },
         "name": "FC Mauerwerk",
         "offsetgroup": "FC Mauerwerk",
         "orientation": "v",
         "showlegend": true,
         "type": "histogram",
         "x": [
          "strafstoß",
          "in_game",
          "in_game",
          "in_game",
          "in_game",
          "in_game",
          "in_game",
          "in_game",
          "in_game",
          "in_game",
          "in_game",
          "in_game",
          "in_game",
          "in_game",
          "in_game",
          "in_game",
          "in_game",
          "in_game",
          "in_game",
          "in_game",
          "in_game",
          "in_game",
          "in_game"
         ],
         "xaxis": "x",
         "yaxis": "y"
        },
        {
         "alignmentgroup": "True",
         "bingroup": "x",
         "hovertemplate": "name=FC Marchfeld / Mannsdorf-Große.<br>goal_type=%{x}<br>count=%{y}<extra></extra>",
         "legendgroup": "FC Marchfeld / Mannsdorf-Große.",
         "marker": {
          "color": "#ab63fa",
          "pattern": {
           "shape": ""
          }
         },
         "name": "FC Marchfeld / Mannsdorf-Große.",
         "offsetgroup": "FC Marchfeld / Mannsdorf-Große.",
         "orientation": "v",
         "showlegend": true,
         "type": "histogram",
         "x": [
          "in_game",
          "in_game",
          "in_game",
          "in_game",
          "in_game",
          "in_game",
          "in_game",
          "in_game",
          "in_game",
          "in_game",
          "in_game",
          "in_game",
          "in_game",
          "strafstoß",
          "in_game",
          "in_game",
          "in_game",
          "in_game",
          "in_game",
          "in_game",
          "in_game",
          "in_game",
          "in_game",
          "in_game",
          "in_game",
          "in_game",
          "in_game",
          "in_game",
          "in_game",
          "in_game",
          "in_game",
          "in_game",
          "in_game",
          "in_game",
          "strafstoß"
         ],
         "xaxis": "x",
         "yaxis": "y"
        }
       ],
       "layout": {
        "barmode": "stack",
        "legend": {
         "title": {
          "text": "name"
         },
         "tracegroupgap": 0
        },
        "template": {
         "data": {
          "bar": [
           {
            "error_x": {
             "color": "#2a3f5f"
            },
            "error_y": {
             "color": "#2a3f5f"
            },
            "marker": {
             "line": {
              "color": "#E5ECF6",
              "width": 0.5
             },
             "pattern": {
              "fillmode": "overlay",
              "size": 10,
              "solidity": 0.2
             }
            },
            "type": "bar"
           }
          ],
          "barpolar": [
           {
            "marker": {
             "line": {
              "color": "#E5ECF6",
              "width": 0.5
             },
             "pattern": {
              "fillmode": "overlay",
              "size": 10,
              "solidity": 0.2
             }
            },
            "type": "barpolar"
           }
          ],
          "carpet": [
           {
            "aaxis": {
             "endlinecolor": "#2a3f5f",
             "gridcolor": "white",
             "linecolor": "white",
             "minorgridcolor": "white",
             "startlinecolor": "#2a3f5f"
            },
            "baxis": {
             "endlinecolor": "#2a3f5f",
             "gridcolor": "white",
             "linecolor": "white",
             "minorgridcolor": "white",
             "startlinecolor": "#2a3f5f"
            },
            "type": "carpet"
           }
          ],
          "choropleth": [
           {
            "colorbar": {
             "outlinewidth": 0,
             "ticks": ""
            },
            "type": "choropleth"
           }
          ],
          "contour": [
           {
            "colorbar": {
             "outlinewidth": 0,
             "ticks": ""
            },
            "colorscale": [
             [
              0,
              "#0d0887"
             ],
             [
              0.1111111111111111,
              "#46039f"
             ],
             [
              0.2222222222222222,
              "#7201a8"
             ],
             [
              0.3333333333333333,
              "#9c179e"
             ],
             [
              0.4444444444444444,
              "#bd3786"
             ],
             [
              0.5555555555555556,
              "#d8576b"
             ],
             [
              0.6666666666666666,
              "#ed7953"
             ],
             [
              0.7777777777777778,
              "#fb9f3a"
             ],
             [
              0.8888888888888888,
              "#fdca26"
             ],
             [
              1,
              "#f0f921"
             ]
            ],
            "type": "contour"
           }
          ],
          "contourcarpet": [
           {
            "colorbar": {
             "outlinewidth": 0,
             "ticks": ""
            },
            "type": "contourcarpet"
           }
          ],
          "heatmap": [
           {
            "colorbar": {
             "outlinewidth": 0,
             "ticks": ""
            },
            "colorscale": [
             [
              0,
              "#0d0887"
             ],
             [
              0.1111111111111111,
              "#46039f"
             ],
             [
              0.2222222222222222,
              "#7201a8"
             ],
             [
              0.3333333333333333,
              "#9c179e"
             ],
             [
              0.4444444444444444,
              "#bd3786"
             ],
             [
              0.5555555555555556,
              "#d8576b"
             ],
             [
              0.6666666666666666,
              "#ed7953"
             ],
             [
              0.7777777777777778,
              "#fb9f3a"
             ],
             [
              0.8888888888888888,
              "#fdca26"
             ],
             [
              1,
              "#f0f921"
             ]
            ],
            "type": "heatmap"
           }
          ],
          "heatmapgl": [
           {
            "colorbar": {
             "outlinewidth": 0,
             "ticks": ""
            },
            "colorscale": [
             [
              0,
              "#0d0887"
             ],
             [
              0.1111111111111111,
              "#46039f"
             ],
             [
              0.2222222222222222,
              "#7201a8"
             ],
             [
              0.3333333333333333,
              "#9c179e"
             ],
             [
              0.4444444444444444,
              "#bd3786"
             ],
             [
              0.5555555555555556,
              "#d8576b"
             ],
             [
              0.6666666666666666,
              "#ed7953"
             ],
             [
              0.7777777777777778,
              "#fb9f3a"
             ],
             [
              0.8888888888888888,
              "#fdca26"
             ],
             [
              1,
              "#f0f921"
             ]
            ],
            "type": "heatmapgl"
           }
          ],
          "histogram": [
           {
            "marker": {
             "pattern": {
              "fillmode": "overlay",
              "size": 10,
              "solidity": 0.2
             }
            },
            "type": "histogram"
           }
          ],
          "histogram2d": [
           {
            "colorbar": {
             "outlinewidth": 0,
             "ticks": ""
            },
            "colorscale": [
             [
              0,
              "#0d0887"
             ],
             [
              0.1111111111111111,
              "#46039f"
             ],
             [
              0.2222222222222222,
              "#7201a8"
             ],
             [
              0.3333333333333333,
              "#9c179e"
             ],
             [
              0.4444444444444444,
              "#bd3786"
             ],
             [
              0.5555555555555556,
              "#d8576b"
             ],
             [
              0.6666666666666666,
              "#ed7953"
             ],
             [
              0.7777777777777778,
              "#fb9f3a"
             ],
             [
              0.8888888888888888,
              "#fdca26"
             ],
             [
              1,
              "#f0f921"
             ]
            ],
            "type": "histogram2d"
           }
          ],
          "histogram2dcontour": [
           {
            "colorbar": {
             "outlinewidth": 0,
             "ticks": ""
            },
            "colorscale": [
             [
              0,
              "#0d0887"
             ],
             [
              0.1111111111111111,
              "#46039f"
             ],
             [
              0.2222222222222222,
              "#7201a8"
             ],
             [
              0.3333333333333333,
              "#9c179e"
             ],
             [
              0.4444444444444444,
              "#bd3786"
             ],
             [
              0.5555555555555556,
              "#d8576b"
             ],
             [
              0.6666666666666666,
              "#ed7953"
             ],
             [
              0.7777777777777778,
              "#fb9f3a"
             ],
             [
              0.8888888888888888,
              "#fdca26"
             ],
             [
              1,
              "#f0f921"
             ]
            ],
            "type": "histogram2dcontour"
           }
          ],
          "mesh3d": [
           {
            "colorbar": {
             "outlinewidth": 0,
             "ticks": ""
            },
            "type": "mesh3d"
           }
          ],
          "parcoords": [
           {
            "line": {
             "colorbar": {
              "outlinewidth": 0,
              "ticks": ""
             }
            },
            "type": "parcoords"
           }
          ],
          "pie": [
           {
            "automargin": true,
            "type": "pie"
           }
          ],
          "scatter": [
           {
            "fillpattern": {
             "fillmode": "overlay",
             "size": 10,
             "solidity": 0.2
            },
            "type": "scatter"
           }
          ],
          "scatter3d": [
           {
            "line": {
             "colorbar": {
              "outlinewidth": 0,
              "ticks": ""
             }
            },
            "marker": {
             "colorbar": {
              "outlinewidth": 0,
              "ticks": ""
             }
            },
            "type": "scatter3d"
           }
          ],
          "scattercarpet": [
           {
            "marker": {
             "colorbar": {
              "outlinewidth": 0,
              "ticks": ""
             }
            },
            "type": "scattercarpet"
           }
          ],
          "scattergeo": [
           {
            "marker": {
             "colorbar": {
              "outlinewidth": 0,
              "ticks": ""
             }
            },
            "type": "scattergeo"
           }
          ],
          "scattergl": [
           {
            "marker": {
             "colorbar": {
              "outlinewidth": 0,
              "ticks": ""
             }
            },
            "type": "scattergl"
           }
          ],
          "scattermapbox": [
           {
            "marker": {
             "colorbar": {
              "outlinewidth": 0,
              "ticks": ""
             }
            },
            "type": "scattermapbox"
           }
          ],
          "scatterpolar": [
           {
            "marker": {
             "colorbar": {
              "outlinewidth": 0,
              "ticks": ""
             }
            },
            "type": "scatterpolar"
           }
          ],
          "scatterpolargl": [
           {
            "marker": {
             "colorbar": {
              "outlinewidth": 0,
              "ticks": ""
             }
            },
            "type": "scatterpolargl"
           }
          ],
          "scatterternary": [
           {
            "marker": {
             "colorbar": {
              "outlinewidth": 0,
              "ticks": ""
             }
            },
            "type": "scatterternary"
           }
          ],
          "surface": [
           {
            "colorbar": {
             "outlinewidth": 0,
             "ticks": ""
            },
            "colorscale": [
             [
              0,
              "#0d0887"
             ],
             [
              0.1111111111111111,
              "#46039f"
             ],
             [
              0.2222222222222222,
              "#7201a8"
             ],
             [
              0.3333333333333333,
              "#9c179e"
             ],
             [
              0.4444444444444444,
              "#bd3786"
             ],
             [
              0.5555555555555556,
              "#d8576b"
             ],
             [
              0.6666666666666666,
              "#ed7953"
             ],
             [
              0.7777777777777778,
              "#fb9f3a"
             ],
             [
              0.8888888888888888,
              "#fdca26"
             ],
             [
              1,
              "#f0f921"
             ]
            ],
            "type": "surface"
           }
          ],
          "table": [
           {
            "cells": {
             "fill": {
              "color": "#EBF0F8"
             },
             "line": {
              "color": "white"
             }
            },
            "header": {
             "fill": {
              "color": "#C8D4E3"
             },
             "line": {
              "color": "white"
             }
            },
            "type": "table"
           }
          ]
         },
         "layout": {
          "annotationdefaults": {
           "arrowcolor": "#2a3f5f",
           "arrowhead": 0,
           "arrowwidth": 1
          },
          "autotypenumbers": "strict",
          "coloraxis": {
           "colorbar": {
            "outlinewidth": 0,
            "ticks": ""
           }
          },
          "colorscale": {
           "diverging": [
            [
             0,
             "#8e0152"
            ],
            [
             0.1,
             "#c51b7d"
            ],
            [
             0.2,
             "#de77ae"
            ],
            [
             0.3,
             "#f1b6da"
            ],
            [
             0.4,
             "#fde0ef"
            ],
            [
             0.5,
             "#f7f7f7"
            ],
            [
             0.6,
             "#e6f5d0"
            ],
            [
             0.7,
             "#b8e186"
            ],
            [
             0.8,
             "#7fbc41"
            ],
            [
             0.9,
             "#4d9221"
            ],
            [
             1,
             "#276419"
            ]
           ],
           "sequential": [
            [
             0,
             "#0d0887"
            ],
            [
             0.1111111111111111,
             "#46039f"
            ],
            [
             0.2222222222222222,
             "#7201a8"
            ],
            [
             0.3333333333333333,
             "#9c179e"
            ],
            [
             0.4444444444444444,
             "#bd3786"
            ],
            [
             0.5555555555555556,
             "#d8576b"
            ],
            [
             0.6666666666666666,
             "#ed7953"
            ],
            [
             0.7777777777777778,
             "#fb9f3a"
            ],
            [
             0.8888888888888888,
             "#fdca26"
            ],
            [
             1,
             "#f0f921"
            ]
           ],
           "sequentialminus": [
            [
             0,
             "#0d0887"
            ],
            [
             0.1111111111111111,
             "#46039f"
            ],
            [
             0.2222222222222222,
             "#7201a8"
            ],
            [
             0.3333333333333333,
             "#9c179e"
            ],
            [
             0.4444444444444444,
             "#bd3786"
            ],
            [
             0.5555555555555556,
             "#d8576b"
            ],
            [
             0.6666666666666666,
             "#ed7953"
            ],
            [
             0.7777777777777778,
             "#fb9f3a"
            ],
            [
             0.8888888888888888,
             "#fdca26"
            ],
            [
             1,
             "#f0f921"
            ]
           ]
          },
          "colorway": [
           "#636efa",
           "#EF553B",
           "#00cc96",
           "#ab63fa",
           "#FFA15A",
           "#19d3f3",
           "#FF6692",
           "#B6E880",
           "#FF97FF",
           "#FECB52"
          ],
          "font": {
           "color": "#2a3f5f"
          },
          "geo": {
           "bgcolor": "white",
           "lakecolor": "white",
           "landcolor": "#E5ECF6",
           "showlakes": true,
           "showland": true,
           "subunitcolor": "white"
          },
          "hoverlabel": {
           "align": "left"
          },
          "hovermode": "closest",
          "mapbox": {
           "style": "light"
          },
          "paper_bgcolor": "white",
          "plot_bgcolor": "#E5ECF6",
          "polar": {
           "angularaxis": {
            "gridcolor": "white",
            "linecolor": "white",
            "ticks": ""
           },
           "bgcolor": "#E5ECF6",
           "radialaxis": {
            "gridcolor": "white",
            "linecolor": "white",
            "ticks": ""
           }
          },
          "scene": {
           "xaxis": {
            "backgroundcolor": "#E5ECF6",
            "gridcolor": "white",
            "gridwidth": 2,
            "linecolor": "white",
            "showbackground": true,
            "ticks": "",
            "zerolinecolor": "white"
           },
           "yaxis": {
            "backgroundcolor": "#E5ECF6",
            "gridcolor": "white",
            "gridwidth": 2,
            "linecolor": "white",
            "showbackground": true,
            "ticks": "",
            "zerolinecolor": "white"
           },
           "zaxis": {
            "backgroundcolor": "#E5ECF6",
            "gridcolor": "white",
            "gridwidth": 2,
            "linecolor": "white",
            "showbackground": true,
            "ticks": "",
            "zerolinecolor": "white"
           }
          },
          "shapedefaults": {
           "line": {
            "color": "#2a3f5f"
           }
          },
          "ternary": {
           "aaxis": {
            "gridcolor": "white",
            "linecolor": "white",
            "ticks": ""
           },
           "baxis": {
            "gridcolor": "white",
            "linecolor": "white",
            "ticks": ""
           },
           "bgcolor": "#E5ECF6",
           "caxis": {
            "gridcolor": "white",
            "linecolor": "white",
            "ticks": ""
           }
          },
          "title": {
           "x": 0.05
          },
          "xaxis": {
           "automargin": true,
           "gridcolor": "white",
           "linecolor": "white",
           "ticks": "",
           "title": {
            "standoff": 15
           },
           "zerolinecolor": "white",
           "zerolinewidth": 2
          },
          "yaxis": {
           "automargin": true,
           "gridcolor": "white",
           "linecolor": "white",
           "ticks": "",
           "title": {
            "standoff": 15
           },
           "zerolinecolor": "white",
           "zerolinewidth": 2
          }
         }
        },
        "title": {
         "text": "Wie wurden Tore geschossen vor Mandl"
        },
        "xaxis": {
         "anchor": "y",
         "domain": [
          0,
          1
         ],
         "title": {
          "text": "goal_type"
         }
        },
        "yaxis": {
         "anchor": "x",
         "domain": [
          0,
          1
         ],
         "title": {
          "text": "count"
         }
        }
       }
      },
      "text/html": [
       "<div>                            <div id=\"7d654fc6-6e31-49a8-9bbb-4d8608e05b7d\" class=\"plotly-graph-div\" style=\"height:525px; width:100%;\"></div>            <script type=\"text/javascript\">                require([\"plotly\"], function(Plotly) {                    window.PLOTLYENV=window.PLOTLYENV || {};                                    if (document.getElementById(\"7d654fc6-6e31-49a8-9bbb-4d8608e05b7d\")) {                    Plotly.newPlot(                        \"7d654fc6-6e31-49a8-9bbb-4d8608e05b7d\",                        [{\"alignmentgroup\":\"True\",\"bingroup\":\"x\",\"hovertemplate\":\"name=SC Neusiedl am See 1919<br>goal_type=%{x}<br>count=%{y}<extra></extra>\",\"legendgroup\":\"SC Neusiedl am See 1919\",\"marker\":{\"color\":\"#636efa\",\"pattern\":{\"shape\":\"\"}},\"name\":\"SC Neusiedl am See 1919\",\"offsetgroup\":\"SC Neusiedl am See 1919\",\"orientation\":\"v\",\"showlegend\":true,\"x\":[\"in_game\",\"in_game\",\"in_game\",\"in_game\",\"in_game\",\"in_game\",\"in_game\",\"in_game\",\"in_game\",\"in_game\",\"in_game\",\"in_game\",\"in_game\",\"in_game\",\"in_game\",\"in_game\",\"in_game\",\"in_game\",\"in_game\",\"in_game\",\"in_game\",\"in_game\",\"in_game\",\"strafsto\\u00df\",\"in_game\",\"eigentor\",\"in_game\",\"in_game\",\"in_game\",\"in_game\"],\"xaxis\":\"x\",\"yaxis\":\"y\",\"type\":\"histogram\"},{\"alignmentgroup\":\"True\",\"bingroup\":\"x\",\"hovertemplate\":\"name=TWL Elektra<br>goal_type=%{x}<br>count=%{y}<extra></extra>\",\"legendgroup\":\"TWL Elektra\",\"marker\":{\"color\":\"#EF553B\",\"pattern\":{\"shape\":\"\"}},\"name\":\"TWL Elektra\",\"offsetgroup\":\"TWL Elektra\",\"orientation\":\"v\",\"showlegend\":true,\"x\":[\"in_game\",\"in_game\",\"in_game\",\"in_game\",\"in_game\",\"in_game\",\"in_game\",\"in_game\",\"in_game\",\"in_game\",\"in_game\",\"in_game\",\"in_game\",\"in_game\",\"in_game\",\"in_game\",\"in_game\",\"in_game\",\"in_game\",\"in_game\",\"in_game\",\"in_game\",\"in_game\",\"strafsto\\u00df\",\"eigentor\",\"in_game\",\"in_game\",\"in_game\",\"in_game\",\"in_game\",\"in_game\"],\"xaxis\":\"x\",\"yaxis\":\"y\",\"type\":\"histogram\"},{\"alignmentgroup\":\"True\",\"bingroup\":\"x\",\"hovertemplate\":\"name=First Vienna FC 1894<br>goal_type=%{x}<br>count=%{y}<extra></extra>\",\"legendgroup\":\"First Vienna FC 1894\",\"marker\":{\"color\":\"#00cc96\",\"pattern\":{\"shape\":\"\"}},\"name\":\"First Vienna FC 1894\",\"offsetgroup\":\"First Vienna FC 1894\",\"orientation\":\"v\",\"showlegend\":true,\"x\":[\"in_game\",\"in_game\",\"in_game\",\"in_game\",\"in_game\",\"in_game\",\"in_game\",\"in_game\",\"in_game\",\"in_game\",\"in_game\",\"in_game\",\"in_game\",\"in_game\",\"in_game\",\"in_game\",\"in_game\",\"in_game\",\"in_game\",\"in_game\",\"in_game\",\"in_game\",\"in_game\",\"in_game\",\"in_game\",\"in_game\",\"in_game\",\"in_game\",\"in_game\",\"in_game\",\"in_game\",\"in_game\",\"in_game\",\"in_game\",\"in_game\",\"in_game\",\"in_game\",\"in_game\",\"in_game\",\"in_game\",\"in_game\"],\"xaxis\":\"x\",\"yaxis\":\"y\",\"type\":\"histogram\"},{\"alignmentgroup\":\"True\",\"bingroup\":\"x\",\"hovertemplate\":\"name=SC Wiener Neustadt<br>goal_type=%{x}<br>count=%{y}<extra></extra>\",\"legendgroup\":\"SC Wiener Neustadt\",\"marker\":{\"color\":\"#ab63fa\",\"pattern\":{\"shape\":\"\"}},\"name\":\"SC Wiener Neustadt\",\"offsetgroup\":\"SC Wiener Neustadt\",\"orientation\":\"v\",\"showlegend\":true,\"x\":[\"in_game\",\"in_game\",\"eigentor\",\"in_game\",\"in_game\",\"in_game\",\"in_game\",\"in_game\",\"in_game\",\"in_game\",\"in_game\",\"in_game\",\"in_game\",\"in_game\",\"in_game\",\"in_game\",\"in_game\",\"in_game\",\"in_game\",\"in_game\"],\"xaxis\":\"x\",\"yaxis\":\"y\",\"type\":\"histogram\"},{\"alignmentgroup\":\"True\",\"bingroup\":\"x\",\"hovertemplate\":\"name=Stripfing<br>goal_type=%{x}<br>count=%{y}<extra></extra>\",\"legendgroup\":\"Stripfing\",\"marker\":{\"color\":\"#FFA15A\",\"pattern\":{\"shape\":\"\"}},\"name\":\"Stripfing\",\"offsetgroup\":\"Stripfing\",\"orientation\":\"v\",\"showlegend\":true,\"x\":[\"in_game\",\"in_game\",\"in_game\",\"in_game\",\"in_game\",\"in_game\",\"in_game\",\"in_game\",\"in_game\",\"in_game\",\"in_game\",\"in_game\",\"in_game\",\"in_game\",\"in_game\",\"in_game\",\"in_game\",\"strafsto\\u00df\",\"in_game\",\"in_game\",\"in_game\",\"in_game\",\"strafsto\\u00df\",\"in_game\",\"in_game\",\"in_game\",\"strafsto\\u00df\",\"in_game\",\"in_game\",\"in_game\",\"in_game\",\"in_game\",\"in_game\",\"in_game\",\"in_game\",\"in_game\",\"in_game\",\"in_game\",\"in_game\",\"in_game\",\"in_game\",\"in_game\",\"in_game\",\"in_game\",\"in_game\",\"in_game\",\"in_game\"],\"xaxis\":\"x\",\"yaxis\":\"y\",\"type\":\"histogram\"},{\"alignmentgroup\":\"True\",\"bingroup\":\"x\",\"hovertemplate\":\"name=FCM Traiskirchen<br>goal_type=%{x}<br>count=%{y}<extra></extra>\",\"legendgroup\":\"FCM Traiskirchen\",\"marker\":{\"color\":\"#19d3f3\",\"pattern\":{\"shape\":\"\"}},\"name\":\"FCM Traiskirchen\",\"offsetgroup\":\"FCM Traiskirchen\",\"orientation\":\"v\",\"showlegend\":true,\"x\":[\"in_game\",\"in_game\",\"strafsto\\u00df\",\"in_game\",\"in_game\",\"in_game\",\"in_game\",\"in_game\",\"in_game\",\"in_game\",\"freisto\\u00df\",\"in_game\",\"in_game\",\"in_game\",\"in_game\",\"in_game\",\"strafsto\\u00df\",\"in_game\",\"in_game\",\"in_game\",\"in_game\",\"in_game\",\"in_game\",\"in_game\",\"in_game\",\"in_game\",\"in_game\",\"in_game\",\"in_game\",\"in_game\",\"in_game\",\"in_game\",\"in_game\",\"in_game\",\"in_game\",\"in_game\"],\"xaxis\":\"x\",\"yaxis\":\"y\",\"type\":\"histogram\"},{\"alignmentgroup\":\"True\",\"bingroup\":\"x\",\"hovertemplate\":\"name=SV Leobendorf<br>goal_type=%{x}<br>count=%{y}<extra></extra>\",\"legendgroup\":\"SV Leobendorf\",\"marker\":{\"color\":\"#FF6692\",\"pattern\":{\"shape\":\"\"}},\"name\":\"SV Leobendorf\",\"offsetgroup\":\"SV Leobendorf\",\"orientation\":\"v\",\"showlegend\":true,\"x\":[\"in_game\",\"in_game\",\"in_game\",\"in_game\",\"in_game\",\"in_game\",\"in_game\",\"in_game\",\"in_game\",\"in_game\",\"in_game\",\"in_game\",\"in_game\",\"in_game\",\"in_game\",\"in_game\",\"in_game\",\"in_game\",\"in_game\",\"in_game\",\"in_game\",\"in_game\",\"in_game\",\"in_game\",\"in_game\",\"in_game\",\"in_game\",\"strafsto\\u00df\",\"in_game\",\"in_game\",\"in_game\",\"in_game\",\"in_game\",\"in_game\",\"in_game\",\"in_game\",\"in_game\",\"in_game\"],\"xaxis\":\"x\",\"yaxis\":\"y\",\"type\":\"histogram\"},{\"alignmentgroup\":\"True\",\"bingroup\":\"x\",\"hovertemplate\":\"name=Wiener Viktoria<br>goal_type=%{x}<br>count=%{y}<extra></extra>\",\"legendgroup\":\"Wiener Viktoria\",\"marker\":{\"color\":\"#B6E880\",\"pattern\":{\"shape\":\"\"}},\"name\":\"Wiener Viktoria\",\"offsetgroup\":\"Wiener Viktoria\",\"orientation\":\"v\",\"showlegend\":true,\"x\":[\"in_game\",\"in_game\",\"in_game\",\"in_game\",\"in_game\",\"in_game\",\"in_game\",\"in_game\",\"in_game\",\"in_game\",\"in_game\",\"in_game\",\"strafsto\\u00df\",\"in_game\",\"in_game\",\"in_game\",\"in_game\",\"strafsto\\u00df\",\"in_game\",\"in_game\",\"in_game\",\"in_game\",\"in_game\",\"in_game\",\"in_game\",\"in_game\",\"in_game\",\"in_game\",\"in_game\",\"in_game\"],\"xaxis\":\"x\",\"yaxis\":\"y\",\"type\":\"histogram\"},{\"alignmentgroup\":\"True\",\"bingroup\":\"x\",\"hovertemplate\":\"name=Dra\\u00dfburg<br>goal_type=%{x}<br>count=%{y}<extra></extra>\",\"legendgroup\":\"Dra\\u00dfburg\",\"marker\":{\"color\":\"#FF97FF\",\"pattern\":{\"shape\":\"\"}},\"name\":\"Dra\\u00dfburg\",\"offsetgroup\":\"Dra\\u00dfburg\",\"orientation\":\"v\",\"showlegend\":true,\"x\":[\"in_game\",\"in_game\",\"in_game\",\"in_game\",\"in_game\",\"in_game\",\"in_game\",\"in_game\",\"in_game\",\"in_game\",\"in_game\",\"in_game\",\"in_game\",\"in_game\",\"in_game\"],\"xaxis\":\"x\",\"yaxis\":\"y\",\"type\":\"histogram\"},{\"alignmentgroup\":\"True\",\"bingroup\":\"x\",\"hovertemplate\":\"name=Wiener Sport-Club<br>goal_type=%{x}<br>count=%{y}<extra></extra>\",\"legendgroup\":\"Wiener Sport-Club\",\"marker\":{\"color\":\"#FECB52\",\"pattern\":{\"shape\":\"\"}},\"name\":\"Wiener Sport-Club\",\"offsetgroup\":\"Wiener Sport-Club\",\"orientation\":\"v\",\"showlegend\":true,\"x\":[\"in_game\",\"in_game\",\"in_game\",\"in_game\",\"in_game\",\"in_game\",\"in_game\",\"in_game\",\"in_game\",\"in_game\",\"in_game\",\"in_game\",\"in_game\",\"in_game\",\"in_game\",\"in_game\",\"in_game\",\"in_game\",\"in_game\",\"in_game\",\"in_game\",\"in_game\",\"in_game\",\"freisto\\u00df\",\"in_game\",\"in_game\",\"in_game\",\"in_game\",\"in_game\",\"in_game\",\"strafsto\\u00df\",\"in_game\",\"in_game\",\"in_game\",\"in_game\",\"in_game\",\"in_game\",\"eigentor\",\"in_game\",\"in_game\",\"in_game\"],\"xaxis\":\"x\",\"yaxis\":\"y\",\"type\":\"histogram\"},{\"alignmentgroup\":\"True\",\"bingroup\":\"x\",\"hovertemplate\":\"name=ASK-BSC Bruck/Leitha<br>goal_type=%{x}<br>count=%{y}<extra></extra>\",\"legendgroup\":\"ASK-BSC Bruck/Leitha\",\"marker\":{\"color\":\"#636efa\",\"pattern\":{\"shape\":\"\"}},\"name\":\"ASK-BSC Bruck/Leitha\",\"offsetgroup\":\"ASK-BSC Bruck/Leitha\",\"orientation\":\"v\",\"showlegend\":true,\"x\":[\"strafsto\\u00df\",\"in_game\",\"in_game\",\"in_game\",\"in_game\",\"in_game\",\"in_game\",\"in_game\",\"in_game\",\"in_game\",\"in_game\",\"in_game\",\"in_game\",\"in_game\",\"in_game\",\"in_game\",\"in_game\",\"in_game\",\"in_game\",\"in_game\",\"in_game\",\"in_game\",\"in_game\",\"in_game\",\"in_game\",\"in_game\",\"in_game\",\"in_game\",\"in_game\",\"in_game\",\"in_game\",\"freisto\\u00df\",\"strafsto\\u00df\",\"in_game\",\"in_game\",\"in_game\"],\"xaxis\":\"x\",\"yaxis\":\"y\",\"type\":\"histogram\"},{\"alignmentgroup\":\"True\",\"bingroup\":\"x\",\"hovertemplate\":\"name=Admira Juniors<br>goal_type=%{x}<br>count=%{y}<extra></extra>\",\"legendgroup\":\"Admira Juniors\",\"marker\":{\"color\":\"#EF553B\",\"pattern\":{\"shape\":\"\"}},\"name\":\"Admira Juniors\",\"offsetgroup\":\"Admira Juniors\",\"orientation\":\"v\",\"showlegend\":true,\"x\":[\"eigentor\",\"in_game\",\"in_game\",\"in_game\",\"in_game\",\"in_game\",\"in_game\",\"in_game\",\"in_game\",\"in_game\",\"in_game\",\"in_game\",\"in_game\",\"in_game\",\"in_game\",\"in_game\",\"in_game\",\"in_game\",\"in_game\",\"in_game\",\"in_game\",\"in_game\",\"in_game\",\"in_game\",\"strafsto\\u00df\",\"in_game\",\"in_game\"],\"xaxis\":\"x\",\"yaxis\":\"y\",\"type\":\"histogram\"},{\"alignmentgroup\":\"True\",\"bingroup\":\"x\",\"hovertemplate\":\"name=FC Mauerwerk<br>goal_type=%{x}<br>count=%{y}<extra></extra>\",\"legendgroup\":\"FC Mauerwerk\",\"marker\":{\"color\":\"#00cc96\",\"pattern\":{\"shape\":\"\"}},\"name\":\"FC Mauerwerk\",\"offsetgroup\":\"FC Mauerwerk\",\"orientation\":\"v\",\"showlegend\":true,\"x\":[\"strafsto\\u00df\",\"in_game\",\"in_game\",\"in_game\",\"in_game\",\"in_game\",\"in_game\",\"in_game\",\"in_game\",\"in_game\",\"in_game\",\"in_game\",\"in_game\",\"in_game\",\"in_game\",\"in_game\",\"in_game\",\"in_game\",\"in_game\",\"in_game\",\"in_game\",\"in_game\",\"in_game\"],\"xaxis\":\"x\",\"yaxis\":\"y\",\"type\":\"histogram\"},{\"alignmentgroup\":\"True\",\"bingroup\":\"x\",\"hovertemplate\":\"name=FC Marchfeld / Mannsdorf-Gro\\u00dfe.<br>goal_type=%{x}<br>count=%{y}<extra></extra>\",\"legendgroup\":\"FC Marchfeld / Mannsdorf-Gro\\u00dfe.\",\"marker\":{\"color\":\"#ab63fa\",\"pattern\":{\"shape\":\"\"}},\"name\":\"FC Marchfeld / Mannsdorf-Gro\\u00dfe.\",\"offsetgroup\":\"FC Marchfeld / Mannsdorf-Gro\\u00dfe.\",\"orientation\":\"v\",\"showlegend\":true,\"x\":[\"in_game\",\"in_game\",\"in_game\",\"in_game\",\"in_game\",\"in_game\",\"in_game\",\"in_game\",\"in_game\",\"in_game\",\"in_game\",\"in_game\",\"in_game\",\"strafsto\\u00df\",\"in_game\",\"in_game\",\"in_game\",\"in_game\",\"in_game\",\"in_game\",\"in_game\",\"in_game\",\"in_game\",\"in_game\",\"in_game\",\"in_game\",\"in_game\",\"in_game\",\"in_game\",\"in_game\",\"in_game\",\"in_game\",\"in_game\",\"in_game\",\"strafsto\\u00df\"],\"xaxis\":\"x\",\"yaxis\":\"y\",\"type\":\"histogram\"}],                        {\"template\":{\"data\":{\"histogram2dcontour\":[{\"type\":\"histogram2dcontour\",\"colorbar\":{\"outlinewidth\":0,\"ticks\":\"\"},\"colorscale\":[[0.0,\"#0d0887\"],[0.1111111111111111,\"#46039f\"],[0.2222222222222222,\"#7201a8\"],[0.3333333333333333,\"#9c179e\"],[0.4444444444444444,\"#bd3786\"],[0.5555555555555556,\"#d8576b\"],[0.6666666666666666,\"#ed7953\"],[0.7777777777777778,\"#fb9f3a\"],[0.8888888888888888,\"#fdca26\"],[1.0,\"#f0f921\"]]}],\"choropleth\":[{\"type\":\"choropleth\",\"colorbar\":{\"outlinewidth\":0,\"ticks\":\"\"}}],\"histogram2d\":[{\"type\":\"histogram2d\",\"colorbar\":{\"outlinewidth\":0,\"ticks\":\"\"},\"colorscale\":[[0.0,\"#0d0887\"],[0.1111111111111111,\"#46039f\"],[0.2222222222222222,\"#7201a8\"],[0.3333333333333333,\"#9c179e\"],[0.4444444444444444,\"#bd3786\"],[0.5555555555555556,\"#d8576b\"],[0.6666666666666666,\"#ed7953\"],[0.7777777777777778,\"#fb9f3a\"],[0.8888888888888888,\"#fdca26\"],[1.0,\"#f0f921\"]]}],\"heatmap\":[{\"type\":\"heatmap\",\"colorbar\":{\"outlinewidth\":0,\"ticks\":\"\"},\"colorscale\":[[0.0,\"#0d0887\"],[0.1111111111111111,\"#46039f\"],[0.2222222222222222,\"#7201a8\"],[0.3333333333333333,\"#9c179e\"],[0.4444444444444444,\"#bd3786\"],[0.5555555555555556,\"#d8576b\"],[0.6666666666666666,\"#ed7953\"],[0.7777777777777778,\"#fb9f3a\"],[0.8888888888888888,\"#fdca26\"],[1.0,\"#f0f921\"]]}],\"heatmapgl\":[{\"type\":\"heatmapgl\",\"colorbar\":{\"outlinewidth\":0,\"ticks\":\"\"},\"colorscale\":[[0.0,\"#0d0887\"],[0.1111111111111111,\"#46039f\"],[0.2222222222222222,\"#7201a8\"],[0.3333333333333333,\"#9c179e\"],[0.4444444444444444,\"#bd3786\"],[0.5555555555555556,\"#d8576b\"],[0.6666666666666666,\"#ed7953\"],[0.7777777777777778,\"#fb9f3a\"],[0.8888888888888888,\"#fdca26\"],[1.0,\"#f0f921\"]]}],\"contourcarpet\":[{\"type\":\"contourcarpet\",\"colorbar\":{\"outlinewidth\":0,\"ticks\":\"\"}}],\"contour\":[{\"type\":\"contour\",\"colorbar\":{\"outlinewidth\":0,\"ticks\":\"\"},\"colorscale\":[[0.0,\"#0d0887\"],[0.1111111111111111,\"#46039f\"],[0.2222222222222222,\"#7201a8\"],[0.3333333333333333,\"#9c179e\"],[0.4444444444444444,\"#bd3786\"],[0.5555555555555556,\"#d8576b\"],[0.6666666666666666,\"#ed7953\"],[0.7777777777777778,\"#fb9f3a\"],[0.8888888888888888,\"#fdca26\"],[1.0,\"#f0f921\"]]}],\"surface\":[{\"type\":\"surface\",\"colorbar\":{\"outlinewidth\":0,\"ticks\":\"\"},\"colorscale\":[[0.0,\"#0d0887\"],[0.1111111111111111,\"#46039f\"],[0.2222222222222222,\"#7201a8\"],[0.3333333333333333,\"#9c179e\"],[0.4444444444444444,\"#bd3786\"],[0.5555555555555556,\"#d8576b\"],[0.6666666666666666,\"#ed7953\"],[0.7777777777777778,\"#fb9f3a\"],[0.8888888888888888,\"#fdca26\"],[1.0,\"#f0f921\"]]}],\"mesh3d\":[{\"type\":\"mesh3d\",\"colorbar\":{\"outlinewidth\":0,\"ticks\":\"\"}}],\"scatter\":[{\"fillpattern\":{\"fillmode\":\"overlay\",\"size\":10,\"solidity\":0.2},\"type\":\"scatter\"}],\"parcoords\":[{\"type\":\"parcoords\",\"line\":{\"colorbar\":{\"outlinewidth\":0,\"ticks\":\"\"}}}],\"scatterpolargl\":[{\"type\":\"scatterpolargl\",\"marker\":{\"colorbar\":{\"outlinewidth\":0,\"ticks\":\"\"}}}],\"bar\":[{\"error_x\":{\"color\":\"#2a3f5f\"},\"error_y\":{\"color\":\"#2a3f5f\"},\"marker\":{\"line\":{\"color\":\"#E5ECF6\",\"width\":0.5},\"pattern\":{\"fillmode\":\"overlay\",\"size\":10,\"solidity\":0.2}},\"type\":\"bar\"}],\"scattergeo\":[{\"type\":\"scattergeo\",\"marker\":{\"colorbar\":{\"outlinewidth\":0,\"ticks\":\"\"}}}],\"scatterpolar\":[{\"type\":\"scatterpolar\",\"marker\":{\"colorbar\":{\"outlinewidth\":0,\"ticks\":\"\"}}}],\"histogram\":[{\"marker\":{\"pattern\":{\"fillmode\":\"overlay\",\"size\":10,\"solidity\":0.2}},\"type\":\"histogram\"}],\"scattergl\":[{\"type\":\"scattergl\",\"marker\":{\"colorbar\":{\"outlinewidth\":0,\"ticks\":\"\"}}}],\"scatter3d\":[{\"type\":\"scatter3d\",\"line\":{\"colorbar\":{\"outlinewidth\":0,\"ticks\":\"\"}},\"marker\":{\"colorbar\":{\"outlinewidth\":0,\"ticks\":\"\"}}}],\"scattermapbox\":[{\"type\":\"scattermapbox\",\"marker\":{\"colorbar\":{\"outlinewidth\":0,\"ticks\":\"\"}}}],\"scatterternary\":[{\"type\":\"scatterternary\",\"marker\":{\"colorbar\":{\"outlinewidth\":0,\"ticks\":\"\"}}}],\"scattercarpet\":[{\"type\":\"scattercarpet\",\"marker\":{\"colorbar\":{\"outlinewidth\":0,\"ticks\":\"\"}}}],\"carpet\":[{\"aaxis\":{\"endlinecolor\":\"#2a3f5f\",\"gridcolor\":\"white\",\"linecolor\":\"white\",\"minorgridcolor\":\"white\",\"startlinecolor\":\"#2a3f5f\"},\"baxis\":{\"endlinecolor\":\"#2a3f5f\",\"gridcolor\":\"white\",\"linecolor\":\"white\",\"minorgridcolor\":\"white\",\"startlinecolor\":\"#2a3f5f\"},\"type\":\"carpet\"}],\"table\":[{\"cells\":{\"fill\":{\"color\":\"#EBF0F8\"},\"line\":{\"color\":\"white\"}},\"header\":{\"fill\":{\"color\":\"#C8D4E3\"},\"line\":{\"color\":\"white\"}},\"type\":\"table\"}],\"barpolar\":[{\"marker\":{\"line\":{\"color\":\"#E5ECF6\",\"width\":0.5},\"pattern\":{\"fillmode\":\"overlay\",\"size\":10,\"solidity\":0.2}},\"type\":\"barpolar\"}],\"pie\":[{\"automargin\":true,\"type\":\"pie\"}]},\"layout\":{\"autotypenumbers\":\"strict\",\"colorway\":[\"#636efa\",\"#EF553B\",\"#00cc96\",\"#ab63fa\",\"#FFA15A\",\"#19d3f3\",\"#FF6692\",\"#B6E880\",\"#FF97FF\",\"#FECB52\"],\"font\":{\"color\":\"#2a3f5f\"},\"hovermode\":\"closest\",\"hoverlabel\":{\"align\":\"left\"},\"paper_bgcolor\":\"white\",\"plot_bgcolor\":\"#E5ECF6\",\"polar\":{\"bgcolor\":\"#E5ECF6\",\"angularaxis\":{\"gridcolor\":\"white\",\"linecolor\":\"white\",\"ticks\":\"\"},\"radialaxis\":{\"gridcolor\":\"white\",\"linecolor\":\"white\",\"ticks\":\"\"}},\"ternary\":{\"bgcolor\":\"#E5ECF6\",\"aaxis\":{\"gridcolor\":\"white\",\"linecolor\":\"white\",\"ticks\":\"\"},\"baxis\":{\"gridcolor\":\"white\",\"linecolor\":\"white\",\"ticks\":\"\"},\"caxis\":{\"gridcolor\":\"white\",\"linecolor\":\"white\",\"ticks\":\"\"}},\"coloraxis\":{\"colorbar\":{\"outlinewidth\":0,\"ticks\":\"\"}},\"colorscale\":{\"sequential\":[[0.0,\"#0d0887\"],[0.1111111111111111,\"#46039f\"],[0.2222222222222222,\"#7201a8\"],[0.3333333333333333,\"#9c179e\"],[0.4444444444444444,\"#bd3786\"],[0.5555555555555556,\"#d8576b\"],[0.6666666666666666,\"#ed7953\"],[0.7777777777777778,\"#fb9f3a\"],[0.8888888888888888,\"#fdca26\"],[1.0,\"#f0f921\"]],\"sequentialminus\":[[0.0,\"#0d0887\"],[0.1111111111111111,\"#46039f\"],[0.2222222222222222,\"#7201a8\"],[0.3333333333333333,\"#9c179e\"],[0.4444444444444444,\"#bd3786\"],[0.5555555555555556,\"#d8576b\"],[0.6666666666666666,\"#ed7953\"],[0.7777777777777778,\"#fb9f3a\"],[0.8888888888888888,\"#fdca26\"],[1.0,\"#f0f921\"]],\"diverging\":[[0,\"#8e0152\"],[0.1,\"#c51b7d\"],[0.2,\"#de77ae\"],[0.3,\"#f1b6da\"],[0.4,\"#fde0ef\"],[0.5,\"#f7f7f7\"],[0.6,\"#e6f5d0\"],[0.7,\"#b8e186\"],[0.8,\"#7fbc41\"],[0.9,\"#4d9221\"],[1,\"#276419\"]]},\"xaxis\":{\"gridcolor\":\"white\",\"linecolor\":\"white\",\"ticks\":\"\",\"title\":{\"standoff\":15},\"zerolinecolor\":\"white\",\"automargin\":true,\"zerolinewidth\":2},\"yaxis\":{\"gridcolor\":\"white\",\"linecolor\":\"white\",\"ticks\":\"\",\"title\":{\"standoff\":15},\"zerolinecolor\":\"white\",\"automargin\":true,\"zerolinewidth\":2},\"scene\":{\"xaxis\":{\"backgroundcolor\":\"#E5ECF6\",\"gridcolor\":\"white\",\"linecolor\":\"white\",\"showbackground\":true,\"ticks\":\"\",\"zerolinecolor\":\"white\",\"gridwidth\":2},\"yaxis\":{\"backgroundcolor\":\"#E5ECF6\",\"gridcolor\":\"white\",\"linecolor\":\"white\",\"showbackground\":true,\"ticks\":\"\",\"zerolinecolor\":\"white\",\"gridwidth\":2},\"zaxis\":{\"backgroundcolor\":\"#E5ECF6\",\"gridcolor\":\"white\",\"linecolor\":\"white\",\"showbackground\":true,\"ticks\":\"\",\"zerolinecolor\":\"white\",\"gridwidth\":2}},\"shapedefaults\":{\"line\":{\"color\":\"#2a3f5f\"}},\"annotationdefaults\":{\"arrowcolor\":\"#2a3f5f\",\"arrowhead\":0,\"arrowwidth\":1},\"geo\":{\"bgcolor\":\"white\",\"landcolor\":\"#E5ECF6\",\"subunitcolor\":\"white\",\"showland\":true,\"showlakes\":true,\"lakecolor\":\"white\"},\"title\":{\"x\":0.05},\"mapbox\":{\"style\":\"light\"}}},\"xaxis\":{\"anchor\":\"y\",\"domain\":[0.0,1.0],\"title\":{\"text\":\"goal_type\"}},\"yaxis\":{\"anchor\":\"x\",\"domain\":[0.0,1.0],\"title\":{\"text\":\"count\"}},\"legend\":{\"title\":{\"text\":\"name\"},\"tracegroupgap\":0},\"title\":{\"text\":\"Wie wurden Tore geschossen vor Mandl\"},\"barmode\":\"stack\"},                        {\"responsive\": true}                    ).then(function(){\n",
       "                            \n",
       "var gd = document.getElementById('7d654fc6-6e31-49a8-9bbb-4d8608e05b7d');\n",
       "var x = new MutationObserver(function (mutations, observer) {{\n",
       "        var display = window.getComputedStyle(gd).display;\n",
       "        if (!display || display === 'none') {{\n",
       "            console.log([gd, 'removed!']);\n",
       "            Plotly.purge(gd);\n",
       "            observer.disconnect();\n",
       "        }}\n",
       "}});\n",
       "\n",
       "// Listen for the removal of the full notebook cells\n",
       "var notebookContainer = gd.closest('#notebook-container');\n",
       "if (notebookContainer) {{\n",
       "    x.observe(notebookContainer, {childList: true});\n",
       "}}\n",
       "\n",
       "// Listen for the clearing of the current output cell\n",
       "var outputEl = gd.closest('.output');\n",
       "if (outputEl) {{\n",
       "    x.observe(outputEl, {childList: true});\n",
       "}}\n",
       "\n",
       "                        })                };                });            </script>        </div>"
      ]
     },
     "metadata": {},
     "output_type": "display_data"
    }
   ],
   "source": [
    "df=query_database(query_table.format(\"20210701\",\"20220426\",vereine[0],vereine[0]),database=\"verbands.db\")\n",
    "df[\"goal_type\"]=df[\"text\"].apply(lambda x: goal_type(x))\n",
    "fig=px.histogram(df, x=\"goal_type\" ,color=\"name\",title=\"Wie wurden Tore geschossen vor Mandl\")\n",
    "fig.update_layout(barmode='stack') #\"stack\", \"relative\", \"group\"\n",
    "fig.show()"
   ]
  },
  {
   "cell_type": "code",
   "execution_count": null,
   "id": "81477157",
   "metadata": {
    "slideshow": {
     "slide_type": "subslide"
    }
   },
   "outputs": [
    {
     "data": {
      "text/html": [
       "<style type=\"text/css\">\n",
       "</style>\n",
       "<table id=\"T_881fe_\">\n",
       "  <thead>\n",
       "    <tr>\n",
       "      <th class=\"col_heading level0 col0\" >name</th>\n",
       "      <th class=\"col_heading level0 col1\" >goal_type</th>\n",
       "      <th class=\"col_heading level0 col2\" >count</th>\n",
       "    </tr>\n",
       "  </thead>\n",
       "  <tbody>\n",
       "    <tr>\n",
       "      <td id=\"T_881fe_row0_col0\" class=\"data row0 col0\" >ASK-BSC Bruck/Leitha</td>\n",
       "      <td id=\"T_881fe_row0_col1\" class=\"data row0 col1\" >freistoß</td>\n",
       "      <td id=\"T_881fe_row0_col2\" class=\"data row0 col2\" >1</td>\n",
       "    </tr>\n",
       "    <tr>\n",
       "      <td id=\"T_881fe_row1_col0\" class=\"data row1 col0\" >ASK-BSC Bruck/Leitha</td>\n",
       "      <td id=\"T_881fe_row1_col1\" class=\"data row1 col1\" >in_game</td>\n",
       "      <td id=\"T_881fe_row1_col2\" class=\"data row1 col2\" >33</td>\n",
       "    </tr>\n",
       "    <tr>\n",
       "      <td id=\"T_881fe_row2_col0\" class=\"data row2 col0\" >ASK-BSC Bruck/Leitha</td>\n",
       "      <td id=\"T_881fe_row2_col1\" class=\"data row2 col1\" >strafstoß</td>\n",
       "      <td id=\"T_881fe_row2_col2\" class=\"data row2 col2\" >2</td>\n",
       "    </tr>\n",
       "    <tr>\n",
       "      <td id=\"T_881fe_row3_col0\" class=\"data row3 col0\" >Admira Juniors</td>\n",
       "      <td id=\"T_881fe_row3_col1\" class=\"data row3 col1\" >eigentor</td>\n",
       "      <td id=\"T_881fe_row3_col2\" class=\"data row3 col2\" >1</td>\n",
       "    </tr>\n",
       "    <tr>\n",
       "      <td id=\"T_881fe_row4_col0\" class=\"data row4 col0\" >Admira Juniors</td>\n",
       "      <td id=\"T_881fe_row4_col1\" class=\"data row4 col1\" >in_game</td>\n",
       "      <td id=\"T_881fe_row4_col2\" class=\"data row4 col2\" >25</td>\n",
       "    </tr>\n",
       "    <tr>\n",
       "      <td id=\"T_881fe_row5_col0\" class=\"data row5 col0\" >Admira Juniors</td>\n",
       "      <td id=\"T_881fe_row5_col1\" class=\"data row5 col1\" >strafstoß</td>\n",
       "      <td id=\"T_881fe_row5_col2\" class=\"data row5 col2\" >1</td>\n",
       "    </tr>\n",
       "    <tr>\n",
       "      <td id=\"T_881fe_row6_col0\" class=\"data row6 col0\" >Draßburg</td>\n",
       "      <td id=\"T_881fe_row6_col1\" class=\"data row6 col1\" >in_game</td>\n",
       "      <td id=\"T_881fe_row6_col2\" class=\"data row6 col2\" >15</td>\n",
       "    </tr>\n",
       "    <tr>\n",
       "      <td id=\"T_881fe_row7_col0\" class=\"data row7 col0\" >FC Marchfeld / Mannsdorf-Große.</td>\n",
       "      <td id=\"T_881fe_row7_col1\" class=\"data row7 col1\" >in_game</td>\n",
       "      <td id=\"T_881fe_row7_col2\" class=\"data row7 col2\" >33</td>\n",
       "    </tr>\n",
       "    <tr>\n",
       "      <td id=\"T_881fe_row8_col0\" class=\"data row8 col0\" >FC Marchfeld / Mannsdorf-Große.</td>\n",
       "      <td id=\"T_881fe_row8_col1\" class=\"data row8 col1\" >strafstoß</td>\n",
       "      <td id=\"T_881fe_row8_col2\" class=\"data row8 col2\" >2</td>\n",
       "    </tr>\n",
       "    <tr>\n",
       "      <td id=\"T_881fe_row9_col0\" class=\"data row9 col0\" >FC Mauerwerk</td>\n",
       "      <td id=\"T_881fe_row9_col1\" class=\"data row9 col1\" >in_game</td>\n",
       "      <td id=\"T_881fe_row9_col2\" class=\"data row9 col2\" >22</td>\n",
       "    </tr>\n",
       "    <tr>\n",
       "      <td id=\"T_881fe_row10_col0\" class=\"data row10 col0\" >FC Mauerwerk</td>\n",
       "      <td id=\"T_881fe_row10_col1\" class=\"data row10 col1\" >strafstoß</td>\n",
       "      <td id=\"T_881fe_row10_col2\" class=\"data row10 col2\" >1</td>\n",
       "    </tr>\n",
       "    <tr>\n",
       "      <td id=\"T_881fe_row11_col0\" class=\"data row11 col0\" >FCM Traiskirchen</td>\n",
       "      <td id=\"T_881fe_row11_col1\" class=\"data row11 col1\" >freistoß</td>\n",
       "      <td id=\"T_881fe_row11_col2\" class=\"data row11 col2\" >1</td>\n",
       "    </tr>\n",
       "    <tr>\n",
       "      <td id=\"T_881fe_row12_col0\" class=\"data row12 col0\" >FCM Traiskirchen</td>\n",
       "      <td id=\"T_881fe_row12_col1\" class=\"data row12 col1\" >in_game</td>\n",
       "      <td id=\"T_881fe_row12_col2\" class=\"data row12 col2\" >33</td>\n",
       "    </tr>\n",
       "    <tr>\n",
       "      <td id=\"T_881fe_row13_col0\" class=\"data row13 col0\" >FCM Traiskirchen</td>\n",
       "      <td id=\"T_881fe_row13_col1\" class=\"data row13 col1\" >strafstoß</td>\n",
       "      <td id=\"T_881fe_row13_col2\" class=\"data row13 col2\" >2</td>\n",
       "    </tr>\n",
       "    <tr>\n",
       "      <td id=\"T_881fe_row14_col0\" class=\"data row14 col0\" >First Vienna FC 1894</td>\n",
       "      <td id=\"T_881fe_row14_col1\" class=\"data row14 col1\" >in_game</td>\n",
       "      <td id=\"T_881fe_row14_col2\" class=\"data row14 col2\" >41</td>\n",
       "    </tr>\n",
       "    <tr>\n",
       "      <td id=\"T_881fe_row15_col0\" class=\"data row15 col0\" >SC Neusiedl am See 1919</td>\n",
       "      <td id=\"T_881fe_row15_col1\" class=\"data row15 col1\" >eigentor</td>\n",
       "      <td id=\"T_881fe_row15_col2\" class=\"data row15 col2\" >1</td>\n",
       "    </tr>\n",
       "    <tr>\n",
       "      <td id=\"T_881fe_row16_col0\" class=\"data row16 col0\" >SC Neusiedl am See 1919</td>\n",
       "      <td id=\"T_881fe_row16_col1\" class=\"data row16 col1\" >in_game</td>\n",
       "      <td id=\"T_881fe_row16_col2\" class=\"data row16 col2\" >28</td>\n",
       "    </tr>\n",
       "    <tr>\n",
       "      <td id=\"T_881fe_row17_col0\" class=\"data row17 col0\" >SC Neusiedl am See 1919</td>\n",
       "      <td id=\"T_881fe_row17_col1\" class=\"data row17 col1\" >strafstoß</td>\n",
       "      <td id=\"T_881fe_row17_col2\" class=\"data row17 col2\" >1</td>\n",
       "    </tr>\n",
       "    <tr>\n",
       "      <td id=\"T_881fe_row18_col0\" class=\"data row18 col0\" >SC Wiener Neustadt</td>\n",
       "      <td id=\"T_881fe_row18_col1\" class=\"data row18 col1\" >eigentor</td>\n",
       "      <td id=\"T_881fe_row18_col2\" class=\"data row18 col2\" >1</td>\n",
       "    </tr>\n",
       "    <tr>\n",
       "      <td id=\"T_881fe_row19_col0\" class=\"data row19 col0\" >SC Wiener Neustadt</td>\n",
       "      <td id=\"T_881fe_row19_col1\" class=\"data row19 col1\" >in_game</td>\n",
       "      <td id=\"T_881fe_row19_col2\" class=\"data row19 col2\" >19</td>\n",
       "    </tr>\n",
       "    <tr>\n",
       "      <td id=\"T_881fe_row20_col0\" class=\"data row20 col0\" >SV Leobendorf</td>\n",
       "      <td id=\"T_881fe_row20_col1\" class=\"data row20 col1\" >in_game</td>\n",
       "      <td id=\"T_881fe_row20_col2\" class=\"data row20 col2\" >37</td>\n",
       "    </tr>\n",
       "    <tr>\n",
       "      <td id=\"T_881fe_row21_col0\" class=\"data row21 col0\" >SV Leobendorf</td>\n",
       "      <td id=\"T_881fe_row21_col1\" class=\"data row21 col1\" >strafstoß</td>\n",
       "      <td id=\"T_881fe_row21_col2\" class=\"data row21 col2\" >1</td>\n",
       "    </tr>\n",
       "    <tr>\n",
       "      <td id=\"T_881fe_row22_col0\" class=\"data row22 col0\" >Stripfing</td>\n",
       "      <td id=\"T_881fe_row22_col1\" class=\"data row22 col1\" >in_game</td>\n",
       "      <td id=\"T_881fe_row22_col2\" class=\"data row22 col2\" >44</td>\n",
       "    </tr>\n",
       "    <tr>\n",
       "      <td id=\"T_881fe_row23_col0\" class=\"data row23 col0\" >Stripfing</td>\n",
       "      <td id=\"T_881fe_row23_col1\" class=\"data row23 col1\" >strafstoß</td>\n",
       "      <td id=\"T_881fe_row23_col2\" class=\"data row23 col2\" >3</td>\n",
       "    </tr>\n",
       "    <tr>\n",
       "      <td id=\"T_881fe_row24_col0\" class=\"data row24 col0\" >TWL Elektra</td>\n",
       "      <td id=\"T_881fe_row24_col1\" class=\"data row24 col1\" >eigentor</td>\n",
       "      <td id=\"T_881fe_row24_col2\" class=\"data row24 col2\" >1</td>\n",
       "    </tr>\n",
       "    <tr>\n",
       "      <td id=\"T_881fe_row25_col0\" class=\"data row25 col0\" >TWL Elektra</td>\n",
       "      <td id=\"T_881fe_row25_col1\" class=\"data row25 col1\" >in_game</td>\n",
       "      <td id=\"T_881fe_row25_col2\" class=\"data row25 col2\" >29</td>\n",
       "    </tr>\n",
       "    <tr>\n",
       "      <td id=\"T_881fe_row26_col0\" class=\"data row26 col0\" >TWL Elektra</td>\n",
       "      <td id=\"T_881fe_row26_col1\" class=\"data row26 col1\" >strafstoß</td>\n",
       "      <td id=\"T_881fe_row26_col2\" class=\"data row26 col2\" >1</td>\n",
       "    </tr>\n",
       "    <tr>\n",
       "      <td id=\"T_881fe_row27_col0\" class=\"data row27 col0\" >Wiener Sport-Club</td>\n",
       "      <td id=\"T_881fe_row27_col1\" class=\"data row27 col1\" >eigentor</td>\n",
       "      <td id=\"T_881fe_row27_col2\" class=\"data row27 col2\" >1</td>\n",
       "    </tr>\n",
       "    <tr>\n",
       "      <td id=\"T_881fe_row28_col0\" class=\"data row28 col0\" >Wiener Sport-Club</td>\n",
       "      <td id=\"T_881fe_row28_col1\" class=\"data row28 col1\" >freistoß</td>\n",
       "      <td id=\"T_881fe_row28_col2\" class=\"data row28 col2\" >1</td>\n",
       "    </tr>\n",
       "    <tr>\n",
       "      <td id=\"T_881fe_row29_col0\" class=\"data row29 col0\" >Wiener Sport-Club</td>\n",
       "      <td id=\"T_881fe_row29_col1\" class=\"data row29 col1\" >in_game</td>\n",
       "      <td id=\"T_881fe_row29_col2\" class=\"data row29 col2\" >38</td>\n",
       "    </tr>\n",
       "    <tr>\n",
       "      <td id=\"T_881fe_row30_col0\" class=\"data row30 col0\" >Wiener Sport-Club</td>\n",
       "      <td id=\"T_881fe_row30_col1\" class=\"data row30 col1\" >strafstoß</td>\n",
       "      <td id=\"T_881fe_row30_col2\" class=\"data row30 col2\" >1</td>\n",
       "    </tr>\n",
       "    <tr>\n",
       "      <td id=\"T_881fe_row31_col0\" class=\"data row31 col0\" >Wiener Viktoria</td>\n",
       "      <td id=\"T_881fe_row31_col1\" class=\"data row31 col1\" >in_game</td>\n",
       "      <td id=\"T_881fe_row31_col2\" class=\"data row31 col2\" >28</td>\n",
       "    </tr>\n",
       "    <tr>\n",
       "      <td id=\"T_881fe_row32_col0\" class=\"data row32 col0\" >Wiener Viktoria</td>\n",
       "      <td id=\"T_881fe_row32_col1\" class=\"data row32 col1\" >strafstoß</td>\n",
       "      <td id=\"T_881fe_row32_col2\" class=\"data row32 col2\" >2</td>\n",
       "    </tr>\n",
       "  </tbody>\n",
       "</table>\n"
      ],
      "text/plain": [
       "<pandas.io.formats.style.Styler at 0x2a7f7ce8ec8>"
      ]
     },
     "execution_count": 29,
     "metadata": {},
     "output_type": "execute_result"
    }
   ],
   "source": [
    "df.groupby([\"name\",\"goal_type\"])[\"goal_type\"].count().reset_index(name='count').style.hide_index()\n"
   ]
  },
  {
   "cell_type": "code",
   "execution_count": null,
   "id": "0ab6cf7d",
   "metadata": {
    "slideshow": {
     "slide_type": "skip"
    }
   },
   "outputs": [],
   "source": [
    "# GET TABLE\n",
    "query_table=(\"\"\"\n",
    "select  *--count(*) as \"Goals_per_min_conceeded\"\n",
    "from  (select DISTINCT match_id,minute,type,team_id,text from matches_activity) a \n",
    "join matches m on m.id=a.match_id\n",
    "join  teams t on (t.id=m.away_team_id or t.id=m.home_team_id)\n",
    "where type=\"goal\" and replace(date,'-','') between '{}' and '{}' \n",
    "\t\tand a.team_id<>t.id \n",
    "         and league=\"Regionalliga Ost\" and type=\"goal\"\n",
    "--group by m.league,t.name, minute\n",
    "order by minute,name\n",
    "\"\"\")\n"
   ]
  },
  {
   "cell_type": "code",
   "execution_count": null,
   "id": "88161934",
   "metadata": {
    "slideshow": {
     "slide_type": "slide"
    }
   },
   "outputs": [
    {
     "data": {
      "application/vnd.plotly.v1+json": {
       "config": {
        "plotlyServerURL": "https://plot.ly"
       },
       "data": [
        {
         "alignmentgroup": "True",
         "bingroup": "x",
         "hovertemplate": "name=Wiener Viktoria<br>goal_type=%{x}<br>count=%{y}<extra></extra>",
         "legendgroup": "Wiener Viktoria",
         "marker": {
          "color": "#636efa",
          "pattern": {
           "shape": ""
          }
         },
         "name": "Wiener Viktoria",
         "offsetgroup": "Wiener Viktoria",
         "orientation": "v",
         "showlegend": true,
         "type": "histogram",
         "x": [
          "in_game",
          "in_game",
          "in_game",
          "in_game"
         ],
         "xaxis": "x",
         "yaxis": "y"
        },
        {
         "alignmentgroup": "True",
         "bingroup": "x",
         "hovertemplate": "name=Admira Juniors<br>goal_type=%{x}<br>count=%{y}<extra></extra>",
         "legendgroup": "Admira Juniors",
         "marker": {
          "color": "#EF553B",
          "pattern": {
           "shape": ""
          }
         },
         "name": "Admira Juniors",
         "offsetgroup": "Admira Juniors",
         "orientation": "v",
         "showlegend": true,
         "type": "histogram",
         "x": [
          "in_game",
          "in_game",
          "in_game",
          "in_game",
          "in_game",
          "in_game",
          "in_game",
          "in_game",
          "in_game",
          "in_game",
          "in_game",
          "in_game",
          "strafstoß",
          "in_game"
         ],
         "xaxis": "x",
         "yaxis": "y"
        },
        {
         "alignmentgroup": "True",
         "bingroup": "x",
         "hovertemplate": "name=SC Wiener Neustadt<br>goal_type=%{x}<br>count=%{y}<extra></extra>",
         "legendgroup": "SC Wiener Neustadt",
         "marker": {
          "color": "#00cc96",
          "pattern": {
           "shape": ""
          }
         },
         "name": "SC Wiener Neustadt",
         "offsetgroup": "SC Wiener Neustadt",
         "orientation": "v",
         "showlegend": true,
         "type": "histogram",
         "x": [
          "in_game",
          "in_game",
          "in_game",
          "eigentor",
          "in_game",
          "in_game",
          "strafstoß"
         ],
         "xaxis": "x",
         "yaxis": "y"
        },
        {
         "alignmentgroup": "True",
         "bingroup": "x",
         "hovertemplate": "name=Wiener Sport-Club<br>goal_type=%{x}<br>count=%{y}<extra></extra>",
         "legendgroup": "Wiener Sport-Club",
         "marker": {
          "color": "#ab63fa",
          "pattern": {
           "shape": ""
          }
         },
         "name": "Wiener Sport-Club",
         "offsetgroup": "Wiener Sport-Club",
         "orientation": "v",
         "showlegend": true,
         "type": "histogram",
         "x": [
          "in_game",
          "in_game",
          "in_game",
          "in_game",
          "in_game"
         ],
         "xaxis": "x",
         "yaxis": "y"
        },
        {
         "alignmentgroup": "True",
         "bingroup": "x",
         "hovertemplate": "name=SV Leobendorf<br>goal_type=%{x}<br>count=%{y}<extra></extra>",
         "legendgroup": "SV Leobendorf",
         "marker": {
          "color": "#FFA15A",
          "pattern": {
           "shape": ""
          }
         },
         "name": "SV Leobendorf",
         "offsetgroup": "SV Leobendorf",
         "orientation": "v",
         "showlegend": true,
         "type": "histogram",
         "x": [
          "in_game",
          "in_game",
          "in_game",
          "in_game",
          "in_game",
          "in_game",
          "strafstoß",
          "in_game",
          "in_game"
         ],
         "xaxis": "x",
         "yaxis": "y"
        },
        {
         "alignmentgroup": "True",
         "bingroup": "x",
         "hovertemplate": "name=ASK-BSC Bruck/Leitha<br>goal_type=%{x}<br>count=%{y}<extra></extra>",
         "legendgroup": "ASK-BSC Bruck/Leitha",
         "marker": {
          "color": "#19d3f3",
          "pattern": {
           "shape": ""
          }
         },
         "name": "ASK-BSC Bruck/Leitha",
         "offsetgroup": "ASK-BSC Bruck/Leitha",
         "orientation": "v",
         "showlegend": true,
         "type": "histogram",
         "x": [
          "in_game",
          "freistoß",
          "in_game",
          "in_game",
          "in_game",
          "in_game",
          "strafstoß",
          "in_game",
          "in_game"
         ],
         "xaxis": "x",
         "yaxis": "y"
        },
        {
         "alignmentgroup": "True",
         "bingroup": "x",
         "hovertemplate": "name=Draßburg<br>goal_type=%{x}<br>count=%{y}<extra></extra>",
         "legendgroup": "Draßburg",
         "marker": {
          "color": "#FF6692",
          "pattern": {
           "shape": ""
          }
         },
         "name": "Draßburg",
         "offsetgroup": "Draßburg",
         "orientation": "v",
         "showlegend": true,
         "type": "histogram",
         "x": [
          "in_game",
          "in_game",
          "in_game",
          "strafstoß",
          "in_game",
          "in_game",
          "in_game",
          "in_game",
          "in_game"
         ],
         "xaxis": "x",
         "yaxis": "y"
        },
        {
         "alignmentgroup": "True",
         "bingroup": "x",
         "hovertemplate": "name=FC Mauerwerk<br>goal_type=%{x}<br>count=%{y}<extra></extra>",
         "legendgroup": "FC Mauerwerk",
         "marker": {
          "color": "#B6E880",
          "pattern": {
           "shape": ""
          }
         },
         "name": "FC Mauerwerk",
         "offsetgroup": "FC Mauerwerk",
         "orientation": "v",
         "showlegend": true,
         "type": "histogram",
         "x": [
          "in_game",
          "in_game",
          "in_game",
          "in_game",
          "in_game",
          "in_game",
          "strafstoß",
          "in_game"
         ],
         "xaxis": "x",
         "yaxis": "y"
        },
        {
         "alignmentgroup": "True",
         "bingroup": "x",
         "hovertemplate": "name=FCM Traiskirchen<br>goal_type=%{x}<br>count=%{y}<extra></extra>",
         "legendgroup": "FCM Traiskirchen",
         "marker": {
          "color": "#FF97FF",
          "pattern": {
           "shape": ""
          }
         },
         "name": "FCM Traiskirchen",
         "offsetgroup": "FCM Traiskirchen",
         "orientation": "v",
         "showlegend": true,
         "type": "histogram",
         "x": [
          "in_game",
          "in_game",
          "in_game",
          "in_game",
          "in_game",
          "in_game",
          "in_game",
          "in_game",
          "in_game",
          "in_game",
          "in_game"
         ],
         "xaxis": "x",
         "yaxis": "y"
        },
        {
         "alignmentgroup": "True",
         "bingroup": "x",
         "hovertemplate": "name=FC Marchfeld / Mannsdorf-Große.<br>goal_type=%{x}<br>count=%{y}<extra></extra>",
         "legendgroup": "FC Marchfeld / Mannsdorf-Große.",
         "marker": {
          "color": "#FECB52",
          "pattern": {
           "shape": ""
          }
         },
         "name": "FC Marchfeld / Mannsdorf-Große.",
         "offsetgroup": "FC Marchfeld / Mannsdorf-Große.",
         "orientation": "v",
         "showlegend": true,
         "type": "histogram",
         "x": [
          "in_game",
          "in_game",
          "in_game",
          "in_game",
          "in_game",
          "in_game",
          "in_game",
          "in_game",
          "in_game"
         ],
         "xaxis": "x",
         "yaxis": "y"
        },
        {
         "alignmentgroup": "True",
         "bingroup": "x",
         "hovertemplate": "name=First Vienna FC 1894<br>goal_type=%{x}<br>count=%{y}<extra></extra>",
         "legendgroup": "First Vienna FC 1894",
         "marker": {
          "color": "#636efa",
          "pattern": {
           "shape": ""
          }
         },
         "name": "First Vienna FC 1894",
         "offsetgroup": "First Vienna FC 1894",
         "orientation": "v",
         "showlegend": true,
         "type": "histogram",
         "x": [
          "in_game",
          "in_game",
          "in_game"
         ],
         "xaxis": "x",
         "yaxis": "y"
        },
        {
         "alignmentgroup": "True",
         "bingroup": "x",
         "hovertemplate": "name=SC Neusiedl am See 1919<br>goal_type=%{x}<br>count=%{y}<extra></extra>",
         "legendgroup": "SC Neusiedl am See 1919",
         "marker": {
          "color": "#EF553B",
          "pattern": {
           "shape": ""
          }
         },
         "name": "SC Neusiedl am See 1919",
         "offsetgroup": "SC Neusiedl am See 1919",
         "orientation": "v",
         "showlegend": true,
         "type": "histogram",
         "x": [
          "in_game",
          "in_game",
          "in_game",
          "in_game",
          "in_game",
          "in_game",
          "in_game"
         ],
         "xaxis": "x",
         "yaxis": "y"
        },
        {
         "alignmentgroup": "True",
         "bingroup": "x",
         "hovertemplate": "name=Stripfing<br>goal_type=%{x}<br>count=%{y}<extra></extra>",
         "legendgroup": "Stripfing",
         "marker": {
          "color": "#00cc96",
          "pattern": {
           "shape": ""
          }
         },
         "name": "Stripfing",
         "offsetgroup": "Stripfing",
         "orientation": "v",
         "showlegend": true,
         "type": "histogram",
         "x": [
          "in_game",
          "in_game",
          "in_game",
          "in_game"
         ],
         "xaxis": "x",
         "yaxis": "y"
        },
        {
         "alignmentgroup": "True",
         "bingroup": "x",
         "hovertemplate": "name=TWL Elektra<br>goal_type=%{x}<br>count=%{y}<extra></extra>",
         "legendgroup": "TWL Elektra",
         "marker": {
          "color": "#ab63fa",
          "pattern": {
           "shape": ""
          }
         },
         "name": "TWL Elektra",
         "offsetgroup": "TWL Elektra",
         "orientation": "v",
         "showlegend": true,
         "type": "histogram",
         "x": [
          "in_game",
          "in_game",
          "in_game",
          "in_game",
          "in_game",
          "in_game",
          "in_game"
         ],
         "xaxis": "x",
         "yaxis": "y"
        }
       ],
       "layout": {
        "barmode": "stack",
        "legend": {
         "title": {
          "text": "name"
         },
         "tracegroupgap": 0
        },
        "template": {
         "data": {
          "bar": [
           {
            "error_x": {
             "color": "#2a3f5f"
            },
            "error_y": {
             "color": "#2a3f5f"
            },
            "marker": {
             "line": {
              "color": "#E5ECF6",
              "width": 0.5
             },
             "pattern": {
              "fillmode": "overlay",
              "size": 10,
              "solidity": 0.2
             }
            },
            "type": "bar"
           }
          ],
          "barpolar": [
           {
            "marker": {
             "line": {
              "color": "#E5ECF6",
              "width": 0.5
             },
             "pattern": {
              "fillmode": "overlay",
              "size": 10,
              "solidity": 0.2
             }
            },
            "type": "barpolar"
           }
          ],
          "carpet": [
           {
            "aaxis": {
             "endlinecolor": "#2a3f5f",
             "gridcolor": "white",
             "linecolor": "white",
             "minorgridcolor": "white",
             "startlinecolor": "#2a3f5f"
            },
            "baxis": {
             "endlinecolor": "#2a3f5f",
             "gridcolor": "white",
             "linecolor": "white",
             "minorgridcolor": "white",
             "startlinecolor": "#2a3f5f"
            },
            "type": "carpet"
           }
          ],
          "choropleth": [
           {
            "colorbar": {
             "outlinewidth": 0,
             "ticks": ""
            },
            "type": "choropleth"
           }
          ],
          "contour": [
           {
            "colorbar": {
             "outlinewidth": 0,
             "ticks": ""
            },
            "colorscale": [
             [
              0,
              "#0d0887"
             ],
             [
              0.1111111111111111,
              "#46039f"
             ],
             [
              0.2222222222222222,
              "#7201a8"
             ],
             [
              0.3333333333333333,
              "#9c179e"
             ],
             [
              0.4444444444444444,
              "#bd3786"
             ],
             [
              0.5555555555555556,
              "#d8576b"
             ],
             [
              0.6666666666666666,
              "#ed7953"
             ],
             [
              0.7777777777777778,
              "#fb9f3a"
             ],
             [
              0.8888888888888888,
              "#fdca26"
             ],
             [
              1,
              "#f0f921"
             ]
            ],
            "type": "contour"
           }
          ],
          "contourcarpet": [
           {
            "colorbar": {
             "outlinewidth": 0,
             "ticks": ""
            },
            "type": "contourcarpet"
           }
          ],
          "heatmap": [
           {
            "colorbar": {
             "outlinewidth": 0,
             "ticks": ""
            },
            "colorscale": [
             [
              0,
              "#0d0887"
             ],
             [
              0.1111111111111111,
              "#46039f"
             ],
             [
              0.2222222222222222,
              "#7201a8"
             ],
             [
              0.3333333333333333,
              "#9c179e"
             ],
             [
              0.4444444444444444,
              "#bd3786"
             ],
             [
              0.5555555555555556,
              "#d8576b"
             ],
             [
              0.6666666666666666,
              "#ed7953"
             ],
             [
              0.7777777777777778,
              "#fb9f3a"
             ],
             [
              0.8888888888888888,
              "#fdca26"
             ],
             [
              1,
              "#f0f921"
             ]
            ],
            "type": "heatmap"
           }
          ],
          "heatmapgl": [
           {
            "colorbar": {
             "outlinewidth": 0,
             "ticks": ""
            },
            "colorscale": [
             [
              0,
              "#0d0887"
             ],
             [
              0.1111111111111111,
              "#46039f"
             ],
             [
              0.2222222222222222,
              "#7201a8"
             ],
             [
              0.3333333333333333,
              "#9c179e"
             ],
             [
              0.4444444444444444,
              "#bd3786"
             ],
             [
              0.5555555555555556,
              "#d8576b"
             ],
             [
              0.6666666666666666,
              "#ed7953"
             ],
             [
              0.7777777777777778,
              "#fb9f3a"
             ],
             [
              0.8888888888888888,
              "#fdca26"
             ],
             [
              1,
              "#f0f921"
             ]
            ],
            "type": "heatmapgl"
           }
          ],
          "histogram": [
           {
            "marker": {
             "pattern": {
              "fillmode": "overlay",
              "size": 10,
              "solidity": 0.2
             }
            },
            "type": "histogram"
           }
          ],
          "histogram2d": [
           {
            "colorbar": {
             "outlinewidth": 0,
             "ticks": ""
            },
            "colorscale": [
             [
              0,
              "#0d0887"
             ],
             [
              0.1111111111111111,
              "#46039f"
             ],
             [
              0.2222222222222222,
              "#7201a8"
             ],
             [
              0.3333333333333333,
              "#9c179e"
             ],
             [
              0.4444444444444444,
              "#bd3786"
             ],
             [
              0.5555555555555556,
              "#d8576b"
             ],
             [
              0.6666666666666666,
              "#ed7953"
             ],
             [
              0.7777777777777778,
              "#fb9f3a"
             ],
             [
              0.8888888888888888,
              "#fdca26"
             ],
             [
              1,
              "#f0f921"
             ]
            ],
            "type": "histogram2d"
           }
          ],
          "histogram2dcontour": [
           {
            "colorbar": {
             "outlinewidth": 0,
             "ticks": ""
            },
            "colorscale": [
             [
              0,
              "#0d0887"
             ],
             [
              0.1111111111111111,
              "#46039f"
             ],
             [
              0.2222222222222222,
              "#7201a8"
             ],
             [
              0.3333333333333333,
              "#9c179e"
             ],
             [
              0.4444444444444444,
              "#bd3786"
             ],
             [
              0.5555555555555556,
              "#d8576b"
             ],
             [
              0.6666666666666666,
              "#ed7953"
             ],
             [
              0.7777777777777778,
              "#fb9f3a"
             ],
             [
              0.8888888888888888,
              "#fdca26"
             ],
             [
              1,
              "#f0f921"
             ]
            ],
            "type": "histogram2dcontour"
           }
          ],
          "mesh3d": [
           {
            "colorbar": {
             "outlinewidth": 0,
             "ticks": ""
            },
            "type": "mesh3d"
           }
          ],
          "parcoords": [
           {
            "line": {
             "colorbar": {
              "outlinewidth": 0,
              "ticks": ""
             }
            },
            "type": "parcoords"
           }
          ],
          "pie": [
           {
            "automargin": true,
            "type": "pie"
           }
          ],
          "scatter": [
           {
            "fillpattern": {
             "fillmode": "overlay",
             "size": 10,
             "solidity": 0.2
            },
            "type": "scatter"
           }
          ],
          "scatter3d": [
           {
            "line": {
             "colorbar": {
              "outlinewidth": 0,
              "ticks": ""
             }
            },
            "marker": {
             "colorbar": {
              "outlinewidth": 0,
              "ticks": ""
             }
            },
            "type": "scatter3d"
           }
          ],
          "scattercarpet": [
           {
            "marker": {
             "colorbar": {
              "outlinewidth": 0,
              "ticks": ""
             }
            },
            "type": "scattercarpet"
           }
          ],
          "scattergeo": [
           {
            "marker": {
             "colorbar": {
              "outlinewidth": 0,
              "ticks": ""
             }
            },
            "type": "scattergeo"
           }
          ],
          "scattergl": [
           {
            "marker": {
             "colorbar": {
              "outlinewidth": 0,
              "ticks": ""
             }
            },
            "type": "scattergl"
           }
          ],
          "scattermapbox": [
           {
            "marker": {
             "colorbar": {
              "outlinewidth": 0,
              "ticks": ""
             }
            },
            "type": "scattermapbox"
           }
          ],
          "scatterpolar": [
           {
            "marker": {
             "colorbar": {
              "outlinewidth": 0,
              "ticks": ""
             }
            },
            "type": "scatterpolar"
           }
          ],
          "scatterpolargl": [
           {
            "marker": {
             "colorbar": {
              "outlinewidth": 0,
              "ticks": ""
             }
            },
            "type": "scatterpolargl"
           }
          ],
          "scatterternary": [
           {
            "marker": {
             "colorbar": {
              "outlinewidth": 0,
              "ticks": ""
             }
            },
            "type": "scatterternary"
           }
          ],
          "surface": [
           {
            "colorbar": {
             "outlinewidth": 0,
             "ticks": ""
            },
            "colorscale": [
             [
              0,
              "#0d0887"
             ],
             [
              0.1111111111111111,
              "#46039f"
             ],
             [
              0.2222222222222222,
              "#7201a8"
             ],
             [
              0.3333333333333333,
              "#9c179e"
             ],
             [
              0.4444444444444444,
              "#bd3786"
             ],
             [
              0.5555555555555556,
              "#d8576b"
             ],
             [
              0.6666666666666666,
              "#ed7953"
             ],
             [
              0.7777777777777778,
              "#fb9f3a"
             ],
             [
              0.8888888888888888,
              "#fdca26"
             ],
             [
              1,
              "#f0f921"
             ]
            ],
            "type": "surface"
           }
          ],
          "table": [
           {
            "cells": {
             "fill": {
              "color": "#EBF0F8"
             },
             "line": {
              "color": "white"
             }
            },
            "header": {
             "fill": {
              "color": "#C8D4E3"
             },
             "line": {
              "color": "white"
             }
            },
            "type": "table"
           }
          ]
         },
         "layout": {
          "annotationdefaults": {
           "arrowcolor": "#2a3f5f",
           "arrowhead": 0,
           "arrowwidth": 1
          },
          "autotypenumbers": "strict",
          "coloraxis": {
           "colorbar": {
            "outlinewidth": 0,
            "ticks": ""
           }
          },
          "colorscale": {
           "diverging": [
            [
             0,
             "#8e0152"
            ],
            [
             0.1,
             "#c51b7d"
            ],
            [
             0.2,
             "#de77ae"
            ],
            [
             0.3,
             "#f1b6da"
            ],
            [
             0.4,
             "#fde0ef"
            ],
            [
             0.5,
             "#f7f7f7"
            ],
            [
             0.6,
             "#e6f5d0"
            ],
            [
             0.7,
             "#b8e186"
            ],
            [
             0.8,
             "#7fbc41"
            ],
            [
             0.9,
             "#4d9221"
            ],
            [
             1,
             "#276419"
            ]
           ],
           "sequential": [
            [
             0,
             "#0d0887"
            ],
            [
             0.1111111111111111,
             "#46039f"
            ],
            [
             0.2222222222222222,
             "#7201a8"
            ],
            [
             0.3333333333333333,
             "#9c179e"
            ],
            [
             0.4444444444444444,
             "#bd3786"
            ],
            [
             0.5555555555555556,
             "#d8576b"
            ],
            [
             0.6666666666666666,
             "#ed7953"
            ],
            [
             0.7777777777777778,
             "#fb9f3a"
            ],
            [
             0.8888888888888888,
             "#fdca26"
            ],
            [
             1,
             "#f0f921"
            ]
           ],
           "sequentialminus": [
            [
             0,
             "#0d0887"
            ],
            [
             0.1111111111111111,
             "#46039f"
            ],
            [
             0.2222222222222222,
             "#7201a8"
            ],
            [
             0.3333333333333333,
             "#9c179e"
            ],
            [
             0.4444444444444444,
             "#bd3786"
            ],
            [
             0.5555555555555556,
             "#d8576b"
            ],
            [
             0.6666666666666666,
             "#ed7953"
            ],
            [
             0.7777777777777778,
             "#fb9f3a"
            ],
            [
             0.8888888888888888,
             "#fdca26"
            ],
            [
             1,
             "#f0f921"
            ]
           ]
          },
          "colorway": [
           "#636efa",
           "#EF553B",
           "#00cc96",
           "#ab63fa",
           "#FFA15A",
           "#19d3f3",
           "#FF6692",
           "#B6E880",
           "#FF97FF",
           "#FECB52"
          ],
          "font": {
           "color": "#2a3f5f"
          },
          "geo": {
           "bgcolor": "white",
           "lakecolor": "white",
           "landcolor": "#E5ECF6",
           "showlakes": true,
           "showland": true,
           "subunitcolor": "white"
          },
          "hoverlabel": {
           "align": "left"
          },
          "hovermode": "closest",
          "mapbox": {
           "style": "light"
          },
          "paper_bgcolor": "white",
          "plot_bgcolor": "#E5ECF6",
          "polar": {
           "angularaxis": {
            "gridcolor": "white",
            "linecolor": "white",
            "ticks": ""
           },
           "bgcolor": "#E5ECF6",
           "radialaxis": {
            "gridcolor": "white",
            "linecolor": "white",
            "ticks": ""
           }
          },
          "scene": {
           "xaxis": {
            "backgroundcolor": "#E5ECF6",
            "gridcolor": "white",
            "gridwidth": 2,
            "linecolor": "white",
            "showbackground": true,
            "ticks": "",
            "zerolinecolor": "white"
           },
           "yaxis": {
            "backgroundcolor": "#E5ECF6",
            "gridcolor": "white",
            "gridwidth": 2,
            "linecolor": "white",
            "showbackground": true,
            "ticks": "",
            "zerolinecolor": "white"
           },
           "zaxis": {
            "backgroundcolor": "#E5ECF6",
            "gridcolor": "white",
            "gridwidth": 2,
            "linecolor": "white",
            "showbackground": true,
            "ticks": "",
            "zerolinecolor": "white"
           }
          },
          "shapedefaults": {
           "line": {
            "color": "#2a3f5f"
           }
          },
          "ternary": {
           "aaxis": {
            "gridcolor": "white",
            "linecolor": "white",
            "ticks": ""
           },
           "baxis": {
            "gridcolor": "white",
            "linecolor": "white",
            "ticks": ""
           },
           "bgcolor": "#E5ECF6",
           "caxis": {
            "gridcolor": "white",
            "linecolor": "white",
            "ticks": ""
           }
          },
          "title": {
           "x": 0.05
          },
          "xaxis": {
           "automargin": true,
           "gridcolor": "white",
           "linecolor": "white",
           "ticks": "",
           "title": {
            "standoff": 15
           },
           "zerolinecolor": "white",
           "zerolinewidth": 2
          },
          "yaxis": {
           "automargin": true,
           "gridcolor": "white",
           "linecolor": "white",
           "ticks": "",
           "title": {
            "standoff": 15
           },
           "zerolinecolor": "white",
           "zerolinewidth": 2
          }
         }
        },
        "title": {
         "text": "Wie wurden Tore bekommen mit Mandl"
        },
        "xaxis": {
         "anchor": "y",
         "domain": [
          0,
          1
         ],
         "title": {
          "text": "goal_type"
         }
        },
        "yaxis": {
         "anchor": "x",
         "domain": [
          0,
          1
         ],
         "title": {
          "text": "count"
         }
        }
       }
      },
      "text/html": [
       "<div>                            <div id=\"6533d7b2-1761-4384-a88e-84f9c41f9c54\" class=\"plotly-graph-div\" style=\"height:525px; width:100%;\"></div>            <script type=\"text/javascript\">                require([\"plotly\"], function(Plotly) {                    window.PLOTLYENV=window.PLOTLYENV || {};                                    if (document.getElementById(\"6533d7b2-1761-4384-a88e-84f9c41f9c54\")) {                    Plotly.newPlot(                        \"6533d7b2-1761-4384-a88e-84f9c41f9c54\",                        [{\"alignmentgroup\":\"True\",\"bingroup\":\"x\",\"hovertemplate\":\"name=Wiener Viktoria<br>goal_type=%{x}<br>count=%{y}<extra></extra>\",\"legendgroup\":\"Wiener Viktoria\",\"marker\":{\"color\":\"#636efa\",\"pattern\":{\"shape\":\"\"}},\"name\":\"Wiener Viktoria\",\"offsetgroup\":\"Wiener Viktoria\",\"orientation\":\"v\",\"showlegend\":true,\"x\":[\"in_game\",\"in_game\",\"in_game\",\"in_game\"],\"xaxis\":\"x\",\"yaxis\":\"y\",\"type\":\"histogram\"},{\"alignmentgroup\":\"True\",\"bingroup\":\"x\",\"hovertemplate\":\"name=Admira Juniors<br>goal_type=%{x}<br>count=%{y}<extra></extra>\",\"legendgroup\":\"Admira Juniors\",\"marker\":{\"color\":\"#EF553B\",\"pattern\":{\"shape\":\"\"}},\"name\":\"Admira Juniors\",\"offsetgroup\":\"Admira Juniors\",\"orientation\":\"v\",\"showlegend\":true,\"x\":[\"in_game\",\"in_game\",\"in_game\",\"in_game\",\"in_game\",\"in_game\",\"in_game\",\"in_game\",\"in_game\",\"in_game\",\"in_game\",\"in_game\",\"strafsto\\u00df\",\"in_game\"],\"xaxis\":\"x\",\"yaxis\":\"y\",\"type\":\"histogram\"},{\"alignmentgroup\":\"True\",\"bingroup\":\"x\",\"hovertemplate\":\"name=SC Wiener Neustadt<br>goal_type=%{x}<br>count=%{y}<extra></extra>\",\"legendgroup\":\"SC Wiener Neustadt\",\"marker\":{\"color\":\"#00cc96\",\"pattern\":{\"shape\":\"\"}},\"name\":\"SC Wiener Neustadt\",\"offsetgroup\":\"SC Wiener Neustadt\",\"orientation\":\"v\",\"showlegend\":true,\"x\":[\"in_game\",\"in_game\",\"in_game\",\"eigentor\",\"in_game\",\"in_game\",\"strafsto\\u00df\"],\"xaxis\":\"x\",\"yaxis\":\"y\",\"type\":\"histogram\"},{\"alignmentgroup\":\"True\",\"bingroup\":\"x\",\"hovertemplate\":\"name=Wiener Sport-Club<br>goal_type=%{x}<br>count=%{y}<extra></extra>\",\"legendgroup\":\"Wiener Sport-Club\",\"marker\":{\"color\":\"#ab63fa\",\"pattern\":{\"shape\":\"\"}},\"name\":\"Wiener Sport-Club\",\"offsetgroup\":\"Wiener Sport-Club\",\"orientation\":\"v\",\"showlegend\":true,\"x\":[\"in_game\",\"in_game\",\"in_game\",\"in_game\",\"in_game\"],\"xaxis\":\"x\",\"yaxis\":\"y\",\"type\":\"histogram\"},{\"alignmentgroup\":\"True\",\"bingroup\":\"x\",\"hovertemplate\":\"name=SV Leobendorf<br>goal_type=%{x}<br>count=%{y}<extra></extra>\",\"legendgroup\":\"SV Leobendorf\",\"marker\":{\"color\":\"#FFA15A\",\"pattern\":{\"shape\":\"\"}},\"name\":\"SV Leobendorf\",\"offsetgroup\":\"SV Leobendorf\",\"orientation\":\"v\",\"showlegend\":true,\"x\":[\"in_game\",\"in_game\",\"in_game\",\"in_game\",\"in_game\",\"in_game\",\"strafsto\\u00df\",\"in_game\",\"in_game\"],\"xaxis\":\"x\",\"yaxis\":\"y\",\"type\":\"histogram\"},{\"alignmentgroup\":\"True\",\"bingroup\":\"x\",\"hovertemplate\":\"name=ASK-BSC Bruck/Leitha<br>goal_type=%{x}<br>count=%{y}<extra></extra>\",\"legendgroup\":\"ASK-BSC Bruck/Leitha\",\"marker\":{\"color\":\"#19d3f3\",\"pattern\":{\"shape\":\"\"}},\"name\":\"ASK-BSC Bruck/Leitha\",\"offsetgroup\":\"ASK-BSC Bruck/Leitha\",\"orientation\":\"v\",\"showlegend\":true,\"x\":[\"in_game\",\"freisto\\u00df\",\"in_game\",\"in_game\",\"in_game\",\"in_game\",\"strafsto\\u00df\",\"in_game\",\"in_game\"],\"xaxis\":\"x\",\"yaxis\":\"y\",\"type\":\"histogram\"},{\"alignmentgroup\":\"True\",\"bingroup\":\"x\",\"hovertemplate\":\"name=Dra\\u00dfburg<br>goal_type=%{x}<br>count=%{y}<extra></extra>\",\"legendgroup\":\"Dra\\u00dfburg\",\"marker\":{\"color\":\"#FF6692\",\"pattern\":{\"shape\":\"\"}},\"name\":\"Dra\\u00dfburg\",\"offsetgroup\":\"Dra\\u00dfburg\",\"orientation\":\"v\",\"showlegend\":true,\"x\":[\"in_game\",\"in_game\",\"in_game\",\"strafsto\\u00df\",\"in_game\",\"in_game\",\"in_game\",\"in_game\",\"in_game\"],\"xaxis\":\"x\",\"yaxis\":\"y\",\"type\":\"histogram\"},{\"alignmentgroup\":\"True\",\"bingroup\":\"x\",\"hovertemplate\":\"name=FC Mauerwerk<br>goal_type=%{x}<br>count=%{y}<extra></extra>\",\"legendgroup\":\"FC Mauerwerk\",\"marker\":{\"color\":\"#B6E880\",\"pattern\":{\"shape\":\"\"}},\"name\":\"FC Mauerwerk\",\"offsetgroup\":\"FC Mauerwerk\",\"orientation\":\"v\",\"showlegend\":true,\"x\":[\"in_game\",\"in_game\",\"in_game\",\"in_game\",\"in_game\",\"in_game\",\"strafsto\\u00df\",\"in_game\"],\"xaxis\":\"x\",\"yaxis\":\"y\",\"type\":\"histogram\"},{\"alignmentgroup\":\"True\",\"bingroup\":\"x\",\"hovertemplate\":\"name=FCM Traiskirchen<br>goal_type=%{x}<br>count=%{y}<extra></extra>\",\"legendgroup\":\"FCM Traiskirchen\",\"marker\":{\"color\":\"#FF97FF\",\"pattern\":{\"shape\":\"\"}},\"name\":\"FCM Traiskirchen\",\"offsetgroup\":\"FCM Traiskirchen\",\"orientation\":\"v\",\"showlegend\":true,\"x\":[\"in_game\",\"in_game\",\"in_game\",\"in_game\",\"in_game\",\"in_game\",\"in_game\",\"in_game\",\"in_game\",\"in_game\",\"in_game\"],\"xaxis\":\"x\",\"yaxis\":\"y\",\"type\":\"histogram\"},{\"alignmentgroup\":\"True\",\"bingroup\":\"x\",\"hovertemplate\":\"name=FC Marchfeld / Mannsdorf-Gro\\u00dfe.<br>goal_type=%{x}<br>count=%{y}<extra></extra>\",\"legendgroup\":\"FC Marchfeld / Mannsdorf-Gro\\u00dfe.\",\"marker\":{\"color\":\"#FECB52\",\"pattern\":{\"shape\":\"\"}},\"name\":\"FC Marchfeld / Mannsdorf-Gro\\u00dfe.\",\"offsetgroup\":\"FC Marchfeld / Mannsdorf-Gro\\u00dfe.\",\"orientation\":\"v\",\"showlegend\":true,\"x\":[\"in_game\",\"in_game\",\"in_game\",\"in_game\",\"in_game\",\"in_game\",\"in_game\",\"in_game\",\"in_game\"],\"xaxis\":\"x\",\"yaxis\":\"y\",\"type\":\"histogram\"},{\"alignmentgroup\":\"True\",\"bingroup\":\"x\",\"hovertemplate\":\"name=First Vienna FC 1894<br>goal_type=%{x}<br>count=%{y}<extra></extra>\",\"legendgroup\":\"First Vienna FC 1894\",\"marker\":{\"color\":\"#636efa\",\"pattern\":{\"shape\":\"\"}},\"name\":\"First Vienna FC 1894\",\"offsetgroup\":\"First Vienna FC 1894\",\"orientation\":\"v\",\"showlegend\":true,\"x\":[\"in_game\",\"in_game\",\"in_game\"],\"xaxis\":\"x\",\"yaxis\":\"y\",\"type\":\"histogram\"},{\"alignmentgroup\":\"True\",\"bingroup\":\"x\",\"hovertemplate\":\"name=SC Neusiedl am See 1919<br>goal_type=%{x}<br>count=%{y}<extra></extra>\",\"legendgroup\":\"SC Neusiedl am See 1919\",\"marker\":{\"color\":\"#EF553B\",\"pattern\":{\"shape\":\"\"}},\"name\":\"SC Neusiedl am See 1919\",\"offsetgroup\":\"SC Neusiedl am See 1919\",\"orientation\":\"v\",\"showlegend\":true,\"x\":[\"in_game\",\"in_game\",\"in_game\",\"in_game\",\"in_game\",\"in_game\",\"in_game\"],\"xaxis\":\"x\",\"yaxis\":\"y\",\"type\":\"histogram\"},{\"alignmentgroup\":\"True\",\"bingroup\":\"x\",\"hovertemplate\":\"name=Stripfing<br>goal_type=%{x}<br>count=%{y}<extra></extra>\",\"legendgroup\":\"Stripfing\",\"marker\":{\"color\":\"#00cc96\",\"pattern\":{\"shape\":\"\"}},\"name\":\"Stripfing\",\"offsetgroup\":\"Stripfing\",\"orientation\":\"v\",\"showlegend\":true,\"x\":[\"in_game\",\"in_game\",\"in_game\",\"in_game\"],\"xaxis\":\"x\",\"yaxis\":\"y\",\"type\":\"histogram\"},{\"alignmentgroup\":\"True\",\"bingroup\":\"x\",\"hovertemplate\":\"name=TWL Elektra<br>goal_type=%{x}<br>count=%{y}<extra></extra>\",\"legendgroup\":\"TWL Elektra\",\"marker\":{\"color\":\"#ab63fa\",\"pattern\":{\"shape\":\"\"}},\"name\":\"TWL Elektra\",\"offsetgroup\":\"TWL Elektra\",\"orientation\":\"v\",\"showlegend\":true,\"x\":[\"in_game\",\"in_game\",\"in_game\",\"in_game\",\"in_game\",\"in_game\",\"in_game\"],\"xaxis\":\"x\",\"yaxis\":\"y\",\"type\":\"histogram\"}],                        {\"template\":{\"data\":{\"histogram2dcontour\":[{\"type\":\"histogram2dcontour\",\"colorbar\":{\"outlinewidth\":0,\"ticks\":\"\"},\"colorscale\":[[0.0,\"#0d0887\"],[0.1111111111111111,\"#46039f\"],[0.2222222222222222,\"#7201a8\"],[0.3333333333333333,\"#9c179e\"],[0.4444444444444444,\"#bd3786\"],[0.5555555555555556,\"#d8576b\"],[0.6666666666666666,\"#ed7953\"],[0.7777777777777778,\"#fb9f3a\"],[0.8888888888888888,\"#fdca26\"],[1.0,\"#f0f921\"]]}],\"choropleth\":[{\"type\":\"choropleth\",\"colorbar\":{\"outlinewidth\":0,\"ticks\":\"\"}}],\"histogram2d\":[{\"type\":\"histogram2d\",\"colorbar\":{\"outlinewidth\":0,\"ticks\":\"\"},\"colorscale\":[[0.0,\"#0d0887\"],[0.1111111111111111,\"#46039f\"],[0.2222222222222222,\"#7201a8\"],[0.3333333333333333,\"#9c179e\"],[0.4444444444444444,\"#bd3786\"],[0.5555555555555556,\"#d8576b\"],[0.6666666666666666,\"#ed7953\"],[0.7777777777777778,\"#fb9f3a\"],[0.8888888888888888,\"#fdca26\"],[1.0,\"#f0f921\"]]}],\"heatmap\":[{\"type\":\"heatmap\",\"colorbar\":{\"outlinewidth\":0,\"ticks\":\"\"},\"colorscale\":[[0.0,\"#0d0887\"],[0.1111111111111111,\"#46039f\"],[0.2222222222222222,\"#7201a8\"],[0.3333333333333333,\"#9c179e\"],[0.4444444444444444,\"#bd3786\"],[0.5555555555555556,\"#d8576b\"],[0.6666666666666666,\"#ed7953\"],[0.7777777777777778,\"#fb9f3a\"],[0.8888888888888888,\"#fdca26\"],[1.0,\"#f0f921\"]]}],\"heatmapgl\":[{\"type\":\"heatmapgl\",\"colorbar\":{\"outlinewidth\":0,\"ticks\":\"\"},\"colorscale\":[[0.0,\"#0d0887\"],[0.1111111111111111,\"#46039f\"],[0.2222222222222222,\"#7201a8\"],[0.3333333333333333,\"#9c179e\"],[0.4444444444444444,\"#bd3786\"],[0.5555555555555556,\"#d8576b\"],[0.6666666666666666,\"#ed7953\"],[0.7777777777777778,\"#fb9f3a\"],[0.8888888888888888,\"#fdca26\"],[1.0,\"#f0f921\"]]}],\"contourcarpet\":[{\"type\":\"contourcarpet\",\"colorbar\":{\"outlinewidth\":0,\"ticks\":\"\"}}],\"contour\":[{\"type\":\"contour\",\"colorbar\":{\"outlinewidth\":0,\"ticks\":\"\"},\"colorscale\":[[0.0,\"#0d0887\"],[0.1111111111111111,\"#46039f\"],[0.2222222222222222,\"#7201a8\"],[0.3333333333333333,\"#9c179e\"],[0.4444444444444444,\"#bd3786\"],[0.5555555555555556,\"#d8576b\"],[0.6666666666666666,\"#ed7953\"],[0.7777777777777778,\"#fb9f3a\"],[0.8888888888888888,\"#fdca26\"],[1.0,\"#f0f921\"]]}],\"surface\":[{\"type\":\"surface\",\"colorbar\":{\"outlinewidth\":0,\"ticks\":\"\"},\"colorscale\":[[0.0,\"#0d0887\"],[0.1111111111111111,\"#46039f\"],[0.2222222222222222,\"#7201a8\"],[0.3333333333333333,\"#9c179e\"],[0.4444444444444444,\"#bd3786\"],[0.5555555555555556,\"#d8576b\"],[0.6666666666666666,\"#ed7953\"],[0.7777777777777778,\"#fb9f3a\"],[0.8888888888888888,\"#fdca26\"],[1.0,\"#f0f921\"]]}],\"mesh3d\":[{\"type\":\"mesh3d\",\"colorbar\":{\"outlinewidth\":0,\"ticks\":\"\"}}],\"scatter\":[{\"fillpattern\":{\"fillmode\":\"overlay\",\"size\":10,\"solidity\":0.2},\"type\":\"scatter\"}],\"parcoords\":[{\"type\":\"parcoords\",\"line\":{\"colorbar\":{\"outlinewidth\":0,\"ticks\":\"\"}}}],\"scatterpolargl\":[{\"type\":\"scatterpolargl\",\"marker\":{\"colorbar\":{\"outlinewidth\":0,\"ticks\":\"\"}}}],\"bar\":[{\"error_x\":{\"color\":\"#2a3f5f\"},\"error_y\":{\"color\":\"#2a3f5f\"},\"marker\":{\"line\":{\"color\":\"#E5ECF6\",\"width\":0.5},\"pattern\":{\"fillmode\":\"overlay\",\"size\":10,\"solidity\":0.2}},\"type\":\"bar\"}],\"scattergeo\":[{\"type\":\"scattergeo\",\"marker\":{\"colorbar\":{\"outlinewidth\":0,\"ticks\":\"\"}}}],\"scatterpolar\":[{\"type\":\"scatterpolar\",\"marker\":{\"colorbar\":{\"outlinewidth\":0,\"ticks\":\"\"}}}],\"histogram\":[{\"marker\":{\"pattern\":{\"fillmode\":\"overlay\",\"size\":10,\"solidity\":0.2}},\"type\":\"histogram\"}],\"scattergl\":[{\"type\":\"scattergl\",\"marker\":{\"colorbar\":{\"outlinewidth\":0,\"ticks\":\"\"}}}],\"scatter3d\":[{\"type\":\"scatter3d\",\"line\":{\"colorbar\":{\"outlinewidth\":0,\"ticks\":\"\"}},\"marker\":{\"colorbar\":{\"outlinewidth\":0,\"ticks\":\"\"}}}],\"scattermapbox\":[{\"type\":\"scattermapbox\",\"marker\":{\"colorbar\":{\"outlinewidth\":0,\"ticks\":\"\"}}}],\"scatterternary\":[{\"type\":\"scatterternary\",\"marker\":{\"colorbar\":{\"outlinewidth\":0,\"ticks\":\"\"}}}],\"scattercarpet\":[{\"type\":\"scattercarpet\",\"marker\":{\"colorbar\":{\"outlinewidth\":0,\"ticks\":\"\"}}}],\"carpet\":[{\"aaxis\":{\"endlinecolor\":\"#2a3f5f\",\"gridcolor\":\"white\",\"linecolor\":\"white\",\"minorgridcolor\":\"white\",\"startlinecolor\":\"#2a3f5f\"},\"baxis\":{\"endlinecolor\":\"#2a3f5f\",\"gridcolor\":\"white\",\"linecolor\":\"white\",\"minorgridcolor\":\"white\",\"startlinecolor\":\"#2a3f5f\"},\"type\":\"carpet\"}],\"table\":[{\"cells\":{\"fill\":{\"color\":\"#EBF0F8\"},\"line\":{\"color\":\"white\"}},\"header\":{\"fill\":{\"color\":\"#C8D4E3\"},\"line\":{\"color\":\"white\"}},\"type\":\"table\"}],\"barpolar\":[{\"marker\":{\"line\":{\"color\":\"#E5ECF6\",\"width\":0.5},\"pattern\":{\"fillmode\":\"overlay\",\"size\":10,\"solidity\":0.2}},\"type\":\"barpolar\"}],\"pie\":[{\"automargin\":true,\"type\":\"pie\"}]},\"layout\":{\"autotypenumbers\":\"strict\",\"colorway\":[\"#636efa\",\"#EF553B\",\"#00cc96\",\"#ab63fa\",\"#FFA15A\",\"#19d3f3\",\"#FF6692\",\"#B6E880\",\"#FF97FF\",\"#FECB52\"],\"font\":{\"color\":\"#2a3f5f\"},\"hovermode\":\"closest\",\"hoverlabel\":{\"align\":\"left\"},\"paper_bgcolor\":\"white\",\"plot_bgcolor\":\"#E5ECF6\",\"polar\":{\"bgcolor\":\"#E5ECF6\",\"angularaxis\":{\"gridcolor\":\"white\",\"linecolor\":\"white\",\"ticks\":\"\"},\"radialaxis\":{\"gridcolor\":\"white\",\"linecolor\":\"white\",\"ticks\":\"\"}},\"ternary\":{\"bgcolor\":\"#E5ECF6\",\"aaxis\":{\"gridcolor\":\"white\",\"linecolor\":\"white\",\"ticks\":\"\"},\"baxis\":{\"gridcolor\":\"white\",\"linecolor\":\"white\",\"ticks\":\"\"},\"caxis\":{\"gridcolor\":\"white\",\"linecolor\":\"white\",\"ticks\":\"\"}},\"coloraxis\":{\"colorbar\":{\"outlinewidth\":0,\"ticks\":\"\"}},\"colorscale\":{\"sequential\":[[0.0,\"#0d0887\"],[0.1111111111111111,\"#46039f\"],[0.2222222222222222,\"#7201a8\"],[0.3333333333333333,\"#9c179e\"],[0.4444444444444444,\"#bd3786\"],[0.5555555555555556,\"#d8576b\"],[0.6666666666666666,\"#ed7953\"],[0.7777777777777778,\"#fb9f3a\"],[0.8888888888888888,\"#fdca26\"],[1.0,\"#f0f921\"]],\"sequentialminus\":[[0.0,\"#0d0887\"],[0.1111111111111111,\"#46039f\"],[0.2222222222222222,\"#7201a8\"],[0.3333333333333333,\"#9c179e\"],[0.4444444444444444,\"#bd3786\"],[0.5555555555555556,\"#d8576b\"],[0.6666666666666666,\"#ed7953\"],[0.7777777777777778,\"#fb9f3a\"],[0.8888888888888888,\"#fdca26\"],[1.0,\"#f0f921\"]],\"diverging\":[[0,\"#8e0152\"],[0.1,\"#c51b7d\"],[0.2,\"#de77ae\"],[0.3,\"#f1b6da\"],[0.4,\"#fde0ef\"],[0.5,\"#f7f7f7\"],[0.6,\"#e6f5d0\"],[0.7,\"#b8e186\"],[0.8,\"#7fbc41\"],[0.9,\"#4d9221\"],[1,\"#276419\"]]},\"xaxis\":{\"gridcolor\":\"white\",\"linecolor\":\"white\",\"ticks\":\"\",\"title\":{\"standoff\":15},\"zerolinecolor\":\"white\",\"automargin\":true,\"zerolinewidth\":2},\"yaxis\":{\"gridcolor\":\"white\",\"linecolor\":\"white\",\"ticks\":\"\",\"title\":{\"standoff\":15},\"zerolinecolor\":\"white\",\"automargin\":true,\"zerolinewidth\":2},\"scene\":{\"xaxis\":{\"backgroundcolor\":\"#E5ECF6\",\"gridcolor\":\"white\",\"linecolor\":\"white\",\"showbackground\":true,\"ticks\":\"\",\"zerolinecolor\":\"white\",\"gridwidth\":2},\"yaxis\":{\"backgroundcolor\":\"#E5ECF6\",\"gridcolor\":\"white\",\"linecolor\":\"white\",\"showbackground\":true,\"ticks\":\"\",\"zerolinecolor\":\"white\",\"gridwidth\":2},\"zaxis\":{\"backgroundcolor\":\"#E5ECF6\",\"gridcolor\":\"white\",\"linecolor\":\"white\",\"showbackground\":true,\"ticks\":\"\",\"zerolinecolor\":\"white\",\"gridwidth\":2}},\"shapedefaults\":{\"line\":{\"color\":\"#2a3f5f\"}},\"annotationdefaults\":{\"arrowcolor\":\"#2a3f5f\",\"arrowhead\":0,\"arrowwidth\":1},\"geo\":{\"bgcolor\":\"white\",\"landcolor\":\"#E5ECF6\",\"subunitcolor\":\"white\",\"showland\":true,\"showlakes\":true,\"lakecolor\":\"white\"},\"title\":{\"x\":0.05},\"mapbox\":{\"style\":\"light\"}}},\"xaxis\":{\"anchor\":\"y\",\"domain\":[0.0,1.0],\"title\":{\"text\":\"goal_type\"}},\"yaxis\":{\"anchor\":\"x\",\"domain\":[0.0,1.0],\"title\":{\"text\":\"count\"}},\"legend\":{\"title\":{\"text\":\"name\"},\"tracegroupgap\":0},\"title\":{\"text\":\"Wie wurden Tore bekommen mit Mandl\"},\"barmode\":\"stack\"},                        {\"responsive\": true}                    ).then(function(){\n",
       "                            \n",
       "var gd = document.getElementById('6533d7b2-1761-4384-a88e-84f9c41f9c54');\n",
       "var x = new MutationObserver(function (mutations, observer) {{\n",
       "        var display = window.getComputedStyle(gd).display;\n",
       "        if (!display || display === 'none') {{\n",
       "            console.log([gd, 'removed!']);\n",
       "            Plotly.purge(gd);\n",
       "            observer.disconnect();\n",
       "        }}\n",
       "}});\n",
       "\n",
       "// Listen for the removal of the full notebook cells\n",
       "var notebookContainer = gd.closest('#notebook-container');\n",
       "if (notebookContainer) {{\n",
       "    x.observe(notebookContainer, {childList: true});\n",
       "}}\n",
       "\n",
       "// Listen for the clearing of the current output cell\n",
       "var outputEl = gd.closest('.output');\n",
       "if (outputEl) {{\n",
       "    x.observe(outputEl, {childList: true});\n",
       "}}\n",
       "\n",
       "                        })                };                });            </script>        </div>"
      ]
     },
     "metadata": {},
     "output_type": "display_data"
    }
   ],
   "source": [
    "df=query_database(query_table.format(trainer_zeit[0],trainer_zeit[1],vereine[0],vereine[0]),database=\"verbands.db\")\n",
    "df[\"goal_type\"]=df[\"text\"].apply(lambda x: goal_type(x))\n",
    "df.groupby([\"name\",\"goal_type\"])[\"goal_type\"].count()\n",
    "df.head()\n",
    "fig=px.histogram(df, x=\"goal_type\" ,color=\"name\",title=\"Wie wurden Tore bekommen mit Mandl\")\n",
    "fig.update_layout(barmode='stack') #\"stack\", \"relative\", \"group\"\n",
    "fig.show()"
   ]
  },
  {
   "cell_type": "code",
   "execution_count": null,
   "id": "3b87650c",
   "metadata": {
    "slideshow": {
     "slide_type": "subslide"
    }
   },
   "outputs": [
    {
     "data": {
      "text/plain": [
       "name                             goal_type\n",
       "ASK-BSC Bruck/Leitha             freistoß      1\n",
       "                                 in_game       7\n",
       "                                 strafstoß     1\n",
       "Admira Juniors                   in_game      13\n",
       "                                 strafstoß     1\n",
       "Draßburg                         in_game       8\n",
       "                                 strafstoß     1\n",
       "FC Marchfeld / Mannsdorf-Große.  in_game       9\n",
       "FC Mauerwerk                     in_game       7\n",
       "                                 strafstoß     1\n",
       "FCM Traiskirchen                 in_game      11\n",
       "First Vienna FC 1894             in_game       3\n",
       "SC Neusiedl am See 1919          in_game       7\n",
       "SC Wiener Neustadt               eigentor      1\n",
       "                                 in_game       5\n",
       "                                 strafstoß     1\n",
       "SV Leobendorf                    in_game       8\n",
       "                                 strafstoß     1\n",
       "Stripfing                        in_game       4\n",
       "TWL Elektra                      in_game       7\n",
       "Wiener Sport-Club                in_game       5\n",
       "Wiener Viktoria                  in_game       4\n",
       "Name: goal_type, dtype: int64"
      ]
     },
     "execution_count": 32,
     "metadata": {},
     "output_type": "execute_result"
    }
   ],
   "source": [
    "df.groupby([\"name\",\"goal_type\"])[\"goal_type\"].count()"
   ]
  },
  {
   "cell_type": "code",
   "execution_count": null,
   "id": "f17d7d97",
   "metadata": {
    "slideshow": {
     "slide_type": "subslide"
    }
   },
   "outputs": [
    {
     "data": {
      "application/vnd.plotly.v1+json": {
       "config": {
        "plotlyServerURL": "https://plot.ly"
       },
       "data": [
        {
         "alignmentgroup": "True",
         "bingroup": "x",
         "hovertemplate": "name=Admira Juniors<br>goal_type=%{x}<br>count=%{y}<extra></extra>",
         "legendgroup": "Admira Juniors",
         "marker": {
          "color": "#636efa",
          "pattern": {
           "shape": ""
          }
         },
         "name": "Admira Juniors",
         "offsetgroup": "Admira Juniors",
         "orientation": "v",
         "showlegend": true,
         "type": "histogram",
         "x": [
          "in_game",
          "in_game",
          "in_game",
          "in_game",
          "in_game",
          "in_game",
          "in_game",
          "in_game",
          "in_game",
          "in_game",
          "in_game",
          "in_game",
          "in_game",
          "in_game",
          "in_game",
          "in_game",
          "in_game",
          "in_game",
          "in_game",
          "in_game",
          "in_game",
          "in_game",
          "in_game",
          "in_game",
          "in_game",
          "in_game",
          "in_game",
          "in_game",
          "in_game",
          "in_game",
          "in_game",
          "in_game",
          "freistoß",
          "in_game",
          "in_game",
          "in_game",
          "in_game",
          "in_game"
         ],
         "xaxis": "x",
         "yaxis": "y"
        },
        {
         "alignmentgroup": "True",
         "bingroup": "x",
         "hovertemplate": "name=FC Mauerwerk<br>goal_type=%{x}<br>count=%{y}<extra></extra>",
         "legendgroup": "FC Mauerwerk",
         "marker": {
          "color": "#EF553B",
          "pattern": {
           "shape": ""
          }
         },
         "name": "FC Mauerwerk",
         "offsetgroup": "FC Mauerwerk",
         "orientation": "v",
         "showlegend": true,
         "type": "histogram",
         "x": [
          "in_game",
          "in_game",
          "in_game",
          "eigentor",
          "in_game",
          "strafstoß",
          "in_game",
          "in_game",
          "in_game",
          "in_game",
          "in_game",
          "in_game",
          "in_game",
          "in_game",
          "in_game",
          "in_game",
          "in_game",
          "in_game",
          "in_game",
          "in_game",
          "strafstoß",
          "in_game",
          "in_game",
          "in_game",
          "in_game",
          "in_game",
          "in_game",
          "in_game",
          "strafstoß",
          "in_game",
          "in_game",
          "in_game",
          "in_game",
          "in_game",
          "in_game",
          "in_game",
          "in_game",
          "in_game",
          "in_game",
          "in_game",
          "in_game",
          "in_game",
          "in_game",
          "in_game",
          "in_game",
          "in_game",
          "in_game",
          "in_game",
          "in_game"
         ],
         "xaxis": "x",
         "yaxis": "y"
        },
        {
         "alignmentgroup": "True",
         "bingroup": "x",
         "hovertemplate": "name=Draßburg<br>goal_type=%{x}<br>count=%{y}<extra></extra>",
         "legendgroup": "Draßburg",
         "marker": {
          "color": "#00cc96",
          "pattern": {
           "shape": ""
          }
         },
         "name": "Draßburg",
         "offsetgroup": "Draßburg",
         "orientation": "v",
         "showlegend": true,
         "type": "histogram",
         "x": [
          "in_game",
          "in_game",
          "in_game",
          "in_game",
          "in_game",
          "in_game",
          "in_game",
          "in_game",
          "in_game",
          "in_game",
          "in_game",
          "in_game",
          "in_game",
          "in_game",
          "in_game",
          "in_game",
          "in_game",
          "in_game",
          "in_game",
          "in_game",
          "in_game",
          "in_game",
          "in_game",
          "in_game",
          "in_game",
          "in_game",
          "in_game",
          "in_game",
          "in_game",
          "in_game",
          "in_game",
          "strafstoß",
          "in_game",
          "in_game",
          "in_game",
          "in_game",
          "in_game",
          "in_game",
          "in_game",
          "strafstoß",
          "in_game",
          "in_game",
          "in_game",
          "in_game",
          "in_game",
          "in_game",
          "in_game"
         ],
         "xaxis": "x",
         "yaxis": "y"
        },
        {
         "alignmentgroup": "True",
         "bingroup": "x",
         "hovertemplate": "name=SC Neusiedl am See 1919<br>goal_type=%{x}<br>count=%{y}<extra></extra>",
         "legendgroup": "SC Neusiedl am See 1919",
         "marker": {
          "color": "#ab63fa",
          "pattern": {
           "shape": ""
          }
         },
         "name": "SC Neusiedl am See 1919",
         "offsetgroup": "SC Neusiedl am See 1919",
         "orientation": "v",
         "showlegend": true,
         "type": "histogram",
         "x": [
          "in_game",
          "in_game",
          "in_game",
          "in_game",
          "in_game",
          "in_game",
          "in_game",
          "in_game",
          "in_game",
          "in_game",
          "in_game",
          "in_game",
          "in_game",
          "in_game",
          "in_game",
          "in_game",
          "in_game",
          "in_game",
          "in_game",
          "in_game",
          "in_game",
          "in_game",
          "in_game",
          "in_game",
          "in_game",
          "in_game",
          "in_game",
          "in_game",
          "in_game"
         ],
         "xaxis": "x",
         "yaxis": "y"
        },
        {
         "alignmentgroup": "True",
         "bingroup": "x",
         "hovertemplate": "name=Wiener Sport-Club<br>goal_type=%{x}<br>count=%{y}<extra></extra>",
         "legendgroup": "Wiener Sport-Club",
         "marker": {
          "color": "#FFA15A",
          "pattern": {
           "shape": ""
          }
         },
         "name": "Wiener Sport-Club",
         "offsetgroup": "Wiener Sport-Club",
         "orientation": "v",
         "showlegend": true,
         "type": "histogram",
         "x": [
          "in_game",
          "in_game",
          "in_game",
          "in_game",
          "in_game",
          "in_game",
          "in_game",
          "in_game",
          "in_game",
          "in_game",
          "in_game",
          "in_game",
          "in_game",
          "in_game",
          "in_game",
          "in_game",
          "in_game",
          "in_game",
          "in_game",
          "in_game",
          "in_game",
          "in_game",
          "in_game",
          "strafstoß",
          "in_game",
          "in_game"
         ],
         "xaxis": "x",
         "yaxis": "y"
        },
        {
         "alignmentgroup": "True",
         "bingroup": "x",
         "hovertemplate": "name=FCM Traiskirchen<br>goal_type=%{x}<br>count=%{y}<extra></extra>",
         "legendgroup": "FCM Traiskirchen",
         "marker": {
          "color": "#19d3f3",
          "pattern": {
           "shape": ""
          }
         },
         "name": "FCM Traiskirchen",
         "offsetgroup": "FCM Traiskirchen",
         "orientation": "v",
         "showlegend": true,
         "type": "histogram",
         "x": [
          "in_game",
          "in_game",
          "in_game",
          "strafstoß",
          "in_game",
          "in_game",
          "in_game",
          "in_game",
          "in_game",
          "in_game",
          "in_game",
          "in_game",
          "in_game",
          "in_game",
          "in_game",
          "in_game",
          "in_game",
          "in_game",
          "in_game",
          "in_game",
          "in_game",
          "in_game",
          "in_game",
          "in_game",
          "in_game",
          "in_game",
          "in_game",
          "in_game",
          "in_game",
          "in_game",
          "in_game"
         ],
         "xaxis": "x",
         "yaxis": "y"
        },
        {
         "alignmentgroup": "True",
         "bingroup": "x",
         "hovertemplate": "name=SC Wiener Neustadt<br>goal_type=%{x}<br>count=%{y}<extra></extra>",
         "legendgroup": "SC Wiener Neustadt",
         "marker": {
          "color": "#FF6692",
          "pattern": {
           "shape": ""
          }
         },
         "name": "SC Wiener Neustadt",
         "offsetgroup": "SC Wiener Neustadt",
         "orientation": "v",
         "showlegend": true,
         "type": "histogram",
         "x": [
          "in_game",
          "in_game",
          "in_game",
          "in_game",
          "in_game",
          "in_game",
          "in_game",
          "in_game",
          "in_game",
          "in_game",
          "in_game",
          "in_game",
          "in_game",
          "freistoß",
          "in_game",
          "in_game",
          "in_game",
          "in_game",
          "in_game",
          "in_game",
          "strafstoß",
          "in_game",
          "in_game",
          "in_game",
          "in_game",
          "in_game",
          "in_game",
          "in_game",
          "in_game",
          "strafstoß",
          "in_game",
          "in_game",
          "in_game",
          "in_game",
          "in_game",
          "in_game",
          "in_game",
          "in_game",
          "in_game",
          "in_game",
          "in_game",
          "in_game",
          "in_game",
          "in_game",
          "in_game",
          "in_game",
          "in_game",
          "in_game"
         ],
         "xaxis": "x",
         "yaxis": "y"
        },
        {
         "alignmentgroup": "True",
         "bingroup": "x",
         "hovertemplate": "name=Wiener Viktoria<br>goal_type=%{x}<br>count=%{y}<extra></extra>",
         "legendgroup": "Wiener Viktoria",
         "marker": {
          "color": "#B6E880",
          "pattern": {
           "shape": ""
          }
         },
         "name": "Wiener Viktoria",
         "offsetgroup": "Wiener Viktoria",
         "orientation": "v",
         "showlegend": true,
         "type": "histogram",
         "x": [
          "in_game",
          "strafstoß",
          "in_game",
          "in_game",
          "in_game",
          "eigentor",
          "in_game",
          "in_game",
          "in_game",
          "in_game",
          "in_game",
          "in_game",
          "in_game",
          "in_game",
          "in_game",
          "freistoß",
          "in_game",
          "in_game",
          "in_game",
          "in_game",
          "in_game",
          "in_game",
          "in_game",
          "in_game",
          "in_game",
          "in_game",
          "in_game",
          "in_game",
          "in_game",
          "in_game",
          "in_game",
          "strafstoß",
          "in_game"
         ],
         "xaxis": "x",
         "yaxis": "y"
        },
        {
         "alignmentgroup": "True",
         "bingroup": "x",
         "hovertemplate": "name=SV Leobendorf<br>goal_type=%{x}<br>count=%{y}<extra></extra>",
         "legendgroup": "SV Leobendorf",
         "marker": {
          "color": "#FF97FF",
          "pattern": {
           "shape": ""
          }
         },
         "name": "SV Leobendorf",
         "offsetgroup": "SV Leobendorf",
         "orientation": "v",
         "showlegend": true,
         "type": "histogram",
         "x": [
          "in_game",
          "in_game",
          "in_game",
          "in_game",
          "in_game",
          "in_game",
          "in_game",
          "in_game",
          "in_game",
          "in_game",
          "in_game",
          "in_game",
          "in_game",
          "in_game",
          "in_game",
          "in_game",
          "in_game",
          "in_game",
          "in_game",
          "in_game",
          "in_game",
          "in_game",
          "in_game",
          "in_game",
          "in_game",
          "in_game",
          "in_game",
          "in_game"
         ],
         "xaxis": "x",
         "yaxis": "y"
        },
        {
         "alignmentgroup": "True",
         "bingroup": "x",
         "hovertemplate": "name=First Vienna FC 1894<br>goal_type=%{x}<br>count=%{y}<extra></extra>",
         "legendgroup": "First Vienna FC 1894",
         "marker": {
          "color": "#FECB52",
          "pattern": {
           "shape": ""
          }
         },
         "name": "First Vienna FC 1894",
         "offsetgroup": "First Vienna FC 1894",
         "orientation": "v",
         "showlegend": true,
         "type": "histogram",
         "x": [
          "in_game",
          "in_game",
          "in_game",
          "in_game",
          "in_game",
          "in_game",
          "in_game",
          "in_game",
          "strafstoß",
          "in_game",
          "in_game",
          "in_game",
          "in_game",
          "eigentor",
          "in_game",
          "eigentor",
          "in_game"
         ],
         "xaxis": "x",
         "yaxis": "y"
        },
        {
         "alignmentgroup": "True",
         "bingroup": "x",
         "hovertemplate": "name=TWL Elektra<br>goal_type=%{x}<br>count=%{y}<extra></extra>",
         "legendgroup": "TWL Elektra",
         "marker": {
          "color": "#636efa",
          "pattern": {
           "shape": ""
          }
         },
         "name": "TWL Elektra",
         "offsetgroup": "TWL Elektra",
         "orientation": "v",
         "showlegend": true,
         "type": "histogram",
         "x": [
          "in_game",
          "in_game",
          "in_game",
          "in_game",
          "in_game",
          "in_game",
          "in_game",
          "in_game",
          "in_game",
          "in_game",
          "in_game",
          "in_game",
          "in_game",
          "in_game",
          "in_game",
          "in_game",
          "in_game",
          "in_game",
          "in_game",
          "in_game",
          "in_game",
          "in_game"
         ],
         "xaxis": "x",
         "yaxis": "y"
        },
        {
         "alignmentgroup": "True",
         "bingroup": "x",
         "hovertemplate": "name=ASK-BSC Bruck/Leitha<br>goal_type=%{x}<br>count=%{y}<extra></extra>",
         "legendgroup": "ASK-BSC Bruck/Leitha",
         "marker": {
          "color": "#EF553B",
          "pattern": {
           "shape": ""
          }
         },
         "name": "ASK-BSC Bruck/Leitha",
         "offsetgroup": "ASK-BSC Bruck/Leitha",
         "orientation": "v",
         "showlegend": true,
         "type": "histogram",
         "x": [
          "in_game",
          "in_game",
          "in_game",
          "in_game",
          "in_game",
          "in_game",
          "in_game",
          "in_game",
          "in_game",
          "in_game",
          "in_game",
          "in_game",
          "in_game",
          "in_game",
          "in_game",
          "in_game",
          "in_game",
          "in_game",
          "in_game",
          "strafstoß",
          "in_game",
          "in_game",
          "in_game",
          "in_game",
          "in_game",
          "strafstoß",
          "in_game",
          "in_game",
          "in_game",
          "in_game",
          "in_game",
          "in_game",
          "in_game",
          "eigentor",
          "in_game"
         ],
         "xaxis": "x",
         "yaxis": "y"
        },
        {
         "alignmentgroup": "True",
         "bingroup": "x",
         "hovertemplate": "name=FC Marchfeld / Mannsdorf-Große.<br>goal_type=%{x}<br>count=%{y}<extra></extra>",
         "legendgroup": "FC Marchfeld / Mannsdorf-Große.",
         "marker": {
          "color": "#00cc96",
          "pattern": {
           "shape": ""
          }
         },
         "name": "FC Marchfeld / Mannsdorf-Große.",
         "offsetgroup": "FC Marchfeld / Mannsdorf-Große.",
         "orientation": "v",
         "showlegend": true,
         "type": "histogram",
         "x": [
          "in_game",
          "in_game",
          "in_game",
          "in_game",
          "in_game",
          "in_game",
          "in_game",
          "in_game",
          "in_game",
          "in_game",
          "in_game",
          "in_game",
          "in_game",
          "in_game",
          "in_game",
          "in_game",
          "in_game",
          "in_game",
          "in_game",
          "strafstoß",
          "in_game",
          "in_game",
          "in_game",
          "in_game",
          "in_game",
          "in_game",
          "strafstoß",
          "in_game",
          "in_game",
          "in_game",
          "in_game",
          "in_game"
         ],
         "xaxis": "x",
         "yaxis": "y"
        },
        {
         "alignmentgroup": "True",
         "bingroup": "x",
         "hovertemplate": "name=Stripfing<br>goal_type=%{x}<br>count=%{y}<extra></extra>",
         "legendgroup": "Stripfing",
         "marker": {
          "color": "#ab63fa",
          "pattern": {
           "shape": ""
          }
         },
         "name": "Stripfing",
         "offsetgroup": "Stripfing",
         "orientation": "v",
         "showlegend": true,
         "type": "histogram",
         "x": [
          "in_game",
          "in_game",
          "in_game",
          "in_game",
          "in_game",
          "strafstoß",
          "in_game",
          "in_game",
          "in_game",
          "in_game",
          "in_game",
          "in_game",
          "in_game",
          "in_game",
          "in_game"
         ],
         "xaxis": "x",
         "yaxis": "y"
        }
       ],
       "layout": {
        "barmode": "stack",
        "legend": {
         "title": {
          "text": "name"
         },
         "tracegroupgap": 0
        },
        "template": {
         "data": {
          "bar": [
           {
            "error_x": {
             "color": "#2a3f5f"
            },
            "error_y": {
             "color": "#2a3f5f"
            },
            "marker": {
             "line": {
              "color": "#E5ECF6",
              "width": 0.5
             },
             "pattern": {
              "fillmode": "overlay",
              "size": 10,
              "solidity": 0.2
             }
            },
            "type": "bar"
           }
          ],
          "barpolar": [
           {
            "marker": {
             "line": {
              "color": "#E5ECF6",
              "width": 0.5
             },
             "pattern": {
              "fillmode": "overlay",
              "size": 10,
              "solidity": 0.2
             }
            },
            "type": "barpolar"
           }
          ],
          "carpet": [
           {
            "aaxis": {
             "endlinecolor": "#2a3f5f",
             "gridcolor": "white",
             "linecolor": "white",
             "minorgridcolor": "white",
             "startlinecolor": "#2a3f5f"
            },
            "baxis": {
             "endlinecolor": "#2a3f5f",
             "gridcolor": "white",
             "linecolor": "white",
             "minorgridcolor": "white",
             "startlinecolor": "#2a3f5f"
            },
            "type": "carpet"
           }
          ],
          "choropleth": [
           {
            "colorbar": {
             "outlinewidth": 0,
             "ticks": ""
            },
            "type": "choropleth"
           }
          ],
          "contour": [
           {
            "colorbar": {
             "outlinewidth": 0,
             "ticks": ""
            },
            "colorscale": [
             [
              0,
              "#0d0887"
             ],
             [
              0.1111111111111111,
              "#46039f"
             ],
             [
              0.2222222222222222,
              "#7201a8"
             ],
             [
              0.3333333333333333,
              "#9c179e"
             ],
             [
              0.4444444444444444,
              "#bd3786"
             ],
             [
              0.5555555555555556,
              "#d8576b"
             ],
             [
              0.6666666666666666,
              "#ed7953"
             ],
             [
              0.7777777777777778,
              "#fb9f3a"
             ],
             [
              0.8888888888888888,
              "#fdca26"
             ],
             [
              1,
              "#f0f921"
             ]
            ],
            "type": "contour"
           }
          ],
          "contourcarpet": [
           {
            "colorbar": {
             "outlinewidth": 0,
             "ticks": ""
            },
            "type": "contourcarpet"
           }
          ],
          "heatmap": [
           {
            "colorbar": {
             "outlinewidth": 0,
             "ticks": ""
            },
            "colorscale": [
             [
              0,
              "#0d0887"
             ],
             [
              0.1111111111111111,
              "#46039f"
             ],
             [
              0.2222222222222222,
              "#7201a8"
             ],
             [
              0.3333333333333333,
              "#9c179e"
             ],
             [
              0.4444444444444444,
              "#bd3786"
             ],
             [
              0.5555555555555556,
              "#d8576b"
             ],
             [
              0.6666666666666666,
              "#ed7953"
             ],
             [
              0.7777777777777778,
              "#fb9f3a"
             ],
             [
              0.8888888888888888,
              "#fdca26"
             ],
             [
              1,
              "#f0f921"
             ]
            ],
            "type": "heatmap"
           }
          ],
          "heatmapgl": [
           {
            "colorbar": {
             "outlinewidth": 0,
             "ticks": ""
            },
            "colorscale": [
             [
              0,
              "#0d0887"
             ],
             [
              0.1111111111111111,
              "#46039f"
             ],
             [
              0.2222222222222222,
              "#7201a8"
             ],
             [
              0.3333333333333333,
              "#9c179e"
             ],
             [
              0.4444444444444444,
              "#bd3786"
             ],
             [
              0.5555555555555556,
              "#d8576b"
             ],
             [
              0.6666666666666666,
              "#ed7953"
             ],
             [
              0.7777777777777778,
              "#fb9f3a"
             ],
             [
              0.8888888888888888,
              "#fdca26"
             ],
             [
              1,
              "#f0f921"
             ]
            ],
            "type": "heatmapgl"
           }
          ],
          "histogram": [
           {
            "marker": {
             "pattern": {
              "fillmode": "overlay",
              "size": 10,
              "solidity": 0.2
             }
            },
            "type": "histogram"
           }
          ],
          "histogram2d": [
           {
            "colorbar": {
             "outlinewidth": 0,
             "ticks": ""
            },
            "colorscale": [
             [
              0,
              "#0d0887"
             ],
             [
              0.1111111111111111,
              "#46039f"
             ],
             [
              0.2222222222222222,
              "#7201a8"
             ],
             [
              0.3333333333333333,
              "#9c179e"
             ],
             [
              0.4444444444444444,
              "#bd3786"
             ],
             [
              0.5555555555555556,
              "#d8576b"
             ],
             [
              0.6666666666666666,
              "#ed7953"
             ],
             [
              0.7777777777777778,
              "#fb9f3a"
             ],
             [
              0.8888888888888888,
              "#fdca26"
             ],
             [
              1,
              "#f0f921"
             ]
            ],
            "type": "histogram2d"
           }
          ],
          "histogram2dcontour": [
           {
            "colorbar": {
             "outlinewidth": 0,
             "ticks": ""
            },
            "colorscale": [
             [
              0,
              "#0d0887"
             ],
             [
              0.1111111111111111,
              "#46039f"
             ],
             [
              0.2222222222222222,
              "#7201a8"
             ],
             [
              0.3333333333333333,
              "#9c179e"
             ],
             [
              0.4444444444444444,
              "#bd3786"
             ],
             [
              0.5555555555555556,
              "#d8576b"
             ],
             [
              0.6666666666666666,
              "#ed7953"
             ],
             [
              0.7777777777777778,
              "#fb9f3a"
             ],
             [
              0.8888888888888888,
              "#fdca26"
             ],
             [
              1,
              "#f0f921"
             ]
            ],
            "type": "histogram2dcontour"
           }
          ],
          "mesh3d": [
           {
            "colorbar": {
             "outlinewidth": 0,
             "ticks": ""
            },
            "type": "mesh3d"
           }
          ],
          "parcoords": [
           {
            "line": {
             "colorbar": {
              "outlinewidth": 0,
              "ticks": ""
             }
            },
            "type": "parcoords"
           }
          ],
          "pie": [
           {
            "automargin": true,
            "type": "pie"
           }
          ],
          "scatter": [
           {
            "fillpattern": {
             "fillmode": "overlay",
             "size": 10,
             "solidity": 0.2
            },
            "type": "scatter"
           }
          ],
          "scatter3d": [
           {
            "line": {
             "colorbar": {
              "outlinewidth": 0,
              "ticks": ""
             }
            },
            "marker": {
             "colorbar": {
              "outlinewidth": 0,
              "ticks": ""
             }
            },
            "type": "scatter3d"
           }
          ],
          "scattercarpet": [
           {
            "marker": {
             "colorbar": {
              "outlinewidth": 0,
              "ticks": ""
             }
            },
            "type": "scattercarpet"
           }
          ],
          "scattergeo": [
           {
            "marker": {
             "colorbar": {
              "outlinewidth": 0,
              "ticks": ""
             }
            },
            "type": "scattergeo"
           }
          ],
          "scattergl": [
           {
            "marker": {
             "colorbar": {
              "outlinewidth": 0,
              "ticks": ""
             }
            },
            "type": "scattergl"
           }
          ],
          "scattermapbox": [
           {
            "marker": {
             "colorbar": {
              "outlinewidth": 0,
              "ticks": ""
             }
            },
            "type": "scattermapbox"
           }
          ],
          "scatterpolar": [
           {
            "marker": {
             "colorbar": {
              "outlinewidth": 0,
              "ticks": ""
             }
            },
            "type": "scatterpolar"
           }
          ],
          "scatterpolargl": [
           {
            "marker": {
             "colorbar": {
              "outlinewidth": 0,
              "ticks": ""
             }
            },
            "type": "scatterpolargl"
           }
          ],
          "scatterternary": [
           {
            "marker": {
             "colorbar": {
              "outlinewidth": 0,
              "ticks": ""
             }
            },
            "type": "scatterternary"
           }
          ],
          "surface": [
           {
            "colorbar": {
             "outlinewidth": 0,
             "ticks": ""
            },
            "colorscale": [
             [
              0,
              "#0d0887"
             ],
             [
              0.1111111111111111,
              "#46039f"
             ],
             [
              0.2222222222222222,
              "#7201a8"
             ],
             [
              0.3333333333333333,
              "#9c179e"
             ],
             [
              0.4444444444444444,
              "#bd3786"
             ],
             [
              0.5555555555555556,
              "#d8576b"
             ],
             [
              0.6666666666666666,
              "#ed7953"
             ],
             [
              0.7777777777777778,
              "#fb9f3a"
             ],
             [
              0.8888888888888888,
              "#fdca26"
             ],
             [
              1,
              "#f0f921"
             ]
            ],
            "type": "surface"
           }
          ],
          "table": [
           {
            "cells": {
             "fill": {
              "color": "#EBF0F8"
             },
             "line": {
              "color": "white"
             }
            },
            "header": {
             "fill": {
              "color": "#C8D4E3"
             },
             "line": {
              "color": "white"
             }
            },
            "type": "table"
           }
          ]
         },
         "layout": {
          "annotationdefaults": {
           "arrowcolor": "#2a3f5f",
           "arrowhead": 0,
           "arrowwidth": 1
          },
          "autotypenumbers": "strict",
          "coloraxis": {
           "colorbar": {
            "outlinewidth": 0,
            "ticks": ""
           }
          },
          "colorscale": {
           "diverging": [
            [
             0,
             "#8e0152"
            ],
            [
             0.1,
             "#c51b7d"
            ],
            [
             0.2,
             "#de77ae"
            ],
            [
             0.3,
             "#f1b6da"
            ],
            [
             0.4,
             "#fde0ef"
            ],
            [
             0.5,
             "#f7f7f7"
            ],
            [
             0.6,
             "#e6f5d0"
            ],
            [
             0.7,
             "#b8e186"
            ],
            [
             0.8,
             "#7fbc41"
            ],
            [
             0.9,
             "#4d9221"
            ],
            [
             1,
             "#276419"
            ]
           ],
           "sequential": [
            [
             0,
             "#0d0887"
            ],
            [
             0.1111111111111111,
             "#46039f"
            ],
            [
             0.2222222222222222,
             "#7201a8"
            ],
            [
             0.3333333333333333,
             "#9c179e"
            ],
            [
             0.4444444444444444,
             "#bd3786"
            ],
            [
             0.5555555555555556,
             "#d8576b"
            ],
            [
             0.6666666666666666,
             "#ed7953"
            ],
            [
             0.7777777777777778,
             "#fb9f3a"
            ],
            [
             0.8888888888888888,
             "#fdca26"
            ],
            [
             1,
             "#f0f921"
            ]
           ],
           "sequentialminus": [
            [
             0,
             "#0d0887"
            ],
            [
             0.1111111111111111,
             "#46039f"
            ],
            [
             0.2222222222222222,
             "#7201a8"
            ],
            [
             0.3333333333333333,
             "#9c179e"
            ],
            [
             0.4444444444444444,
             "#bd3786"
            ],
            [
             0.5555555555555556,
             "#d8576b"
            ],
            [
             0.6666666666666666,
             "#ed7953"
            ],
            [
             0.7777777777777778,
             "#fb9f3a"
            ],
            [
             0.8888888888888888,
             "#fdca26"
            ],
            [
             1,
             "#f0f921"
            ]
           ]
          },
          "colorway": [
           "#636efa",
           "#EF553B",
           "#00cc96",
           "#ab63fa",
           "#FFA15A",
           "#19d3f3",
           "#FF6692",
           "#B6E880",
           "#FF97FF",
           "#FECB52"
          ],
          "font": {
           "color": "#2a3f5f"
          },
          "geo": {
           "bgcolor": "white",
           "lakecolor": "white",
           "landcolor": "#E5ECF6",
           "showlakes": true,
           "showland": true,
           "subunitcolor": "white"
          },
          "hoverlabel": {
           "align": "left"
          },
          "hovermode": "closest",
          "mapbox": {
           "style": "light"
          },
          "paper_bgcolor": "white",
          "plot_bgcolor": "#E5ECF6",
          "polar": {
           "angularaxis": {
            "gridcolor": "white",
            "linecolor": "white",
            "ticks": ""
           },
           "bgcolor": "#E5ECF6",
           "radialaxis": {
            "gridcolor": "white",
            "linecolor": "white",
            "ticks": ""
           }
          },
          "scene": {
           "xaxis": {
            "backgroundcolor": "#E5ECF6",
            "gridcolor": "white",
            "gridwidth": 2,
            "linecolor": "white",
            "showbackground": true,
            "ticks": "",
            "zerolinecolor": "white"
           },
           "yaxis": {
            "backgroundcolor": "#E5ECF6",
            "gridcolor": "white",
            "gridwidth": 2,
            "linecolor": "white",
            "showbackground": true,
            "ticks": "",
            "zerolinecolor": "white"
           },
           "zaxis": {
            "backgroundcolor": "#E5ECF6",
            "gridcolor": "white",
            "gridwidth": 2,
            "linecolor": "white",
            "showbackground": true,
            "ticks": "",
            "zerolinecolor": "white"
           }
          },
          "shapedefaults": {
           "line": {
            "color": "#2a3f5f"
           }
          },
          "ternary": {
           "aaxis": {
            "gridcolor": "white",
            "linecolor": "white",
            "ticks": ""
           },
           "baxis": {
            "gridcolor": "white",
            "linecolor": "white",
            "ticks": ""
           },
           "bgcolor": "#E5ECF6",
           "caxis": {
            "gridcolor": "white",
            "linecolor": "white",
            "ticks": ""
           }
          },
          "title": {
           "x": 0.05
          },
          "xaxis": {
           "automargin": true,
           "gridcolor": "white",
           "linecolor": "white",
           "ticks": "",
           "title": {
            "standoff": 15
           },
           "zerolinecolor": "white",
           "zerolinewidth": 2
          },
          "yaxis": {
           "automargin": true,
           "gridcolor": "white",
           "linecolor": "white",
           "ticks": "",
           "title": {
            "standoff": 15
           },
           "zerolinecolor": "white",
           "zerolinewidth": 2
          }
         }
        },
        "title": {
         "text": "Wie wurden Tore bekommen vor Mandl"
        },
        "xaxis": {
         "anchor": "y",
         "domain": [
          0,
          1
         ],
         "title": {
          "text": "goal_type"
         }
        },
        "yaxis": {
         "anchor": "x",
         "domain": [
          0,
          1
         ],
         "title": {
          "text": "count"
         }
        }
       }
      },
      "text/html": [
       "<div>                            <div id=\"549d5a0c-13de-4e9a-979b-83fd4fe4854d\" class=\"plotly-graph-div\" style=\"height:525px; width:100%;\"></div>            <script type=\"text/javascript\">                require([\"plotly\"], function(Plotly) {                    window.PLOTLYENV=window.PLOTLYENV || {};                                    if (document.getElementById(\"549d5a0c-13de-4e9a-979b-83fd4fe4854d\")) {                    Plotly.newPlot(                        \"549d5a0c-13de-4e9a-979b-83fd4fe4854d\",                        [{\"alignmentgroup\":\"True\",\"bingroup\":\"x\",\"hovertemplate\":\"name=Admira Juniors<br>goal_type=%{x}<br>count=%{y}<extra></extra>\",\"legendgroup\":\"Admira Juniors\",\"marker\":{\"color\":\"#636efa\",\"pattern\":{\"shape\":\"\"}},\"name\":\"Admira Juniors\",\"offsetgroup\":\"Admira Juniors\",\"orientation\":\"v\",\"showlegend\":true,\"x\":[\"in_game\",\"in_game\",\"in_game\",\"in_game\",\"in_game\",\"in_game\",\"in_game\",\"in_game\",\"in_game\",\"in_game\",\"in_game\",\"in_game\",\"in_game\",\"in_game\",\"in_game\",\"in_game\",\"in_game\",\"in_game\",\"in_game\",\"in_game\",\"in_game\",\"in_game\",\"in_game\",\"in_game\",\"in_game\",\"in_game\",\"in_game\",\"in_game\",\"in_game\",\"in_game\",\"in_game\",\"in_game\",\"freisto\\u00df\",\"in_game\",\"in_game\",\"in_game\",\"in_game\",\"in_game\"],\"xaxis\":\"x\",\"yaxis\":\"y\",\"type\":\"histogram\"},{\"alignmentgroup\":\"True\",\"bingroup\":\"x\",\"hovertemplate\":\"name=FC Mauerwerk<br>goal_type=%{x}<br>count=%{y}<extra></extra>\",\"legendgroup\":\"FC Mauerwerk\",\"marker\":{\"color\":\"#EF553B\",\"pattern\":{\"shape\":\"\"}},\"name\":\"FC Mauerwerk\",\"offsetgroup\":\"FC Mauerwerk\",\"orientation\":\"v\",\"showlegend\":true,\"x\":[\"in_game\",\"in_game\",\"in_game\",\"eigentor\",\"in_game\",\"strafsto\\u00df\",\"in_game\",\"in_game\",\"in_game\",\"in_game\",\"in_game\",\"in_game\",\"in_game\",\"in_game\",\"in_game\",\"in_game\",\"in_game\",\"in_game\",\"in_game\",\"in_game\",\"strafsto\\u00df\",\"in_game\",\"in_game\",\"in_game\",\"in_game\",\"in_game\",\"in_game\",\"in_game\",\"strafsto\\u00df\",\"in_game\",\"in_game\",\"in_game\",\"in_game\",\"in_game\",\"in_game\",\"in_game\",\"in_game\",\"in_game\",\"in_game\",\"in_game\",\"in_game\",\"in_game\",\"in_game\",\"in_game\",\"in_game\",\"in_game\",\"in_game\",\"in_game\",\"in_game\"],\"xaxis\":\"x\",\"yaxis\":\"y\",\"type\":\"histogram\"},{\"alignmentgroup\":\"True\",\"bingroup\":\"x\",\"hovertemplate\":\"name=Dra\\u00dfburg<br>goal_type=%{x}<br>count=%{y}<extra></extra>\",\"legendgroup\":\"Dra\\u00dfburg\",\"marker\":{\"color\":\"#00cc96\",\"pattern\":{\"shape\":\"\"}},\"name\":\"Dra\\u00dfburg\",\"offsetgroup\":\"Dra\\u00dfburg\",\"orientation\":\"v\",\"showlegend\":true,\"x\":[\"in_game\",\"in_game\",\"in_game\",\"in_game\",\"in_game\",\"in_game\",\"in_game\",\"in_game\",\"in_game\",\"in_game\",\"in_game\",\"in_game\",\"in_game\",\"in_game\",\"in_game\",\"in_game\",\"in_game\",\"in_game\",\"in_game\",\"in_game\",\"in_game\",\"in_game\",\"in_game\",\"in_game\",\"in_game\",\"in_game\",\"in_game\",\"in_game\",\"in_game\",\"in_game\",\"in_game\",\"strafsto\\u00df\",\"in_game\",\"in_game\",\"in_game\",\"in_game\",\"in_game\",\"in_game\",\"in_game\",\"strafsto\\u00df\",\"in_game\",\"in_game\",\"in_game\",\"in_game\",\"in_game\",\"in_game\",\"in_game\"],\"xaxis\":\"x\",\"yaxis\":\"y\",\"type\":\"histogram\"},{\"alignmentgroup\":\"True\",\"bingroup\":\"x\",\"hovertemplate\":\"name=SC Neusiedl am See 1919<br>goal_type=%{x}<br>count=%{y}<extra></extra>\",\"legendgroup\":\"SC Neusiedl am See 1919\",\"marker\":{\"color\":\"#ab63fa\",\"pattern\":{\"shape\":\"\"}},\"name\":\"SC Neusiedl am See 1919\",\"offsetgroup\":\"SC Neusiedl am See 1919\",\"orientation\":\"v\",\"showlegend\":true,\"x\":[\"in_game\",\"in_game\",\"in_game\",\"in_game\",\"in_game\",\"in_game\",\"in_game\",\"in_game\",\"in_game\",\"in_game\",\"in_game\",\"in_game\",\"in_game\",\"in_game\",\"in_game\",\"in_game\",\"in_game\",\"in_game\",\"in_game\",\"in_game\",\"in_game\",\"in_game\",\"in_game\",\"in_game\",\"in_game\",\"in_game\",\"in_game\",\"in_game\",\"in_game\"],\"xaxis\":\"x\",\"yaxis\":\"y\",\"type\":\"histogram\"},{\"alignmentgroup\":\"True\",\"bingroup\":\"x\",\"hovertemplate\":\"name=Wiener Sport-Club<br>goal_type=%{x}<br>count=%{y}<extra></extra>\",\"legendgroup\":\"Wiener Sport-Club\",\"marker\":{\"color\":\"#FFA15A\",\"pattern\":{\"shape\":\"\"}},\"name\":\"Wiener Sport-Club\",\"offsetgroup\":\"Wiener Sport-Club\",\"orientation\":\"v\",\"showlegend\":true,\"x\":[\"in_game\",\"in_game\",\"in_game\",\"in_game\",\"in_game\",\"in_game\",\"in_game\",\"in_game\",\"in_game\",\"in_game\",\"in_game\",\"in_game\",\"in_game\",\"in_game\",\"in_game\",\"in_game\",\"in_game\",\"in_game\",\"in_game\",\"in_game\",\"in_game\",\"in_game\",\"in_game\",\"strafsto\\u00df\",\"in_game\",\"in_game\"],\"xaxis\":\"x\",\"yaxis\":\"y\",\"type\":\"histogram\"},{\"alignmentgroup\":\"True\",\"bingroup\":\"x\",\"hovertemplate\":\"name=FCM Traiskirchen<br>goal_type=%{x}<br>count=%{y}<extra></extra>\",\"legendgroup\":\"FCM Traiskirchen\",\"marker\":{\"color\":\"#19d3f3\",\"pattern\":{\"shape\":\"\"}},\"name\":\"FCM Traiskirchen\",\"offsetgroup\":\"FCM Traiskirchen\",\"orientation\":\"v\",\"showlegend\":true,\"x\":[\"in_game\",\"in_game\",\"in_game\",\"strafsto\\u00df\",\"in_game\",\"in_game\",\"in_game\",\"in_game\",\"in_game\",\"in_game\",\"in_game\",\"in_game\",\"in_game\",\"in_game\",\"in_game\",\"in_game\",\"in_game\",\"in_game\",\"in_game\",\"in_game\",\"in_game\",\"in_game\",\"in_game\",\"in_game\",\"in_game\",\"in_game\",\"in_game\",\"in_game\",\"in_game\",\"in_game\",\"in_game\"],\"xaxis\":\"x\",\"yaxis\":\"y\",\"type\":\"histogram\"},{\"alignmentgroup\":\"True\",\"bingroup\":\"x\",\"hovertemplate\":\"name=SC Wiener Neustadt<br>goal_type=%{x}<br>count=%{y}<extra></extra>\",\"legendgroup\":\"SC Wiener Neustadt\",\"marker\":{\"color\":\"#FF6692\",\"pattern\":{\"shape\":\"\"}},\"name\":\"SC Wiener Neustadt\",\"offsetgroup\":\"SC Wiener Neustadt\",\"orientation\":\"v\",\"showlegend\":true,\"x\":[\"in_game\",\"in_game\",\"in_game\",\"in_game\",\"in_game\",\"in_game\",\"in_game\",\"in_game\",\"in_game\",\"in_game\",\"in_game\",\"in_game\",\"in_game\",\"freisto\\u00df\",\"in_game\",\"in_game\",\"in_game\",\"in_game\",\"in_game\",\"in_game\",\"strafsto\\u00df\",\"in_game\",\"in_game\",\"in_game\",\"in_game\",\"in_game\",\"in_game\",\"in_game\",\"in_game\",\"strafsto\\u00df\",\"in_game\",\"in_game\",\"in_game\",\"in_game\",\"in_game\",\"in_game\",\"in_game\",\"in_game\",\"in_game\",\"in_game\",\"in_game\",\"in_game\",\"in_game\",\"in_game\",\"in_game\",\"in_game\",\"in_game\",\"in_game\"],\"xaxis\":\"x\",\"yaxis\":\"y\",\"type\":\"histogram\"},{\"alignmentgroup\":\"True\",\"bingroup\":\"x\",\"hovertemplate\":\"name=Wiener Viktoria<br>goal_type=%{x}<br>count=%{y}<extra></extra>\",\"legendgroup\":\"Wiener Viktoria\",\"marker\":{\"color\":\"#B6E880\",\"pattern\":{\"shape\":\"\"}},\"name\":\"Wiener Viktoria\",\"offsetgroup\":\"Wiener Viktoria\",\"orientation\":\"v\",\"showlegend\":true,\"x\":[\"in_game\",\"strafsto\\u00df\",\"in_game\",\"in_game\",\"in_game\",\"eigentor\",\"in_game\",\"in_game\",\"in_game\",\"in_game\",\"in_game\",\"in_game\",\"in_game\",\"in_game\",\"in_game\",\"freisto\\u00df\",\"in_game\",\"in_game\",\"in_game\",\"in_game\",\"in_game\",\"in_game\",\"in_game\",\"in_game\",\"in_game\",\"in_game\",\"in_game\",\"in_game\",\"in_game\",\"in_game\",\"in_game\",\"strafsto\\u00df\",\"in_game\"],\"xaxis\":\"x\",\"yaxis\":\"y\",\"type\":\"histogram\"},{\"alignmentgroup\":\"True\",\"bingroup\":\"x\",\"hovertemplate\":\"name=SV Leobendorf<br>goal_type=%{x}<br>count=%{y}<extra></extra>\",\"legendgroup\":\"SV Leobendorf\",\"marker\":{\"color\":\"#FF97FF\",\"pattern\":{\"shape\":\"\"}},\"name\":\"SV Leobendorf\",\"offsetgroup\":\"SV Leobendorf\",\"orientation\":\"v\",\"showlegend\":true,\"x\":[\"in_game\",\"in_game\",\"in_game\",\"in_game\",\"in_game\",\"in_game\",\"in_game\",\"in_game\",\"in_game\",\"in_game\",\"in_game\",\"in_game\",\"in_game\",\"in_game\",\"in_game\",\"in_game\",\"in_game\",\"in_game\",\"in_game\",\"in_game\",\"in_game\",\"in_game\",\"in_game\",\"in_game\",\"in_game\",\"in_game\",\"in_game\",\"in_game\"],\"xaxis\":\"x\",\"yaxis\":\"y\",\"type\":\"histogram\"},{\"alignmentgroup\":\"True\",\"bingroup\":\"x\",\"hovertemplate\":\"name=First Vienna FC 1894<br>goal_type=%{x}<br>count=%{y}<extra></extra>\",\"legendgroup\":\"First Vienna FC 1894\",\"marker\":{\"color\":\"#FECB52\",\"pattern\":{\"shape\":\"\"}},\"name\":\"First Vienna FC 1894\",\"offsetgroup\":\"First Vienna FC 1894\",\"orientation\":\"v\",\"showlegend\":true,\"x\":[\"in_game\",\"in_game\",\"in_game\",\"in_game\",\"in_game\",\"in_game\",\"in_game\",\"in_game\",\"strafsto\\u00df\",\"in_game\",\"in_game\",\"in_game\",\"in_game\",\"eigentor\",\"in_game\",\"eigentor\",\"in_game\"],\"xaxis\":\"x\",\"yaxis\":\"y\",\"type\":\"histogram\"},{\"alignmentgroup\":\"True\",\"bingroup\":\"x\",\"hovertemplate\":\"name=TWL Elektra<br>goal_type=%{x}<br>count=%{y}<extra></extra>\",\"legendgroup\":\"TWL Elektra\",\"marker\":{\"color\":\"#636efa\",\"pattern\":{\"shape\":\"\"}},\"name\":\"TWL Elektra\",\"offsetgroup\":\"TWL Elektra\",\"orientation\":\"v\",\"showlegend\":true,\"x\":[\"in_game\",\"in_game\",\"in_game\",\"in_game\",\"in_game\",\"in_game\",\"in_game\",\"in_game\",\"in_game\",\"in_game\",\"in_game\",\"in_game\",\"in_game\",\"in_game\",\"in_game\",\"in_game\",\"in_game\",\"in_game\",\"in_game\",\"in_game\",\"in_game\",\"in_game\"],\"xaxis\":\"x\",\"yaxis\":\"y\",\"type\":\"histogram\"},{\"alignmentgroup\":\"True\",\"bingroup\":\"x\",\"hovertemplate\":\"name=ASK-BSC Bruck/Leitha<br>goal_type=%{x}<br>count=%{y}<extra></extra>\",\"legendgroup\":\"ASK-BSC Bruck/Leitha\",\"marker\":{\"color\":\"#EF553B\",\"pattern\":{\"shape\":\"\"}},\"name\":\"ASK-BSC Bruck/Leitha\",\"offsetgroup\":\"ASK-BSC Bruck/Leitha\",\"orientation\":\"v\",\"showlegend\":true,\"x\":[\"in_game\",\"in_game\",\"in_game\",\"in_game\",\"in_game\",\"in_game\",\"in_game\",\"in_game\",\"in_game\",\"in_game\",\"in_game\",\"in_game\",\"in_game\",\"in_game\",\"in_game\",\"in_game\",\"in_game\",\"in_game\",\"in_game\",\"strafsto\\u00df\",\"in_game\",\"in_game\",\"in_game\",\"in_game\",\"in_game\",\"strafsto\\u00df\",\"in_game\",\"in_game\",\"in_game\",\"in_game\",\"in_game\",\"in_game\",\"in_game\",\"eigentor\",\"in_game\"],\"xaxis\":\"x\",\"yaxis\":\"y\",\"type\":\"histogram\"},{\"alignmentgroup\":\"True\",\"bingroup\":\"x\",\"hovertemplate\":\"name=FC Marchfeld / Mannsdorf-Gro\\u00dfe.<br>goal_type=%{x}<br>count=%{y}<extra></extra>\",\"legendgroup\":\"FC Marchfeld / Mannsdorf-Gro\\u00dfe.\",\"marker\":{\"color\":\"#00cc96\",\"pattern\":{\"shape\":\"\"}},\"name\":\"FC Marchfeld / Mannsdorf-Gro\\u00dfe.\",\"offsetgroup\":\"FC Marchfeld / Mannsdorf-Gro\\u00dfe.\",\"orientation\":\"v\",\"showlegend\":true,\"x\":[\"in_game\",\"in_game\",\"in_game\",\"in_game\",\"in_game\",\"in_game\",\"in_game\",\"in_game\",\"in_game\",\"in_game\",\"in_game\",\"in_game\",\"in_game\",\"in_game\",\"in_game\",\"in_game\",\"in_game\",\"in_game\",\"in_game\",\"strafsto\\u00df\",\"in_game\",\"in_game\",\"in_game\",\"in_game\",\"in_game\",\"in_game\",\"strafsto\\u00df\",\"in_game\",\"in_game\",\"in_game\",\"in_game\",\"in_game\"],\"xaxis\":\"x\",\"yaxis\":\"y\",\"type\":\"histogram\"},{\"alignmentgroup\":\"True\",\"bingroup\":\"x\",\"hovertemplate\":\"name=Stripfing<br>goal_type=%{x}<br>count=%{y}<extra></extra>\",\"legendgroup\":\"Stripfing\",\"marker\":{\"color\":\"#ab63fa\",\"pattern\":{\"shape\":\"\"}},\"name\":\"Stripfing\",\"offsetgroup\":\"Stripfing\",\"orientation\":\"v\",\"showlegend\":true,\"x\":[\"in_game\",\"in_game\",\"in_game\",\"in_game\",\"in_game\",\"strafsto\\u00df\",\"in_game\",\"in_game\",\"in_game\",\"in_game\",\"in_game\",\"in_game\",\"in_game\",\"in_game\",\"in_game\"],\"xaxis\":\"x\",\"yaxis\":\"y\",\"type\":\"histogram\"}],                        {\"template\":{\"data\":{\"histogram2dcontour\":[{\"type\":\"histogram2dcontour\",\"colorbar\":{\"outlinewidth\":0,\"ticks\":\"\"},\"colorscale\":[[0.0,\"#0d0887\"],[0.1111111111111111,\"#46039f\"],[0.2222222222222222,\"#7201a8\"],[0.3333333333333333,\"#9c179e\"],[0.4444444444444444,\"#bd3786\"],[0.5555555555555556,\"#d8576b\"],[0.6666666666666666,\"#ed7953\"],[0.7777777777777778,\"#fb9f3a\"],[0.8888888888888888,\"#fdca26\"],[1.0,\"#f0f921\"]]}],\"choropleth\":[{\"type\":\"choropleth\",\"colorbar\":{\"outlinewidth\":0,\"ticks\":\"\"}}],\"histogram2d\":[{\"type\":\"histogram2d\",\"colorbar\":{\"outlinewidth\":0,\"ticks\":\"\"},\"colorscale\":[[0.0,\"#0d0887\"],[0.1111111111111111,\"#46039f\"],[0.2222222222222222,\"#7201a8\"],[0.3333333333333333,\"#9c179e\"],[0.4444444444444444,\"#bd3786\"],[0.5555555555555556,\"#d8576b\"],[0.6666666666666666,\"#ed7953\"],[0.7777777777777778,\"#fb9f3a\"],[0.8888888888888888,\"#fdca26\"],[1.0,\"#f0f921\"]]}],\"heatmap\":[{\"type\":\"heatmap\",\"colorbar\":{\"outlinewidth\":0,\"ticks\":\"\"},\"colorscale\":[[0.0,\"#0d0887\"],[0.1111111111111111,\"#46039f\"],[0.2222222222222222,\"#7201a8\"],[0.3333333333333333,\"#9c179e\"],[0.4444444444444444,\"#bd3786\"],[0.5555555555555556,\"#d8576b\"],[0.6666666666666666,\"#ed7953\"],[0.7777777777777778,\"#fb9f3a\"],[0.8888888888888888,\"#fdca26\"],[1.0,\"#f0f921\"]]}],\"heatmapgl\":[{\"type\":\"heatmapgl\",\"colorbar\":{\"outlinewidth\":0,\"ticks\":\"\"},\"colorscale\":[[0.0,\"#0d0887\"],[0.1111111111111111,\"#46039f\"],[0.2222222222222222,\"#7201a8\"],[0.3333333333333333,\"#9c179e\"],[0.4444444444444444,\"#bd3786\"],[0.5555555555555556,\"#d8576b\"],[0.6666666666666666,\"#ed7953\"],[0.7777777777777778,\"#fb9f3a\"],[0.8888888888888888,\"#fdca26\"],[1.0,\"#f0f921\"]]}],\"contourcarpet\":[{\"type\":\"contourcarpet\",\"colorbar\":{\"outlinewidth\":0,\"ticks\":\"\"}}],\"contour\":[{\"type\":\"contour\",\"colorbar\":{\"outlinewidth\":0,\"ticks\":\"\"},\"colorscale\":[[0.0,\"#0d0887\"],[0.1111111111111111,\"#46039f\"],[0.2222222222222222,\"#7201a8\"],[0.3333333333333333,\"#9c179e\"],[0.4444444444444444,\"#bd3786\"],[0.5555555555555556,\"#d8576b\"],[0.6666666666666666,\"#ed7953\"],[0.7777777777777778,\"#fb9f3a\"],[0.8888888888888888,\"#fdca26\"],[1.0,\"#f0f921\"]]}],\"surface\":[{\"type\":\"surface\",\"colorbar\":{\"outlinewidth\":0,\"ticks\":\"\"},\"colorscale\":[[0.0,\"#0d0887\"],[0.1111111111111111,\"#46039f\"],[0.2222222222222222,\"#7201a8\"],[0.3333333333333333,\"#9c179e\"],[0.4444444444444444,\"#bd3786\"],[0.5555555555555556,\"#d8576b\"],[0.6666666666666666,\"#ed7953\"],[0.7777777777777778,\"#fb9f3a\"],[0.8888888888888888,\"#fdca26\"],[1.0,\"#f0f921\"]]}],\"mesh3d\":[{\"type\":\"mesh3d\",\"colorbar\":{\"outlinewidth\":0,\"ticks\":\"\"}}],\"scatter\":[{\"fillpattern\":{\"fillmode\":\"overlay\",\"size\":10,\"solidity\":0.2},\"type\":\"scatter\"}],\"parcoords\":[{\"type\":\"parcoords\",\"line\":{\"colorbar\":{\"outlinewidth\":0,\"ticks\":\"\"}}}],\"scatterpolargl\":[{\"type\":\"scatterpolargl\",\"marker\":{\"colorbar\":{\"outlinewidth\":0,\"ticks\":\"\"}}}],\"bar\":[{\"error_x\":{\"color\":\"#2a3f5f\"},\"error_y\":{\"color\":\"#2a3f5f\"},\"marker\":{\"line\":{\"color\":\"#E5ECF6\",\"width\":0.5},\"pattern\":{\"fillmode\":\"overlay\",\"size\":10,\"solidity\":0.2}},\"type\":\"bar\"}],\"scattergeo\":[{\"type\":\"scattergeo\",\"marker\":{\"colorbar\":{\"outlinewidth\":0,\"ticks\":\"\"}}}],\"scatterpolar\":[{\"type\":\"scatterpolar\",\"marker\":{\"colorbar\":{\"outlinewidth\":0,\"ticks\":\"\"}}}],\"histogram\":[{\"marker\":{\"pattern\":{\"fillmode\":\"overlay\",\"size\":10,\"solidity\":0.2}},\"type\":\"histogram\"}],\"scattergl\":[{\"type\":\"scattergl\",\"marker\":{\"colorbar\":{\"outlinewidth\":0,\"ticks\":\"\"}}}],\"scatter3d\":[{\"type\":\"scatter3d\",\"line\":{\"colorbar\":{\"outlinewidth\":0,\"ticks\":\"\"}},\"marker\":{\"colorbar\":{\"outlinewidth\":0,\"ticks\":\"\"}}}],\"scattermapbox\":[{\"type\":\"scattermapbox\",\"marker\":{\"colorbar\":{\"outlinewidth\":0,\"ticks\":\"\"}}}],\"scatterternary\":[{\"type\":\"scatterternary\",\"marker\":{\"colorbar\":{\"outlinewidth\":0,\"ticks\":\"\"}}}],\"scattercarpet\":[{\"type\":\"scattercarpet\",\"marker\":{\"colorbar\":{\"outlinewidth\":0,\"ticks\":\"\"}}}],\"carpet\":[{\"aaxis\":{\"endlinecolor\":\"#2a3f5f\",\"gridcolor\":\"white\",\"linecolor\":\"white\",\"minorgridcolor\":\"white\",\"startlinecolor\":\"#2a3f5f\"},\"baxis\":{\"endlinecolor\":\"#2a3f5f\",\"gridcolor\":\"white\",\"linecolor\":\"white\",\"minorgridcolor\":\"white\",\"startlinecolor\":\"#2a3f5f\"},\"type\":\"carpet\"}],\"table\":[{\"cells\":{\"fill\":{\"color\":\"#EBF0F8\"},\"line\":{\"color\":\"white\"}},\"header\":{\"fill\":{\"color\":\"#C8D4E3\"},\"line\":{\"color\":\"white\"}},\"type\":\"table\"}],\"barpolar\":[{\"marker\":{\"line\":{\"color\":\"#E5ECF6\",\"width\":0.5},\"pattern\":{\"fillmode\":\"overlay\",\"size\":10,\"solidity\":0.2}},\"type\":\"barpolar\"}],\"pie\":[{\"automargin\":true,\"type\":\"pie\"}]},\"layout\":{\"autotypenumbers\":\"strict\",\"colorway\":[\"#636efa\",\"#EF553B\",\"#00cc96\",\"#ab63fa\",\"#FFA15A\",\"#19d3f3\",\"#FF6692\",\"#B6E880\",\"#FF97FF\",\"#FECB52\"],\"font\":{\"color\":\"#2a3f5f\"},\"hovermode\":\"closest\",\"hoverlabel\":{\"align\":\"left\"},\"paper_bgcolor\":\"white\",\"plot_bgcolor\":\"#E5ECF6\",\"polar\":{\"bgcolor\":\"#E5ECF6\",\"angularaxis\":{\"gridcolor\":\"white\",\"linecolor\":\"white\",\"ticks\":\"\"},\"radialaxis\":{\"gridcolor\":\"white\",\"linecolor\":\"white\",\"ticks\":\"\"}},\"ternary\":{\"bgcolor\":\"#E5ECF6\",\"aaxis\":{\"gridcolor\":\"white\",\"linecolor\":\"white\",\"ticks\":\"\"},\"baxis\":{\"gridcolor\":\"white\",\"linecolor\":\"white\",\"ticks\":\"\"},\"caxis\":{\"gridcolor\":\"white\",\"linecolor\":\"white\",\"ticks\":\"\"}},\"coloraxis\":{\"colorbar\":{\"outlinewidth\":0,\"ticks\":\"\"}},\"colorscale\":{\"sequential\":[[0.0,\"#0d0887\"],[0.1111111111111111,\"#46039f\"],[0.2222222222222222,\"#7201a8\"],[0.3333333333333333,\"#9c179e\"],[0.4444444444444444,\"#bd3786\"],[0.5555555555555556,\"#d8576b\"],[0.6666666666666666,\"#ed7953\"],[0.7777777777777778,\"#fb9f3a\"],[0.8888888888888888,\"#fdca26\"],[1.0,\"#f0f921\"]],\"sequentialminus\":[[0.0,\"#0d0887\"],[0.1111111111111111,\"#46039f\"],[0.2222222222222222,\"#7201a8\"],[0.3333333333333333,\"#9c179e\"],[0.4444444444444444,\"#bd3786\"],[0.5555555555555556,\"#d8576b\"],[0.6666666666666666,\"#ed7953\"],[0.7777777777777778,\"#fb9f3a\"],[0.8888888888888888,\"#fdca26\"],[1.0,\"#f0f921\"]],\"diverging\":[[0,\"#8e0152\"],[0.1,\"#c51b7d\"],[0.2,\"#de77ae\"],[0.3,\"#f1b6da\"],[0.4,\"#fde0ef\"],[0.5,\"#f7f7f7\"],[0.6,\"#e6f5d0\"],[0.7,\"#b8e186\"],[0.8,\"#7fbc41\"],[0.9,\"#4d9221\"],[1,\"#276419\"]]},\"xaxis\":{\"gridcolor\":\"white\",\"linecolor\":\"white\",\"ticks\":\"\",\"title\":{\"standoff\":15},\"zerolinecolor\":\"white\",\"automargin\":true,\"zerolinewidth\":2},\"yaxis\":{\"gridcolor\":\"white\",\"linecolor\":\"white\",\"ticks\":\"\",\"title\":{\"standoff\":15},\"zerolinecolor\":\"white\",\"automargin\":true,\"zerolinewidth\":2},\"scene\":{\"xaxis\":{\"backgroundcolor\":\"#E5ECF6\",\"gridcolor\":\"white\",\"linecolor\":\"white\",\"showbackground\":true,\"ticks\":\"\",\"zerolinecolor\":\"white\",\"gridwidth\":2},\"yaxis\":{\"backgroundcolor\":\"#E5ECF6\",\"gridcolor\":\"white\",\"linecolor\":\"white\",\"showbackground\":true,\"ticks\":\"\",\"zerolinecolor\":\"white\",\"gridwidth\":2},\"zaxis\":{\"backgroundcolor\":\"#E5ECF6\",\"gridcolor\":\"white\",\"linecolor\":\"white\",\"showbackground\":true,\"ticks\":\"\",\"zerolinecolor\":\"white\",\"gridwidth\":2}},\"shapedefaults\":{\"line\":{\"color\":\"#2a3f5f\"}},\"annotationdefaults\":{\"arrowcolor\":\"#2a3f5f\",\"arrowhead\":0,\"arrowwidth\":1},\"geo\":{\"bgcolor\":\"white\",\"landcolor\":\"#E5ECF6\",\"subunitcolor\":\"white\",\"showland\":true,\"showlakes\":true,\"lakecolor\":\"white\"},\"title\":{\"x\":0.05},\"mapbox\":{\"style\":\"light\"}}},\"xaxis\":{\"anchor\":\"y\",\"domain\":[0.0,1.0],\"title\":{\"text\":\"goal_type\"}},\"yaxis\":{\"anchor\":\"x\",\"domain\":[0.0,1.0],\"title\":{\"text\":\"count\"}},\"legend\":{\"title\":{\"text\":\"name\"},\"tracegroupgap\":0},\"title\":{\"text\":\"Wie wurden Tore bekommen vor Mandl\"},\"barmode\":\"stack\"},                        {\"responsive\": true}                    ).then(function(){\n",
       "                            \n",
       "var gd = document.getElementById('549d5a0c-13de-4e9a-979b-83fd4fe4854d');\n",
       "var x = new MutationObserver(function (mutations, observer) {{\n",
       "        var display = window.getComputedStyle(gd).display;\n",
       "        if (!display || display === 'none') {{\n",
       "            console.log([gd, 'removed!']);\n",
       "            Plotly.purge(gd);\n",
       "            observer.disconnect();\n",
       "        }}\n",
       "}});\n",
       "\n",
       "// Listen for the removal of the full notebook cells\n",
       "var notebookContainer = gd.closest('#notebook-container');\n",
       "if (notebookContainer) {{\n",
       "    x.observe(notebookContainer, {childList: true});\n",
       "}}\n",
       "\n",
       "// Listen for the clearing of the current output cell\n",
       "var outputEl = gd.closest('.output');\n",
       "if (outputEl) {{\n",
       "    x.observe(outputEl, {childList: true});\n",
       "}}\n",
       "\n",
       "                        })                };                });            </script>        </div>"
      ]
     },
     "metadata": {},
     "output_type": "display_data"
    }
   ],
   "source": [
    "df=query_database(query_table.format(\"20210701\",\"20220426\",vereine[0],vereine[0]),database=\"verbands.db\")\n",
    "df[\"goal_type\"]=df[\"text\"].apply(lambda x: goal_type(x))\n",
    "df.groupby([\"name\",\"goal_type\"])[\"goal_type\"].count()\n",
    "df.head()\n",
    "fig=px.histogram(df, x=\"goal_type\" ,color=\"name\",title=\"Wie wurden Tore bekommen vor Mandl\")\n",
    "fig.update_layout(barmode='stack') #\"stack\", \"relative\", \"group\"\n",
    "fig.show()"
   ]
  },
  {
   "cell_type": "code",
   "execution_count": null,
   "id": "cbc4035a",
   "metadata": {
    "slideshow": {
     "slide_type": "subslide"
    }
   },
   "outputs": [
    {
     "data": {
      "text/plain": [
       "name                             goal_type\n",
       "ASK-BSC Bruck/Leitha             eigentor      1\n",
       "                                 in_game      32\n",
       "                                 strafstoß     2\n",
       "Admira Juniors                   freistoß      1\n",
       "                                 in_game      37\n",
       "Draßburg                         in_game      45\n",
       "                                 strafstoß     2\n",
       "FC Marchfeld / Mannsdorf-Große.  in_game      30\n",
       "                                 strafstoß     2\n",
       "FC Mauerwerk                     eigentor      1\n",
       "                                 in_game      45\n",
       "                                 strafstoß     3\n",
       "FCM Traiskirchen                 in_game      30\n",
       "                                 strafstoß     1\n",
       "First Vienna FC 1894             eigentor      2\n",
       "                                 in_game      14\n",
       "                                 strafstoß     1\n",
       "SC Neusiedl am See 1919          in_game      29\n",
       "SC Wiener Neustadt               freistoß      1\n",
       "                                 in_game      45\n",
       "                                 strafstoß     2\n",
       "SV Leobendorf                    in_game      28\n",
       "Stripfing                        in_game      14\n",
       "                                 strafstoß     1\n",
       "TWL Elektra                      in_game      22\n",
       "Wiener Sport-Club                in_game      25\n",
       "                                 strafstoß     1\n",
       "Wiener Viktoria                  eigentor      1\n",
       "                                 freistoß      1\n",
       "                                 in_game      29\n",
       "                                 strafstoß     2\n",
       "Name: goal_type, dtype: int64"
      ]
     },
     "execution_count": 34,
     "metadata": {},
     "output_type": "execute_result"
    }
   ],
   "source": [
    "df.groupby([\"name\",\"goal_type\"])[\"goal_type\"].count()"
   ]
  },
  {
   "cell_type": "markdown",
   "id": "1368f880",
   "metadata": {
    "slideshow": {
     "slide_type": "slide"
    }
   },
   "source": [
    "## Trainer Einfluss\n",
    "### Substitutions / Minute"
   ]
  },
  {
   "cell_type": "code",
   "execution_count": null,
   "id": "7adf28d3",
   "metadata": {
    "slideshow": {
     "slide_type": "skip"
    }
   },
   "outputs": [],
   "source": [
    "def convert_minute(x:str):\n",
    "    if \"HZ\" in x:\n",
    "        return 45\n",
    "    if \"+\" in x:\n",
    "        return int(eval(x[:-1]))\n",
    "    else:\n",
    "        return int(x[:-1])\n",
    "    \n",
    "def convert_sub_minute(x:str):\n",
    "    return min([convert_minute(i) for i in x.split(\";\")])\n",
    "\n",
    "# GET TABLE\n",
    "query_table=(\"\"\"\n",
    "select *\n",
    "from  (select DISTINCT match_id,minute, type,team_id,text from matches_activity) a \n",
    "join  matches m on m.id=a.match_id\n",
    "join  teams t on (t.id=m.away_team_id or t.id=m.home_team_id)\n",
    "where replace(date,'-','') between '20210701' and '20220426' \n",
    "\t\tand a.team_id<>t.id \n",
    "         and league=\"Regionalliga Ost\" and type=\"substitution\"\n",
    "--group by m.league,t.name, minute\n",
    "order by minute,name\n",
    "\"\"\")"
   ]
  },
  {
   "cell_type": "code",
   "execution_count": null,
   "id": "6e377e5b",
   "metadata": {
    "slideshow": {
     "slide_type": "subslide"
    }
   },
   "outputs": [
    {
     "data": {
      "application/vnd.plotly.v1+json": {
       "config": {
        "plotlyServerURL": "https://plot.ly"
       },
       "data": [
        {
         "alignmentgroup": "True",
         "bingroup": "x",
         "hovertemplate": "name=First Vienna FC 1894<br>min=%{x}<br>count=%{y}<extra></extra>",
         "legendgroup": "First Vienna FC 1894",
         "marker": {
          "color": "#636efa",
          "pattern": {
           "shape": ""
          }
         },
         "name": "First Vienna FC 1894",
         "offsetgroup": "First Vienna FC 1894",
         "orientation": "v",
         "showlegend": true,
         "type": "histogram",
         "x": [
          11,
          11,
          36,
          37,
          53,
          54,
          56,
          57,
          59,
          60,
          60,
          61,
          64,
          65,
          66,
          67,
          68,
          68,
          69,
          70,
          70,
          70,
          70,
          70,
          72,
          72,
          73,
          74,
          75,
          75,
          75,
          75,
          76,
          78,
          79,
          7,
          80,
          81,
          81,
          82,
          82,
          83,
          83,
          84,
          85,
          85,
          85,
          85,
          86,
          86,
          87,
          87,
          87,
          90,
          90,
          45,
          45,
          45
         ],
         "xaxis": "x",
         "yaxis": "y"
        },
        {
         "alignmentgroup": "True",
         "bingroup": "x",
         "hovertemplate": "name=Draßburg<br>min=%{x}<br>count=%{y}<extra></extra>",
         "legendgroup": "Draßburg",
         "marker": {
          "color": "#EF553B",
          "pattern": {
           "shape": ""
          }
         },
         "name": "Draßburg",
         "offsetgroup": "Draßburg",
         "orientation": "v",
         "showlegend": true,
         "type": "histogram",
         "x": [
          19,
          30,
          32,
          55,
          55,
          60,
          60,
          61,
          62,
          63,
          63,
          63,
          64,
          67,
          69,
          69,
          69,
          70,
          71,
          71,
          72,
          72,
          72,
          73,
          74,
          75,
          75,
          75,
          76,
          76,
          76,
          77,
          77,
          78,
          79,
          80,
          80,
          81,
          82,
          83,
          84,
          84,
          85,
          87,
          87,
          87,
          88,
          89,
          92,
          92,
          93,
          93,
          45
         ],
         "xaxis": "x",
         "yaxis": "y"
        },
        {
         "alignmentgroup": "True",
         "bingroup": "x",
         "hovertemplate": "name=FC Mauerwerk<br>min=%{x}<br>count=%{y}<extra></extra>",
         "legendgroup": "FC Mauerwerk",
         "marker": {
          "color": "#00cc96",
          "pattern": {
           "shape": ""
          }
         },
         "name": "FC Mauerwerk",
         "offsetgroup": "FC Mauerwerk",
         "orientation": "v",
         "showlegend": true,
         "type": "histogram",
         "x": [
          21,
          36,
          49,
          50,
          55,
          56,
          58,
          58,
          60,
          61,
          62,
          62,
          62,
          63,
          63,
          64,
          65,
          65,
          66,
          66,
          69,
          70,
          70,
          70,
          71,
          72,
          72,
          72,
          75,
          75,
          76,
          78,
          79,
          80,
          80,
          81,
          81,
          82,
          82,
          83,
          83,
          83,
          83,
          83,
          84,
          85,
          85,
          85,
          85,
          87,
          87,
          87,
          88,
          89,
          89,
          89,
          91,
          90,
          90,
          45,
          45,
          45,
          45,
          45,
          45
         ],
         "xaxis": "x",
         "yaxis": "y"
        },
        {
         "alignmentgroup": "True",
         "bingroup": "x",
         "hovertemplate": "name=Admira Juniors<br>min=%{x}<br>count=%{y}<extra></extra>",
         "legendgroup": "Admira Juniors",
         "marker": {
          "color": "#ab63fa",
          "pattern": {
           "shape": ""
          }
         },
         "name": "Admira Juniors",
         "offsetgroup": "Admira Juniors",
         "orientation": "v",
         "showlegend": true,
         "type": "histogram",
         "x": [
          22,
          25,
          38,
          38,
          57,
          60,
          62,
          62,
          62,
          62,
          63,
          64,
          64,
          65,
          65,
          67,
          68,
          69,
          71,
          72,
          72,
          74,
          74,
          74,
          75,
          76,
          76,
          76,
          76,
          77,
          77,
          80,
          80,
          81,
          81,
          81,
          83,
          83,
          84,
          84,
          84,
          84,
          85,
          86,
          86,
          87,
          87,
          87,
          87,
          89,
          89,
          91,
          93,
          45,
          45,
          45,
          45,
          45
         ],
         "xaxis": "x",
         "yaxis": "y"
        },
        {
         "alignmentgroup": "True",
         "bingroup": "x",
         "hovertemplate": "name=ASK-BSC Bruck/Leitha<br>min=%{x}<br>count=%{y}<extra></extra>",
         "legendgroup": "ASK-BSC Bruck/Leitha",
         "marker": {
          "color": "#FFA15A",
          "pattern": {
           "shape": ""
          }
         },
         "name": "ASK-BSC Bruck/Leitha",
         "offsetgroup": "ASK-BSC Bruck/Leitha",
         "orientation": "v",
         "showlegend": true,
         "type": "histogram",
         "x": [
          25,
          30,
          38,
          43,
          52,
          54,
          54,
          55,
          58,
          58,
          60,
          62,
          62,
          64,
          65,
          65,
          65,
          66,
          66,
          66,
          70,
          72,
          72,
          73,
          74,
          74,
          75,
          76,
          77,
          78,
          78,
          78,
          79,
          79,
          80,
          81,
          81,
          81,
          81,
          83,
          84,
          84,
          85,
          85,
          85,
          86,
          87,
          87,
          88,
          90,
          90,
          92,
          9,
          45,
          45,
          45,
          45,
          45,
          45,
          45,
          45,
          45
         ],
         "xaxis": "x",
         "yaxis": "y"
        },
        {
         "alignmentgroup": "True",
         "bingroup": "x",
         "hovertemplate": "name=Stripfing<br>min=%{x}<br>count=%{y}<extra></extra>",
         "legendgroup": "Stripfing",
         "marker": {
          "color": "#19d3f3",
          "pattern": {
           "shape": ""
          }
         },
         "name": "Stripfing",
         "offsetgroup": "Stripfing",
         "orientation": "v",
         "showlegend": true,
         "type": "histogram",
         "x": [
          26,
          29,
          35,
          55,
          56,
          56,
          58,
          58,
          59,
          61,
          61,
          62,
          63,
          63,
          63,
          64,
          64,
          65,
          65,
          69,
          69,
          69,
          70,
          71,
          72,
          72,
          74,
          75,
          77,
          77,
          77,
          78,
          78,
          79,
          79,
          79,
          7,
          80,
          80,
          81,
          82,
          82,
          82,
          84,
          85,
          85,
          85,
          85,
          86,
          87,
          94,
          90,
          91,
          45,
          45,
          45,
          45,
          45
         ],
         "xaxis": "x",
         "yaxis": "y"
        },
        {
         "alignmentgroup": "True",
         "bingroup": "x",
         "hovertemplate": "name=FCM Traiskirchen<br>min=%{x}<br>count=%{y}<extra></extra>",
         "legendgroup": "FCM Traiskirchen",
         "marker": {
          "color": "#FF6692",
          "pattern": {
           "shape": ""
          }
         },
         "name": "FCM Traiskirchen",
         "offsetgroup": "FCM Traiskirchen",
         "orientation": "v",
         "showlegend": true,
         "type": "histogram",
         "x": [
          28,
          38,
          43,
          53,
          54,
          56,
          58,
          59,
          59,
          60,
          61,
          61,
          61,
          61,
          62,
          63,
          67,
          68,
          69,
          69,
          71,
          71,
          73,
          73,
          73,
          73,
          73,
          74,
          75,
          75,
          75,
          77,
          78,
          79,
          81,
          83,
          83,
          83,
          83,
          84,
          84,
          85,
          85,
          85,
          86,
          88,
          92,
          92,
          93,
          90,
          9,
          45,
          45,
          45,
          45,
          45
         ],
         "xaxis": "x",
         "yaxis": "y"
        },
        {
         "alignmentgroup": "True",
         "bingroup": "x",
         "hovertemplate": "name=SV Leobendorf<br>min=%{x}<br>count=%{y}<extra></extra>",
         "legendgroup": "SV Leobendorf",
         "marker": {
          "color": "#B6E880",
          "pattern": {
           "shape": ""
          }
         },
         "name": "SV Leobendorf",
         "offsetgroup": "SV Leobendorf",
         "orientation": "v",
         "showlegend": true,
         "type": "histogram",
         "x": [
          29,
          35,
          38,
          53,
          55,
          56,
          57,
          58,
          58,
          59,
          61,
          62,
          62,
          63,
          64,
          64,
          65,
          67,
          68,
          70,
          70,
          72,
          72,
          72,
          72,
          74,
          76,
          76,
          78,
          78,
          78,
          79,
          80,
          80,
          80,
          81,
          82,
          82,
          83,
          83,
          84,
          85,
          85,
          85,
          87,
          87,
          87,
          87,
          88,
          89,
          89,
          89,
          92,
          90,
          90,
          92,
          45,
          45,
          45,
          45,
          45
         ],
         "xaxis": "x",
         "yaxis": "y"
        },
        {
         "alignmentgroup": "True",
         "bingroup": "x",
         "hovertemplate": "name=FC Marchfeld / Mannsdorf-Große.<br>min=%{x}<br>count=%{y}<extra></extra>",
         "legendgroup": "FC Marchfeld / Mannsdorf-Große.",
         "marker": {
          "color": "#FF97FF",
          "pattern": {
           "shape": ""
          }
         },
         "name": "FC Marchfeld / Mannsdorf-Große.",
         "offsetgroup": "FC Marchfeld / Mannsdorf-Große.",
         "orientation": "v",
         "showlegend": true,
         "type": "histogram",
         "x": [
          32,
          38,
          53,
          53,
          59,
          60,
          60,
          60,
          62,
          62,
          62,
          62,
          63,
          64,
          65,
          66,
          67,
          69,
          70,
          70,
          70,
          71,
          71,
          73,
          73,
          75,
          75,
          77,
          77,
          78,
          78,
          78,
          79,
          79,
          80,
          81,
          81,
          82,
          82,
          83,
          83,
          84,
          85,
          85,
          87,
          87,
          87,
          87,
          88,
          88,
          89,
          89,
          89,
          89,
          91,
          92,
          45,
          45,
          45,
          45,
          45
         ],
         "xaxis": "x",
         "yaxis": "y"
        },
        {
         "alignmentgroup": "True",
         "bingroup": "x",
         "hovertemplate": "name=Wiener Sport-Club<br>min=%{x}<br>count=%{y}<extra></extra>",
         "legendgroup": "Wiener Sport-Club",
         "marker": {
          "color": "#FECB52",
          "pattern": {
           "shape": ""
          }
         },
         "name": "Wiener Sport-Club",
         "offsetgroup": "Wiener Sport-Club",
         "orientation": "v",
         "showlegend": true,
         "type": "histogram",
         "x": [
          36,
          54,
          55,
          55,
          57,
          57,
          60,
          60,
          61,
          62,
          62,
          65,
          65,
          66,
          68,
          69,
          69,
          69,
          70,
          73,
          73,
          73,
          74,
          76,
          76,
          76,
          76,
          77,
          77,
          77,
          78,
          78,
          79,
          79,
          80,
          80,
          81,
          82,
          83,
          83,
          84,
          85,
          85,
          86,
          87,
          87,
          88,
          89,
          92,
          93,
          90,
          90,
          90,
          45,
          45,
          45,
          45
         ],
         "xaxis": "x",
         "yaxis": "y"
        },
        {
         "alignmentgroup": "True",
         "bingroup": "x",
         "hovertemplate": "name=SC Wiener Neustadt<br>min=%{x}<br>count=%{y}<extra></extra>",
         "legendgroup": "SC Wiener Neustadt",
         "marker": {
          "color": "#636efa",
          "pattern": {
           "shape": ""
          }
         },
         "name": "SC Wiener Neustadt",
         "offsetgroup": "SC Wiener Neustadt",
         "orientation": "v",
         "showlegend": true,
         "type": "histogram",
         "x": [
          37,
          39,
          40,
          52,
          56,
          56,
          58,
          61,
          61,
          61,
          63,
          64,
          65,
          65,
          65,
          65,
          65,
          66,
          66,
          66,
          67,
          69,
          70,
          70,
          70,
          70,
          71,
          72,
          73,
          74,
          74,
          76,
          78,
          79,
          79,
          80,
          80,
          81,
          81,
          81,
          82,
          83,
          83,
          84,
          85,
          85,
          85,
          86,
          87,
          88,
          89,
          91,
          93,
          90,
          45,
          45,
          45,
          45,
          45,
          45
         ],
         "xaxis": "x",
         "yaxis": "y"
        },
        {
         "alignmentgroup": "True",
         "bingroup": "x",
         "hovertemplate": "name=TWL Elektra<br>min=%{x}<br>count=%{y}<extra></extra>",
         "legendgroup": "TWL Elektra",
         "marker": {
          "color": "#EF553B",
          "pattern": {
           "shape": ""
          }
         },
         "name": "TWL Elektra",
         "offsetgroup": "TWL Elektra",
         "orientation": "v",
         "showlegend": true,
         "type": "histogram",
         "x": [
          38,
          40,
          42,
          44,
          55,
          55,
          55,
          56,
          57,
          59,
          60,
          60,
          60,
          61,
          62,
          62,
          62,
          63,
          64,
          65,
          65,
          66,
          68,
          69,
          69,
          70,
          70,
          71,
          71,
          72,
          73,
          73,
          74,
          75,
          75,
          75,
          75,
          76,
          76,
          77,
          78,
          78,
          79,
          80,
          80,
          81,
          84,
          84,
          84,
          86,
          86,
          87,
          87,
          88,
          89,
          95,
          90,
          45,
          45,
          45,
          45
         ],
         "xaxis": "x",
         "yaxis": "y"
        },
        {
         "alignmentgroup": "True",
         "bingroup": "x",
         "hovertemplate": "name=Wiener Viktoria<br>min=%{x}<br>count=%{y}<extra></extra>",
         "legendgroup": "Wiener Viktoria",
         "marker": {
          "color": "#00cc96",
          "pattern": {
           "shape": ""
          }
         },
         "name": "Wiener Viktoria",
         "offsetgroup": "Wiener Viktoria",
         "orientation": "v",
         "showlegend": true,
         "type": "histogram",
         "x": [
          39,
          53,
          54,
          55,
          58,
          58,
          58,
          62,
          65,
          65,
          65,
          67,
          69,
          69,
          70,
          70,
          70,
          70,
          70,
          71,
          71,
          72,
          74,
          74,
          75,
          75,
          76,
          76,
          77,
          77,
          77,
          78,
          78,
          78,
          79,
          80,
          80,
          80,
          80,
          81,
          81,
          82,
          82,
          84,
          84,
          86,
          88,
          88,
          89,
          89,
          8,
          92,
          90,
          90,
          45,
          45,
          45,
          45,
          45,
          45,
          45,
          45
         ],
         "xaxis": "x",
         "yaxis": "y"
        },
        {
         "alignmentgroup": "True",
         "bingroup": "x",
         "hovertemplate": "name=SC Neusiedl am See 1919<br>min=%{x}<br>count=%{y}<extra></extra>",
         "legendgroup": "SC Neusiedl am See 1919",
         "marker": {
          "color": "#ab63fa",
          "pattern": {
           "shape": ""
          }
         },
         "name": "SC Neusiedl am See 1919",
         "offsetgroup": "SC Neusiedl am See 1919",
         "orientation": "v",
         "showlegend": true,
         "type": "histogram",
         "x": [
          42,
          55,
          56,
          57,
          60,
          60,
          61,
          62,
          62,
          65,
          66,
          66,
          68,
          69,
          69,
          70,
          71,
          72,
          73,
          73,
          73,
          74,
          74,
          75,
          75,
          76,
          76,
          76,
          78,
          78,
          78,
          78,
          81,
          82,
          82,
          82,
          82,
          83,
          85,
          86,
          86,
          87,
          87,
          88,
          89,
          89,
          91,
          91,
          94,
          45,
          45,
          45
         ],
         "xaxis": "x",
         "yaxis": "y"
        }
       ],
       "layout": {
        "barmode": "overlay",
        "legend": {
         "title": {
          "text": "name"
         },
         "tracegroupgap": 0
        },
        "template": {
         "data": {
          "bar": [
           {
            "error_x": {
             "color": "#2a3f5f"
            },
            "error_y": {
             "color": "#2a3f5f"
            },
            "marker": {
             "line": {
              "color": "#E5ECF6",
              "width": 0.5
             },
             "pattern": {
              "fillmode": "overlay",
              "size": 10,
              "solidity": 0.2
             }
            },
            "type": "bar"
           }
          ],
          "barpolar": [
           {
            "marker": {
             "line": {
              "color": "#E5ECF6",
              "width": 0.5
             },
             "pattern": {
              "fillmode": "overlay",
              "size": 10,
              "solidity": 0.2
             }
            },
            "type": "barpolar"
           }
          ],
          "carpet": [
           {
            "aaxis": {
             "endlinecolor": "#2a3f5f",
             "gridcolor": "white",
             "linecolor": "white",
             "minorgridcolor": "white",
             "startlinecolor": "#2a3f5f"
            },
            "baxis": {
             "endlinecolor": "#2a3f5f",
             "gridcolor": "white",
             "linecolor": "white",
             "minorgridcolor": "white",
             "startlinecolor": "#2a3f5f"
            },
            "type": "carpet"
           }
          ],
          "choropleth": [
           {
            "colorbar": {
             "outlinewidth": 0,
             "ticks": ""
            },
            "type": "choropleth"
           }
          ],
          "contour": [
           {
            "colorbar": {
             "outlinewidth": 0,
             "ticks": ""
            },
            "colorscale": [
             [
              0,
              "#0d0887"
             ],
             [
              0.1111111111111111,
              "#46039f"
             ],
             [
              0.2222222222222222,
              "#7201a8"
             ],
             [
              0.3333333333333333,
              "#9c179e"
             ],
             [
              0.4444444444444444,
              "#bd3786"
             ],
             [
              0.5555555555555556,
              "#d8576b"
             ],
             [
              0.6666666666666666,
              "#ed7953"
             ],
             [
              0.7777777777777778,
              "#fb9f3a"
             ],
             [
              0.8888888888888888,
              "#fdca26"
             ],
             [
              1,
              "#f0f921"
             ]
            ],
            "type": "contour"
           }
          ],
          "contourcarpet": [
           {
            "colorbar": {
             "outlinewidth": 0,
             "ticks": ""
            },
            "type": "contourcarpet"
           }
          ],
          "heatmap": [
           {
            "colorbar": {
             "outlinewidth": 0,
             "ticks": ""
            },
            "colorscale": [
             [
              0,
              "#0d0887"
             ],
             [
              0.1111111111111111,
              "#46039f"
             ],
             [
              0.2222222222222222,
              "#7201a8"
             ],
             [
              0.3333333333333333,
              "#9c179e"
             ],
             [
              0.4444444444444444,
              "#bd3786"
             ],
             [
              0.5555555555555556,
              "#d8576b"
             ],
             [
              0.6666666666666666,
              "#ed7953"
             ],
             [
              0.7777777777777778,
              "#fb9f3a"
             ],
             [
              0.8888888888888888,
              "#fdca26"
             ],
             [
              1,
              "#f0f921"
             ]
            ],
            "type": "heatmap"
           }
          ],
          "heatmapgl": [
           {
            "colorbar": {
             "outlinewidth": 0,
             "ticks": ""
            },
            "colorscale": [
             [
              0,
              "#0d0887"
             ],
             [
              0.1111111111111111,
              "#46039f"
             ],
             [
              0.2222222222222222,
              "#7201a8"
             ],
             [
              0.3333333333333333,
              "#9c179e"
             ],
             [
              0.4444444444444444,
              "#bd3786"
             ],
             [
              0.5555555555555556,
              "#d8576b"
             ],
             [
              0.6666666666666666,
              "#ed7953"
             ],
             [
              0.7777777777777778,
              "#fb9f3a"
             ],
             [
              0.8888888888888888,
              "#fdca26"
             ],
             [
              1,
              "#f0f921"
             ]
            ],
            "type": "heatmapgl"
           }
          ],
          "histogram": [
           {
            "marker": {
             "pattern": {
              "fillmode": "overlay",
              "size": 10,
              "solidity": 0.2
             }
            },
            "type": "histogram"
           }
          ],
          "histogram2d": [
           {
            "colorbar": {
             "outlinewidth": 0,
             "ticks": ""
            },
            "colorscale": [
             [
              0,
              "#0d0887"
             ],
             [
              0.1111111111111111,
              "#46039f"
             ],
             [
              0.2222222222222222,
              "#7201a8"
             ],
             [
              0.3333333333333333,
              "#9c179e"
             ],
             [
              0.4444444444444444,
              "#bd3786"
             ],
             [
              0.5555555555555556,
              "#d8576b"
             ],
             [
              0.6666666666666666,
              "#ed7953"
             ],
             [
              0.7777777777777778,
              "#fb9f3a"
             ],
             [
              0.8888888888888888,
              "#fdca26"
             ],
             [
              1,
              "#f0f921"
             ]
            ],
            "type": "histogram2d"
           }
          ],
          "histogram2dcontour": [
           {
            "colorbar": {
             "outlinewidth": 0,
             "ticks": ""
            },
            "colorscale": [
             [
              0,
              "#0d0887"
             ],
             [
              0.1111111111111111,
              "#46039f"
             ],
             [
              0.2222222222222222,
              "#7201a8"
             ],
             [
              0.3333333333333333,
              "#9c179e"
             ],
             [
              0.4444444444444444,
              "#bd3786"
             ],
             [
              0.5555555555555556,
              "#d8576b"
             ],
             [
              0.6666666666666666,
              "#ed7953"
             ],
             [
              0.7777777777777778,
              "#fb9f3a"
             ],
             [
              0.8888888888888888,
              "#fdca26"
             ],
             [
              1,
              "#f0f921"
             ]
            ],
            "type": "histogram2dcontour"
           }
          ],
          "mesh3d": [
           {
            "colorbar": {
             "outlinewidth": 0,
             "ticks": ""
            },
            "type": "mesh3d"
           }
          ],
          "parcoords": [
           {
            "line": {
             "colorbar": {
              "outlinewidth": 0,
              "ticks": ""
             }
            },
            "type": "parcoords"
           }
          ],
          "pie": [
           {
            "automargin": true,
            "type": "pie"
           }
          ],
          "scatter": [
           {
            "fillpattern": {
             "fillmode": "overlay",
             "size": 10,
             "solidity": 0.2
            },
            "type": "scatter"
           }
          ],
          "scatter3d": [
           {
            "line": {
             "colorbar": {
              "outlinewidth": 0,
              "ticks": ""
             }
            },
            "marker": {
             "colorbar": {
              "outlinewidth": 0,
              "ticks": ""
             }
            },
            "type": "scatter3d"
           }
          ],
          "scattercarpet": [
           {
            "marker": {
             "colorbar": {
              "outlinewidth": 0,
              "ticks": ""
             }
            },
            "type": "scattercarpet"
           }
          ],
          "scattergeo": [
           {
            "marker": {
             "colorbar": {
              "outlinewidth": 0,
              "ticks": ""
             }
            },
            "type": "scattergeo"
           }
          ],
          "scattergl": [
           {
            "marker": {
             "colorbar": {
              "outlinewidth": 0,
              "ticks": ""
             }
            },
            "type": "scattergl"
           }
          ],
          "scattermapbox": [
           {
            "marker": {
             "colorbar": {
              "outlinewidth": 0,
              "ticks": ""
             }
            },
            "type": "scattermapbox"
           }
          ],
          "scatterpolar": [
           {
            "marker": {
             "colorbar": {
              "outlinewidth": 0,
              "ticks": ""
             }
            },
            "type": "scatterpolar"
           }
          ],
          "scatterpolargl": [
           {
            "marker": {
             "colorbar": {
              "outlinewidth": 0,
              "ticks": ""
             }
            },
            "type": "scatterpolargl"
           }
          ],
          "scatterternary": [
           {
            "marker": {
             "colorbar": {
              "outlinewidth": 0,
              "ticks": ""
             }
            },
            "type": "scatterternary"
           }
          ],
          "surface": [
           {
            "colorbar": {
             "outlinewidth": 0,
             "ticks": ""
            },
            "colorscale": [
             [
              0,
              "#0d0887"
             ],
             [
              0.1111111111111111,
              "#46039f"
             ],
             [
              0.2222222222222222,
              "#7201a8"
             ],
             [
              0.3333333333333333,
              "#9c179e"
             ],
             [
              0.4444444444444444,
              "#bd3786"
             ],
             [
              0.5555555555555556,
              "#d8576b"
             ],
             [
              0.6666666666666666,
              "#ed7953"
             ],
             [
              0.7777777777777778,
              "#fb9f3a"
             ],
             [
              0.8888888888888888,
              "#fdca26"
             ],
             [
              1,
              "#f0f921"
             ]
            ],
            "type": "surface"
           }
          ],
          "table": [
           {
            "cells": {
             "fill": {
              "color": "#EBF0F8"
             },
             "line": {
              "color": "white"
             }
            },
            "header": {
             "fill": {
              "color": "#C8D4E3"
             },
             "line": {
              "color": "white"
             }
            },
            "type": "table"
           }
          ]
         },
         "layout": {
          "annotationdefaults": {
           "arrowcolor": "#2a3f5f",
           "arrowhead": 0,
           "arrowwidth": 1
          },
          "autotypenumbers": "strict",
          "coloraxis": {
           "colorbar": {
            "outlinewidth": 0,
            "ticks": ""
           }
          },
          "colorscale": {
           "diverging": [
            [
             0,
             "#8e0152"
            ],
            [
             0.1,
             "#c51b7d"
            ],
            [
             0.2,
             "#de77ae"
            ],
            [
             0.3,
             "#f1b6da"
            ],
            [
             0.4,
             "#fde0ef"
            ],
            [
             0.5,
             "#f7f7f7"
            ],
            [
             0.6,
             "#e6f5d0"
            ],
            [
             0.7,
             "#b8e186"
            ],
            [
             0.8,
             "#7fbc41"
            ],
            [
             0.9,
             "#4d9221"
            ],
            [
             1,
             "#276419"
            ]
           ],
           "sequential": [
            [
             0,
             "#0d0887"
            ],
            [
             0.1111111111111111,
             "#46039f"
            ],
            [
             0.2222222222222222,
             "#7201a8"
            ],
            [
             0.3333333333333333,
             "#9c179e"
            ],
            [
             0.4444444444444444,
             "#bd3786"
            ],
            [
             0.5555555555555556,
             "#d8576b"
            ],
            [
             0.6666666666666666,
             "#ed7953"
            ],
            [
             0.7777777777777778,
             "#fb9f3a"
            ],
            [
             0.8888888888888888,
             "#fdca26"
            ],
            [
             1,
             "#f0f921"
            ]
           ],
           "sequentialminus": [
            [
             0,
             "#0d0887"
            ],
            [
             0.1111111111111111,
             "#46039f"
            ],
            [
             0.2222222222222222,
             "#7201a8"
            ],
            [
             0.3333333333333333,
             "#9c179e"
            ],
            [
             0.4444444444444444,
             "#bd3786"
            ],
            [
             0.5555555555555556,
             "#d8576b"
            ],
            [
             0.6666666666666666,
             "#ed7953"
            ],
            [
             0.7777777777777778,
             "#fb9f3a"
            ],
            [
             0.8888888888888888,
             "#fdca26"
            ],
            [
             1,
             "#f0f921"
            ]
           ]
          },
          "colorway": [
           "#636efa",
           "#EF553B",
           "#00cc96",
           "#ab63fa",
           "#FFA15A",
           "#19d3f3",
           "#FF6692",
           "#B6E880",
           "#FF97FF",
           "#FECB52"
          ],
          "font": {
           "color": "#2a3f5f"
          },
          "geo": {
           "bgcolor": "white",
           "lakecolor": "white",
           "landcolor": "#E5ECF6",
           "showlakes": true,
           "showland": true,
           "subunitcolor": "white"
          },
          "hoverlabel": {
           "align": "left"
          },
          "hovermode": "closest",
          "mapbox": {
           "style": "light"
          },
          "paper_bgcolor": "white",
          "plot_bgcolor": "#E5ECF6",
          "polar": {
           "angularaxis": {
            "gridcolor": "white",
            "linecolor": "white",
            "ticks": ""
           },
           "bgcolor": "#E5ECF6",
           "radialaxis": {
            "gridcolor": "white",
            "linecolor": "white",
            "ticks": ""
           }
          },
          "scene": {
           "xaxis": {
            "backgroundcolor": "#E5ECF6",
            "gridcolor": "white",
            "gridwidth": 2,
            "linecolor": "white",
            "showbackground": true,
            "ticks": "",
            "zerolinecolor": "white"
           },
           "yaxis": {
            "backgroundcolor": "#E5ECF6",
            "gridcolor": "white",
            "gridwidth": 2,
            "linecolor": "white",
            "showbackground": true,
            "ticks": "",
            "zerolinecolor": "white"
           },
           "zaxis": {
            "backgroundcolor": "#E5ECF6",
            "gridcolor": "white",
            "gridwidth": 2,
            "linecolor": "white",
            "showbackground": true,
            "ticks": "",
            "zerolinecolor": "white"
           }
          },
          "shapedefaults": {
           "line": {
            "color": "#2a3f5f"
           }
          },
          "ternary": {
           "aaxis": {
            "gridcolor": "white",
            "linecolor": "white",
            "ticks": ""
           },
           "baxis": {
            "gridcolor": "white",
            "linecolor": "white",
            "ticks": ""
           },
           "bgcolor": "#E5ECF6",
           "caxis": {
            "gridcolor": "white",
            "linecolor": "white",
            "ticks": ""
           }
          },
          "title": {
           "x": 0.05
          },
          "xaxis": {
           "automargin": true,
           "gridcolor": "white",
           "linecolor": "white",
           "ticks": "",
           "title": {
            "standoff": 15
           },
           "zerolinecolor": "white",
           "zerolinewidth": 2
          },
          "yaxis": {
           "automargin": true,
           "gridcolor": "white",
           "linecolor": "white",
           "ticks": "",
           "title": {
            "standoff": 15
           },
           "zerolinecolor": "white",
           "zerolinewidth": 2
          }
         }
        },
        "title": {
         "text": "Gegentore in Minute mit Mandl"
        },
        "xaxis": {
         "anchor": "y",
         "domain": [
          0,
          1
         ],
         "title": {
          "text": "min"
         }
        },
        "yaxis": {
         "anchor": "x",
         "domain": [
          0,
          1
         ],
         "title": {
          "text": "count"
         }
        }
       }
      },
      "text/html": [
       "<div>                            <div id=\"b4ae59e9-f338-452c-887b-fd517adbcbc5\" class=\"plotly-graph-div\" style=\"height:525px; width:100%;\"></div>            <script type=\"text/javascript\">                require([\"plotly\"], function(Plotly) {                    window.PLOTLYENV=window.PLOTLYENV || {};                                    if (document.getElementById(\"b4ae59e9-f338-452c-887b-fd517adbcbc5\")) {                    Plotly.newPlot(                        \"b4ae59e9-f338-452c-887b-fd517adbcbc5\",                        [{\"alignmentgroup\":\"True\",\"bingroup\":\"x\",\"hovertemplate\":\"name=First Vienna FC 1894<br>min=%{x}<br>count=%{y}<extra></extra>\",\"legendgroup\":\"First Vienna FC 1894\",\"marker\":{\"color\":\"#636efa\",\"pattern\":{\"shape\":\"\"}},\"name\":\"First Vienna FC 1894\",\"offsetgroup\":\"First Vienna FC 1894\",\"orientation\":\"v\",\"showlegend\":true,\"x\":[11,11,36,37,53,54,56,57,59,60,60,61,64,65,66,67,68,68,69,70,70,70,70,70,72,72,73,74,75,75,75,75,76,78,79,7,80,81,81,82,82,83,83,84,85,85,85,85,86,86,87,87,87,90,90,45,45,45],\"xaxis\":\"x\",\"yaxis\":\"y\",\"type\":\"histogram\"},{\"alignmentgroup\":\"True\",\"bingroup\":\"x\",\"hovertemplate\":\"name=Dra\\u00dfburg<br>min=%{x}<br>count=%{y}<extra></extra>\",\"legendgroup\":\"Dra\\u00dfburg\",\"marker\":{\"color\":\"#EF553B\",\"pattern\":{\"shape\":\"\"}},\"name\":\"Dra\\u00dfburg\",\"offsetgroup\":\"Dra\\u00dfburg\",\"orientation\":\"v\",\"showlegend\":true,\"x\":[19,30,32,55,55,60,60,61,62,63,63,63,64,67,69,69,69,70,71,71,72,72,72,73,74,75,75,75,76,76,76,77,77,78,79,80,80,81,82,83,84,84,85,87,87,87,88,89,92,92,93,93,45],\"xaxis\":\"x\",\"yaxis\":\"y\",\"type\":\"histogram\"},{\"alignmentgroup\":\"True\",\"bingroup\":\"x\",\"hovertemplate\":\"name=FC Mauerwerk<br>min=%{x}<br>count=%{y}<extra></extra>\",\"legendgroup\":\"FC Mauerwerk\",\"marker\":{\"color\":\"#00cc96\",\"pattern\":{\"shape\":\"\"}},\"name\":\"FC Mauerwerk\",\"offsetgroup\":\"FC Mauerwerk\",\"orientation\":\"v\",\"showlegend\":true,\"x\":[21,36,49,50,55,56,58,58,60,61,62,62,62,63,63,64,65,65,66,66,69,70,70,70,71,72,72,72,75,75,76,78,79,80,80,81,81,82,82,83,83,83,83,83,84,85,85,85,85,87,87,87,88,89,89,89,91,90,90,45,45,45,45,45,45],\"xaxis\":\"x\",\"yaxis\":\"y\",\"type\":\"histogram\"},{\"alignmentgroup\":\"True\",\"bingroup\":\"x\",\"hovertemplate\":\"name=Admira Juniors<br>min=%{x}<br>count=%{y}<extra></extra>\",\"legendgroup\":\"Admira Juniors\",\"marker\":{\"color\":\"#ab63fa\",\"pattern\":{\"shape\":\"\"}},\"name\":\"Admira Juniors\",\"offsetgroup\":\"Admira Juniors\",\"orientation\":\"v\",\"showlegend\":true,\"x\":[22,25,38,38,57,60,62,62,62,62,63,64,64,65,65,67,68,69,71,72,72,74,74,74,75,76,76,76,76,77,77,80,80,81,81,81,83,83,84,84,84,84,85,86,86,87,87,87,87,89,89,91,93,45,45,45,45,45],\"xaxis\":\"x\",\"yaxis\":\"y\",\"type\":\"histogram\"},{\"alignmentgroup\":\"True\",\"bingroup\":\"x\",\"hovertemplate\":\"name=ASK-BSC Bruck/Leitha<br>min=%{x}<br>count=%{y}<extra></extra>\",\"legendgroup\":\"ASK-BSC Bruck/Leitha\",\"marker\":{\"color\":\"#FFA15A\",\"pattern\":{\"shape\":\"\"}},\"name\":\"ASK-BSC Bruck/Leitha\",\"offsetgroup\":\"ASK-BSC Bruck/Leitha\",\"orientation\":\"v\",\"showlegend\":true,\"x\":[25,30,38,43,52,54,54,55,58,58,60,62,62,64,65,65,65,66,66,66,70,72,72,73,74,74,75,76,77,78,78,78,79,79,80,81,81,81,81,83,84,84,85,85,85,86,87,87,88,90,90,92,9,45,45,45,45,45,45,45,45,45],\"xaxis\":\"x\",\"yaxis\":\"y\",\"type\":\"histogram\"},{\"alignmentgroup\":\"True\",\"bingroup\":\"x\",\"hovertemplate\":\"name=Stripfing<br>min=%{x}<br>count=%{y}<extra></extra>\",\"legendgroup\":\"Stripfing\",\"marker\":{\"color\":\"#19d3f3\",\"pattern\":{\"shape\":\"\"}},\"name\":\"Stripfing\",\"offsetgroup\":\"Stripfing\",\"orientation\":\"v\",\"showlegend\":true,\"x\":[26,29,35,55,56,56,58,58,59,61,61,62,63,63,63,64,64,65,65,69,69,69,70,71,72,72,74,75,77,77,77,78,78,79,79,79,7,80,80,81,82,82,82,84,85,85,85,85,86,87,94,90,91,45,45,45,45,45],\"xaxis\":\"x\",\"yaxis\":\"y\",\"type\":\"histogram\"},{\"alignmentgroup\":\"True\",\"bingroup\":\"x\",\"hovertemplate\":\"name=FCM Traiskirchen<br>min=%{x}<br>count=%{y}<extra></extra>\",\"legendgroup\":\"FCM Traiskirchen\",\"marker\":{\"color\":\"#FF6692\",\"pattern\":{\"shape\":\"\"}},\"name\":\"FCM Traiskirchen\",\"offsetgroup\":\"FCM Traiskirchen\",\"orientation\":\"v\",\"showlegend\":true,\"x\":[28,38,43,53,54,56,58,59,59,60,61,61,61,61,62,63,67,68,69,69,71,71,73,73,73,73,73,74,75,75,75,77,78,79,81,83,83,83,83,84,84,85,85,85,86,88,92,92,93,90,9,45,45,45,45,45],\"xaxis\":\"x\",\"yaxis\":\"y\",\"type\":\"histogram\"},{\"alignmentgroup\":\"True\",\"bingroup\":\"x\",\"hovertemplate\":\"name=SV Leobendorf<br>min=%{x}<br>count=%{y}<extra></extra>\",\"legendgroup\":\"SV Leobendorf\",\"marker\":{\"color\":\"#B6E880\",\"pattern\":{\"shape\":\"\"}},\"name\":\"SV Leobendorf\",\"offsetgroup\":\"SV Leobendorf\",\"orientation\":\"v\",\"showlegend\":true,\"x\":[29,35,38,53,55,56,57,58,58,59,61,62,62,63,64,64,65,67,68,70,70,72,72,72,72,74,76,76,78,78,78,79,80,80,80,81,82,82,83,83,84,85,85,85,87,87,87,87,88,89,89,89,92,90,90,92,45,45,45,45,45],\"xaxis\":\"x\",\"yaxis\":\"y\",\"type\":\"histogram\"},{\"alignmentgroup\":\"True\",\"bingroup\":\"x\",\"hovertemplate\":\"name=FC Marchfeld / Mannsdorf-Gro\\u00dfe.<br>min=%{x}<br>count=%{y}<extra></extra>\",\"legendgroup\":\"FC Marchfeld / Mannsdorf-Gro\\u00dfe.\",\"marker\":{\"color\":\"#FF97FF\",\"pattern\":{\"shape\":\"\"}},\"name\":\"FC Marchfeld / Mannsdorf-Gro\\u00dfe.\",\"offsetgroup\":\"FC Marchfeld / Mannsdorf-Gro\\u00dfe.\",\"orientation\":\"v\",\"showlegend\":true,\"x\":[32,38,53,53,59,60,60,60,62,62,62,62,63,64,65,66,67,69,70,70,70,71,71,73,73,75,75,77,77,78,78,78,79,79,80,81,81,82,82,83,83,84,85,85,87,87,87,87,88,88,89,89,89,89,91,92,45,45,45,45,45],\"xaxis\":\"x\",\"yaxis\":\"y\",\"type\":\"histogram\"},{\"alignmentgroup\":\"True\",\"bingroup\":\"x\",\"hovertemplate\":\"name=Wiener Sport-Club<br>min=%{x}<br>count=%{y}<extra></extra>\",\"legendgroup\":\"Wiener Sport-Club\",\"marker\":{\"color\":\"#FECB52\",\"pattern\":{\"shape\":\"\"}},\"name\":\"Wiener Sport-Club\",\"offsetgroup\":\"Wiener Sport-Club\",\"orientation\":\"v\",\"showlegend\":true,\"x\":[36,54,55,55,57,57,60,60,61,62,62,65,65,66,68,69,69,69,70,73,73,73,74,76,76,76,76,77,77,77,78,78,79,79,80,80,81,82,83,83,84,85,85,86,87,87,88,89,92,93,90,90,90,45,45,45,45],\"xaxis\":\"x\",\"yaxis\":\"y\",\"type\":\"histogram\"},{\"alignmentgroup\":\"True\",\"bingroup\":\"x\",\"hovertemplate\":\"name=SC Wiener Neustadt<br>min=%{x}<br>count=%{y}<extra></extra>\",\"legendgroup\":\"SC Wiener Neustadt\",\"marker\":{\"color\":\"#636efa\",\"pattern\":{\"shape\":\"\"}},\"name\":\"SC Wiener Neustadt\",\"offsetgroup\":\"SC Wiener Neustadt\",\"orientation\":\"v\",\"showlegend\":true,\"x\":[37,39,40,52,56,56,58,61,61,61,63,64,65,65,65,65,65,66,66,66,67,69,70,70,70,70,71,72,73,74,74,76,78,79,79,80,80,81,81,81,82,83,83,84,85,85,85,86,87,88,89,91,93,90,45,45,45,45,45,45],\"xaxis\":\"x\",\"yaxis\":\"y\",\"type\":\"histogram\"},{\"alignmentgroup\":\"True\",\"bingroup\":\"x\",\"hovertemplate\":\"name=TWL Elektra<br>min=%{x}<br>count=%{y}<extra></extra>\",\"legendgroup\":\"TWL Elektra\",\"marker\":{\"color\":\"#EF553B\",\"pattern\":{\"shape\":\"\"}},\"name\":\"TWL Elektra\",\"offsetgroup\":\"TWL Elektra\",\"orientation\":\"v\",\"showlegend\":true,\"x\":[38,40,42,44,55,55,55,56,57,59,60,60,60,61,62,62,62,63,64,65,65,66,68,69,69,70,70,71,71,72,73,73,74,75,75,75,75,76,76,77,78,78,79,80,80,81,84,84,84,86,86,87,87,88,89,95,90,45,45,45,45],\"xaxis\":\"x\",\"yaxis\":\"y\",\"type\":\"histogram\"},{\"alignmentgroup\":\"True\",\"bingroup\":\"x\",\"hovertemplate\":\"name=Wiener Viktoria<br>min=%{x}<br>count=%{y}<extra></extra>\",\"legendgroup\":\"Wiener Viktoria\",\"marker\":{\"color\":\"#00cc96\",\"pattern\":{\"shape\":\"\"}},\"name\":\"Wiener Viktoria\",\"offsetgroup\":\"Wiener Viktoria\",\"orientation\":\"v\",\"showlegend\":true,\"x\":[39,53,54,55,58,58,58,62,65,65,65,67,69,69,70,70,70,70,70,71,71,72,74,74,75,75,76,76,77,77,77,78,78,78,79,80,80,80,80,81,81,82,82,84,84,86,88,88,89,89,8,92,90,90,45,45,45,45,45,45,45,45],\"xaxis\":\"x\",\"yaxis\":\"y\",\"type\":\"histogram\"},{\"alignmentgroup\":\"True\",\"bingroup\":\"x\",\"hovertemplate\":\"name=SC Neusiedl am See 1919<br>min=%{x}<br>count=%{y}<extra></extra>\",\"legendgroup\":\"SC Neusiedl am See 1919\",\"marker\":{\"color\":\"#ab63fa\",\"pattern\":{\"shape\":\"\"}},\"name\":\"SC Neusiedl am See 1919\",\"offsetgroup\":\"SC Neusiedl am See 1919\",\"orientation\":\"v\",\"showlegend\":true,\"x\":[42,55,56,57,60,60,61,62,62,65,66,66,68,69,69,70,71,72,73,73,73,74,74,75,75,76,76,76,78,78,78,78,81,82,82,82,82,83,85,86,86,87,87,88,89,89,91,91,94,45,45,45],\"xaxis\":\"x\",\"yaxis\":\"y\",\"type\":\"histogram\"}],                        {\"template\":{\"data\":{\"histogram2dcontour\":[{\"type\":\"histogram2dcontour\",\"colorbar\":{\"outlinewidth\":0,\"ticks\":\"\"},\"colorscale\":[[0.0,\"#0d0887\"],[0.1111111111111111,\"#46039f\"],[0.2222222222222222,\"#7201a8\"],[0.3333333333333333,\"#9c179e\"],[0.4444444444444444,\"#bd3786\"],[0.5555555555555556,\"#d8576b\"],[0.6666666666666666,\"#ed7953\"],[0.7777777777777778,\"#fb9f3a\"],[0.8888888888888888,\"#fdca26\"],[1.0,\"#f0f921\"]]}],\"choropleth\":[{\"type\":\"choropleth\",\"colorbar\":{\"outlinewidth\":0,\"ticks\":\"\"}}],\"histogram2d\":[{\"type\":\"histogram2d\",\"colorbar\":{\"outlinewidth\":0,\"ticks\":\"\"},\"colorscale\":[[0.0,\"#0d0887\"],[0.1111111111111111,\"#46039f\"],[0.2222222222222222,\"#7201a8\"],[0.3333333333333333,\"#9c179e\"],[0.4444444444444444,\"#bd3786\"],[0.5555555555555556,\"#d8576b\"],[0.6666666666666666,\"#ed7953\"],[0.7777777777777778,\"#fb9f3a\"],[0.8888888888888888,\"#fdca26\"],[1.0,\"#f0f921\"]]}],\"heatmap\":[{\"type\":\"heatmap\",\"colorbar\":{\"outlinewidth\":0,\"ticks\":\"\"},\"colorscale\":[[0.0,\"#0d0887\"],[0.1111111111111111,\"#46039f\"],[0.2222222222222222,\"#7201a8\"],[0.3333333333333333,\"#9c179e\"],[0.4444444444444444,\"#bd3786\"],[0.5555555555555556,\"#d8576b\"],[0.6666666666666666,\"#ed7953\"],[0.7777777777777778,\"#fb9f3a\"],[0.8888888888888888,\"#fdca26\"],[1.0,\"#f0f921\"]]}],\"heatmapgl\":[{\"type\":\"heatmapgl\",\"colorbar\":{\"outlinewidth\":0,\"ticks\":\"\"},\"colorscale\":[[0.0,\"#0d0887\"],[0.1111111111111111,\"#46039f\"],[0.2222222222222222,\"#7201a8\"],[0.3333333333333333,\"#9c179e\"],[0.4444444444444444,\"#bd3786\"],[0.5555555555555556,\"#d8576b\"],[0.6666666666666666,\"#ed7953\"],[0.7777777777777778,\"#fb9f3a\"],[0.8888888888888888,\"#fdca26\"],[1.0,\"#f0f921\"]]}],\"contourcarpet\":[{\"type\":\"contourcarpet\",\"colorbar\":{\"outlinewidth\":0,\"ticks\":\"\"}}],\"contour\":[{\"type\":\"contour\",\"colorbar\":{\"outlinewidth\":0,\"ticks\":\"\"},\"colorscale\":[[0.0,\"#0d0887\"],[0.1111111111111111,\"#46039f\"],[0.2222222222222222,\"#7201a8\"],[0.3333333333333333,\"#9c179e\"],[0.4444444444444444,\"#bd3786\"],[0.5555555555555556,\"#d8576b\"],[0.6666666666666666,\"#ed7953\"],[0.7777777777777778,\"#fb9f3a\"],[0.8888888888888888,\"#fdca26\"],[1.0,\"#f0f921\"]]}],\"surface\":[{\"type\":\"surface\",\"colorbar\":{\"outlinewidth\":0,\"ticks\":\"\"},\"colorscale\":[[0.0,\"#0d0887\"],[0.1111111111111111,\"#46039f\"],[0.2222222222222222,\"#7201a8\"],[0.3333333333333333,\"#9c179e\"],[0.4444444444444444,\"#bd3786\"],[0.5555555555555556,\"#d8576b\"],[0.6666666666666666,\"#ed7953\"],[0.7777777777777778,\"#fb9f3a\"],[0.8888888888888888,\"#fdca26\"],[1.0,\"#f0f921\"]]}],\"mesh3d\":[{\"type\":\"mesh3d\",\"colorbar\":{\"outlinewidth\":0,\"ticks\":\"\"}}],\"scatter\":[{\"fillpattern\":{\"fillmode\":\"overlay\",\"size\":10,\"solidity\":0.2},\"type\":\"scatter\"}],\"parcoords\":[{\"type\":\"parcoords\",\"line\":{\"colorbar\":{\"outlinewidth\":0,\"ticks\":\"\"}}}],\"scatterpolargl\":[{\"type\":\"scatterpolargl\",\"marker\":{\"colorbar\":{\"outlinewidth\":0,\"ticks\":\"\"}}}],\"bar\":[{\"error_x\":{\"color\":\"#2a3f5f\"},\"error_y\":{\"color\":\"#2a3f5f\"},\"marker\":{\"line\":{\"color\":\"#E5ECF6\",\"width\":0.5},\"pattern\":{\"fillmode\":\"overlay\",\"size\":10,\"solidity\":0.2}},\"type\":\"bar\"}],\"scattergeo\":[{\"type\":\"scattergeo\",\"marker\":{\"colorbar\":{\"outlinewidth\":0,\"ticks\":\"\"}}}],\"scatterpolar\":[{\"type\":\"scatterpolar\",\"marker\":{\"colorbar\":{\"outlinewidth\":0,\"ticks\":\"\"}}}],\"histogram\":[{\"marker\":{\"pattern\":{\"fillmode\":\"overlay\",\"size\":10,\"solidity\":0.2}},\"type\":\"histogram\"}],\"scattergl\":[{\"type\":\"scattergl\",\"marker\":{\"colorbar\":{\"outlinewidth\":0,\"ticks\":\"\"}}}],\"scatter3d\":[{\"type\":\"scatter3d\",\"line\":{\"colorbar\":{\"outlinewidth\":0,\"ticks\":\"\"}},\"marker\":{\"colorbar\":{\"outlinewidth\":0,\"ticks\":\"\"}}}],\"scattermapbox\":[{\"type\":\"scattermapbox\",\"marker\":{\"colorbar\":{\"outlinewidth\":0,\"ticks\":\"\"}}}],\"scatterternary\":[{\"type\":\"scatterternary\",\"marker\":{\"colorbar\":{\"outlinewidth\":0,\"ticks\":\"\"}}}],\"scattercarpet\":[{\"type\":\"scattercarpet\",\"marker\":{\"colorbar\":{\"outlinewidth\":0,\"ticks\":\"\"}}}],\"carpet\":[{\"aaxis\":{\"endlinecolor\":\"#2a3f5f\",\"gridcolor\":\"white\",\"linecolor\":\"white\",\"minorgridcolor\":\"white\",\"startlinecolor\":\"#2a3f5f\"},\"baxis\":{\"endlinecolor\":\"#2a3f5f\",\"gridcolor\":\"white\",\"linecolor\":\"white\",\"minorgridcolor\":\"white\",\"startlinecolor\":\"#2a3f5f\"},\"type\":\"carpet\"}],\"table\":[{\"cells\":{\"fill\":{\"color\":\"#EBF0F8\"},\"line\":{\"color\":\"white\"}},\"header\":{\"fill\":{\"color\":\"#C8D4E3\"},\"line\":{\"color\":\"white\"}},\"type\":\"table\"}],\"barpolar\":[{\"marker\":{\"line\":{\"color\":\"#E5ECF6\",\"width\":0.5},\"pattern\":{\"fillmode\":\"overlay\",\"size\":10,\"solidity\":0.2}},\"type\":\"barpolar\"}],\"pie\":[{\"automargin\":true,\"type\":\"pie\"}]},\"layout\":{\"autotypenumbers\":\"strict\",\"colorway\":[\"#636efa\",\"#EF553B\",\"#00cc96\",\"#ab63fa\",\"#FFA15A\",\"#19d3f3\",\"#FF6692\",\"#B6E880\",\"#FF97FF\",\"#FECB52\"],\"font\":{\"color\":\"#2a3f5f\"},\"hovermode\":\"closest\",\"hoverlabel\":{\"align\":\"left\"},\"paper_bgcolor\":\"white\",\"plot_bgcolor\":\"#E5ECF6\",\"polar\":{\"bgcolor\":\"#E5ECF6\",\"angularaxis\":{\"gridcolor\":\"white\",\"linecolor\":\"white\",\"ticks\":\"\"},\"radialaxis\":{\"gridcolor\":\"white\",\"linecolor\":\"white\",\"ticks\":\"\"}},\"ternary\":{\"bgcolor\":\"#E5ECF6\",\"aaxis\":{\"gridcolor\":\"white\",\"linecolor\":\"white\",\"ticks\":\"\"},\"baxis\":{\"gridcolor\":\"white\",\"linecolor\":\"white\",\"ticks\":\"\"},\"caxis\":{\"gridcolor\":\"white\",\"linecolor\":\"white\",\"ticks\":\"\"}},\"coloraxis\":{\"colorbar\":{\"outlinewidth\":0,\"ticks\":\"\"}},\"colorscale\":{\"sequential\":[[0.0,\"#0d0887\"],[0.1111111111111111,\"#46039f\"],[0.2222222222222222,\"#7201a8\"],[0.3333333333333333,\"#9c179e\"],[0.4444444444444444,\"#bd3786\"],[0.5555555555555556,\"#d8576b\"],[0.6666666666666666,\"#ed7953\"],[0.7777777777777778,\"#fb9f3a\"],[0.8888888888888888,\"#fdca26\"],[1.0,\"#f0f921\"]],\"sequentialminus\":[[0.0,\"#0d0887\"],[0.1111111111111111,\"#46039f\"],[0.2222222222222222,\"#7201a8\"],[0.3333333333333333,\"#9c179e\"],[0.4444444444444444,\"#bd3786\"],[0.5555555555555556,\"#d8576b\"],[0.6666666666666666,\"#ed7953\"],[0.7777777777777778,\"#fb9f3a\"],[0.8888888888888888,\"#fdca26\"],[1.0,\"#f0f921\"]],\"diverging\":[[0,\"#8e0152\"],[0.1,\"#c51b7d\"],[0.2,\"#de77ae\"],[0.3,\"#f1b6da\"],[0.4,\"#fde0ef\"],[0.5,\"#f7f7f7\"],[0.6,\"#e6f5d0\"],[0.7,\"#b8e186\"],[0.8,\"#7fbc41\"],[0.9,\"#4d9221\"],[1,\"#276419\"]]},\"xaxis\":{\"gridcolor\":\"white\",\"linecolor\":\"white\",\"ticks\":\"\",\"title\":{\"standoff\":15},\"zerolinecolor\":\"white\",\"automargin\":true,\"zerolinewidth\":2},\"yaxis\":{\"gridcolor\":\"white\",\"linecolor\":\"white\",\"ticks\":\"\",\"title\":{\"standoff\":15},\"zerolinecolor\":\"white\",\"automargin\":true,\"zerolinewidth\":2},\"scene\":{\"xaxis\":{\"backgroundcolor\":\"#E5ECF6\",\"gridcolor\":\"white\",\"linecolor\":\"white\",\"showbackground\":true,\"ticks\":\"\",\"zerolinecolor\":\"white\",\"gridwidth\":2},\"yaxis\":{\"backgroundcolor\":\"#E5ECF6\",\"gridcolor\":\"white\",\"linecolor\":\"white\",\"showbackground\":true,\"ticks\":\"\",\"zerolinecolor\":\"white\",\"gridwidth\":2},\"zaxis\":{\"backgroundcolor\":\"#E5ECF6\",\"gridcolor\":\"white\",\"linecolor\":\"white\",\"showbackground\":true,\"ticks\":\"\",\"zerolinecolor\":\"white\",\"gridwidth\":2}},\"shapedefaults\":{\"line\":{\"color\":\"#2a3f5f\"}},\"annotationdefaults\":{\"arrowcolor\":\"#2a3f5f\",\"arrowhead\":0,\"arrowwidth\":1},\"geo\":{\"bgcolor\":\"white\",\"landcolor\":\"#E5ECF6\",\"subunitcolor\":\"white\",\"showland\":true,\"showlakes\":true,\"lakecolor\":\"white\"},\"title\":{\"x\":0.05},\"mapbox\":{\"style\":\"light\"}}},\"xaxis\":{\"anchor\":\"y\",\"domain\":[0.0,1.0],\"title\":{\"text\":\"min\"}},\"yaxis\":{\"anchor\":\"x\",\"domain\":[0.0,1.0],\"title\":{\"text\":\"count\"}},\"legend\":{\"title\":{\"text\":\"name\"},\"tracegroupgap\":0},\"title\":{\"text\":\"Gegentore in Minute mit Mandl\"},\"barmode\":\"overlay\"},                        {\"responsive\": true}                    ).then(function(){\n",
       "                            \n",
       "var gd = document.getElementById('b4ae59e9-f338-452c-887b-fd517adbcbc5');\n",
       "var x = new MutationObserver(function (mutations, observer) {{\n",
       "        var display = window.getComputedStyle(gd).display;\n",
       "        if (!display || display === 'none') {{\n",
       "            console.log([gd, 'removed!']);\n",
       "            Plotly.purge(gd);\n",
       "            observer.disconnect();\n",
       "        }}\n",
       "}});\n",
       "\n",
       "// Listen for the removal of the full notebook cells\n",
       "var notebookContainer = gd.closest('#notebook-container');\n",
       "if (notebookContainer) {{\n",
       "    x.observe(notebookContainer, {childList: true});\n",
       "}}\n",
       "\n",
       "// Listen for the clearing of the current output cell\n",
       "var outputEl = gd.closest('.output');\n",
       "if (outputEl) {{\n",
       "    x.observe(outputEl, {childList: true});\n",
       "}}\n",
       "\n",
       "                        })                };                });            </script>        </div>"
      ]
     },
     "metadata": {},
     "output_type": "display_data"
    }
   ],
   "source": [
    "df=query_database(query_table.format(trainer_zeit[0],trainer_zeit[1],vereine[0],vereine[0]),database=\"verbands.db\")\n",
    "df[\"min\"]=df[\"minute\"].apply(lambda x: convert_minute(x))\n",
    "fig=px.histogram(df, x=\"min\" ,color=\"name\",title=\"Auswechslungen in Minute mit Mandl\")\n",
    "fig.update_layout(barmode='overlay') #\"stack\", \"relative\", \"group\",\"overlay\"\n",
    "fig.show()"
   ]
  },
  {
   "cell_type": "code",
   "execution_count": null,
   "id": "0ca80a64",
   "metadata": {
    "slideshow": {
     "slide_type": "subslide"
    }
   },
   "outputs": [
    {
     "data": {
      "application/vnd.plotly.v1+json": {
       "config": {
        "plotlyServerURL": "https://plot.ly"
       },
       "data": [
        {
         "alignmentgroup": "True",
         "bingroup": "x",
         "hovertemplate": "name=First Vienna FC 1894<br>min=%{x}<br>count=%{y}<extra></extra>",
         "legendgroup": "First Vienna FC 1894",
         "marker": {
          "color": "#636efa",
          "pattern": {
           "shape": ""
          }
         },
         "name": "First Vienna FC 1894",
         "offsetgroup": "First Vienna FC 1894",
         "orientation": "v",
         "showlegend": true,
         "type": "histogram",
         "x": [
          11,
          11,
          36,
          37,
          53,
          54,
          56,
          57,
          59,
          60,
          60,
          61,
          64,
          65,
          66,
          67,
          68,
          68,
          69,
          70,
          70,
          70,
          70,
          70,
          72,
          72,
          73,
          74,
          75,
          75,
          75,
          75,
          76,
          78,
          79,
          7,
          80,
          81,
          81,
          82,
          82,
          83,
          83,
          84,
          85,
          85,
          85,
          85,
          86,
          86,
          87,
          87,
          87,
          90,
          90,
          45,
          45,
          45
         ],
         "xaxis": "x",
         "yaxis": "y"
        },
        {
         "alignmentgroup": "True",
         "bingroup": "x",
         "hovertemplate": "name=Draßburg<br>min=%{x}<br>count=%{y}<extra></extra>",
         "legendgroup": "Draßburg",
         "marker": {
          "color": "#EF553B",
          "pattern": {
           "shape": ""
          }
         },
         "name": "Draßburg",
         "offsetgroup": "Draßburg",
         "orientation": "v",
         "showlegend": true,
         "type": "histogram",
         "x": [
          19,
          30,
          32,
          55,
          55,
          60,
          60,
          61,
          62,
          63,
          63,
          63,
          64,
          67,
          69,
          69,
          69,
          70,
          71,
          71,
          72,
          72,
          72,
          73,
          74,
          75,
          75,
          75,
          76,
          76,
          76,
          77,
          77,
          78,
          79,
          80,
          80,
          81,
          82,
          83,
          84,
          84,
          85,
          87,
          87,
          87,
          88,
          89,
          92,
          92,
          93,
          93,
          45
         ],
         "xaxis": "x",
         "yaxis": "y"
        },
        {
         "alignmentgroup": "True",
         "bingroup": "x",
         "hovertemplate": "name=FC Mauerwerk<br>min=%{x}<br>count=%{y}<extra></extra>",
         "legendgroup": "FC Mauerwerk",
         "marker": {
          "color": "#00cc96",
          "pattern": {
           "shape": ""
          }
         },
         "name": "FC Mauerwerk",
         "offsetgroup": "FC Mauerwerk",
         "orientation": "v",
         "showlegend": true,
         "type": "histogram",
         "x": [
          21,
          36,
          49,
          50,
          55,
          56,
          58,
          58,
          60,
          61,
          62,
          62,
          62,
          63,
          63,
          64,
          65,
          65,
          66,
          66,
          69,
          70,
          70,
          70,
          71,
          72,
          72,
          72,
          75,
          75,
          76,
          78,
          79,
          80,
          80,
          81,
          81,
          82,
          82,
          83,
          83,
          83,
          83,
          83,
          84,
          85,
          85,
          85,
          85,
          87,
          87,
          87,
          88,
          89,
          89,
          89,
          91,
          90,
          90,
          45,
          45,
          45,
          45,
          45,
          45
         ],
         "xaxis": "x",
         "yaxis": "y"
        },
        {
         "alignmentgroup": "True",
         "bingroup": "x",
         "hovertemplate": "name=Admira Juniors<br>min=%{x}<br>count=%{y}<extra></extra>",
         "legendgroup": "Admira Juniors",
         "marker": {
          "color": "#ab63fa",
          "pattern": {
           "shape": ""
          }
         },
         "name": "Admira Juniors",
         "offsetgroup": "Admira Juniors",
         "orientation": "v",
         "showlegend": true,
         "type": "histogram",
         "x": [
          22,
          25,
          38,
          38,
          57,
          60,
          62,
          62,
          62,
          62,
          63,
          64,
          64,
          65,
          65,
          67,
          68,
          69,
          71,
          72,
          72,
          74,
          74,
          74,
          75,
          76,
          76,
          76,
          76,
          77,
          77,
          80,
          80,
          81,
          81,
          81,
          83,
          83,
          84,
          84,
          84,
          84,
          85,
          86,
          86,
          87,
          87,
          87,
          87,
          89,
          89,
          91,
          93,
          45,
          45,
          45,
          45,
          45
         ],
         "xaxis": "x",
         "yaxis": "y"
        },
        {
         "alignmentgroup": "True",
         "bingroup": "x",
         "hovertemplate": "name=ASK-BSC Bruck/Leitha<br>min=%{x}<br>count=%{y}<extra></extra>",
         "legendgroup": "ASK-BSC Bruck/Leitha",
         "marker": {
          "color": "#FFA15A",
          "pattern": {
           "shape": ""
          }
         },
         "name": "ASK-BSC Bruck/Leitha",
         "offsetgroup": "ASK-BSC Bruck/Leitha",
         "orientation": "v",
         "showlegend": true,
         "type": "histogram",
         "x": [
          25,
          30,
          38,
          43,
          52,
          54,
          54,
          55,
          58,
          58,
          60,
          62,
          62,
          64,
          65,
          65,
          65,
          66,
          66,
          66,
          70,
          72,
          72,
          73,
          74,
          74,
          75,
          76,
          77,
          78,
          78,
          78,
          79,
          79,
          80,
          81,
          81,
          81,
          81,
          83,
          84,
          84,
          85,
          85,
          85,
          86,
          87,
          87,
          88,
          90,
          90,
          92,
          9,
          45,
          45,
          45,
          45,
          45,
          45,
          45,
          45,
          45
         ],
         "xaxis": "x",
         "yaxis": "y"
        },
        {
         "alignmentgroup": "True",
         "bingroup": "x",
         "hovertemplate": "name=Stripfing<br>min=%{x}<br>count=%{y}<extra></extra>",
         "legendgroup": "Stripfing",
         "marker": {
          "color": "#19d3f3",
          "pattern": {
           "shape": ""
          }
         },
         "name": "Stripfing",
         "offsetgroup": "Stripfing",
         "orientation": "v",
         "showlegend": true,
         "type": "histogram",
         "x": [
          26,
          29,
          35,
          55,
          56,
          56,
          58,
          58,
          59,
          61,
          61,
          62,
          63,
          63,
          63,
          64,
          64,
          65,
          65,
          69,
          69,
          69,
          70,
          71,
          72,
          72,
          74,
          75,
          77,
          77,
          77,
          78,
          78,
          79,
          79,
          79,
          7,
          80,
          80,
          81,
          82,
          82,
          82,
          84,
          85,
          85,
          85,
          85,
          86,
          87,
          94,
          90,
          91,
          45,
          45,
          45,
          45,
          45
         ],
         "xaxis": "x",
         "yaxis": "y"
        },
        {
         "alignmentgroup": "True",
         "bingroup": "x",
         "hovertemplate": "name=FCM Traiskirchen<br>min=%{x}<br>count=%{y}<extra></extra>",
         "legendgroup": "FCM Traiskirchen",
         "marker": {
          "color": "#FF6692",
          "pattern": {
           "shape": ""
          }
         },
         "name": "FCM Traiskirchen",
         "offsetgroup": "FCM Traiskirchen",
         "orientation": "v",
         "showlegend": true,
         "type": "histogram",
         "x": [
          28,
          38,
          43,
          53,
          54,
          56,
          58,
          59,
          59,
          60,
          61,
          61,
          61,
          61,
          62,
          63,
          67,
          68,
          69,
          69,
          71,
          71,
          73,
          73,
          73,
          73,
          73,
          74,
          75,
          75,
          75,
          77,
          78,
          79,
          81,
          83,
          83,
          83,
          83,
          84,
          84,
          85,
          85,
          85,
          86,
          88,
          92,
          92,
          93,
          90,
          9,
          45,
          45,
          45,
          45,
          45
         ],
         "xaxis": "x",
         "yaxis": "y"
        },
        {
         "alignmentgroup": "True",
         "bingroup": "x",
         "hovertemplate": "name=SV Leobendorf<br>min=%{x}<br>count=%{y}<extra></extra>",
         "legendgroup": "SV Leobendorf",
         "marker": {
          "color": "#B6E880",
          "pattern": {
           "shape": ""
          }
         },
         "name": "SV Leobendorf",
         "offsetgroup": "SV Leobendorf",
         "orientation": "v",
         "showlegend": true,
         "type": "histogram",
         "x": [
          29,
          35,
          38,
          53,
          55,
          56,
          57,
          58,
          58,
          59,
          61,
          62,
          62,
          63,
          64,
          64,
          65,
          67,
          68,
          70,
          70,
          72,
          72,
          72,
          72,
          74,
          76,
          76,
          78,
          78,
          78,
          79,
          80,
          80,
          80,
          81,
          82,
          82,
          83,
          83,
          84,
          85,
          85,
          85,
          87,
          87,
          87,
          87,
          88,
          89,
          89,
          89,
          92,
          90,
          90,
          92,
          45,
          45,
          45,
          45,
          45
         ],
         "xaxis": "x",
         "yaxis": "y"
        },
        {
         "alignmentgroup": "True",
         "bingroup": "x",
         "hovertemplate": "name=FC Marchfeld / Mannsdorf-Große.<br>min=%{x}<br>count=%{y}<extra></extra>",
         "legendgroup": "FC Marchfeld / Mannsdorf-Große.",
         "marker": {
          "color": "#FF97FF",
          "pattern": {
           "shape": ""
          }
         },
         "name": "FC Marchfeld / Mannsdorf-Große.",
         "offsetgroup": "FC Marchfeld / Mannsdorf-Große.",
         "orientation": "v",
         "showlegend": true,
         "type": "histogram",
         "x": [
          32,
          38,
          53,
          53,
          59,
          60,
          60,
          60,
          62,
          62,
          62,
          62,
          63,
          64,
          65,
          66,
          67,
          69,
          70,
          70,
          70,
          71,
          71,
          73,
          73,
          75,
          75,
          77,
          77,
          78,
          78,
          78,
          79,
          79,
          80,
          81,
          81,
          82,
          82,
          83,
          83,
          84,
          85,
          85,
          87,
          87,
          87,
          87,
          88,
          88,
          89,
          89,
          89,
          89,
          91,
          92,
          45,
          45,
          45,
          45,
          45
         ],
         "xaxis": "x",
         "yaxis": "y"
        },
        {
         "alignmentgroup": "True",
         "bingroup": "x",
         "hovertemplate": "name=Wiener Sport-Club<br>min=%{x}<br>count=%{y}<extra></extra>",
         "legendgroup": "Wiener Sport-Club",
         "marker": {
          "color": "#FECB52",
          "pattern": {
           "shape": ""
          }
         },
         "name": "Wiener Sport-Club",
         "offsetgroup": "Wiener Sport-Club",
         "orientation": "v",
         "showlegend": true,
         "type": "histogram",
         "x": [
          36,
          54,
          55,
          55,
          57,
          57,
          60,
          60,
          61,
          62,
          62,
          65,
          65,
          66,
          68,
          69,
          69,
          69,
          70,
          73,
          73,
          73,
          74,
          76,
          76,
          76,
          76,
          77,
          77,
          77,
          78,
          78,
          79,
          79,
          80,
          80,
          81,
          82,
          83,
          83,
          84,
          85,
          85,
          86,
          87,
          87,
          88,
          89,
          92,
          93,
          90,
          90,
          90,
          45,
          45,
          45,
          45
         ],
         "xaxis": "x",
         "yaxis": "y"
        },
        {
         "alignmentgroup": "True",
         "bingroup": "x",
         "hovertemplate": "name=SC Wiener Neustadt<br>min=%{x}<br>count=%{y}<extra></extra>",
         "legendgroup": "SC Wiener Neustadt",
         "marker": {
          "color": "#636efa",
          "pattern": {
           "shape": ""
          }
         },
         "name": "SC Wiener Neustadt",
         "offsetgroup": "SC Wiener Neustadt",
         "orientation": "v",
         "showlegend": true,
         "type": "histogram",
         "x": [
          37,
          39,
          40,
          52,
          56,
          56,
          58,
          61,
          61,
          61,
          63,
          64,
          65,
          65,
          65,
          65,
          65,
          66,
          66,
          66,
          67,
          69,
          70,
          70,
          70,
          70,
          71,
          72,
          73,
          74,
          74,
          76,
          78,
          79,
          79,
          80,
          80,
          81,
          81,
          81,
          82,
          83,
          83,
          84,
          85,
          85,
          85,
          86,
          87,
          88,
          89,
          91,
          93,
          90,
          45,
          45,
          45,
          45,
          45,
          45
         ],
         "xaxis": "x",
         "yaxis": "y"
        },
        {
         "alignmentgroup": "True",
         "bingroup": "x",
         "hovertemplate": "name=TWL Elektra<br>min=%{x}<br>count=%{y}<extra></extra>",
         "legendgroup": "TWL Elektra",
         "marker": {
          "color": "#EF553B",
          "pattern": {
           "shape": ""
          }
         },
         "name": "TWL Elektra",
         "offsetgroup": "TWL Elektra",
         "orientation": "v",
         "showlegend": true,
         "type": "histogram",
         "x": [
          38,
          40,
          42,
          44,
          55,
          55,
          55,
          56,
          57,
          59,
          60,
          60,
          60,
          61,
          62,
          62,
          62,
          63,
          64,
          65,
          65,
          66,
          68,
          69,
          69,
          70,
          70,
          71,
          71,
          72,
          73,
          73,
          74,
          75,
          75,
          75,
          75,
          76,
          76,
          77,
          78,
          78,
          79,
          80,
          80,
          81,
          84,
          84,
          84,
          86,
          86,
          87,
          87,
          88,
          89,
          95,
          90,
          45,
          45,
          45,
          45
         ],
         "xaxis": "x",
         "yaxis": "y"
        },
        {
         "alignmentgroup": "True",
         "bingroup": "x",
         "hovertemplate": "name=Wiener Viktoria<br>min=%{x}<br>count=%{y}<extra></extra>",
         "legendgroup": "Wiener Viktoria",
         "marker": {
          "color": "#00cc96",
          "pattern": {
           "shape": ""
          }
         },
         "name": "Wiener Viktoria",
         "offsetgroup": "Wiener Viktoria",
         "orientation": "v",
         "showlegend": true,
         "type": "histogram",
         "x": [
          39,
          53,
          54,
          55,
          58,
          58,
          58,
          62,
          65,
          65,
          65,
          67,
          69,
          69,
          70,
          70,
          70,
          70,
          70,
          71,
          71,
          72,
          74,
          74,
          75,
          75,
          76,
          76,
          77,
          77,
          77,
          78,
          78,
          78,
          79,
          80,
          80,
          80,
          80,
          81,
          81,
          82,
          82,
          84,
          84,
          86,
          88,
          88,
          89,
          89,
          8,
          92,
          90,
          90,
          45,
          45,
          45,
          45,
          45,
          45,
          45,
          45
         ],
         "xaxis": "x",
         "yaxis": "y"
        },
        {
         "alignmentgroup": "True",
         "bingroup": "x",
         "hovertemplate": "name=SC Neusiedl am See 1919<br>min=%{x}<br>count=%{y}<extra></extra>",
         "legendgroup": "SC Neusiedl am See 1919",
         "marker": {
          "color": "#ab63fa",
          "pattern": {
           "shape": ""
          }
         },
         "name": "SC Neusiedl am See 1919",
         "offsetgroup": "SC Neusiedl am See 1919",
         "orientation": "v",
         "showlegend": true,
         "type": "histogram",
         "x": [
          42,
          55,
          56,
          57,
          60,
          60,
          61,
          62,
          62,
          65,
          66,
          66,
          68,
          69,
          69,
          70,
          71,
          72,
          73,
          73,
          73,
          74,
          74,
          75,
          75,
          76,
          76,
          76,
          78,
          78,
          78,
          78,
          81,
          82,
          82,
          82,
          82,
          83,
          85,
          86,
          86,
          87,
          87,
          88,
          89,
          89,
          91,
          91,
          94,
          45,
          45,
          45
         ],
         "xaxis": "x",
         "yaxis": "y"
        }
       ],
       "layout": {
        "barmode": "overlay",
        "legend": {
         "title": {
          "text": "name"
         },
         "tracegroupgap": 0
        },
        "template": {
         "data": {
          "bar": [
           {
            "error_x": {
             "color": "#2a3f5f"
            },
            "error_y": {
             "color": "#2a3f5f"
            },
            "marker": {
             "line": {
              "color": "#E5ECF6",
              "width": 0.5
             },
             "pattern": {
              "fillmode": "overlay",
              "size": 10,
              "solidity": 0.2
             }
            },
            "type": "bar"
           }
          ],
          "barpolar": [
           {
            "marker": {
             "line": {
              "color": "#E5ECF6",
              "width": 0.5
             },
             "pattern": {
              "fillmode": "overlay",
              "size": 10,
              "solidity": 0.2
             }
            },
            "type": "barpolar"
           }
          ],
          "carpet": [
           {
            "aaxis": {
             "endlinecolor": "#2a3f5f",
             "gridcolor": "white",
             "linecolor": "white",
             "minorgridcolor": "white",
             "startlinecolor": "#2a3f5f"
            },
            "baxis": {
             "endlinecolor": "#2a3f5f",
             "gridcolor": "white",
             "linecolor": "white",
             "minorgridcolor": "white",
             "startlinecolor": "#2a3f5f"
            },
            "type": "carpet"
           }
          ],
          "choropleth": [
           {
            "colorbar": {
             "outlinewidth": 0,
             "ticks": ""
            },
            "type": "choropleth"
           }
          ],
          "contour": [
           {
            "colorbar": {
             "outlinewidth": 0,
             "ticks": ""
            },
            "colorscale": [
             [
              0,
              "#0d0887"
             ],
             [
              0.1111111111111111,
              "#46039f"
             ],
             [
              0.2222222222222222,
              "#7201a8"
             ],
             [
              0.3333333333333333,
              "#9c179e"
             ],
             [
              0.4444444444444444,
              "#bd3786"
             ],
             [
              0.5555555555555556,
              "#d8576b"
             ],
             [
              0.6666666666666666,
              "#ed7953"
             ],
             [
              0.7777777777777778,
              "#fb9f3a"
             ],
             [
              0.8888888888888888,
              "#fdca26"
             ],
             [
              1,
              "#f0f921"
             ]
            ],
            "type": "contour"
           }
          ],
          "contourcarpet": [
           {
            "colorbar": {
             "outlinewidth": 0,
             "ticks": ""
            },
            "type": "contourcarpet"
           }
          ],
          "heatmap": [
           {
            "colorbar": {
             "outlinewidth": 0,
             "ticks": ""
            },
            "colorscale": [
             [
              0,
              "#0d0887"
             ],
             [
              0.1111111111111111,
              "#46039f"
             ],
             [
              0.2222222222222222,
              "#7201a8"
             ],
             [
              0.3333333333333333,
              "#9c179e"
             ],
             [
              0.4444444444444444,
              "#bd3786"
             ],
             [
              0.5555555555555556,
              "#d8576b"
             ],
             [
              0.6666666666666666,
              "#ed7953"
             ],
             [
              0.7777777777777778,
              "#fb9f3a"
             ],
             [
              0.8888888888888888,
              "#fdca26"
             ],
             [
              1,
              "#f0f921"
             ]
            ],
            "type": "heatmap"
           }
          ],
          "heatmapgl": [
           {
            "colorbar": {
             "outlinewidth": 0,
             "ticks": ""
            },
            "colorscale": [
             [
              0,
              "#0d0887"
             ],
             [
              0.1111111111111111,
              "#46039f"
             ],
             [
              0.2222222222222222,
              "#7201a8"
             ],
             [
              0.3333333333333333,
              "#9c179e"
             ],
             [
              0.4444444444444444,
              "#bd3786"
             ],
             [
              0.5555555555555556,
              "#d8576b"
             ],
             [
              0.6666666666666666,
              "#ed7953"
             ],
             [
              0.7777777777777778,
              "#fb9f3a"
             ],
             [
              0.8888888888888888,
              "#fdca26"
             ],
             [
              1,
              "#f0f921"
             ]
            ],
            "type": "heatmapgl"
           }
          ],
          "histogram": [
           {
            "marker": {
             "pattern": {
              "fillmode": "overlay",
              "size": 10,
              "solidity": 0.2
             }
            },
            "type": "histogram"
           }
          ],
          "histogram2d": [
           {
            "colorbar": {
             "outlinewidth": 0,
             "ticks": ""
            },
            "colorscale": [
             [
              0,
              "#0d0887"
             ],
             [
              0.1111111111111111,
              "#46039f"
             ],
             [
              0.2222222222222222,
              "#7201a8"
             ],
             [
              0.3333333333333333,
              "#9c179e"
             ],
             [
              0.4444444444444444,
              "#bd3786"
             ],
             [
              0.5555555555555556,
              "#d8576b"
             ],
             [
              0.6666666666666666,
              "#ed7953"
             ],
             [
              0.7777777777777778,
              "#fb9f3a"
             ],
             [
              0.8888888888888888,
              "#fdca26"
             ],
             [
              1,
              "#f0f921"
             ]
            ],
            "type": "histogram2d"
           }
          ],
          "histogram2dcontour": [
           {
            "colorbar": {
             "outlinewidth": 0,
             "ticks": ""
            },
            "colorscale": [
             [
              0,
              "#0d0887"
             ],
             [
              0.1111111111111111,
              "#46039f"
             ],
             [
              0.2222222222222222,
              "#7201a8"
             ],
             [
              0.3333333333333333,
              "#9c179e"
             ],
             [
              0.4444444444444444,
              "#bd3786"
             ],
             [
              0.5555555555555556,
              "#d8576b"
             ],
             [
              0.6666666666666666,
              "#ed7953"
             ],
             [
              0.7777777777777778,
              "#fb9f3a"
             ],
             [
              0.8888888888888888,
              "#fdca26"
             ],
             [
              1,
              "#f0f921"
             ]
            ],
            "type": "histogram2dcontour"
           }
          ],
          "mesh3d": [
           {
            "colorbar": {
             "outlinewidth": 0,
             "ticks": ""
            },
            "type": "mesh3d"
           }
          ],
          "parcoords": [
           {
            "line": {
             "colorbar": {
              "outlinewidth": 0,
              "ticks": ""
             }
            },
            "type": "parcoords"
           }
          ],
          "pie": [
           {
            "automargin": true,
            "type": "pie"
           }
          ],
          "scatter": [
           {
            "fillpattern": {
             "fillmode": "overlay",
             "size": 10,
             "solidity": 0.2
            },
            "type": "scatter"
           }
          ],
          "scatter3d": [
           {
            "line": {
             "colorbar": {
              "outlinewidth": 0,
              "ticks": ""
             }
            },
            "marker": {
             "colorbar": {
              "outlinewidth": 0,
              "ticks": ""
             }
            },
            "type": "scatter3d"
           }
          ],
          "scattercarpet": [
           {
            "marker": {
             "colorbar": {
              "outlinewidth": 0,
              "ticks": ""
             }
            },
            "type": "scattercarpet"
           }
          ],
          "scattergeo": [
           {
            "marker": {
             "colorbar": {
              "outlinewidth": 0,
              "ticks": ""
             }
            },
            "type": "scattergeo"
           }
          ],
          "scattergl": [
           {
            "marker": {
             "colorbar": {
              "outlinewidth": 0,
              "ticks": ""
             }
            },
            "type": "scattergl"
           }
          ],
          "scattermapbox": [
           {
            "marker": {
             "colorbar": {
              "outlinewidth": 0,
              "ticks": ""
             }
            },
            "type": "scattermapbox"
           }
          ],
          "scatterpolar": [
           {
            "marker": {
             "colorbar": {
              "outlinewidth": 0,
              "ticks": ""
             }
            },
            "type": "scatterpolar"
           }
          ],
          "scatterpolargl": [
           {
            "marker": {
             "colorbar": {
              "outlinewidth": 0,
              "ticks": ""
             }
            },
            "type": "scatterpolargl"
           }
          ],
          "scatterternary": [
           {
            "marker": {
             "colorbar": {
              "outlinewidth": 0,
              "ticks": ""
             }
            },
            "type": "scatterternary"
           }
          ],
          "surface": [
           {
            "colorbar": {
             "outlinewidth": 0,
             "ticks": ""
            },
            "colorscale": [
             [
              0,
              "#0d0887"
             ],
             [
              0.1111111111111111,
              "#46039f"
             ],
             [
              0.2222222222222222,
              "#7201a8"
             ],
             [
              0.3333333333333333,
              "#9c179e"
             ],
             [
              0.4444444444444444,
              "#bd3786"
             ],
             [
              0.5555555555555556,
              "#d8576b"
             ],
             [
              0.6666666666666666,
              "#ed7953"
             ],
             [
              0.7777777777777778,
              "#fb9f3a"
             ],
             [
              0.8888888888888888,
              "#fdca26"
             ],
             [
              1,
              "#f0f921"
             ]
            ],
            "type": "surface"
           }
          ],
          "table": [
           {
            "cells": {
             "fill": {
              "color": "#EBF0F8"
             },
             "line": {
              "color": "white"
             }
            },
            "header": {
             "fill": {
              "color": "#C8D4E3"
             },
             "line": {
              "color": "white"
             }
            },
            "type": "table"
           }
          ]
         },
         "layout": {
          "annotationdefaults": {
           "arrowcolor": "#2a3f5f",
           "arrowhead": 0,
           "arrowwidth": 1
          },
          "autotypenumbers": "strict",
          "coloraxis": {
           "colorbar": {
            "outlinewidth": 0,
            "ticks": ""
           }
          },
          "colorscale": {
           "diverging": [
            [
             0,
             "#8e0152"
            ],
            [
             0.1,
             "#c51b7d"
            ],
            [
             0.2,
             "#de77ae"
            ],
            [
             0.3,
             "#f1b6da"
            ],
            [
             0.4,
             "#fde0ef"
            ],
            [
             0.5,
             "#f7f7f7"
            ],
            [
             0.6,
             "#e6f5d0"
            ],
            [
             0.7,
             "#b8e186"
            ],
            [
             0.8,
             "#7fbc41"
            ],
            [
             0.9,
             "#4d9221"
            ],
            [
             1,
             "#276419"
            ]
           ],
           "sequential": [
            [
             0,
             "#0d0887"
            ],
            [
             0.1111111111111111,
             "#46039f"
            ],
            [
             0.2222222222222222,
             "#7201a8"
            ],
            [
             0.3333333333333333,
             "#9c179e"
            ],
            [
             0.4444444444444444,
             "#bd3786"
            ],
            [
             0.5555555555555556,
             "#d8576b"
            ],
            [
             0.6666666666666666,
             "#ed7953"
            ],
            [
             0.7777777777777778,
             "#fb9f3a"
            ],
            [
             0.8888888888888888,
             "#fdca26"
            ],
            [
             1,
             "#f0f921"
            ]
           ],
           "sequentialminus": [
            [
             0,
             "#0d0887"
            ],
            [
             0.1111111111111111,
             "#46039f"
            ],
            [
             0.2222222222222222,
             "#7201a8"
            ],
            [
             0.3333333333333333,
             "#9c179e"
            ],
            [
             0.4444444444444444,
             "#bd3786"
            ],
            [
             0.5555555555555556,
             "#d8576b"
            ],
            [
             0.6666666666666666,
             "#ed7953"
            ],
            [
             0.7777777777777778,
             "#fb9f3a"
            ],
            [
             0.8888888888888888,
             "#fdca26"
            ],
            [
             1,
             "#f0f921"
            ]
           ]
          },
          "colorway": [
           "#636efa",
           "#EF553B",
           "#00cc96",
           "#ab63fa",
           "#FFA15A",
           "#19d3f3",
           "#FF6692",
           "#B6E880",
           "#FF97FF",
           "#FECB52"
          ],
          "font": {
           "color": "#2a3f5f"
          },
          "geo": {
           "bgcolor": "white",
           "lakecolor": "white",
           "landcolor": "#E5ECF6",
           "showlakes": true,
           "showland": true,
           "subunitcolor": "white"
          },
          "hoverlabel": {
           "align": "left"
          },
          "hovermode": "closest",
          "mapbox": {
           "style": "light"
          },
          "paper_bgcolor": "white",
          "plot_bgcolor": "#E5ECF6",
          "polar": {
           "angularaxis": {
            "gridcolor": "white",
            "linecolor": "white",
            "ticks": ""
           },
           "bgcolor": "#E5ECF6",
           "radialaxis": {
            "gridcolor": "white",
            "linecolor": "white",
            "ticks": ""
           }
          },
          "scene": {
           "xaxis": {
            "backgroundcolor": "#E5ECF6",
            "gridcolor": "white",
            "gridwidth": 2,
            "linecolor": "white",
            "showbackground": true,
            "ticks": "",
            "zerolinecolor": "white"
           },
           "yaxis": {
            "backgroundcolor": "#E5ECF6",
            "gridcolor": "white",
            "gridwidth": 2,
            "linecolor": "white",
            "showbackground": true,
            "ticks": "",
            "zerolinecolor": "white"
           },
           "zaxis": {
            "backgroundcolor": "#E5ECF6",
            "gridcolor": "white",
            "gridwidth": 2,
            "linecolor": "white",
            "showbackground": true,
            "ticks": "",
            "zerolinecolor": "white"
           }
          },
          "shapedefaults": {
           "line": {
            "color": "#2a3f5f"
           }
          },
          "ternary": {
           "aaxis": {
            "gridcolor": "white",
            "linecolor": "white",
            "ticks": ""
           },
           "baxis": {
            "gridcolor": "white",
            "linecolor": "white",
            "ticks": ""
           },
           "bgcolor": "#E5ECF6",
           "caxis": {
            "gridcolor": "white",
            "linecolor": "white",
            "ticks": ""
           }
          },
          "title": {
           "x": 0.05
          },
          "xaxis": {
           "automargin": true,
           "gridcolor": "white",
           "linecolor": "white",
           "ticks": "",
           "title": {
            "standoff": 15
           },
           "zerolinecolor": "white",
           "zerolinewidth": 2
          },
          "yaxis": {
           "automargin": true,
           "gridcolor": "white",
           "linecolor": "white",
           "ticks": "",
           "title": {
            "standoff": 15
           },
           "zerolinecolor": "white",
           "zerolinewidth": 2
          }
         }
        },
        "title": {
         "text": "Gegentore in Minute vor Mandl"
        },
        "xaxis": {
         "anchor": "y",
         "domain": [
          0,
          1
         ],
         "title": {
          "text": "min"
         }
        },
        "yaxis": {
         "anchor": "x",
         "domain": [
          0,
          1
         ],
         "title": {
          "text": "count"
         }
        }
       }
      },
      "text/html": [
       "<div>                            <div id=\"daec54a9-ec46-4d1d-b920-c67c83cdd5e6\" class=\"plotly-graph-div\" style=\"height:525px; width:100%;\"></div>            <script type=\"text/javascript\">                require([\"plotly\"], function(Plotly) {                    window.PLOTLYENV=window.PLOTLYENV || {};                                    if (document.getElementById(\"daec54a9-ec46-4d1d-b920-c67c83cdd5e6\")) {                    Plotly.newPlot(                        \"daec54a9-ec46-4d1d-b920-c67c83cdd5e6\",                        [{\"alignmentgroup\":\"True\",\"bingroup\":\"x\",\"hovertemplate\":\"name=First Vienna FC 1894<br>min=%{x}<br>count=%{y}<extra></extra>\",\"legendgroup\":\"First Vienna FC 1894\",\"marker\":{\"color\":\"#636efa\",\"pattern\":{\"shape\":\"\"}},\"name\":\"First Vienna FC 1894\",\"offsetgroup\":\"First Vienna FC 1894\",\"orientation\":\"v\",\"showlegend\":true,\"x\":[11,11,36,37,53,54,56,57,59,60,60,61,64,65,66,67,68,68,69,70,70,70,70,70,72,72,73,74,75,75,75,75,76,78,79,7,80,81,81,82,82,83,83,84,85,85,85,85,86,86,87,87,87,90,90,45,45,45],\"xaxis\":\"x\",\"yaxis\":\"y\",\"type\":\"histogram\"},{\"alignmentgroup\":\"True\",\"bingroup\":\"x\",\"hovertemplate\":\"name=Dra\\u00dfburg<br>min=%{x}<br>count=%{y}<extra></extra>\",\"legendgroup\":\"Dra\\u00dfburg\",\"marker\":{\"color\":\"#EF553B\",\"pattern\":{\"shape\":\"\"}},\"name\":\"Dra\\u00dfburg\",\"offsetgroup\":\"Dra\\u00dfburg\",\"orientation\":\"v\",\"showlegend\":true,\"x\":[19,30,32,55,55,60,60,61,62,63,63,63,64,67,69,69,69,70,71,71,72,72,72,73,74,75,75,75,76,76,76,77,77,78,79,80,80,81,82,83,84,84,85,87,87,87,88,89,92,92,93,93,45],\"xaxis\":\"x\",\"yaxis\":\"y\",\"type\":\"histogram\"},{\"alignmentgroup\":\"True\",\"bingroup\":\"x\",\"hovertemplate\":\"name=FC Mauerwerk<br>min=%{x}<br>count=%{y}<extra></extra>\",\"legendgroup\":\"FC Mauerwerk\",\"marker\":{\"color\":\"#00cc96\",\"pattern\":{\"shape\":\"\"}},\"name\":\"FC Mauerwerk\",\"offsetgroup\":\"FC Mauerwerk\",\"orientation\":\"v\",\"showlegend\":true,\"x\":[21,36,49,50,55,56,58,58,60,61,62,62,62,63,63,64,65,65,66,66,69,70,70,70,71,72,72,72,75,75,76,78,79,80,80,81,81,82,82,83,83,83,83,83,84,85,85,85,85,87,87,87,88,89,89,89,91,90,90,45,45,45,45,45,45],\"xaxis\":\"x\",\"yaxis\":\"y\",\"type\":\"histogram\"},{\"alignmentgroup\":\"True\",\"bingroup\":\"x\",\"hovertemplate\":\"name=Admira Juniors<br>min=%{x}<br>count=%{y}<extra></extra>\",\"legendgroup\":\"Admira Juniors\",\"marker\":{\"color\":\"#ab63fa\",\"pattern\":{\"shape\":\"\"}},\"name\":\"Admira Juniors\",\"offsetgroup\":\"Admira Juniors\",\"orientation\":\"v\",\"showlegend\":true,\"x\":[22,25,38,38,57,60,62,62,62,62,63,64,64,65,65,67,68,69,71,72,72,74,74,74,75,76,76,76,76,77,77,80,80,81,81,81,83,83,84,84,84,84,85,86,86,87,87,87,87,89,89,91,93,45,45,45,45,45],\"xaxis\":\"x\",\"yaxis\":\"y\",\"type\":\"histogram\"},{\"alignmentgroup\":\"True\",\"bingroup\":\"x\",\"hovertemplate\":\"name=ASK-BSC Bruck/Leitha<br>min=%{x}<br>count=%{y}<extra></extra>\",\"legendgroup\":\"ASK-BSC Bruck/Leitha\",\"marker\":{\"color\":\"#FFA15A\",\"pattern\":{\"shape\":\"\"}},\"name\":\"ASK-BSC Bruck/Leitha\",\"offsetgroup\":\"ASK-BSC Bruck/Leitha\",\"orientation\":\"v\",\"showlegend\":true,\"x\":[25,30,38,43,52,54,54,55,58,58,60,62,62,64,65,65,65,66,66,66,70,72,72,73,74,74,75,76,77,78,78,78,79,79,80,81,81,81,81,83,84,84,85,85,85,86,87,87,88,90,90,92,9,45,45,45,45,45,45,45,45,45],\"xaxis\":\"x\",\"yaxis\":\"y\",\"type\":\"histogram\"},{\"alignmentgroup\":\"True\",\"bingroup\":\"x\",\"hovertemplate\":\"name=Stripfing<br>min=%{x}<br>count=%{y}<extra></extra>\",\"legendgroup\":\"Stripfing\",\"marker\":{\"color\":\"#19d3f3\",\"pattern\":{\"shape\":\"\"}},\"name\":\"Stripfing\",\"offsetgroup\":\"Stripfing\",\"orientation\":\"v\",\"showlegend\":true,\"x\":[26,29,35,55,56,56,58,58,59,61,61,62,63,63,63,64,64,65,65,69,69,69,70,71,72,72,74,75,77,77,77,78,78,79,79,79,7,80,80,81,82,82,82,84,85,85,85,85,86,87,94,90,91,45,45,45,45,45],\"xaxis\":\"x\",\"yaxis\":\"y\",\"type\":\"histogram\"},{\"alignmentgroup\":\"True\",\"bingroup\":\"x\",\"hovertemplate\":\"name=FCM Traiskirchen<br>min=%{x}<br>count=%{y}<extra></extra>\",\"legendgroup\":\"FCM Traiskirchen\",\"marker\":{\"color\":\"#FF6692\",\"pattern\":{\"shape\":\"\"}},\"name\":\"FCM Traiskirchen\",\"offsetgroup\":\"FCM Traiskirchen\",\"orientation\":\"v\",\"showlegend\":true,\"x\":[28,38,43,53,54,56,58,59,59,60,61,61,61,61,62,63,67,68,69,69,71,71,73,73,73,73,73,74,75,75,75,77,78,79,81,83,83,83,83,84,84,85,85,85,86,88,92,92,93,90,9,45,45,45,45,45],\"xaxis\":\"x\",\"yaxis\":\"y\",\"type\":\"histogram\"},{\"alignmentgroup\":\"True\",\"bingroup\":\"x\",\"hovertemplate\":\"name=SV Leobendorf<br>min=%{x}<br>count=%{y}<extra></extra>\",\"legendgroup\":\"SV Leobendorf\",\"marker\":{\"color\":\"#B6E880\",\"pattern\":{\"shape\":\"\"}},\"name\":\"SV Leobendorf\",\"offsetgroup\":\"SV Leobendorf\",\"orientation\":\"v\",\"showlegend\":true,\"x\":[29,35,38,53,55,56,57,58,58,59,61,62,62,63,64,64,65,67,68,70,70,72,72,72,72,74,76,76,78,78,78,79,80,80,80,81,82,82,83,83,84,85,85,85,87,87,87,87,88,89,89,89,92,90,90,92,45,45,45,45,45],\"xaxis\":\"x\",\"yaxis\":\"y\",\"type\":\"histogram\"},{\"alignmentgroup\":\"True\",\"bingroup\":\"x\",\"hovertemplate\":\"name=FC Marchfeld / Mannsdorf-Gro\\u00dfe.<br>min=%{x}<br>count=%{y}<extra></extra>\",\"legendgroup\":\"FC Marchfeld / Mannsdorf-Gro\\u00dfe.\",\"marker\":{\"color\":\"#FF97FF\",\"pattern\":{\"shape\":\"\"}},\"name\":\"FC Marchfeld / Mannsdorf-Gro\\u00dfe.\",\"offsetgroup\":\"FC Marchfeld / Mannsdorf-Gro\\u00dfe.\",\"orientation\":\"v\",\"showlegend\":true,\"x\":[32,38,53,53,59,60,60,60,62,62,62,62,63,64,65,66,67,69,70,70,70,71,71,73,73,75,75,77,77,78,78,78,79,79,80,81,81,82,82,83,83,84,85,85,87,87,87,87,88,88,89,89,89,89,91,92,45,45,45,45,45],\"xaxis\":\"x\",\"yaxis\":\"y\",\"type\":\"histogram\"},{\"alignmentgroup\":\"True\",\"bingroup\":\"x\",\"hovertemplate\":\"name=Wiener Sport-Club<br>min=%{x}<br>count=%{y}<extra></extra>\",\"legendgroup\":\"Wiener Sport-Club\",\"marker\":{\"color\":\"#FECB52\",\"pattern\":{\"shape\":\"\"}},\"name\":\"Wiener Sport-Club\",\"offsetgroup\":\"Wiener Sport-Club\",\"orientation\":\"v\",\"showlegend\":true,\"x\":[36,54,55,55,57,57,60,60,61,62,62,65,65,66,68,69,69,69,70,73,73,73,74,76,76,76,76,77,77,77,78,78,79,79,80,80,81,82,83,83,84,85,85,86,87,87,88,89,92,93,90,90,90,45,45,45,45],\"xaxis\":\"x\",\"yaxis\":\"y\",\"type\":\"histogram\"},{\"alignmentgroup\":\"True\",\"bingroup\":\"x\",\"hovertemplate\":\"name=SC Wiener Neustadt<br>min=%{x}<br>count=%{y}<extra></extra>\",\"legendgroup\":\"SC Wiener Neustadt\",\"marker\":{\"color\":\"#636efa\",\"pattern\":{\"shape\":\"\"}},\"name\":\"SC Wiener Neustadt\",\"offsetgroup\":\"SC Wiener Neustadt\",\"orientation\":\"v\",\"showlegend\":true,\"x\":[37,39,40,52,56,56,58,61,61,61,63,64,65,65,65,65,65,66,66,66,67,69,70,70,70,70,71,72,73,74,74,76,78,79,79,80,80,81,81,81,82,83,83,84,85,85,85,86,87,88,89,91,93,90,45,45,45,45,45,45],\"xaxis\":\"x\",\"yaxis\":\"y\",\"type\":\"histogram\"},{\"alignmentgroup\":\"True\",\"bingroup\":\"x\",\"hovertemplate\":\"name=TWL Elektra<br>min=%{x}<br>count=%{y}<extra></extra>\",\"legendgroup\":\"TWL Elektra\",\"marker\":{\"color\":\"#EF553B\",\"pattern\":{\"shape\":\"\"}},\"name\":\"TWL Elektra\",\"offsetgroup\":\"TWL Elektra\",\"orientation\":\"v\",\"showlegend\":true,\"x\":[38,40,42,44,55,55,55,56,57,59,60,60,60,61,62,62,62,63,64,65,65,66,68,69,69,70,70,71,71,72,73,73,74,75,75,75,75,76,76,77,78,78,79,80,80,81,84,84,84,86,86,87,87,88,89,95,90,45,45,45,45],\"xaxis\":\"x\",\"yaxis\":\"y\",\"type\":\"histogram\"},{\"alignmentgroup\":\"True\",\"bingroup\":\"x\",\"hovertemplate\":\"name=Wiener Viktoria<br>min=%{x}<br>count=%{y}<extra></extra>\",\"legendgroup\":\"Wiener Viktoria\",\"marker\":{\"color\":\"#00cc96\",\"pattern\":{\"shape\":\"\"}},\"name\":\"Wiener Viktoria\",\"offsetgroup\":\"Wiener Viktoria\",\"orientation\":\"v\",\"showlegend\":true,\"x\":[39,53,54,55,58,58,58,62,65,65,65,67,69,69,70,70,70,70,70,71,71,72,74,74,75,75,76,76,77,77,77,78,78,78,79,80,80,80,80,81,81,82,82,84,84,86,88,88,89,89,8,92,90,90,45,45,45,45,45,45,45,45],\"xaxis\":\"x\",\"yaxis\":\"y\",\"type\":\"histogram\"},{\"alignmentgroup\":\"True\",\"bingroup\":\"x\",\"hovertemplate\":\"name=SC Neusiedl am See 1919<br>min=%{x}<br>count=%{y}<extra></extra>\",\"legendgroup\":\"SC Neusiedl am See 1919\",\"marker\":{\"color\":\"#ab63fa\",\"pattern\":{\"shape\":\"\"}},\"name\":\"SC Neusiedl am See 1919\",\"offsetgroup\":\"SC Neusiedl am See 1919\",\"orientation\":\"v\",\"showlegend\":true,\"x\":[42,55,56,57,60,60,61,62,62,65,66,66,68,69,69,70,71,72,73,73,73,74,74,75,75,76,76,76,78,78,78,78,81,82,82,82,82,83,85,86,86,87,87,88,89,89,91,91,94,45,45,45],\"xaxis\":\"x\",\"yaxis\":\"y\",\"type\":\"histogram\"}],                        {\"template\":{\"data\":{\"histogram2dcontour\":[{\"type\":\"histogram2dcontour\",\"colorbar\":{\"outlinewidth\":0,\"ticks\":\"\"},\"colorscale\":[[0.0,\"#0d0887\"],[0.1111111111111111,\"#46039f\"],[0.2222222222222222,\"#7201a8\"],[0.3333333333333333,\"#9c179e\"],[0.4444444444444444,\"#bd3786\"],[0.5555555555555556,\"#d8576b\"],[0.6666666666666666,\"#ed7953\"],[0.7777777777777778,\"#fb9f3a\"],[0.8888888888888888,\"#fdca26\"],[1.0,\"#f0f921\"]]}],\"choropleth\":[{\"type\":\"choropleth\",\"colorbar\":{\"outlinewidth\":0,\"ticks\":\"\"}}],\"histogram2d\":[{\"type\":\"histogram2d\",\"colorbar\":{\"outlinewidth\":0,\"ticks\":\"\"},\"colorscale\":[[0.0,\"#0d0887\"],[0.1111111111111111,\"#46039f\"],[0.2222222222222222,\"#7201a8\"],[0.3333333333333333,\"#9c179e\"],[0.4444444444444444,\"#bd3786\"],[0.5555555555555556,\"#d8576b\"],[0.6666666666666666,\"#ed7953\"],[0.7777777777777778,\"#fb9f3a\"],[0.8888888888888888,\"#fdca26\"],[1.0,\"#f0f921\"]]}],\"heatmap\":[{\"type\":\"heatmap\",\"colorbar\":{\"outlinewidth\":0,\"ticks\":\"\"},\"colorscale\":[[0.0,\"#0d0887\"],[0.1111111111111111,\"#46039f\"],[0.2222222222222222,\"#7201a8\"],[0.3333333333333333,\"#9c179e\"],[0.4444444444444444,\"#bd3786\"],[0.5555555555555556,\"#d8576b\"],[0.6666666666666666,\"#ed7953\"],[0.7777777777777778,\"#fb9f3a\"],[0.8888888888888888,\"#fdca26\"],[1.0,\"#f0f921\"]]}],\"heatmapgl\":[{\"type\":\"heatmapgl\",\"colorbar\":{\"outlinewidth\":0,\"ticks\":\"\"},\"colorscale\":[[0.0,\"#0d0887\"],[0.1111111111111111,\"#46039f\"],[0.2222222222222222,\"#7201a8\"],[0.3333333333333333,\"#9c179e\"],[0.4444444444444444,\"#bd3786\"],[0.5555555555555556,\"#d8576b\"],[0.6666666666666666,\"#ed7953\"],[0.7777777777777778,\"#fb9f3a\"],[0.8888888888888888,\"#fdca26\"],[1.0,\"#f0f921\"]]}],\"contourcarpet\":[{\"type\":\"contourcarpet\",\"colorbar\":{\"outlinewidth\":0,\"ticks\":\"\"}}],\"contour\":[{\"type\":\"contour\",\"colorbar\":{\"outlinewidth\":0,\"ticks\":\"\"},\"colorscale\":[[0.0,\"#0d0887\"],[0.1111111111111111,\"#46039f\"],[0.2222222222222222,\"#7201a8\"],[0.3333333333333333,\"#9c179e\"],[0.4444444444444444,\"#bd3786\"],[0.5555555555555556,\"#d8576b\"],[0.6666666666666666,\"#ed7953\"],[0.7777777777777778,\"#fb9f3a\"],[0.8888888888888888,\"#fdca26\"],[1.0,\"#f0f921\"]]}],\"surface\":[{\"type\":\"surface\",\"colorbar\":{\"outlinewidth\":0,\"ticks\":\"\"},\"colorscale\":[[0.0,\"#0d0887\"],[0.1111111111111111,\"#46039f\"],[0.2222222222222222,\"#7201a8\"],[0.3333333333333333,\"#9c179e\"],[0.4444444444444444,\"#bd3786\"],[0.5555555555555556,\"#d8576b\"],[0.6666666666666666,\"#ed7953\"],[0.7777777777777778,\"#fb9f3a\"],[0.8888888888888888,\"#fdca26\"],[1.0,\"#f0f921\"]]}],\"mesh3d\":[{\"type\":\"mesh3d\",\"colorbar\":{\"outlinewidth\":0,\"ticks\":\"\"}}],\"scatter\":[{\"fillpattern\":{\"fillmode\":\"overlay\",\"size\":10,\"solidity\":0.2},\"type\":\"scatter\"}],\"parcoords\":[{\"type\":\"parcoords\",\"line\":{\"colorbar\":{\"outlinewidth\":0,\"ticks\":\"\"}}}],\"scatterpolargl\":[{\"type\":\"scatterpolargl\",\"marker\":{\"colorbar\":{\"outlinewidth\":0,\"ticks\":\"\"}}}],\"bar\":[{\"error_x\":{\"color\":\"#2a3f5f\"},\"error_y\":{\"color\":\"#2a3f5f\"},\"marker\":{\"line\":{\"color\":\"#E5ECF6\",\"width\":0.5},\"pattern\":{\"fillmode\":\"overlay\",\"size\":10,\"solidity\":0.2}},\"type\":\"bar\"}],\"scattergeo\":[{\"type\":\"scattergeo\",\"marker\":{\"colorbar\":{\"outlinewidth\":0,\"ticks\":\"\"}}}],\"scatterpolar\":[{\"type\":\"scatterpolar\",\"marker\":{\"colorbar\":{\"outlinewidth\":0,\"ticks\":\"\"}}}],\"histogram\":[{\"marker\":{\"pattern\":{\"fillmode\":\"overlay\",\"size\":10,\"solidity\":0.2}},\"type\":\"histogram\"}],\"scattergl\":[{\"type\":\"scattergl\",\"marker\":{\"colorbar\":{\"outlinewidth\":0,\"ticks\":\"\"}}}],\"scatter3d\":[{\"type\":\"scatter3d\",\"line\":{\"colorbar\":{\"outlinewidth\":0,\"ticks\":\"\"}},\"marker\":{\"colorbar\":{\"outlinewidth\":0,\"ticks\":\"\"}}}],\"scattermapbox\":[{\"type\":\"scattermapbox\",\"marker\":{\"colorbar\":{\"outlinewidth\":0,\"ticks\":\"\"}}}],\"scatterternary\":[{\"type\":\"scatterternary\",\"marker\":{\"colorbar\":{\"outlinewidth\":0,\"ticks\":\"\"}}}],\"scattercarpet\":[{\"type\":\"scattercarpet\",\"marker\":{\"colorbar\":{\"outlinewidth\":0,\"ticks\":\"\"}}}],\"carpet\":[{\"aaxis\":{\"endlinecolor\":\"#2a3f5f\",\"gridcolor\":\"white\",\"linecolor\":\"white\",\"minorgridcolor\":\"white\",\"startlinecolor\":\"#2a3f5f\"},\"baxis\":{\"endlinecolor\":\"#2a3f5f\",\"gridcolor\":\"white\",\"linecolor\":\"white\",\"minorgridcolor\":\"white\",\"startlinecolor\":\"#2a3f5f\"},\"type\":\"carpet\"}],\"table\":[{\"cells\":{\"fill\":{\"color\":\"#EBF0F8\"},\"line\":{\"color\":\"white\"}},\"header\":{\"fill\":{\"color\":\"#C8D4E3\"},\"line\":{\"color\":\"white\"}},\"type\":\"table\"}],\"barpolar\":[{\"marker\":{\"line\":{\"color\":\"#E5ECF6\",\"width\":0.5},\"pattern\":{\"fillmode\":\"overlay\",\"size\":10,\"solidity\":0.2}},\"type\":\"barpolar\"}],\"pie\":[{\"automargin\":true,\"type\":\"pie\"}]},\"layout\":{\"autotypenumbers\":\"strict\",\"colorway\":[\"#636efa\",\"#EF553B\",\"#00cc96\",\"#ab63fa\",\"#FFA15A\",\"#19d3f3\",\"#FF6692\",\"#B6E880\",\"#FF97FF\",\"#FECB52\"],\"font\":{\"color\":\"#2a3f5f\"},\"hovermode\":\"closest\",\"hoverlabel\":{\"align\":\"left\"},\"paper_bgcolor\":\"white\",\"plot_bgcolor\":\"#E5ECF6\",\"polar\":{\"bgcolor\":\"#E5ECF6\",\"angularaxis\":{\"gridcolor\":\"white\",\"linecolor\":\"white\",\"ticks\":\"\"},\"radialaxis\":{\"gridcolor\":\"white\",\"linecolor\":\"white\",\"ticks\":\"\"}},\"ternary\":{\"bgcolor\":\"#E5ECF6\",\"aaxis\":{\"gridcolor\":\"white\",\"linecolor\":\"white\",\"ticks\":\"\"},\"baxis\":{\"gridcolor\":\"white\",\"linecolor\":\"white\",\"ticks\":\"\"},\"caxis\":{\"gridcolor\":\"white\",\"linecolor\":\"white\",\"ticks\":\"\"}},\"coloraxis\":{\"colorbar\":{\"outlinewidth\":0,\"ticks\":\"\"}},\"colorscale\":{\"sequential\":[[0.0,\"#0d0887\"],[0.1111111111111111,\"#46039f\"],[0.2222222222222222,\"#7201a8\"],[0.3333333333333333,\"#9c179e\"],[0.4444444444444444,\"#bd3786\"],[0.5555555555555556,\"#d8576b\"],[0.6666666666666666,\"#ed7953\"],[0.7777777777777778,\"#fb9f3a\"],[0.8888888888888888,\"#fdca26\"],[1.0,\"#f0f921\"]],\"sequentialminus\":[[0.0,\"#0d0887\"],[0.1111111111111111,\"#46039f\"],[0.2222222222222222,\"#7201a8\"],[0.3333333333333333,\"#9c179e\"],[0.4444444444444444,\"#bd3786\"],[0.5555555555555556,\"#d8576b\"],[0.6666666666666666,\"#ed7953\"],[0.7777777777777778,\"#fb9f3a\"],[0.8888888888888888,\"#fdca26\"],[1.0,\"#f0f921\"]],\"diverging\":[[0,\"#8e0152\"],[0.1,\"#c51b7d\"],[0.2,\"#de77ae\"],[0.3,\"#f1b6da\"],[0.4,\"#fde0ef\"],[0.5,\"#f7f7f7\"],[0.6,\"#e6f5d0\"],[0.7,\"#b8e186\"],[0.8,\"#7fbc41\"],[0.9,\"#4d9221\"],[1,\"#276419\"]]},\"xaxis\":{\"gridcolor\":\"white\",\"linecolor\":\"white\",\"ticks\":\"\",\"title\":{\"standoff\":15},\"zerolinecolor\":\"white\",\"automargin\":true,\"zerolinewidth\":2},\"yaxis\":{\"gridcolor\":\"white\",\"linecolor\":\"white\",\"ticks\":\"\",\"title\":{\"standoff\":15},\"zerolinecolor\":\"white\",\"automargin\":true,\"zerolinewidth\":2},\"scene\":{\"xaxis\":{\"backgroundcolor\":\"#E5ECF6\",\"gridcolor\":\"white\",\"linecolor\":\"white\",\"showbackground\":true,\"ticks\":\"\",\"zerolinecolor\":\"white\",\"gridwidth\":2},\"yaxis\":{\"backgroundcolor\":\"#E5ECF6\",\"gridcolor\":\"white\",\"linecolor\":\"white\",\"showbackground\":true,\"ticks\":\"\",\"zerolinecolor\":\"white\",\"gridwidth\":2},\"zaxis\":{\"backgroundcolor\":\"#E5ECF6\",\"gridcolor\":\"white\",\"linecolor\":\"white\",\"showbackground\":true,\"ticks\":\"\",\"zerolinecolor\":\"white\",\"gridwidth\":2}},\"shapedefaults\":{\"line\":{\"color\":\"#2a3f5f\"}},\"annotationdefaults\":{\"arrowcolor\":\"#2a3f5f\",\"arrowhead\":0,\"arrowwidth\":1},\"geo\":{\"bgcolor\":\"white\",\"landcolor\":\"#E5ECF6\",\"subunitcolor\":\"white\",\"showland\":true,\"showlakes\":true,\"lakecolor\":\"white\"},\"title\":{\"x\":0.05},\"mapbox\":{\"style\":\"light\"}}},\"xaxis\":{\"anchor\":\"y\",\"domain\":[0.0,1.0],\"title\":{\"text\":\"min\"}},\"yaxis\":{\"anchor\":\"x\",\"domain\":[0.0,1.0],\"title\":{\"text\":\"count\"}},\"legend\":{\"title\":{\"text\":\"name\"},\"tracegroupgap\":0},\"title\":{\"text\":\"Gegentore in Minute vor Mandl\"},\"barmode\":\"overlay\"},                        {\"responsive\": true}                    ).then(function(){\n",
       "                            \n",
       "var gd = document.getElementById('daec54a9-ec46-4d1d-b920-c67c83cdd5e6');\n",
       "var x = new MutationObserver(function (mutations, observer) {{\n",
       "        var display = window.getComputedStyle(gd).display;\n",
       "        if (!display || display === 'none') {{\n",
       "            console.log([gd, 'removed!']);\n",
       "            Plotly.purge(gd);\n",
       "            observer.disconnect();\n",
       "        }}\n",
       "}});\n",
       "\n",
       "// Listen for the removal of the full notebook cells\n",
       "var notebookContainer = gd.closest('#notebook-container');\n",
       "if (notebookContainer) {{\n",
       "    x.observe(notebookContainer, {childList: true});\n",
       "}}\n",
       "\n",
       "// Listen for the clearing of the current output cell\n",
       "var outputEl = gd.closest('.output');\n",
       "if (outputEl) {{\n",
       "    x.observe(outputEl, {childList: true});\n",
       "}}\n",
       "\n",
       "                        })                };                });            </script>        </div>"
      ]
     },
     "metadata": {},
     "output_type": "display_data"
    }
   ],
   "source": [
    "df=query_database(query_table.format(\"20210701\",\"20220426\",vereine[0],vereine[0]),database=\"verbands.db\")\n",
    "df[\"min\"]=df[\"minute\"].apply(lambda x: convert_minute(x))\n",
    "fig=px.histogram(df, x=\"min\" ,color=\"name\",title=\"Auswechslungen in Minute vor Mandl\")\n",
    "fig.update_layout(barmode='overlay') #\"stack\", \"relative\", \"group\",\"overlay\"\n",
    "fig.show()"
   ]
  },
  {
   "cell_type": "markdown",
   "id": "0fc007ec",
   "metadata": {
    "slideshow": {
     "slide_type": "slide"
    }
   },
   "source": [
    "### Analyse Wechselzeitpunkt auf Ergebnis"
   ]
  },
  {
   "cell_type": "code",
   "execution_count": null,
   "id": "f84c7da8",
   "metadata": {
    "slideshow": {
     "slide_type": "skip"
    }
   },
   "outputs": [],
   "source": [
    "\n",
    "# GET TABLE\n",
    "query_table=(\"\"\"\n",
    "Select m.league,t.name, m.round, (CASE WHEN homeresult==awayresult THEN 1 WHEN homeresult>awayresult and m.home_team_id==t.id THEN 3 WHEN homeresult<awayresult and m.away_team_id==t.id THEN 3 ELSE 0 END ) as 'Points',*\n",
    "from \n",
    "(select DISTINCT match_id,team_id,GROUP_CONCAT(minute,';') as \"first_substitution_min\", count(type) as \"num_subs\" from (select DISTINCT match_id,team_id,minute,type from matches_activity) where type = 'substitution' group by match_id,team_id) a \n",
    "join (select substr(result,0,instr(result, ':')) as homeresult, substr(result,instr(result, ':') + 1) as awayresult,cast(substr(round,0,instr(round, '.')) as INT) as current_round,* from matches) m \n",
    "on m.id=a.match_id \n",
    "join  teams t on (t.id=m.away_team_id or t.id=m.home_team_id)\n",
    "where replace(date,'-','') between '20210701' and '20220426' \n",
    "         and league=\"Regionalliga Ost\"\n",
    "\t\t and a.team_id==t.id  \n",
    "order by date,starttime\n",
    "\"\"\")\n",
    "\n",
    "df=query_database(query_table.format(\"20210701\",\"20220426\",vereine[0],vereine[0]),database=\"verbands.db\")\n",
    "df[\"min\"]=df[\"first_substitution_min\"].apply(lambda x: convert_sub_minute(x))"
   ]
  },
  {
   "cell_type": "code",
   "execution_count": null,
   "id": "41ad9c2d",
   "metadata": {
    "slideshow": {
     "slide_type": "subslide"
    }
   },
   "outputs": [
    {
     "name": "stdout",
     "output_type": "stream",
     "text": [
      "Optimization terminated successfully.\n",
      "         Current function value: 1.075713\n",
      "         Iterations 5\n"
     ]
    },
    {
     "data": {
      "text/html": [
       "<table class=\"simpletable\">\n",
       "<caption>MNLogit Regression Results</caption>\n",
       "<tr>\n",
       "  <th>Dep. Variable:</th>        <td>Points</td>      <th>  No. Observations:  </th>  <td>   292</td> \n",
       "</tr>\n",
       "<tr>\n",
       "  <th>Model:</th>                <td>MNLogit</td>     <th>  Df Residuals:      </th>  <td>   288</td> \n",
       "</tr>\n",
       "<tr>\n",
       "  <th>Method:</th>                 <td>MLE</td>       <th>  Df Model:          </th>  <td>     2</td> \n",
       "</tr>\n",
       "<tr>\n",
       "  <th>Date:</th>            <td>Tue, 04 Oct 2022</td> <th>  Pseudo R-squ.:     </th> <td>0.004684</td>\n",
       "</tr>\n",
       "<tr>\n",
       "  <th>Time:</th>                <td>22:47:54</td>     <th>  Log-Likelihood:    </th> <td> -314.11</td>\n",
       "</tr>\n",
       "<tr>\n",
       "  <th>converged:</th>             <td>True</td>       <th>  LL-Null:           </th> <td> -315.59</td>\n",
       "</tr>\n",
       "<tr>\n",
       "  <th>Covariance Type:</th>     <td>nonrobust</td>    <th>  LLR p-value:       </th>  <td>0.2280</td> \n",
       "</tr>\n",
       "</table>\n",
       "<table class=\"simpletable\">\n",
       "<tr>\n",
       "  <th>Points=1</th>    <th>coef</th>     <th>std err</th>      <th>z</th>      <th>P>|z|</th>  <th>[0.025</th>    <th>0.975]</th>  \n",
       "</tr>\n",
       "<tr>\n",
       "  <th>num_subs</th> <td>   -0.2531</td> <td>    0.133</td> <td>   -1.901</td> <td> 0.057</td> <td>   -0.514</td> <td>    0.008</td>\n",
       "</tr>\n",
       "<tr>\n",
       "  <th>min</th>      <td>    0.0058</td> <td>    0.007</td> <td>    0.883</td> <td> 0.377</td> <td>   -0.007</td> <td>    0.019</td>\n",
       "</tr>\n",
       "<tr>\n",
       "  <th>Points=3</th>    <th>coef</th>     <th>std err</th>      <th>z</th>      <th>P>|z|</th>  <th>[0.025</th>    <th>0.975]</th>  \n",
       "</tr>\n",
       "<tr>\n",
       "  <th>num_subs</th> <td>   -0.1266</td> <td>    0.117</td> <td>   -1.082</td> <td> 0.279</td> <td>   -0.356</td> <td>    0.103</td>\n",
       "</tr>\n",
       "<tr>\n",
       "  <th>min</th>      <td>    0.0078</td> <td>    0.006</td> <td>    1.316</td> <td> 0.188</td> <td>   -0.004</td> <td>    0.019</td>\n",
       "</tr>\n",
       "</table>"
      ],
      "text/plain": [
       "<class 'statsmodels.iolib.summary.Summary'>\n",
       "\"\"\"\n",
       "                          MNLogit Regression Results                          \n",
       "==============================================================================\n",
       "Dep. Variable:                 Points   No. Observations:                  292\n",
       "Model:                        MNLogit   Df Residuals:                      288\n",
       "Method:                           MLE   Df Model:                            2\n",
       "Date:                Tue, 04 Oct 2022   Pseudo R-squ.:                0.004684\n",
       "Time:                        22:47:54   Log-Likelihood:                -314.11\n",
       "converged:                       True   LL-Null:                       -315.59\n",
       "Covariance Type:            nonrobust   LLR p-value:                    0.2280\n",
       "==============================================================================\n",
       "  Points=1       coef    std err          z      P>|z|      [0.025      0.975]\n",
       "------------------------------------------------------------------------------\n",
       "num_subs      -0.2531      0.133     -1.901      0.057      -0.514       0.008\n",
       "min            0.0058      0.007      0.883      0.377      -0.007       0.019\n",
       "------------------------------------------------------------------------------\n",
       "  Points=3       coef    std err          z      P>|z|      [0.025      0.975]\n",
       "------------------------------------------------------------------------------\n",
       "num_subs      -0.1266      0.117     -1.082      0.279      -0.356       0.103\n",
       "min            0.0078      0.006      1.316      0.188      -0.004       0.019\n",
       "==============================================================================\n",
       "\"\"\""
      ]
     },
     "execution_count": 39,
     "metadata": {},
     "output_type": "execute_result"
    }
   ],
   "source": [
    "from statsmodels.api import MNLogit\n",
    "MNLogit(df[\"Points\"],df.loc[:,['num_subs','min']]).fit().summary()"
   ]
  },
  {
   "cell_type": "markdown",
   "id": "3242dd49",
   "metadata": {
    "slideshow": {
     "slide_type": "subslide"
    }
   },
   "source": [
    "#### Result\n",
    "\n",
    "Einwechselzeitpunkt hat generell keine Auswirkungen auf das Ergebnis"
   ]
  },
  {
   "cell_type": "markdown",
   "id": "e604b1b0",
   "metadata": {
    "slideshow": {
     "slide_type": "slide"
    }
   },
   "source": [
    "### Kontakt\n",
    "\n",
    "Email: mar.stagl@gmail.com\n",
    "\n",
    "Tel: 0660 5755814\n"
   ]
  }
 ],
 "metadata": {
  "celltoolbar": "Slideshow",
  "kernelspec": {
   "display_name": "Python 3.9.5 64-bit",
   "language": "python",
   "name": "python3"
  },
  "language_info": {
   "codemirror_mode": {
    "name": "ipython",
    "version": 3
   },
   "file_extension": ".py",
   "mimetype": "text/x-python",
   "name": "python",
   "nbconvert_exporter": "python",
   "pygments_lexer": "ipython3",
   "version": "3.9.5"
  },
  "vscode": {
   "interpreter": {
    "hash": "acabbc1855b21a34a1bd7cdb491e3bf6ba7c00fcbb423ccb235c3e5bad118dad"
   }
  }
 },
 "nbformat": 4,
 "nbformat_minor": 5
}
